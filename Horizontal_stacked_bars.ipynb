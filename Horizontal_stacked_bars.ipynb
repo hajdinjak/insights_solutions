{
 "cells": [
  {
   "cell_type": "code",
   "execution_count": 2,
   "metadata": {},
   "outputs": [],
   "source": [
    "import pandas as pd\n",
    "import glob\n",
    "import plotly.express as px\n",
    "import plotly.io as plt_io\n",
    "import plots_library as plib\n",
    "import numpy as np\n",
    "from itertools import product\n",
    "\n",
    "\n"
   ]
  },
  {
   "cell_type": "code",
   "execution_count": 3,
   "metadata": {},
   "outputs": [],
   "source": [
    "# set global style settings\n",
    "# https://plotly.com/python/templates/\n",
    "\n",
    "plt_io.templates[\"custom_white\"] = plt_io.templates['plotly_white']\n",
    "\n",
    "# TODO: update to use permea colors\n",
    "# https://stackoverflow.com/questions/61406968/change-colors-in-python-dash-plotly-theme\n",
    "PERMEA_BLUE = ['#000D2E', '#0087B6', '#00BAD8', '#4EE3F2']\n",
    "\n",
    "# PERMEA_STYLES = \n",
    "\n",
    "TEMPLATE = 'custom_white'\n",
    "#plt_io.templates['custom_white']['layout']\n",
    "\n",
    "PERMEA_NEW_CHART_COLOR_Main_MEDICATION = \"rgb(54, 112, 226)\"\n",
    "PERMEA_NEW_CHART_COLOR_Secondary_MEDICATION = \"rgb(54, 169, 226)\"\n",
    "PERMEA_NEW_CHART_COLOR_SUB_MEDICATIONS = [\n",
    "    \"rgb(54, 169, 226)\",\n",
    "    \"rgb(54, 226, 169)\",\n",
    "    \"rgb(112, 54, 226)\",\n",
    "    \"rgb(226, 54, 169)\",\n",
    "    \"rgb(54, 226, 226)\",\n",
    "]\n",
    "PERMEA_COLOR_WHEEL_5_COMMERCIAL = [\n",
    "    \"rgb(112, 54, 226)\",\n",
    "    \"rgb(226, 54, 169)\",\n",
    "    \"rgb(54, 112, 226)\",\n",
    "    \"rgb(54, 169, 226)\",\n",
    "    \"rgb(54, 226, 169)\",\n",
    "]\n",
    "PERMEA_COLOR_WHEEL_5_STATISTICS = [\n",
    "    \"rgb(54, 112, 226)\",\n",
    "    \"rgb(54, 169, 226)\",\n",
    "    \"rgb(54, 226, 169)\",\n",
    "    \"rgb(112, 54, 226)\",\n",
    "    \"rgb(226, 54, 169)\",\n",
    "]\n",
    "\n",
    "PERMEA_COLOR_WHEEL_11_STATISTICS = [\n",
    "    \"rgb(54, 112, 226)\",\n",
    "    \"rgb(54, 169, 226)\",\n",
    "    \"rgb(54, 226, 169)\",\n",
    "    \"rgb(112, 54, 226)\",\n",
    "    \"rgb(226, 54, 169)\",\n",
    "    \"rgb(169, 54, 226)\",\n",
    "    \"rgb(169, 226, 54)\",\n",
    "    \"rgb(226, 112, 54)\",\n",
    "    \"rgb(226, 169, 54)\",\n",
    "    \"rgb(226, 226, 54)\",\n",
    "    \"rgb(54, 226, 112)\"\n",
    "]\n",
    "\n",
    "\n",
    "PERMEA_COLOR_WHEEL_11_STATISTICS_2 = [\n",
    "\"rgb(54, 112, 226)\", # Blau\n",
    "\"rgb(112, 169, 226)\", # Blaugrün\n",
    "\"rgb(54, 226, 169)\", # Türkis\n",
    "\"rgb(112, 54, 226)\", # Violett\n",
    "\"rgb(226, 54, 169)\", # Magenta\n",
    "\"rgb(169, 54, 226)\", # Purpur\n",
    "\"rgb(169, 226, 54)\", # Grün\n",
    "\"rgb(226, 112, 54)\", # Orange\n",
    "\"rgb(226, 169, 54)\", # Gelb\n",
    "\"rgb(226, 226, 54)\", # Hellgelb\n",
    "\"rgb(226, 226, 112)\" # Blaugrün\n",
    "]\n",
    "\n",
    "PERMEA_COLOR_WHEEL_11 = [\n",
    "    \"rgb(54, 112, 226)\",\n",
    "    \"rgb(54, 169, 226)\",\n",
    "    \"rgb(54, 226, 226)\",\n",
    "    \"rgb(54, 226, 169)\",\n",
    "    \"rgb(54, 226, 112)\",\n",
    "    \"rgb(54, 226, 54)\",\n",
    "    \"rgb(54, 54, 226)\",\n",
    "    \"rgb(112, 54, 226)\",\n",
    "    \"rgb(169, 54, 226)\",\n",
    "    \"rgb(226, 54, 226)\",\n",
    "    \"rgb(226, 54, 169)\",\n",
    "]\n",
    "PERMEA_COLOR_WHEEL_11_LIGHT = [\n",
    "    \"rgb(143, 175, 239)\",\n",
    "    \"rgb(143, 207, 239)\",\n",
    "    \"rgb(143, 239, 239)\",\n",
    "    \"rgb(143, 239, 207)\",\n",
    "    \"rgb(143, 239, 175)\",\n",
    "    \"rgb(143, 239, 143)\",\n",
    "    \"rgb(143, 143, 239)\",\n",
    "    \"rgb(175, 143, 239)\",\n",
    "    \"rgb(207, 143, 239)\",\n",
    "    \"rgb(239, 143, 239)\",\n",
    "    \"rgb(239, 143, 207)\",\n",
    "]\n",
    "PERMEA_BLUE_COLORSCALE = [\n",
    "    \"#005FA8\",\n",
    "    \"#2A7AB6\",\n",
    "    \"#5594C5\",\n",
    "    \"#80AFD3\",\n",
    "    \"#AACAE2\",\n",
    "    \"#D5E4F1\",\n",
    "]\n",
    "\n",
    "PERMEA_LINE_CHART = [\n",
    "    \"#009DE6\",\n",
    "    \"#D68100\",\n",
    "    \"#F44336\",\n",
    "    \"#6FA136\",\n",
    "    \"#006A6F\",\n",
    "    \"#005FA8\",\n",
    "    \"#9C27B0\",\n",
    "]\n"
   ]
  },
  {
   "cell_type": "code",
   "execution_count": 4,
   "metadata": {},
   "outputs": [],
   "source": [
    "sentiment_new_df = pd.read_parquet(r\"C:\\Users\\SanjaHajdinjak\\Temedica Dropbox\\50_Products\\Permea\\03_Projects\\Female_Health\\Dr. Kade\\April version\\brandwatch_posts_2022.12 Dr. Kade Female Health_from_2013-01-01_until_2023-05-01_scraped_on_2023-05-24.parquet\")"
   ]
  },
  {
   "cell_type": "code",
   "execution_count": 5,
   "metadata": {},
   "outputs": [],
   "source": [
    "sentiment_new_df['subcategory'] = sentiment_new_df['subcategory'].replace('Going to a pharmacy', 'Apotheke')\n",
    "sentiment_new_df['subcategory'] = sentiment_new_df['subcategory'].replace('Online retailers', 'Online-Einzelhändler')\n",
    "sentiment_new_df['subcategory'] = sentiment_new_df['subcategory'].replace('Retailers', 'Einzelhändler')\n",
    "sentiment_new_df['subcategory'] = sentiment_new_df['subcategory'].replace('Online apotheke', 'Online Apotheke')\n",
    "\n",
    "\n",
    "\n",
    "sentiment_new_df['subcategory'] = sentiment_new_df['subcategory'].replace('Kadefungin overall', 'Kadefungin')\n",
    "sentiment_new_df['subcategory'] = sentiment_new_df['subcategory'].replace('Canesten overall', 'Canesten')\n",
    "sentiment_new_df['subcategory'] = sentiment_new_df['subcategory'].replace('Vagisan overall', 'Vagisan')\n",
    "sentiment_new_df['subcategory'] = sentiment_new_df['subcategory'].replace('Buscopan overall', 'Buscopan')\n",
    "sentiment_new_df['subcategory'] = sentiment_new_df['subcategory'].replace('Deumavan overall', 'Deumavan')\n",
    "sentiment_new_df['subcategory'] = sentiment_new_df['subcategory'].replace('Kadefemin overall', 'Kadefemin')\n",
    "sentiment_new_df['subcategory'] = sentiment_new_df['subcategory'].replace('KADEZYKLUS', 'Kadezyklus')\n",
    "sentiment_new_df['subcategory'] = sentiment_new_df['subcategory'].replace('MULTI GYN K_P (G01D)', 'Multi-Gyn')\n",
    "\n",
    "\n",
    "\n",
    "\n",
    "\n",
    "sentiment_new_df['subcategory'] = sentiment_new_df['subcategory'].replace('Topical', 'Topisch')\n",
    "sentiment_new_df['subcategory'] = sentiment_new_df['subcategory'].replace('Pregnancy', 'Schwangerschaft')\n",
    "\n",
    "\n",
    "sentiment_new_df['subcategory'] = sentiment_new_df['subcategory'].replace('VaginalYeast_Overall', 'Scheidenpilz')\n",
    "sentiment_new_df['subcategory'] = sentiment_new_df['subcategory'].replace('VaginalDryness_Overall', 'Scheidentrockenheit')\n",
    "sentiment_new_df['subcategory'] = sentiment_new_df['subcategory'].replace('Vaginal flora_Overall', 'Scheidenflora')\n",
    "sentiment_new_df['subcategory'] = sentiment_new_df['subcategory'].replace('Menopause_Overall', 'Menopause')\n",
    "sentiment_new_df['subcategory'] = sentiment_new_df['subcategory'].replace('Period/pms_Overall', 'Zyklusbeschwerden')\n",
    "\n",
    "sentiment_new_df['subcategory'] = sentiment_new_df['subcategory'].replace('Pharmacist', 'ApothekerInnen')\n",
    "sentiment_new_df['subcategory'] = sentiment_new_df['subcategory'].replace('General Practitioner', 'AllgemeinmedizinerInnen')\n",
    "sentiment_new_df['subcategory'] = sentiment_new_df['subcategory'].replace('Gynecologist','GynäkologInnen')\n",
    "sentiment_new_df['subcategory'] = sentiment_new_df['subcategory'].replace('Midwife', 'Hebammen')\n",
    "sentiment_new_df['subcategory'] = sentiment_new_df['subcategory'].replace('Nurse', 'KrankenpflegerInnen')\n",
    "sentiment_new_df['subcategory'] = sentiment_new_df['subcategory'].replace('Internet Research', 'Internetrecherche')\n",
    "sentiment_new_df['subcategory'] = sentiment_new_df['subcategory'].replace('Advertisment', 'Werbung')\n",
    "sentiment_new_df['subcategory'] = sentiment_new_df['subcategory'].replace('Recommendation', 'Empfehlung')\n",
    "\n",
    "sentiment_new_df['subcategory'] = sentiment_new_df['subcategory'].replace('OCT_produkt', 'Freiverkäuflich')\n",
    "sentiment_new_df['subcategory'] = sentiment_new_df['subcategory'].replace('RX_produkt', 'Rezeptpflichtig')\n",
    "\n",
    "sentiment_new_df['subcategory'] = sentiment_new_df['subcategory'].replace('Experts', 'Medizinische Experten')\n",
    "sentiment_new_df['subcategory'] = sentiment_new_df['subcategory'].replace('Mode of Administration', 'Darreichnungsform')\n",
    "sentiment_new_df['subcategory'] = sentiment_new_df['subcategory'].replace('Symptoms', 'Symptome')\n",
    "\n",
    "\n",
    "\n",
    "\n",
    "\n",
    "\n",
    "\n",
    "\n",
    "\n"
   ]
  },
  {
   "cell_type": "code",
   "execution_count": 6,
   "metadata": {},
   "outputs": [],
   "source": [
    "# Lenses\n",
    "\n",
    "symptoms = ['Juckreiz', 'Brennen',\n",
    "            'Schmerzen', 'Schwellungen',\n",
    "            'Rötung', 'Ausfluss',\n",
    "            'Trockenheit',\n",
    "            'Geruch', 'Druckgefühl',\n",
    "            'Entzündungen', 'Blutung',\n",
    "            'Hitzewallungen', 'Schweißausbrüche',\n",
    "            'Stimmungsschwankungen']\n",
    "\n",
    "\n",
    "top_symptoms = ['Juckreiz', 'Brennen',\n",
    "            'Schmerzen', 'Schwellungen',\n",
    "            'Ausfluss',\n",
    "            'Trockenheit',\n",
    "            'Geruch',\n",
    "            'Stimmungsschwankungen']\n",
    "\n",
    "advice_from = {\n",
    "    'ApothekerInnen',\n",
    "    'AllgemeinmedizinerInnen',\n",
    "    'GynäkologeInnen',\n",
    "    \"GynäkologInnen\",\n",
    "    'Hebammen',\n",
    "    'KrankenpflegerInnen',\n",
    "    'Peers',\n",
    "    'Internetrecherche',\n",
    "    'Werbung',\n",
    "}\n",
    "\n",
    "market_area =['Scheidenpilz',\n",
    "        'Scheidentrockenheit',\n",
    "        'Scheidenflora',\n",
    "        'Menopause',\n",
    "        'Zyklusbeschwerden']\n",
    "\n",
    "\n",
    "buying_channel = ['Online kaufen', 'Apotheke', 'Online-Einzelhändler', 'Einzelhändler', \"Online Apotheke\"]\n",
    "\n",
    "website = ['Kade Website', 'Vagisan Website']\n",
    "\n",
    "\n",
    "\n",
    "main_brands = ['Kadefungin', 'Kadefemin',\n",
    "               'Kadezyklus', 'Canesten',\n",
    "               'Multi Gyn', 'Vagisan',\n",
    "               'Buscopan', \"Deumavan\"]\n",
    "\n",
    "filter_main_brands = ['Kadefungin', 'Kadefemin',\n",
    "               'Canesten',\n",
    "               'Vagisan',\n",
    "               'Buscopan', \"Deumavan\"]\n",
    "\n",
    "\n",
    "main_brands_multigyn = ['Kadefungin', 'Kadefemin',\n",
    "               'Kadezyklus', 'Canesten',\n",
    "               'Vagisan',\n",
    "               'Buscopan', \"Deumavan\"]\n",
    "\n",
    "main_brands_multigyn_kadezyklus_kadefemin = ['Kadefungin',\n",
    "               'Canesten',\n",
    "               'Vagisan',\n",
    "               'Buscopan', \"Deumavan\"]\n",
    "\n",
    "\n",
    "mode_of_administration = ['Vaginal', 'Oral', 'Topical']   \n",
    "\n",
    "milchsaure = ['Milchsäurebakterien', 'Milchsäure']\n",
    "\n",
    "pregnancy = ['Pregnancy']\n",
    "\n",
    "\n",
    "mode_of_administration = ['Vaginal', 'Oral', 'Topisch']\n",
    "milchsaure = ['Milchsäurebakterien', 'Milchsäure']\n",
    "\n",
    "rx = [\"Freiverkäuflich\", \"Rezeptpflichtig\"]\n",
    "\n",
    "\n",
    "online_shopping = ['Online kaufen']\n",
    "\n",
    "online_shopping_mix = ['Medizinische Experten', 'Empfehlung',\n",
    "                       'Schwangerschaft', 'Symptome', 'Freiverkäuflich',\n",
    "                       'Rezeptpflichtig', 'Scheidenpilz',\n",
    "                       'Scheidenflora', 'Menopause', 'Zyklusbeschwerden']\n",
    "\n"
   ]
  },
  {
   "cell_type": "code",
   "execution_count": 7,
   "metadata": {},
   "outputs": [
    {
     "ename": "KeyboardInterrupt",
     "evalue": "",
     "output_type": "error",
     "traceback": [
      "\u001b[1;31m---------------------------------------------------------------------------\u001b[0m",
      "\u001b[1;31mKeyboardInterrupt\u001b[0m                         Traceback (most recent call last)",
      "Cell \u001b[1;32mIn[7], line 114\u001b[0m\n\u001b[0;32m    108\u001b[0m     \u001b[39m#fig.write_image(save_name+\".png\")\u001b[39;00m\n\u001b[0;32m    110\u001b[0m     fig\u001b[39m.\u001b[39mshow()\n\u001b[1;32m--> 114\u001b[0m df, counts\u001b[39m=\u001b[39m combine_subcategories(sentiment_new_df, filter_main_brands, top_symptoms)\n\u001b[0;32m    115\u001b[0m filter_and_plot(df, counts, \u001b[39m\"\u001b[39m\u001b[39mHauptprodukte\u001b[39m\u001b[39m\"\u001b[39m, \u001b[39m\"\u001b[39m\u001b[39mSymptome\u001b[39m\u001b[39m\"\u001b[39m, save_name\u001b[39m=\u001b[39m\u001b[39m\"\u001b[39m\u001b[39mHauptprodukte_Symptome\u001b[39m\u001b[39m\"\u001b[39m)\n",
      "Cell \u001b[1;32mIn[7], line 18\u001b[0m, in \u001b[0;36mcombine_subcategories\u001b[1;34m(df, lense_1, lense_2)\u001b[0m\n\u001b[0;32m     14\u001b[0m \u001b[39m# Iterate through combinations and count occurrences\u001b[39;00m\n\u001b[0;32m     15\u001b[0m \u001b[39mfor\u001b[39;00m subcategory_1, subcategory_2 \u001b[39min\u001b[39;00m combinations_list:\n\u001b[0;32m     16\u001b[0m     ids \u001b[39m=\u001b[39m sentiment_new_df\u001b[39m.\u001b[39mloc[\n\u001b[0;32m     17\u001b[0m         (sentiment_new_df[\u001b[39m'\u001b[39m\u001b[39msubcategory\u001b[39m\u001b[39m'\u001b[39m] \u001b[39m==\u001b[39m subcategory_1) \u001b[39m&\u001b[39m\n\u001b[1;32m---> 18\u001b[0m         (sentiment_new_df[\u001b[39m'\u001b[39m\u001b[39mid\u001b[39m\u001b[39m'\u001b[39m]\u001b[39m.\u001b[39misin(sentiment_new_df\u001b[39m.\u001b[39mloc[sentiment_new_df[\u001b[39m'\u001b[39;49m\u001b[39msubcategory\u001b[39;49m\u001b[39m'\u001b[39;49m] \u001b[39m==\u001b[39;49m subcategory_2, \u001b[39m'\u001b[39m\u001b[39mid\u001b[39m\u001b[39m'\u001b[39m])),\n\u001b[0;32m     19\u001b[0m         \u001b[39m'\u001b[39m\u001b[39mid\u001b[39m\u001b[39m'\u001b[39m\n\u001b[0;32m     20\u001b[0m     ]\u001b[39m.\u001b[39munique()\n\u001b[0;32m     21\u001b[0m     count \u001b[39m=\u001b[39m \u001b[39mlen\u001b[39m(ids)\n\u001b[0;32m     22\u001b[0m     combination_counts[(subcategory_1, subcategory_2)] \u001b[39m=\u001b[39m count\n",
      "File \u001b[1;32mc:\\Users\\SanjaHajdinjak\\Documents\\code\\.venv\\lib\\site-packages\\pandas\\core\\ops\\common.py:81\u001b[0m, in \u001b[0;36m_unpack_zerodim_and_defer.<locals>.new_method\u001b[1;34m(self, other)\u001b[0m\n\u001b[0;32m     77\u001b[0m             \u001b[39mreturn\u001b[39;00m \u001b[39mNotImplemented\u001b[39m\n\u001b[0;32m     79\u001b[0m other \u001b[39m=\u001b[39m item_from_zerodim(other)\n\u001b[1;32m---> 81\u001b[0m \u001b[39mreturn\u001b[39;00m method(\u001b[39mself\u001b[39;49m, other)\n",
      "File \u001b[1;32mc:\\Users\\SanjaHajdinjak\\Documents\\code\\.venv\\lib\\site-packages\\pandas\\core\\arraylike.py:40\u001b[0m, in \u001b[0;36mOpsMixin.__eq__\u001b[1;34m(self, other)\u001b[0m\n\u001b[0;32m     38\u001b[0m \u001b[39m@unpack_zerodim_and_defer\u001b[39m(\u001b[39m\"\u001b[39m\u001b[39m__eq__\u001b[39m\u001b[39m\"\u001b[39m)\n\u001b[0;32m     39\u001b[0m \u001b[39mdef\u001b[39;00m \u001b[39m__eq__\u001b[39m(\u001b[39mself\u001b[39m, other):\n\u001b[1;32m---> 40\u001b[0m     \u001b[39mreturn\u001b[39;00m \u001b[39mself\u001b[39;49m\u001b[39m.\u001b[39;49m_cmp_method(other, operator\u001b[39m.\u001b[39;49meq)\n",
      "File \u001b[1;32mc:\\Users\\SanjaHajdinjak\\Documents\\code\\.venv\\lib\\site-packages\\pandas\\core\\series.py:6092\u001b[0m, in \u001b[0;36mSeries._cmp_method\u001b[1;34m(self, other, op)\u001b[0m\n\u001b[0;32m   6089\u001b[0m rvalues \u001b[39m=\u001b[39m extract_array(other, extract_numpy\u001b[39m=\u001b[39m\u001b[39mTrue\u001b[39;00m, extract_range\u001b[39m=\u001b[39m\u001b[39mTrue\u001b[39;00m)\n\u001b[0;32m   6091\u001b[0m \u001b[39mwith\u001b[39;00m np\u001b[39m.\u001b[39merrstate(\u001b[39mall\u001b[39m\u001b[39m=\u001b[39m\u001b[39m\"\u001b[39m\u001b[39mignore\u001b[39m\u001b[39m\"\u001b[39m):\n\u001b[1;32m-> 6092\u001b[0m     res_values \u001b[39m=\u001b[39m ops\u001b[39m.\u001b[39;49mcomparison_op(lvalues, rvalues, op)\n\u001b[0;32m   6094\u001b[0m \u001b[39mreturn\u001b[39;00m \u001b[39mself\u001b[39m\u001b[39m.\u001b[39m_construct_result(res_values, name\u001b[39m=\u001b[39mres_name)\n",
      "File \u001b[1;32mc:\\Users\\SanjaHajdinjak\\Documents\\code\\.venv\\lib\\site-packages\\pandas\\core\\ops\\array_ops.py:293\u001b[0m, in \u001b[0;36mcomparison_op\u001b[1;34m(left, right, op)\u001b[0m\n\u001b[0;32m    290\u001b[0m     \u001b[39mreturn\u001b[39;00m invalid_comparison(lvalues, rvalues, op)\n\u001b[0;32m    292\u001b[0m \u001b[39melif\u001b[39;00m is_object_dtype(lvalues\u001b[39m.\u001b[39mdtype) \u001b[39mor\u001b[39;00m \u001b[39misinstance\u001b[39m(rvalues, \u001b[39mstr\u001b[39m):\n\u001b[1;32m--> 293\u001b[0m     res_values \u001b[39m=\u001b[39m comp_method_OBJECT_ARRAY(op, lvalues, rvalues)\n\u001b[0;32m    295\u001b[0m \u001b[39melse\u001b[39;00m:\n\u001b[0;32m    296\u001b[0m     res_values \u001b[39m=\u001b[39m _na_arithmetic_op(lvalues, rvalues, op, is_cmp\u001b[39m=\u001b[39m\u001b[39mTrue\u001b[39;00m)\n",
      "File \u001b[1;32mc:\\Users\\SanjaHajdinjak\\Documents\\code\\.venv\\lib\\site-packages\\pandas\\core\\ops\\array_ops.py:83\u001b[0m, in \u001b[0;36mcomp_method_OBJECT_ARRAY\u001b[1;34m(op, x, y)\u001b[0m\n\u001b[0;32m     81\u001b[0m \u001b[39melse\u001b[39;00m:\n\u001b[0;32m     82\u001b[0m     result \u001b[39m=\u001b[39m libops\u001b[39m.\u001b[39mscalar_compare(x\u001b[39m.\u001b[39mravel(), y, op)\n\u001b[1;32m---> 83\u001b[0m \u001b[39mreturn\u001b[39;00m result\u001b[39m.\u001b[39;49mreshape(x\u001b[39m.\u001b[39;49mshape)\n",
      "\u001b[1;31mKeyboardInterrupt\u001b[0m: "
     ]
    }
   ],
   "source": [
    "\n",
    "def combine_subcategories(df, lense_1, lense_2):\n",
    "\n",
    "    # Generate combinations of unique subcategories across buying_channel and experts\n",
    "    combinations_list = list(product(lense_1, lense_2))\n",
    "\n",
    "    # Create new dataframe with combination pairs\n",
    "    combination_df = pd.DataFrame(combinations_list, columns=['Subcategory 1', 'Subcategory 2'])\n",
    "\n",
    "    # Initialize dictionary to store combination counts\n",
    "    combination_counts = {}\n",
    "    id_values = set()\n",
    "\n",
    "\n",
    "    # Iterate through combinations and count occurrences\n",
    "    for subcategory_1, subcategory_2 in combinations_list:\n",
    "        ids = sentiment_new_df.loc[\n",
    "            (sentiment_new_df['subcategory'] == subcategory_1) &\n",
    "            (sentiment_new_df['id'].isin(sentiment_new_df.loc[sentiment_new_df['subcategory'] == subcategory_2, 'id'])),\n",
    "            'id'\n",
    "        ].unique()\n",
    "        count = len(ids)\n",
    "        combination_counts[(subcategory_1, subcategory_2)] = count\n",
    "        id_values.update(ids)\n",
    "    \n",
    "\n",
    "    # Create new dataframe from combination counts\n",
    "    combination_counts_df = pd.DataFrame(combination_counts.items(), columns=['combination', 'count'])\n",
    "    combination_counts_df[['subcategory_1', 'subcategory_2']] = pd.DataFrame(combination_counts_df['combination'].tolist())\n",
    "    combination_counts_df = combination_counts_df.drop('combination', axis=1)\n",
    "    #combination_counts_df = combination_counts_df[combination_counts_df[lense_1] != \"Multi Gyn\"]\n",
    "    #combination_counts_df = combination_counts_df[combination_counts_df[lense_2] != \"Kadezyklus\"]\n",
    "\n",
    "\n",
    "\n",
    "\n",
    "    # Store the number of unique id values from which combinations were found\n",
    "    n_posts = len(id_values)\n",
    "\n",
    "    #print(combination_counts_df)\n",
    "\n",
    "    return combination_counts_df, n_posts\n",
    "\n",
    "\n",
    "\n",
    "\n",
    "\n",
    "def filter_and_plot(df, counts, cat1, cat2, save_name=\"img\"):\n",
    "\n",
    "    #df = df[df[cat1] != \"Multi Gyn\"]\n",
    "    #df = df[df[cat1] != \"Kadezyklus\"]\n",
    "    \n",
    "    fig = px.histogram(\n",
    "        df,\n",
    "        x=\"count\",\n",
    "        y=\"subcategory_1\",\n",
    "        color=\"subcategory_2\",\n",
    "        barnorm=\"percent\",\n",
    "        orientation=\"h\",\n",
    "        labels={\n",
    "            \"subcategory_1\": \"\",\n",
    "            \"subcategory_2\": \"\",\n",
    "            \"count\": cat2,\n",
    "        },\n",
    "        color_discrete_sequence=PERMEA_COLOR_WHEEL_11_STATISTICS,\n",
    "        text_auto=\".0f\",\n",
    "        title=f'Anzahl der Social - Media - Posts mit der Kombination: {cat1} und {cat2}',\n",
    "        template=\"plotly_white\",\n",
    "        category_orders={\n",
    "            \"subcategory_1\": cat1,\n",
    "            \"subcategory_2\": cat2\n",
    "        })\n",
    "    \n",
    "\n",
    "    fig.add_annotation(dict(font=dict(size=9),\n",
    "                        x=-0.25,\n",
    "                        y=-0.34,\n",
    "                        showarrow=False,\n",
    "                        #text=f'Based on {counts} Social Media Conversations from publicy available forums mentioning {cat1} and {cat2} <br> Germany, January 2013 – April 2023.',\n",
    "                        text=f\"Basierend auf {counts} Social-Media-Konversationen aus öffentlich zugänglichen Foren <br>Deutschland, Januar 2013 – April 2023.\",                       \n",
    "                        textangle=0,\n",
    "                        xanchor='left',\n",
    "                        xref=\"paper\",\n",
    "                        yref=\"paper\",\n",
    "                        align=\"left\"\n",
    "))\n",
    "    \n",
    "\n",
    "    fig.update_layout(\n",
    "    template='plotly_white',\n",
    "    xaxis_title='Anteil der Posts in %',\n",
    "    yaxis_title=cat1,\n",
    "    #yaxis_range=[0, 1.1 * df['Count'].max()],\n",
    "    #xaxis=dict(\n",
    "        #tickmode='linear',\n",
    "        #dtick=1,\n",
    "        #automargin=True\n",
    "    #),\n",
    "    yaxis={'automargin': True},\n",
    "    #margin=dict(l=130, r=150, b=10, pad=30),\n",
    "    autosize=False,\n",
    "    width=20 * 37.8,  # Convert 20 cm to inches (1 cm = 37.8 inches)\n",
    "    height=10 * 37.8,  # Convert 9 cm to inches (1 cm = 37.8 inches)\n",
    "    legend=dict(font=dict(size=16))\n",
    "    )\n",
    "    \n",
    "    \n",
    "        \n",
    "    #fig.write_image(save_name+\".png\")\n",
    "    \n",
    "    fig.show()\n",
    "    \n",
    "\n",
    "\n",
    "df, counts= combine_subcategories(sentiment_new_df, filter_main_brands, top_symptoms)\n",
    "filter_and_plot(df, counts, \"Hauptprodukte\", \"Symptome\", save_name=\"Hauptprodukte_Symptome\")\n",
    "\n",
    "\n",
    "\n"
   ]
  },
  {
   "cell_type": "code",
   "execution_count": null,
   "metadata": {},
   "outputs": [
    {
     "data": {
      "application/vnd.plotly.v1+json": {
       "config": {
        "plotlyServerURL": "https://plot.ly"
       },
       "data": [
        {
         "alignmentgroup": "True",
         "bingroup": "y",
         "histfunc": "sum",
         "hovertemplate": "=%{y}<br>sum of Freiverkäuflich vs Rezeptpflichtig (normalized as percent)=%{x}<extra></extra>",
         "legendgroup": "Freiverkäuflich",
         "marker": {
          "color": "rgb(226, 169, 54)",
          "pattern": {
           "shape": ""
          }
         },
         "name": "Freiverkäuflich",
         "offsetgroup": "Freiverkäuflich",
         "orientation": "h",
         "showlegend": true,
         "texttemplate": "%{value:.0f}",
         "type": "histogram",
         "x": [
          1377,
          8,
          4,
          1057,
          3130,
          3370,
          2054
         ],
         "xaxis": "x",
         "y": [
          "Kadefungin",
          "Kadefemin",
          "Kadezyklus",
          "Canesten",
          "Vagisan",
          "Buscopan",
          "Deumavan"
         ],
         "yaxis": "y"
        },
        {
         "alignmentgroup": "True",
         "bingroup": "y",
         "histfunc": "sum",
         "hovertemplate": "=%{y}<br>sum of Freiverkäuflich vs Rezeptpflichtig (normalized as percent)=%{x}<extra></extra>",
         "legendgroup": "Rezeptpflichtig",
         "marker": {
          "color": "rgb(226, 226, 54)",
          "pattern": {
           "shape": ""
          }
         },
         "name": "Rezeptpflichtig",
         "offsetgroup": "Rezeptpflichtig",
         "orientation": "h",
         "showlegend": true,
         "texttemplate": "%{value:.0f}",
         "type": "histogram",
         "x": [
          433,
          0,
          0,
          382,
          86,
          4,
          28
         ],
         "xaxis": "x",
         "y": [
          "Kadefungin",
          "Kadefemin",
          "Kadezyklus",
          "Canesten",
          "Vagisan",
          "Buscopan",
          "Deumavan"
         ],
         "yaxis": "y"
        }
       ],
       "layout": {
        "annotations": [
         {
          "align": "left",
          "font": {
           "size": 9
          },
          "showarrow": false,
          "text": "Basierend auf 11003 Social-Media-Konversationen aus öffentlich zugänglichen Foren <br>Deutschland, Januar 2013 – April 2023.",
          "textangle": 0,
          "x": -0.25,
          "xanchor": "left",
          "xref": "paper",
          "y": -0.34,
          "yref": "paper"
         }
        ],
        "autosize": false,
        "barmode": "relative",
        "barnorm": "percent",
        "height": 378,
        "legend": {
         "font": {
          "size": 16
         },
         "title": {
          "text": ""
         },
         "tracegroupgap": 0
        },
        "template": {
         "data": {
          "bar": [
           {
            "error_x": {
             "color": "#2a3f5f"
            },
            "error_y": {
             "color": "#2a3f5f"
            },
            "marker": {
             "line": {
              "color": "white",
              "width": 0.5
             },
             "pattern": {
              "fillmode": "overlay",
              "size": 10,
              "solidity": 0.2
             }
            },
            "type": "bar"
           }
          ],
          "barpolar": [
           {
            "marker": {
             "line": {
              "color": "white",
              "width": 0.5
             },
             "pattern": {
              "fillmode": "overlay",
              "size": 10,
              "solidity": 0.2
             }
            },
            "type": "barpolar"
           }
          ],
          "carpet": [
           {
            "aaxis": {
             "endlinecolor": "#2a3f5f",
             "gridcolor": "#C8D4E3",
             "linecolor": "#C8D4E3",
             "minorgridcolor": "#C8D4E3",
             "startlinecolor": "#2a3f5f"
            },
            "baxis": {
             "endlinecolor": "#2a3f5f",
             "gridcolor": "#C8D4E3",
             "linecolor": "#C8D4E3",
             "minorgridcolor": "#C8D4E3",
             "startlinecolor": "#2a3f5f"
            },
            "type": "carpet"
           }
          ],
          "choropleth": [
           {
            "colorbar": {
             "outlinewidth": 0,
             "ticks": ""
            },
            "type": "choropleth"
           }
          ],
          "contour": [
           {
            "colorbar": {
             "outlinewidth": 0,
             "ticks": ""
            },
            "colorscale": [
             [
              0,
              "#0d0887"
             ],
             [
              0.1111111111111111,
              "#46039f"
             ],
             [
              0.2222222222222222,
              "#7201a8"
             ],
             [
              0.3333333333333333,
              "#9c179e"
             ],
             [
              0.4444444444444444,
              "#bd3786"
             ],
             [
              0.5555555555555556,
              "#d8576b"
             ],
             [
              0.6666666666666666,
              "#ed7953"
             ],
             [
              0.7777777777777778,
              "#fb9f3a"
             ],
             [
              0.8888888888888888,
              "#fdca26"
             ],
             [
              1,
              "#f0f921"
             ]
            ],
            "type": "contour"
           }
          ],
          "contourcarpet": [
           {
            "colorbar": {
             "outlinewidth": 0,
             "ticks": ""
            },
            "type": "contourcarpet"
           }
          ],
          "heatmap": [
           {
            "colorbar": {
             "outlinewidth": 0,
             "ticks": ""
            },
            "colorscale": [
             [
              0,
              "#0d0887"
             ],
             [
              0.1111111111111111,
              "#46039f"
             ],
             [
              0.2222222222222222,
              "#7201a8"
             ],
             [
              0.3333333333333333,
              "#9c179e"
             ],
             [
              0.4444444444444444,
              "#bd3786"
             ],
             [
              0.5555555555555556,
              "#d8576b"
             ],
             [
              0.6666666666666666,
              "#ed7953"
             ],
             [
              0.7777777777777778,
              "#fb9f3a"
             ],
             [
              0.8888888888888888,
              "#fdca26"
             ],
             [
              1,
              "#f0f921"
             ]
            ],
            "type": "heatmap"
           }
          ],
          "heatmapgl": [
           {
            "colorbar": {
             "outlinewidth": 0,
             "ticks": ""
            },
            "colorscale": [
             [
              0,
              "#0d0887"
             ],
             [
              0.1111111111111111,
              "#46039f"
             ],
             [
              0.2222222222222222,
              "#7201a8"
             ],
             [
              0.3333333333333333,
              "#9c179e"
             ],
             [
              0.4444444444444444,
              "#bd3786"
             ],
             [
              0.5555555555555556,
              "#d8576b"
             ],
             [
              0.6666666666666666,
              "#ed7953"
             ],
             [
              0.7777777777777778,
              "#fb9f3a"
             ],
             [
              0.8888888888888888,
              "#fdca26"
             ],
             [
              1,
              "#f0f921"
             ]
            ],
            "type": "heatmapgl"
           }
          ],
          "histogram": [
           {
            "marker": {
             "pattern": {
              "fillmode": "overlay",
              "size": 10,
              "solidity": 0.2
             }
            },
            "type": "histogram"
           }
          ],
          "histogram2d": [
           {
            "colorbar": {
             "outlinewidth": 0,
             "ticks": ""
            },
            "colorscale": [
             [
              0,
              "#0d0887"
             ],
             [
              0.1111111111111111,
              "#46039f"
             ],
             [
              0.2222222222222222,
              "#7201a8"
             ],
             [
              0.3333333333333333,
              "#9c179e"
             ],
             [
              0.4444444444444444,
              "#bd3786"
             ],
             [
              0.5555555555555556,
              "#d8576b"
             ],
             [
              0.6666666666666666,
              "#ed7953"
             ],
             [
              0.7777777777777778,
              "#fb9f3a"
             ],
             [
              0.8888888888888888,
              "#fdca26"
             ],
             [
              1,
              "#f0f921"
             ]
            ],
            "type": "histogram2d"
           }
          ],
          "histogram2dcontour": [
           {
            "colorbar": {
             "outlinewidth": 0,
             "ticks": ""
            },
            "colorscale": [
             [
              0,
              "#0d0887"
             ],
             [
              0.1111111111111111,
              "#46039f"
             ],
             [
              0.2222222222222222,
              "#7201a8"
             ],
             [
              0.3333333333333333,
              "#9c179e"
             ],
             [
              0.4444444444444444,
              "#bd3786"
             ],
             [
              0.5555555555555556,
              "#d8576b"
             ],
             [
              0.6666666666666666,
              "#ed7953"
             ],
             [
              0.7777777777777778,
              "#fb9f3a"
             ],
             [
              0.8888888888888888,
              "#fdca26"
             ],
             [
              1,
              "#f0f921"
             ]
            ],
            "type": "histogram2dcontour"
           }
          ],
          "mesh3d": [
           {
            "colorbar": {
             "outlinewidth": 0,
             "ticks": ""
            },
            "type": "mesh3d"
           }
          ],
          "parcoords": [
           {
            "line": {
             "colorbar": {
              "outlinewidth": 0,
              "ticks": ""
             }
            },
            "type": "parcoords"
           }
          ],
          "pie": [
           {
            "automargin": true,
            "type": "pie"
           }
          ],
          "scatter": [
           {
            "fillpattern": {
             "fillmode": "overlay",
             "size": 10,
             "solidity": 0.2
            },
            "type": "scatter"
           }
          ],
          "scatter3d": [
           {
            "line": {
             "colorbar": {
              "outlinewidth": 0,
              "ticks": ""
             }
            },
            "marker": {
             "colorbar": {
              "outlinewidth": 0,
              "ticks": ""
             }
            },
            "type": "scatter3d"
           }
          ],
          "scattercarpet": [
           {
            "marker": {
             "colorbar": {
              "outlinewidth": 0,
              "ticks": ""
             }
            },
            "type": "scattercarpet"
           }
          ],
          "scattergeo": [
           {
            "marker": {
             "colorbar": {
              "outlinewidth": 0,
              "ticks": ""
             }
            },
            "type": "scattergeo"
           }
          ],
          "scattergl": [
           {
            "marker": {
             "colorbar": {
              "outlinewidth": 0,
              "ticks": ""
             }
            },
            "type": "scattergl"
           }
          ],
          "scattermapbox": [
           {
            "marker": {
             "colorbar": {
              "outlinewidth": 0,
              "ticks": ""
             }
            },
            "type": "scattermapbox"
           }
          ],
          "scatterpolar": [
           {
            "marker": {
             "colorbar": {
              "outlinewidth": 0,
              "ticks": ""
             }
            },
            "type": "scatterpolar"
           }
          ],
          "scatterpolargl": [
           {
            "marker": {
             "colorbar": {
              "outlinewidth": 0,
              "ticks": ""
             }
            },
            "type": "scatterpolargl"
           }
          ],
          "scatterternary": [
           {
            "marker": {
             "colorbar": {
              "outlinewidth": 0,
              "ticks": ""
             }
            },
            "type": "scatterternary"
           }
          ],
          "surface": [
           {
            "colorbar": {
             "outlinewidth": 0,
             "ticks": ""
            },
            "colorscale": [
             [
              0,
              "#0d0887"
             ],
             [
              0.1111111111111111,
              "#46039f"
             ],
             [
              0.2222222222222222,
              "#7201a8"
             ],
             [
              0.3333333333333333,
              "#9c179e"
             ],
             [
              0.4444444444444444,
              "#bd3786"
             ],
             [
              0.5555555555555556,
              "#d8576b"
             ],
             [
              0.6666666666666666,
              "#ed7953"
             ],
             [
              0.7777777777777778,
              "#fb9f3a"
             ],
             [
              0.8888888888888888,
              "#fdca26"
             ],
             [
              1,
              "#f0f921"
             ]
            ],
            "type": "surface"
           }
          ],
          "table": [
           {
            "cells": {
             "fill": {
              "color": "#EBF0F8"
             },
             "line": {
              "color": "white"
             }
            },
            "header": {
             "fill": {
              "color": "#C8D4E3"
             },
             "line": {
              "color": "white"
             }
            },
            "type": "table"
           }
          ]
         },
         "layout": {
          "annotationdefaults": {
           "arrowcolor": "#2a3f5f",
           "arrowhead": 0,
           "arrowwidth": 1
          },
          "autotypenumbers": "strict",
          "coloraxis": {
           "colorbar": {
            "outlinewidth": 0,
            "ticks": ""
           }
          },
          "colorscale": {
           "diverging": [
            [
             0,
             "#8e0152"
            ],
            [
             0.1,
             "#c51b7d"
            ],
            [
             0.2,
             "#de77ae"
            ],
            [
             0.3,
             "#f1b6da"
            ],
            [
             0.4,
             "#fde0ef"
            ],
            [
             0.5,
             "#f7f7f7"
            ],
            [
             0.6,
             "#e6f5d0"
            ],
            [
             0.7,
             "#b8e186"
            ],
            [
             0.8,
             "#7fbc41"
            ],
            [
             0.9,
             "#4d9221"
            ],
            [
             1,
             "#276419"
            ]
           ],
           "sequential": [
            [
             0,
             "#0d0887"
            ],
            [
             0.1111111111111111,
             "#46039f"
            ],
            [
             0.2222222222222222,
             "#7201a8"
            ],
            [
             0.3333333333333333,
             "#9c179e"
            ],
            [
             0.4444444444444444,
             "#bd3786"
            ],
            [
             0.5555555555555556,
             "#d8576b"
            ],
            [
             0.6666666666666666,
             "#ed7953"
            ],
            [
             0.7777777777777778,
             "#fb9f3a"
            ],
            [
             0.8888888888888888,
             "#fdca26"
            ],
            [
             1,
             "#f0f921"
            ]
           ],
           "sequentialminus": [
            [
             0,
             "#0d0887"
            ],
            [
             0.1111111111111111,
             "#46039f"
            ],
            [
             0.2222222222222222,
             "#7201a8"
            ],
            [
             0.3333333333333333,
             "#9c179e"
            ],
            [
             0.4444444444444444,
             "#bd3786"
            ],
            [
             0.5555555555555556,
             "#d8576b"
            ],
            [
             0.6666666666666666,
             "#ed7953"
            ],
            [
             0.7777777777777778,
             "#fb9f3a"
            ],
            [
             0.8888888888888888,
             "#fdca26"
            ],
            [
             1,
             "#f0f921"
            ]
           ]
          },
          "colorway": [
           "#636efa",
           "#EF553B",
           "#00cc96",
           "#ab63fa",
           "#FFA15A",
           "#19d3f3",
           "#FF6692",
           "#B6E880",
           "#FF97FF",
           "#FECB52"
          ],
          "font": {
           "color": "#2a3f5f"
          },
          "geo": {
           "bgcolor": "white",
           "lakecolor": "white",
           "landcolor": "white",
           "showlakes": true,
           "showland": true,
           "subunitcolor": "#C8D4E3"
          },
          "hoverlabel": {
           "align": "left"
          },
          "hovermode": "closest",
          "mapbox": {
           "style": "light"
          },
          "paper_bgcolor": "white",
          "plot_bgcolor": "white",
          "polar": {
           "angularaxis": {
            "gridcolor": "#EBF0F8",
            "linecolor": "#EBF0F8",
            "ticks": ""
           },
           "bgcolor": "white",
           "radialaxis": {
            "gridcolor": "#EBF0F8",
            "linecolor": "#EBF0F8",
            "ticks": ""
           }
          },
          "scene": {
           "xaxis": {
            "backgroundcolor": "white",
            "gridcolor": "#DFE8F3",
            "gridwidth": 2,
            "linecolor": "#EBF0F8",
            "showbackground": true,
            "ticks": "",
            "zerolinecolor": "#EBF0F8"
           },
           "yaxis": {
            "backgroundcolor": "white",
            "gridcolor": "#DFE8F3",
            "gridwidth": 2,
            "linecolor": "#EBF0F8",
            "showbackground": true,
            "ticks": "",
            "zerolinecolor": "#EBF0F8"
           },
           "zaxis": {
            "backgroundcolor": "white",
            "gridcolor": "#DFE8F3",
            "gridwidth": 2,
            "linecolor": "#EBF0F8",
            "showbackground": true,
            "ticks": "",
            "zerolinecolor": "#EBF0F8"
           }
          },
          "shapedefaults": {
           "line": {
            "color": "#2a3f5f"
           }
          },
          "ternary": {
           "aaxis": {
            "gridcolor": "#DFE8F3",
            "linecolor": "#A2B1C6",
            "ticks": ""
           },
           "baxis": {
            "gridcolor": "#DFE8F3",
            "linecolor": "#A2B1C6",
            "ticks": ""
           },
           "bgcolor": "white",
           "caxis": {
            "gridcolor": "#DFE8F3",
            "linecolor": "#A2B1C6",
            "ticks": ""
           }
          },
          "title": {
           "x": 0.05
          },
          "xaxis": {
           "automargin": true,
           "gridcolor": "#EBF0F8",
           "linecolor": "#EBF0F8",
           "ticks": "",
           "title": {
            "standoff": 15
           },
           "zerolinecolor": "#EBF0F8",
           "zerolinewidth": 2
          },
          "yaxis": {
           "automargin": true,
           "gridcolor": "#EBF0F8",
           "linecolor": "#EBF0F8",
           "ticks": "",
           "title": {
            "standoff": 15
           },
           "zerolinecolor": "#EBF0F8",
           "zerolinewidth": 2
          }
         }
        },
        "title": {
         "text": "Anzahl der Social - Media - Posts mit der Kombination: Hauptprodukte und Freiverkäuflich vs Rezeptpflichtig"
        },
        "width": 756,
        "xaxis": {
         "anchor": "y",
         "domain": [
          0,
          1
         ],
         "title": {
          "text": "Anteil der Posts in %"
         }
        },
        "yaxis": {
         "anchor": "x",
         "automargin": true,
         "categoryarray": [
          "e",
          "t",
          "k",
          "u",
          "d",
          "o",
          "r",
          "p",
          "t",
          "p",
          "u",
          "a",
          "H"
         ],
         "categoryorder": "array",
         "domain": [
          0,
          1
         ],
         "title": {
          "text": "Hauptprodukte"
         }
        }
       }
      }
     },
     "metadata": {},
     "output_type": "display_data"
    }
   ],
   "source": [
    "\n",
    "def combine_subcategories(df, lense_1, lense_2):\n",
    "\n",
    "    # Generate combinations of unique subcategories across buying_channel and experts\n",
    "    combinations_list = list(product(lense_1, lense_2))\n",
    "\n",
    "    # Create new dataframe with combination pairs\n",
    "    combination_df = pd.DataFrame(combinations_list, columns=['Subcategory 1', 'Subcategory 2'])\n",
    "\n",
    "    # Initialize dictionary to store combination counts\n",
    "    combination_counts = {}\n",
    "    id_values = set()\n",
    "\n",
    "\n",
    "    # Iterate through combinations and count occurrences\n",
    "    for subcategory_1, subcategory_2 in combinations_list:\n",
    "        ids = sentiment_new_df.loc[\n",
    "            (sentiment_new_df['subcategory'] == subcategory_1) &\n",
    "            (sentiment_new_df['id'].isin(sentiment_new_df.loc[sentiment_new_df['subcategory'] == subcategory_2, 'id'])),\n",
    "            'id'\n",
    "        ].unique()\n",
    "        count = len(ids)\n",
    "        combination_counts[(subcategory_1, subcategory_2)] = count\n",
    "        id_values.update(ids)\n",
    "    \n",
    "\n",
    "    # Create new dataframe from combination counts\n",
    "    combination_counts_df = pd.DataFrame(combination_counts.items(), columns=['combination', 'count'])\n",
    "    combination_counts_df[['subcategory_1', 'subcategory_2']] = pd.DataFrame(combination_counts_df['combination'].tolist())\n",
    "    combination_counts_df = combination_counts_df.drop('combination', axis=1)\n",
    "    #combination_counts_df = combination_counts_df[combination_counts_df[lense_1] != \"Multi Gyn\"]\n",
    "    #combination_counts_df = combination_counts_df[combination_counts_df[lense_2] != \"Kadezyklus\"]\n",
    "\n",
    "\n",
    "\n",
    "\n",
    "    # Store the number of unique id values from which combinations were found\n",
    "    n_posts = len(id_values)\n",
    "\n",
    "    #print(combination_counts_df)\n",
    "\n",
    "    return combination_counts_df, n_posts\n",
    "\n",
    "\n",
    "\n",
    "\n",
    "\n",
    "def filter_and_plot(df, counts, cat1, cat2, save_name=\"img\"):\n",
    "\n",
    "    #df = df[df[cat1] != \"Multi Gyn\"]\n",
    "    #df = df[df[cat1] != \"Kadezyklus\"]\n",
    "    \n",
    "    fig = px.histogram(\n",
    "        df,\n",
    "        x=\"count\",\n",
    "        y=\"subcategory_1\",\n",
    "        color=\"subcategory_2\",\n",
    "        barnorm=\"percent\",\n",
    "        orientation=\"h\",\n",
    "        labels={\n",
    "            \"subcategory_1\": \"\",\n",
    "            \"subcategory_2\": \"\",\n",
    "            \"count\": cat2,\n",
    "        },\n",
    "        color_discrete_sequence=PERMEA_COLOR_WHEEL_11_STATISTICS,\n",
    "        text_auto=\".0f\",\n",
    "        title=f'Anzahl der Social - Media - Posts mit der Kombination: {cat1} und {cat2}',\n",
    "        template=\"plotly_white\",\n",
    "        category_orders={\n",
    "            \"subcategory_1\": cat1,\n",
    "            \"subcategory_2\": cat2\n",
    "        })\n",
    "    \n",
    "\n",
    "    fig.add_annotation(dict(font=dict(size=9),\n",
    "                        x=-0.25,\n",
    "                        y=-0.34,\n",
    "                        showarrow=False,\n",
    "                        #text=f'Based on {counts} Social Media Conversations from publicy available forums mentioning {cat1} and {cat2} <br> Germany, January 2013 – April 2023.',\n",
    "                        text=f\"Basierend auf {counts} Social-Media-Konversationen aus öffentlich zugänglichen Foren <br>Deutschland, Januar 2013 – April 2023.\",                       \n",
    "                        textangle=0,\n",
    "                        xanchor='left',\n",
    "                        xref=\"paper\",\n",
    "                        yref=\"paper\",\n",
    "                        align=\"left\"\n",
    "))\n",
    "    \n",
    "\n",
    "    fig.update_layout(\n",
    "    template='plotly_white',\n",
    "    xaxis_title='Anteil der Posts in %',\n",
    "    yaxis_title=cat1,\n",
    "    #yaxis_range=[0, 1.1 * df['Count'].max()],\n",
    "    #xaxis=dict(\n",
    "        #tickmode='linear',\n",
    "        #dtick=1,\n",
    "        #automargin=True\n",
    "    #),\n",
    "    yaxis={'automargin': True},\n",
    "    #margin=dict(l=130, r=150, b=10, pad=30),\n",
    "    autosize=False,\n",
    "    width=20 * 37.8,  # Convert 20 cm to inches (1 cm = 37.8 inches)\n",
    "    height=10 * 37.8,  # Convert 9 cm to inches (1 cm = 37.8 inches)\n",
    "    legend=dict(font=dict(size=16))\n",
    "    )\n",
    "    \n",
    "    \n",
    "        \n",
    "    #fig.write_image(save_name+\".png\")\n",
    "    \n",
    "    fig.show()\n",
    "    \n",
    "\n",
    "\n",
    "df, counts= combine_subcategories(sentiment_new_df, main_brands_multigyn, rx)\n",
    "filter_and_plot(df, counts, \"Hauptprodukte\", \"Freiverkäuflich vs Rezeptpflichtig\", save_name=\"Hauptprodukte_Rezeptpflichtig\")\n",
    "\n",
    "\n",
    "\n"
   ]
  },
  {
   "cell_type": "code",
   "execution_count": null,
   "metadata": {},
   "outputs": [
    {
     "data": {
      "application/vnd.plotly.v1+json": {
       "config": {
        "plotlyServerURL": "https://plot.ly"
       },
       "data": [
        {
         "alignmentgroup": "True",
         "bingroup": "y",
         "histfunc": "sum",
         "hovertemplate": "=%{y}<br>sum of Empfehlung (normalized as percent)=%{x}<extra></extra>",
         "legendgroup": "Werbung",
         "marker": {
          "color": "rgb(54, 226, 112)",
          "pattern": {
           "shape": ""
          }
         },
         "name": "Werbung",
         "offsetgroup": "Werbung",
         "orientation": "h",
         "showlegend": true,
         "texttemplate": "%{value:.0f}",
         "type": "histogram",
         "x": [
          0,
          0,
          0,
          0,
          0,
          0,
          0
         ],
         "xaxis": "x",
         "y": [
          "Kadefungin",
          "Kadefemin",
          "Kadezyklus",
          "Canesten",
          "Vagisan",
          "Buscopan",
          "Deumavan"
         ],
         "yaxis": "y"
        },
        {
         "alignmentgroup": "True",
         "bingroup": "y",
         "histfunc": "sum",
         "hovertemplate": "=%{y}<br>sum of Empfehlung (normalized as percent)=%{x}<extra></extra>",
         "legendgroup": "KrankenpflegerInnen",
         "marker": {
          "color": "rgb(54, 112, 226)",
          "pattern": {
           "shape": ""
          }
         },
         "name": "KrankenpflegerInnen",
         "offsetgroup": "KrankenpflegerInnen",
         "orientation": "h",
         "showlegend": true,
         "texttemplate": "%{value:.0f}",
         "type": "histogram",
         "x": [
          5,
          0,
          0,
          4,
          13,
          101,
          3
         ],
         "xaxis": "x",
         "y": [
          "Kadefungin",
          "Kadefemin",
          "Kadezyklus",
          "Canesten",
          "Vagisan",
          "Buscopan",
          "Deumavan"
         ],
         "yaxis": "y"
        },
        {
         "alignmentgroup": "True",
         "bingroup": "y",
         "histfunc": "sum",
         "hovertemplate": "=%{y}<br>sum of Empfehlung (normalized as percent)=%{x}<extra></extra>",
         "legendgroup": "ApothekerInnen",
         "marker": {
          "color": "rgb(54, 169, 226)",
          "pattern": {
           "shape": ""
          }
         },
         "name": "ApothekerInnen",
         "offsetgroup": "ApothekerInnen",
         "orientation": "h",
         "showlegend": true,
         "texttemplate": "%{value:.0f}",
         "type": "histogram",
         "x": [
          1278,
          4,
          2,
          726,
          1101,
          1635,
          416
         ],
         "xaxis": "x",
         "y": [
          "Kadefungin",
          "Kadefemin",
          "Kadezyklus",
          "Canesten",
          "Vagisan",
          "Buscopan",
          "Deumavan"
         ],
         "yaxis": "y"
        },
        {
         "alignmentgroup": "True",
         "bingroup": "y",
         "histfunc": "sum",
         "hovertemplate": "=%{y}<br>sum of Empfehlung (normalized as percent)=%{x}<extra></extra>",
         "legendgroup": "Internetrecherche",
         "marker": {
          "color": "rgb(54, 226, 169)",
          "pattern": {
           "shape": ""
          }
         },
         "name": "Internetrecherche",
         "offsetgroup": "Internetrecherche",
         "orientation": "h",
         "showlegend": true,
         "texttemplate": "%{value:.0f}",
         "type": "histogram",
         "x": [
          318,
          0,
          0,
          191,
          314,
          692,
          125
         ],
         "xaxis": "x",
         "y": [
          "Kadefungin",
          "Kadefemin",
          "Kadezyklus",
          "Canesten",
          "Vagisan",
          "Buscopan",
          "Deumavan"
         ],
         "yaxis": "y"
        },
        {
         "alignmentgroup": "True",
         "bingroup": "y",
         "histfunc": "sum",
         "hovertemplate": "=%{y}<br>sum of Empfehlung (normalized as percent)=%{x}<extra></extra>",
         "legendgroup": "GynäkologInnen",
         "marker": {
          "color": "rgb(112, 54, 226)",
          "pattern": {
           "shape": ""
          }
         },
         "name": "GynäkologInnen",
         "offsetgroup": "GynäkologInnen",
         "orientation": "h",
         "showlegend": true,
         "texttemplate": "%{value:.0f}",
         "type": "histogram",
         "x": [
          2376,
          3,
          1,
          1521,
          1673,
          2314,
          684
         ],
         "xaxis": "x",
         "y": [
          "Kadefungin",
          "Kadefemin",
          "Kadezyklus",
          "Canesten",
          "Vagisan",
          "Buscopan",
          "Deumavan"
         ],
         "yaxis": "y"
        },
        {
         "alignmentgroup": "True",
         "bingroup": "y",
         "histfunc": "sum",
         "hovertemplate": "=%{y}<br>sum of Empfehlung (normalized as percent)=%{x}<extra></extra>",
         "legendgroup": "Hebammen",
         "marker": {
          "color": "rgb(226, 54, 169)",
          "pattern": {
           "shape": ""
          }
         },
         "name": "Hebammen",
         "offsetgroup": "Hebammen",
         "orientation": "h",
         "showlegend": true,
         "texttemplate": "%{value:.0f}",
         "type": "histogram",
         "x": [
          114,
          0,
          0,
          27,
          101,
          1354,
          23
         ],
         "xaxis": "x",
         "y": [
          "Kadefungin",
          "Kadefemin",
          "Kadezyklus",
          "Canesten",
          "Vagisan",
          "Buscopan",
          "Deumavan"
         ],
         "yaxis": "y"
        },
        {
         "alignmentgroup": "True",
         "bingroup": "y",
         "histfunc": "sum",
         "hovertemplate": "=%{y}<br>sum of Empfehlung (normalized as percent)=%{x}<extra></extra>",
         "legendgroup": "Peers",
         "marker": {
          "color": "rgb(169, 54, 226)",
          "pattern": {
           "shape": ""
          }
         },
         "name": "Peers",
         "offsetgroup": "Peers",
         "orientation": "h",
         "showlegend": true,
         "texttemplate": "%{value:.0f}",
         "type": "histogram",
         "x": [
          9,
          0,
          0,
          6,
          11,
          44,
          4
         ],
         "xaxis": "x",
         "y": [
          "Kadefungin",
          "Kadefemin",
          "Kadezyklus",
          "Canesten",
          "Vagisan",
          "Buscopan",
          "Deumavan"
         ],
         "yaxis": "y"
        },
        {
         "alignmentgroup": "True",
         "bingroup": "y",
         "histfunc": "sum",
         "hovertemplate": "=%{y}<br>sum of Empfehlung (normalized as percent)=%{x}<extra></extra>",
         "legendgroup": "AllgemeinmedizinerInnen",
         "marker": {
          "color": "rgb(169, 226, 54)",
          "pattern": {
           "shape": ""
          }
         },
         "name": "AllgemeinmedizinerInnen",
         "offsetgroup": "AllgemeinmedizinerInnen",
         "orientation": "h",
         "showlegend": true,
         "texttemplate": "%{value:.0f}",
         "type": "histogram",
         "x": [
          181,
          1,
          0,
          125,
          94,
          850,
          69
         ],
         "xaxis": "x",
         "y": [
          "Kadefungin",
          "Kadefemin",
          "Kadezyklus",
          "Canesten",
          "Vagisan",
          "Buscopan",
          "Deumavan"
         ],
         "yaxis": "y"
        },
        {
         "alignmentgroup": "True",
         "bingroup": "y",
         "histfunc": "sum",
         "hovertemplate": "=%{y}<br>sum of Empfehlung (normalized as percent)=%{x}<extra></extra>",
         "legendgroup": "GynäkologeInnen",
         "marker": {
          "color": "rgb(226, 112, 54)",
          "pattern": {
           "shape": ""
          }
         },
         "name": "GynäkologeInnen",
         "offsetgroup": "GynäkologeInnen",
         "orientation": "h",
         "showlegend": true,
         "texttemplate": "%{value:.0f}",
         "type": "histogram",
         "x": [
          0,
          0,
          0,
          0,
          0,
          0,
          0
         ],
         "xaxis": "x",
         "y": [
          "Kadefungin",
          "Kadefemin",
          "Kadezyklus",
          "Canesten",
          "Vagisan",
          "Buscopan",
          "Deumavan"
         ],
         "yaxis": "y"
        }
       ],
       "layout": {
        "annotations": [
         {
          "align": "left",
          "font": {
           "size": 9
          },
          "showarrow": false,
          "text": "Basierend auf 13496 Social-Media-Konversationen aus öffentlich zugänglichen Foren <br>Deutschland, Januar 2013 – April 2023.",
          "textangle": 0,
          "x": -0.25,
          "xanchor": "left",
          "xref": "paper",
          "y": -0.34,
          "yref": "paper"
         }
        ],
        "autosize": false,
        "barmode": "relative",
        "barnorm": "percent",
        "height": 378,
        "legend": {
         "font": {
          "size": 16
         },
         "title": {
          "text": ""
         },
         "tracegroupgap": 0
        },
        "template": {
         "data": {
          "bar": [
           {
            "error_x": {
             "color": "#2a3f5f"
            },
            "error_y": {
             "color": "#2a3f5f"
            },
            "marker": {
             "line": {
              "color": "white",
              "width": 0.5
             },
             "pattern": {
              "fillmode": "overlay",
              "size": 10,
              "solidity": 0.2
             }
            },
            "type": "bar"
           }
          ],
          "barpolar": [
           {
            "marker": {
             "line": {
              "color": "white",
              "width": 0.5
             },
             "pattern": {
              "fillmode": "overlay",
              "size": 10,
              "solidity": 0.2
             }
            },
            "type": "barpolar"
           }
          ],
          "carpet": [
           {
            "aaxis": {
             "endlinecolor": "#2a3f5f",
             "gridcolor": "#C8D4E3",
             "linecolor": "#C8D4E3",
             "minorgridcolor": "#C8D4E3",
             "startlinecolor": "#2a3f5f"
            },
            "baxis": {
             "endlinecolor": "#2a3f5f",
             "gridcolor": "#C8D4E3",
             "linecolor": "#C8D4E3",
             "minorgridcolor": "#C8D4E3",
             "startlinecolor": "#2a3f5f"
            },
            "type": "carpet"
           }
          ],
          "choropleth": [
           {
            "colorbar": {
             "outlinewidth": 0,
             "ticks": ""
            },
            "type": "choropleth"
           }
          ],
          "contour": [
           {
            "colorbar": {
             "outlinewidth": 0,
             "ticks": ""
            },
            "colorscale": [
             [
              0,
              "#0d0887"
             ],
             [
              0.1111111111111111,
              "#46039f"
             ],
             [
              0.2222222222222222,
              "#7201a8"
             ],
             [
              0.3333333333333333,
              "#9c179e"
             ],
             [
              0.4444444444444444,
              "#bd3786"
             ],
             [
              0.5555555555555556,
              "#d8576b"
             ],
             [
              0.6666666666666666,
              "#ed7953"
             ],
             [
              0.7777777777777778,
              "#fb9f3a"
             ],
             [
              0.8888888888888888,
              "#fdca26"
             ],
             [
              1,
              "#f0f921"
             ]
            ],
            "type": "contour"
           }
          ],
          "contourcarpet": [
           {
            "colorbar": {
             "outlinewidth": 0,
             "ticks": ""
            },
            "type": "contourcarpet"
           }
          ],
          "heatmap": [
           {
            "colorbar": {
             "outlinewidth": 0,
             "ticks": ""
            },
            "colorscale": [
             [
              0,
              "#0d0887"
             ],
             [
              0.1111111111111111,
              "#46039f"
             ],
             [
              0.2222222222222222,
              "#7201a8"
             ],
             [
              0.3333333333333333,
              "#9c179e"
             ],
             [
              0.4444444444444444,
              "#bd3786"
             ],
             [
              0.5555555555555556,
              "#d8576b"
             ],
             [
              0.6666666666666666,
              "#ed7953"
             ],
             [
              0.7777777777777778,
              "#fb9f3a"
             ],
             [
              0.8888888888888888,
              "#fdca26"
             ],
             [
              1,
              "#f0f921"
             ]
            ],
            "type": "heatmap"
           }
          ],
          "heatmapgl": [
           {
            "colorbar": {
             "outlinewidth": 0,
             "ticks": ""
            },
            "colorscale": [
             [
              0,
              "#0d0887"
             ],
             [
              0.1111111111111111,
              "#46039f"
             ],
             [
              0.2222222222222222,
              "#7201a8"
             ],
             [
              0.3333333333333333,
              "#9c179e"
             ],
             [
              0.4444444444444444,
              "#bd3786"
             ],
             [
              0.5555555555555556,
              "#d8576b"
             ],
             [
              0.6666666666666666,
              "#ed7953"
             ],
             [
              0.7777777777777778,
              "#fb9f3a"
             ],
             [
              0.8888888888888888,
              "#fdca26"
             ],
             [
              1,
              "#f0f921"
             ]
            ],
            "type": "heatmapgl"
           }
          ],
          "histogram": [
           {
            "marker": {
             "pattern": {
              "fillmode": "overlay",
              "size": 10,
              "solidity": 0.2
             }
            },
            "type": "histogram"
           }
          ],
          "histogram2d": [
           {
            "colorbar": {
             "outlinewidth": 0,
             "ticks": ""
            },
            "colorscale": [
             [
              0,
              "#0d0887"
             ],
             [
              0.1111111111111111,
              "#46039f"
             ],
             [
              0.2222222222222222,
              "#7201a8"
             ],
             [
              0.3333333333333333,
              "#9c179e"
             ],
             [
              0.4444444444444444,
              "#bd3786"
             ],
             [
              0.5555555555555556,
              "#d8576b"
             ],
             [
              0.6666666666666666,
              "#ed7953"
             ],
             [
              0.7777777777777778,
              "#fb9f3a"
             ],
             [
              0.8888888888888888,
              "#fdca26"
             ],
             [
              1,
              "#f0f921"
             ]
            ],
            "type": "histogram2d"
           }
          ],
          "histogram2dcontour": [
           {
            "colorbar": {
             "outlinewidth": 0,
             "ticks": ""
            },
            "colorscale": [
             [
              0,
              "#0d0887"
             ],
             [
              0.1111111111111111,
              "#46039f"
             ],
             [
              0.2222222222222222,
              "#7201a8"
             ],
             [
              0.3333333333333333,
              "#9c179e"
             ],
             [
              0.4444444444444444,
              "#bd3786"
             ],
             [
              0.5555555555555556,
              "#d8576b"
             ],
             [
              0.6666666666666666,
              "#ed7953"
             ],
             [
              0.7777777777777778,
              "#fb9f3a"
             ],
             [
              0.8888888888888888,
              "#fdca26"
             ],
             [
              1,
              "#f0f921"
             ]
            ],
            "type": "histogram2dcontour"
           }
          ],
          "mesh3d": [
           {
            "colorbar": {
             "outlinewidth": 0,
             "ticks": ""
            },
            "type": "mesh3d"
           }
          ],
          "parcoords": [
           {
            "line": {
             "colorbar": {
              "outlinewidth": 0,
              "ticks": ""
             }
            },
            "type": "parcoords"
           }
          ],
          "pie": [
           {
            "automargin": true,
            "type": "pie"
           }
          ],
          "scatter": [
           {
            "fillpattern": {
             "fillmode": "overlay",
             "size": 10,
             "solidity": 0.2
            },
            "type": "scatter"
           }
          ],
          "scatter3d": [
           {
            "line": {
             "colorbar": {
              "outlinewidth": 0,
              "ticks": ""
             }
            },
            "marker": {
             "colorbar": {
              "outlinewidth": 0,
              "ticks": ""
             }
            },
            "type": "scatter3d"
           }
          ],
          "scattercarpet": [
           {
            "marker": {
             "colorbar": {
              "outlinewidth": 0,
              "ticks": ""
             }
            },
            "type": "scattercarpet"
           }
          ],
          "scattergeo": [
           {
            "marker": {
             "colorbar": {
              "outlinewidth": 0,
              "ticks": ""
             }
            },
            "type": "scattergeo"
           }
          ],
          "scattergl": [
           {
            "marker": {
             "colorbar": {
              "outlinewidth": 0,
              "ticks": ""
             }
            },
            "type": "scattergl"
           }
          ],
          "scattermapbox": [
           {
            "marker": {
             "colorbar": {
              "outlinewidth": 0,
              "ticks": ""
             }
            },
            "type": "scattermapbox"
           }
          ],
          "scatterpolar": [
           {
            "marker": {
             "colorbar": {
              "outlinewidth": 0,
              "ticks": ""
             }
            },
            "type": "scatterpolar"
           }
          ],
          "scatterpolargl": [
           {
            "marker": {
             "colorbar": {
              "outlinewidth": 0,
              "ticks": ""
             }
            },
            "type": "scatterpolargl"
           }
          ],
          "scatterternary": [
           {
            "marker": {
             "colorbar": {
              "outlinewidth": 0,
              "ticks": ""
             }
            },
            "type": "scatterternary"
           }
          ],
          "surface": [
           {
            "colorbar": {
             "outlinewidth": 0,
             "ticks": ""
            },
            "colorscale": [
             [
              0,
              "#0d0887"
             ],
             [
              0.1111111111111111,
              "#46039f"
             ],
             [
              0.2222222222222222,
              "#7201a8"
             ],
             [
              0.3333333333333333,
              "#9c179e"
             ],
             [
              0.4444444444444444,
              "#bd3786"
             ],
             [
              0.5555555555555556,
              "#d8576b"
             ],
             [
              0.6666666666666666,
              "#ed7953"
             ],
             [
              0.7777777777777778,
              "#fb9f3a"
             ],
             [
              0.8888888888888888,
              "#fdca26"
             ],
             [
              1,
              "#f0f921"
             ]
            ],
            "type": "surface"
           }
          ],
          "table": [
           {
            "cells": {
             "fill": {
              "color": "#EBF0F8"
             },
             "line": {
              "color": "white"
             }
            },
            "header": {
             "fill": {
              "color": "#C8D4E3"
             },
             "line": {
              "color": "white"
             }
            },
            "type": "table"
           }
          ]
         },
         "layout": {
          "annotationdefaults": {
           "arrowcolor": "#2a3f5f",
           "arrowhead": 0,
           "arrowwidth": 1
          },
          "autotypenumbers": "strict",
          "coloraxis": {
           "colorbar": {
            "outlinewidth": 0,
            "ticks": ""
           }
          },
          "colorscale": {
           "diverging": [
            [
             0,
             "#8e0152"
            ],
            [
             0.1,
             "#c51b7d"
            ],
            [
             0.2,
             "#de77ae"
            ],
            [
             0.3,
             "#f1b6da"
            ],
            [
             0.4,
             "#fde0ef"
            ],
            [
             0.5,
             "#f7f7f7"
            ],
            [
             0.6,
             "#e6f5d0"
            ],
            [
             0.7,
             "#b8e186"
            ],
            [
             0.8,
             "#7fbc41"
            ],
            [
             0.9,
             "#4d9221"
            ],
            [
             1,
             "#276419"
            ]
           ],
           "sequential": [
            [
             0,
             "#0d0887"
            ],
            [
             0.1111111111111111,
             "#46039f"
            ],
            [
             0.2222222222222222,
             "#7201a8"
            ],
            [
             0.3333333333333333,
             "#9c179e"
            ],
            [
             0.4444444444444444,
             "#bd3786"
            ],
            [
             0.5555555555555556,
             "#d8576b"
            ],
            [
             0.6666666666666666,
             "#ed7953"
            ],
            [
             0.7777777777777778,
             "#fb9f3a"
            ],
            [
             0.8888888888888888,
             "#fdca26"
            ],
            [
             1,
             "#f0f921"
            ]
           ],
           "sequentialminus": [
            [
             0,
             "#0d0887"
            ],
            [
             0.1111111111111111,
             "#46039f"
            ],
            [
             0.2222222222222222,
             "#7201a8"
            ],
            [
             0.3333333333333333,
             "#9c179e"
            ],
            [
             0.4444444444444444,
             "#bd3786"
            ],
            [
             0.5555555555555556,
             "#d8576b"
            ],
            [
             0.6666666666666666,
             "#ed7953"
            ],
            [
             0.7777777777777778,
             "#fb9f3a"
            ],
            [
             0.8888888888888888,
             "#fdca26"
            ],
            [
             1,
             "#f0f921"
            ]
           ]
          },
          "colorway": [
           "#636efa",
           "#EF553B",
           "#00cc96",
           "#ab63fa",
           "#FFA15A",
           "#19d3f3",
           "#FF6692",
           "#B6E880",
           "#FF97FF",
           "#FECB52"
          ],
          "font": {
           "color": "#2a3f5f"
          },
          "geo": {
           "bgcolor": "white",
           "lakecolor": "white",
           "landcolor": "white",
           "showlakes": true,
           "showland": true,
           "subunitcolor": "#C8D4E3"
          },
          "hoverlabel": {
           "align": "left"
          },
          "hovermode": "closest",
          "mapbox": {
           "style": "light"
          },
          "paper_bgcolor": "white",
          "plot_bgcolor": "white",
          "polar": {
           "angularaxis": {
            "gridcolor": "#EBF0F8",
            "linecolor": "#EBF0F8",
            "ticks": ""
           },
           "bgcolor": "white",
           "radialaxis": {
            "gridcolor": "#EBF0F8",
            "linecolor": "#EBF0F8",
            "ticks": ""
           }
          },
          "scene": {
           "xaxis": {
            "backgroundcolor": "white",
            "gridcolor": "#DFE8F3",
            "gridwidth": 2,
            "linecolor": "#EBF0F8",
            "showbackground": true,
            "ticks": "",
            "zerolinecolor": "#EBF0F8"
           },
           "yaxis": {
            "backgroundcolor": "white",
            "gridcolor": "#DFE8F3",
            "gridwidth": 2,
            "linecolor": "#EBF0F8",
            "showbackground": true,
            "ticks": "",
            "zerolinecolor": "#EBF0F8"
           },
           "zaxis": {
            "backgroundcolor": "white",
            "gridcolor": "#DFE8F3",
            "gridwidth": 2,
            "linecolor": "#EBF0F8",
            "showbackground": true,
            "ticks": "",
            "zerolinecolor": "#EBF0F8"
           }
          },
          "shapedefaults": {
           "line": {
            "color": "#2a3f5f"
           }
          },
          "ternary": {
           "aaxis": {
            "gridcolor": "#DFE8F3",
            "linecolor": "#A2B1C6",
            "ticks": ""
           },
           "baxis": {
            "gridcolor": "#DFE8F3",
            "linecolor": "#A2B1C6",
            "ticks": ""
           },
           "bgcolor": "white",
           "caxis": {
            "gridcolor": "#DFE8F3",
            "linecolor": "#A2B1C6",
            "ticks": ""
           }
          },
          "title": {
           "x": 0.05
          },
          "xaxis": {
           "automargin": true,
           "gridcolor": "#EBF0F8",
           "linecolor": "#EBF0F8",
           "ticks": "",
           "title": {
            "standoff": 15
           },
           "zerolinecolor": "#EBF0F8",
           "zerolinewidth": 2
          },
          "yaxis": {
           "automargin": true,
           "gridcolor": "#EBF0F8",
           "linecolor": "#EBF0F8",
           "ticks": "",
           "title": {
            "standoff": 15
           },
           "zerolinecolor": "#EBF0F8",
           "zerolinewidth": 2
          }
         }
        },
        "title": {
         "text": "Anzahl der Social - Media - Posts mit der Kombination: Hauptprodukte und Empfehlung"
        },
        "width": 756,
        "xaxis": {
         "anchor": "y",
         "domain": [
          0,
          1
         ],
         "title": {
          "text": "Anteil der Posts in %"
         }
        },
        "yaxis": {
         "anchor": "x",
         "automargin": true,
         "categoryarray": [
          "e",
          "t",
          "k",
          "u",
          "d",
          "o",
          "r",
          "p",
          "t",
          "p",
          "u",
          "a",
          "H"
         ],
         "categoryorder": "array",
         "domain": [
          0,
          1
         ],
         "title": {
          "text": "Hauptprodukte"
         }
        }
       }
      }
     },
     "metadata": {},
     "output_type": "display_data"
    }
   ],
   "source": [
    "\n",
    "def combine_subcategories(df, lense_1, lense_2):\n",
    "\n",
    "    # Generate combinations of unique subcategories across buying_channel and experts\n",
    "    combinations_list = list(product(lense_1, lense_2))\n",
    "\n",
    "    # Create new dataframe with combination pairs\n",
    "    combination_df = pd.DataFrame(combinations_list, columns=['Subcategory 1', 'Subcategory 2'])\n",
    "\n",
    "    # Initialize dictionary to store combination counts\n",
    "    combination_counts = {}\n",
    "    id_values = set()\n",
    "\n",
    "\n",
    "    # Iterate through combinations and count occurrences\n",
    "    for subcategory_1, subcategory_2 in combinations_list:\n",
    "        ids = sentiment_new_df.loc[\n",
    "            (sentiment_new_df['subcategory'] == subcategory_1) &\n",
    "            (sentiment_new_df['id'].isin(sentiment_new_df.loc[sentiment_new_df['subcategory'] == subcategory_2, 'id'])),\n",
    "            'id'\n",
    "        ].unique()\n",
    "        count = len(ids)\n",
    "        combination_counts[(subcategory_1, subcategory_2)] = count\n",
    "        id_values.update(ids)\n",
    "    \n",
    "\n",
    "    # Create new dataframe from combination counts\n",
    "    combination_counts_df = pd.DataFrame(combination_counts.items(), columns=['combination', 'count'])\n",
    "    combination_counts_df[['subcategory_1', 'subcategory_2']] = pd.DataFrame(combination_counts_df['combination'].tolist())\n",
    "    combination_counts_df = combination_counts_df.drop('combination', axis=1)\n",
    "    #combination_counts_df = combination_counts_df[combination_counts_df[lense_1] != \"Multi Gyn\"]\n",
    "    #combination_counts_df = combination_counts_df[combination_counts_df[lense_2] != \"Kadezyklus\"]\n",
    "\n",
    "\n",
    "\n",
    "\n",
    "    # Store the number of unique id values from which combinations were found\n",
    "    n_posts = len(id_values)\n",
    "\n",
    "    #print(combination_counts_df)\n",
    "\n",
    "    return combination_counts_df, n_posts\n",
    "\n",
    "\n",
    "\n",
    "\n",
    "\n",
    "def filter_and_plot(df, counts, cat1, cat2, save_name=\"img\"):\n",
    "\n",
    "    #df = df[df[cat1] != \"Multi Gyn\"]\n",
    "    #df = df[df[cat1] != \"Kadezyklus\"]\n",
    "    \n",
    "    fig = px.histogram(\n",
    "        df,\n",
    "        x=\"count\",\n",
    "        y=\"subcategory_1\",\n",
    "        color=\"subcategory_2\",\n",
    "        barnorm=\"percent\",\n",
    "        orientation=\"h\",\n",
    "        labels={\n",
    "            \"subcategory_1\": \"\",\n",
    "            \"subcategory_2\": \"\",\n",
    "            \"count\": cat2,\n",
    "        },\n",
    "        color_discrete_sequence=PERMEA_COLOR_WHEEL_11_STATISTICS,\n",
    "        text_auto=\".0f\",\n",
    "        title=f'Anzahl der Social - Media - Posts mit der Kombination: {cat1} und {cat2}',\n",
    "        template=\"plotly_white\",\n",
    "        category_orders={\n",
    "            \"subcategory_1\": cat1,\n",
    "            \"subcategory_2\": cat2\n",
    "        })\n",
    "    \n",
    "\n",
    "    fig.add_annotation(dict(font=dict(size=9),\n",
    "                        x=-0.25,\n",
    "                        y=-0.34,\n",
    "                        showarrow=False,\n",
    "                        #text=f'Based on {counts} Social Media Conversations from publicy available forums mentioning {cat1} and {cat2} <br> Germany, January 2013 – April 2023.',\n",
    "                        text=f\"Basierend auf {counts} Social-Media-Konversationen aus öffentlich zugänglichen Foren <br>Deutschland, Januar 2013 – April 2023.\",                       \n",
    "                        textangle=0,\n",
    "                        xanchor='left',\n",
    "                        xref=\"paper\",\n",
    "                        yref=\"paper\",\n",
    "                        align=\"left\"\n",
    "))\n",
    "    \n",
    "\n",
    "    fig.update_layout(\n",
    "    template='plotly_white',\n",
    "    xaxis_title='Anteil der Posts in %',\n",
    "    yaxis_title=cat1,\n",
    "    #yaxis_range=[0, 1.1 * df['Count'].max()],\n",
    "    #xaxis=dict(\n",
    "        #tickmode='linear',\n",
    "        #dtick=1,\n",
    "        #automargin=True\n",
    "    #),\n",
    "    yaxis={'automargin': True},\n",
    "    #margin=dict(l=130, r=150, b=10, pad=30),\n",
    "    autosize=False,\n",
    "    width=20 * 37.8,  # Convert 20 cm to inches (1 cm = 37.8 inches)\n",
    "    height=10 * 37.8,  # Convert 9 cm to inches (1 cm = 37.8 inches)\n",
    "    legend=dict(font=dict(size=16))\n",
    "    )\n",
    "    \n",
    "    \n",
    "        \n",
    "    #fig.write_image(save_name+\".png\")\n",
    "    \n",
    "    fig.show()\n",
    "    \n",
    "\n",
    "\n",
    "df, counts= combine_subcategories(sentiment_new_df, main_brands_multigyn, advice_from)\n",
    "filter_and_plot(df, counts, \"Hauptprodukte\", \"Empfehlung\", save_name=\"Hauptprodukte_Empfehlung\")\n",
    "\n",
    "\n",
    "\n"
   ]
  },
  {
   "cell_type": "code",
   "execution_count": null,
   "metadata": {},
   "outputs": [
    {
     "data": {
      "application/vnd.plotly.v1+json": {
       "config": {
        "plotlyServerURL": "https://plot.ly"
       },
       "data": [
        {
         "alignmentgroup": "True",
         "bingroup": "y",
         "histfunc": "sum",
         "hovertemplate": "=%{y}<br>sum of Einkaufskanal (normalized as percent)=%{x}<extra></extra>",
         "legendgroup": "Online kaufen",
         "marker": {
          "color": "rgb(226, 54, 169)",
          "pattern": {
           "shape": ""
          }
         },
         "name": "Online kaufen",
         "offsetgroup": "Online kaufen",
         "orientation": "h",
         "showlegend": true,
         "texttemplate": "%{value:.0f}",
         "type": "histogram",
         "x": [
          144,
          79,
          441,
          467,
          122
         ],
         "xaxis": "x",
         "y": [
          "Kadefungin",
          "Canesten",
          "Vagisan",
          "Buscopan",
          "Deumavan"
         ],
         "yaxis": "y"
        },
        {
         "alignmentgroup": "True",
         "bingroup": "y",
         "histfunc": "sum",
         "hovertemplate": "=%{y}<br>sum of Einkaufskanal (normalized as percent)=%{x}<extra></extra>",
         "legendgroup": "Apotheke",
         "marker": {
          "color": "rgb(54, 112, 226)",
          "pattern": {
           "shape": ""
          }
         },
         "name": "Apotheke",
         "offsetgroup": "Apotheke",
         "orientation": "h",
         "showlegend": true,
         "texttemplate": "%{value:.0f}",
         "type": "histogram",
         "x": [
          663,
          350,
          367,
          659,
          155
         ],
         "xaxis": "x",
         "y": [
          "Kadefungin",
          "Canesten",
          "Vagisan",
          "Buscopan",
          "Deumavan"
         ],
         "yaxis": "y"
        },
        {
         "alignmentgroup": "True",
         "bingroup": "y",
         "histfunc": "sum",
         "hovertemplate": "=%{y}<br>sum of Einkaufskanal (normalized as percent)=%{x}<extra></extra>",
         "legendgroup": "Online-Einzelhändler",
         "marker": {
          "color": "rgb(54, 169, 226)",
          "pattern": {
           "shape": ""
          }
         },
         "name": "Online-Einzelhändler",
         "offsetgroup": "Online-Einzelhändler",
         "orientation": "h",
         "showlegend": true,
         "texttemplate": "%{value:.0f}",
         "type": "histogram",
         "x": [
          1,
          0,
          0,
          0,
          0
         ],
         "xaxis": "x",
         "y": [
          "Kadefungin",
          "Canesten",
          "Vagisan",
          "Buscopan",
          "Deumavan"
         ],
         "yaxis": "y"
        },
        {
         "alignmentgroup": "True",
         "bingroup": "y",
         "histfunc": "sum",
         "hovertemplate": "=%{y}<br>sum of Einkaufskanal (normalized as percent)=%{x}<extra></extra>",
         "legendgroup": "Einzelhändler",
         "marker": {
          "color": "rgb(54, 226, 169)",
          "pattern": {
           "shape": ""
          }
         },
         "name": "Einzelhändler",
         "offsetgroup": "Einzelhändler",
         "orientation": "h",
         "showlegend": true,
         "texttemplate": "%{value:.0f}",
         "type": "histogram",
         "x": [
          52,
          21,
          50,
          58,
          22
         ],
         "xaxis": "x",
         "y": [
          "Kadefungin",
          "Canesten",
          "Vagisan",
          "Buscopan",
          "Deumavan"
         ],
         "yaxis": "y"
        },
        {
         "alignmentgroup": "True",
         "bingroup": "y",
         "histfunc": "sum",
         "hovertemplate": "=%{y}<br>sum of Einkaufskanal (normalized as percent)=%{x}<extra></extra>",
         "legendgroup": "Online Apotheke",
         "marker": {
          "color": "rgb(112, 54, 226)",
          "pattern": {
           "shape": ""
          }
         },
         "name": "Online Apotheke",
         "offsetgroup": "Online Apotheke",
         "orientation": "h",
         "showlegend": true,
         "texttemplate": "%{value:.0f}",
         "type": "histogram",
         "x": [
          61,
          11,
          16,
          14,
          5
         ],
         "xaxis": "x",
         "y": [
          "Kadefungin",
          "Canesten",
          "Vagisan",
          "Buscopan",
          "Deumavan"
         ],
         "yaxis": "y"
        }
       ],
       "layout": {
        "annotations": [
         {
          "align": "left",
          "font": {
           "size": 9
          },
          "showarrow": false,
          "text": "Basierend auf 3435 Social-Media-Konversationen aus öffentlich zugänglichen Foren <br>Deutschland, Januar 2013 – April 2023.",
          "textangle": 0,
          "x": -0.25,
          "xanchor": "left",
          "xref": "paper",
          "y": -0.34,
          "yref": "paper"
         }
        ],
        "autosize": false,
        "barmode": "relative",
        "barnorm": "percent",
        "height": 378,
        "legend": {
         "font": {
          "size": 16
         },
         "title": {
          "text": ""
         },
         "tracegroupgap": 0
        },
        "template": {
         "data": {
          "bar": [
           {
            "error_x": {
             "color": "#2a3f5f"
            },
            "error_y": {
             "color": "#2a3f5f"
            },
            "marker": {
             "line": {
              "color": "white",
              "width": 0.5
             },
             "pattern": {
              "fillmode": "overlay",
              "size": 10,
              "solidity": 0.2
             }
            },
            "type": "bar"
           }
          ],
          "barpolar": [
           {
            "marker": {
             "line": {
              "color": "white",
              "width": 0.5
             },
             "pattern": {
              "fillmode": "overlay",
              "size": 10,
              "solidity": 0.2
             }
            },
            "type": "barpolar"
           }
          ],
          "carpet": [
           {
            "aaxis": {
             "endlinecolor": "#2a3f5f",
             "gridcolor": "#C8D4E3",
             "linecolor": "#C8D4E3",
             "minorgridcolor": "#C8D4E3",
             "startlinecolor": "#2a3f5f"
            },
            "baxis": {
             "endlinecolor": "#2a3f5f",
             "gridcolor": "#C8D4E3",
             "linecolor": "#C8D4E3",
             "minorgridcolor": "#C8D4E3",
             "startlinecolor": "#2a3f5f"
            },
            "type": "carpet"
           }
          ],
          "choropleth": [
           {
            "colorbar": {
             "outlinewidth": 0,
             "ticks": ""
            },
            "type": "choropleth"
           }
          ],
          "contour": [
           {
            "colorbar": {
             "outlinewidth": 0,
             "ticks": ""
            },
            "colorscale": [
             [
              0,
              "#0d0887"
             ],
             [
              0.1111111111111111,
              "#46039f"
             ],
             [
              0.2222222222222222,
              "#7201a8"
             ],
             [
              0.3333333333333333,
              "#9c179e"
             ],
             [
              0.4444444444444444,
              "#bd3786"
             ],
             [
              0.5555555555555556,
              "#d8576b"
             ],
             [
              0.6666666666666666,
              "#ed7953"
             ],
             [
              0.7777777777777778,
              "#fb9f3a"
             ],
             [
              0.8888888888888888,
              "#fdca26"
             ],
             [
              1,
              "#f0f921"
             ]
            ],
            "type": "contour"
           }
          ],
          "contourcarpet": [
           {
            "colorbar": {
             "outlinewidth": 0,
             "ticks": ""
            },
            "type": "contourcarpet"
           }
          ],
          "heatmap": [
           {
            "colorbar": {
             "outlinewidth": 0,
             "ticks": ""
            },
            "colorscale": [
             [
              0,
              "#0d0887"
             ],
             [
              0.1111111111111111,
              "#46039f"
             ],
             [
              0.2222222222222222,
              "#7201a8"
             ],
             [
              0.3333333333333333,
              "#9c179e"
             ],
             [
              0.4444444444444444,
              "#bd3786"
             ],
             [
              0.5555555555555556,
              "#d8576b"
             ],
             [
              0.6666666666666666,
              "#ed7953"
             ],
             [
              0.7777777777777778,
              "#fb9f3a"
             ],
             [
              0.8888888888888888,
              "#fdca26"
             ],
             [
              1,
              "#f0f921"
             ]
            ],
            "type": "heatmap"
           }
          ],
          "heatmapgl": [
           {
            "colorbar": {
             "outlinewidth": 0,
             "ticks": ""
            },
            "colorscale": [
             [
              0,
              "#0d0887"
             ],
             [
              0.1111111111111111,
              "#46039f"
             ],
             [
              0.2222222222222222,
              "#7201a8"
             ],
             [
              0.3333333333333333,
              "#9c179e"
             ],
             [
              0.4444444444444444,
              "#bd3786"
             ],
             [
              0.5555555555555556,
              "#d8576b"
             ],
             [
              0.6666666666666666,
              "#ed7953"
             ],
             [
              0.7777777777777778,
              "#fb9f3a"
             ],
             [
              0.8888888888888888,
              "#fdca26"
             ],
             [
              1,
              "#f0f921"
             ]
            ],
            "type": "heatmapgl"
           }
          ],
          "histogram": [
           {
            "marker": {
             "pattern": {
              "fillmode": "overlay",
              "size": 10,
              "solidity": 0.2
             }
            },
            "type": "histogram"
           }
          ],
          "histogram2d": [
           {
            "colorbar": {
             "outlinewidth": 0,
             "ticks": ""
            },
            "colorscale": [
             [
              0,
              "#0d0887"
             ],
             [
              0.1111111111111111,
              "#46039f"
             ],
             [
              0.2222222222222222,
              "#7201a8"
             ],
             [
              0.3333333333333333,
              "#9c179e"
             ],
             [
              0.4444444444444444,
              "#bd3786"
             ],
             [
              0.5555555555555556,
              "#d8576b"
             ],
             [
              0.6666666666666666,
              "#ed7953"
             ],
             [
              0.7777777777777778,
              "#fb9f3a"
             ],
             [
              0.8888888888888888,
              "#fdca26"
             ],
             [
              1,
              "#f0f921"
             ]
            ],
            "type": "histogram2d"
           }
          ],
          "histogram2dcontour": [
           {
            "colorbar": {
             "outlinewidth": 0,
             "ticks": ""
            },
            "colorscale": [
             [
              0,
              "#0d0887"
             ],
             [
              0.1111111111111111,
              "#46039f"
             ],
             [
              0.2222222222222222,
              "#7201a8"
             ],
             [
              0.3333333333333333,
              "#9c179e"
             ],
             [
              0.4444444444444444,
              "#bd3786"
             ],
             [
              0.5555555555555556,
              "#d8576b"
             ],
             [
              0.6666666666666666,
              "#ed7953"
             ],
             [
              0.7777777777777778,
              "#fb9f3a"
             ],
             [
              0.8888888888888888,
              "#fdca26"
             ],
             [
              1,
              "#f0f921"
             ]
            ],
            "type": "histogram2dcontour"
           }
          ],
          "mesh3d": [
           {
            "colorbar": {
             "outlinewidth": 0,
             "ticks": ""
            },
            "type": "mesh3d"
           }
          ],
          "parcoords": [
           {
            "line": {
             "colorbar": {
              "outlinewidth": 0,
              "ticks": ""
             }
            },
            "type": "parcoords"
           }
          ],
          "pie": [
           {
            "automargin": true,
            "type": "pie"
           }
          ],
          "scatter": [
           {
            "fillpattern": {
             "fillmode": "overlay",
             "size": 10,
             "solidity": 0.2
            },
            "type": "scatter"
           }
          ],
          "scatter3d": [
           {
            "line": {
             "colorbar": {
              "outlinewidth": 0,
              "ticks": ""
             }
            },
            "marker": {
             "colorbar": {
              "outlinewidth": 0,
              "ticks": ""
             }
            },
            "type": "scatter3d"
           }
          ],
          "scattercarpet": [
           {
            "marker": {
             "colorbar": {
              "outlinewidth": 0,
              "ticks": ""
             }
            },
            "type": "scattercarpet"
           }
          ],
          "scattergeo": [
           {
            "marker": {
             "colorbar": {
              "outlinewidth": 0,
              "ticks": ""
             }
            },
            "type": "scattergeo"
           }
          ],
          "scattergl": [
           {
            "marker": {
             "colorbar": {
              "outlinewidth": 0,
              "ticks": ""
             }
            },
            "type": "scattergl"
           }
          ],
          "scattermapbox": [
           {
            "marker": {
             "colorbar": {
              "outlinewidth": 0,
              "ticks": ""
             }
            },
            "type": "scattermapbox"
           }
          ],
          "scatterpolar": [
           {
            "marker": {
             "colorbar": {
              "outlinewidth": 0,
              "ticks": ""
             }
            },
            "type": "scatterpolar"
           }
          ],
          "scatterpolargl": [
           {
            "marker": {
             "colorbar": {
              "outlinewidth": 0,
              "ticks": ""
             }
            },
            "type": "scatterpolargl"
           }
          ],
          "scatterternary": [
           {
            "marker": {
             "colorbar": {
              "outlinewidth": 0,
              "ticks": ""
             }
            },
            "type": "scatterternary"
           }
          ],
          "surface": [
           {
            "colorbar": {
             "outlinewidth": 0,
             "ticks": ""
            },
            "colorscale": [
             [
              0,
              "#0d0887"
             ],
             [
              0.1111111111111111,
              "#46039f"
             ],
             [
              0.2222222222222222,
              "#7201a8"
             ],
             [
              0.3333333333333333,
              "#9c179e"
             ],
             [
              0.4444444444444444,
              "#bd3786"
             ],
             [
              0.5555555555555556,
              "#d8576b"
             ],
             [
              0.6666666666666666,
              "#ed7953"
             ],
             [
              0.7777777777777778,
              "#fb9f3a"
             ],
             [
              0.8888888888888888,
              "#fdca26"
             ],
             [
              1,
              "#f0f921"
             ]
            ],
            "type": "surface"
           }
          ],
          "table": [
           {
            "cells": {
             "fill": {
              "color": "#EBF0F8"
             },
             "line": {
              "color": "white"
             }
            },
            "header": {
             "fill": {
              "color": "#C8D4E3"
             },
             "line": {
              "color": "white"
             }
            },
            "type": "table"
           }
          ]
         },
         "layout": {
          "annotationdefaults": {
           "arrowcolor": "#2a3f5f",
           "arrowhead": 0,
           "arrowwidth": 1
          },
          "autotypenumbers": "strict",
          "coloraxis": {
           "colorbar": {
            "outlinewidth": 0,
            "ticks": ""
           }
          },
          "colorscale": {
           "diverging": [
            [
             0,
             "#8e0152"
            ],
            [
             0.1,
             "#c51b7d"
            ],
            [
             0.2,
             "#de77ae"
            ],
            [
             0.3,
             "#f1b6da"
            ],
            [
             0.4,
             "#fde0ef"
            ],
            [
             0.5,
             "#f7f7f7"
            ],
            [
             0.6,
             "#e6f5d0"
            ],
            [
             0.7,
             "#b8e186"
            ],
            [
             0.8,
             "#7fbc41"
            ],
            [
             0.9,
             "#4d9221"
            ],
            [
             1,
             "#276419"
            ]
           ],
           "sequential": [
            [
             0,
             "#0d0887"
            ],
            [
             0.1111111111111111,
             "#46039f"
            ],
            [
             0.2222222222222222,
             "#7201a8"
            ],
            [
             0.3333333333333333,
             "#9c179e"
            ],
            [
             0.4444444444444444,
             "#bd3786"
            ],
            [
             0.5555555555555556,
             "#d8576b"
            ],
            [
             0.6666666666666666,
             "#ed7953"
            ],
            [
             0.7777777777777778,
             "#fb9f3a"
            ],
            [
             0.8888888888888888,
             "#fdca26"
            ],
            [
             1,
             "#f0f921"
            ]
           ],
           "sequentialminus": [
            [
             0,
             "#0d0887"
            ],
            [
             0.1111111111111111,
             "#46039f"
            ],
            [
             0.2222222222222222,
             "#7201a8"
            ],
            [
             0.3333333333333333,
             "#9c179e"
            ],
            [
             0.4444444444444444,
             "#bd3786"
            ],
            [
             0.5555555555555556,
             "#d8576b"
            ],
            [
             0.6666666666666666,
             "#ed7953"
            ],
            [
             0.7777777777777778,
             "#fb9f3a"
            ],
            [
             0.8888888888888888,
             "#fdca26"
            ],
            [
             1,
             "#f0f921"
            ]
           ]
          },
          "colorway": [
           "#636efa",
           "#EF553B",
           "#00cc96",
           "#ab63fa",
           "#FFA15A",
           "#19d3f3",
           "#FF6692",
           "#B6E880",
           "#FF97FF",
           "#FECB52"
          ],
          "font": {
           "color": "#2a3f5f"
          },
          "geo": {
           "bgcolor": "white",
           "lakecolor": "white",
           "landcolor": "white",
           "showlakes": true,
           "showland": true,
           "subunitcolor": "#C8D4E3"
          },
          "hoverlabel": {
           "align": "left"
          },
          "hovermode": "closest",
          "mapbox": {
           "style": "light"
          },
          "paper_bgcolor": "white",
          "plot_bgcolor": "white",
          "polar": {
           "angularaxis": {
            "gridcolor": "#EBF0F8",
            "linecolor": "#EBF0F8",
            "ticks": ""
           },
           "bgcolor": "white",
           "radialaxis": {
            "gridcolor": "#EBF0F8",
            "linecolor": "#EBF0F8",
            "ticks": ""
           }
          },
          "scene": {
           "xaxis": {
            "backgroundcolor": "white",
            "gridcolor": "#DFE8F3",
            "gridwidth": 2,
            "linecolor": "#EBF0F8",
            "showbackground": true,
            "ticks": "",
            "zerolinecolor": "#EBF0F8"
           },
           "yaxis": {
            "backgroundcolor": "white",
            "gridcolor": "#DFE8F3",
            "gridwidth": 2,
            "linecolor": "#EBF0F8",
            "showbackground": true,
            "ticks": "",
            "zerolinecolor": "#EBF0F8"
           },
           "zaxis": {
            "backgroundcolor": "white",
            "gridcolor": "#DFE8F3",
            "gridwidth": 2,
            "linecolor": "#EBF0F8",
            "showbackground": true,
            "ticks": "",
            "zerolinecolor": "#EBF0F8"
           }
          },
          "shapedefaults": {
           "line": {
            "color": "#2a3f5f"
           }
          },
          "ternary": {
           "aaxis": {
            "gridcolor": "#DFE8F3",
            "linecolor": "#A2B1C6",
            "ticks": ""
           },
           "baxis": {
            "gridcolor": "#DFE8F3",
            "linecolor": "#A2B1C6",
            "ticks": ""
           },
           "bgcolor": "white",
           "caxis": {
            "gridcolor": "#DFE8F3",
            "linecolor": "#A2B1C6",
            "ticks": ""
           }
          },
          "title": {
           "x": 0.05
          },
          "xaxis": {
           "automargin": true,
           "gridcolor": "#EBF0F8",
           "linecolor": "#EBF0F8",
           "ticks": "",
           "title": {
            "standoff": 15
           },
           "zerolinecolor": "#EBF0F8",
           "zerolinewidth": 2
          },
          "yaxis": {
           "automargin": true,
           "gridcolor": "#EBF0F8",
           "linecolor": "#EBF0F8",
           "ticks": "",
           "title": {
            "standoff": 15
           },
           "zerolinecolor": "#EBF0F8",
           "zerolinewidth": 2
          }
         }
        },
        "title": {
         "text": "Anzahl der Social - Media - Posts mit der Kombination: Hauptprodukte und Einkaufskanal"
        },
        "width": 756,
        "xaxis": {
         "anchor": "y",
         "domain": [
          0,
          1
         ],
         "title": {
          "text": "Anteil der Posts in %"
         }
        },
        "yaxis": {
         "anchor": "x",
         "automargin": true,
         "categoryarray": [
          "e",
          "t",
          "k",
          "u",
          "d",
          "o",
          "r",
          "p",
          "t",
          "p",
          "u",
          "a",
          "H"
         ],
         "categoryorder": "array",
         "domain": [
          0,
          1
         ],
         "title": {
          "text": "Hauptprodukte"
         }
        }
       }
      }
     },
     "metadata": {},
     "output_type": "display_data"
    }
   ],
   "source": [
    "\n",
    "def combine_subcategories(df, lense_1, lense_2):\n",
    "\n",
    "    # Generate combinations of unique subcategories across buying_channel and experts\n",
    "    combinations_list = list(product(lense_1, lense_2))\n",
    "\n",
    "    # Create new dataframe with combination pairs\n",
    "    combination_df = pd.DataFrame(combinations_list, columns=['Subcategory 1', 'Subcategory 2'])\n",
    "\n",
    "    # Initialize dictionary to store combination counts\n",
    "    combination_counts = {}\n",
    "    id_values = set()\n",
    "\n",
    "\n",
    "    # Iterate through combinations and count occurrences\n",
    "    for subcategory_1, subcategory_2 in combinations_list:\n",
    "        ids = sentiment_new_df.loc[\n",
    "            (sentiment_new_df['subcategory'] == subcategory_1) &\n",
    "            (sentiment_new_df['id'].isin(sentiment_new_df.loc[sentiment_new_df['subcategory'] == subcategory_2, 'id'])),\n",
    "            'id'\n",
    "        ].unique()\n",
    "        count = len(ids)\n",
    "        combination_counts[(subcategory_1, subcategory_2)] = count\n",
    "        id_values.update(ids)\n",
    "    \n",
    "\n",
    "    # Create new dataframe from combination counts\n",
    "    combination_counts_df = pd.DataFrame(combination_counts.items(), columns=['combination', 'count'])\n",
    "    combination_counts_df[['subcategory_1', 'subcategory_2']] = pd.DataFrame(combination_counts_df['combination'].tolist())\n",
    "    combination_counts_df = combination_counts_df.drop('combination', axis=1)\n",
    "    #combination_counts_df = combination_counts_df[combination_counts_df[lense_1] != \"Multi Gyn\"]\n",
    "    #combination_counts_df = combination_counts_df[combination_counts_df[lense_2] != \"Kadezyklus\"]\n",
    "\n",
    "\n",
    "\n",
    "\n",
    "    # Store the number of unique id values from which combinations were found\n",
    "    n_posts = len(id_values)\n",
    "\n",
    "    #print(combination_counts_df)\n",
    "\n",
    "    return combination_counts_df, n_posts\n",
    "\n",
    "\n",
    "\n",
    "\n",
    "\n",
    "def filter_and_plot(df, counts, cat1, cat2, save_name=\"img\"):\n",
    "\n",
    "    #df = df[df[cat1] != \"Multi Gyn\"]\n",
    "    #df = df[df[cat1] != \"Kadezyklus\"]\n",
    "    \n",
    "    fig = px.histogram(\n",
    "        df,\n",
    "        x=\"count\",\n",
    "        y=\"subcategory_1\",\n",
    "        color=\"subcategory_2\",\n",
    "        barnorm=\"percent\",\n",
    "        orientation=\"h\",\n",
    "        labels={\n",
    "            \"subcategory_1\": \"\",\n",
    "            \"subcategory_2\": \"\",\n",
    "            \"count\": cat2,\n",
    "        },\n",
    "        color_discrete_sequence=PERMEA_COLOR_WHEEL_5_STATISTICS,\n",
    "        text_auto=\".0f\",\n",
    "        title=f'Anzahl der Social - Media - Posts mit der Kombination: {cat1} und {cat2}',\n",
    "        template=\"plotly_white\",\n",
    "        category_orders={\n",
    "            \"subcategory_1\": cat1,\n",
    "            \"subcategory_2\": cat2\n",
    "        })\n",
    "    \n",
    "\n",
    "    fig.add_annotation(dict(font=dict(size=9),\n",
    "                        x=-0.25,\n",
    "                        y=-0.34,\n",
    "                        showarrow=False,\n",
    "                        #text=f'Based on {counts} Social Media Conversations from publicy available forums mentioning {cat1} and {cat2} <br> Germany, January 2013 – April 2023.',\n",
    "                        text=f\"Basierend auf {counts} Social-Media-Konversationen aus öffentlich zugänglichen Foren <br>Deutschland, Januar 2013 – April 2023.\",                       \n",
    "                        textangle=0,\n",
    "                        xanchor='left',\n",
    "                        xref=\"paper\",\n",
    "                        yref=\"paper\",\n",
    "                        align=\"left\"\n",
    "))\n",
    "    \n",
    "\n",
    "    fig.update_layout(\n",
    "    template='plotly_white',\n",
    "    xaxis_title='Anteil der Posts in %',\n",
    "    yaxis_title=cat1,\n",
    "    #yaxis_range=[0, 1.1 * df['Count'].max()],\n",
    "    #xaxis=dict(\n",
    "        #tickmode='linear',\n",
    "        #dtick=1,\n",
    "        #automargin=True\n",
    "    #),\n",
    "    yaxis={'automargin': True},\n",
    "    #margin=dict(l=130, r=150, b=10, pad=30),\n",
    "    autosize=False,\n",
    "    width=20 * 37.8,  # Convert 20 cm to inches (1 cm = 37.8 inches)\n",
    "    height=10 * 37.8,  # Convert 9 cm to inches (1 cm = 37.8 inches)\n",
    "    legend=dict(font=dict(size=16))\n",
    "    )\n",
    "    \n",
    "    \n",
    "        \n",
    "    #fig.write_image(save_name+\".png\")\n",
    "    \n",
    "    fig.show()\n",
    "    \n",
    "\n",
    "\n",
    "df, counts= combine_subcategories(sentiment_new_df, main_brands_multigyn_kadezyklus_kadefemin, buying_channel)\n",
    "filter_and_plot(df, counts, \"Hauptprodukte\", \"Einkaufskanal\", save_name=\"Hauptprodukte_buying_channel\")\n",
    "\n",
    "\n",
    "\n"
   ]
  },
  {
   "attachments": {},
   "cell_type": "markdown",
   "metadata": {},
   "source": [
    "## online shopping and combinations"
   ]
  },
  {
   "cell_type": "code",
   "execution_count": null,
   "metadata": {},
   "outputs": [
    {
     "data": {
      "application/vnd.plotly.v1+json": {
       "config": {
        "plotlyServerURL": "https://plot.ly"
       },
       "data": [
        {
         "alignmentgroup": "True",
         "bingroup": "y",
         "histfunc": "sum",
         "hovertemplate": "=%{y}<br>sum of Themen (normalized as percent)=%{x}<extra></extra>",
         "legendgroup": "Medizinische Experten",
         "marker": {
          "color": "rgb(54, 112, 226)",
          "pattern": {
           "shape": ""
          }
         },
         "name": "Medizinische Experten",
         "offsetgroup": "Medizinische Experten",
         "orientation": "h",
         "showlegend": true,
         "texttemplate": "%{value:.0f}",
         "type": "histogram",
         "x": [
          7119
         ],
         "xaxis": "x",
         "y": [
          "Online kaufen"
         ],
         "yaxis": "y"
        },
        {
         "alignmentgroup": "True",
         "bingroup": "y",
         "histfunc": "sum",
         "hovertemplate": "=%{y}<br>sum of Themen (normalized as percent)=%{x}<extra></extra>",
         "legendgroup": "Schwangerschaft",
         "marker": {
          "color": "rgb(54, 169, 226)",
          "pattern": {
           "shape": ""
          }
         },
         "name": "Schwangerschaft",
         "offsetgroup": "Schwangerschaft",
         "orientation": "h",
         "showlegend": true,
         "texttemplate": "%{value:.0f}",
         "type": "histogram",
         "x": [
          6029
         ],
         "xaxis": "x",
         "y": [
          "Online kaufen"
         ],
         "yaxis": "y"
        },
        {
         "alignmentgroup": "True",
         "bingroup": "y",
         "histfunc": "sum",
         "hovertemplate": "=%{y}<br>sum of Themen (normalized as percent)=%{x}<extra></extra>",
         "legendgroup": "Empfehlung",
         "marker": {
          "color": "rgb(54, 226, 169)",
          "pattern": {
           "shape": ""
          }
         },
         "name": "Empfehlung",
         "offsetgroup": "Empfehlung",
         "orientation": "h",
         "showlegend": true,
         "texttemplate": "%{value:.0f}",
         "type": "histogram",
         "x": [
          4241
         ],
         "xaxis": "x",
         "y": [
          "Online kaufen"
         ],
         "yaxis": "y"
        },
        {
         "alignmentgroup": "True",
         "bingroup": "y",
         "histfunc": "sum",
         "hovertemplate": "=%{y}<br>sum of Themen (normalized as percent)=%{x}<extra></extra>",
         "legendgroup": "Symptome",
         "marker": {
          "color": "rgb(112, 54, 226)",
          "pattern": {
           "shape": ""
          }
         },
         "name": "Symptome",
         "offsetgroup": "Symptome",
         "orientation": "h",
         "showlegend": true,
         "texttemplate": "%{value:.0f}",
         "type": "histogram",
         "x": [
          4127
         ],
         "xaxis": "x",
         "y": [
          "Online kaufen"
         ],
         "yaxis": "y"
        },
        {
         "alignmentgroup": "True",
         "bingroup": "y",
         "histfunc": "sum",
         "hovertemplate": "=%{y}<br>sum of Themen (normalized as percent)=%{x}<extra></extra>",
         "legendgroup": "Freiverkäuflich",
         "marker": {
          "color": "rgb(226, 54, 169)",
          "pattern": {
           "shape": ""
          }
         },
         "name": "Freiverkäuflich",
         "offsetgroup": "Freiverkäuflich",
         "orientation": "h",
         "showlegend": true,
         "texttemplate": "%{value:.0f}",
         "type": "histogram",
         "x": [
          1886
         ],
         "xaxis": "x",
         "y": [
          "Online kaufen"
         ],
         "yaxis": "y"
        },
        {
         "alignmentgroup": "True",
         "bingroup": "y",
         "histfunc": "sum",
         "hovertemplate": "=%{y}<br>sum of Themen (normalized as percent)=%{x}<extra></extra>",
         "legendgroup": "Menopause",
         "marker": {
          "color": "rgb(169, 54, 226)",
          "pattern": {
           "shape": ""
          }
         },
         "name": "Menopause",
         "offsetgroup": "Menopause",
         "orientation": "h",
         "showlegend": true,
         "texttemplate": "%{value:.0f}",
         "type": "histogram",
         "x": [
          1772
         ],
         "xaxis": "x",
         "y": [
          "Online kaufen"
         ],
         "yaxis": "y"
        },
        {
         "alignmentgroup": "True",
         "bingroup": "y",
         "histfunc": "sum",
         "hovertemplate": "=%{y}<br>sum of Themen (normalized as percent)=%{x}<extra></extra>",
         "legendgroup": "Scheidenpilz",
         "marker": {
          "color": "rgb(169, 226, 54)",
          "pattern": {
           "shape": ""
          }
         },
         "name": "Scheidenpilz",
         "offsetgroup": "Scheidenpilz",
         "orientation": "h",
         "showlegend": true,
         "texttemplate": "%{value:.0f}",
         "type": "histogram",
         "x": [
          1176
         ],
         "xaxis": "x",
         "y": [
          "Online kaufen"
         ],
         "yaxis": "y"
        },
        {
         "alignmentgroup": "True",
         "bingroup": "y",
         "histfunc": "sum",
         "hovertemplate": "=%{y}<br>sum of Themen (normalized as percent)=%{x}<extra></extra>",
         "legendgroup": "Scheidenflora",
         "marker": {
          "color": "rgb(226, 112, 54)",
          "pattern": {
           "shape": ""
          }
         },
         "name": "Scheidenflora",
         "offsetgroup": "Scheidenflora",
         "orientation": "h",
         "showlegend": true,
         "texttemplate": "%{value:.0f}",
         "type": "histogram",
         "x": [
          897
         ],
         "xaxis": "x",
         "y": [
          "Online kaufen"
         ],
         "yaxis": "y"
        },
        {
         "alignmentgroup": "True",
         "bingroup": "y",
         "histfunc": "sum",
         "hovertemplate": "=%{y}<br>sum of Themen (normalized as percent)=%{x}<extra></extra>",
         "legendgroup": "Zyklusbeschwerden",
         "marker": {
          "color": "rgb(226, 169, 54)",
          "pattern": {
           "shape": ""
          }
         },
         "name": "Zyklusbeschwerden",
         "offsetgroup": "Zyklusbeschwerden",
         "orientation": "h",
         "showlegend": true,
         "texttemplate": "%{value:.0f}",
         "type": "histogram",
         "x": [
          751
         ],
         "xaxis": "x",
         "y": [
          "Online kaufen"
         ],
         "yaxis": "y"
        },
        {
         "alignmentgroup": "True",
         "bingroup": "y",
         "histfunc": "sum",
         "hovertemplate": "=%{y}<br>sum of Themen (normalized as percent)=%{x}<extra></extra>",
         "legendgroup": "Rezeptpflichtig",
         "marker": {
          "color": "rgb(226, 226, 54)",
          "pattern": {
           "shape": ""
          }
         },
         "name": "Rezeptpflichtig",
         "offsetgroup": "Rezeptpflichtig",
         "orientation": "h",
         "showlegend": true,
         "texttemplate": "%{value:.0f}",
         "type": "histogram",
         "x": [
          641
         ],
         "xaxis": "x",
         "y": [
          "Online kaufen"
         ],
         "yaxis": "y"
        }
       ],
       "layout": {
        "annotations": [
         {
          "align": "left",
          "font": {
           "size": 9
          },
          "showarrow": false,
          "text": "Basierend auf 13147 Social-Media-Konversationen aus öffentlich zugänglichen Foren <br>Deutschland, Januar 2013 – April 2023.",
          "textangle": 0,
          "x": -0.25,
          "xanchor": "left",
          "xref": "paper",
          "y": -0.34,
          "yref": "paper"
         }
        ],
        "autosize": false,
        "barmode": "relative",
        "barnorm": "percent",
        "height": 453.59999999999997,
        "legend": {
         "font": {
          "size": 15
         },
         "title": {
          "text": ""
         },
         "tracegroupgap": 0
        },
        "template": {
         "data": {
          "bar": [
           {
            "error_x": {
             "color": "#2a3f5f"
            },
            "error_y": {
             "color": "#2a3f5f"
            },
            "marker": {
             "line": {
              "color": "white",
              "width": 0.5
             },
             "pattern": {
              "fillmode": "overlay",
              "size": 10,
              "solidity": 0.2
             }
            },
            "type": "bar"
           }
          ],
          "barpolar": [
           {
            "marker": {
             "line": {
              "color": "white",
              "width": 0.5
             },
             "pattern": {
              "fillmode": "overlay",
              "size": 10,
              "solidity": 0.2
             }
            },
            "type": "barpolar"
           }
          ],
          "carpet": [
           {
            "aaxis": {
             "endlinecolor": "#2a3f5f",
             "gridcolor": "#C8D4E3",
             "linecolor": "#C8D4E3",
             "minorgridcolor": "#C8D4E3",
             "startlinecolor": "#2a3f5f"
            },
            "baxis": {
             "endlinecolor": "#2a3f5f",
             "gridcolor": "#C8D4E3",
             "linecolor": "#C8D4E3",
             "minorgridcolor": "#C8D4E3",
             "startlinecolor": "#2a3f5f"
            },
            "type": "carpet"
           }
          ],
          "choropleth": [
           {
            "colorbar": {
             "outlinewidth": 0,
             "ticks": ""
            },
            "type": "choropleth"
           }
          ],
          "contour": [
           {
            "colorbar": {
             "outlinewidth": 0,
             "ticks": ""
            },
            "colorscale": [
             [
              0,
              "#0d0887"
             ],
             [
              0.1111111111111111,
              "#46039f"
             ],
             [
              0.2222222222222222,
              "#7201a8"
             ],
             [
              0.3333333333333333,
              "#9c179e"
             ],
             [
              0.4444444444444444,
              "#bd3786"
             ],
             [
              0.5555555555555556,
              "#d8576b"
             ],
             [
              0.6666666666666666,
              "#ed7953"
             ],
             [
              0.7777777777777778,
              "#fb9f3a"
             ],
             [
              0.8888888888888888,
              "#fdca26"
             ],
             [
              1,
              "#f0f921"
             ]
            ],
            "type": "contour"
           }
          ],
          "contourcarpet": [
           {
            "colorbar": {
             "outlinewidth": 0,
             "ticks": ""
            },
            "type": "contourcarpet"
           }
          ],
          "heatmap": [
           {
            "colorbar": {
             "outlinewidth": 0,
             "ticks": ""
            },
            "colorscale": [
             [
              0,
              "#0d0887"
             ],
             [
              0.1111111111111111,
              "#46039f"
             ],
             [
              0.2222222222222222,
              "#7201a8"
             ],
             [
              0.3333333333333333,
              "#9c179e"
             ],
             [
              0.4444444444444444,
              "#bd3786"
             ],
             [
              0.5555555555555556,
              "#d8576b"
             ],
             [
              0.6666666666666666,
              "#ed7953"
             ],
             [
              0.7777777777777778,
              "#fb9f3a"
             ],
             [
              0.8888888888888888,
              "#fdca26"
             ],
             [
              1,
              "#f0f921"
             ]
            ],
            "type": "heatmap"
           }
          ],
          "heatmapgl": [
           {
            "colorbar": {
             "outlinewidth": 0,
             "ticks": ""
            },
            "colorscale": [
             [
              0,
              "#0d0887"
             ],
             [
              0.1111111111111111,
              "#46039f"
             ],
             [
              0.2222222222222222,
              "#7201a8"
             ],
             [
              0.3333333333333333,
              "#9c179e"
             ],
             [
              0.4444444444444444,
              "#bd3786"
             ],
             [
              0.5555555555555556,
              "#d8576b"
             ],
             [
              0.6666666666666666,
              "#ed7953"
             ],
             [
              0.7777777777777778,
              "#fb9f3a"
             ],
             [
              0.8888888888888888,
              "#fdca26"
             ],
             [
              1,
              "#f0f921"
             ]
            ],
            "type": "heatmapgl"
           }
          ],
          "histogram": [
           {
            "marker": {
             "pattern": {
              "fillmode": "overlay",
              "size": 10,
              "solidity": 0.2
             }
            },
            "type": "histogram"
           }
          ],
          "histogram2d": [
           {
            "colorbar": {
             "outlinewidth": 0,
             "ticks": ""
            },
            "colorscale": [
             [
              0,
              "#0d0887"
             ],
             [
              0.1111111111111111,
              "#46039f"
             ],
             [
              0.2222222222222222,
              "#7201a8"
             ],
             [
              0.3333333333333333,
              "#9c179e"
             ],
             [
              0.4444444444444444,
              "#bd3786"
             ],
             [
              0.5555555555555556,
              "#d8576b"
             ],
             [
              0.6666666666666666,
              "#ed7953"
             ],
             [
              0.7777777777777778,
              "#fb9f3a"
             ],
             [
              0.8888888888888888,
              "#fdca26"
             ],
             [
              1,
              "#f0f921"
             ]
            ],
            "type": "histogram2d"
           }
          ],
          "histogram2dcontour": [
           {
            "colorbar": {
             "outlinewidth": 0,
             "ticks": ""
            },
            "colorscale": [
             [
              0,
              "#0d0887"
             ],
             [
              0.1111111111111111,
              "#46039f"
             ],
             [
              0.2222222222222222,
              "#7201a8"
             ],
             [
              0.3333333333333333,
              "#9c179e"
             ],
             [
              0.4444444444444444,
              "#bd3786"
             ],
             [
              0.5555555555555556,
              "#d8576b"
             ],
             [
              0.6666666666666666,
              "#ed7953"
             ],
             [
              0.7777777777777778,
              "#fb9f3a"
             ],
             [
              0.8888888888888888,
              "#fdca26"
             ],
             [
              1,
              "#f0f921"
             ]
            ],
            "type": "histogram2dcontour"
           }
          ],
          "mesh3d": [
           {
            "colorbar": {
             "outlinewidth": 0,
             "ticks": ""
            },
            "type": "mesh3d"
           }
          ],
          "parcoords": [
           {
            "line": {
             "colorbar": {
              "outlinewidth": 0,
              "ticks": ""
             }
            },
            "type": "parcoords"
           }
          ],
          "pie": [
           {
            "automargin": true,
            "type": "pie"
           }
          ],
          "scatter": [
           {
            "fillpattern": {
             "fillmode": "overlay",
             "size": 10,
             "solidity": 0.2
            },
            "type": "scatter"
           }
          ],
          "scatter3d": [
           {
            "line": {
             "colorbar": {
              "outlinewidth": 0,
              "ticks": ""
             }
            },
            "marker": {
             "colorbar": {
              "outlinewidth": 0,
              "ticks": ""
             }
            },
            "type": "scatter3d"
           }
          ],
          "scattercarpet": [
           {
            "marker": {
             "colorbar": {
              "outlinewidth": 0,
              "ticks": ""
             }
            },
            "type": "scattercarpet"
           }
          ],
          "scattergeo": [
           {
            "marker": {
             "colorbar": {
              "outlinewidth": 0,
              "ticks": ""
             }
            },
            "type": "scattergeo"
           }
          ],
          "scattergl": [
           {
            "marker": {
             "colorbar": {
              "outlinewidth": 0,
              "ticks": ""
             }
            },
            "type": "scattergl"
           }
          ],
          "scattermapbox": [
           {
            "marker": {
             "colorbar": {
              "outlinewidth": 0,
              "ticks": ""
             }
            },
            "type": "scattermapbox"
           }
          ],
          "scatterpolar": [
           {
            "marker": {
             "colorbar": {
              "outlinewidth": 0,
              "ticks": ""
             }
            },
            "type": "scatterpolar"
           }
          ],
          "scatterpolargl": [
           {
            "marker": {
             "colorbar": {
              "outlinewidth": 0,
              "ticks": ""
             }
            },
            "type": "scatterpolargl"
           }
          ],
          "scatterternary": [
           {
            "marker": {
             "colorbar": {
              "outlinewidth": 0,
              "ticks": ""
             }
            },
            "type": "scatterternary"
           }
          ],
          "surface": [
           {
            "colorbar": {
             "outlinewidth": 0,
             "ticks": ""
            },
            "colorscale": [
             [
              0,
              "#0d0887"
             ],
             [
              0.1111111111111111,
              "#46039f"
             ],
             [
              0.2222222222222222,
              "#7201a8"
             ],
             [
              0.3333333333333333,
              "#9c179e"
             ],
             [
              0.4444444444444444,
              "#bd3786"
             ],
             [
              0.5555555555555556,
              "#d8576b"
             ],
             [
              0.6666666666666666,
              "#ed7953"
             ],
             [
              0.7777777777777778,
              "#fb9f3a"
             ],
             [
              0.8888888888888888,
              "#fdca26"
             ],
             [
              1,
              "#f0f921"
             ]
            ],
            "type": "surface"
           }
          ],
          "table": [
           {
            "cells": {
             "fill": {
              "color": "#EBF0F8"
             },
             "line": {
              "color": "white"
             }
            },
            "header": {
             "fill": {
              "color": "#C8D4E3"
             },
             "line": {
              "color": "white"
             }
            },
            "type": "table"
           }
          ]
         },
         "layout": {
          "annotationdefaults": {
           "arrowcolor": "#2a3f5f",
           "arrowhead": 0,
           "arrowwidth": 1
          },
          "autotypenumbers": "strict",
          "coloraxis": {
           "colorbar": {
            "outlinewidth": 0,
            "ticks": ""
           }
          },
          "colorscale": {
           "diverging": [
            [
             0,
             "#8e0152"
            ],
            [
             0.1,
             "#c51b7d"
            ],
            [
             0.2,
             "#de77ae"
            ],
            [
             0.3,
             "#f1b6da"
            ],
            [
             0.4,
             "#fde0ef"
            ],
            [
             0.5,
             "#f7f7f7"
            ],
            [
             0.6,
             "#e6f5d0"
            ],
            [
             0.7,
             "#b8e186"
            ],
            [
             0.8,
             "#7fbc41"
            ],
            [
             0.9,
             "#4d9221"
            ],
            [
             1,
             "#276419"
            ]
           ],
           "sequential": [
            [
             0,
             "#0d0887"
            ],
            [
             0.1111111111111111,
             "#46039f"
            ],
            [
             0.2222222222222222,
             "#7201a8"
            ],
            [
             0.3333333333333333,
             "#9c179e"
            ],
            [
             0.4444444444444444,
             "#bd3786"
            ],
            [
             0.5555555555555556,
             "#d8576b"
            ],
            [
             0.6666666666666666,
             "#ed7953"
            ],
            [
             0.7777777777777778,
             "#fb9f3a"
            ],
            [
             0.8888888888888888,
             "#fdca26"
            ],
            [
             1,
             "#f0f921"
            ]
           ],
           "sequentialminus": [
            [
             0,
             "#0d0887"
            ],
            [
             0.1111111111111111,
             "#46039f"
            ],
            [
             0.2222222222222222,
             "#7201a8"
            ],
            [
             0.3333333333333333,
             "#9c179e"
            ],
            [
             0.4444444444444444,
             "#bd3786"
            ],
            [
             0.5555555555555556,
             "#d8576b"
            ],
            [
             0.6666666666666666,
             "#ed7953"
            ],
            [
             0.7777777777777778,
             "#fb9f3a"
            ],
            [
             0.8888888888888888,
             "#fdca26"
            ],
            [
             1,
             "#f0f921"
            ]
           ]
          },
          "colorway": [
           "#636efa",
           "#EF553B",
           "#00cc96",
           "#ab63fa",
           "#FFA15A",
           "#19d3f3",
           "#FF6692",
           "#B6E880",
           "#FF97FF",
           "#FECB52"
          ],
          "font": {
           "color": "#2a3f5f"
          },
          "geo": {
           "bgcolor": "white",
           "lakecolor": "white",
           "landcolor": "white",
           "showlakes": true,
           "showland": true,
           "subunitcolor": "#C8D4E3"
          },
          "hoverlabel": {
           "align": "left"
          },
          "hovermode": "closest",
          "mapbox": {
           "style": "light"
          },
          "paper_bgcolor": "white",
          "plot_bgcolor": "white",
          "polar": {
           "angularaxis": {
            "gridcolor": "#EBF0F8",
            "linecolor": "#EBF0F8",
            "ticks": ""
           },
           "bgcolor": "white",
           "radialaxis": {
            "gridcolor": "#EBF0F8",
            "linecolor": "#EBF0F8",
            "ticks": ""
           }
          },
          "scene": {
           "xaxis": {
            "backgroundcolor": "white",
            "gridcolor": "#DFE8F3",
            "gridwidth": 2,
            "linecolor": "#EBF0F8",
            "showbackground": true,
            "ticks": "",
            "zerolinecolor": "#EBF0F8"
           },
           "yaxis": {
            "backgroundcolor": "white",
            "gridcolor": "#DFE8F3",
            "gridwidth": 2,
            "linecolor": "#EBF0F8",
            "showbackground": true,
            "ticks": "",
            "zerolinecolor": "#EBF0F8"
           },
           "zaxis": {
            "backgroundcolor": "white",
            "gridcolor": "#DFE8F3",
            "gridwidth": 2,
            "linecolor": "#EBF0F8",
            "showbackground": true,
            "ticks": "",
            "zerolinecolor": "#EBF0F8"
           }
          },
          "shapedefaults": {
           "line": {
            "color": "#2a3f5f"
           }
          },
          "ternary": {
           "aaxis": {
            "gridcolor": "#DFE8F3",
            "linecolor": "#A2B1C6",
            "ticks": ""
           },
           "baxis": {
            "gridcolor": "#DFE8F3",
            "linecolor": "#A2B1C6",
            "ticks": ""
           },
           "bgcolor": "white",
           "caxis": {
            "gridcolor": "#DFE8F3",
            "linecolor": "#A2B1C6",
            "ticks": ""
           }
          },
          "title": {
           "x": 0.05
          },
          "xaxis": {
           "automargin": true,
           "gridcolor": "#EBF0F8",
           "linecolor": "#EBF0F8",
           "ticks": "",
           "title": {
            "standoff": 15
           },
           "zerolinecolor": "#EBF0F8",
           "zerolinewidth": 2
          },
          "yaxis": {
           "automargin": true,
           "gridcolor": "#EBF0F8",
           "linecolor": "#EBF0F8",
           "ticks": "",
           "title": {
            "standoff": 15
           },
           "zerolinecolor": "#EBF0F8",
           "zerolinewidth": 2
          }
         }
        },
        "title": {
         "text": "Anzahl der Social - Media - Posts mit der Kombination: Online Shoppen und Themen"
        },
        "width": 756,
        "xaxis": {
         "anchor": "y",
         "domain": [
          0,
          1
         ],
         "title": {
          "text": "Anteil der Posts in %"
         }
        },
        "yaxis": {
         "anchor": "x",
         "automargin": true,
         "categoryarray": [
          "Online kaufen"
         ],
         "categoryorder": "array",
         "domain": [
          0,
          1
         ],
         "title": {
          "text": "Online Shoppen"
         }
        }
       }
      }
     },
     "metadata": {},
     "output_type": "display_data"
    }
   ],
   "source": [
    "\n",
    "def combine_subcategories(df, lense_1, lense_2):\n",
    "\n",
    "    # Generate combinations of unique subcategories across buying_channel and experts\n",
    "    combinations_list = list(product(lense_1, lense_2))\n",
    "\n",
    "    # Create new dataframe with combination pairs\n",
    "    combination_df = pd.DataFrame(combinations_list, columns=['Subcategory 1', 'Subcategory 2'])\n",
    "\n",
    "    # Initialize dictionary to store combination counts\n",
    "    combination_counts = {}\n",
    "    id_values = set()\n",
    "\n",
    "\n",
    "    # Iterate through combinations and count occurrences\n",
    "    for subcategory_1, subcategory_2 in combinations_list:\n",
    "        ids = sentiment_new_df.loc[\n",
    "            (sentiment_new_df['subcategory'] == subcategory_1) &\n",
    "            (sentiment_new_df['id'].isin(sentiment_new_df.loc[sentiment_new_df['subcategory'] == subcategory_2, 'id'])),\n",
    "            'id'\n",
    "        ].unique()\n",
    "        count = len(ids)\n",
    "        combination_counts[(subcategory_1, subcategory_2)] = count\n",
    "        id_values.update(ids)\n",
    "    \n",
    "\n",
    "    # Create new dataframe from combination counts\n",
    "    combination_counts_df = pd.DataFrame(combination_counts.items(), columns=['combination', 'count'])\n",
    "    combination_counts_df[['subcategory_1', 'subcategory_2']] = pd.DataFrame(combination_counts_df['combination'].tolist())\n",
    "    combination_counts_df = combination_counts_df.drop('combination', axis=1)\n",
    "\n",
    "    # Store the number of unique id values from which combinations were found\n",
    "    n_posts = len(id_values)\n",
    "\n",
    "    #print(combination_counts_df)\n",
    "\n",
    "    return combination_counts_df, n_posts\n",
    "\n",
    "\n",
    "\n",
    "\n",
    "\n",
    "def filter_and_plot(df, counts, cat1, cat2, save_name=\"img\"):\n",
    "    df_sorted = df.sort_values(by='count', ascending=False)  # Sort the DataFrame by count in descending order\n",
    "    \n",
    "    \n",
    "    fig = px.histogram(\n",
    "        df_sorted,\n",
    "        x=\"count\",\n",
    "        y=\"subcategory_1\",\n",
    "        color=\"subcategory_2\",\n",
    "        barnorm=\"percent\",\n",
    "        orientation=\"h\",\n",
    "        labels={\n",
    "            \"subcategory_1\": \"\",\n",
    "            \"subcategory_2\": \"\",\n",
    "            \"count\": cat2,\n",
    "        },\n",
    "        color_discrete_sequence=PERMEA_COLOR_WHEEL_11_STATISTICS,\n",
    "        text_auto=\".0f\",\n",
    "        title=f'Anzahl der Social - Media - Posts mit der Kombination: {cat1} und {cat2}',\n",
    "        template=\"plotly_white\",\n",
    "        category_orders={\n",
    "            \"subcategory_1\": df_sorted[\"subcategory_1\"].unique(),  # Order subcategory_1 based on unique values in sorted DataFrame\n",
    "            \"subcategory_2\": df_sorted[\"subcategory_2\"].unique()   # Order subcategory_2 based on unique values in sorted DataFrame\n",
    "        })\n",
    "    \n",
    "\n",
    "    fig.add_annotation(dict(font=dict(size=9),\n",
    "                        x=-0.25,\n",
    "                        y=-0.34,\n",
    "                        showarrow=False,\n",
    "                        #text=f'Based on {counts} Social Media Conversations from publicy available forums mentioning {cat1} and {cat2} <br> Germany, January 2013 – April 2023.',\n",
    "                        text=f\"Basierend auf {counts} Social-Media-Konversationen aus öffentlich zugänglichen Foren <br>Deutschland, Januar 2013 – April 2023.\",                       \n",
    "                        textangle=0,\n",
    "                        xanchor='left',\n",
    "                        xref=\"paper\",\n",
    "                        yref=\"paper\",\n",
    "                        align=\"left\"\n",
    "))\n",
    "    \n",
    "\n",
    "    fig.update_layout(\n",
    "    template='plotly_white',\n",
    "    xaxis_title='Anteil der Posts in %',\n",
    "    yaxis_title=cat1,\n",
    "    #yaxis_range=[0, 1.1 * df['Count'].max()],\n",
    "    #xaxis=dict(\n",
    "        #tickmode='linear',\n",
    "        #dtick=1,\n",
    "        #automargin=True\n",
    "    #),\n",
    "    yaxis={'automargin': True},\n",
    "    #margin=dict(l=130, r=150, b=10, pad=30),\n",
    "    autosize=False,\n",
    "    width=20 * 37.8,  # Convert 20 cm to inches (1 cm = 37.8 inches)\n",
    "    height=12 * 37.8,  # Convert 9 cm to inches (1 cm = 37.8 inches)\n",
    "    legend=dict(font=dict(size=15))\n",
    "    )\n",
    "    \n",
    "    \n",
    "        \n",
    "    #fig.write_image(save_name+\".png\")\n",
    "    \n",
    "    fig.show()\n",
    "    \n",
    "\n",
    "\n",
    "df, counts= combine_subcategories(sentiment_new_df, online_shopping, online_shopping_mix)\n",
    "filter_and_plot(df, counts, \"Online Shoppen\", \"Themen\", save_name=\"online_shoopen_mix\")\n",
    "\n",
    "\n",
    "\n"
   ]
  },
  {
   "attachments": {},
   "cell_type": "markdown",
   "metadata": {},
   "source": [
    "## generic not anymore products"
   ]
  },
  {
   "cell_type": "code",
   "execution_count": null,
   "metadata": {},
   "outputs": [
    {
     "ename": "TypeError",
     "evalue": "unhashable type: 'set'",
     "output_type": "error",
     "traceback": [
      "\u001b[1;31m---------------------------------------------------------------------------\u001b[0m",
      "\u001b[1;31mTypeError\u001b[0m                                 Traceback (most recent call last)",
      "Cell \u001b[1;32mIn[16], line 106\u001b[0m\n\u001b[0;32m    100\u001b[0m     \u001b[39m#fig.write_image(save_name+\".png\")\u001b[39;00m\n\u001b[0;32m    102\u001b[0m     fig\u001b[39m.\u001b[39mshow()\n\u001b[1;32m--> 106\u001b[0m df, counts\u001b[39m=\u001b[39m combine_subcategories(sentiment_new_df, online_shopping, online_shopping_mix)\n\u001b[0;32m    107\u001b[0m filter_and_plot(df, counts, \u001b[39m\"\u001b[39m\u001b[39mOnline Shoppen\u001b[39m\u001b[39m\"\u001b[39m, \u001b[39m\"\u001b[39m\u001b[39mMix\u001b[39m\u001b[39m\"\u001b[39m, save_name\u001b[39m=\u001b[39m\u001b[39m\"\u001b[39m\u001b[39monline_shoopen_mix\u001b[39m\u001b[39m\"\u001b[39m)\n",
      "Cell \u001b[1;32mIn[16], line 22\u001b[0m, in \u001b[0;36mcombine_subcategories\u001b[1;34m(df, lense_1, lense_2)\u001b[0m\n\u001b[0;32m     16\u001b[0m     ids \u001b[39m=\u001b[39m sentiment_new_df\u001b[39m.\u001b[39mloc[\n\u001b[0;32m     17\u001b[0m         (sentiment_new_df[\u001b[39m'\u001b[39m\u001b[39msubcategory\u001b[39m\u001b[39m'\u001b[39m] \u001b[39m==\u001b[39m subcategory_1) \u001b[39m&\u001b[39m\n\u001b[0;32m     18\u001b[0m         (sentiment_new_df[\u001b[39m'\u001b[39m\u001b[39mid\u001b[39m\u001b[39m'\u001b[39m]\u001b[39m.\u001b[39misin(sentiment_new_df\u001b[39m.\u001b[39mloc[sentiment_new_df[\u001b[39m'\u001b[39m\u001b[39msubcategory\u001b[39m\u001b[39m'\u001b[39m] \u001b[39m==\u001b[39m subcategory_2, \u001b[39m'\u001b[39m\u001b[39mid\u001b[39m\u001b[39m'\u001b[39m])),\n\u001b[0;32m     19\u001b[0m         \u001b[39m'\u001b[39m\u001b[39mid\u001b[39m\u001b[39m'\u001b[39m\n\u001b[0;32m     20\u001b[0m     ]\u001b[39m.\u001b[39munique()\n\u001b[0;32m     21\u001b[0m     count \u001b[39m=\u001b[39m \u001b[39mlen\u001b[39m(ids)\n\u001b[1;32m---> 22\u001b[0m     combination_counts[(subcategory_1, subcategory_2)] \u001b[39m=\u001b[39m count\n\u001b[0;32m     23\u001b[0m     id_values\u001b[39m.\u001b[39mupdate(ids)\n\u001b[0;32m     26\u001b[0m \u001b[39m# Create new dataframe from combination counts\u001b[39;00m\n",
      "\u001b[1;31mTypeError\u001b[0m: unhashable type: 'set'"
     ]
    }
   ],
   "source": [
    "\n",
    "def combine_subcategories(df, lense_1, lense_2):\n",
    "\n",
    "    # Generate combinations of unique subcategories across buying_channel and experts\n",
    "    combinations_list = list(product(lense_1, lense_2))\n",
    "\n",
    "    # Create new dataframe with combination pairs\n",
    "    combination_df = pd.DataFrame(combinations_list, columns=['Subcategory 1', 'Subcategory 2'])\n",
    "\n",
    "    # Initialize dictionary to store combination counts\n",
    "    combination_counts = {}\n",
    "    id_values = set()\n",
    "\n",
    "\n",
    "    # Iterate through combinations and count occurrences\n",
    "    for subcategory_1, subcategory_2 in combinations_list:\n",
    "        ids = sentiment_new_df.loc[\n",
    "            (sentiment_new_df['subcategory'] == subcategory_1) &\n",
    "            (sentiment_new_df['id'].isin(sentiment_new_df.loc[sentiment_new_df['subcategory'] == subcategory_2, 'id'])),\n",
    "            'id'\n",
    "        ].unique()\n",
    "        count = len(ids)\n",
    "        combination_counts[(subcategory_1, subcategory_2)] = count\n",
    "        id_values.update(ids)\n",
    "    \n",
    "\n",
    "    # Create new dataframe from combination counts\n",
    "    combination_counts_df = pd.DataFrame(combination_counts.items(), columns=['combination', 'count'])\n",
    "    combination_counts_df[['subcategory_1', 'subcategory_2']] = pd.DataFrame(combination_counts_df['combination'].tolist())\n",
    "    combination_counts_df = combination_counts_df.drop('combination', axis=1)\n",
    "\n",
    "    # Store the number of unique id values from which combinations were found\n",
    "    n_posts = len(id_values)\n",
    "\n",
    "    #print(combination_counts_df)\n",
    "\n",
    "    return combination_counts_df, n_posts\n",
    "\n",
    "\n",
    "\n",
    "\n",
    "\n",
    "def filter_and_plot(df, counts, cat1, cat2, save_name=\"img\"):\n",
    "    \n",
    "    fig = px.histogram(\n",
    "        df,\n",
    "        x=\"count\",\n",
    "        y=\"subcategory_1\",\n",
    "        color=\"subcategory_2\",\n",
    "        barnorm=\"percent\",\n",
    "        orientation=\"h\",\n",
    "        labels={\n",
    "            \"subcategory_1\": \"\",\n",
    "            \"subcategory_2\": \"\",\n",
    "            \"count\": cat2,\n",
    "        },\n",
    "        color_discrete_sequence=PERMEA_COLOR_WHEEL_11_STATISTICS,\n",
    "        text_auto=\".0f\",\n",
    "        title=f'Anzahl der Social - Media - Posts mit der Kombination: {cat1} und {cat2}',\n",
    "        template=\"plotly_white\",\n",
    "        category_orders={\n",
    "            \"subcategory_1\": cat1,\n",
    "            \"subcategory_2\": cat2\n",
    "        })\n",
    "    \n",
    "\n",
    "    fig.add_annotation(dict(font=dict(size=9),\n",
    "                        x=-0.25,\n",
    "                        y=-0.34,\n",
    "                        showarrow=False,\n",
    "                        #text=f'Based on {counts} Social Media Conversations from publicy available forums mentioning {cat1} and {cat2} <br> Germany, January 2013 – April 2023.',\n",
    "                        text=f\"Basierend auf {counts} Social-Media-Konversationen aus öffentlich zugänglichen Foren <br>Deutschland, Januar 2013 – April 2023.\",                       \n",
    "                        textangle=0,\n",
    "                        xanchor='left',\n",
    "                        xref=\"paper\",\n",
    "                        yref=\"paper\",\n",
    "                        align=\"left\"\n",
    "))\n",
    "    \n",
    "\n",
    "    fig.update_layout(\n",
    "    template='plotly_white',\n",
    "    xaxis_title='Anteil der Posts in %',\n",
    "    yaxis_title=cat1,\n",
    "    #yaxis_range=[0, 1.1 * df['Count'].max()],\n",
    "    #xaxis=dict(\n",
    "        #tickmode='linear',\n",
    "        #dtick=1,\n",
    "        #automargin=True\n",
    "    #),\n",
    "    yaxis={'automargin': True},\n",
    "    #margin=dict(l=130, r=150, b=10, pad=30),\n",
    "    autosize=False,\n",
    "    width=20 * 37.8,  # Convert 20 cm to inches (1 cm = 37.8 inches)\n",
    "    height=10 * 37.8,  # Convert 9 cm to inches (1 cm = 37.8 inches)\n",
    "    legend=dict(font=dict(size=16))\n",
    "    )\n",
    "    \n",
    "    \n",
    "        \n",
    "    #fig.write_image(save_name+\".png\")\n",
    "    \n",
    "    fig.show()\n",
    "    \n",
    "\n",
    "\n",
    "df, counts= combine_subcategories(sentiment_new_df, online_shopping, online_shopping_mix)\n",
    "filter_and_plot(df, counts, \"Online Shoppen\", \"Mix\", save_name=\"online_shoopen_mix\")\n",
    "\n",
    "\n",
    "\n"
   ]
  },
  {
   "cell_type": "code",
   "execution_count": null,
   "metadata": {},
   "outputs": [
    {
     "data": {
      "application/vnd.plotly.v1+json": {
       "config": {
        "plotlyServerURL": "https://plot.ly"
       },
       "data": [
        {
         "alignmentgroup": "True",
         "bingroup": "y",
         "histfunc": "sum",
         "hovertemplate": "=%{y}<br>sum of Einkaufskannal (normalized as percent)=%{x}<extra></extra>",
         "legendgroup": "Online kaufen",
         "marker": {
          "color": "rgb(226, 54, 169)",
          "pattern": {
           "shape": ""
          }
         },
         "name": "Online kaufen",
         "offsetgroup": "Online kaufen",
         "orientation": "h",
         "showlegend": true,
         "texttemplate": "%{value:.0f}",
         "type": "histogram",
         "x": [
          1176,
          407,
          897,
          1772,
          751
         ],
         "xaxis": "x",
         "y": [
          "Scheidenpilz",
          "Scheidentrockenheit",
          "Scheidenflora",
          "Menopause",
          "Zyklusbeschwerden"
         ],
         "yaxis": "y"
        },
        {
         "alignmentgroup": "True",
         "bingroup": "y",
         "histfunc": "sum",
         "hovertemplate": "=%{y}<br>sum of Einkaufskannal (normalized as percent)=%{x}<extra></extra>",
         "legendgroup": "Apotheke",
         "marker": {
          "color": "rgb(54, 112, 226)",
          "pattern": {
           "shape": ""
          }
         },
         "name": "Apotheke",
         "offsetgroup": "Apotheke",
         "orientation": "h",
         "showlegend": true,
         "texttemplate": "%{value:.0f}",
         "type": "histogram",
         "x": [
          2287,
          470,
          1494,
          814,
          422
         ],
         "xaxis": "x",
         "y": [
          "Scheidenpilz",
          "Scheidentrockenheit",
          "Scheidenflora",
          "Menopause",
          "Zyklusbeschwerden"
         ],
         "yaxis": "y"
        },
        {
         "alignmentgroup": "True",
         "bingroup": "y",
         "histfunc": "sum",
         "hovertemplate": "=%{y}<br>sum of Einkaufskannal (normalized as percent)=%{x}<extra></extra>",
         "legendgroup": "Online-Einzelhändler",
         "marker": {
          "color": "rgb(54, 169, 226)",
          "pattern": {
           "shape": ""
          }
         },
         "name": "Online-Einzelhändler",
         "offsetgroup": "Online-Einzelhändler",
         "orientation": "h",
         "showlegend": true,
         "texttemplate": "%{value:.0f}",
         "type": "histogram",
         "x": [
          7,
          2,
          11,
          11,
          5
         ],
         "xaxis": "x",
         "y": [
          "Scheidenpilz",
          "Scheidentrockenheit",
          "Scheidenflora",
          "Menopause",
          "Zyklusbeschwerden"
         ],
         "yaxis": "y"
        },
        {
         "alignmentgroup": "True",
         "bingroup": "y",
         "histfunc": "sum",
         "hovertemplate": "=%{y}<br>sum of Einkaufskannal (normalized as percent)=%{x}<extra></extra>",
         "legendgroup": "Einzelhändler",
         "marker": {
          "color": "rgb(54, 226, 169)",
          "pattern": {
           "shape": ""
          }
         },
         "name": "Einzelhändler",
         "offsetgroup": "Einzelhändler",
         "orientation": "h",
         "showlegend": true,
         "texttemplate": "%{value:.0f}",
         "type": "histogram",
         "x": [
          312,
          105,
          355,
          558,
          272
         ],
         "xaxis": "x",
         "y": [
          "Scheidenpilz",
          "Scheidentrockenheit",
          "Scheidenflora",
          "Menopause",
          "Zyklusbeschwerden"
         ],
         "yaxis": "y"
        },
        {
         "alignmentgroup": "True",
         "bingroup": "y",
         "histfunc": "sum",
         "hovertemplate": "=%{y}<br>sum of Einkaufskannal (normalized as percent)=%{x}<extra></extra>",
         "legendgroup": "Online Apotheke",
         "marker": {
          "color": "rgb(112, 54, 226)",
          "pattern": {
           "shape": ""
          }
         },
         "name": "Online Apotheke",
         "offsetgroup": "Online Apotheke",
         "orientation": "h",
         "showlegend": true,
         "texttemplate": "%{value:.0f}",
         "type": "histogram",
         "x": [
          212,
          45,
          62,
          138,
          78
         ],
         "xaxis": "x",
         "y": [
          "Scheidenpilz",
          "Scheidentrockenheit",
          "Scheidenflora",
          "Menopause",
          "Zyklusbeschwerden"
         ],
         "yaxis": "y"
        }
       ],
       "layout": {
        "annotations": [
         {
          "align": "left",
          "font": {
           "size": 9
          },
          "showarrow": false,
          "text": "Basierend auf 10745 Social-Media-Konversationen aus öffentlich zugänglichen Foren <br>Deutschland, Januar 2013 – April 2023.",
          "textangle": 0,
          "x": -0.25,
          "xanchor": "left",
          "xref": "paper",
          "y": -0.34,
          "yref": "paper"
         }
        ],
        "autosize": false,
        "barmode": "relative",
        "barnorm": "percent",
        "height": 378,
        "legend": {
         "font": {
          "size": 16
         },
         "title": {
          "text": ""
         },
         "tracegroupgap": 0
        },
        "template": {
         "data": {
          "bar": [
           {
            "error_x": {
             "color": "#2a3f5f"
            },
            "error_y": {
             "color": "#2a3f5f"
            },
            "marker": {
             "line": {
              "color": "white",
              "width": 0.5
             },
             "pattern": {
              "fillmode": "overlay",
              "size": 10,
              "solidity": 0.2
             }
            },
            "type": "bar"
           }
          ],
          "barpolar": [
           {
            "marker": {
             "line": {
              "color": "white",
              "width": 0.5
             },
             "pattern": {
              "fillmode": "overlay",
              "size": 10,
              "solidity": 0.2
             }
            },
            "type": "barpolar"
           }
          ],
          "carpet": [
           {
            "aaxis": {
             "endlinecolor": "#2a3f5f",
             "gridcolor": "#C8D4E3",
             "linecolor": "#C8D4E3",
             "minorgridcolor": "#C8D4E3",
             "startlinecolor": "#2a3f5f"
            },
            "baxis": {
             "endlinecolor": "#2a3f5f",
             "gridcolor": "#C8D4E3",
             "linecolor": "#C8D4E3",
             "minorgridcolor": "#C8D4E3",
             "startlinecolor": "#2a3f5f"
            },
            "type": "carpet"
           }
          ],
          "choropleth": [
           {
            "colorbar": {
             "outlinewidth": 0,
             "ticks": ""
            },
            "type": "choropleth"
           }
          ],
          "contour": [
           {
            "colorbar": {
             "outlinewidth": 0,
             "ticks": ""
            },
            "colorscale": [
             [
              0,
              "#0d0887"
             ],
             [
              0.1111111111111111,
              "#46039f"
             ],
             [
              0.2222222222222222,
              "#7201a8"
             ],
             [
              0.3333333333333333,
              "#9c179e"
             ],
             [
              0.4444444444444444,
              "#bd3786"
             ],
             [
              0.5555555555555556,
              "#d8576b"
             ],
             [
              0.6666666666666666,
              "#ed7953"
             ],
             [
              0.7777777777777778,
              "#fb9f3a"
             ],
             [
              0.8888888888888888,
              "#fdca26"
             ],
             [
              1,
              "#f0f921"
             ]
            ],
            "type": "contour"
           }
          ],
          "contourcarpet": [
           {
            "colorbar": {
             "outlinewidth": 0,
             "ticks": ""
            },
            "type": "contourcarpet"
           }
          ],
          "heatmap": [
           {
            "colorbar": {
             "outlinewidth": 0,
             "ticks": ""
            },
            "colorscale": [
             [
              0,
              "#0d0887"
             ],
             [
              0.1111111111111111,
              "#46039f"
             ],
             [
              0.2222222222222222,
              "#7201a8"
             ],
             [
              0.3333333333333333,
              "#9c179e"
             ],
             [
              0.4444444444444444,
              "#bd3786"
             ],
             [
              0.5555555555555556,
              "#d8576b"
             ],
             [
              0.6666666666666666,
              "#ed7953"
             ],
             [
              0.7777777777777778,
              "#fb9f3a"
             ],
             [
              0.8888888888888888,
              "#fdca26"
             ],
             [
              1,
              "#f0f921"
             ]
            ],
            "type": "heatmap"
           }
          ],
          "heatmapgl": [
           {
            "colorbar": {
             "outlinewidth": 0,
             "ticks": ""
            },
            "colorscale": [
             [
              0,
              "#0d0887"
             ],
             [
              0.1111111111111111,
              "#46039f"
             ],
             [
              0.2222222222222222,
              "#7201a8"
             ],
             [
              0.3333333333333333,
              "#9c179e"
             ],
             [
              0.4444444444444444,
              "#bd3786"
             ],
             [
              0.5555555555555556,
              "#d8576b"
             ],
             [
              0.6666666666666666,
              "#ed7953"
             ],
             [
              0.7777777777777778,
              "#fb9f3a"
             ],
             [
              0.8888888888888888,
              "#fdca26"
             ],
             [
              1,
              "#f0f921"
             ]
            ],
            "type": "heatmapgl"
           }
          ],
          "histogram": [
           {
            "marker": {
             "pattern": {
              "fillmode": "overlay",
              "size": 10,
              "solidity": 0.2
             }
            },
            "type": "histogram"
           }
          ],
          "histogram2d": [
           {
            "colorbar": {
             "outlinewidth": 0,
             "ticks": ""
            },
            "colorscale": [
             [
              0,
              "#0d0887"
             ],
             [
              0.1111111111111111,
              "#46039f"
             ],
             [
              0.2222222222222222,
              "#7201a8"
             ],
             [
              0.3333333333333333,
              "#9c179e"
             ],
             [
              0.4444444444444444,
              "#bd3786"
             ],
             [
              0.5555555555555556,
              "#d8576b"
             ],
             [
              0.6666666666666666,
              "#ed7953"
             ],
             [
              0.7777777777777778,
              "#fb9f3a"
             ],
             [
              0.8888888888888888,
              "#fdca26"
             ],
             [
              1,
              "#f0f921"
             ]
            ],
            "type": "histogram2d"
           }
          ],
          "histogram2dcontour": [
           {
            "colorbar": {
             "outlinewidth": 0,
             "ticks": ""
            },
            "colorscale": [
             [
              0,
              "#0d0887"
             ],
             [
              0.1111111111111111,
              "#46039f"
             ],
             [
              0.2222222222222222,
              "#7201a8"
             ],
             [
              0.3333333333333333,
              "#9c179e"
             ],
             [
              0.4444444444444444,
              "#bd3786"
             ],
             [
              0.5555555555555556,
              "#d8576b"
             ],
             [
              0.6666666666666666,
              "#ed7953"
             ],
             [
              0.7777777777777778,
              "#fb9f3a"
             ],
             [
              0.8888888888888888,
              "#fdca26"
             ],
             [
              1,
              "#f0f921"
             ]
            ],
            "type": "histogram2dcontour"
           }
          ],
          "mesh3d": [
           {
            "colorbar": {
             "outlinewidth": 0,
             "ticks": ""
            },
            "type": "mesh3d"
           }
          ],
          "parcoords": [
           {
            "line": {
             "colorbar": {
              "outlinewidth": 0,
              "ticks": ""
             }
            },
            "type": "parcoords"
           }
          ],
          "pie": [
           {
            "automargin": true,
            "type": "pie"
           }
          ],
          "scatter": [
           {
            "fillpattern": {
             "fillmode": "overlay",
             "size": 10,
             "solidity": 0.2
            },
            "type": "scatter"
           }
          ],
          "scatter3d": [
           {
            "line": {
             "colorbar": {
              "outlinewidth": 0,
              "ticks": ""
             }
            },
            "marker": {
             "colorbar": {
              "outlinewidth": 0,
              "ticks": ""
             }
            },
            "type": "scatter3d"
           }
          ],
          "scattercarpet": [
           {
            "marker": {
             "colorbar": {
              "outlinewidth": 0,
              "ticks": ""
             }
            },
            "type": "scattercarpet"
           }
          ],
          "scattergeo": [
           {
            "marker": {
             "colorbar": {
              "outlinewidth": 0,
              "ticks": ""
             }
            },
            "type": "scattergeo"
           }
          ],
          "scattergl": [
           {
            "marker": {
             "colorbar": {
              "outlinewidth": 0,
              "ticks": ""
             }
            },
            "type": "scattergl"
           }
          ],
          "scattermapbox": [
           {
            "marker": {
             "colorbar": {
              "outlinewidth": 0,
              "ticks": ""
             }
            },
            "type": "scattermapbox"
           }
          ],
          "scatterpolar": [
           {
            "marker": {
             "colorbar": {
              "outlinewidth": 0,
              "ticks": ""
             }
            },
            "type": "scatterpolar"
           }
          ],
          "scatterpolargl": [
           {
            "marker": {
             "colorbar": {
              "outlinewidth": 0,
              "ticks": ""
             }
            },
            "type": "scatterpolargl"
           }
          ],
          "scatterternary": [
           {
            "marker": {
             "colorbar": {
              "outlinewidth": 0,
              "ticks": ""
             }
            },
            "type": "scatterternary"
           }
          ],
          "surface": [
           {
            "colorbar": {
             "outlinewidth": 0,
             "ticks": ""
            },
            "colorscale": [
             [
              0,
              "#0d0887"
             ],
             [
              0.1111111111111111,
              "#46039f"
             ],
             [
              0.2222222222222222,
              "#7201a8"
             ],
             [
              0.3333333333333333,
              "#9c179e"
             ],
             [
              0.4444444444444444,
              "#bd3786"
             ],
             [
              0.5555555555555556,
              "#d8576b"
             ],
             [
              0.6666666666666666,
              "#ed7953"
             ],
             [
              0.7777777777777778,
              "#fb9f3a"
             ],
             [
              0.8888888888888888,
              "#fdca26"
             ],
             [
              1,
              "#f0f921"
             ]
            ],
            "type": "surface"
           }
          ],
          "table": [
           {
            "cells": {
             "fill": {
              "color": "#EBF0F8"
             },
             "line": {
              "color": "white"
             }
            },
            "header": {
             "fill": {
              "color": "#C8D4E3"
             },
             "line": {
              "color": "white"
             }
            },
            "type": "table"
           }
          ]
         },
         "layout": {
          "annotationdefaults": {
           "arrowcolor": "#2a3f5f",
           "arrowhead": 0,
           "arrowwidth": 1
          },
          "autotypenumbers": "strict",
          "coloraxis": {
           "colorbar": {
            "outlinewidth": 0,
            "ticks": ""
           }
          },
          "colorscale": {
           "diverging": [
            [
             0,
             "#8e0152"
            ],
            [
             0.1,
             "#c51b7d"
            ],
            [
             0.2,
             "#de77ae"
            ],
            [
             0.3,
             "#f1b6da"
            ],
            [
             0.4,
             "#fde0ef"
            ],
            [
             0.5,
             "#f7f7f7"
            ],
            [
             0.6,
             "#e6f5d0"
            ],
            [
             0.7,
             "#b8e186"
            ],
            [
             0.8,
             "#7fbc41"
            ],
            [
             0.9,
             "#4d9221"
            ],
            [
             1,
             "#276419"
            ]
           ],
           "sequential": [
            [
             0,
             "#0d0887"
            ],
            [
             0.1111111111111111,
             "#46039f"
            ],
            [
             0.2222222222222222,
             "#7201a8"
            ],
            [
             0.3333333333333333,
             "#9c179e"
            ],
            [
             0.4444444444444444,
             "#bd3786"
            ],
            [
             0.5555555555555556,
             "#d8576b"
            ],
            [
             0.6666666666666666,
             "#ed7953"
            ],
            [
             0.7777777777777778,
             "#fb9f3a"
            ],
            [
             0.8888888888888888,
             "#fdca26"
            ],
            [
             1,
             "#f0f921"
            ]
           ],
           "sequentialminus": [
            [
             0,
             "#0d0887"
            ],
            [
             0.1111111111111111,
             "#46039f"
            ],
            [
             0.2222222222222222,
             "#7201a8"
            ],
            [
             0.3333333333333333,
             "#9c179e"
            ],
            [
             0.4444444444444444,
             "#bd3786"
            ],
            [
             0.5555555555555556,
             "#d8576b"
            ],
            [
             0.6666666666666666,
             "#ed7953"
            ],
            [
             0.7777777777777778,
             "#fb9f3a"
            ],
            [
             0.8888888888888888,
             "#fdca26"
            ],
            [
             1,
             "#f0f921"
            ]
           ]
          },
          "colorway": [
           "#636efa",
           "#EF553B",
           "#00cc96",
           "#ab63fa",
           "#FFA15A",
           "#19d3f3",
           "#FF6692",
           "#B6E880",
           "#FF97FF",
           "#FECB52"
          ],
          "font": {
           "color": "#2a3f5f"
          },
          "geo": {
           "bgcolor": "white",
           "lakecolor": "white",
           "landcolor": "white",
           "showlakes": true,
           "showland": true,
           "subunitcolor": "#C8D4E3"
          },
          "hoverlabel": {
           "align": "left"
          },
          "hovermode": "closest",
          "mapbox": {
           "style": "light"
          },
          "paper_bgcolor": "white",
          "plot_bgcolor": "white",
          "polar": {
           "angularaxis": {
            "gridcolor": "#EBF0F8",
            "linecolor": "#EBF0F8",
            "ticks": ""
           },
           "bgcolor": "white",
           "radialaxis": {
            "gridcolor": "#EBF0F8",
            "linecolor": "#EBF0F8",
            "ticks": ""
           }
          },
          "scene": {
           "xaxis": {
            "backgroundcolor": "white",
            "gridcolor": "#DFE8F3",
            "gridwidth": 2,
            "linecolor": "#EBF0F8",
            "showbackground": true,
            "ticks": "",
            "zerolinecolor": "#EBF0F8"
           },
           "yaxis": {
            "backgroundcolor": "white",
            "gridcolor": "#DFE8F3",
            "gridwidth": 2,
            "linecolor": "#EBF0F8",
            "showbackground": true,
            "ticks": "",
            "zerolinecolor": "#EBF0F8"
           },
           "zaxis": {
            "backgroundcolor": "white",
            "gridcolor": "#DFE8F3",
            "gridwidth": 2,
            "linecolor": "#EBF0F8",
            "showbackground": true,
            "ticks": "",
            "zerolinecolor": "#EBF0F8"
           }
          },
          "shapedefaults": {
           "line": {
            "color": "#2a3f5f"
           }
          },
          "ternary": {
           "aaxis": {
            "gridcolor": "#DFE8F3",
            "linecolor": "#A2B1C6",
            "ticks": ""
           },
           "baxis": {
            "gridcolor": "#DFE8F3",
            "linecolor": "#A2B1C6",
            "ticks": ""
           },
           "bgcolor": "white",
           "caxis": {
            "gridcolor": "#DFE8F3",
            "linecolor": "#A2B1C6",
            "ticks": ""
           }
          },
          "title": {
           "x": 0.05
          },
          "xaxis": {
           "automargin": true,
           "gridcolor": "#EBF0F8",
           "linecolor": "#EBF0F8",
           "ticks": "",
           "title": {
            "standoff": 15
           },
           "zerolinecolor": "#EBF0F8",
           "zerolinewidth": 2
          },
          "yaxis": {
           "automargin": true,
           "gridcolor": "#EBF0F8",
           "linecolor": "#EBF0F8",
           "ticks": "",
           "title": {
            "standoff": 15
           },
           "zerolinecolor": "#EBF0F8",
           "zerolinewidth": 2
          }
         }
        },
        "title": {
         "text": "Anzahl der Social - Media - Posts mit der Kombination: Marktgebiet und Einkaufskannal"
        },
        "width": 756,
        "xaxis": {
         "anchor": "y",
         "domain": [
          0,
          1
         ],
         "title": {
          "text": "Anteil der Posts in %"
         }
        },
        "yaxis": {
         "anchor": "x",
         "automargin": true,
         "categoryarray": [
          "t",
          "e",
          "i",
          "b",
          "e",
          "g",
          "t",
          "k",
          "r",
          "a",
          "M"
         ],
         "categoryorder": "array",
         "domain": [
          0,
          1
         ],
         "title": {
          "text": "Marktgebiet"
         }
        }
       }
      }
     },
     "metadata": {},
     "output_type": "display_data"
    }
   ],
   "source": [
    "\n",
    "def combine_subcategories(df, lense_1, lense_2):\n",
    "\n",
    "    # Generate combinations of unique subcategories across buying_channel and experts\n",
    "    combinations_list = list(product(lense_1, lense_2))\n",
    "\n",
    "    # Create new dataframe with combination pairs\n",
    "    combination_df = pd.DataFrame(combinations_list, columns=['Subcategory 1', 'Subcategory 2'])\n",
    "\n",
    "    # Initialize dictionary to store combination counts\n",
    "    combination_counts = {}\n",
    "    id_values = set()\n",
    "\n",
    "\n",
    "    # Iterate through combinations and count occurrences\n",
    "    for subcategory_1, subcategory_2 in combinations_list:\n",
    "        ids = sentiment_new_df.loc[\n",
    "            (sentiment_new_df['subcategory'] == subcategory_1) &\n",
    "            (sentiment_new_df['id'].isin(sentiment_new_df.loc[sentiment_new_df['subcategory'] == subcategory_2, 'id'])),\n",
    "            'id'\n",
    "        ].unique()\n",
    "        count = len(ids)\n",
    "        combination_counts[(subcategory_1, subcategory_2)] = count\n",
    "        id_values.update(ids)\n",
    "    \n",
    "\n",
    "    # Create new dataframe from combination counts\n",
    "    combination_counts_df = pd.DataFrame(combination_counts.items(), columns=['combination', 'count'])\n",
    "    combination_counts_df[['subcategory_1', 'subcategory_2']] = pd.DataFrame(combination_counts_df['combination'].tolist())\n",
    "    combination_counts_df = combination_counts_df.drop('combination', axis=1)\n",
    "\n",
    "    # Store the number of unique id values from which combinations were found\n",
    "    n_posts = len(id_values)\n",
    "\n",
    "    #print(combination_counts_df)\n",
    "\n",
    "    return combination_counts_df, n_posts\n",
    "\n",
    "\n",
    "\n",
    "\n",
    "\n",
    "def filter_and_plot(df, counts, cat1, cat2, save_name=\"img\"):\n",
    "    \n",
    "    fig = px.histogram(\n",
    "        df,\n",
    "        x=\"count\",\n",
    "        y=\"subcategory_1\",\n",
    "        color=\"subcategory_2\",\n",
    "        barnorm=\"percent\",\n",
    "        orientation=\"h\",\n",
    "        labels={\n",
    "            \"subcategory_1\": \"\",\n",
    "            \"subcategory_2\": \"\",\n",
    "            \"count\": cat2,\n",
    "        },\n",
    "        color_discrete_sequence=PERMEA_COLOR_WHEEL_5_STATISTICS,\n",
    "        text_auto=\".0f\",\n",
    "        title=f'Anzahl der Social - Media - Posts mit der Kombination: {cat1} und {cat2}',\n",
    "        template=\"plotly_white\",\n",
    "        category_orders={\n",
    "            \"subcategory_1\": cat1,\n",
    "            \"subcategory_2\": cat2\n",
    "        })\n",
    "    \n",
    "\n",
    "    fig.add_annotation(dict(font=dict(size=9),\n",
    "                        x=-0.25,\n",
    "                        y=-0.34,\n",
    "                        showarrow=False,\n",
    "                        #text=f'Based on {counts} Social Media Conversations from publicy available forums mentioning {cat1} and {cat2} <br> Germany, January 2013 – April 2023.',\n",
    "                        text=f\"Basierend auf {counts} Social-Media-Konversationen aus öffentlich zugänglichen Foren <br>Deutschland, Januar 2013 – April 2023.\",                       \n",
    "                        textangle=0,\n",
    "                        xanchor='left',\n",
    "                        xref=\"paper\",\n",
    "                        yref=\"paper\",\n",
    "                        align=\"left\"\n",
    "))\n",
    "    \n",
    "\n",
    "    fig.update_layout(\n",
    "    template='plotly_white',\n",
    "    xaxis_title='Anteil der Posts in %',\n",
    "    yaxis_title=cat1,\n",
    "    #yaxis_range=[0, 1.1 * df['Count'].max()],\n",
    "    #xaxis=dict(\n",
    "        #tickmode='linear',\n",
    "        #dtick=1,\n",
    "        #automargin=True\n",
    "    #),\n",
    "    yaxis={'automargin': True},\n",
    "    #margin=dict(l=130, r=150, b=10, pad=30),\n",
    "    autosize=False,\n",
    "    width=20 * 37.8,  # Convert 20 cm to inches (1 cm = 37.8 inches)\n",
    "    height=10 * 37.8,  # Convert 9 cm to inches (1 cm = 37.8 inches)\n",
    "    legend=dict(font=dict(size=16))\n",
    "    )\n",
    "    \n",
    "    \n",
    "        \n",
    "    #fig.write_image(save_name+\".png\")\n",
    "    \n",
    "    fig.show()\n",
    "    \n",
    "\n",
    "\n",
    "df, counts= combine_subcategories(sentiment_new_df, market_area, buying_channel)\n",
    "filter_and_plot(df, counts, \"Marktgebiet\", \"Einkaufskannal\", save_name=\"market_area_buying_channel\")\n",
    "\n",
    "\n",
    "\n"
   ]
  },
  {
   "cell_type": "code",
   "execution_count": null,
   "metadata": {},
   "outputs": [
    {
     "data": {
      "application/vnd.plotly.v1+json": {
       "config": {
        "plotlyServerURL": "https://plot.ly"
       },
       "data": [
        {
         "alignmentgroup": "True",
         "bingroup": "y",
         "histfunc": "sum",
         "hovertemplate": "=%{y}<br>sum of Symptome (normalized as percent)=%{x}<extra></extra>",
         "legendgroup": "Juckreiz",
         "marker": {
          "color": "rgb(226, 112, 54)",
          "pattern": {
           "shape": ""
          }
         },
         "name": "Juckreiz",
         "offsetgroup": "Juckreiz",
         "orientation": "h",
         "showlegend": true,
         "texttemplate": "%{value:.0f}",
         "type": "histogram",
         "x": [
          1829,
          1410,
          1100,
          442,
          153
         ],
         "xaxis": "x",
         "y": [
          "Scheidenpilz",
          "Scheidentrockenheit",
          "Scheidenflora",
          "Menopause",
          "Zyklusbeschwerden"
         ],
         "yaxis": "y"
        },
        {
         "alignmentgroup": "True",
         "bingroup": "y",
         "histfunc": "sum",
         "hovertemplate": "=%{y}<br>sum of Symptome (normalized as percent)=%{x}<extra></extra>",
         "legendgroup": "Brennen",
         "marker": {
          "color": "rgb(226, 169, 54)",
          "pattern": {
           "shape": ""
          }
         },
         "name": "Brennen",
         "offsetgroup": "Brennen",
         "orientation": "h",
         "showlegend": true,
         "texttemplate": "%{value:.0f}",
         "type": "histogram",
         "x": [
          1238,
          1013,
          1276,
          590,
          201
         ],
         "xaxis": "x",
         "y": [
          "Scheidenpilz",
          "Scheidentrockenheit",
          "Scheidenflora",
          "Menopause",
          "Zyklusbeschwerden"
         ],
         "yaxis": "y"
        },
        {
         "alignmentgroup": "True",
         "bingroup": "y",
         "histfunc": "sum",
         "hovertemplate": "=%{y}<br>sum of Symptome (normalized as percent)=%{x}<extra></extra>",
         "legendgroup": "Schmerzen",
         "marker": {
          "color": "rgb(226, 226, 54)",
          "pattern": {
           "shape": ""
          }
         },
         "name": "Schmerzen",
         "offsetgroup": "Schmerzen",
         "orientation": "h",
         "showlegend": true,
         "texttemplate": "%{value:.0f}",
         "type": "histogram",
         "x": [
          386,
          252,
          4232,
          2982,
          3069
         ],
         "xaxis": "x",
         "y": [
          "Scheidenpilz",
          "Scheidentrockenheit",
          "Scheidenflora",
          "Menopause",
          "Zyklusbeschwerden"
         ],
         "yaxis": "y"
        },
        {
         "alignmentgroup": "True",
         "bingroup": "y",
         "histfunc": "sum",
         "hovertemplate": "=%{y}<br>sum of Symptome (normalized as percent)=%{x}<extra></extra>",
         "legendgroup": "Ausfluss",
         "marker": {
          "color": "rgb(54, 226, 112)",
          "pattern": {
           "shape": ""
          }
         },
         "name": "Ausfluss",
         "offsetgroup": "Ausfluss",
         "orientation": "h",
         "showlegend": true,
         "texttemplate": "%{value:.0f}",
         "type": "histogram",
         "x": [
          1506,
          275,
          1073,
          3008,
          583
         ],
         "xaxis": "x",
         "y": [
          "Scheidenpilz",
          "Scheidentrockenheit",
          "Scheidenflora",
          "Menopause",
          "Zyklusbeschwerden"
         ],
         "yaxis": "y"
        },
        {
         "alignmentgroup": "True",
         "bingroup": "y",
         "histfunc": "sum",
         "hovertemplate": "=%{y}<br>sum of Symptome (normalized as percent)=%{x}<extra></extra>",
         "legendgroup": "Trockenheit",
         "marker": {
          "color": "rgb(54, 112, 226)",
          "pattern": {
           "shape": ""
          }
         },
         "name": "Trockenheit",
         "offsetgroup": "Trockenheit",
         "orientation": "h",
         "showlegend": true,
         "texttemplate": "%{value:.0f}",
         "type": "histogram",
         "x": [
          114,
          824,
          165,
          108,
          7
         ],
         "xaxis": "x",
         "y": [
          "Scheidenpilz",
          "Scheidentrockenheit",
          "Scheidenflora",
          "Menopause",
          "Zyklusbeschwerden"
         ],
         "yaxis": "y"
        },
        {
         "alignmentgroup": "True",
         "bingroup": "y",
         "histfunc": "sum",
         "hovertemplate": "=%{y}<br>sum of Symptome (normalized as percent)=%{x}<extra></extra>",
         "legendgroup": "Geruch",
         "marker": {
          "color": "rgb(54, 169, 226)",
          "pattern": {
           "shape": ""
          }
         },
         "name": "Geruch",
         "offsetgroup": "Geruch",
         "orientation": "h",
         "showlegend": true,
         "texttemplate": "%{value:.0f}",
         "type": "histogram",
         "x": [
          76,
          26,
          81,
          6,
          2
         ],
         "xaxis": "x",
         "y": [
          "Scheidenpilz",
          "Scheidentrockenheit",
          "Scheidenflora",
          "Menopause",
          "Zyklusbeschwerden"
         ],
         "yaxis": "y"
        },
        {
         "alignmentgroup": "True",
         "bingroup": "y",
         "histfunc": "sum",
         "hovertemplate": "=%{y}<br>sum of Symptome (normalized as percent)=%{x}<extra></extra>",
         "legendgroup": "Hitzewallungen",
         "marker": {
          "color": "rgb(54, 226, 169)",
          "pattern": {
           "shape": ""
          }
         },
         "name": "Hitzewallungen",
         "offsetgroup": "Hitzewallungen",
         "orientation": "h",
         "showlegend": true,
         "texttemplate": "%{value:.0f}",
         "type": "histogram",
         "x": [
          1,
          3,
          2,
          170,
          13
         ],
         "xaxis": "x",
         "y": [
          "Scheidenpilz",
          "Scheidentrockenheit",
          "Scheidenflora",
          "Menopause",
          "Zyklusbeschwerden"
         ],
         "yaxis": "y"
        }
       ],
       "layout": {
        "annotations": [
         {
          "align": "left",
          "font": {
           "size": 9
          },
          "showarrow": false,
          "text": "Basierend auf 19573 Social-Media-Konversationen aus öffentlich zugänglichen Foren <br>Deutschland, Januar 2013 – April 2023.",
          "textangle": 0,
          "x": -0.25,
          "xanchor": "left",
          "xref": "paper",
          "y": -0.34,
          "yref": "paper"
         }
        ],
        "autosize": false,
        "barmode": "relative",
        "barnorm": "percent",
        "height": 378,
        "legend": {
         "font": {
          "size": 16
         },
         "title": {
          "text": ""
         },
         "tracegroupgap": 0
        },
        "template": {
         "data": {
          "bar": [
           {
            "error_x": {
             "color": "#2a3f5f"
            },
            "error_y": {
             "color": "#2a3f5f"
            },
            "marker": {
             "line": {
              "color": "white",
              "width": 0.5
             },
             "pattern": {
              "fillmode": "overlay",
              "size": 10,
              "solidity": 0.2
             }
            },
            "type": "bar"
           }
          ],
          "barpolar": [
           {
            "marker": {
             "line": {
              "color": "white",
              "width": 0.5
             },
             "pattern": {
              "fillmode": "overlay",
              "size": 10,
              "solidity": 0.2
             }
            },
            "type": "barpolar"
           }
          ],
          "carpet": [
           {
            "aaxis": {
             "endlinecolor": "#2a3f5f",
             "gridcolor": "#C8D4E3",
             "linecolor": "#C8D4E3",
             "minorgridcolor": "#C8D4E3",
             "startlinecolor": "#2a3f5f"
            },
            "baxis": {
             "endlinecolor": "#2a3f5f",
             "gridcolor": "#C8D4E3",
             "linecolor": "#C8D4E3",
             "minorgridcolor": "#C8D4E3",
             "startlinecolor": "#2a3f5f"
            },
            "type": "carpet"
           }
          ],
          "choropleth": [
           {
            "colorbar": {
             "outlinewidth": 0,
             "ticks": ""
            },
            "type": "choropleth"
           }
          ],
          "contour": [
           {
            "colorbar": {
             "outlinewidth": 0,
             "ticks": ""
            },
            "colorscale": [
             [
              0,
              "#0d0887"
             ],
             [
              0.1111111111111111,
              "#46039f"
             ],
             [
              0.2222222222222222,
              "#7201a8"
             ],
             [
              0.3333333333333333,
              "#9c179e"
             ],
             [
              0.4444444444444444,
              "#bd3786"
             ],
             [
              0.5555555555555556,
              "#d8576b"
             ],
             [
              0.6666666666666666,
              "#ed7953"
             ],
             [
              0.7777777777777778,
              "#fb9f3a"
             ],
             [
              0.8888888888888888,
              "#fdca26"
             ],
             [
              1,
              "#f0f921"
             ]
            ],
            "type": "contour"
           }
          ],
          "contourcarpet": [
           {
            "colorbar": {
             "outlinewidth": 0,
             "ticks": ""
            },
            "type": "contourcarpet"
           }
          ],
          "heatmap": [
           {
            "colorbar": {
             "outlinewidth": 0,
             "ticks": ""
            },
            "colorscale": [
             [
              0,
              "#0d0887"
             ],
             [
              0.1111111111111111,
              "#46039f"
             ],
             [
              0.2222222222222222,
              "#7201a8"
             ],
             [
              0.3333333333333333,
              "#9c179e"
             ],
             [
              0.4444444444444444,
              "#bd3786"
             ],
             [
              0.5555555555555556,
              "#d8576b"
             ],
             [
              0.6666666666666666,
              "#ed7953"
             ],
             [
              0.7777777777777778,
              "#fb9f3a"
             ],
             [
              0.8888888888888888,
              "#fdca26"
             ],
             [
              1,
              "#f0f921"
             ]
            ],
            "type": "heatmap"
           }
          ],
          "heatmapgl": [
           {
            "colorbar": {
             "outlinewidth": 0,
             "ticks": ""
            },
            "colorscale": [
             [
              0,
              "#0d0887"
             ],
             [
              0.1111111111111111,
              "#46039f"
             ],
             [
              0.2222222222222222,
              "#7201a8"
             ],
             [
              0.3333333333333333,
              "#9c179e"
             ],
             [
              0.4444444444444444,
              "#bd3786"
             ],
             [
              0.5555555555555556,
              "#d8576b"
             ],
             [
              0.6666666666666666,
              "#ed7953"
             ],
             [
              0.7777777777777778,
              "#fb9f3a"
             ],
             [
              0.8888888888888888,
              "#fdca26"
             ],
             [
              1,
              "#f0f921"
             ]
            ],
            "type": "heatmapgl"
           }
          ],
          "histogram": [
           {
            "marker": {
             "pattern": {
              "fillmode": "overlay",
              "size": 10,
              "solidity": 0.2
             }
            },
            "type": "histogram"
           }
          ],
          "histogram2d": [
           {
            "colorbar": {
             "outlinewidth": 0,
             "ticks": ""
            },
            "colorscale": [
             [
              0,
              "#0d0887"
             ],
             [
              0.1111111111111111,
              "#46039f"
             ],
             [
              0.2222222222222222,
              "#7201a8"
             ],
             [
              0.3333333333333333,
              "#9c179e"
             ],
             [
              0.4444444444444444,
              "#bd3786"
             ],
             [
              0.5555555555555556,
              "#d8576b"
             ],
             [
              0.6666666666666666,
              "#ed7953"
             ],
             [
              0.7777777777777778,
              "#fb9f3a"
             ],
             [
              0.8888888888888888,
              "#fdca26"
             ],
             [
              1,
              "#f0f921"
             ]
            ],
            "type": "histogram2d"
           }
          ],
          "histogram2dcontour": [
           {
            "colorbar": {
             "outlinewidth": 0,
             "ticks": ""
            },
            "colorscale": [
             [
              0,
              "#0d0887"
             ],
             [
              0.1111111111111111,
              "#46039f"
             ],
             [
              0.2222222222222222,
              "#7201a8"
             ],
             [
              0.3333333333333333,
              "#9c179e"
             ],
             [
              0.4444444444444444,
              "#bd3786"
             ],
             [
              0.5555555555555556,
              "#d8576b"
             ],
             [
              0.6666666666666666,
              "#ed7953"
             ],
             [
              0.7777777777777778,
              "#fb9f3a"
             ],
             [
              0.8888888888888888,
              "#fdca26"
             ],
             [
              1,
              "#f0f921"
             ]
            ],
            "type": "histogram2dcontour"
           }
          ],
          "mesh3d": [
           {
            "colorbar": {
             "outlinewidth": 0,
             "ticks": ""
            },
            "type": "mesh3d"
           }
          ],
          "parcoords": [
           {
            "line": {
             "colorbar": {
              "outlinewidth": 0,
              "ticks": ""
             }
            },
            "type": "parcoords"
           }
          ],
          "pie": [
           {
            "automargin": true,
            "type": "pie"
           }
          ],
          "scatter": [
           {
            "fillpattern": {
             "fillmode": "overlay",
             "size": 10,
             "solidity": 0.2
            },
            "type": "scatter"
           }
          ],
          "scatter3d": [
           {
            "line": {
             "colorbar": {
              "outlinewidth": 0,
              "ticks": ""
             }
            },
            "marker": {
             "colorbar": {
              "outlinewidth": 0,
              "ticks": ""
             }
            },
            "type": "scatter3d"
           }
          ],
          "scattercarpet": [
           {
            "marker": {
             "colorbar": {
              "outlinewidth": 0,
              "ticks": ""
             }
            },
            "type": "scattercarpet"
           }
          ],
          "scattergeo": [
           {
            "marker": {
             "colorbar": {
              "outlinewidth": 0,
              "ticks": ""
             }
            },
            "type": "scattergeo"
           }
          ],
          "scattergl": [
           {
            "marker": {
             "colorbar": {
              "outlinewidth": 0,
              "ticks": ""
             }
            },
            "type": "scattergl"
           }
          ],
          "scattermapbox": [
           {
            "marker": {
             "colorbar": {
              "outlinewidth": 0,
              "ticks": ""
             }
            },
            "type": "scattermapbox"
           }
          ],
          "scatterpolar": [
           {
            "marker": {
             "colorbar": {
              "outlinewidth": 0,
              "ticks": ""
             }
            },
            "type": "scatterpolar"
           }
          ],
          "scatterpolargl": [
           {
            "marker": {
             "colorbar": {
              "outlinewidth": 0,
              "ticks": ""
             }
            },
            "type": "scatterpolargl"
           }
          ],
          "scatterternary": [
           {
            "marker": {
             "colorbar": {
              "outlinewidth": 0,
              "ticks": ""
             }
            },
            "type": "scatterternary"
           }
          ],
          "surface": [
           {
            "colorbar": {
             "outlinewidth": 0,
             "ticks": ""
            },
            "colorscale": [
             [
              0,
              "#0d0887"
             ],
             [
              0.1111111111111111,
              "#46039f"
             ],
             [
              0.2222222222222222,
              "#7201a8"
             ],
             [
              0.3333333333333333,
              "#9c179e"
             ],
             [
              0.4444444444444444,
              "#bd3786"
             ],
             [
              0.5555555555555556,
              "#d8576b"
             ],
             [
              0.6666666666666666,
              "#ed7953"
             ],
             [
              0.7777777777777778,
              "#fb9f3a"
             ],
             [
              0.8888888888888888,
              "#fdca26"
             ],
             [
              1,
              "#f0f921"
             ]
            ],
            "type": "surface"
           }
          ],
          "table": [
           {
            "cells": {
             "fill": {
              "color": "#EBF0F8"
             },
             "line": {
              "color": "white"
             }
            },
            "header": {
             "fill": {
              "color": "#C8D4E3"
             },
             "line": {
              "color": "white"
             }
            },
            "type": "table"
           }
          ]
         },
         "layout": {
          "annotationdefaults": {
           "arrowcolor": "#2a3f5f",
           "arrowhead": 0,
           "arrowwidth": 1
          },
          "autotypenumbers": "strict",
          "coloraxis": {
           "colorbar": {
            "outlinewidth": 0,
            "ticks": ""
           }
          },
          "colorscale": {
           "diverging": [
            [
             0,
             "#8e0152"
            ],
            [
             0.1,
             "#c51b7d"
            ],
            [
             0.2,
             "#de77ae"
            ],
            [
             0.3,
             "#f1b6da"
            ],
            [
             0.4,
             "#fde0ef"
            ],
            [
             0.5,
             "#f7f7f7"
            ],
            [
             0.6,
             "#e6f5d0"
            ],
            [
             0.7,
             "#b8e186"
            ],
            [
             0.8,
             "#7fbc41"
            ],
            [
             0.9,
             "#4d9221"
            ],
            [
             1,
             "#276419"
            ]
           ],
           "sequential": [
            [
             0,
             "#0d0887"
            ],
            [
             0.1111111111111111,
             "#46039f"
            ],
            [
             0.2222222222222222,
             "#7201a8"
            ],
            [
             0.3333333333333333,
             "#9c179e"
            ],
            [
             0.4444444444444444,
             "#bd3786"
            ],
            [
             0.5555555555555556,
             "#d8576b"
            ],
            [
             0.6666666666666666,
             "#ed7953"
            ],
            [
             0.7777777777777778,
             "#fb9f3a"
            ],
            [
             0.8888888888888888,
             "#fdca26"
            ],
            [
             1,
             "#f0f921"
            ]
           ],
           "sequentialminus": [
            [
             0,
             "#0d0887"
            ],
            [
             0.1111111111111111,
             "#46039f"
            ],
            [
             0.2222222222222222,
             "#7201a8"
            ],
            [
             0.3333333333333333,
             "#9c179e"
            ],
            [
             0.4444444444444444,
             "#bd3786"
            ],
            [
             0.5555555555555556,
             "#d8576b"
            ],
            [
             0.6666666666666666,
             "#ed7953"
            ],
            [
             0.7777777777777778,
             "#fb9f3a"
            ],
            [
             0.8888888888888888,
             "#fdca26"
            ],
            [
             1,
             "#f0f921"
            ]
           ]
          },
          "colorway": [
           "#636efa",
           "#EF553B",
           "#00cc96",
           "#ab63fa",
           "#FFA15A",
           "#19d3f3",
           "#FF6692",
           "#B6E880",
           "#FF97FF",
           "#FECB52"
          ],
          "font": {
           "color": "#2a3f5f"
          },
          "geo": {
           "bgcolor": "white",
           "lakecolor": "white",
           "landcolor": "white",
           "showlakes": true,
           "showland": true,
           "subunitcolor": "#C8D4E3"
          },
          "hoverlabel": {
           "align": "left"
          },
          "hovermode": "closest",
          "mapbox": {
           "style": "light"
          },
          "paper_bgcolor": "white",
          "plot_bgcolor": "white",
          "polar": {
           "angularaxis": {
            "gridcolor": "#EBF0F8",
            "linecolor": "#EBF0F8",
            "ticks": ""
           },
           "bgcolor": "white",
           "radialaxis": {
            "gridcolor": "#EBF0F8",
            "linecolor": "#EBF0F8",
            "ticks": ""
           }
          },
          "scene": {
           "xaxis": {
            "backgroundcolor": "white",
            "gridcolor": "#DFE8F3",
            "gridwidth": 2,
            "linecolor": "#EBF0F8",
            "showbackground": true,
            "ticks": "",
            "zerolinecolor": "#EBF0F8"
           },
           "yaxis": {
            "backgroundcolor": "white",
            "gridcolor": "#DFE8F3",
            "gridwidth": 2,
            "linecolor": "#EBF0F8",
            "showbackground": true,
            "ticks": "",
            "zerolinecolor": "#EBF0F8"
           },
           "zaxis": {
            "backgroundcolor": "white",
            "gridcolor": "#DFE8F3",
            "gridwidth": 2,
            "linecolor": "#EBF0F8",
            "showbackground": true,
            "ticks": "",
            "zerolinecolor": "#EBF0F8"
           }
          },
          "shapedefaults": {
           "line": {
            "color": "#2a3f5f"
           }
          },
          "ternary": {
           "aaxis": {
            "gridcolor": "#DFE8F3",
            "linecolor": "#A2B1C6",
            "ticks": ""
           },
           "baxis": {
            "gridcolor": "#DFE8F3",
            "linecolor": "#A2B1C6",
            "ticks": ""
           },
           "bgcolor": "white",
           "caxis": {
            "gridcolor": "#DFE8F3",
            "linecolor": "#A2B1C6",
            "ticks": ""
           }
          },
          "title": {
           "x": 0.05
          },
          "xaxis": {
           "automargin": true,
           "gridcolor": "#EBF0F8",
           "linecolor": "#EBF0F8",
           "ticks": "",
           "title": {
            "standoff": 15
           },
           "zerolinecolor": "#EBF0F8",
           "zerolinewidth": 2
          },
          "yaxis": {
           "automargin": true,
           "gridcolor": "#EBF0F8",
           "linecolor": "#EBF0F8",
           "ticks": "",
           "title": {
            "standoff": 15
           },
           "zerolinecolor": "#EBF0F8",
           "zerolinewidth": 2
          }
         }
        },
        "title": {
         "text": "Anzahl der Social - Media - Posts mit der Kombination: Marktgebiet und Symptome"
        },
        "width": 756,
        "xaxis": {
         "anchor": "y",
         "domain": [
          0,
          1
         ],
         "title": {
          "text": "Anteil der Posts in %"
         }
        },
        "yaxis": {
         "anchor": "x",
         "automargin": true,
         "categoryarray": [
          "t",
          "e",
          "i",
          "b",
          "e",
          "g",
          "t",
          "k",
          "r",
          "a",
          "M"
         ],
         "categoryorder": "array",
         "domain": [
          0,
          1
         ],
         "title": {
          "text": "Marktgebiet"
         }
        }
       }
      }
     },
     "metadata": {},
     "output_type": "display_data"
    }
   ],
   "source": [
    "\n",
    "def combine_subcategories(df, lense_1, lense_2):\n",
    "\n",
    "    # Generate combinations of unique subcategories across buying_channel and experts\n",
    "    combinations_list = list(product(lense_1, lense_2))\n",
    "\n",
    "    # Create new dataframe with combination pairs\n",
    "    combination_df = pd.DataFrame(combinations_list, columns=['Subcategory 1', 'Subcategory 2'])\n",
    "\n",
    "    # Initialize dictionary to store combination counts\n",
    "    combination_counts = {}\n",
    "    id_values = set()\n",
    "\n",
    "\n",
    "    # Iterate through combinations and count occurrences\n",
    "    for subcategory_1, subcategory_2 in combinations_list:\n",
    "        ids = sentiment_new_df.loc[\n",
    "            (sentiment_new_df['subcategory'] == subcategory_1) &\n",
    "            (sentiment_new_df['id'].isin(sentiment_new_df.loc[sentiment_new_df['subcategory'] == subcategory_2, 'id'])),\n",
    "            'id'\n",
    "        ].unique()\n",
    "        count = len(ids)\n",
    "        combination_counts[(subcategory_1, subcategory_2)] = count\n",
    "        id_values.update(ids)\n",
    "    \n",
    "\n",
    "    # Create new dataframe from combination counts\n",
    "    combination_counts_df = pd.DataFrame(combination_counts.items(), columns=['combination', 'count'])\n",
    "    combination_counts_df[['subcategory_1', 'subcategory_2']] = pd.DataFrame(combination_counts_df['combination'].tolist())\n",
    "    combination_counts_df = combination_counts_df.drop('combination', axis=1)\n",
    "\n",
    "    # Store the number of unique id values from which combinations were found\n",
    "    n_posts = len(id_values)\n",
    "\n",
    "    #print(combination_counts_df)\n",
    "\n",
    "    return combination_counts_df, n_posts\n",
    "\n",
    "\n",
    "\n",
    "\n",
    "\n",
    "def filter_and_plot(df, counts, cat1, cat2, save_name=\"img\"):\n",
    "    \n",
    "    fig = px.histogram(\n",
    "        df,\n",
    "        x=\"count\",\n",
    "        y=\"subcategory_1\",\n",
    "        color=\"subcategory_2\",\n",
    "        barnorm=\"percent\",\n",
    "        orientation=\"h\",\n",
    "        labels={\n",
    "            \"subcategory_1\": \"\",\n",
    "            \"subcategory_2\": \"\",\n",
    "            \"count\": cat2,\n",
    "        },\n",
    "        color_discrete_sequence=PERMEA_COLOR_WHEEL_11_STATISTICS,\n",
    "        text_auto=\".0f\",\n",
    "        title=f'Anzahl der Social - Media - Posts mit der Kombination: {cat1} und {cat2}',\n",
    "        template=\"plotly_white\",\n",
    "        category_orders={\n",
    "            \"subcategory_1\": cat1,\n",
    "            \"subcategory_2\": cat2\n",
    "        })\n",
    "    \n",
    "\n",
    "    fig.add_annotation(dict(font=dict(size=9),\n",
    "                        x=-0.25,\n",
    "                        y=-0.34,\n",
    "                        showarrow=False,\n",
    "                        #text=f'Based on {counts} Social Media Conversations from publicy available forums mentioning {cat1} and {cat2} <br> Germany, January 2013 – April 2023.',\n",
    "                        text=f\"Basierend auf {counts} Social-Media-Konversationen aus öffentlich zugänglichen Foren <br>Deutschland, Januar 2013 – April 2023.\",                       \n",
    "                        textangle=0,\n",
    "                        xanchor='left',\n",
    "                        xref=\"paper\",\n",
    "                        yref=\"paper\",\n",
    "                        align=\"left\"\n",
    "))\n",
    "    \n",
    "\n",
    "    fig.update_layout(\n",
    "    template='plotly_white',\n",
    "    xaxis_title='Anteil der Posts in %',\n",
    "    yaxis_title=cat1,\n",
    "    #yaxis_range=[0, 1.1 * df['Count'].max()],\n",
    "    #xaxis=dict(\n",
    "        #tickmode='linear',\n",
    "        #dtick=1,\n",
    "        #automargin=True\n",
    "    #),\n",
    "    yaxis={'automargin': True},\n",
    "    #margin=dict(l=130, r=150, b=10, pad=30),\n",
    "    autosize=False,\n",
    "    width=20 * 37.8,  # Convert 20 cm to inches (1 cm = 37.8 inches)\n",
    "    height=10 * 37.8,  # Convert 9 cm to inches (1 cm = 37.8 inches)\n",
    "    legend=dict(font=dict(size=16))\n",
    "    )\n",
    "    \n",
    "    \n",
    "        \n",
    "    #fig.write_image(save_name+\".png\")\n",
    "    \n",
    "    fig.show()\n",
    "    \n",
    "\n",
    "\n",
    "df, counts= combine_subcategories(sentiment_new_df, market_area, top_symptoms)\n",
    "filter_and_plot(df, counts, \"Marktgebiet\", \"Symptome\", save_name=\"market_area_top_symptoms\")\n",
    "\n",
    "\n",
    "\n"
   ]
  },
  {
   "cell_type": "code",
   "execution_count": 8,
   "metadata": {},
   "outputs": [
    {
     "data": {
      "application/vnd.plotly.v1+json": {
       "config": {
        "plotlyServerURL": "https://plot.ly"
       },
       "data": [
        {
         "alignmentgroup": "True",
         "bingroup": "y",
         "histfunc": "sum",
         "hovertemplate": "=%{y}<br>sum of Empfelung (normalized as percent)=%{x}<extra></extra>",
         "legendgroup": "GynäkologeInnen",
         "marker": {
          "color": "rgb(226, 226, 54)",
          "pattern": {
           "shape": ""
          }
         },
         "name": "GynäkologeInnen",
         "offsetgroup": "GynäkologeInnen",
         "orientation": "h",
         "showlegend": true,
         "texttemplate": "%{value:.0f}",
         "type": "histogram",
         "x": [
          0,
          0,
          0,
          0,
          0
         ],
         "xaxis": "x",
         "y": [
          "Scheidenpilz",
          "Scheidentrockenheit",
          "Scheidenflora",
          "Menopause",
          "Zyklusbeschwerden"
         ],
         "yaxis": "y"
        },
        {
         "alignmentgroup": "True",
         "bingroup": "y",
         "histfunc": "sum",
         "hovertemplate": "=%{y}<br>sum of Empfelung (normalized as percent)=%{x}<extra></extra>",
         "legendgroup": "Peers",
         "marker": {
          "color": "rgb(54, 226, 112)",
          "pattern": {
           "shape": ""
          }
         },
         "name": "Peers",
         "offsetgroup": "Peers",
         "orientation": "h",
         "showlegend": true,
         "texttemplate": "%{value:.0f}",
         "type": "histogram",
         "x": [
          86,
          43,
          71,
          188,
          179
         ],
         "xaxis": "x",
         "y": [
          "Scheidenpilz",
          "Scheidentrockenheit",
          "Scheidenflora",
          "Menopause",
          "Zyklusbeschwerden"
         ],
         "yaxis": "y"
        },
        {
         "alignmentgroup": "True",
         "bingroup": "y",
         "histfunc": "sum",
         "hovertemplate": "=%{y}<br>sum of Empfelung (normalized as percent)=%{x}<extra></extra>",
         "legendgroup": "AllgemeinmedizinerInnen",
         "marker": {
          "color": "rgb(54, 112, 226)",
          "pattern": {
           "shape": ""
          }
         },
         "name": "AllgemeinmedizinerInnen",
         "offsetgroup": "AllgemeinmedizinerInnen",
         "orientation": "h",
         "showlegend": true,
         "texttemplate": "%{value:.0f}",
         "type": "histogram",
         "x": [
          1136,
          531,
          1355,
          2161,
          905
         ],
         "xaxis": "x",
         "y": [
          "Scheidenpilz",
          "Scheidentrockenheit",
          "Scheidenflora",
          "Menopause",
          "Zyklusbeschwerden"
         ],
         "yaxis": "y"
        },
        {
         "alignmentgroup": "True",
         "bingroup": "y",
         "histfunc": "sum",
         "hovertemplate": "=%{y}<br>sum of Empfelung (normalized as percent)=%{x}<extra></extra>",
         "legendgroup": "Internetrecherche",
         "marker": {
          "color": "rgb(54, 169, 226)",
          "pattern": {
           "shape": ""
          }
         },
         "name": "Internetrecherche",
         "offsetgroup": "Internetrecherche",
         "orientation": "h",
         "showlegend": true,
         "texttemplate": "%{value:.0f}",
         "type": "histogram",
         "x": [
          2298,
          1006,
          2515,
          5047,
          2567
         ],
         "xaxis": "x",
         "y": [
          "Scheidenpilz",
          "Scheidentrockenheit",
          "Scheidenflora",
          "Menopause",
          "Zyklusbeschwerden"
         ],
         "yaxis": "y"
        },
        {
         "alignmentgroup": "True",
         "bingroup": "y",
         "histfunc": "sum",
         "hovertemplate": "=%{y}<br>sum of Empfelung (normalized as percent)=%{x}<extra></extra>",
         "legendgroup": "Hebammen",
         "marker": {
          "color": "rgb(54, 226, 169)",
          "pattern": {
           "shape": ""
          }
         },
         "name": "Hebammen",
         "offsetgroup": "Hebammen",
         "orientation": "h",
         "showlegend": true,
         "texttemplate": "%{value:.0f}",
         "type": "histogram",
         "x": [
          531,
          559,
          1131,
          169,
          320
         ],
         "xaxis": "x",
         "y": [
          "Scheidenpilz",
          "Scheidentrockenheit",
          "Scheidenflora",
          "Menopause",
          "Zyklusbeschwerden"
         ],
         "yaxis": "y"
        },
        {
         "alignmentgroup": "True",
         "bingroup": "y",
         "histfunc": "sum",
         "hovertemplate": "=%{y}<br>sum of Empfelung (normalized as percent)=%{x}<extra></extra>",
         "legendgroup": "Werbung",
         "marker": {
          "color": "rgb(112, 54, 226)",
          "pattern": {
           "shape": ""
          }
         },
         "name": "Werbung",
         "offsetgroup": "Werbung",
         "orientation": "h",
         "showlegend": true,
         "texttemplate": "%{value:.0f}",
         "type": "histogram",
         "x": [
          0,
          0,
          0,
          0,
          0
         ],
         "xaxis": "x",
         "y": [
          "Scheidenpilz",
          "Scheidentrockenheit",
          "Scheidenflora",
          "Menopause",
          "Zyklusbeschwerden"
         ],
         "yaxis": "y"
        },
        {
         "alignmentgroup": "True",
         "bingroup": "y",
         "histfunc": "sum",
         "hovertemplate": "=%{y}<br>sum of Empfelung (normalized as percent)=%{x}<extra></extra>",
         "legendgroup": "KrankenpflegerInnen",
         "marker": {
          "color": "rgb(226, 54, 169)",
          "pattern": {
           "shape": ""
          }
         },
         "name": "KrankenpflegerInnen",
         "offsetgroup": "KrankenpflegerInnen",
         "orientation": "h",
         "showlegend": true,
         "texttemplate": "%{value:.0f}",
         "type": "histogram",
         "x": [
          48,
          29,
          84,
          119,
          67
         ],
         "xaxis": "x",
         "y": [
          "Scheidenpilz",
          "Scheidentrockenheit",
          "Scheidenflora",
          "Menopause",
          "Zyklusbeschwerden"
         ],
         "yaxis": "y"
        },
        {
         "alignmentgroup": "True",
         "bingroup": "y",
         "histfunc": "sum",
         "hovertemplate": "=%{y}<br>sum of Empfelung (normalized as percent)=%{x}<extra></extra>",
         "legendgroup": "GynäkologInnen",
         "marker": {
          "color": "rgb(169, 54, 226)",
          "pattern": {
           "shape": ""
          }
         },
         "name": "GynäkologInnen",
         "offsetgroup": "GynäkologInnen",
         "orientation": "h",
         "showlegend": true,
         "texttemplate": "%{value:.0f}",
         "type": "histogram",
         "x": [
          11206,
          4042,
          10264,
          11420,
          8835
         ],
         "xaxis": "x",
         "y": [
          "Scheidenpilz",
          "Scheidentrockenheit",
          "Scheidenflora",
          "Menopause",
          "Zyklusbeschwerden"
         ],
         "yaxis": "y"
        },
        {
         "alignmentgroup": "True",
         "bingroup": "y",
         "histfunc": "sum",
         "hovertemplate": "=%{y}<br>sum of Empfelung (normalized as percent)=%{x}<extra></extra>",
         "legendgroup": "ApothekerInnen",
         "marker": {
          "color": "rgb(169, 226, 54)",
          "pattern": {
           "shape": ""
          }
         },
         "name": "ApothekerInnen",
         "offsetgroup": "ApothekerInnen",
         "orientation": "h",
         "showlegend": true,
         "texttemplate": "%{value:.0f}",
         "type": "histogram",
         "x": [
          5277,
          1184,
          3480,
          2773,
          1614
         ],
         "xaxis": "x",
         "y": [
          "Scheidenpilz",
          "Scheidentrockenheit",
          "Scheidenflora",
          "Menopause",
          "Zyklusbeschwerden"
         ],
         "yaxis": "y"
        }
       ],
       "layout": {
        "annotations": [
         {
          "align": "left",
          "font": {
           "size": 9
          },
          "showarrow": false,
          "text": "Basierend auf 59865 Social-Media-Konversationen aus öffentlich zugänglichen Foren <br>Deutschland, Januar 2013 – April 2023.",
          "textangle": 0,
          "x": -0.25,
          "xanchor": "left",
          "xref": "paper",
          "y": -0.34,
          "yref": "paper"
         }
        ],
        "autosize": false,
        "barmode": "relative",
        "barnorm": "percent",
        "height": 378,
        "legend": {
         "font": {
          "size": 16
         },
         "title": {
          "text": ""
         },
         "tracegroupgap": 0
        },
        "template": {
         "data": {
          "bar": [
           {
            "error_x": {
             "color": "#2a3f5f"
            },
            "error_y": {
             "color": "#2a3f5f"
            },
            "marker": {
             "line": {
              "color": "white",
              "width": 0.5
             },
             "pattern": {
              "fillmode": "overlay",
              "size": 10,
              "solidity": 0.2
             }
            },
            "type": "bar"
           }
          ],
          "barpolar": [
           {
            "marker": {
             "line": {
              "color": "white",
              "width": 0.5
             },
             "pattern": {
              "fillmode": "overlay",
              "size": 10,
              "solidity": 0.2
             }
            },
            "type": "barpolar"
           }
          ],
          "carpet": [
           {
            "aaxis": {
             "endlinecolor": "#2a3f5f",
             "gridcolor": "#C8D4E3",
             "linecolor": "#C8D4E3",
             "minorgridcolor": "#C8D4E3",
             "startlinecolor": "#2a3f5f"
            },
            "baxis": {
             "endlinecolor": "#2a3f5f",
             "gridcolor": "#C8D4E3",
             "linecolor": "#C8D4E3",
             "minorgridcolor": "#C8D4E3",
             "startlinecolor": "#2a3f5f"
            },
            "type": "carpet"
           }
          ],
          "choropleth": [
           {
            "colorbar": {
             "outlinewidth": 0,
             "ticks": ""
            },
            "type": "choropleth"
           }
          ],
          "contour": [
           {
            "colorbar": {
             "outlinewidth": 0,
             "ticks": ""
            },
            "colorscale": [
             [
              0,
              "#0d0887"
             ],
             [
              0.1111111111111111,
              "#46039f"
             ],
             [
              0.2222222222222222,
              "#7201a8"
             ],
             [
              0.3333333333333333,
              "#9c179e"
             ],
             [
              0.4444444444444444,
              "#bd3786"
             ],
             [
              0.5555555555555556,
              "#d8576b"
             ],
             [
              0.6666666666666666,
              "#ed7953"
             ],
             [
              0.7777777777777778,
              "#fb9f3a"
             ],
             [
              0.8888888888888888,
              "#fdca26"
             ],
             [
              1,
              "#f0f921"
             ]
            ],
            "type": "contour"
           }
          ],
          "contourcarpet": [
           {
            "colorbar": {
             "outlinewidth": 0,
             "ticks": ""
            },
            "type": "contourcarpet"
           }
          ],
          "heatmap": [
           {
            "colorbar": {
             "outlinewidth": 0,
             "ticks": ""
            },
            "colorscale": [
             [
              0,
              "#0d0887"
             ],
             [
              0.1111111111111111,
              "#46039f"
             ],
             [
              0.2222222222222222,
              "#7201a8"
             ],
             [
              0.3333333333333333,
              "#9c179e"
             ],
             [
              0.4444444444444444,
              "#bd3786"
             ],
             [
              0.5555555555555556,
              "#d8576b"
             ],
             [
              0.6666666666666666,
              "#ed7953"
             ],
             [
              0.7777777777777778,
              "#fb9f3a"
             ],
             [
              0.8888888888888888,
              "#fdca26"
             ],
             [
              1,
              "#f0f921"
             ]
            ],
            "type": "heatmap"
           }
          ],
          "heatmapgl": [
           {
            "colorbar": {
             "outlinewidth": 0,
             "ticks": ""
            },
            "colorscale": [
             [
              0,
              "#0d0887"
             ],
             [
              0.1111111111111111,
              "#46039f"
             ],
             [
              0.2222222222222222,
              "#7201a8"
             ],
             [
              0.3333333333333333,
              "#9c179e"
             ],
             [
              0.4444444444444444,
              "#bd3786"
             ],
             [
              0.5555555555555556,
              "#d8576b"
             ],
             [
              0.6666666666666666,
              "#ed7953"
             ],
             [
              0.7777777777777778,
              "#fb9f3a"
             ],
             [
              0.8888888888888888,
              "#fdca26"
             ],
             [
              1,
              "#f0f921"
             ]
            ],
            "type": "heatmapgl"
           }
          ],
          "histogram": [
           {
            "marker": {
             "pattern": {
              "fillmode": "overlay",
              "size": 10,
              "solidity": 0.2
             }
            },
            "type": "histogram"
           }
          ],
          "histogram2d": [
           {
            "colorbar": {
             "outlinewidth": 0,
             "ticks": ""
            },
            "colorscale": [
             [
              0,
              "#0d0887"
             ],
             [
              0.1111111111111111,
              "#46039f"
             ],
             [
              0.2222222222222222,
              "#7201a8"
             ],
             [
              0.3333333333333333,
              "#9c179e"
             ],
             [
              0.4444444444444444,
              "#bd3786"
             ],
             [
              0.5555555555555556,
              "#d8576b"
             ],
             [
              0.6666666666666666,
              "#ed7953"
             ],
             [
              0.7777777777777778,
              "#fb9f3a"
             ],
             [
              0.8888888888888888,
              "#fdca26"
             ],
             [
              1,
              "#f0f921"
             ]
            ],
            "type": "histogram2d"
           }
          ],
          "histogram2dcontour": [
           {
            "colorbar": {
             "outlinewidth": 0,
             "ticks": ""
            },
            "colorscale": [
             [
              0,
              "#0d0887"
             ],
             [
              0.1111111111111111,
              "#46039f"
             ],
             [
              0.2222222222222222,
              "#7201a8"
             ],
             [
              0.3333333333333333,
              "#9c179e"
             ],
             [
              0.4444444444444444,
              "#bd3786"
             ],
             [
              0.5555555555555556,
              "#d8576b"
             ],
             [
              0.6666666666666666,
              "#ed7953"
             ],
             [
              0.7777777777777778,
              "#fb9f3a"
             ],
             [
              0.8888888888888888,
              "#fdca26"
             ],
             [
              1,
              "#f0f921"
             ]
            ],
            "type": "histogram2dcontour"
           }
          ],
          "mesh3d": [
           {
            "colorbar": {
             "outlinewidth": 0,
             "ticks": ""
            },
            "type": "mesh3d"
           }
          ],
          "parcoords": [
           {
            "line": {
             "colorbar": {
              "outlinewidth": 0,
              "ticks": ""
             }
            },
            "type": "parcoords"
           }
          ],
          "pie": [
           {
            "automargin": true,
            "type": "pie"
           }
          ],
          "scatter": [
           {
            "fillpattern": {
             "fillmode": "overlay",
             "size": 10,
             "solidity": 0.2
            },
            "type": "scatter"
           }
          ],
          "scatter3d": [
           {
            "line": {
             "colorbar": {
              "outlinewidth": 0,
              "ticks": ""
             }
            },
            "marker": {
             "colorbar": {
              "outlinewidth": 0,
              "ticks": ""
             }
            },
            "type": "scatter3d"
           }
          ],
          "scattercarpet": [
           {
            "marker": {
             "colorbar": {
              "outlinewidth": 0,
              "ticks": ""
             }
            },
            "type": "scattercarpet"
           }
          ],
          "scattergeo": [
           {
            "marker": {
             "colorbar": {
              "outlinewidth": 0,
              "ticks": ""
             }
            },
            "type": "scattergeo"
           }
          ],
          "scattergl": [
           {
            "marker": {
             "colorbar": {
              "outlinewidth": 0,
              "ticks": ""
             }
            },
            "type": "scattergl"
           }
          ],
          "scattermapbox": [
           {
            "marker": {
             "colorbar": {
              "outlinewidth": 0,
              "ticks": ""
             }
            },
            "type": "scattermapbox"
           }
          ],
          "scatterpolar": [
           {
            "marker": {
             "colorbar": {
              "outlinewidth": 0,
              "ticks": ""
             }
            },
            "type": "scatterpolar"
           }
          ],
          "scatterpolargl": [
           {
            "marker": {
             "colorbar": {
              "outlinewidth": 0,
              "ticks": ""
             }
            },
            "type": "scatterpolargl"
           }
          ],
          "scatterternary": [
           {
            "marker": {
             "colorbar": {
              "outlinewidth": 0,
              "ticks": ""
             }
            },
            "type": "scatterternary"
           }
          ],
          "surface": [
           {
            "colorbar": {
             "outlinewidth": 0,
             "ticks": ""
            },
            "colorscale": [
             [
              0,
              "#0d0887"
             ],
             [
              0.1111111111111111,
              "#46039f"
             ],
             [
              0.2222222222222222,
              "#7201a8"
             ],
             [
              0.3333333333333333,
              "#9c179e"
             ],
             [
              0.4444444444444444,
              "#bd3786"
             ],
             [
              0.5555555555555556,
              "#d8576b"
             ],
             [
              0.6666666666666666,
              "#ed7953"
             ],
             [
              0.7777777777777778,
              "#fb9f3a"
             ],
             [
              0.8888888888888888,
              "#fdca26"
             ],
             [
              1,
              "#f0f921"
             ]
            ],
            "type": "surface"
           }
          ],
          "table": [
           {
            "cells": {
             "fill": {
              "color": "#EBF0F8"
             },
             "line": {
              "color": "white"
             }
            },
            "header": {
             "fill": {
              "color": "#C8D4E3"
             },
             "line": {
              "color": "white"
             }
            },
            "type": "table"
           }
          ]
         },
         "layout": {
          "annotationdefaults": {
           "arrowcolor": "#2a3f5f",
           "arrowhead": 0,
           "arrowwidth": 1
          },
          "autotypenumbers": "strict",
          "coloraxis": {
           "colorbar": {
            "outlinewidth": 0,
            "ticks": ""
           }
          },
          "colorscale": {
           "diverging": [
            [
             0,
             "#8e0152"
            ],
            [
             0.1,
             "#c51b7d"
            ],
            [
             0.2,
             "#de77ae"
            ],
            [
             0.3,
             "#f1b6da"
            ],
            [
             0.4,
             "#fde0ef"
            ],
            [
             0.5,
             "#f7f7f7"
            ],
            [
             0.6,
             "#e6f5d0"
            ],
            [
             0.7,
             "#b8e186"
            ],
            [
             0.8,
             "#7fbc41"
            ],
            [
             0.9,
             "#4d9221"
            ],
            [
             1,
             "#276419"
            ]
           ],
           "sequential": [
            [
             0,
             "#0d0887"
            ],
            [
             0.1111111111111111,
             "#46039f"
            ],
            [
             0.2222222222222222,
             "#7201a8"
            ],
            [
             0.3333333333333333,
             "#9c179e"
            ],
            [
             0.4444444444444444,
             "#bd3786"
            ],
            [
             0.5555555555555556,
             "#d8576b"
            ],
            [
             0.6666666666666666,
             "#ed7953"
            ],
            [
             0.7777777777777778,
             "#fb9f3a"
            ],
            [
             0.8888888888888888,
             "#fdca26"
            ],
            [
             1,
             "#f0f921"
            ]
           ],
           "sequentialminus": [
            [
             0,
             "#0d0887"
            ],
            [
             0.1111111111111111,
             "#46039f"
            ],
            [
             0.2222222222222222,
             "#7201a8"
            ],
            [
             0.3333333333333333,
             "#9c179e"
            ],
            [
             0.4444444444444444,
             "#bd3786"
            ],
            [
             0.5555555555555556,
             "#d8576b"
            ],
            [
             0.6666666666666666,
             "#ed7953"
            ],
            [
             0.7777777777777778,
             "#fb9f3a"
            ],
            [
             0.8888888888888888,
             "#fdca26"
            ],
            [
             1,
             "#f0f921"
            ]
           ]
          },
          "colorway": [
           "#636efa",
           "#EF553B",
           "#00cc96",
           "#ab63fa",
           "#FFA15A",
           "#19d3f3",
           "#FF6692",
           "#B6E880",
           "#FF97FF",
           "#FECB52"
          ],
          "font": {
           "color": "#2a3f5f"
          },
          "geo": {
           "bgcolor": "white",
           "lakecolor": "white",
           "landcolor": "white",
           "showlakes": true,
           "showland": true,
           "subunitcolor": "#C8D4E3"
          },
          "hoverlabel": {
           "align": "left"
          },
          "hovermode": "closest",
          "mapbox": {
           "style": "light"
          },
          "paper_bgcolor": "white",
          "plot_bgcolor": "white",
          "polar": {
           "angularaxis": {
            "gridcolor": "#EBF0F8",
            "linecolor": "#EBF0F8",
            "ticks": ""
           },
           "bgcolor": "white",
           "radialaxis": {
            "gridcolor": "#EBF0F8",
            "linecolor": "#EBF0F8",
            "ticks": ""
           }
          },
          "scene": {
           "xaxis": {
            "backgroundcolor": "white",
            "gridcolor": "#DFE8F3",
            "gridwidth": 2,
            "linecolor": "#EBF0F8",
            "showbackground": true,
            "ticks": "",
            "zerolinecolor": "#EBF0F8"
           },
           "yaxis": {
            "backgroundcolor": "white",
            "gridcolor": "#DFE8F3",
            "gridwidth": 2,
            "linecolor": "#EBF0F8",
            "showbackground": true,
            "ticks": "",
            "zerolinecolor": "#EBF0F8"
           },
           "zaxis": {
            "backgroundcolor": "white",
            "gridcolor": "#DFE8F3",
            "gridwidth": 2,
            "linecolor": "#EBF0F8",
            "showbackground": true,
            "ticks": "",
            "zerolinecolor": "#EBF0F8"
           }
          },
          "shapedefaults": {
           "line": {
            "color": "#2a3f5f"
           }
          },
          "ternary": {
           "aaxis": {
            "gridcolor": "#DFE8F3",
            "linecolor": "#A2B1C6",
            "ticks": ""
           },
           "baxis": {
            "gridcolor": "#DFE8F3",
            "linecolor": "#A2B1C6",
            "ticks": ""
           },
           "bgcolor": "white",
           "caxis": {
            "gridcolor": "#DFE8F3",
            "linecolor": "#A2B1C6",
            "ticks": ""
           }
          },
          "title": {
           "x": 0.05
          },
          "xaxis": {
           "automargin": true,
           "gridcolor": "#EBF0F8",
           "linecolor": "#EBF0F8",
           "ticks": "",
           "title": {
            "standoff": 15
           },
           "zerolinecolor": "#EBF0F8",
           "zerolinewidth": 2
          },
          "yaxis": {
           "automargin": true,
           "gridcolor": "#EBF0F8",
           "linecolor": "#EBF0F8",
           "ticks": "",
           "title": {
            "standoff": 15
           },
           "zerolinecolor": "#EBF0F8",
           "zerolinewidth": 2
          }
         }
        },
        "title": {
         "text": "Anzahl der Social - Media - Posts mit der Kombination: Marktgebiet und Empfelung"
        },
        "width": 756,
        "xaxis": {
         "anchor": "y",
         "domain": [
          0,
          1
         ],
         "title": {
          "text": "Anteil der Posts in %"
         }
        },
        "yaxis": {
         "anchor": "x",
         "automargin": true,
         "categoryarray": [
          "t",
          "e",
          "i",
          "b",
          "e",
          "g",
          "t",
          "k",
          "r",
          "a",
          "M"
         ],
         "categoryorder": "array",
         "domain": [
          0,
          1
         ],
         "title": {
          "text": "Marktgebiet"
         }
        }
       }
      }
     },
     "metadata": {},
     "output_type": "display_data"
    }
   ],
   "source": [
    "\n",
    "def combine_subcategories(df, lense_1, lense_2):\n",
    "\n",
    "    # Generate combinations of unique subcategories across buying_channel and experts\n",
    "    combinations_list = list(product(lense_1, lense_2))\n",
    "\n",
    "    # Create new dataframe with combination pairs\n",
    "    combination_df = pd.DataFrame(combinations_list, columns=['Subcategory 1', 'Subcategory 2'])\n",
    "\n",
    "    # Initialize dictionary to store combination counts\n",
    "    combination_counts = {}\n",
    "    id_values = set()\n",
    "\n",
    "\n",
    "    # Iterate through combinations and count occurrences\n",
    "    for subcategory_1, subcategory_2 in combinations_list:\n",
    "        ids = sentiment_new_df.loc[\n",
    "            (sentiment_new_df['subcategory'] == subcategory_1) &\n",
    "            (sentiment_new_df['id'].isin(sentiment_new_df.loc[sentiment_new_df['subcategory'] == subcategory_2, 'id'])),\n",
    "            'id'\n",
    "        ].unique()\n",
    "        count = len(ids)\n",
    "        combination_counts[(subcategory_1, subcategory_2)] = count\n",
    "        id_values.update(ids)\n",
    "    \n",
    "\n",
    "    # Create new dataframe from combination counts\n",
    "    combination_counts_df = pd.DataFrame(combination_counts.items(), columns=['combination', 'count'])\n",
    "    combination_counts_df[['subcategory_1', 'subcategory_2']] = pd.DataFrame(combination_counts_df['combination'].tolist())\n",
    "    combination_counts_df = combination_counts_df.drop('combination', axis=1)\n",
    "\n",
    "    # Store the number of unique id values from which combinations were found\n",
    "    n_posts = len(id_values)\n",
    "\n",
    "    #print(combination_counts_df)\n",
    "\n",
    "    return combination_counts_df, n_posts\n",
    "\n",
    "\n",
    "\n",
    "\n",
    "\n",
    "def filter_and_plot(df, counts, cat1, cat2, save_name=\"img\"):\n",
    "    \n",
    "    fig = px.histogram(\n",
    "        df,\n",
    "        x=\"count\",\n",
    "        y=\"subcategory_1\",\n",
    "        color=\"subcategory_2\",\n",
    "        barnorm=\"percent\",\n",
    "        orientation=\"h\",\n",
    "        labels={\n",
    "            \"subcategory_1\": \"\",\n",
    "            \"subcategory_2\": \"\",\n",
    "            \"count\": cat2,\n",
    "        },\n",
    "        color_discrete_sequence=PERMEA_COLOR_WHEEL_11_STATISTICS,\n",
    "        text_auto=\".0f\",\n",
    "        title=f'Anzahl der Social - Media - Posts mit der Kombination: {cat1} und {cat2}',\n",
    "        template=\"plotly_white\",\n",
    "        category_orders={\n",
    "            \"subcategory_1\": cat1,\n",
    "            \"subcategory_2\": cat2\n",
    "        })\n",
    "    \n",
    "\n",
    "    fig.add_annotation(dict(font=dict(size=9),\n",
    "                        x=-0.25,\n",
    "                        y=-0.34,\n",
    "                        showarrow=False,\n",
    "                        #text=f'Based on {counts} Social Media Conversations from publicy available forums mentioning {cat1} and {cat2} <br> Germany, January 2013 – April 2023.',\n",
    "                        text=f\"Basierend auf {counts} Social-Media-Konversationen aus öffentlich zugänglichen Foren <br>Deutschland, Januar 2013 – April 2023.\",                       \n",
    "                        textangle=0,\n",
    "                        xanchor='left',\n",
    "                        xref=\"paper\",\n",
    "                        yref=\"paper\",\n",
    "                        align=\"left\"\n",
    "))\n",
    "    \n",
    "\n",
    "    fig.update_layout(\n",
    "    template='plotly_white',\n",
    "    xaxis_title='Anteil der Posts in %',\n",
    "    yaxis_title=cat1,\n",
    "    #yaxis_range=[0, 1.1 * df['Count'].max()],\n",
    "    #xaxis=dict(\n",
    "        #tickmode='linear',\n",
    "        #dtick=1,\n",
    "        #automargin=True\n",
    "    #),\n",
    "    yaxis={'automargin': True},\n",
    "    #margin=dict(l=130, r=150, b=10, pad=30),\n",
    "    autosize=False,\n",
    "    width=20 * 37.8,  # Convert 20 cm to inches (1 cm = 37.8 inches)\n",
    "    height=10 * 37.8,  # Convert 9 cm to inches (1 cm = 37.8 inches)\n",
    "    legend=dict(font=dict(size=16))\n",
    "    )\n",
    "    \n",
    "    \n",
    "        \n",
    "    #fig.write_image(save_name+\".png\")\n",
    "    \n",
    "    fig.show()\n",
    "    \n",
    "\n",
    "\n",
    "df, counts= combine_subcategories(sentiment_new_df, market_area, advice_from)\n",
    "filter_and_plot(df, counts, \"Marktgebiet\", \"Empfelung\", save_name=\"market_area_advice_from\")\n",
    "\n",
    "\n",
    "\n"
   ]
  },
  {
   "cell_type": "code",
   "execution_count": 30,
   "metadata": {},
   "outputs": [
    {
     "data": {
      "application/vnd.plotly.v1+json": {
       "config": {
        "plotlyServerURL": "https://plot.ly"
       },
       "data": [
        {
         "alignmentgroup": "True",
         "bingroup": "y",
         "histfunc": "sum",
         "hovertemplate": "=%{y}<br>sum of Darreichungsform (normalized as percent)=%{x}<extra></extra>",
         "legendgroup": "Vaginal",
         "marker": {
          "color": "rgb(226, 54, 169)",
          "pattern": {
           "shape": ""
          }
         },
         "name": "Vaginal",
         "offsetgroup": "Vaginal",
         "orientation": "h",
         "showlegend": true,
         "texttemplate": "%{value:.0f}",
         "type": "histogram",
         "x": [
          3434,
          769,
          1079,
          751,
          199
         ],
         "xaxis": "x",
         "y": [
          "Scheidenpilz",
          "Scheidentrockenheit",
          "Scheidenflora",
          "Menopause",
          "Zyklusbeschwerden"
         ],
         "yaxis": "y"
        },
        {
         "alignmentgroup": "True",
         "bingroup": "y",
         "histfunc": "sum",
         "hovertemplate": "=%{y}<br>sum of Darreichungsform (normalized as percent)=%{x}<extra></extra>",
         "legendgroup": "Oral",
         "marker": {
          "color": "rgb(54, 112, 226)",
          "pattern": {
           "shape": ""
          }
         },
         "name": "Oral",
         "offsetgroup": "Oral",
         "orientation": "h",
         "showlegend": true,
         "texttemplate": "%{value:.0f}",
         "type": "histogram",
         "x": [
          4343,
          1414,
          2333,
          11178,
          3056
         ],
         "xaxis": "x",
         "y": [
          "Scheidenpilz",
          "Scheidentrockenheit",
          "Scheidenflora",
          "Menopause",
          "Zyklusbeschwerden"
         ],
         "yaxis": "y"
        },
        {
         "alignmentgroup": "True",
         "bingroup": "y",
         "histfunc": "sum",
         "hovertemplate": "=%{y}<br>sum of Darreichungsform (normalized as percent)=%{x}<extra></extra>",
         "legendgroup": "Topisch",
         "marker": {
          "color": "rgb(54, 169, 226)",
          "pattern": {
           "shape": ""
          }
         },
         "name": "Topisch",
         "offsetgroup": "Topisch",
         "orientation": "h",
         "showlegend": true,
         "texttemplate": "%{value:.0f}",
         "type": "histogram",
         "x": [
          10385,
          3958,
          6259,
          26297,
          6440
         ],
         "xaxis": "x",
         "y": [
          "Scheidenpilz",
          "Scheidentrockenheit",
          "Scheidenflora",
          "Menopause",
          "Zyklusbeschwerden"
         ],
         "yaxis": "y"
        }
       ],
       "layout": {
        "annotations": [
         {
          "align": "left",
          "font": {
           "size": 9
          },
          "showarrow": false,
          "text": "Basierend auf 61472 Social-Media-Konversationen aus öffentlich zugänglichen Foren <br>Deutschland, Januar 2013 – April 2023.",
          "textangle": 0,
          "x": -0.25,
          "xanchor": "left",
          "xref": "paper",
          "y": -0.34,
          "yref": "paper"
         }
        ],
        "autosize": false,
        "barmode": "relative",
        "barnorm": "percent",
        "height": 378,
        "legend": {
         "font": {
          "size": 16
         },
         "title": {
          "text": ""
         },
         "tracegroupgap": 0
        },
        "template": {
         "data": {
          "bar": [
           {
            "error_x": {
             "color": "#2a3f5f"
            },
            "error_y": {
             "color": "#2a3f5f"
            },
            "marker": {
             "line": {
              "color": "white",
              "width": 0.5
             },
             "pattern": {
              "fillmode": "overlay",
              "size": 10,
              "solidity": 0.2
             }
            },
            "type": "bar"
           }
          ],
          "barpolar": [
           {
            "marker": {
             "line": {
              "color": "white",
              "width": 0.5
             },
             "pattern": {
              "fillmode": "overlay",
              "size": 10,
              "solidity": 0.2
             }
            },
            "type": "barpolar"
           }
          ],
          "carpet": [
           {
            "aaxis": {
             "endlinecolor": "#2a3f5f",
             "gridcolor": "#C8D4E3",
             "linecolor": "#C8D4E3",
             "minorgridcolor": "#C8D4E3",
             "startlinecolor": "#2a3f5f"
            },
            "baxis": {
             "endlinecolor": "#2a3f5f",
             "gridcolor": "#C8D4E3",
             "linecolor": "#C8D4E3",
             "minorgridcolor": "#C8D4E3",
             "startlinecolor": "#2a3f5f"
            },
            "type": "carpet"
           }
          ],
          "choropleth": [
           {
            "colorbar": {
             "outlinewidth": 0,
             "ticks": ""
            },
            "type": "choropleth"
           }
          ],
          "contour": [
           {
            "colorbar": {
             "outlinewidth": 0,
             "ticks": ""
            },
            "colorscale": [
             [
              0,
              "#0d0887"
             ],
             [
              0.1111111111111111,
              "#46039f"
             ],
             [
              0.2222222222222222,
              "#7201a8"
             ],
             [
              0.3333333333333333,
              "#9c179e"
             ],
             [
              0.4444444444444444,
              "#bd3786"
             ],
             [
              0.5555555555555556,
              "#d8576b"
             ],
             [
              0.6666666666666666,
              "#ed7953"
             ],
             [
              0.7777777777777778,
              "#fb9f3a"
             ],
             [
              0.8888888888888888,
              "#fdca26"
             ],
             [
              1,
              "#f0f921"
             ]
            ],
            "type": "contour"
           }
          ],
          "contourcarpet": [
           {
            "colorbar": {
             "outlinewidth": 0,
             "ticks": ""
            },
            "type": "contourcarpet"
           }
          ],
          "heatmap": [
           {
            "colorbar": {
             "outlinewidth": 0,
             "ticks": ""
            },
            "colorscale": [
             [
              0,
              "#0d0887"
             ],
             [
              0.1111111111111111,
              "#46039f"
             ],
             [
              0.2222222222222222,
              "#7201a8"
             ],
             [
              0.3333333333333333,
              "#9c179e"
             ],
             [
              0.4444444444444444,
              "#bd3786"
             ],
             [
              0.5555555555555556,
              "#d8576b"
             ],
             [
              0.6666666666666666,
              "#ed7953"
             ],
             [
              0.7777777777777778,
              "#fb9f3a"
             ],
             [
              0.8888888888888888,
              "#fdca26"
             ],
             [
              1,
              "#f0f921"
             ]
            ],
            "type": "heatmap"
           }
          ],
          "heatmapgl": [
           {
            "colorbar": {
             "outlinewidth": 0,
             "ticks": ""
            },
            "colorscale": [
             [
              0,
              "#0d0887"
             ],
             [
              0.1111111111111111,
              "#46039f"
             ],
             [
              0.2222222222222222,
              "#7201a8"
             ],
             [
              0.3333333333333333,
              "#9c179e"
             ],
             [
              0.4444444444444444,
              "#bd3786"
             ],
             [
              0.5555555555555556,
              "#d8576b"
             ],
             [
              0.6666666666666666,
              "#ed7953"
             ],
             [
              0.7777777777777778,
              "#fb9f3a"
             ],
             [
              0.8888888888888888,
              "#fdca26"
             ],
             [
              1,
              "#f0f921"
             ]
            ],
            "type": "heatmapgl"
           }
          ],
          "histogram": [
           {
            "marker": {
             "pattern": {
              "fillmode": "overlay",
              "size": 10,
              "solidity": 0.2
             }
            },
            "type": "histogram"
           }
          ],
          "histogram2d": [
           {
            "colorbar": {
             "outlinewidth": 0,
             "ticks": ""
            },
            "colorscale": [
             [
              0,
              "#0d0887"
             ],
             [
              0.1111111111111111,
              "#46039f"
             ],
             [
              0.2222222222222222,
              "#7201a8"
             ],
             [
              0.3333333333333333,
              "#9c179e"
             ],
             [
              0.4444444444444444,
              "#bd3786"
             ],
             [
              0.5555555555555556,
              "#d8576b"
             ],
             [
              0.6666666666666666,
              "#ed7953"
             ],
             [
              0.7777777777777778,
              "#fb9f3a"
             ],
             [
              0.8888888888888888,
              "#fdca26"
             ],
             [
              1,
              "#f0f921"
             ]
            ],
            "type": "histogram2d"
           }
          ],
          "histogram2dcontour": [
           {
            "colorbar": {
             "outlinewidth": 0,
             "ticks": ""
            },
            "colorscale": [
             [
              0,
              "#0d0887"
             ],
             [
              0.1111111111111111,
              "#46039f"
             ],
             [
              0.2222222222222222,
              "#7201a8"
             ],
             [
              0.3333333333333333,
              "#9c179e"
             ],
             [
              0.4444444444444444,
              "#bd3786"
             ],
             [
              0.5555555555555556,
              "#d8576b"
             ],
             [
              0.6666666666666666,
              "#ed7953"
             ],
             [
              0.7777777777777778,
              "#fb9f3a"
             ],
             [
              0.8888888888888888,
              "#fdca26"
             ],
             [
              1,
              "#f0f921"
             ]
            ],
            "type": "histogram2dcontour"
           }
          ],
          "mesh3d": [
           {
            "colorbar": {
             "outlinewidth": 0,
             "ticks": ""
            },
            "type": "mesh3d"
           }
          ],
          "parcoords": [
           {
            "line": {
             "colorbar": {
              "outlinewidth": 0,
              "ticks": ""
             }
            },
            "type": "parcoords"
           }
          ],
          "pie": [
           {
            "automargin": true,
            "type": "pie"
           }
          ],
          "scatter": [
           {
            "fillpattern": {
             "fillmode": "overlay",
             "size": 10,
             "solidity": 0.2
            },
            "type": "scatter"
           }
          ],
          "scatter3d": [
           {
            "line": {
             "colorbar": {
              "outlinewidth": 0,
              "ticks": ""
             }
            },
            "marker": {
             "colorbar": {
              "outlinewidth": 0,
              "ticks": ""
             }
            },
            "type": "scatter3d"
           }
          ],
          "scattercarpet": [
           {
            "marker": {
             "colorbar": {
              "outlinewidth": 0,
              "ticks": ""
             }
            },
            "type": "scattercarpet"
           }
          ],
          "scattergeo": [
           {
            "marker": {
             "colorbar": {
              "outlinewidth": 0,
              "ticks": ""
             }
            },
            "type": "scattergeo"
           }
          ],
          "scattergl": [
           {
            "marker": {
             "colorbar": {
              "outlinewidth": 0,
              "ticks": ""
             }
            },
            "type": "scattergl"
           }
          ],
          "scattermapbox": [
           {
            "marker": {
             "colorbar": {
              "outlinewidth": 0,
              "ticks": ""
             }
            },
            "type": "scattermapbox"
           }
          ],
          "scatterpolar": [
           {
            "marker": {
             "colorbar": {
              "outlinewidth": 0,
              "ticks": ""
             }
            },
            "type": "scatterpolar"
           }
          ],
          "scatterpolargl": [
           {
            "marker": {
             "colorbar": {
              "outlinewidth": 0,
              "ticks": ""
             }
            },
            "type": "scatterpolargl"
           }
          ],
          "scatterternary": [
           {
            "marker": {
             "colorbar": {
              "outlinewidth": 0,
              "ticks": ""
             }
            },
            "type": "scatterternary"
           }
          ],
          "surface": [
           {
            "colorbar": {
             "outlinewidth": 0,
             "ticks": ""
            },
            "colorscale": [
             [
              0,
              "#0d0887"
             ],
             [
              0.1111111111111111,
              "#46039f"
             ],
             [
              0.2222222222222222,
              "#7201a8"
             ],
             [
              0.3333333333333333,
              "#9c179e"
             ],
             [
              0.4444444444444444,
              "#bd3786"
             ],
             [
              0.5555555555555556,
              "#d8576b"
             ],
             [
              0.6666666666666666,
              "#ed7953"
             ],
             [
              0.7777777777777778,
              "#fb9f3a"
             ],
             [
              0.8888888888888888,
              "#fdca26"
             ],
             [
              1,
              "#f0f921"
             ]
            ],
            "type": "surface"
           }
          ],
          "table": [
           {
            "cells": {
             "fill": {
              "color": "#EBF0F8"
             },
             "line": {
              "color": "white"
             }
            },
            "header": {
             "fill": {
              "color": "#C8D4E3"
             },
             "line": {
              "color": "white"
             }
            },
            "type": "table"
           }
          ]
         },
         "layout": {
          "annotationdefaults": {
           "arrowcolor": "#2a3f5f",
           "arrowhead": 0,
           "arrowwidth": 1
          },
          "autotypenumbers": "strict",
          "coloraxis": {
           "colorbar": {
            "outlinewidth": 0,
            "ticks": ""
           }
          },
          "colorscale": {
           "diverging": [
            [
             0,
             "#8e0152"
            ],
            [
             0.1,
             "#c51b7d"
            ],
            [
             0.2,
             "#de77ae"
            ],
            [
             0.3,
             "#f1b6da"
            ],
            [
             0.4,
             "#fde0ef"
            ],
            [
             0.5,
             "#f7f7f7"
            ],
            [
             0.6,
             "#e6f5d0"
            ],
            [
             0.7,
             "#b8e186"
            ],
            [
             0.8,
             "#7fbc41"
            ],
            [
             0.9,
             "#4d9221"
            ],
            [
             1,
             "#276419"
            ]
           ],
           "sequential": [
            [
             0,
             "#0d0887"
            ],
            [
             0.1111111111111111,
             "#46039f"
            ],
            [
             0.2222222222222222,
             "#7201a8"
            ],
            [
             0.3333333333333333,
             "#9c179e"
            ],
            [
             0.4444444444444444,
             "#bd3786"
            ],
            [
             0.5555555555555556,
             "#d8576b"
            ],
            [
             0.6666666666666666,
             "#ed7953"
            ],
            [
             0.7777777777777778,
             "#fb9f3a"
            ],
            [
             0.8888888888888888,
             "#fdca26"
            ],
            [
             1,
             "#f0f921"
            ]
           ],
           "sequentialminus": [
            [
             0,
             "#0d0887"
            ],
            [
             0.1111111111111111,
             "#46039f"
            ],
            [
             0.2222222222222222,
             "#7201a8"
            ],
            [
             0.3333333333333333,
             "#9c179e"
            ],
            [
             0.4444444444444444,
             "#bd3786"
            ],
            [
             0.5555555555555556,
             "#d8576b"
            ],
            [
             0.6666666666666666,
             "#ed7953"
            ],
            [
             0.7777777777777778,
             "#fb9f3a"
            ],
            [
             0.8888888888888888,
             "#fdca26"
            ],
            [
             1,
             "#f0f921"
            ]
           ]
          },
          "colorway": [
           "#636efa",
           "#EF553B",
           "#00cc96",
           "#ab63fa",
           "#FFA15A",
           "#19d3f3",
           "#FF6692",
           "#B6E880",
           "#FF97FF",
           "#FECB52"
          ],
          "font": {
           "color": "#2a3f5f"
          },
          "geo": {
           "bgcolor": "white",
           "lakecolor": "white",
           "landcolor": "white",
           "showlakes": true,
           "showland": true,
           "subunitcolor": "#C8D4E3"
          },
          "hoverlabel": {
           "align": "left"
          },
          "hovermode": "closest",
          "mapbox": {
           "style": "light"
          },
          "paper_bgcolor": "white",
          "plot_bgcolor": "white",
          "polar": {
           "angularaxis": {
            "gridcolor": "#EBF0F8",
            "linecolor": "#EBF0F8",
            "ticks": ""
           },
           "bgcolor": "white",
           "radialaxis": {
            "gridcolor": "#EBF0F8",
            "linecolor": "#EBF0F8",
            "ticks": ""
           }
          },
          "scene": {
           "xaxis": {
            "backgroundcolor": "white",
            "gridcolor": "#DFE8F3",
            "gridwidth": 2,
            "linecolor": "#EBF0F8",
            "showbackground": true,
            "ticks": "",
            "zerolinecolor": "#EBF0F8"
           },
           "yaxis": {
            "backgroundcolor": "white",
            "gridcolor": "#DFE8F3",
            "gridwidth": 2,
            "linecolor": "#EBF0F8",
            "showbackground": true,
            "ticks": "",
            "zerolinecolor": "#EBF0F8"
           },
           "zaxis": {
            "backgroundcolor": "white",
            "gridcolor": "#DFE8F3",
            "gridwidth": 2,
            "linecolor": "#EBF0F8",
            "showbackground": true,
            "ticks": "",
            "zerolinecolor": "#EBF0F8"
           }
          },
          "shapedefaults": {
           "line": {
            "color": "#2a3f5f"
           }
          },
          "ternary": {
           "aaxis": {
            "gridcolor": "#DFE8F3",
            "linecolor": "#A2B1C6",
            "ticks": ""
           },
           "baxis": {
            "gridcolor": "#DFE8F3",
            "linecolor": "#A2B1C6",
            "ticks": ""
           },
           "bgcolor": "white",
           "caxis": {
            "gridcolor": "#DFE8F3",
            "linecolor": "#A2B1C6",
            "ticks": ""
           }
          },
          "title": {
           "x": 0.05
          },
          "xaxis": {
           "automargin": true,
           "gridcolor": "#EBF0F8",
           "linecolor": "#EBF0F8",
           "ticks": "",
           "title": {
            "standoff": 15
           },
           "zerolinecolor": "#EBF0F8",
           "zerolinewidth": 2
          },
          "yaxis": {
           "automargin": true,
           "gridcolor": "#EBF0F8",
           "linecolor": "#EBF0F8",
           "ticks": "",
           "title": {
            "standoff": 15
           },
           "zerolinecolor": "#EBF0F8",
           "zerolinewidth": 2
          }
         }
        },
        "title": {
         "text": "Anzahl der Social - Media - Posts mit der Kombination: Marktgebiet und Darreichungsform"
        },
        "width": 756,
        "xaxis": {
         "anchor": "y",
         "domain": [
          0,
          1
         ],
         "title": {
          "text": "Anteil der Posts in %"
         }
        },
        "yaxis": {
         "anchor": "x",
         "automargin": true,
         "categoryarray": [
          "t",
          "e",
          "i",
          "b",
          "e",
          "g",
          "t",
          "k",
          "r",
          "a",
          "M"
         ],
         "categoryorder": "array",
         "domain": [
          0,
          1
         ],
         "title": {
          "text": "Marktgebiet"
         }
        }
       }
      }
     },
     "metadata": {},
     "output_type": "display_data"
    }
   ],
   "source": [
    "\n",
    "def combine_subcategories(df, lense_1, lense_2):\n",
    "\n",
    "    # Generate combinations of unique subcategories across buying_channel and experts\n",
    "    combinations_list = list(product(lense_1, lense_2))\n",
    "\n",
    "    # Create new dataframe with combination pairs\n",
    "    combination_df = pd.DataFrame(combinations_list, columns=['Subcategory 1', 'Subcategory 2'])\n",
    "\n",
    "    # Initialize dictionary to store combination counts\n",
    "    combination_counts = {}\n",
    "    id_values = set()\n",
    "\n",
    "\n",
    "    # Iterate through combinations and count occurrences\n",
    "    for subcategory_1, subcategory_2 in combinations_list:\n",
    "        ids = sentiment_new_df.loc[\n",
    "            (sentiment_new_df['subcategory'] == subcategory_1) &\n",
    "            (sentiment_new_df['id'].isin(sentiment_new_df.loc[sentiment_new_df['subcategory'] == subcategory_2, 'id'])),\n",
    "            'id'\n",
    "        ].unique()\n",
    "        count = len(ids)\n",
    "        combination_counts[(subcategory_1, subcategory_2)] = count\n",
    "        id_values.update(ids)\n",
    "    \n",
    "\n",
    "    # Create new dataframe from combination counts\n",
    "    combination_counts_df = pd.DataFrame(combination_counts.items(), columns=['combination', 'count'])\n",
    "    combination_counts_df[['subcategory_1', 'subcategory_2']] = pd.DataFrame(combination_counts_df['combination'].tolist())\n",
    "    combination_counts_df = combination_counts_df.drop('combination', axis=1)\n",
    "\n",
    "    # Store the number of unique id values from which combinations were found\n",
    "    n_posts = len(id_values)\n",
    "\n",
    "    #print(combination_counts_df)\n",
    "\n",
    "    return combination_counts_df, n_posts\n",
    "\n",
    "\n",
    "\n",
    "\n",
    "\n",
    "def filter_and_plot(df, counts, cat1, cat2, save_name=\"img\"):\n",
    "    \n",
    "    fig = px.histogram(\n",
    "        df,\n",
    "        x=\"count\",\n",
    "        y=\"subcategory_1\",\n",
    "        color=\"subcategory_2\",\n",
    "        barnorm=\"percent\",\n",
    "        orientation=\"h\",\n",
    "        labels={\n",
    "            \"subcategory_1\": \"\",\n",
    "            \"subcategory_2\": \"\",\n",
    "            \"count\": cat2,\n",
    "        },\n",
    "        color_discrete_sequence=PERMEA_COLOR_WHEEL_5_STATISTICS,\n",
    "        text_auto=\".0f\",\n",
    "        title=f'Anzahl der Social - Media - Posts mit der Kombination: {cat1} und {cat2}',\n",
    "        template=\"plotly_white\",\n",
    "        category_orders={\n",
    "            \"subcategory_1\": cat1,\n",
    "            \"subcategory_2\": cat2\n",
    "        })\n",
    "    \n",
    "\n",
    "    fig.add_annotation(dict(font=dict(size=9),\n",
    "                        x=-0.25,\n",
    "                        y=-0.34,\n",
    "                        showarrow=False,\n",
    "                        #text=f'Based on {counts} Social Media Conversations from publicy available forums mentioning {cat1} and {cat2} <br> Germany, January 2013 – April 2023.',\n",
    "                        text=f\"Basierend auf {counts} Social-Media-Konversationen aus öffentlich zugänglichen Foren <br>Deutschland, Januar 2013 – April 2023.\",                       \n",
    "                        textangle=0,\n",
    "                        xanchor='left',\n",
    "                        xref=\"paper\",\n",
    "                        yref=\"paper\",\n",
    "                        align=\"left\"\n",
    "))\n",
    "    \n",
    "\n",
    "    fig.update_layout(\n",
    "    template='plotly_white',\n",
    "    xaxis_title='Anteil der Posts in %',\n",
    "    yaxis_title=cat1,\n",
    "    #yaxis_range=[0, 1.1 * df['Count'].max()],\n",
    "    #xaxis=dict(\n",
    "        #tickmode='linear',\n",
    "        #dtick=1,\n",
    "        #automargin=True\n",
    "    #),\n",
    "    yaxis={'automargin': True},\n",
    "    #margin=dict(l=130, r=150, b=10, pad=30),\n",
    "    autosize=False,\n",
    "    width=20 * 37.8,  # Convert 20 cm to inches (1 cm = 37.8 inches)\n",
    "    height=10 * 37.8,  # Convert 9 cm to inches (1 cm = 37.8 inches)\n",
    "    legend=dict(font=dict(size=16))\n",
    "    )\n",
    "    \n",
    "    \n",
    "        \n",
    "    #fig.write_image(save_name+\".png\")\n",
    "    \n",
    "    fig.show()\n",
    "    \n",
    "\n",
    "\n",
    "df, counts= combine_subcategories(sentiment_new_df, market_area, mode_of_administration)\n",
    "filter_and_plot(df, counts, \"Marktgebiet\", \"Darreichungsform\", save_name=\"market_area_mode_of_administration\")\n",
    "\n",
    "\n",
    "\n"
   ]
  },
  {
   "cell_type": "code",
   "execution_count": 67,
   "metadata": {},
   "outputs": [
    {
     "data": {
      "application/vnd.plotly.v1+json": {
       "config": {
        "plotlyServerURL": "https://plot.ly"
       },
       "data": [
        {
         "alignmentgroup": "True",
         "bingroup": "y",
         "histfunc": "sum",
         "hovertemplate": "=%{y}<br>sum of Hauptmarken (normalized as percent)=%{x}<extra></extra>",
         "legendgroup": "Kadefungin",
         "marker": {
          "color": "rgb(226, 226, 112)",
          "pattern": {
           "shape": ""
          }
         },
         "name": "Kadefungin",
         "offsetgroup": "Kadefungin",
         "orientation": "h",
         "showlegend": true,
         "texttemplate": "%{value:.0f}",
         "type": "histogram",
         "x": [
          6008,
          424,
          838,
          36,
          32
         ],
         "xaxis": "x",
         "y": [
          "Scheidenpilz",
          "Scheidentrockenheit",
          "Scheidenflora",
          "Menopause",
          "Zyklusbeschwerden"
         ],
         "yaxis": "y"
        },
        {
         "alignmentgroup": "True",
         "bingroup": "y",
         "histfunc": "sum",
         "hovertemplate": "=%{y}<br>sum of Hauptmarken (normalized as percent)=%{x}<extra></extra>",
         "legendgroup": "Kadefemin",
         "marker": {
          "color": "rgb(54, 112, 226)",
          "pattern": {
           "shape": ""
          }
         },
         "name": "Kadefemin",
         "offsetgroup": "Kadefemin",
         "orientation": "h",
         "showlegend": true,
         "texttemplate": "%{value:.0f}",
         "type": "histogram",
         "x": [
          3,
          2,
          28,
          1,
          0
         ],
         "xaxis": "x",
         "y": [
          "Scheidenpilz",
          "Scheidentrockenheit",
          "Scheidenflora",
          "Menopause",
          "Zyklusbeschwerden"
         ],
         "yaxis": "y"
        },
        {
         "alignmentgroup": "True",
         "bingroup": "y",
         "histfunc": "sum",
         "hovertemplate": "=%{y}<br>sum of Hauptmarken (normalized as percent)=%{x}<extra></extra>",
         "legendgroup": "Kadezyklus",
         "marker": {
          "color": "rgb(112, 169, 226)",
          "pattern": {
           "shape": ""
          }
         },
         "name": "Kadezyklus",
         "offsetgroup": "Kadezyklus",
         "orientation": "h",
         "showlegend": true,
         "texttemplate": "%{value:.0f}",
         "type": "histogram",
         "x": [
          1,
          0,
          0,
          0,
          4
         ],
         "xaxis": "x",
         "y": [
          "Scheidenpilz",
          "Scheidentrockenheit",
          "Scheidenflora",
          "Menopause",
          "Zyklusbeschwerden"
         ],
         "yaxis": "y"
        },
        {
         "alignmentgroup": "True",
         "bingroup": "y",
         "histfunc": "sum",
         "hovertemplate": "=%{y}<br>sum of Hauptmarken (normalized as percent)=%{x}<extra></extra>",
         "legendgroup": "Canesten",
         "marker": {
          "color": "rgb(54, 226, 169)",
          "pattern": {
           "shape": ""
          }
         },
         "name": "Canesten",
         "offsetgroup": "Canesten",
         "orientation": "h",
         "showlegend": true,
         "texttemplate": "%{value:.0f}",
         "type": "histogram",
         "x": [
          1972,
          180,
          430,
          29,
          11
         ],
         "xaxis": "x",
         "y": [
          "Scheidenpilz",
          "Scheidentrockenheit",
          "Scheidenflora",
          "Menopause",
          "Zyklusbeschwerden"
         ],
         "yaxis": "y"
        },
        {
         "alignmentgroup": "True",
         "bingroup": "y",
         "histfunc": "sum",
         "hovertemplate": "=%{y}<br>sum of Hauptmarken (normalized as percent)=%{x}<extra></extra>",
         "legendgroup": "Multi Gyn",
         "marker": {
          "color": "rgb(112, 54, 226)",
          "pattern": {
           "shape": ""
          }
         },
         "name": "Multi Gyn",
         "offsetgroup": "Multi Gyn",
         "orientation": "h",
         "showlegend": true,
         "texttemplate": "%{value:.0f}",
         "type": "histogram",
         "x": [
          0,
          0,
          0,
          0,
          0
         ],
         "xaxis": "x",
         "y": [
          "Scheidenpilz",
          "Scheidentrockenheit",
          "Scheidenflora",
          "Menopause",
          "Zyklusbeschwerden"
         ],
         "yaxis": "y"
        },
        {
         "alignmentgroup": "True",
         "bingroup": "y",
         "histfunc": "sum",
         "hovertemplate": "=%{y}<br>sum of Hauptmarken (normalized as percent)=%{x}<extra></extra>",
         "legendgroup": "Vagisan",
         "marker": {
          "color": "rgb(226, 54, 169)",
          "pattern": {
           "shape": ""
          }
         },
         "name": "Vagisan",
         "offsetgroup": "Vagisan",
         "orientation": "h",
         "showlegend": true,
         "texttemplate": "%{value:.0f}",
         "type": "histogram",
         "x": [
          1307,
          771,
          1154,
          107,
          15
         ],
         "xaxis": "x",
         "y": [
          "Scheidenpilz",
          "Scheidentrockenheit",
          "Scheidenflora",
          "Menopause",
          "Zyklusbeschwerden"
         ],
         "yaxis": "y"
        },
        {
         "alignmentgroup": "True",
         "bingroup": "y",
         "histfunc": "sum",
         "hovertemplate": "=%{y}<br>sum of Hauptmarken (normalized as percent)=%{x}<extra></extra>",
         "legendgroup": "Buscopan",
         "marker": {
          "color": "rgb(169, 54, 226)",
          "pattern": {
           "shape": ""
          }
         },
         "name": "Buscopan",
         "offsetgroup": "Buscopan",
         "orientation": "h",
         "showlegend": true,
         "texttemplate": "%{value:.0f}",
         "type": "histogram",
         "x": [
          46,
          42,
          76,
          67,
          520
         ],
         "xaxis": "x",
         "y": [
          "Scheidenpilz",
          "Scheidentrockenheit",
          "Scheidenflora",
          "Menopause",
          "Zyklusbeschwerden"
         ],
         "yaxis": "y"
        },
        {
         "alignmentgroup": "True",
         "bingroup": "y",
         "histfunc": "sum",
         "hovertemplate": "=%{y}<br>sum of Hauptmarken (normalized as percent)=%{x}<extra></extra>",
         "legendgroup": "Deumavan",
         "marker": {
          "color": "rgb(169, 226, 54)",
          "pattern": {
           "shape": ""
          }
         },
         "name": "Deumavan",
         "offsetgroup": "Deumavan",
         "orientation": "h",
         "showlegend": true,
         "texttemplate": "%{value:.0f}",
         "type": "histogram",
         "x": [
          290,
          247,
          1921,
          43,
          8
         ],
         "xaxis": "x",
         "y": [
          "Scheidenpilz",
          "Scheidentrockenheit",
          "Scheidenflora",
          "Menopause",
          "Zyklusbeschwerden"
         ],
         "yaxis": "y"
        }
       ],
       "layout": {
        "annotations": [
         {
          "align": "left",
          "font": {
           "size": 9
          },
          "showarrow": false,
          "text": "Basierend auf 12569 Social-Media-Konversationen aus öffentlich zugänglichen Foren <br>Deutschland, Januar 2013 – April 2023.",
          "textangle": 0,
          "x": -0.25,
          "xanchor": "left",
          "xref": "paper",
          "y": -0.34,
          "yref": "paper"
         }
        ],
        "autosize": false,
        "barmode": "relative",
        "barnorm": "percent",
        "height": 378,
        "legend": {
         "font": {
          "size": 16
         },
         "title": {
          "text": ""
         },
         "tracegroupgap": 0
        },
        "template": {
         "data": {
          "bar": [
           {
            "error_x": {
             "color": "#2a3f5f"
            },
            "error_y": {
             "color": "#2a3f5f"
            },
            "marker": {
             "line": {
              "color": "white",
              "width": 0.5
             },
             "pattern": {
              "fillmode": "overlay",
              "size": 10,
              "solidity": 0.2
             }
            },
            "type": "bar"
           }
          ],
          "barpolar": [
           {
            "marker": {
             "line": {
              "color": "white",
              "width": 0.5
             },
             "pattern": {
              "fillmode": "overlay",
              "size": 10,
              "solidity": 0.2
             }
            },
            "type": "barpolar"
           }
          ],
          "carpet": [
           {
            "aaxis": {
             "endlinecolor": "#2a3f5f",
             "gridcolor": "#C8D4E3",
             "linecolor": "#C8D4E3",
             "minorgridcolor": "#C8D4E3",
             "startlinecolor": "#2a3f5f"
            },
            "baxis": {
             "endlinecolor": "#2a3f5f",
             "gridcolor": "#C8D4E3",
             "linecolor": "#C8D4E3",
             "minorgridcolor": "#C8D4E3",
             "startlinecolor": "#2a3f5f"
            },
            "type": "carpet"
           }
          ],
          "choropleth": [
           {
            "colorbar": {
             "outlinewidth": 0,
             "ticks": ""
            },
            "type": "choropleth"
           }
          ],
          "contour": [
           {
            "colorbar": {
             "outlinewidth": 0,
             "ticks": ""
            },
            "colorscale": [
             [
              0,
              "#0d0887"
             ],
             [
              0.1111111111111111,
              "#46039f"
             ],
             [
              0.2222222222222222,
              "#7201a8"
             ],
             [
              0.3333333333333333,
              "#9c179e"
             ],
             [
              0.4444444444444444,
              "#bd3786"
             ],
             [
              0.5555555555555556,
              "#d8576b"
             ],
             [
              0.6666666666666666,
              "#ed7953"
             ],
             [
              0.7777777777777778,
              "#fb9f3a"
             ],
             [
              0.8888888888888888,
              "#fdca26"
             ],
             [
              1,
              "#f0f921"
             ]
            ],
            "type": "contour"
           }
          ],
          "contourcarpet": [
           {
            "colorbar": {
             "outlinewidth": 0,
             "ticks": ""
            },
            "type": "contourcarpet"
           }
          ],
          "heatmap": [
           {
            "colorbar": {
             "outlinewidth": 0,
             "ticks": ""
            },
            "colorscale": [
             [
              0,
              "#0d0887"
             ],
             [
              0.1111111111111111,
              "#46039f"
             ],
             [
              0.2222222222222222,
              "#7201a8"
             ],
             [
              0.3333333333333333,
              "#9c179e"
             ],
             [
              0.4444444444444444,
              "#bd3786"
             ],
             [
              0.5555555555555556,
              "#d8576b"
             ],
             [
              0.6666666666666666,
              "#ed7953"
             ],
             [
              0.7777777777777778,
              "#fb9f3a"
             ],
             [
              0.8888888888888888,
              "#fdca26"
             ],
             [
              1,
              "#f0f921"
             ]
            ],
            "type": "heatmap"
           }
          ],
          "heatmapgl": [
           {
            "colorbar": {
             "outlinewidth": 0,
             "ticks": ""
            },
            "colorscale": [
             [
              0,
              "#0d0887"
             ],
             [
              0.1111111111111111,
              "#46039f"
             ],
             [
              0.2222222222222222,
              "#7201a8"
             ],
             [
              0.3333333333333333,
              "#9c179e"
             ],
             [
              0.4444444444444444,
              "#bd3786"
             ],
             [
              0.5555555555555556,
              "#d8576b"
             ],
             [
              0.6666666666666666,
              "#ed7953"
             ],
             [
              0.7777777777777778,
              "#fb9f3a"
             ],
             [
              0.8888888888888888,
              "#fdca26"
             ],
             [
              1,
              "#f0f921"
             ]
            ],
            "type": "heatmapgl"
           }
          ],
          "histogram": [
           {
            "marker": {
             "pattern": {
              "fillmode": "overlay",
              "size": 10,
              "solidity": 0.2
             }
            },
            "type": "histogram"
           }
          ],
          "histogram2d": [
           {
            "colorbar": {
             "outlinewidth": 0,
             "ticks": ""
            },
            "colorscale": [
             [
              0,
              "#0d0887"
             ],
             [
              0.1111111111111111,
              "#46039f"
             ],
             [
              0.2222222222222222,
              "#7201a8"
             ],
             [
              0.3333333333333333,
              "#9c179e"
             ],
             [
              0.4444444444444444,
              "#bd3786"
             ],
             [
              0.5555555555555556,
              "#d8576b"
             ],
             [
              0.6666666666666666,
              "#ed7953"
             ],
             [
              0.7777777777777778,
              "#fb9f3a"
             ],
             [
              0.8888888888888888,
              "#fdca26"
             ],
             [
              1,
              "#f0f921"
             ]
            ],
            "type": "histogram2d"
           }
          ],
          "histogram2dcontour": [
           {
            "colorbar": {
             "outlinewidth": 0,
             "ticks": ""
            },
            "colorscale": [
             [
              0,
              "#0d0887"
             ],
             [
              0.1111111111111111,
              "#46039f"
             ],
             [
              0.2222222222222222,
              "#7201a8"
             ],
             [
              0.3333333333333333,
              "#9c179e"
             ],
             [
              0.4444444444444444,
              "#bd3786"
             ],
             [
              0.5555555555555556,
              "#d8576b"
             ],
             [
              0.6666666666666666,
              "#ed7953"
             ],
             [
              0.7777777777777778,
              "#fb9f3a"
             ],
             [
              0.8888888888888888,
              "#fdca26"
             ],
             [
              1,
              "#f0f921"
             ]
            ],
            "type": "histogram2dcontour"
           }
          ],
          "mesh3d": [
           {
            "colorbar": {
             "outlinewidth": 0,
             "ticks": ""
            },
            "type": "mesh3d"
           }
          ],
          "parcoords": [
           {
            "line": {
             "colorbar": {
              "outlinewidth": 0,
              "ticks": ""
             }
            },
            "type": "parcoords"
           }
          ],
          "pie": [
           {
            "automargin": true,
            "type": "pie"
           }
          ],
          "scatter": [
           {
            "fillpattern": {
             "fillmode": "overlay",
             "size": 10,
             "solidity": 0.2
            },
            "type": "scatter"
           }
          ],
          "scatter3d": [
           {
            "line": {
             "colorbar": {
              "outlinewidth": 0,
              "ticks": ""
             }
            },
            "marker": {
             "colorbar": {
              "outlinewidth": 0,
              "ticks": ""
             }
            },
            "type": "scatter3d"
           }
          ],
          "scattercarpet": [
           {
            "marker": {
             "colorbar": {
              "outlinewidth": 0,
              "ticks": ""
             }
            },
            "type": "scattercarpet"
           }
          ],
          "scattergeo": [
           {
            "marker": {
             "colorbar": {
              "outlinewidth": 0,
              "ticks": ""
             }
            },
            "type": "scattergeo"
           }
          ],
          "scattergl": [
           {
            "marker": {
             "colorbar": {
              "outlinewidth": 0,
              "ticks": ""
             }
            },
            "type": "scattergl"
           }
          ],
          "scattermapbox": [
           {
            "marker": {
             "colorbar": {
              "outlinewidth": 0,
              "ticks": ""
             }
            },
            "type": "scattermapbox"
           }
          ],
          "scatterpolar": [
           {
            "marker": {
             "colorbar": {
              "outlinewidth": 0,
              "ticks": ""
             }
            },
            "type": "scatterpolar"
           }
          ],
          "scatterpolargl": [
           {
            "marker": {
             "colorbar": {
              "outlinewidth": 0,
              "ticks": ""
             }
            },
            "type": "scatterpolargl"
           }
          ],
          "scatterternary": [
           {
            "marker": {
             "colorbar": {
              "outlinewidth": 0,
              "ticks": ""
             }
            },
            "type": "scatterternary"
           }
          ],
          "surface": [
           {
            "colorbar": {
             "outlinewidth": 0,
             "ticks": ""
            },
            "colorscale": [
             [
              0,
              "#0d0887"
             ],
             [
              0.1111111111111111,
              "#46039f"
             ],
             [
              0.2222222222222222,
              "#7201a8"
             ],
             [
              0.3333333333333333,
              "#9c179e"
             ],
             [
              0.4444444444444444,
              "#bd3786"
             ],
             [
              0.5555555555555556,
              "#d8576b"
             ],
             [
              0.6666666666666666,
              "#ed7953"
             ],
             [
              0.7777777777777778,
              "#fb9f3a"
             ],
             [
              0.8888888888888888,
              "#fdca26"
             ],
             [
              1,
              "#f0f921"
             ]
            ],
            "type": "surface"
           }
          ],
          "table": [
           {
            "cells": {
             "fill": {
              "color": "#EBF0F8"
             },
             "line": {
              "color": "white"
             }
            },
            "header": {
             "fill": {
              "color": "#C8D4E3"
             },
             "line": {
              "color": "white"
             }
            },
            "type": "table"
           }
          ]
         },
         "layout": {
          "annotationdefaults": {
           "arrowcolor": "#2a3f5f",
           "arrowhead": 0,
           "arrowwidth": 1
          },
          "autotypenumbers": "strict",
          "coloraxis": {
           "colorbar": {
            "outlinewidth": 0,
            "ticks": ""
           }
          },
          "colorscale": {
           "diverging": [
            [
             0,
             "#8e0152"
            ],
            [
             0.1,
             "#c51b7d"
            ],
            [
             0.2,
             "#de77ae"
            ],
            [
             0.3,
             "#f1b6da"
            ],
            [
             0.4,
             "#fde0ef"
            ],
            [
             0.5,
             "#f7f7f7"
            ],
            [
             0.6,
             "#e6f5d0"
            ],
            [
             0.7,
             "#b8e186"
            ],
            [
             0.8,
             "#7fbc41"
            ],
            [
             0.9,
             "#4d9221"
            ],
            [
             1,
             "#276419"
            ]
           ],
           "sequential": [
            [
             0,
             "#0d0887"
            ],
            [
             0.1111111111111111,
             "#46039f"
            ],
            [
             0.2222222222222222,
             "#7201a8"
            ],
            [
             0.3333333333333333,
             "#9c179e"
            ],
            [
             0.4444444444444444,
             "#bd3786"
            ],
            [
             0.5555555555555556,
             "#d8576b"
            ],
            [
             0.6666666666666666,
             "#ed7953"
            ],
            [
             0.7777777777777778,
             "#fb9f3a"
            ],
            [
             0.8888888888888888,
             "#fdca26"
            ],
            [
             1,
             "#f0f921"
            ]
           ],
           "sequentialminus": [
            [
             0,
             "#0d0887"
            ],
            [
             0.1111111111111111,
             "#46039f"
            ],
            [
             0.2222222222222222,
             "#7201a8"
            ],
            [
             0.3333333333333333,
             "#9c179e"
            ],
            [
             0.4444444444444444,
             "#bd3786"
            ],
            [
             0.5555555555555556,
             "#d8576b"
            ],
            [
             0.6666666666666666,
             "#ed7953"
            ],
            [
             0.7777777777777778,
             "#fb9f3a"
            ],
            [
             0.8888888888888888,
             "#fdca26"
            ],
            [
             1,
             "#f0f921"
            ]
           ]
          },
          "colorway": [
           "#636efa",
           "#EF553B",
           "#00cc96",
           "#ab63fa",
           "#FFA15A",
           "#19d3f3",
           "#FF6692",
           "#B6E880",
           "#FF97FF",
           "#FECB52"
          ],
          "font": {
           "color": "#2a3f5f"
          },
          "geo": {
           "bgcolor": "white",
           "lakecolor": "white",
           "landcolor": "white",
           "showlakes": true,
           "showland": true,
           "subunitcolor": "#C8D4E3"
          },
          "hoverlabel": {
           "align": "left"
          },
          "hovermode": "closest",
          "mapbox": {
           "style": "light"
          },
          "paper_bgcolor": "white",
          "plot_bgcolor": "white",
          "polar": {
           "angularaxis": {
            "gridcolor": "#EBF0F8",
            "linecolor": "#EBF0F8",
            "ticks": ""
           },
           "bgcolor": "white",
           "radialaxis": {
            "gridcolor": "#EBF0F8",
            "linecolor": "#EBF0F8",
            "ticks": ""
           }
          },
          "scene": {
           "xaxis": {
            "backgroundcolor": "white",
            "gridcolor": "#DFE8F3",
            "gridwidth": 2,
            "linecolor": "#EBF0F8",
            "showbackground": true,
            "ticks": "",
            "zerolinecolor": "#EBF0F8"
           },
           "yaxis": {
            "backgroundcolor": "white",
            "gridcolor": "#DFE8F3",
            "gridwidth": 2,
            "linecolor": "#EBF0F8",
            "showbackground": true,
            "ticks": "",
            "zerolinecolor": "#EBF0F8"
           },
           "zaxis": {
            "backgroundcolor": "white",
            "gridcolor": "#DFE8F3",
            "gridwidth": 2,
            "linecolor": "#EBF0F8",
            "showbackground": true,
            "ticks": "",
            "zerolinecolor": "#EBF0F8"
           }
          },
          "shapedefaults": {
           "line": {
            "color": "#2a3f5f"
           }
          },
          "ternary": {
           "aaxis": {
            "gridcolor": "#DFE8F3",
            "linecolor": "#A2B1C6",
            "ticks": ""
           },
           "baxis": {
            "gridcolor": "#DFE8F3",
            "linecolor": "#A2B1C6",
            "ticks": ""
           },
           "bgcolor": "white",
           "caxis": {
            "gridcolor": "#DFE8F3",
            "linecolor": "#A2B1C6",
            "ticks": ""
           }
          },
          "title": {
           "x": 0.05
          },
          "xaxis": {
           "automargin": true,
           "gridcolor": "#EBF0F8",
           "linecolor": "#EBF0F8",
           "ticks": "",
           "title": {
            "standoff": 15
           },
           "zerolinecolor": "#EBF0F8",
           "zerolinewidth": 2
          },
          "yaxis": {
           "automargin": true,
           "gridcolor": "#EBF0F8",
           "linecolor": "#EBF0F8",
           "ticks": "",
           "title": {
            "standoff": 15
           },
           "zerolinecolor": "#EBF0F8",
           "zerolinewidth": 2
          }
         }
        },
        "title": {
         "text": "Anzahl der Social - Media - Posts mit der Kombination: Marktgebiet und Hauptmarken"
        },
        "width": 756,
        "xaxis": {
         "anchor": "y",
         "domain": [
          0,
          1
         ],
         "title": {
          "text": "Anteil der Posts in %"
         }
        },
        "yaxis": {
         "anchor": "x",
         "automargin": true,
         "categoryarray": [
          "t",
          "e",
          "i",
          "b",
          "e",
          "g",
          "t",
          "k",
          "r",
          "a",
          "M"
         ],
         "categoryorder": "array",
         "domain": [
          0,
          1
         ],
         "title": {
          "text": "Marktgebiet"
         }
        }
       }
      }
     },
     "metadata": {},
     "output_type": "display_data"
    }
   ],
   "source": [
    "\n",
    "def combine_subcategories(df, lense_1, lense_2):\n",
    "\n",
    "    # Generate combinations of unique subcategories across buying_channel and experts\n",
    "    combinations_list = list(product(lense_1, lense_2))\n",
    "\n",
    "    # Create new dataframe with combination pairs\n",
    "    combination_df = pd.DataFrame(combinations_list, columns=['Subcategory 1', 'Subcategory 2'])\n",
    "\n",
    "    # Initialize dictionary to store combination counts\n",
    "    combination_counts = {}\n",
    "    id_values = set()\n",
    "\n",
    "\n",
    "    # Iterate through combinations and count occurrences\n",
    "    for subcategory_1, subcategory_2 in combinations_list:\n",
    "        ids = sentiment_new_df.loc[\n",
    "            (sentiment_new_df['subcategory'] == subcategory_1) &\n",
    "            (sentiment_new_df['id'].isin(sentiment_new_df.loc[sentiment_new_df['subcategory'] == subcategory_2, 'id'])),\n",
    "            'id'\n",
    "        ].unique()\n",
    "        count = len(ids)\n",
    "        combination_counts[(subcategory_1, subcategory_2)] = count\n",
    "        id_values.update(ids)\n",
    "    \n",
    "\n",
    "    # Create new dataframe from combination counts\n",
    "    combination_counts_df = pd.DataFrame(combination_counts.items(), columns=['combination', 'count'])\n",
    "    combination_counts_df[['subcategory_1', 'subcategory_2']] = pd.DataFrame(combination_counts_df['combination'].tolist())\n",
    "    combination_counts_df = combination_counts_df.drop('combination', axis=1)\n",
    "\n",
    "    # Store the number of unique id values from which combinations were found\n",
    "    n_posts = len(id_values)\n",
    "\n",
    "    #print(combination_counts_df)\n",
    "\n",
    "    return combination_counts_df, n_posts\n",
    "\n",
    "\n",
    "\n",
    "\n",
    "\n",
    "def filter_and_plot(df, counts, cat1, cat2, save_name=\"img\"):\n",
    "    \n",
    "    fig = px.histogram(\n",
    "        df,\n",
    "        x=\"count\",\n",
    "        y=\"subcategory_1\",\n",
    "        color=\"subcategory_2\",\n",
    "        barnorm=\"percent\",\n",
    "        orientation=\"h\",\n",
    "        labels={\n",
    "            \"subcategory_1\": \"\",\n",
    "            \"subcategory_2\": \"\",\n",
    "            \"count\": cat2,\n",
    "        },\n",
    "        color_discrete_sequence=PERMEA_COLOR_WHEEL_11_STATISTICS_2,\n",
    "        text_auto=\".0f\",\n",
    "        title=f'Anzahl der Social - Media - Posts mit der Kombination: {cat1} und {cat2}',\n",
    "        template=\"plotly_white\",\n",
    "        category_orders={\n",
    "            \"subcategory_1\": cat1,\n",
    "            \"subcategory_2\": cat2\n",
    "        })\n",
    "    \n",
    "\n",
    "    fig.add_annotation(dict(font=dict(size=9),\n",
    "                        x=-0.25,\n",
    "                        y=-0.34,\n",
    "                        showarrow=False,\n",
    "                        #text=f'Based on {counts} Social Media Conversations from publicy available forums mentioning {cat1} and {cat2} <br> Germany, January 2013 – April 2023.',\n",
    "                        text=f\"Basierend auf {counts} Social-Media-Konversationen aus öffentlich zugänglichen Foren <br>Deutschland, Januar 2013 – April 2023.\",                       \n",
    "                        textangle=0,\n",
    "                        xanchor='left',\n",
    "                        xref=\"paper\",\n",
    "                        yref=\"paper\",\n",
    "                        align=\"left\"\n",
    "))\n",
    "    \n",
    "\n",
    "    fig.update_layout(\n",
    "    template='plotly_white',\n",
    "    xaxis_title='Anteil der Posts in %',\n",
    "    yaxis_title=cat1,\n",
    "    #yaxis_range=[0, 1.1 * df['Count'].max()],\n",
    "    #xaxis=dict(\n",
    "        #tickmode='linear',\n",
    "        #dtick=1,\n",
    "        #automargin=True\n",
    "    #),\n",
    "    yaxis={'automargin': True},\n",
    "    #margin=dict(l=130, r=150, b=10, pad=30),\n",
    "    autosize=False,\n",
    "    width=20 * 37.8,  # Convert 20 cm to inches (1 cm = 37.8 inches)\n",
    "    height=10 * 37.8,  # Convert 9 cm to inches (1 cm = 37.8 inches)\n",
    "    legend=dict(font=dict(size=16))\n",
    "    )\n",
    "    \n",
    "    \n",
    "        \n",
    "    #fig.write_image(save_name+\".png\")\n",
    "    \n",
    "    fig.show()\n",
    "    \n",
    "\n",
    "\n",
    "df, counts= combine_subcategories(sentiment_new_df, market_area, main_brands)\n",
    "filter_and_plot(df, counts, \"Marktgebiet\", \"Hauptmarken\", save_name=\"market_area_main_brands\")\n",
    "\n",
    "\n",
    "\n"
   ]
  },
  {
   "cell_type": "code",
   "execution_count": 29,
   "metadata": {},
   "outputs": [
    {
     "data": {
      "application/vnd.plotly.v1+json": {
       "config": {
        "plotlyServerURL": "https://plot.ly"
       },
       "data": [
        {
         "alignmentgroup": "True",
         "bingroup": "y",
         "histfunc": "sum",
         "hovertemplate": "=%{y}<br>sum of Milchsäure (normalized as percent)=%{x}<extra></extra>",
         "legendgroup": "Milchsäurebakterien",
         "marker": {
          "color": "rgb(54, 112, 226)",
          "pattern": {
           "shape": ""
          }
         },
         "name": "Milchsäurebakterien",
         "offsetgroup": "Milchsäurebakterien",
         "orientation": "h",
         "showlegend": true,
         "texttemplate": "%{value:.0f}",
         "type": "histogram",
         "x": [
          552,
          160,
          993,
          91,
          12
         ],
         "xaxis": "x",
         "y": [
          "Scheidenpilz",
          "Scheidentrockenheit",
          "Scheidenflora",
          "Menopause",
          "Zyklusbeschwerden"
         ],
         "yaxis": "y"
        },
        {
         "alignmentgroup": "True",
         "bingroup": "y",
         "histfunc": "sum",
         "hovertemplate": "=%{y}<br>sum of Milchsäure (normalized as percent)=%{x}<extra></extra>",
         "legendgroup": "Milchsäure",
         "marker": {
          "color": "rgb(54, 169, 226)",
          "pattern": {
           "shape": ""
          }
         },
         "name": "Milchsäure",
         "offsetgroup": "Milchsäure",
         "orientation": "h",
         "showlegend": true,
         "texttemplate": "%{value:.0f}",
         "type": "histogram",
         "x": [
          834,
          192,
          617,
          130,
          11
         ],
         "xaxis": "x",
         "y": [
          "Scheidenpilz",
          "Scheidentrockenheit",
          "Scheidenflora",
          "Menopause",
          "Zyklusbeschwerden"
         ],
         "yaxis": "y"
        }
       ],
       "layout": {
        "annotations": [
         {
          "align": "left",
          "font": {
           "size": 9
          },
          "showarrow": false,
          "text": "Basierend auf 2197 Social-Media-Konversationen aus öffentlich zugänglichen Foren <br>Deutschland, Januar 2013 – April 2023.",
          "textangle": 0,
          "x": -0.25,
          "xanchor": "left",
          "xref": "paper",
          "y": -0.34,
          "yref": "paper"
         }
        ],
        "autosize": false,
        "barmode": "relative",
        "barnorm": "percent",
        "height": 378,
        "legend": {
         "font": {
          "size": 16
         },
         "title": {
          "text": ""
         },
         "tracegroupgap": 0
        },
        "template": {
         "data": {
          "bar": [
           {
            "error_x": {
             "color": "#2a3f5f"
            },
            "error_y": {
             "color": "#2a3f5f"
            },
            "marker": {
             "line": {
              "color": "white",
              "width": 0.5
             },
             "pattern": {
              "fillmode": "overlay",
              "size": 10,
              "solidity": 0.2
             }
            },
            "type": "bar"
           }
          ],
          "barpolar": [
           {
            "marker": {
             "line": {
              "color": "white",
              "width": 0.5
             },
             "pattern": {
              "fillmode": "overlay",
              "size": 10,
              "solidity": 0.2
             }
            },
            "type": "barpolar"
           }
          ],
          "carpet": [
           {
            "aaxis": {
             "endlinecolor": "#2a3f5f",
             "gridcolor": "#C8D4E3",
             "linecolor": "#C8D4E3",
             "minorgridcolor": "#C8D4E3",
             "startlinecolor": "#2a3f5f"
            },
            "baxis": {
             "endlinecolor": "#2a3f5f",
             "gridcolor": "#C8D4E3",
             "linecolor": "#C8D4E3",
             "minorgridcolor": "#C8D4E3",
             "startlinecolor": "#2a3f5f"
            },
            "type": "carpet"
           }
          ],
          "choropleth": [
           {
            "colorbar": {
             "outlinewidth": 0,
             "ticks": ""
            },
            "type": "choropleth"
           }
          ],
          "contour": [
           {
            "colorbar": {
             "outlinewidth": 0,
             "ticks": ""
            },
            "colorscale": [
             [
              0,
              "#0d0887"
             ],
             [
              0.1111111111111111,
              "#46039f"
             ],
             [
              0.2222222222222222,
              "#7201a8"
             ],
             [
              0.3333333333333333,
              "#9c179e"
             ],
             [
              0.4444444444444444,
              "#bd3786"
             ],
             [
              0.5555555555555556,
              "#d8576b"
             ],
             [
              0.6666666666666666,
              "#ed7953"
             ],
             [
              0.7777777777777778,
              "#fb9f3a"
             ],
             [
              0.8888888888888888,
              "#fdca26"
             ],
             [
              1,
              "#f0f921"
             ]
            ],
            "type": "contour"
           }
          ],
          "contourcarpet": [
           {
            "colorbar": {
             "outlinewidth": 0,
             "ticks": ""
            },
            "type": "contourcarpet"
           }
          ],
          "heatmap": [
           {
            "colorbar": {
             "outlinewidth": 0,
             "ticks": ""
            },
            "colorscale": [
             [
              0,
              "#0d0887"
             ],
             [
              0.1111111111111111,
              "#46039f"
             ],
             [
              0.2222222222222222,
              "#7201a8"
             ],
             [
              0.3333333333333333,
              "#9c179e"
             ],
             [
              0.4444444444444444,
              "#bd3786"
             ],
             [
              0.5555555555555556,
              "#d8576b"
             ],
             [
              0.6666666666666666,
              "#ed7953"
             ],
             [
              0.7777777777777778,
              "#fb9f3a"
             ],
             [
              0.8888888888888888,
              "#fdca26"
             ],
             [
              1,
              "#f0f921"
             ]
            ],
            "type": "heatmap"
           }
          ],
          "heatmapgl": [
           {
            "colorbar": {
             "outlinewidth": 0,
             "ticks": ""
            },
            "colorscale": [
             [
              0,
              "#0d0887"
             ],
             [
              0.1111111111111111,
              "#46039f"
             ],
             [
              0.2222222222222222,
              "#7201a8"
             ],
             [
              0.3333333333333333,
              "#9c179e"
             ],
             [
              0.4444444444444444,
              "#bd3786"
             ],
             [
              0.5555555555555556,
              "#d8576b"
             ],
             [
              0.6666666666666666,
              "#ed7953"
             ],
             [
              0.7777777777777778,
              "#fb9f3a"
             ],
             [
              0.8888888888888888,
              "#fdca26"
             ],
             [
              1,
              "#f0f921"
             ]
            ],
            "type": "heatmapgl"
           }
          ],
          "histogram": [
           {
            "marker": {
             "pattern": {
              "fillmode": "overlay",
              "size": 10,
              "solidity": 0.2
             }
            },
            "type": "histogram"
           }
          ],
          "histogram2d": [
           {
            "colorbar": {
             "outlinewidth": 0,
             "ticks": ""
            },
            "colorscale": [
             [
              0,
              "#0d0887"
             ],
             [
              0.1111111111111111,
              "#46039f"
             ],
             [
              0.2222222222222222,
              "#7201a8"
             ],
             [
              0.3333333333333333,
              "#9c179e"
             ],
             [
              0.4444444444444444,
              "#bd3786"
             ],
             [
              0.5555555555555556,
              "#d8576b"
             ],
             [
              0.6666666666666666,
              "#ed7953"
             ],
             [
              0.7777777777777778,
              "#fb9f3a"
             ],
             [
              0.8888888888888888,
              "#fdca26"
             ],
             [
              1,
              "#f0f921"
             ]
            ],
            "type": "histogram2d"
           }
          ],
          "histogram2dcontour": [
           {
            "colorbar": {
             "outlinewidth": 0,
             "ticks": ""
            },
            "colorscale": [
             [
              0,
              "#0d0887"
             ],
             [
              0.1111111111111111,
              "#46039f"
             ],
             [
              0.2222222222222222,
              "#7201a8"
             ],
             [
              0.3333333333333333,
              "#9c179e"
             ],
             [
              0.4444444444444444,
              "#bd3786"
             ],
             [
              0.5555555555555556,
              "#d8576b"
             ],
             [
              0.6666666666666666,
              "#ed7953"
             ],
             [
              0.7777777777777778,
              "#fb9f3a"
             ],
             [
              0.8888888888888888,
              "#fdca26"
             ],
             [
              1,
              "#f0f921"
             ]
            ],
            "type": "histogram2dcontour"
           }
          ],
          "mesh3d": [
           {
            "colorbar": {
             "outlinewidth": 0,
             "ticks": ""
            },
            "type": "mesh3d"
           }
          ],
          "parcoords": [
           {
            "line": {
             "colorbar": {
              "outlinewidth": 0,
              "ticks": ""
             }
            },
            "type": "parcoords"
           }
          ],
          "pie": [
           {
            "automargin": true,
            "type": "pie"
           }
          ],
          "scatter": [
           {
            "fillpattern": {
             "fillmode": "overlay",
             "size": 10,
             "solidity": 0.2
            },
            "type": "scatter"
           }
          ],
          "scatter3d": [
           {
            "line": {
             "colorbar": {
              "outlinewidth": 0,
              "ticks": ""
             }
            },
            "marker": {
             "colorbar": {
              "outlinewidth": 0,
              "ticks": ""
             }
            },
            "type": "scatter3d"
           }
          ],
          "scattercarpet": [
           {
            "marker": {
             "colorbar": {
              "outlinewidth": 0,
              "ticks": ""
             }
            },
            "type": "scattercarpet"
           }
          ],
          "scattergeo": [
           {
            "marker": {
             "colorbar": {
              "outlinewidth": 0,
              "ticks": ""
             }
            },
            "type": "scattergeo"
           }
          ],
          "scattergl": [
           {
            "marker": {
             "colorbar": {
              "outlinewidth": 0,
              "ticks": ""
             }
            },
            "type": "scattergl"
           }
          ],
          "scattermapbox": [
           {
            "marker": {
             "colorbar": {
              "outlinewidth": 0,
              "ticks": ""
             }
            },
            "type": "scattermapbox"
           }
          ],
          "scatterpolar": [
           {
            "marker": {
             "colorbar": {
              "outlinewidth": 0,
              "ticks": ""
             }
            },
            "type": "scatterpolar"
           }
          ],
          "scatterpolargl": [
           {
            "marker": {
             "colorbar": {
              "outlinewidth": 0,
              "ticks": ""
             }
            },
            "type": "scatterpolargl"
           }
          ],
          "scatterternary": [
           {
            "marker": {
             "colorbar": {
              "outlinewidth": 0,
              "ticks": ""
             }
            },
            "type": "scatterternary"
           }
          ],
          "surface": [
           {
            "colorbar": {
             "outlinewidth": 0,
             "ticks": ""
            },
            "colorscale": [
             [
              0,
              "#0d0887"
             ],
             [
              0.1111111111111111,
              "#46039f"
             ],
             [
              0.2222222222222222,
              "#7201a8"
             ],
             [
              0.3333333333333333,
              "#9c179e"
             ],
             [
              0.4444444444444444,
              "#bd3786"
             ],
             [
              0.5555555555555556,
              "#d8576b"
             ],
             [
              0.6666666666666666,
              "#ed7953"
             ],
             [
              0.7777777777777778,
              "#fb9f3a"
             ],
             [
              0.8888888888888888,
              "#fdca26"
             ],
             [
              1,
              "#f0f921"
             ]
            ],
            "type": "surface"
           }
          ],
          "table": [
           {
            "cells": {
             "fill": {
              "color": "#EBF0F8"
             },
             "line": {
              "color": "white"
             }
            },
            "header": {
             "fill": {
              "color": "#C8D4E3"
             },
             "line": {
              "color": "white"
             }
            },
            "type": "table"
           }
          ]
         },
         "layout": {
          "annotationdefaults": {
           "arrowcolor": "#2a3f5f",
           "arrowhead": 0,
           "arrowwidth": 1
          },
          "autotypenumbers": "strict",
          "coloraxis": {
           "colorbar": {
            "outlinewidth": 0,
            "ticks": ""
           }
          },
          "colorscale": {
           "diverging": [
            [
             0,
             "#8e0152"
            ],
            [
             0.1,
             "#c51b7d"
            ],
            [
             0.2,
             "#de77ae"
            ],
            [
             0.3,
             "#f1b6da"
            ],
            [
             0.4,
             "#fde0ef"
            ],
            [
             0.5,
             "#f7f7f7"
            ],
            [
             0.6,
             "#e6f5d0"
            ],
            [
             0.7,
             "#b8e186"
            ],
            [
             0.8,
             "#7fbc41"
            ],
            [
             0.9,
             "#4d9221"
            ],
            [
             1,
             "#276419"
            ]
           ],
           "sequential": [
            [
             0,
             "#0d0887"
            ],
            [
             0.1111111111111111,
             "#46039f"
            ],
            [
             0.2222222222222222,
             "#7201a8"
            ],
            [
             0.3333333333333333,
             "#9c179e"
            ],
            [
             0.4444444444444444,
             "#bd3786"
            ],
            [
             0.5555555555555556,
             "#d8576b"
            ],
            [
             0.6666666666666666,
             "#ed7953"
            ],
            [
             0.7777777777777778,
             "#fb9f3a"
            ],
            [
             0.8888888888888888,
             "#fdca26"
            ],
            [
             1,
             "#f0f921"
            ]
           ],
           "sequentialminus": [
            [
             0,
             "#0d0887"
            ],
            [
             0.1111111111111111,
             "#46039f"
            ],
            [
             0.2222222222222222,
             "#7201a8"
            ],
            [
             0.3333333333333333,
             "#9c179e"
            ],
            [
             0.4444444444444444,
             "#bd3786"
            ],
            [
             0.5555555555555556,
             "#d8576b"
            ],
            [
             0.6666666666666666,
             "#ed7953"
            ],
            [
             0.7777777777777778,
             "#fb9f3a"
            ],
            [
             0.8888888888888888,
             "#fdca26"
            ],
            [
             1,
             "#f0f921"
            ]
           ]
          },
          "colorway": [
           "#636efa",
           "#EF553B",
           "#00cc96",
           "#ab63fa",
           "#FFA15A",
           "#19d3f3",
           "#FF6692",
           "#B6E880",
           "#FF97FF",
           "#FECB52"
          ],
          "font": {
           "color": "#2a3f5f"
          },
          "geo": {
           "bgcolor": "white",
           "lakecolor": "white",
           "landcolor": "white",
           "showlakes": true,
           "showland": true,
           "subunitcolor": "#C8D4E3"
          },
          "hoverlabel": {
           "align": "left"
          },
          "hovermode": "closest",
          "mapbox": {
           "style": "light"
          },
          "paper_bgcolor": "white",
          "plot_bgcolor": "white",
          "polar": {
           "angularaxis": {
            "gridcolor": "#EBF0F8",
            "linecolor": "#EBF0F8",
            "ticks": ""
           },
           "bgcolor": "white",
           "radialaxis": {
            "gridcolor": "#EBF0F8",
            "linecolor": "#EBF0F8",
            "ticks": ""
           }
          },
          "scene": {
           "xaxis": {
            "backgroundcolor": "white",
            "gridcolor": "#DFE8F3",
            "gridwidth": 2,
            "linecolor": "#EBF0F8",
            "showbackground": true,
            "ticks": "",
            "zerolinecolor": "#EBF0F8"
           },
           "yaxis": {
            "backgroundcolor": "white",
            "gridcolor": "#DFE8F3",
            "gridwidth": 2,
            "linecolor": "#EBF0F8",
            "showbackground": true,
            "ticks": "",
            "zerolinecolor": "#EBF0F8"
           },
           "zaxis": {
            "backgroundcolor": "white",
            "gridcolor": "#DFE8F3",
            "gridwidth": 2,
            "linecolor": "#EBF0F8",
            "showbackground": true,
            "ticks": "",
            "zerolinecolor": "#EBF0F8"
           }
          },
          "shapedefaults": {
           "line": {
            "color": "#2a3f5f"
           }
          },
          "ternary": {
           "aaxis": {
            "gridcolor": "#DFE8F3",
            "linecolor": "#A2B1C6",
            "ticks": ""
           },
           "baxis": {
            "gridcolor": "#DFE8F3",
            "linecolor": "#A2B1C6",
            "ticks": ""
           },
           "bgcolor": "white",
           "caxis": {
            "gridcolor": "#DFE8F3",
            "linecolor": "#A2B1C6",
            "ticks": ""
           }
          },
          "title": {
           "x": 0.05
          },
          "xaxis": {
           "automargin": true,
           "gridcolor": "#EBF0F8",
           "linecolor": "#EBF0F8",
           "ticks": "",
           "title": {
            "standoff": 15
           },
           "zerolinecolor": "#EBF0F8",
           "zerolinewidth": 2
          },
          "yaxis": {
           "automargin": true,
           "gridcolor": "#EBF0F8",
           "linecolor": "#EBF0F8",
           "ticks": "",
           "title": {
            "standoff": 15
           },
           "zerolinecolor": "#EBF0F8",
           "zerolinewidth": 2
          }
         }
        },
        "title": {
         "text": "Anzahl der Social - Media - Posts mit der Kombination: Marktgebiet und Milchsäure"
        },
        "width": 756,
        "xaxis": {
         "anchor": "y",
         "domain": [
          0,
          1
         ],
         "title": {
          "text": "Anteil der Posts in %"
         }
        },
        "yaxis": {
         "anchor": "x",
         "automargin": true,
         "categoryarray": [
          "t",
          "e",
          "i",
          "b",
          "e",
          "g",
          "t",
          "k",
          "r",
          "a",
          "M"
         ],
         "categoryorder": "array",
         "domain": [
          0,
          1
         ],
         "title": {
          "text": "Marktgebiet"
         }
        }
       }
      }
     },
     "metadata": {},
     "output_type": "display_data"
    }
   ],
   "source": [
    "\n",
    "def combine_subcategories(df, lense_1, lense_2):\n",
    "\n",
    "    # Generate combinations of unique subcategories across buying_channel and experts\n",
    "    combinations_list = list(product(lense_1, lense_2))\n",
    "\n",
    "    # Create new dataframe with combination pairs\n",
    "    combination_df = pd.DataFrame(combinations_list, columns=['Subcategory 1', 'Subcategory 2'])\n",
    "\n",
    "    # Initialize dictionary to store combination counts\n",
    "    combination_counts = {}\n",
    "    id_values = set()\n",
    "\n",
    "\n",
    "    # Iterate through combinations and count occurrences\n",
    "    for subcategory_1, subcategory_2 in combinations_list:\n",
    "        ids = sentiment_new_df.loc[\n",
    "            (sentiment_new_df['subcategory'] == subcategory_1) &\n",
    "            (sentiment_new_df['id'].isin(sentiment_new_df.loc[sentiment_new_df['subcategory'] == subcategory_2, 'id'])),\n",
    "            'id'\n",
    "        ].unique()\n",
    "        count = len(ids)\n",
    "        combination_counts[(subcategory_1, subcategory_2)] = count\n",
    "        id_values.update(ids)\n",
    "    \n",
    "\n",
    "    # Create new dataframe from combination counts\n",
    "    combination_counts_df = pd.DataFrame(combination_counts.items(), columns=['combination', 'count'])\n",
    "    combination_counts_df[['subcategory_1', 'subcategory_2']] = pd.DataFrame(combination_counts_df['combination'].tolist())\n",
    "    combination_counts_df = combination_counts_df.drop('combination', axis=1)\n",
    "\n",
    "    # Store the number of unique id values from which combinations were found\n",
    "    n_posts = len(id_values)\n",
    "\n",
    "    #print(combination_counts_df)\n",
    "\n",
    "    return combination_counts_df, n_posts\n",
    "\n",
    "\n",
    "\n",
    "\n",
    "\n",
    "def filter_and_plot(df, counts, cat1, cat2, save_name=\"img\"):\n",
    "    \n",
    "    fig = px.histogram(\n",
    "        df,\n",
    "        x=\"count\",\n",
    "        y=\"subcategory_1\",\n",
    "        color=\"subcategory_2\",\n",
    "        barnorm=\"percent\",\n",
    "        orientation=\"h\",\n",
    "        labels={\n",
    "            \"subcategory_1\": \"\",\n",
    "            \"subcategory_2\": \"\",\n",
    "            \"count\": cat2,\n",
    "        },\n",
    "        color_discrete_sequence=PERMEA_COLOR_WHEEL_5_STATISTICS,\n",
    "        text_auto=\".0f\",\n",
    "        title=f'Anzahl der Social - Media - Posts mit der Kombination: {cat1} und {cat2}',\n",
    "        template=\"plotly_white\",\n",
    "        category_orders={\n",
    "            \"subcategory_1\": cat1,\n",
    "            \"subcategory_2\": cat2\n",
    "        })\n",
    "    \n",
    "\n",
    "    fig.add_annotation(dict(font=dict(size=9),\n",
    "                        x=-0.25,\n",
    "                        y=-0.34,\n",
    "                        showarrow=False,\n",
    "                        #text=f'Based on {counts} Social Media Conversations from publicy available forums mentioning {cat1} and {cat2} <br> Germany, January 2013 – April 2023.',\n",
    "                        text=f\"Basierend auf {counts} Social-Media-Konversationen aus öffentlich zugänglichen Foren <br>Deutschland, Januar 2013 – April 2023.\",                       \n",
    "                        textangle=0,\n",
    "                        xanchor='left',\n",
    "                        xref=\"paper\",\n",
    "                        yref=\"paper\",\n",
    "                        align=\"left\"\n",
    "))\n",
    "    \n",
    "\n",
    "    fig.update_layout(\n",
    "    template='plotly_white',\n",
    "    xaxis_title='Anteil der Posts in %',\n",
    "    yaxis_title=cat1,\n",
    "    #yaxis_range=[0, 1.1 * df['Count'].max()],\n",
    "    #xaxis=dict(\n",
    "        #tickmode='linear',\n",
    "        #dtick=1,\n",
    "        #automargin=True\n",
    "    #),\n",
    "    yaxis={'automargin': True},\n",
    "    #margin=dict(l=130, r=150, b=10, pad=30),\n",
    "    autosize=False,\n",
    "    width=20 * 37.8,  # Convert 20 cm to inches (1 cm = 37.8 inches)\n",
    "    height=10 * 37.8,  # Convert 9 cm to inches (1 cm = 37.8 inches)\n",
    "    legend=dict(font=dict(size=16))\n",
    "    )\n",
    "    \n",
    "    \n",
    "        \n",
    "    #fig.write_image(save_name+\".png\")\n",
    "    \n",
    "    fig.show()\n",
    "    \n",
    "\n",
    "\n",
    "df, counts= combine_subcategories(sentiment_new_df, market_area, milchsaure)\n",
    "filter_and_plot(df, counts, \"Marktgebiet\", \"Milchsäure\", save_name=\"market_area_milchsaure\")\n",
    "\n",
    "\n",
    "\n"
   ]
  },
  {
   "cell_type": "code",
   "execution_count": 27,
   "metadata": {},
   "outputs": [
    {
     "data": {
      "application/vnd.plotly.v1+json": {
       "config": {
        "plotlyServerURL": "https://plot.ly"
       },
       "data": [
        {
         "alignmentgroup": "True",
         "bingroup": "y",
         "histfunc": "sum",
         "hovertemplate": "=%{y}<br>sum of Freiverkäuflich vs. Rezeptpflichtig (normalized as percent)=%{x}<extra></extra>",
         "legendgroup": "Freiverkäuflich",
         "marker": {
          "color": "rgb(54, 112, 226)",
          "pattern": {
           "shape": ""
          }
         },
         "name": "Freiverkäuflich",
         "offsetgroup": "Freiverkäuflich",
         "orientation": "h",
         "showlegend": true,
         "texttemplate": "%{value:.0f}",
         "type": "histogram",
         "x": [
          3324,
          700,
          1048,
          943,
          244
         ],
         "xaxis": "x",
         "y": [
          "Scheidenpilz",
          "Scheidentrockenheit",
          "Scheidenflora",
          "Menopause",
          "Zyklusbeschwerden"
         ],
         "yaxis": "y"
        },
        {
         "alignmentgroup": "True",
         "bingroup": "y",
         "histfunc": "sum",
         "hovertemplate": "=%{y}<br>sum of Freiverkäuflich vs. Rezeptpflichtig (normalized as percent)=%{x}<extra></extra>",
         "legendgroup": "Rezeptpflichtig",
         "marker": {
          "color": "rgb(54, 169, 226)",
          "pattern": {
           "shape": ""
          }
         },
         "name": "Rezeptpflichtig",
         "offsetgroup": "Rezeptpflichtig",
         "orientation": "h",
         "showlegend": true,
         "texttemplate": "%{value:.0f}",
         "type": "histogram",
         "x": [
          1506,
          95,
          172,
          41,
          9
         ],
         "xaxis": "x",
         "y": [
          "Scheidenpilz",
          "Scheidentrockenheit",
          "Scheidenflora",
          "Menopause",
          "Zyklusbeschwerden"
         ],
         "yaxis": "y"
        }
       ],
       "layout": {
        "annotations": [
         {
          "align": "left",
          "font": {
           "size": 9
          },
          "showarrow": false,
          "text": "Basierend auf 6562 Social-Media-Konversationen aus öffentlich zugänglichen Foren <br>Deutschland, Januar 2013 – April 2023.",
          "textangle": 0,
          "x": -0.25,
          "xanchor": "left",
          "xref": "paper",
          "y": -0.34,
          "yref": "paper"
         }
        ],
        "autosize": false,
        "barmode": "relative",
        "barnorm": "percent",
        "height": 378,
        "legend": {
         "font": {
          "size": 16
         },
         "title": {
          "text": ""
         },
         "tracegroupgap": 0
        },
        "template": {
         "data": {
          "bar": [
           {
            "error_x": {
             "color": "#2a3f5f"
            },
            "error_y": {
             "color": "#2a3f5f"
            },
            "marker": {
             "line": {
              "color": "white",
              "width": 0.5
             },
             "pattern": {
              "fillmode": "overlay",
              "size": 10,
              "solidity": 0.2
             }
            },
            "type": "bar"
           }
          ],
          "barpolar": [
           {
            "marker": {
             "line": {
              "color": "white",
              "width": 0.5
             },
             "pattern": {
              "fillmode": "overlay",
              "size": 10,
              "solidity": 0.2
             }
            },
            "type": "barpolar"
           }
          ],
          "carpet": [
           {
            "aaxis": {
             "endlinecolor": "#2a3f5f",
             "gridcolor": "#C8D4E3",
             "linecolor": "#C8D4E3",
             "minorgridcolor": "#C8D4E3",
             "startlinecolor": "#2a3f5f"
            },
            "baxis": {
             "endlinecolor": "#2a3f5f",
             "gridcolor": "#C8D4E3",
             "linecolor": "#C8D4E3",
             "minorgridcolor": "#C8D4E3",
             "startlinecolor": "#2a3f5f"
            },
            "type": "carpet"
           }
          ],
          "choropleth": [
           {
            "colorbar": {
             "outlinewidth": 0,
             "ticks": ""
            },
            "type": "choropleth"
           }
          ],
          "contour": [
           {
            "colorbar": {
             "outlinewidth": 0,
             "ticks": ""
            },
            "colorscale": [
             [
              0,
              "#0d0887"
             ],
             [
              0.1111111111111111,
              "#46039f"
             ],
             [
              0.2222222222222222,
              "#7201a8"
             ],
             [
              0.3333333333333333,
              "#9c179e"
             ],
             [
              0.4444444444444444,
              "#bd3786"
             ],
             [
              0.5555555555555556,
              "#d8576b"
             ],
             [
              0.6666666666666666,
              "#ed7953"
             ],
             [
              0.7777777777777778,
              "#fb9f3a"
             ],
             [
              0.8888888888888888,
              "#fdca26"
             ],
             [
              1,
              "#f0f921"
             ]
            ],
            "type": "contour"
           }
          ],
          "contourcarpet": [
           {
            "colorbar": {
             "outlinewidth": 0,
             "ticks": ""
            },
            "type": "contourcarpet"
           }
          ],
          "heatmap": [
           {
            "colorbar": {
             "outlinewidth": 0,
             "ticks": ""
            },
            "colorscale": [
             [
              0,
              "#0d0887"
             ],
             [
              0.1111111111111111,
              "#46039f"
             ],
             [
              0.2222222222222222,
              "#7201a8"
             ],
             [
              0.3333333333333333,
              "#9c179e"
             ],
             [
              0.4444444444444444,
              "#bd3786"
             ],
             [
              0.5555555555555556,
              "#d8576b"
             ],
             [
              0.6666666666666666,
              "#ed7953"
             ],
             [
              0.7777777777777778,
              "#fb9f3a"
             ],
             [
              0.8888888888888888,
              "#fdca26"
             ],
             [
              1,
              "#f0f921"
             ]
            ],
            "type": "heatmap"
           }
          ],
          "heatmapgl": [
           {
            "colorbar": {
             "outlinewidth": 0,
             "ticks": ""
            },
            "colorscale": [
             [
              0,
              "#0d0887"
             ],
             [
              0.1111111111111111,
              "#46039f"
             ],
             [
              0.2222222222222222,
              "#7201a8"
             ],
             [
              0.3333333333333333,
              "#9c179e"
             ],
             [
              0.4444444444444444,
              "#bd3786"
             ],
             [
              0.5555555555555556,
              "#d8576b"
             ],
             [
              0.6666666666666666,
              "#ed7953"
             ],
             [
              0.7777777777777778,
              "#fb9f3a"
             ],
             [
              0.8888888888888888,
              "#fdca26"
             ],
             [
              1,
              "#f0f921"
             ]
            ],
            "type": "heatmapgl"
           }
          ],
          "histogram": [
           {
            "marker": {
             "pattern": {
              "fillmode": "overlay",
              "size": 10,
              "solidity": 0.2
             }
            },
            "type": "histogram"
           }
          ],
          "histogram2d": [
           {
            "colorbar": {
             "outlinewidth": 0,
             "ticks": ""
            },
            "colorscale": [
             [
              0,
              "#0d0887"
             ],
             [
              0.1111111111111111,
              "#46039f"
             ],
             [
              0.2222222222222222,
              "#7201a8"
             ],
             [
              0.3333333333333333,
              "#9c179e"
             ],
             [
              0.4444444444444444,
              "#bd3786"
             ],
             [
              0.5555555555555556,
              "#d8576b"
             ],
             [
              0.6666666666666666,
              "#ed7953"
             ],
             [
              0.7777777777777778,
              "#fb9f3a"
             ],
             [
              0.8888888888888888,
              "#fdca26"
             ],
             [
              1,
              "#f0f921"
             ]
            ],
            "type": "histogram2d"
           }
          ],
          "histogram2dcontour": [
           {
            "colorbar": {
             "outlinewidth": 0,
             "ticks": ""
            },
            "colorscale": [
             [
              0,
              "#0d0887"
             ],
             [
              0.1111111111111111,
              "#46039f"
             ],
             [
              0.2222222222222222,
              "#7201a8"
             ],
             [
              0.3333333333333333,
              "#9c179e"
             ],
             [
              0.4444444444444444,
              "#bd3786"
             ],
             [
              0.5555555555555556,
              "#d8576b"
             ],
             [
              0.6666666666666666,
              "#ed7953"
             ],
             [
              0.7777777777777778,
              "#fb9f3a"
             ],
             [
              0.8888888888888888,
              "#fdca26"
             ],
             [
              1,
              "#f0f921"
             ]
            ],
            "type": "histogram2dcontour"
           }
          ],
          "mesh3d": [
           {
            "colorbar": {
             "outlinewidth": 0,
             "ticks": ""
            },
            "type": "mesh3d"
           }
          ],
          "parcoords": [
           {
            "line": {
             "colorbar": {
              "outlinewidth": 0,
              "ticks": ""
             }
            },
            "type": "parcoords"
           }
          ],
          "pie": [
           {
            "automargin": true,
            "type": "pie"
           }
          ],
          "scatter": [
           {
            "fillpattern": {
             "fillmode": "overlay",
             "size": 10,
             "solidity": 0.2
            },
            "type": "scatter"
           }
          ],
          "scatter3d": [
           {
            "line": {
             "colorbar": {
              "outlinewidth": 0,
              "ticks": ""
             }
            },
            "marker": {
             "colorbar": {
              "outlinewidth": 0,
              "ticks": ""
             }
            },
            "type": "scatter3d"
           }
          ],
          "scattercarpet": [
           {
            "marker": {
             "colorbar": {
              "outlinewidth": 0,
              "ticks": ""
             }
            },
            "type": "scattercarpet"
           }
          ],
          "scattergeo": [
           {
            "marker": {
             "colorbar": {
              "outlinewidth": 0,
              "ticks": ""
             }
            },
            "type": "scattergeo"
           }
          ],
          "scattergl": [
           {
            "marker": {
             "colorbar": {
              "outlinewidth": 0,
              "ticks": ""
             }
            },
            "type": "scattergl"
           }
          ],
          "scattermapbox": [
           {
            "marker": {
             "colorbar": {
              "outlinewidth": 0,
              "ticks": ""
             }
            },
            "type": "scattermapbox"
           }
          ],
          "scatterpolar": [
           {
            "marker": {
             "colorbar": {
              "outlinewidth": 0,
              "ticks": ""
             }
            },
            "type": "scatterpolar"
           }
          ],
          "scatterpolargl": [
           {
            "marker": {
             "colorbar": {
              "outlinewidth": 0,
              "ticks": ""
             }
            },
            "type": "scatterpolargl"
           }
          ],
          "scatterternary": [
           {
            "marker": {
             "colorbar": {
              "outlinewidth": 0,
              "ticks": ""
             }
            },
            "type": "scatterternary"
           }
          ],
          "surface": [
           {
            "colorbar": {
             "outlinewidth": 0,
             "ticks": ""
            },
            "colorscale": [
             [
              0,
              "#0d0887"
             ],
             [
              0.1111111111111111,
              "#46039f"
             ],
             [
              0.2222222222222222,
              "#7201a8"
             ],
             [
              0.3333333333333333,
              "#9c179e"
             ],
             [
              0.4444444444444444,
              "#bd3786"
             ],
             [
              0.5555555555555556,
              "#d8576b"
             ],
             [
              0.6666666666666666,
              "#ed7953"
             ],
             [
              0.7777777777777778,
              "#fb9f3a"
             ],
             [
              0.8888888888888888,
              "#fdca26"
             ],
             [
              1,
              "#f0f921"
             ]
            ],
            "type": "surface"
           }
          ],
          "table": [
           {
            "cells": {
             "fill": {
              "color": "#EBF0F8"
             },
             "line": {
              "color": "white"
             }
            },
            "header": {
             "fill": {
              "color": "#C8D4E3"
             },
             "line": {
              "color": "white"
             }
            },
            "type": "table"
           }
          ]
         },
         "layout": {
          "annotationdefaults": {
           "arrowcolor": "#2a3f5f",
           "arrowhead": 0,
           "arrowwidth": 1
          },
          "autotypenumbers": "strict",
          "coloraxis": {
           "colorbar": {
            "outlinewidth": 0,
            "ticks": ""
           }
          },
          "colorscale": {
           "diverging": [
            [
             0,
             "#8e0152"
            ],
            [
             0.1,
             "#c51b7d"
            ],
            [
             0.2,
             "#de77ae"
            ],
            [
             0.3,
             "#f1b6da"
            ],
            [
             0.4,
             "#fde0ef"
            ],
            [
             0.5,
             "#f7f7f7"
            ],
            [
             0.6,
             "#e6f5d0"
            ],
            [
             0.7,
             "#b8e186"
            ],
            [
             0.8,
             "#7fbc41"
            ],
            [
             0.9,
             "#4d9221"
            ],
            [
             1,
             "#276419"
            ]
           ],
           "sequential": [
            [
             0,
             "#0d0887"
            ],
            [
             0.1111111111111111,
             "#46039f"
            ],
            [
             0.2222222222222222,
             "#7201a8"
            ],
            [
             0.3333333333333333,
             "#9c179e"
            ],
            [
             0.4444444444444444,
             "#bd3786"
            ],
            [
             0.5555555555555556,
             "#d8576b"
            ],
            [
             0.6666666666666666,
             "#ed7953"
            ],
            [
             0.7777777777777778,
             "#fb9f3a"
            ],
            [
             0.8888888888888888,
             "#fdca26"
            ],
            [
             1,
             "#f0f921"
            ]
           ],
           "sequentialminus": [
            [
             0,
             "#0d0887"
            ],
            [
             0.1111111111111111,
             "#46039f"
            ],
            [
             0.2222222222222222,
             "#7201a8"
            ],
            [
             0.3333333333333333,
             "#9c179e"
            ],
            [
             0.4444444444444444,
             "#bd3786"
            ],
            [
             0.5555555555555556,
             "#d8576b"
            ],
            [
             0.6666666666666666,
             "#ed7953"
            ],
            [
             0.7777777777777778,
             "#fb9f3a"
            ],
            [
             0.8888888888888888,
             "#fdca26"
            ],
            [
             1,
             "#f0f921"
            ]
           ]
          },
          "colorway": [
           "#636efa",
           "#EF553B",
           "#00cc96",
           "#ab63fa",
           "#FFA15A",
           "#19d3f3",
           "#FF6692",
           "#B6E880",
           "#FF97FF",
           "#FECB52"
          ],
          "font": {
           "color": "#2a3f5f"
          },
          "geo": {
           "bgcolor": "white",
           "lakecolor": "white",
           "landcolor": "white",
           "showlakes": true,
           "showland": true,
           "subunitcolor": "#C8D4E3"
          },
          "hoverlabel": {
           "align": "left"
          },
          "hovermode": "closest",
          "mapbox": {
           "style": "light"
          },
          "paper_bgcolor": "white",
          "plot_bgcolor": "white",
          "polar": {
           "angularaxis": {
            "gridcolor": "#EBF0F8",
            "linecolor": "#EBF0F8",
            "ticks": ""
           },
           "bgcolor": "white",
           "radialaxis": {
            "gridcolor": "#EBF0F8",
            "linecolor": "#EBF0F8",
            "ticks": ""
           }
          },
          "scene": {
           "xaxis": {
            "backgroundcolor": "white",
            "gridcolor": "#DFE8F3",
            "gridwidth": 2,
            "linecolor": "#EBF0F8",
            "showbackground": true,
            "ticks": "",
            "zerolinecolor": "#EBF0F8"
           },
           "yaxis": {
            "backgroundcolor": "white",
            "gridcolor": "#DFE8F3",
            "gridwidth": 2,
            "linecolor": "#EBF0F8",
            "showbackground": true,
            "ticks": "",
            "zerolinecolor": "#EBF0F8"
           },
           "zaxis": {
            "backgroundcolor": "white",
            "gridcolor": "#DFE8F3",
            "gridwidth": 2,
            "linecolor": "#EBF0F8",
            "showbackground": true,
            "ticks": "",
            "zerolinecolor": "#EBF0F8"
           }
          },
          "shapedefaults": {
           "line": {
            "color": "#2a3f5f"
           }
          },
          "ternary": {
           "aaxis": {
            "gridcolor": "#DFE8F3",
            "linecolor": "#A2B1C6",
            "ticks": ""
           },
           "baxis": {
            "gridcolor": "#DFE8F3",
            "linecolor": "#A2B1C6",
            "ticks": ""
           },
           "bgcolor": "white",
           "caxis": {
            "gridcolor": "#DFE8F3",
            "linecolor": "#A2B1C6",
            "ticks": ""
           }
          },
          "title": {
           "x": 0.05
          },
          "xaxis": {
           "automargin": true,
           "gridcolor": "#EBF0F8",
           "linecolor": "#EBF0F8",
           "ticks": "",
           "title": {
            "standoff": 15
           },
           "zerolinecolor": "#EBF0F8",
           "zerolinewidth": 2
          },
          "yaxis": {
           "automargin": true,
           "gridcolor": "#EBF0F8",
           "linecolor": "#EBF0F8",
           "ticks": "",
           "title": {
            "standoff": 15
           },
           "zerolinecolor": "#EBF0F8",
           "zerolinewidth": 2
          }
         }
        },
        "title": {
         "text": "Anzahl der Social - Media - Posts mit der Kombination: Marktgebiet und Freiverkäuflich vs. Rezeptpflichtig"
        },
        "width": 756,
        "xaxis": {
         "anchor": "y",
         "domain": [
          0,
          1
         ],
         "title": {
          "text": "Anteil der Posts in %"
         }
        },
        "yaxis": {
         "anchor": "x",
         "automargin": true,
         "categoryarray": [
          "t",
          "e",
          "i",
          "b",
          "e",
          "g",
          "t",
          "k",
          "r",
          "a",
          "M"
         ],
         "categoryorder": "array",
         "domain": [
          0,
          1
         ],
         "title": {
          "text": "Marktgebiet"
         }
        }
       }
      }
     },
     "metadata": {},
     "output_type": "display_data"
    }
   ],
   "source": [
    "\n",
    "def combine_subcategories(df, lense_1, lense_2):\n",
    "\n",
    "    # Generate combinations of unique subcategories across buying_channel and experts\n",
    "    combinations_list = list(product(lense_1, lense_2))\n",
    "\n",
    "    # Create new dataframe with combination pairs\n",
    "    combination_df = pd.DataFrame(combinations_list, columns=['Subcategory 1', 'Subcategory 2'])\n",
    "\n",
    "    # Initialize dictionary to store combination counts\n",
    "    combination_counts = {}\n",
    "    id_values = set()\n",
    "\n",
    "\n",
    "    # Iterate through combinations and count occurrences\n",
    "    for subcategory_1, subcategory_2 in combinations_list:\n",
    "        ids = sentiment_new_df.loc[\n",
    "            (sentiment_new_df['subcategory'] == subcategory_1) &\n",
    "            (sentiment_new_df['id'].isin(sentiment_new_df.loc[sentiment_new_df['subcategory'] == subcategory_2, 'id'])),\n",
    "            'id'\n",
    "        ].unique()\n",
    "        count = len(ids)\n",
    "        combination_counts[(subcategory_1, subcategory_2)] = count\n",
    "        id_values.update(ids)\n",
    "    \n",
    "\n",
    "    # Create new dataframe from combination counts\n",
    "    combination_counts_df = pd.DataFrame(combination_counts.items(), columns=['combination', 'count'])\n",
    "    combination_counts_df[['subcategory_1', 'subcategory_2']] = pd.DataFrame(combination_counts_df['combination'].tolist())\n",
    "    combination_counts_df = combination_counts_df.drop('combination', axis=1)\n",
    "\n",
    "    # Store the number of unique id values from which combinations were found\n",
    "    n_posts = len(id_values)\n",
    "\n",
    "    #print(combination_counts_df)\n",
    "\n",
    "    return combination_counts_df, n_posts\n",
    "\n",
    "\n",
    "\n",
    "\n",
    "\n",
    "def filter_and_plot(df, counts, cat1, cat2, save_name=\"img\"):\n",
    "    \n",
    "    fig = px.histogram(\n",
    "        df,\n",
    "        x=\"count\",\n",
    "        y=\"subcategory_1\",\n",
    "        color=\"subcategory_2\",\n",
    "        barnorm=\"percent\",\n",
    "        orientation=\"h\",\n",
    "        labels={\n",
    "            \"subcategory_1\": \"\",\n",
    "            \"subcategory_2\": \"\",\n",
    "            \"count\": cat2,\n",
    "        },\n",
    "        color_discrete_sequence=PERMEA_COLOR_WHEEL_5_STATISTICS,\n",
    "        text_auto=\".0f\",\n",
    "        title=f'Anzahl der Social - Media - Posts mit der Kombination: {cat1} und {cat2}',\n",
    "        template=\"plotly_white\",\n",
    "        category_orders={\n",
    "            \"subcategory_1\": cat1,\n",
    "            \"subcategory_2\": cat2\n",
    "        })\n",
    "    \n",
    "\n",
    "    fig.add_annotation(dict(font=dict(size=9),\n",
    "                        x=-0.25,\n",
    "                        y=-0.34,\n",
    "                        showarrow=False,\n",
    "                        #text=f'Based on {counts} Social Media Conversations from publicy available forums mentioning {cat1} and {cat2} <br> Germany, January 2013 – April 2023.',\n",
    "                        text=f\"Basierend auf {counts} Social-Media-Konversationen aus öffentlich zugänglichen Foren <br>Deutschland, Januar 2013 – April 2023.\",                       \n",
    "                        textangle=0,\n",
    "                        xanchor='left',\n",
    "                        xref=\"paper\",\n",
    "                        yref=\"paper\",\n",
    "                        align=\"left\"\n",
    "))\n",
    "    \n",
    "\n",
    "    fig.update_layout(\n",
    "    template='plotly_white',\n",
    "    xaxis_title='Anteil der Posts in %',\n",
    "    yaxis_title=cat1,\n",
    "    #yaxis_range=[0, 1.1 * df['Count'].max()],\n",
    "    #xaxis=dict(\n",
    "        #tickmode='linear',\n",
    "        #dtick=1,\n",
    "        #automargin=True\n",
    "    #),\n",
    "    yaxis={'automargin': True},\n",
    "    #margin=dict(l=130, r=150, b=10, pad=30),\n",
    "    autosize=False,\n",
    "    width=20 * 37.8,  # Convert 20 cm to inches (1 cm = 37.8 inches)\n",
    "    height=10 * 37.8,  # Convert 9 cm to inches (1 cm = 37.8 inches)\n",
    "    legend=dict(font=dict(size=16))\n",
    "    )\n",
    "    \n",
    "    \n",
    "        \n",
    "    #fig.write_image(save_name+\".png\")\n",
    "    \n",
    "    fig.show()\n",
    "    \n",
    "\n",
    "\n",
    "df, counts= combine_subcategories(sentiment_new_df, market_area, rx)\n",
    "filter_and_plot(df, counts, \"Marktgebiet\", \"Freiverkäuflich vs. Rezeptpflichtig\", save_name=\"market_area_rx\")\n",
    "\n",
    "\n",
    "\n"
   ]
  },
  {
   "attachments": {},
   "cell_type": "markdown",
   "metadata": {},
   "source": [
    "## break\n"
   ]
  },
  {
   "cell_type": "code",
   "execution_count": 31,
   "metadata": {},
   "outputs": [
    {
     "data": {
      "application/vnd.plotly.v1+json": {
       "config": {
        "plotlyServerURL": "https://plot.ly"
       },
       "data": [
        {
         "alignmentgroup": "True",
         "bingroup": "y",
         "histfunc": "sum",
         "hovertemplate": "=%{y}<br>sum of Symptome (normalized as percent)=%{x}<extra></extra>",
         "legendgroup": "Juckreiz",
         "marker": {
          "color": "rgb(54, 226, 169)",
          "pattern": {
           "shape": ""
          }
         },
         "name": "Juckreiz",
         "offsetgroup": "Juckreiz",
         "orientation": "h",
         "showlegend": true,
         "texttemplate": "%{value:.0f}",
         "type": "histogram",
         "x": [
          530,
          1315,
          3651
         ],
         "xaxis": "x",
         "y": [
          "Vaginal",
          "Oral",
          "Topisch"
         ],
         "yaxis": "y"
        },
        {
         "alignmentgroup": "True",
         "bingroup": "y",
         "histfunc": "sum",
         "hovertemplate": "=%{y}<br>sum of Symptome (normalized as percent)=%{x}<extra></extra>",
         "legendgroup": "Brennen",
         "marker": {
          "color": "rgb(112, 54, 226)",
          "pattern": {
           "shape": ""
          }
         },
         "name": "Brennen",
         "offsetgroup": "Brennen",
         "orientation": "h",
         "showlegend": true,
         "texttemplate": "%{value:.0f}",
         "type": "histogram",
         "x": [
          447,
          1476,
          3570
         ],
         "xaxis": "x",
         "y": [
          "Vaginal",
          "Oral",
          "Topisch"
         ],
         "yaxis": "y"
        },
        {
         "alignmentgroup": "True",
         "bingroup": "y",
         "histfunc": "sum",
         "hovertemplate": "=%{y}<br>sum of Symptome (normalized as percent)=%{x}<extra></extra>",
         "legendgroup": "Schmerzen",
         "marker": {
          "color": "rgb(226, 54, 169)",
          "pattern": {
           "shape": ""
          }
         },
         "name": "Schmerzen",
         "offsetgroup": "Schmerzen",
         "orientation": "h",
         "showlegend": true,
         "texttemplate": "%{value:.0f}",
         "type": "histogram",
         "x": [
          169,
          1631,
          4189
         ],
         "xaxis": "x",
         "y": [
          "Vaginal",
          "Oral",
          "Topisch"
         ],
         "yaxis": "y"
        },
        {
         "alignmentgroup": "True",
         "bingroup": "y",
         "histfunc": "sum",
         "hovertemplate": "=%{y}<br>sum of Symptome (normalized as percent)=%{x}<extra></extra>",
         "legendgroup": "Ausfluss",
         "marker": {
          "color": "rgb(54, 112, 226)",
          "pattern": {
           "shape": ""
          }
         },
         "name": "Ausfluss",
         "offsetgroup": "Ausfluss",
         "orientation": "h",
         "showlegend": true,
         "texttemplate": "%{value:.0f}",
         "type": "histogram",
         "x": [
          405,
          1540,
          7378
         ],
         "xaxis": "x",
         "y": [
          "Vaginal",
          "Oral",
          "Topisch"
         ],
         "yaxis": "y"
        },
        {
         "alignmentgroup": "True",
         "bingroup": "y",
         "histfunc": "sum",
         "hovertemplate": "=%{y}<br>sum of Symptome (normalized as percent)=%{x}<extra></extra>",
         "legendgroup": "Trockenheit",
         "marker": {
          "color": "rgb(54, 169, 226)",
          "pattern": {
           "shape": ""
          }
         },
         "name": "Trockenheit",
         "offsetgroup": "Trockenheit",
         "orientation": "h",
         "showlegend": true,
         "texttemplate": "%{value:.0f}",
         "type": "histogram",
         "x": [
          87,
          109,
          333
         ],
         "xaxis": "x",
         "y": [
          "Vaginal",
          "Oral",
          "Topisch"
         ],
         "yaxis": "y"
        },
        {
         "alignmentgroup": "True",
         "bingroup": "y",
         "histfunc": "sum",
         "hovertemplate": "=%{y}<br>sum of Symptome (normalized as percent)=%{x}<extra></extra>",
         "legendgroup": "Geruch",
         "marker": {
          "color": "rgb(54, 226, 169)",
          "pattern": {
           "shape": ""
          }
         },
         "name": "Geruch",
         "offsetgroup": "Geruch",
         "orientation": "h",
         "showlegend": true,
         "texttemplate": "%{value:.0f}",
         "type": "histogram",
         "x": [
          23,
          38,
          99
         ],
         "xaxis": "x",
         "y": [
          "Vaginal",
          "Oral",
          "Topisch"
         ],
         "yaxis": "y"
        },
        {
         "alignmentgroup": "True",
         "bingroup": "y",
         "histfunc": "sum",
         "hovertemplate": "=%{y}<br>sum of Symptome (normalized as percent)=%{x}<extra></extra>",
         "legendgroup": "Hitzewallungen",
         "marker": {
          "color": "rgb(112, 54, 226)",
          "pattern": {
           "shape": ""
          }
         },
         "name": "Hitzewallungen",
         "offsetgroup": "Hitzewallungen",
         "orientation": "h",
         "showlegend": true,
         "texttemplate": "%{value:.0f}",
         "type": "histogram",
         "x": [
          2,
          15,
          52
         ],
         "xaxis": "x",
         "y": [
          "Vaginal",
          "Oral",
          "Topisch"
         ],
         "yaxis": "y"
        }
       ],
       "layout": {
        "annotations": [
         {
          "align": "left",
          "font": {
           "size": 9
          },
          "showarrow": false,
          "text": "Basierend auf 17331 Social-Media-Konversationen aus öffentlich zugänglichen Foren <br>Deutschland, Januar 2013 – April 2023.",
          "textangle": 0,
          "x": -0.25,
          "xanchor": "left",
          "xref": "paper",
          "y": -0.34,
          "yref": "paper"
         }
        ],
        "autosize": false,
        "barmode": "relative",
        "barnorm": "percent",
        "height": 378,
        "legend": {
         "font": {
          "size": 16
         },
         "title": {
          "text": ""
         },
         "tracegroupgap": 0
        },
        "template": {
         "data": {
          "bar": [
           {
            "error_x": {
             "color": "#2a3f5f"
            },
            "error_y": {
             "color": "#2a3f5f"
            },
            "marker": {
             "line": {
              "color": "white",
              "width": 0.5
             },
             "pattern": {
              "fillmode": "overlay",
              "size": 10,
              "solidity": 0.2
             }
            },
            "type": "bar"
           }
          ],
          "barpolar": [
           {
            "marker": {
             "line": {
              "color": "white",
              "width": 0.5
             },
             "pattern": {
              "fillmode": "overlay",
              "size": 10,
              "solidity": 0.2
             }
            },
            "type": "barpolar"
           }
          ],
          "carpet": [
           {
            "aaxis": {
             "endlinecolor": "#2a3f5f",
             "gridcolor": "#C8D4E3",
             "linecolor": "#C8D4E3",
             "minorgridcolor": "#C8D4E3",
             "startlinecolor": "#2a3f5f"
            },
            "baxis": {
             "endlinecolor": "#2a3f5f",
             "gridcolor": "#C8D4E3",
             "linecolor": "#C8D4E3",
             "minorgridcolor": "#C8D4E3",
             "startlinecolor": "#2a3f5f"
            },
            "type": "carpet"
           }
          ],
          "choropleth": [
           {
            "colorbar": {
             "outlinewidth": 0,
             "ticks": ""
            },
            "type": "choropleth"
           }
          ],
          "contour": [
           {
            "colorbar": {
             "outlinewidth": 0,
             "ticks": ""
            },
            "colorscale": [
             [
              0,
              "#0d0887"
             ],
             [
              0.1111111111111111,
              "#46039f"
             ],
             [
              0.2222222222222222,
              "#7201a8"
             ],
             [
              0.3333333333333333,
              "#9c179e"
             ],
             [
              0.4444444444444444,
              "#bd3786"
             ],
             [
              0.5555555555555556,
              "#d8576b"
             ],
             [
              0.6666666666666666,
              "#ed7953"
             ],
             [
              0.7777777777777778,
              "#fb9f3a"
             ],
             [
              0.8888888888888888,
              "#fdca26"
             ],
             [
              1,
              "#f0f921"
             ]
            ],
            "type": "contour"
           }
          ],
          "contourcarpet": [
           {
            "colorbar": {
             "outlinewidth": 0,
             "ticks": ""
            },
            "type": "contourcarpet"
           }
          ],
          "heatmap": [
           {
            "colorbar": {
             "outlinewidth": 0,
             "ticks": ""
            },
            "colorscale": [
             [
              0,
              "#0d0887"
             ],
             [
              0.1111111111111111,
              "#46039f"
             ],
             [
              0.2222222222222222,
              "#7201a8"
             ],
             [
              0.3333333333333333,
              "#9c179e"
             ],
             [
              0.4444444444444444,
              "#bd3786"
             ],
             [
              0.5555555555555556,
              "#d8576b"
             ],
             [
              0.6666666666666666,
              "#ed7953"
             ],
             [
              0.7777777777777778,
              "#fb9f3a"
             ],
             [
              0.8888888888888888,
              "#fdca26"
             ],
             [
              1,
              "#f0f921"
             ]
            ],
            "type": "heatmap"
           }
          ],
          "heatmapgl": [
           {
            "colorbar": {
             "outlinewidth": 0,
             "ticks": ""
            },
            "colorscale": [
             [
              0,
              "#0d0887"
             ],
             [
              0.1111111111111111,
              "#46039f"
             ],
             [
              0.2222222222222222,
              "#7201a8"
             ],
             [
              0.3333333333333333,
              "#9c179e"
             ],
             [
              0.4444444444444444,
              "#bd3786"
             ],
             [
              0.5555555555555556,
              "#d8576b"
             ],
             [
              0.6666666666666666,
              "#ed7953"
             ],
             [
              0.7777777777777778,
              "#fb9f3a"
             ],
             [
              0.8888888888888888,
              "#fdca26"
             ],
             [
              1,
              "#f0f921"
             ]
            ],
            "type": "heatmapgl"
           }
          ],
          "histogram": [
           {
            "marker": {
             "pattern": {
              "fillmode": "overlay",
              "size": 10,
              "solidity": 0.2
             }
            },
            "type": "histogram"
           }
          ],
          "histogram2d": [
           {
            "colorbar": {
             "outlinewidth": 0,
             "ticks": ""
            },
            "colorscale": [
             [
              0,
              "#0d0887"
             ],
             [
              0.1111111111111111,
              "#46039f"
             ],
             [
              0.2222222222222222,
              "#7201a8"
             ],
             [
              0.3333333333333333,
              "#9c179e"
             ],
             [
              0.4444444444444444,
              "#bd3786"
             ],
             [
              0.5555555555555556,
              "#d8576b"
             ],
             [
              0.6666666666666666,
              "#ed7953"
             ],
             [
              0.7777777777777778,
              "#fb9f3a"
             ],
             [
              0.8888888888888888,
              "#fdca26"
             ],
             [
              1,
              "#f0f921"
             ]
            ],
            "type": "histogram2d"
           }
          ],
          "histogram2dcontour": [
           {
            "colorbar": {
             "outlinewidth": 0,
             "ticks": ""
            },
            "colorscale": [
             [
              0,
              "#0d0887"
             ],
             [
              0.1111111111111111,
              "#46039f"
             ],
             [
              0.2222222222222222,
              "#7201a8"
             ],
             [
              0.3333333333333333,
              "#9c179e"
             ],
             [
              0.4444444444444444,
              "#bd3786"
             ],
             [
              0.5555555555555556,
              "#d8576b"
             ],
             [
              0.6666666666666666,
              "#ed7953"
             ],
             [
              0.7777777777777778,
              "#fb9f3a"
             ],
             [
              0.8888888888888888,
              "#fdca26"
             ],
             [
              1,
              "#f0f921"
             ]
            ],
            "type": "histogram2dcontour"
           }
          ],
          "mesh3d": [
           {
            "colorbar": {
             "outlinewidth": 0,
             "ticks": ""
            },
            "type": "mesh3d"
           }
          ],
          "parcoords": [
           {
            "line": {
             "colorbar": {
              "outlinewidth": 0,
              "ticks": ""
             }
            },
            "type": "parcoords"
           }
          ],
          "pie": [
           {
            "automargin": true,
            "type": "pie"
           }
          ],
          "scatter": [
           {
            "fillpattern": {
             "fillmode": "overlay",
             "size": 10,
             "solidity": 0.2
            },
            "type": "scatter"
           }
          ],
          "scatter3d": [
           {
            "line": {
             "colorbar": {
              "outlinewidth": 0,
              "ticks": ""
             }
            },
            "marker": {
             "colorbar": {
              "outlinewidth": 0,
              "ticks": ""
             }
            },
            "type": "scatter3d"
           }
          ],
          "scattercarpet": [
           {
            "marker": {
             "colorbar": {
              "outlinewidth": 0,
              "ticks": ""
             }
            },
            "type": "scattercarpet"
           }
          ],
          "scattergeo": [
           {
            "marker": {
             "colorbar": {
              "outlinewidth": 0,
              "ticks": ""
             }
            },
            "type": "scattergeo"
           }
          ],
          "scattergl": [
           {
            "marker": {
             "colorbar": {
              "outlinewidth": 0,
              "ticks": ""
             }
            },
            "type": "scattergl"
           }
          ],
          "scattermapbox": [
           {
            "marker": {
             "colorbar": {
              "outlinewidth": 0,
              "ticks": ""
             }
            },
            "type": "scattermapbox"
           }
          ],
          "scatterpolar": [
           {
            "marker": {
             "colorbar": {
              "outlinewidth": 0,
              "ticks": ""
             }
            },
            "type": "scatterpolar"
           }
          ],
          "scatterpolargl": [
           {
            "marker": {
             "colorbar": {
              "outlinewidth": 0,
              "ticks": ""
             }
            },
            "type": "scatterpolargl"
           }
          ],
          "scatterternary": [
           {
            "marker": {
             "colorbar": {
              "outlinewidth": 0,
              "ticks": ""
             }
            },
            "type": "scatterternary"
           }
          ],
          "surface": [
           {
            "colorbar": {
             "outlinewidth": 0,
             "ticks": ""
            },
            "colorscale": [
             [
              0,
              "#0d0887"
             ],
             [
              0.1111111111111111,
              "#46039f"
             ],
             [
              0.2222222222222222,
              "#7201a8"
             ],
             [
              0.3333333333333333,
              "#9c179e"
             ],
             [
              0.4444444444444444,
              "#bd3786"
             ],
             [
              0.5555555555555556,
              "#d8576b"
             ],
             [
              0.6666666666666666,
              "#ed7953"
             ],
             [
              0.7777777777777778,
              "#fb9f3a"
             ],
             [
              0.8888888888888888,
              "#fdca26"
             ],
             [
              1,
              "#f0f921"
             ]
            ],
            "type": "surface"
           }
          ],
          "table": [
           {
            "cells": {
             "fill": {
              "color": "#EBF0F8"
             },
             "line": {
              "color": "white"
             }
            },
            "header": {
             "fill": {
              "color": "#C8D4E3"
             },
             "line": {
              "color": "white"
             }
            },
            "type": "table"
           }
          ]
         },
         "layout": {
          "annotationdefaults": {
           "arrowcolor": "#2a3f5f",
           "arrowhead": 0,
           "arrowwidth": 1
          },
          "autotypenumbers": "strict",
          "coloraxis": {
           "colorbar": {
            "outlinewidth": 0,
            "ticks": ""
           }
          },
          "colorscale": {
           "diverging": [
            [
             0,
             "#8e0152"
            ],
            [
             0.1,
             "#c51b7d"
            ],
            [
             0.2,
             "#de77ae"
            ],
            [
             0.3,
             "#f1b6da"
            ],
            [
             0.4,
             "#fde0ef"
            ],
            [
             0.5,
             "#f7f7f7"
            ],
            [
             0.6,
             "#e6f5d0"
            ],
            [
             0.7,
             "#b8e186"
            ],
            [
             0.8,
             "#7fbc41"
            ],
            [
             0.9,
             "#4d9221"
            ],
            [
             1,
             "#276419"
            ]
           ],
           "sequential": [
            [
             0,
             "#0d0887"
            ],
            [
             0.1111111111111111,
             "#46039f"
            ],
            [
             0.2222222222222222,
             "#7201a8"
            ],
            [
             0.3333333333333333,
             "#9c179e"
            ],
            [
             0.4444444444444444,
             "#bd3786"
            ],
            [
             0.5555555555555556,
             "#d8576b"
            ],
            [
             0.6666666666666666,
             "#ed7953"
            ],
            [
             0.7777777777777778,
             "#fb9f3a"
            ],
            [
             0.8888888888888888,
             "#fdca26"
            ],
            [
             1,
             "#f0f921"
            ]
           ],
           "sequentialminus": [
            [
             0,
             "#0d0887"
            ],
            [
             0.1111111111111111,
             "#46039f"
            ],
            [
             0.2222222222222222,
             "#7201a8"
            ],
            [
             0.3333333333333333,
             "#9c179e"
            ],
            [
             0.4444444444444444,
             "#bd3786"
            ],
            [
             0.5555555555555556,
             "#d8576b"
            ],
            [
             0.6666666666666666,
             "#ed7953"
            ],
            [
             0.7777777777777778,
             "#fb9f3a"
            ],
            [
             0.8888888888888888,
             "#fdca26"
            ],
            [
             1,
             "#f0f921"
            ]
           ]
          },
          "colorway": [
           "#636efa",
           "#EF553B",
           "#00cc96",
           "#ab63fa",
           "#FFA15A",
           "#19d3f3",
           "#FF6692",
           "#B6E880",
           "#FF97FF",
           "#FECB52"
          ],
          "font": {
           "color": "#2a3f5f"
          },
          "geo": {
           "bgcolor": "white",
           "lakecolor": "white",
           "landcolor": "white",
           "showlakes": true,
           "showland": true,
           "subunitcolor": "#C8D4E3"
          },
          "hoverlabel": {
           "align": "left"
          },
          "hovermode": "closest",
          "mapbox": {
           "style": "light"
          },
          "paper_bgcolor": "white",
          "plot_bgcolor": "white",
          "polar": {
           "angularaxis": {
            "gridcolor": "#EBF0F8",
            "linecolor": "#EBF0F8",
            "ticks": ""
           },
           "bgcolor": "white",
           "radialaxis": {
            "gridcolor": "#EBF0F8",
            "linecolor": "#EBF0F8",
            "ticks": ""
           }
          },
          "scene": {
           "xaxis": {
            "backgroundcolor": "white",
            "gridcolor": "#DFE8F3",
            "gridwidth": 2,
            "linecolor": "#EBF0F8",
            "showbackground": true,
            "ticks": "",
            "zerolinecolor": "#EBF0F8"
           },
           "yaxis": {
            "backgroundcolor": "white",
            "gridcolor": "#DFE8F3",
            "gridwidth": 2,
            "linecolor": "#EBF0F8",
            "showbackground": true,
            "ticks": "",
            "zerolinecolor": "#EBF0F8"
           },
           "zaxis": {
            "backgroundcolor": "white",
            "gridcolor": "#DFE8F3",
            "gridwidth": 2,
            "linecolor": "#EBF0F8",
            "showbackground": true,
            "ticks": "",
            "zerolinecolor": "#EBF0F8"
           }
          },
          "shapedefaults": {
           "line": {
            "color": "#2a3f5f"
           }
          },
          "ternary": {
           "aaxis": {
            "gridcolor": "#DFE8F3",
            "linecolor": "#A2B1C6",
            "ticks": ""
           },
           "baxis": {
            "gridcolor": "#DFE8F3",
            "linecolor": "#A2B1C6",
            "ticks": ""
           },
           "bgcolor": "white",
           "caxis": {
            "gridcolor": "#DFE8F3",
            "linecolor": "#A2B1C6",
            "ticks": ""
           }
          },
          "title": {
           "x": 0.05
          },
          "xaxis": {
           "automargin": true,
           "gridcolor": "#EBF0F8",
           "linecolor": "#EBF0F8",
           "ticks": "",
           "title": {
            "standoff": 15
           },
           "zerolinecolor": "#EBF0F8",
           "zerolinewidth": 2
          },
          "yaxis": {
           "automargin": true,
           "gridcolor": "#EBF0F8",
           "linecolor": "#EBF0F8",
           "ticks": "",
           "title": {
            "standoff": 15
           },
           "zerolinecolor": "#EBF0F8",
           "zerolinewidth": 2
          }
         }
        },
        "title": {
         "text": "Anzahl der Social - Media - Posts mit der Kombination: Darreichungsform und Symptome"
        },
        "width": 756,
        "xaxis": {
         "anchor": "y",
         "domain": [
          0,
          1
         ],
         "title": {
          "text": "Anteil der Posts in %"
         }
        },
        "yaxis": {
         "anchor": "x",
         "automargin": true,
         "categoryarray": [
          "m",
          "r",
          "o",
          "f",
          "s",
          "g",
          "n",
          "u",
          "h",
          "c",
          "i",
          "e",
          "r",
          "r",
          "a",
          "D"
         ],
         "categoryorder": "array",
         "domain": [
          0,
          1
         ],
         "title": {
          "text": "Darreichungsform"
         }
        }
       }
      }
     },
     "metadata": {},
     "output_type": "display_data"
    }
   ],
   "source": [
    "\n",
    "def combine_subcategories(df, lense_1, lense_2):\n",
    "\n",
    "    # Generate combinations of unique subcategories across buying_channel and experts\n",
    "    combinations_list = list(product(lense_1, lense_2))\n",
    "\n",
    "    # Create new dataframe with combination pairs\n",
    "    combination_df = pd.DataFrame(combinations_list, columns=['Subcategory 1', 'Subcategory 2'])\n",
    "\n",
    "    # Initialize dictionary to store combination counts\n",
    "    combination_counts = {}\n",
    "    id_values = set()\n",
    "\n",
    "\n",
    "    # Iterate through combinations and count occurrences\n",
    "    for subcategory_1, subcategory_2 in combinations_list:\n",
    "        ids = sentiment_new_df.loc[\n",
    "            (sentiment_new_df['subcategory'] == subcategory_1) &\n",
    "            (sentiment_new_df['id'].isin(sentiment_new_df.loc[sentiment_new_df['subcategory'] == subcategory_2, 'id'])),\n",
    "            'id'\n",
    "        ].unique()\n",
    "        count = len(ids)\n",
    "        combination_counts[(subcategory_1, subcategory_2)] = count\n",
    "        id_values.update(ids)\n",
    "    \n",
    "\n",
    "    # Create new dataframe from combination counts\n",
    "    combination_counts_df = pd.DataFrame(combination_counts.items(), columns=['combination', 'count'])\n",
    "    combination_counts_df[['subcategory_1', 'subcategory_2']] = pd.DataFrame(combination_counts_df['combination'].tolist())\n",
    "    combination_counts_df = combination_counts_df.drop('combination', axis=1)\n",
    "\n",
    "    # Store the number of unique id values from which combinations were found\n",
    "    n_posts = len(id_values)\n",
    "\n",
    "    #print(combination_counts_df)\n",
    "\n",
    "    return combination_counts_df, n_posts\n",
    "\n",
    "\n",
    "\n",
    "\n",
    "\n",
    "def filter_and_plot(df, counts, cat1, cat2, save_name=\"img\"):\n",
    "    \n",
    "    fig = px.histogram(\n",
    "        df,\n",
    "        x=\"count\",\n",
    "        y=\"subcategory_1\",\n",
    "        color=\"subcategory_2\",\n",
    "        barnorm=\"percent\",\n",
    "        orientation=\"h\",\n",
    "        labels={\n",
    "            \"subcategory_1\": \"\",\n",
    "            \"subcategory_2\": \"\",\n",
    "            \"count\": cat2,\n",
    "        },\n",
    "        color_discrete_sequence=PERMEA_COLOR_WHEEL_5_STATISTICS,\n",
    "        text_auto=\".0f\",\n",
    "        title=f'Anzahl der Social - Media - Posts mit der Kombination: {cat1} und {cat2}',\n",
    "        template=\"plotly_white\",\n",
    "        category_orders={\n",
    "            \"subcategory_1\": cat1,\n",
    "            \"subcategory_2\": cat2\n",
    "        })\n",
    "    \n",
    "\n",
    "    fig.add_annotation(dict(font=dict(size=9),\n",
    "                        x=-0.25,\n",
    "                        y=-0.34,\n",
    "                        showarrow=False,\n",
    "                        #text=f'Based on {counts} Social Media Conversations from publicy available forums mentioning {cat1} and {cat2} <br> Germany, January 2013 – April 2023.',\n",
    "                        text=f\"Basierend auf {counts} Social-Media-Konversationen aus öffentlich zugänglichen Foren <br>Deutschland, Januar 2013 – April 2023.\",                       \n",
    "                        textangle=0,\n",
    "                        xanchor='left',\n",
    "                        xref=\"paper\",\n",
    "                        yref=\"paper\",\n",
    "                        align=\"left\"\n",
    "))\n",
    "    \n",
    "\n",
    "    fig.update_layout(\n",
    "    template='plotly_white',\n",
    "    xaxis_title='Anteil der Posts in %',\n",
    "    yaxis_title=cat1,\n",
    "    #yaxis_range=[0, 1.1 * df['Count'].max()],\n",
    "    #xaxis=dict(\n",
    "        #tickmode='linear',\n",
    "        #dtick=1,\n",
    "        #automargin=True\n",
    "    #),\n",
    "    yaxis={'automargin': True},\n",
    "    #margin=dict(l=130, r=150, b=10, pad=30),\n",
    "    autosize=False,\n",
    "    width=20 * 37.8,  # Convert 20 cm to inches (1 cm = 37.8 inches)\n",
    "    height=10 * 37.8,  # Convert 9 cm to inches (1 cm = 37.8 inches)\n",
    "    legend=dict(font=dict(size=16))\n",
    "    )\n",
    "    \n",
    "    \n",
    "        \n",
    "    #fig.write_image(save_name+\".png\")\n",
    "    \n",
    "    fig.show()\n",
    "    \n",
    "\n",
    "\n",
    "df, counts= combine_subcategories(sentiment_new_df, mode_of_administration, top_symptoms)\n",
    "filter_and_plot(df, counts, \"Darreichungsform\", \"Symptome\", save_name=\"mode_of_administration_top_symptoms\")\n",
    "\n",
    "\n",
    "\n"
   ]
  },
  {
   "cell_type": "code",
   "execution_count": 34,
   "metadata": {},
   "outputs": [
    {
     "data": {
      "application/vnd.plotly.v1+json": {
       "config": {
        "plotlyServerURL": "https://plot.ly"
       },
       "data": [
        {
         "alignmentgroup": "True",
         "bingroup": "y",
         "histfunc": "sum",
         "hovertemplate": "=%{y}<br>sum of Empfehlung (normalized as percent)=%{x}<extra></extra>",
         "legendgroup": "Peers",
         "marker": {
          "color": "rgb(54, 226, 112)",
          "pattern": {
           "shape": ""
          }
         },
         "name": "Peers",
         "offsetgroup": "Peers",
         "orientation": "h",
         "showlegend": true,
         "texttemplate": "%{value:.0f}",
         "type": "histogram",
         "x": [
          11,
          180,
          301
         ],
         "xaxis": "x",
         "y": [
          "Vaginal",
          "Oral",
          "Topisch"
         ],
         "yaxis": "y"
        },
        {
         "alignmentgroup": "True",
         "bingroup": "y",
         "histfunc": "sum",
         "hovertemplate": "=%{y}<br>sum of Empfehlung (normalized as percent)=%{x}<extra></extra>",
         "legendgroup": "GynäkologeInnen",
         "marker": {
          "color": "rgb(54, 112, 226)",
          "pattern": {
           "shape": ""
          }
         },
         "name": "GynäkologeInnen",
         "offsetgroup": "GynäkologeInnen",
         "orientation": "h",
         "showlegend": true,
         "texttemplate": "%{value:.0f}",
         "type": "histogram",
         "x": [
          0,
          0,
          0
         ],
         "xaxis": "x",
         "y": [
          "Vaginal",
          "Oral",
          "Topisch"
         ],
         "yaxis": "y"
        },
        {
         "alignmentgroup": "True",
         "bingroup": "y",
         "histfunc": "sum",
         "hovertemplate": "=%{y}<br>sum of Empfehlung (normalized as percent)=%{x}<extra></extra>",
         "legendgroup": "ApothekerInnen",
         "marker": {
          "color": "rgb(54, 169, 226)",
          "pattern": {
           "shape": ""
          }
         },
         "name": "ApothekerInnen",
         "offsetgroup": "ApothekerInnen",
         "orientation": "h",
         "showlegend": true,
         "texttemplate": "%{value:.0f}",
         "type": "histogram",
         "x": [
          1508,
          5762,
          10541
         ],
         "xaxis": "x",
         "y": [
          "Vaginal",
          "Oral",
          "Topisch"
         ],
         "yaxis": "y"
        },
        {
         "alignmentgroup": "True",
         "bingroup": "y",
         "histfunc": "sum",
         "hovertemplate": "=%{y}<br>sum of Empfehlung (normalized as percent)=%{x}<extra></extra>",
         "legendgroup": "AllgemeinmedizinerInnen",
         "marker": {
          "color": "rgb(54, 226, 169)",
          "pattern": {
           "shape": ""
          }
         },
         "name": "AllgemeinmedizinerInnen",
         "offsetgroup": "AllgemeinmedizinerInnen",
         "orientation": "h",
         "showlegend": true,
         "texttemplate": "%{value:.0f}",
         "type": "histogram",
         "x": [
          448,
          4719,
          7286
         ],
         "xaxis": "x",
         "y": [
          "Vaginal",
          "Oral",
          "Topisch"
         ],
         "yaxis": "y"
        },
        {
         "alignmentgroup": "True",
         "bingroup": "y",
         "histfunc": "sum",
         "hovertemplate": "=%{y}<br>sum of Empfehlung (normalized as percent)=%{x}<extra></extra>",
         "legendgroup": "HebammeN",
         "marker": {
          "color": "rgb(112, 54, 226)",
          "pattern": {
           "shape": ""
          }
         },
         "name": "HebammeN",
         "offsetgroup": "HebammeN",
         "orientation": "h",
         "showlegend": true,
         "texttemplate": "%{value:.0f}",
         "type": "histogram",
         "x": [
          571,
          1167,
          4111
         ],
         "xaxis": "x",
         "y": [
          "Vaginal",
          "Oral",
          "Topisch"
         ],
         "yaxis": "y"
        },
        {
         "alignmentgroup": "True",
         "bingroup": "y",
         "histfunc": "sum",
         "hovertemplate": "=%{y}<br>sum of Empfehlung (normalized as percent)=%{x}<extra></extra>",
         "legendgroup": "Internetrecherche",
         "marker": {
          "color": "rgb(226, 54, 169)",
          "pattern": {
           "shape": ""
          }
         },
         "name": "Internetrecherche",
         "offsetgroup": "Internetrecherche",
         "orientation": "h",
         "showlegend": true,
         "texttemplate": "%{value:.0f}",
         "type": "histogram",
         "x": [
          457,
          4137,
          21539
         ],
         "xaxis": "x",
         "y": [
          "Vaginal",
          "Oral",
          "Topisch"
         ],
         "yaxis": "y"
        },
        {
         "alignmentgroup": "True",
         "bingroup": "y",
         "histfunc": "sum",
         "hovertemplate": "=%{y}<br>sum of Empfehlung (normalized as percent)=%{x}<extra></extra>",
         "legendgroup": "Werbung",
         "marker": {
          "color": "rgb(169, 54, 226)",
          "pattern": {
           "shape": ""
          }
         },
         "name": "Werbung",
         "offsetgroup": "Werbung",
         "orientation": "h",
         "showlegend": true,
         "texttemplate": "%{value:.0f}",
         "type": "histogram",
         "x": [
          0,
          0,
          0
         ],
         "xaxis": "x",
         "y": [
          "Vaginal",
          "Oral",
          "Topisch"
         ],
         "yaxis": "y"
        },
        {
         "alignmentgroup": "True",
         "bingroup": "y",
         "histfunc": "sum",
         "hovertemplate": "=%{y}<br>sum of Empfehlung (normalized as percent)=%{x}<extra></extra>",
         "legendgroup": "KrankenpflegerInnen",
         "marker": {
          "color": "rgb(169, 226, 54)",
          "pattern": {
           "shape": ""
          }
         },
         "name": "KrankenpflegerInnen",
         "offsetgroup": "KrankenpflegerInnen",
         "orientation": "h",
         "showlegend": true,
         "texttemplate": "%{value:.0f}",
         "type": "histogram",
         "x": [
          38,
          265,
          598
         ],
         "xaxis": "x",
         "y": [
          "Vaginal",
          "Oral",
          "Topisch"
         ],
         "yaxis": "y"
        }
       ],
       "layout": {
        "annotations": [
         {
          "align": "left",
          "font": {
           "size": 9
          },
          "showarrow": false,
          "text": "Basierend auf 46167 Social-Media-Konversationen aus öffentlich zugänglichen Foren <br>Deutschland, Januar 2013 – April 2023.",
          "textangle": 0,
          "x": -0.25,
          "xanchor": "left",
          "xref": "paper",
          "y": -0.34,
          "yref": "paper"
         }
        ],
        "autosize": false,
        "barmode": "relative",
        "barnorm": "percent",
        "height": 378,
        "legend": {
         "font": {
          "size": 16
         },
         "title": {
          "text": ""
         },
         "tracegroupgap": 0
        },
        "template": {
         "data": {
          "bar": [
           {
            "error_x": {
             "color": "#2a3f5f"
            },
            "error_y": {
             "color": "#2a3f5f"
            },
            "marker": {
             "line": {
              "color": "white",
              "width": 0.5
             },
             "pattern": {
              "fillmode": "overlay",
              "size": 10,
              "solidity": 0.2
             }
            },
            "type": "bar"
           }
          ],
          "barpolar": [
           {
            "marker": {
             "line": {
              "color": "white",
              "width": 0.5
             },
             "pattern": {
              "fillmode": "overlay",
              "size": 10,
              "solidity": 0.2
             }
            },
            "type": "barpolar"
           }
          ],
          "carpet": [
           {
            "aaxis": {
             "endlinecolor": "#2a3f5f",
             "gridcolor": "#C8D4E3",
             "linecolor": "#C8D4E3",
             "minorgridcolor": "#C8D4E3",
             "startlinecolor": "#2a3f5f"
            },
            "baxis": {
             "endlinecolor": "#2a3f5f",
             "gridcolor": "#C8D4E3",
             "linecolor": "#C8D4E3",
             "minorgridcolor": "#C8D4E3",
             "startlinecolor": "#2a3f5f"
            },
            "type": "carpet"
           }
          ],
          "choropleth": [
           {
            "colorbar": {
             "outlinewidth": 0,
             "ticks": ""
            },
            "type": "choropleth"
           }
          ],
          "contour": [
           {
            "colorbar": {
             "outlinewidth": 0,
             "ticks": ""
            },
            "colorscale": [
             [
              0,
              "#0d0887"
             ],
             [
              0.1111111111111111,
              "#46039f"
             ],
             [
              0.2222222222222222,
              "#7201a8"
             ],
             [
              0.3333333333333333,
              "#9c179e"
             ],
             [
              0.4444444444444444,
              "#bd3786"
             ],
             [
              0.5555555555555556,
              "#d8576b"
             ],
             [
              0.6666666666666666,
              "#ed7953"
             ],
             [
              0.7777777777777778,
              "#fb9f3a"
             ],
             [
              0.8888888888888888,
              "#fdca26"
             ],
             [
              1,
              "#f0f921"
             ]
            ],
            "type": "contour"
           }
          ],
          "contourcarpet": [
           {
            "colorbar": {
             "outlinewidth": 0,
             "ticks": ""
            },
            "type": "contourcarpet"
           }
          ],
          "heatmap": [
           {
            "colorbar": {
             "outlinewidth": 0,
             "ticks": ""
            },
            "colorscale": [
             [
              0,
              "#0d0887"
             ],
             [
              0.1111111111111111,
              "#46039f"
             ],
             [
              0.2222222222222222,
              "#7201a8"
             ],
             [
              0.3333333333333333,
              "#9c179e"
             ],
             [
              0.4444444444444444,
              "#bd3786"
             ],
             [
              0.5555555555555556,
              "#d8576b"
             ],
             [
              0.6666666666666666,
              "#ed7953"
             ],
             [
              0.7777777777777778,
              "#fb9f3a"
             ],
             [
              0.8888888888888888,
              "#fdca26"
             ],
             [
              1,
              "#f0f921"
             ]
            ],
            "type": "heatmap"
           }
          ],
          "heatmapgl": [
           {
            "colorbar": {
             "outlinewidth": 0,
             "ticks": ""
            },
            "colorscale": [
             [
              0,
              "#0d0887"
             ],
             [
              0.1111111111111111,
              "#46039f"
             ],
             [
              0.2222222222222222,
              "#7201a8"
             ],
             [
              0.3333333333333333,
              "#9c179e"
             ],
             [
              0.4444444444444444,
              "#bd3786"
             ],
             [
              0.5555555555555556,
              "#d8576b"
             ],
             [
              0.6666666666666666,
              "#ed7953"
             ],
             [
              0.7777777777777778,
              "#fb9f3a"
             ],
             [
              0.8888888888888888,
              "#fdca26"
             ],
             [
              1,
              "#f0f921"
             ]
            ],
            "type": "heatmapgl"
           }
          ],
          "histogram": [
           {
            "marker": {
             "pattern": {
              "fillmode": "overlay",
              "size": 10,
              "solidity": 0.2
             }
            },
            "type": "histogram"
           }
          ],
          "histogram2d": [
           {
            "colorbar": {
             "outlinewidth": 0,
             "ticks": ""
            },
            "colorscale": [
             [
              0,
              "#0d0887"
             ],
             [
              0.1111111111111111,
              "#46039f"
             ],
             [
              0.2222222222222222,
              "#7201a8"
             ],
             [
              0.3333333333333333,
              "#9c179e"
             ],
             [
              0.4444444444444444,
              "#bd3786"
             ],
             [
              0.5555555555555556,
              "#d8576b"
             ],
             [
              0.6666666666666666,
              "#ed7953"
             ],
             [
              0.7777777777777778,
              "#fb9f3a"
             ],
             [
              0.8888888888888888,
              "#fdca26"
             ],
             [
              1,
              "#f0f921"
             ]
            ],
            "type": "histogram2d"
           }
          ],
          "histogram2dcontour": [
           {
            "colorbar": {
             "outlinewidth": 0,
             "ticks": ""
            },
            "colorscale": [
             [
              0,
              "#0d0887"
             ],
             [
              0.1111111111111111,
              "#46039f"
             ],
             [
              0.2222222222222222,
              "#7201a8"
             ],
             [
              0.3333333333333333,
              "#9c179e"
             ],
             [
              0.4444444444444444,
              "#bd3786"
             ],
             [
              0.5555555555555556,
              "#d8576b"
             ],
             [
              0.6666666666666666,
              "#ed7953"
             ],
             [
              0.7777777777777778,
              "#fb9f3a"
             ],
             [
              0.8888888888888888,
              "#fdca26"
             ],
             [
              1,
              "#f0f921"
             ]
            ],
            "type": "histogram2dcontour"
           }
          ],
          "mesh3d": [
           {
            "colorbar": {
             "outlinewidth": 0,
             "ticks": ""
            },
            "type": "mesh3d"
           }
          ],
          "parcoords": [
           {
            "line": {
             "colorbar": {
              "outlinewidth": 0,
              "ticks": ""
             }
            },
            "type": "parcoords"
           }
          ],
          "pie": [
           {
            "automargin": true,
            "type": "pie"
           }
          ],
          "scatter": [
           {
            "fillpattern": {
             "fillmode": "overlay",
             "size": 10,
             "solidity": 0.2
            },
            "type": "scatter"
           }
          ],
          "scatter3d": [
           {
            "line": {
             "colorbar": {
              "outlinewidth": 0,
              "ticks": ""
             }
            },
            "marker": {
             "colorbar": {
              "outlinewidth": 0,
              "ticks": ""
             }
            },
            "type": "scatter3d"
           }
          ],
          "scattercarpet": [
           {
            "marker": {
             "colorbar": {
              "outlinewidth": 0,
              "ticks": ""
             }
            },
            "type": "scattercarpet"
           }
          ],
          "scattergeo": [
           {
            "marker": {
             "colorbar": {
              "outlinewidth": 0,
              "ticks": ""
             }
            },
            "type": "scattergeo"
           }
          ],
          "scattergl": [
           {
            "marker": {
             "colorbar": {
              "outlinewidth": 0,
              "ticks": ""
             }
            },
            "type": "scattergl"
           }
          ],
          "scattermapbox": [
           {
            "marker": {
             "colorbar": {
              "outlinewidth": 0,
              "ticks": ""
             }
            },
            "type": "scattermapbox"
           }
          ],
          "scatterpolar": [
           {
            "marker": {
             "colorbar": {
              "outlinewidth": 0,
              "ticks": ""
             }
            },
            "type": "scatterpolar"
           }
          ],
          "scatterpolargl": [
           {
            "marker": {
             "colorbar": {
              "outlinewidth": 0,
              "ticks": ""
             }
            },
            "type": "scatterpolargl"
           }
          ],
          "scatterternary": [
           {
            "marker": {
             "colorbar": {
              "outlinewidth": 0,
              "ticks": ""
             }
            },
            "type": "scatterternary"
           }
          ],
          "surface": [
           {
            "colorbar": {
             "outlinewidth": 0,
             "ticks": ""
            },
            "colorscale": [
             [
              0,
              "#0d0887"
             ],
             [
              0.1111111111111111,
              "#46039f"
             ],
             [
              0.2222222222222222,
              "#7201a8"
             ],
             [
              0.3333333333333333,
              "#9c179e"
             ],
             [
              0.4444444444444444,
              "#bd3786"
             ],
             [
              0.5555555555555556,
              "#d8576b"
             ],
             [
              0.6666666666666666,
              "#ed7953"
             ],
             [
              0.7777777777777778,
              "#fb9f3a"
             ],
             [
              0.8888888888888888,
              "#fdca26"
             ],
             [
              1,
              "#f0f921"
             ]
            ],
            "type": "surface"
           }
          ],
          "table": [
           {
            "cells": {
             "fill": {
              "color": "#EBF0F8"
             },
             "line": {
              "color": "white"
             }
            },
            "header": {
             "fill": {
              "color": "#C8D4E3"
             },
             "line": {
              "color": "white"
             }
            },
            "type": "table"
           }
          ]
         },
         "layout": {
          "annotationdefaults": {
           "arrowcolor": "#2a3f5f",
           "arrowhead": 0,
           "arrowwidth": 1
          },
          "autotypenumbers": "strict",
          "coloraxis": {
           "colorbar": {
            "outlinewidth": 0,
            "ticks": ""
           }
          },
          "colorscale": {
           "diverging": [
            [
             0,
             "#8e0152"
            ],
            [
             0.1,
             "#c51b7d"
            ],
            [
             0.2,
             "#de77ae"
            ],
            [
             0.3,
             "#f1b6da"
            ],
            [
             0.4,
             "#fde0ef"
            ],
            [
             0.5,
             "#f7f7f7"
            ],
            [
             0.6,
             "#e6f5d0"
            ],
            [
             0.7,
             "#b8e186"
            ],
            [
             0.8,
             "#7fbc41"
            ],
            [
             0.9,
             "#4d9221"
            ],
            [
             1,
             "#276419"
            ]
           ],
           "sequential": [
            [
             0,
             "#0d0887"
            ],
            [
             0.1111111111111111,
             "#46039f"
            ],
            [
             0.2222222222222222,
             "#7201a8"
            ],
            [
             0.3333333333333333,
             "#9c179e"
            ],
            [
             0.4444444444444444,
             "#bd3786"
            ],
            [
             0.5555555555555556,
             "#d8576b"
            ],
            [
             0.6666666666666666,
             "#ed7953"
            ],
            [
             0.7777777777777778,
             "#fb9f3a"
            ],
            [
             0.8888888888888888,
             "#fdca26"
            ],
            [
             1,
             "#f0f921"
            ]
           ],
           "sequentialminus": [
            [
             0,
             "#0d0887"
            ],
            [
             0.1111111111111111,
             "#46039f"
            ],
            [
             0.2222222222222222,
             "#7201a8"
            ],
            [
             0.3333333333333333,
             "#9c179e"
            ],
            [
             0.4444444444444444,
             "#bd3786"
            ],
            [
             0.5555555555555556,
             "#d8576b"
            ],
            [
             0.6666666666666666,
             "#ed7953"
            ],
            [
             0.7777777777777778,
             "#fb9f3a"
            ],
            [
             0.8888888888888888,
             "#fdca26"
            ],
            [
             1,
             "#f0f921"
            ]
           ]
          },
          "colorway": [
           "#636efa",
           "#EF553B",
           "#00cc96",
           "#ab63fa",
           "#FFA15A",
           "#19d3f3",
           "#FF6692",
           "#B6E880",
           "#FF97FF",
           "#FECB52"
          ],
          "font": {
           "color": "#2a3f5f"
          },
          "geo": {
           "bgcolor": "white",
           "lakecolor": "white",
           "landcolor": "white",
           "showlakes": true,
           "showland": true,
           "subunitcolor": "#C8D4E3"
          },
          "hoverlabel": {
           "align": "left"
          },
          "hovermode": "closest",
          "mapbox": {
           "style": "light"
          },
          "paper_bgcolor": "white",
          "plot_bgcolor": "white",
          "polar": {
           "angularaxis": {
            "gridcolor": "#EBF0F8",
            "linecolor": "#EBF0F8",
            "ticks": ""
           },
           "bgcolor": "white",
           "radialaxis": {
            "gridcolor": "#EBF0F8",
            "linecolor": "#EBF0F8",
            "ticks": ""
           }
          },
          "scene": {
           "xaxis": {
            "backgroundcolor": "white",
            "gridcolor": "#DFE8F3",
            "gridwidth": 2,
            "linecolor": "#EBF0F8",
            "showbackground": true,
            "ticks": "",
            "zerolinecolor": "#EBF0F8"
           },
           "yaxis": {
            "backgroundcolor": "white",
            "gridcolor": "#DFE8F3",
            "gridwidth": 2,
            "linecolor": "#EBF0F8",
            "showbackground": true,
            "ticks": "",
            "zerolinecolor": "#EBF0F8"
           },
           "zaxis": {
            "backgroundcolor": "white",
            "gridcolor": "#DFE8F3",
            "gridwidth": 2,
            "linecolor": "#EBF0F8",
            "showbackground": true,
            "ticks": "",
            "zerolinecolor": "#EBF0F8"
           }
          },
          "shapedefaults": {
           "line": {
            "color": "#2a3f5f"
           }
          },
          "ternary": {
           "aaxis": {
            "gridcolor": "#DFE8F3",
            "linecolor": "#A2B1C6",
            "ticks": ""
           },
           "baxis": {
            "gridcolor": "#DFE8F3",
            "linecolor": "#A2B1C6",
            "ticks": ""
           },
           "bgcolor": "white",
           "caxis": {
            "gridcolor": "#DFE8F3",
            "linecolor": "#A2B1C6",
            "ticks": ""
           }
          },
          "title": {
           "x": 0.05
          },
          "xaxis": {
           "automargin": true,
           "gridcolor": "#EBF0F8",
           "linecolor": "#EBF0F8",
           "ticks": "",
           "title": {
            "standoff": 15
           },
           "zerolinecolor": "#EBF0F8",
           "zerolinewidth": 2
          },
          "yaxis": {
           "automargin": true,
           "gridcolor": "#EBF0F8",
           "linecolor": "#EBF0F8",
           "ticks": "",
           "title": {
            "standoff": 15
           },
           "zerolinecolor": "#EBF0F8",
           "zerolinewidth": 2
          }
         }
        },
        "title": {
         "text": "Anzahl der Social - Media - Posts mit der Kombination: Darreichungsform und Empfehlung"
        },
        "width": 756,
        "xaxis": {
         "anchor": "y",
         "domain": [
          0,
          1
         ],
         "title": {
          "text": "Anteil der Posts in %"
         }
        },
        "yaxis": {
         "anchor": "x",
         "automargin": true,
         "categoryarray": [
          "m",
          "r",
          "o",
          "f",
          "s",
          "g",
          "n",
          "u",
          "h",
          "c",
          "i",
          "e",
          "r",
          "r",
          "a",
          "D"
         ],
         "categoryorder": "array",
         "domain": [
          0,
          1
         ],
         "title": {
          "text": "Darreichungsform"
         }
        }
       }
      }
     },
     "metadata": {},
     "output_type": "display_data"
    }
   ],
   "source": [
    "\n",
    "def combine_subcategories(df, lense_1, lense_2):\n",
    "\n",
    "    # Generate combinations of unique subcategories across buying_channel and experts\n",
    "    combinations_list = list(product(lense_1, lense_2))\n",
    "\n",
    "    # Create new dataframe with combination pairs\n",
    "    combination_df = pd.DataFrame(combinations_list, columns=['Subcategory 1', 'Subcategory 2'])\n",
    "\n",
    "    # Initialize dictionary to store combination counts\n",
    "    combination_counts = {}\n",
    "    id_values = set()\n",
    "\n",
    "\n",
    "    # Iterate through combinations and count occurrences\n",
    "    for subcategory_1, subcategory_2 in combinations_list:\n",
    "        ids = sentiment_new_df.loc[\n",
    "            (sentiment_new_df['subcategory'] == subcategory_1) &\n",
    "            (sentiment_new_df['id'].isin(sentiment_new_df.loc[sentiment_new_df['subcategory'] == subcategory_2, 'id'])),\n",
    "            'id'\n",
    "        ].unique()\n",
    "        count = len(ids)\n",
    "        combination_counts[(subcategory_1, subcategory_2)] = count\n",
    "        id_values.update(ids)\n",
    "    \n",
    "\n",
    "    # Create new dataframe from combination counts\n",
    "    combination_counts_df = pd.DataFrame(combination_counts.items(), columns=['combination', 'count'])\n",
    "    combination_counts_df[['subcategory_1', 'subcategory_2']] = pd.DataFrame(combination_counts_df['combination'].tolist())\n",
    "    combination_counts_df = combination_counts_df.drop('combination', axis=1)\n",
    "\n",
    "    # Store the number of unique id values from which combinations were found\n",
    "    n_posts = len(id_values)\n",
    "\n",
    "    #print(combination_counts_df)\n",
    "\n",
    "    return combination_counts_df, n_posts\n",
    "\n",
    "\n",
    "\n",
    "\n",
    "\n",
    "def filter_and_plot(df, counts, cat1, cat2, save_name=\"img\"):\n",
    "    \n",
    "    fig = px.histogram(\n",
    "        df,\n",
    "        x=\"count\",\n",
    "        y=\"subcategory_1\",\n",
    "        color=\"subcategory_2\",\n",
    "        barnorm=\"percent\",\n",
    "        orientation=\"h\",\n",
    "        labels={\n",
    "            \"subcategory_1\": \"\",\n",
    "            \"subcategory_2\": \"\",\n",
    "            \"count\": cat2,\n",
    "        },\n",
    "        color_discrete_sequence=PERMEA_COLOR_WHEEL_11_STATISTICS,\n",
    "        text_auto=\".0f\",\n",
    "        title=f'Anzahl der Social - Media - Posts mit der Kombination: {cat1} und {cat2}',\n",
    "        template=\"plotly_white\",\n",
    "        category_orders={\n",
    "            \"subcategory_1\": cat1,\n",
    "            \"subcategory_2\": cat2\n",
    "        })\n",
    "    \n",
    "\n",
    "    fig.add_annotation(dict(font=dict(size=9),\n",
    "                        x=-0.25,\n",
    "                        y=-0.34,\n",
    "                        showarrow=False,\n",
    "                        #text=f'Based on {counts} Social Media Conversations from publicy available forums mentioning {cat1} and {cat2} <br> Germany, January 2013 – April 2023.',\n",
    "                        text=f\"Basierend auf {counts} Social-Media-Konversationen aus öffentlich zugänglichen Foren <br>Deutschland, Januar 2013 – April 2023.\",                       \n",
    "                        textangle=0,\n",
    "                        xanchor='left',\n",
    "                        xref=\"paper\",\n",
    "                        yref=\"paper\",\n",
    "                        align=\"left\"\n",
    "))\n",
    "    \n",
    "\n",
    "    fig.update_layout(\n",
    "    template='plotly_white',\n",
    "    xaxis_title='Anteil der Posts in %',\n",
    "    yaxis_title=cat1,\n",
    "    #yaxis_range=[0, 1.1 * df['Count'].max()],\n",
    "    #xaxis=dict(\n",
    "        #tickmode='linear',\n",
    "        #dtick=1,\n",
    "        #automargin=True\n",
    "    #),\n",
    "    yaxis={'automargin': True},\n",
    "    #margin=dict(l=130, r=150, b=10, pad=30),\n",
    "    autosize=False,\n",
    "    width=20 * 37.8,  # Convert 20 cm to inches (1 cm = 37.8 inches)\n",
    "    height=10 * 37.8,  # Convert 9 cm to inches (1 cm = 37.8 inches)\n",
    "    legend=dict(font=dict(size=16))\n",
    "    )\n",
    "    \n",
    "    \n",
    "        \n",
    "    #fig.write_image(save_name+\".png\")\n",
    "    \n",
    "    fig.show()\n",
    "    \n",
    "\n",
    "\n",
    "df, counts= combine_subcategories(sentiment_new_df, mode_of_administration, advice_from)\n",
    "filter_and_plot(df, counts, \"Darreichungsform\", \"Empfehlung\", save_name=\"mode_of_administration_advice_from\")\n",
    "\n",
    "\n",
    "\n"
   ]
  }
 ],
 "metadata": {
  "kernelspec": {
   "display_name": ".venv",
   "language": "python",
   "name": "python3"
  },
  "language_info": {
   "codemirror_mode": {
    "name": "ipython",
    "version": 3
   },
   "file_extension": ".py",
   "mimetype": "text/x-python",
   "name": "python",
   "nbconvert_exporter": "python",
   "pygments_lexer": "ipython3",
   "version": "3.10.11"
  },
  "orig_nbformat": 4
 },
 "nbformat": 4,
 "nbformat_minor": 2
}

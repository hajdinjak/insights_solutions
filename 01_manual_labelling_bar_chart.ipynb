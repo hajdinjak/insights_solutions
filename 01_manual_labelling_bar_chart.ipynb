{
 "cells": [
  {
   "cell_type": "code",
   "execution_count": 46,
   "metadata": {},
   "outputs": [],
   "source": [
    "import pandas as pd\n",
    "import plotly.express as px\n",
    "# this helps us get the theme settings\n",
    "import plotly.io as plt_io\n",
    "pd.set_option('display.max_rows', 500)\n",
    "pd.set_option('display.max_columns', 500)\n",
    "pd.set_option('display.width', 1000)\n",
    "\n",
    "import matplotlib.pyplot as plt\n",
    "#from pywaffle import Waffle\n",
    "\n",
    "import matplotlib.pyplot as plt\n",
    "import numpy as np\n"
   ]
  },
  {
   "cell_type": "code",
   "execution_count": 77,
   "metadata": {},
   "outputs": [],
   "source": [
    "# set global style settings\n",
    "# https://plotly.com/python/templates/\n",
    "\n",
    "plt_io.templates[\"custom_white\"] = plt_io.templates['plotly_white']\n",
    "\n",
    "# TODO: update to use permea colors\n",
    "# https://stackoverflow.com/questions/61406968/change-colors-in-python-dash-plotly-theme\n",
    "PERMEA_BLUE = ['#000D2E', '#0087B6', '#00BAD8', '#4EE3F2']\n",
    "\n",
    "# PERMEA_STYLES = \n",
    "\n",
    "TEMPLATE = 'custom_white'\n",
    "#plt_io.templates['custom_white']['layout']\n",
    "\n",
    "PERMEA_NEW_CHART_COLOR_Main_MEDICATION = \"rgb(54, 112, 226)\"\n",
    "PERMEA_NEW_CHART_COLOR_Secondary_MEDICATION = \"rgb(54, 169, 226)\"\n",
    "PERMEA_NEW_CHART_COLOR_SUB_MEDICATIONS = [\n",
    "    \"rgb(54, 169, 226)\",\n",
    "    \"rgb(54, 226, 169)\",\n",
    "    \"rgb(112, 54, 226)\",\n",
    "    \"rgb(226, 54, 169)\",\n",
    "    \"rgb(54, 226, 226)\",\n",
    "]\n",
    "PERMEA_COLOR_WHEEL_5_COMMERCIAL = [\n",
    "    \"rgb(112, 54, 226)\",\n",
    "    \"rgb(226, 54, 169)\",\n",
    "    \"rgb(54, 112, 226)\",\n",
    "    \"rgb(54, 169, 226)\",\n",
    "    \"rgb(54, 226, 169)\",\n",
    "]\n",
    "PERMEA_COLOR_WHEEL_5_STATISTICS = [\n",
    "    \"rgb(54, 112, 226)\",\n",
    "    \"rgb(54, 169, 226)\",\n",
    "    \"rgb(54, 226, 169)\",\n",
    "    \"rgb(112, 54, 226)\",\n",
    "    \"rgb(226, 54, 169)\",\n",
    "]\n",
    "\n",
    "PERMEA_COLOR_WHEEL_11_STATISTICS = [\n",
    "    \"rgb(54, 112, 226)\",\n",
    "    \"rgb(54, 169, 226)\",\n",
    "    \"rgb(54, 226, 169)\",\n",
    "    \"rgb(112, 54, 226)\",\n",
    "    \"rgb(226, 54, 169)\",\n",
    "    \"rgb(169, 54, 226)\",\n",
    "    \"rgb(169, 226, 54)\",\n",
    "    \"rgb(204, 153, 255)\",\n",
    "    \"rgb(226, 226, 54)\",\n",
    "    \"rgb(54, 226, 112)\",\n",
    "    \"rgb(236, 219, 150)\"\n",
    "]\n",
    "\n",
    "PERMEA_COLOR_WHEEL_3_STATISTICS = [\n",
    "    \"rgb(155, 253, 204)\", #light green\n",
    "    \"rgb(255, 183, 181)\", #light red\n",
    "    \"rgb(224, 224, 224)\", #light grey\n",
    "\n",
    "\n",
    "\n",
    "]\n",
    "\n",
    "PERMEA_COLOR_WHEEL_11 = [\n",
    "    \"rgb(54, 112, 226)\",\n",
    "    \"rgb(54, 169, 226)\",\n",
    "    \"rgb(54, 226, 226)\",\n",
    "    \"rgb(54, 226, 169)\",\n",
    "    \"rgb(54, 226, 112)\",\n",
    "    \"rgb(54, 226, 54)\",\n",
    "    \"rgb(54, 54, 226)\",\n",
    "    \"rgb(112, 54, 226)\",\n",
    "    \"rgb(169, 54, 226)\",\n",
    "    \"rgb(226, 54, 226)\",\n",
    "    \"rgb(226, 54, 169)\",\n",
    "]\n",
    "PERMEA_COLOR_WHEEL_11_LIGHT = [\n",
    "    \"rgb(143, 175, 239)\",\n",
    "    \"rgb(143, 207, 239)\",\n",
    "    \"rgb(143, 239, 239)\",\n",
    "    \"rgb(143, 239, 207)\",\n",
    "    \"rgb(143, 239, 175)\",\n",
    "    \"rgb(143, 239, 143)\",\n",
    "    \"rgb(143, 143, 239)\",\n",
    "    \"rgb(204, 153, 255)\",\n",
    "    \"rgb(207, 143, 239)\",\n",
    "    \"rgb(239, 143, 239)\",\n",
    "    \"rgb(239, 143, 207)\",\n",
    "]\n",
    "PERMEA_BLUE_COLORSCALE = [\n",
    "    \"#005FA8\",\n",
    "    \"#2A7AB6\",\n",
    "    \"#5594C5\",\n",
    "    \"#80AFD3\",\n",
    "    \"#AACAE2\",\n",
    "    \"#D5E4F1\",\n",
    "]\n",
    "\n",
    "PERMEA_LINE_CHART = [\n",
    "    \"#009DE6\",\n",
    "    \"#D68100\",\n",
    "    \"#F44336\",\n",
    "    \"#6FA136\",\n",
    "    \"#006A6F\",\n",
    "    \"#005FA8\",\n",
    "    \"#9C27B0\",\n",
    "]\n"
   ]
  },
  {
   "cell_type": "code",
   "execution_count": 48,
   "metadata": {},
   "outputs": [
    {
     "data": {
      "text/html": [
       "<div>\n",
       "<style scoped>\n",
       "    .dataframe tbody tr th:only-of-type {\n",
       "        vertical-align: middle;\n",
       "    }\n",
       "\n",
       "    .dataframe tbody tr th {\n",
       "        vertical-align: top;\n",
       "    }\n",
       "\n",
       "    .dataframe thead th {\n",
       "        text-align: right;\n",
       "    }\n",
       "</style>\n",
       "<table border=\"1\" class=\"dataframe\">\n",
       "  <thead>\n",
       "    <tr style=\"text-align: right;\">\n",
       "      <th></th>\n",
       "      <th>text</th>\n",
       "      <th>post_id</th>\n",
       "      <th>timestamp</th>\n",
       "      <th>method_changed_1</th>\n",
       "      <th>method_changed_2</th>\n",
       "      <th>combined_use_of_medication_question</th>\n",
       "      <th>post_relevant</th>\n",
       "      <th>topic_1</th>\n",
       "      <th>topic_1_product_question</th>\n",
       "      <th>product_1</th>\n",
       "      <th>topic_1_product_purchase_question</th>\n",
       "      <th>topic_1_product_helped_answer</th>\n",
       "      <th>second_topic</th>\n",
       "      <th>combined_use_of_medication_answer</th>\n",
       "      <th>topic_1_recurrent_question</th>\n",
       "      <th>topic_1_recurrent_answer</th>\n",
       "      <th>topic_1_product_influecned_positivley</th>\n",
       "      <th>method_from_1</th>\n",
       "      <th>method_to_1</th>\n",
       "      <th>topic_1_product_not_helped_answer</th>\n",
       "      <th>transition_reasons_against_old_1</th>\n",
       "      <th>topic_1_product_influenced_negatively</th>\n",
       "      <th>topic_2</th>\n",
       "      <th>topic_2_recurrent_question</th>\n",
       "      <th>topic_2_recurrent_answer</th>\n",
       "      <th>topic_2_product_question</th>\n",
       "      <th>product_2</th>\n",
       "      <th>topic_2_product_purchase_question</th>\n",
       "      <th>topic_2_product_helped_answer</th>\n",
       "      <th>topic_2_product_not_helped_answer</th>\n",
       "      <th>product_1_mode_influence_answer</th>\n",
       "      <th>product_1_dosage_answer</th>\n",
       "      <th>product_1_drug_approval_answer</th>\n",
       "      <th>method_from_2</th>\n",
       "      <th>method_to_2</th>\n",
       "      <th>transition_reasons_against_old_2</th>\n",
       "      <th>method_to_other_2</th>\n",
       "      <th>method_to_other_1</th>\n",
       "      <th>product_1_mode_answer</th>\n",
       "      <th>product_1_dosage_influence_answer</th>\n",
       "      <th>product_2_dosage_answer</th>\n",
       "      <th>product_2_dosage_influence_answer</th>\n",
       "      <th>product_2_mode_answer</th>\n",
       "      <th>product_2_mode_influence_answer</th>\n",
       "      <th>topic_2_product_influecned_positivley</th>\n",
       "      <th>product_2_drug_approval_answer</th>\n",
       "      <th>topic_2_product_influenced_negatively</th>\n",
       "      <th>method_from_other_1</th>\n",
       "      <th>method_from_other_2</th>\n",
       "    </tr>\n",
       "  </thead>\n",
       "  <tbody>\n",
       "    <tr>\n",
       "      <th>0</th>\n",
       "      <td>Hallo Zusammen, ich bin so froh auf dieses For...</td>\n",
       "      <td>5fc2811a8b5d70fd5a7f1c7a0c8c4bcb</td>\n",
       "      <td>2020-03-30 19:01:00+00:00</td>\n",
       "      <td>no</td>\n",
       "      <td>no</td>\n",
       "      <td>yes</td>\n",
       "      <td>yes</td>\n",
       "      <td>menstrual_symptoms</td>\n",
       "      <td>yes</td>\n",
       "      <td>[[BUSCOPAN]]</td>\n",
       "      <td>yes</td>\n",
       "      <td>yes</td>\n",
       "      <td>no</td>\n",
       "      <td>[[BUSCOPAN], [Others]]</td>\n",
       "      <td>None</td>\n",
       "      <td>None</td>\n",
       "      <td>None</td>\n",
       "      <td>None</td>\n",
       "      <td>None</td>\n",
       "      <td>None</td>\n",
       "      <td>None</td>\n",
       "      <td>None</td>\n",
       "      <td>None</td>\n",
       "      <td>None</td>\n",
       "      <td>None</td>\n",
       "      <td>None</td>\n",
       "      <td>None</td>\n",
       "      <td>None</td>\n",
       "      <td>None</td>\n",
       "      <td>None</td>\n",
       "      <td>None</td>\n",
       "      <td>None</td>\n",
       "      <td>None</td>\n",
       "      <td>None</td>\n",
       "      <td>None</td>\n",
       "      <td>None</td>\n",
       "      <td>None</td>\n",
       "      <td>None</td>\n",
       "      <td>None</td>\n",
       "      <td>None</td>\n",
       "      <td>None</td>\n",
       "      <td>None</td>\n",
       "      <td>None</td>\n",
       "      <td>None</td>\n",
       "      <td>None</td>\n",
       "      <td>None</td>\n",
       "      <td>None</td>\n",
       "      <td>None</td>\n",
       "      <td>None</td>\n",
       "    </tr>\n",
       "    <tr>\n",
       "      <th>1</th>\n",
       "      <td>Hallo ihr Lieben, seit Jänner habe ich 11kg mi...</td>\n",
       "      <td>ecf6ae6a0678fe089fdcf89ddd51d795</td>\n",
       "      <td>2016-06-20 21:54:00+00:00</td>\n",
       "      <td>no</td>\n",
       "      <td>no</td>\n",
       "      <td>no</td>\n",
       "      <td>no</td>\n",
       "      <td>None</td>\n",
       "      <td>None</td>\n",
       "      <td>None</td>\n",
       "      <td>None</td>\n",
       "      <td>None</td>\n",
       "      <td>None</td>\n",
       "      <td>None</td>\n",
       "      <td>None</td>\n",
       "      <td>None</td>\n",
       "      <td>None</td>\n",
       "      <td>None</td>\n",
       "      <td>None</td>\n",
       "      <td>None</td>\n",
       "      <td>None</td>\n",
       "      <td>None</td>\n",
       "      <td>None</td>\n",
       "      <td>None</td>\n",
       "      <td>None</td>\n",
       "      <td>None</td>\n",
       "      <td>None</td>\n",
       "      <td>None</td>\n",
       "      <td>None</td>\n",
       "      <td>None</td>\n",
       "      <td>None</td>\n",
       "      <td>None</td>\n",
       "      <td>None</td>\n",
       "      <td>None</td>\n",
       "      <td>None</td>\n",
       "      <td>None</td>\n",
       "      <td>None</td>\n",
       "      <td>None</td>\n",
       "      <td>None</td>\n",
       "      <td>None</td>\n",
       "      <td>None</td>\n",
       "      <td>None</td>\n",
       "      <td>None</td>\n",
       "      <td>None</td>\n",
       "      <td>None</td>\n",
       "      <td>None</td>\n",
       "      <td>None</td>\n",
       "      <td>None</td>\n",
       "      <td>None</td>\n",
       "    </tr>\n",
       "    <tr>\n",
       "      <th>2</th>\n",
       "      <td>Menstruationsbeschwerden -Schmerzmittel ? - Un...</td>\n",
       "      <td>be991964ee5b4ec6cac59186f10671db</td>\n",
       "      <td>2016-11-24 14:42:00+00:00</td>\n",
       "      <td>no</td>\n",
       "      <td>no</td>\n",
       "      <td>no</td>\n",
       "      <td>yes</td>\n",
       "      <td>menstrual_symptoms</td>\n",
       "      <td>yes</td>\n",
       "      <td>[[BUSCOPAN]]</td>\n",
       "      <td>yes</td>\n",
       "      <td>yes</td>\n",
       "      <td>no</td>\n",
       "      <td>None</td>\n",
       "      <td>None</td>\n",
       "      <td>None</td>\n",
       "      <td>None</td>\n",
       "      <td>None</td>\n",
       "      <td>None</td>\n",
       "      <td>None</td>\n",
       "      <td>None</td>\n",
       "      <td>None</td>\n",
       "      <td>None</td>\n",
       "      <td>None</td>\n",
       "      <td>None</td>\n",
       "      <td>None</td>\n",
       "      <td>None</td>\n",
       "      <td>None</td>\n",
       "      <td>None</td>\n",
       "      <td>None</td>\n",
       "      <td>None</td>\n",
       "      <td>None</td>\n",
       "      <td>None</td>\n",
       "      <td>None</td>\n",
       "      <td>None</td>\n",
       "      <td>None</td>\n",
       "      <td>None</td>\n",
       "      <td>None</td>\n",
       "      <td>None</td>\n",
       "      <td>None</td>\n",
       "      <td>None</td>\n",
       "      <td>None</td>\n",
       "      <td>None</td>\n",
       "      <td>None</td>\n",
       "      <td>None</td>\n",
       "      <td>None</td>\n",
       "      <td>None</td>\n",
       "      <td>None</td>\n",
       "      <td>None</td>\n",
       "    </tr>\n",
       "    <tr>\n",
       "      <th>3</th>\n",
       "      <td>Re: Jucken, Brennen, Vaginalinfektion - aber F...</td>\n",
       "      <td>1639dcc6cdc496da1a6b664a47e545ea</td>\n",
       "      <td>2022-10-31 08:48:00+00:00</td>\n",
       "      <td>no</td>\n",
       "      <td>no</td>\n",
       "      <td>yes</td>\n",
       "      <td>yes</td>\n",
       "      <td>yeast_infection</td>\n",
       "      <td>yes</td>\n",
       "      <td>[[FENIZOLAN], [Others]]</td>\n",
       "      <td>yes</td>\n",
       "      <td>yes</td>\n",
       "      <td>no</td>\n",
       "      <td>[[FENIZOLAN], [Others]]</td>\n",
       "      <td>yes</td>\n",
       "      <td>several_times_unclear</td>\n",
       "      <td>None</td>\n",
       "      <td>None</td>\n",
       "      <td>None</td>\n",
       "      <td>None</td>\n",
       "      <td>None</td>\n",
       "      <td>None</td>\n",
       "      <td>None</td>\n",
       "      <td>None</td>\n",
       "      <td>None</td>\n",
       "      <td>None</td>\n",
       "      <td>None</td>\n",
       "      <td>None</td>\n",
       "      <td>None</td>\n",
       "      <td>None</td>\n",
       "      <td>None</td>\n",
       "      <td>None</td>\n",
       "      <td>None</td>\n",
       "      <td>None</td>\n",
       "      <td>None</td>\n",
       "      <td>None</td>\n",
       "      <td>None</td>\n",
       "      <td>None</td>\n",
       "      <td>None</td>\n",
       "      <td>None</td>\n",
       "      <td>None</td>\n",
       "      <td>None</td>\n",
       "      <td>None</td>\n",
       "      <td>None</td>\n",
       "      <td>None</td>\n",
       "      <td>None</td>\n",
       "      <td>None</td>\n",
       "      <td>None</td>\n",
       "      <td>None</td>\n",
       "    </tr>\n",
       "    <tr>\n",
       "      <th>4</th>\n",
       "      <td>Wie alt bist du? 15 Wie alt warst du bei deine...</td>\n",
       "      <td>e0cc5870bb20d6b807b683ad6f46c50c</td>\n",
       "      <td>2012-10-01 20:12:00+00:00</td>\n",
       "      <td>no</td>\n",
       "      <td>no</td>\n",
       "      <td>no</td>\n",
       "      <td>yes</td>\n",
       "      <td>menstrual_symptoms</td>\n",
       "      <td>yes</td>\n",
       "      <td>[[BUSCOPAN]]</td>\n",
       "      <td>yes</td>\n",
       "      <td>yes</td>\n",
       "      <td>no</td>\n",
       "      <td>None</td>\n",
       "      <td>None</td>\n",
       "      <td>None</td>\n",
       "      <td>None</td>\n",
       "      <td>None</td>\n",
       "      <td>None</td>\n",
       "      <td>None</td>\n",
       "      <td>None</td>\n",
       "      <td>None</td>\n",
       "      <td>None</td>\n",
       "      <td>None</td>\n",
       "      <td>None</td>\n",
       "      <td>None</td>\n",
       "      <td>None</td>\n",
       "      <td>None</td>\n",
       "      <td>None</td>\n",
       "      <td>None</td>\n",
       "      <td>None</td>\n",
       "      <td>None</td>\n",
       "      <td>None</td>\n",
       "      <td>None</td>\n",
       "      <td>None</td>\n",
       "      <td>None</td>\n",
       "      <td>None</td>\n",
       "      <td>None</td>\n",
       "      <td>None</td>\n",
       "      <td>None</td>\n",
       "      <td>None</td>\n",
       "      <td>None</td>\n",
       "      <td>None</td>\n",
       "      <td>None</td>\n",
       "      <td>None</td>\n",
       "      <td>None</td>\n",
       "      <td>None</td>\n",
       "      <td>None</td>\n",
       "      <td>None</td>\n",
       "    </tr>\n",
       "    <tr>\n",
       "      <th>5</th>\n",
       "      <td>Hi Ich habe jetzt schon seit 5 Tagen heftiges ...</td>\n",
       "      <td>03b4c9e6e3eb661c152842cbff35b728</td>\n",
       "      <td>2014-07-17 09:32:00+00:00</td>\n",
       "      <td>no</td>\n",
       "      <td>no</td>\n",
       "      <td>no</td>\n",
       "      <td>yes</td>\n",
       "      <td>yeast_infection</td>\n",
       "      <td>yes</td>\n",
       "      <td>[[CANESTEN Gyn]]</td>\n",
       "      <td>yes</td>\n",
       "      <td>no</td>\n",
       "      <td>no</td>\n",
       "      <td>None</td>\n",
       "      <td>no</td>\n",
       "      <td>None</td>\n",
       "      <td>None</td>\n",
       "      <td>None</td>\n",
       "      <td>None</td>\n",
       "      <td>None</td>\n",
       "      <td>None</td>\n",
       "      <td>None</td>\n",
       "      <td>None</td>\n",
       "      <td>None</td>\n",
       "      <td>None</td>\n",
       "      <td>None</td>\n",
       "      <td>None</td>\n",
       "      <td>None</td>\n",
       "      <td>None</td>\n",
       "      <td>None</td>\n",
       "      <td>None</td>\n",
       "      <td>None</td>\n",
       "      <td>None</td>\n",
       "      <td>None</td>\n",
       "      <td>None</td>\n",
       "      <td>None</td>\n",
       "      <td>None</td>\n",
       "      <td>None</td>\n",
       "      <td>None</td>\n",
       "      <td>None</td>\n",
       "      <td>None</td>\n",
       "      <td>None</td>\n",
       "      <td>None</td>\n",
       "      <td>None</td>\n",
       "      <td>None</td>\n",
       "      <td>None</td>\n",
       "      <td>None</td>\n",
       "      <td>None</td>\n",
       "      <td>None</td>\n",
       "    </tr>\n",
       "    <tr>\n",
       "      <th>6</th>\n",
       "      <td>Danke dir erstmal. Aber so ganz blick ich das ...</td>\n",
       "      <td>47734f901dd0c8c3cf1acafdcfee9d81</td>\n",
       "      <td>2022-01-20 17:19:00+00:00</td>\n",
       "      <td>no</td>\n",
       "      <td>no</td>\n",
       "      <td>no</td>\n",
       "      <td>yes</td>\n",
       "      <td>yeast_infection</td>\n",
       "      <td>yes</td>\n",
       "      <td>[[VAGISAN], [Kadefungin]]</td>\n",
       "      <td>yes</td>\n",
       "      <td>yes</td>\n",
       "      <td>no</td>\n",
       "      <td>None</td>\n",
       "      <td>no</td>\n",
       "      <td>None</td>\n",
       "      <td>None</td>\n",
       "      <td>None</td>\n",
       "      <td>None</td>\n",
       "      <td>None</td>\n",
       "      <td>None</td>\n",
       "      <td>None</td>\n",
       "      <td>None</td>\n",
       "      <td>None</td>\n",
       "      <td>None</td>\n",
       "      <td>None</td>\n",
       "      <td>None</td>\n",
       "      <td>None</td>\n",
       "      <td>None</td>\n",
       "      <td>None</td>\n",
       "      <td>None</td>\n",
       "      <td>None</td>\n",
       "      <td>None</td>\n",
       "      <td>None</td>\n",
       "      <td>None</td>\n",
       "      <td>None</td>\n",
       "      <td>None</td>\n",
       "      <td>None</td>\n",
       "      <td>None</td>\n",
       "      <td>None</td>\n",
       "      <td>None</td>\n",
       "      <td>None</td>\n",
       "      <td>None</td>\n",
       "      <td>None</td>\n",
       "      <td>None</td>\n",
       "      <td>None</td>\n",
       "      <td>None</td>\n",
       "      <td>None</td>\n",
       "      <td>None</td>\n",
       "    </tr>\n",
       "    <tr>\n",
       "      <th>7</th>\n",
       "      <td>Hi ich vermute, dass ich einen Scheidenpilz ha...</td>\n",
       "      <td>12dfc63260e5d3723f0d9e6e12c27662</td>\n",
       "      <td>2015-06-23 14:46:04+00:00</td>\n",
       "      <td>yes</td>\n",
       "      <td>no</td>\n",
       "      <td>no</td>\n",
       "      <td>yes</td>\n",
       "      <td>yeast_infection</td>\n",
       "      <td>yes</td>\n",
       "      <td>[[CANIFUG ]]</td>\n",
       "      <td>yes</td>\n",
       "      <td>no</td>\n",
       "      <td>no</td>\n",
       "      <td>None</td>\n",
       "      <td>yes</td>\n",
       "      <td>several_times_unclear</td>\n",
       "      <td>[[Doctor]]</td>\n",
       "      <td>[[CANIFUG ]]</td>\n",
       "      <td>[[LACTOFEM FEUCHTCREME]]</td>\n",
       "      <td>unknown</td>\n",
       "      <td>None</td>\n",
       "      <td>None</td>\n",
       "      <td>None</td>\n",
       "      <td>None</td>\n",
       "      <td>None</td>\n",
       "      <td>None</td>\n",
       "      <td>None</td>\n",
       "      <td>None</td>\n",
       "      <td>None</td>\n",
       "      <td>None</td>\n",
       "      <td>None</td>\n",
       "      <td>None</td>\n",
       "      <td>None</td>\n",
       "      <td>None</td>\n",
       "      <td>None</td>\n",
       "      <td>None</td>\n",
       "      <td>None</td>\n",
       "      <td>None</td>\n",
       "      <td>None</td>\n",
       "      <td>None</td>\n",
       "      <td>None</td>\n",
       "      <td>None</td>\n",
       "      <td>None</td>\n",
       "      <td>None</td>\n",
       "      <td>None</td>\n",
       "      <td>None</td>\n",
       "      <td>None</td>\n",
       "      <td>None</td>\n",
       "      <td>None</td>\n",
       "    </tr>\n",
       "    <tr>\n",
       "      <th>8</th>\n",
       "      <td>Guten Abend, habe seit Beginn der Schwangersch...</td>\n",
       "      <td>06788791eb9d14c312c23b0c47325ca8</td>\n",
       "      <td>2012-02-05 20:45:00+00:00</td>\n",
       "      <td>yes</td>\n",
       "      <td>no</td>\n",
       "      <td>no</td>\n",
       "      <td>yes</td>\n",
       "      <td>yeast_infection</td>\n",
       "      <td>yes</td>\n",
       "      <td>[[BIOFANAL]]</td>\n",
       "      <td>yes</td>\n",
       "      <td>no</td>\n",
       "      <td>yes</td>\n",
       "      <td>None</td>\n",
       "      <td>yes</td>\n",
       "      <td>several_times_unclear</td>\n",
       "      <td>None</td>\n",
       "      <td>[[BIOFANAL]]</td>\n",
       "      <td>[[Kadefungin]]</td>\n",
       "      <td>other</td>\n",
       "      <td>[[Wirkverlust/Resistenzbildung ]]</td>\n",
       "      <td>[[Doctor]]</td>\n",
       "      <td>yeast_infection</td>\n",
       "      <td>yes</td>\n",
       "      <td>several_times_unclear</td>\n",
       "      <td>yes</td>\n",
       "      <td>[[Kadefungin]]</td>\n",
       "      <td>yes</td>\n",
       "      <td>no</td>\n",
       "      <td>unknown</td>\n",
       "      <td>None</td>\n",
       "      <td>None</td>\n",
       "      <td>None</td>\n",
       "      <td>None</td>\n",
       "      <td>None</td>\n",
       "      <td>None</td>\n",
       "      <td>None</td>\n",
       "      <td>None</td>\n",
       "      <td>None</td>\n",
       "      <td>None</td>\n",
       "      <td>None</td>\n",
       "      <td>None</td>\n",
       "      <td>None</td>\n",
       "      <td>None</td>\n",
       "      <td>None</td>\n",
       "      <td>None</td>\n",
       "      <td>None</td>\n",
       "      <td>None</td>\n",
       "      <td>None</td>\n",
       "    </tr>\n",
       "    <tr>\n",
       "      <th>9</th>\n",
       "      <td>Probiert sonst mal deumavan aus der Apotheke a...</td>\n",
       "      <td>f3da458fa66fa33da5083ff4fa098fe8</td>\n",
       "      <td>2020-11-15 09:06:00+00:00</td>\n",
       "      <td>no</td>\n",
       "      <td>no</td>\n",
       "      <td>no</td>\n",
       "      <td>no</td>\n",
       "      <td>None</td>\n",
       "      <td>None</td>\n",
       "      <td>None</td>\n",
       "      <td>None</td>\n",
       "      <td>None</td>\n",
       "      <td>None</td>\n",
       "      <td>None</td>\n",
       "      <td>None</td>\n",
       "      <td>None</td>\n",
       "      <td>None</td>\n",
       "      <td>None</td>\n",
       "      <td>None</td>\n",
       "      <td>None</td>\n",
       "      <td>None</td>\n",
       "      <td>None</td>\n",
       "      <td>None</td>\n",
       "      <td>None</td>\n",
       "      <td>None</td>\n",
       "      <td>None</td>\n",
       "      <td>None</td>\n",
       "      <td>None</td>\n",
       "      <td>None</td>\n",
       "      <td>None</td>\n",
       "      <td>None</td>\n",
       "      <td>None</td>\n",
       "      <td>None</td>\n",
       "      <td>None</td>\n",
       "      <td>None</td>\n",
       "      <td>None</td>\n",
       "      <td>None</td>\n",
       "      <td>None</td>\n",
       "      <td>None</td>\n",
       "      <td>None</td>\n",
       "      <td>None</td>\n",
       "      <td>None</td>\n",
       "      <td>None</td>\n",
       "      <td>None</td>\n",
       "      <td>None</td>\n",
       "      <td>None</td>\n",
       "      <td>None</td>\n",
       "      <td>None</td>\n",
       "      <td>None</td>\n",
       "    </tr>\n",
       "  </tbody>\n",
       "</table>\n",
       "</div>"
      ],
      "text/plain": [
       "                                                text                           post_id                  timestamp method_changed_1 method_changed_2 combined_use_of_medication_question post_relevant             topic_1 topic_1_product_question                  product_1 topic_1_product_purchase_question topic_1_product_helped_answer second_topic combined_use_of_medication_answer topic_1_recurrent_question topic_1_recurrent_answer topic_1_product_influecned_positivley method_from_1               method_to_1 topic_1_product_not_helped_answer   transition_reasons_against_old_1 topic_1_product_influenced_negatively          topic_2 topic_2_recurrent_question topic_2_recurrent_answer topic_2_product_question       product_2 topic_2_product_purchase_question topic_2_product_helped_answer topic_2_product_not_helped_answer product_1_mode_influence_answer product_1_dosage_answer product_1_drug_approval_answer method_from_2 method_to_2 transition_reasons_against_old_2 method_to_other_2   \n",
       "0  Hallo Zusammen, ich bin so froh auf dieses For...  5fc2811a8b5d70fd5a7f1c7a0c8c4bcb  2020-03-30 19:01:00+00:00               no               no                                 yes           yes  menstrual_symptoms                      yes               [[BUSCOPAN]]                               yes                           yes           no            [[BUSCOPAN], [Others]]                       None                     None                                  None          None                      None                              None                               None                                  None             None                       None                     None                     None            None                              None                          None                              None                            None                    None                           None          None        None                             None              None  \\\n",
       "1  Hallo ihr Lieben, seit Jänner habe ich 11kg mi...  ecf6ae6a0678fe089fdcf89ddd51d795  2016-06-20 21:54:00+00:00               no               no                                  no            no                None                     None                       None                              None                          None         None                              None                       None                     None                                  None          None                      None                              None                               None                                  None             None                       None                     None                     None            None                              None                          None                              None                            None                    None                           None          None        None                             None              None   \n",
       "2  Menstruationsbeschwerden -Schmerzmittel ? - Un...  be991964ee5b4ec6cac59186f10671db  2016-11-24 14:42:00+00:00               no               no                                  no           yes  menstrual_symptoms                      yes               [[BUSCOPAN]]                               yes                           yes           no                              None                       None                     None                                  None          None                      None                              None                               None                                  None             None                       None                     None                     None            None                              None                          None                              None                            None                    None                           None          None        None                             None              None   \n",
       "3  Re: Jucken, Brennen, Vaginalinfektion - aber F...  1639dcc6cdc496da1a6b664a47e545ea  2022-10-31 08:48:00+00:00               no               no                                 yes           yes     yeast_infection                      yes    [[FENIZOLAN], [Others]]                               yes                           yes           no           [[FENIZOLAN], [Others]]                        yes    several_times_unclear                                  None          None                      None                              None                               None                                  None             None                       None                     None                     None            None                              None                          None                              None                            None                    None                           None          None        None                             None              None   \n",
       "4  Wie alt bist du? 15 Wie alt warst du bei deine...  e0cc5870bb20d6b807b683ad6f46c50c  2012-10-01 20:12:00+00:00               no               no                                  no           yes  menstrual_symptoms                      yes               [[BUSCOPAN]]                               yes                           yes           no                              None                       None                     None                                  None          None                      None                              None                               None                                  None             None                       None                     None                     None            None                              None                          None                              None                            None                    None                           None          None        None                             None              None   \n",
       "5  Hi Ich habe jetzt schon seit 5 Tagen heftiges ...  03b4c9e6e3eb661c152842cbff35b728  2014-07-17 09:32:00+00:00               no               no                                  no           yes     yeast_infection                      yes           [[CANESTEN Gyn]]                               yes                            no           no                              None                         no                     None                                  None          None                      None                              None                               None                                  None             None                       None                     None                     None            None                              None                          None                              None                            None                    None                           None          None        None                             None              None   \n",
       "6  Danke dir erstmal. Aber so ganz blick ich das ...  47734f901dd0c8c3cf1acafdcfee9d81  2022-01-20 17:19:00+00:00               no               no                                  no           yes     yeast_infection                      yes  [[VAGISAN], [Kadefungin]]                               yes                           yes           no                              None                         no                     None                                  None          None                      None                              None                               None                                  None             None                       None                     None                     None            None                              None                          None                              None                            None                    None                           None          None        None                             None              None   \n",
       "7  Hi ich vermute, dass ich einen Scheidenpilz ha...  12dfc63260e5d3723f0d9e6e12c27662  2015-06-23 14:46:04+00:00              yes               no                                  no           yes     yeast_infection                      yes               [[CANIFUG ]]                               yes                            no           no                              None                        yes    several_times_unclear                            [[Doctor]]  [[CANIFUG ]]  [[LACTOFEM FEUCHTCREME]]                           unknown                               None                                  None             None                       None                     None                     None            None                              None                          None                              None                            None                    None                           None          None        None                             None              None   \n",
       "8  Guten Abend, habe seit Beginn der Schwangersch...  06788791eb9d14c312c23b0c47325ca8  2012-02-05 20:45:00+00:00              yes               no                                  no           yes     yeast_infection                      yes               [[BIOFANAL]]                               yes                            no          yes                              None                        yes    several_times_unclear                                  None  [[BIOFANAL]]            [[Kadefungin]]                             other  [[Wirkverlust/Resistenzbildung ]]                            [[Doctor]]  yeast_infection                        yes    several_times_unclear                      yes  [[Kadefungin]]                               yes                            no                           unknown                            None                    None                           None          None        None                             None              None   \n",
       "9  Probiert sonst mal deumavan aus der Apotheke a...  f3da458fa66fa33da5083ff4fa098fe8  2020-11-15 09:06:00+00:00               no               no                                  no            no                None                     None                       None                              None                          None         None                              None                       None                     None                                  None          None                      None                              None                               None                                  None             None                       None                     None                     None            None                              None                          None                              None                            None                    None                           None          None        None                             None              None   \n",
       "\n",
       "  method_to_other_1 product_1_mode_answer product_1_dosage_influence_answer product_2_dosage_answer product_2_dosage_influence_answer product_2_mode_answer product_2_mode_influence_answer topic_2_product_influecned_positivley product_2_drug_approval_answer topic_2_product_influenced_negatively method_from_other_1 method_from_other_2  \n",
       "0              None                  None                              None                    None                              None                  None                            None                                  None                           None                                  None                None                None  \n",
       "1              None                  None                              None                    None                              None                  None                            None                                  None                           None                                  None                None                None  \n",
       "2              None                  None                              None                    None                              None                  None                            None                                  None                           None                                  None                None                None  \n",
       "3              None                  None                              None                    None                              None                  None                            None                                  None                           None                                  None                None                None  \n",
       "4              None                  None                              None                    None                              None                  None                            None                                  None                           None                                  None                None                None  \n",
       "5              None                  None                              None                    None                              None                  None                            None                                  None                           None                                  None                None                None  \n",
       "6              None                  None                              None                    None                              None                  None                            None                                  None                           None                                  None                None                None  \n",
       "7              None                  None                              None                    None                              None                  None                            None                                  None                           None                                  None                None                None  \n",
       "8              None                  None                              None                    None                              None                  None                            None                                  None                           None                                  None                None                None  \n",
       "9              None                  None                              None                    None                              None                  None                            None                                  None                           None                                  None                None                None  "
      ]
     },
     "execution_count": 48,
     "metadata": {},
     "output_type": "execute_result"
    }
   ],
   "source": [
    "#df = pd.read_parquet(r\"C:\\Users\\SanjaHajdinjak\\Temedica Dropbox\\50_Products\\Permea\\03_Projects\\Female_Health\\Dr. Kade\\April version\\dr_kade_labeling_task_sample.parquet\")\n",
    "\n",
    "df = pd.read_parquet(r\"C:\\Users\\SanjaHajdinjak\\Downloads\\dr_kade_female_health_all_labeled_posts_2023-05-15.parquet\")\n",
    "df.head(10)"
   ]
  },
  {
   "cell_type": "code",
   "execution_count": 49,
   "metadata": {},
   "outputs": [
    {
     "data": {
      "text/plain": [
       "[None,\n",
       " 'yeast_infection',\n",
       " 'vaginal_flora',\n",
       " 'vaginal_dryness',\n",
       " 'menstrual_symptoms',\n",
       " 'menopause']"
      ]
     },
     "execution_count": 49,
     "metadata": {},
     "output_type": "execute_result"
    }
   ],
   "source": [
    "topic_2_unique_values = df.loc[df['topic_1'] == 'yeast_infection', 'topic_2'].unique().tolist()\n",
    "topic_2_unique_values"
   ]
  },
  {
   "cell_type": "code",
   "execution_count": 50,
   "metadata": {},
   "outputs": [
    {
     "data": {
      "text/plain": [
       "[None, 'Gel', 'Granules/Powder', 'Not mentioned', 'Lotion', 'Vaginal tablet']"
      ]
     },
     "execution_count": 50,
     "metadata": {},
     "output_type": "execute_result"
    }
   ],
   "source": [
    "topic_2_unique_values = df.loc[df['topic_1'] == 'yeast_infection', 'product_1_dosage_answer'].unique().tolist()\n",
    "topic_2_unique_values"
   ]
  },
  {
   "cell_type": "code",
   "execution_count": 51,
   "metadata": {},
   "outputs": [
    {
     "name": "stdout",
     "output_type": "stream",
     "text": [
      "['text', 'post_id', 'timestamp', 'method_changed_1', 'method_changed_2', 'combined_use_of_medication_question', 'post_relevant', 'topic_1', 'topic_1_product_question', 'product_1', 'topic_1_product_purchase_question', 'topic_1_product_helped_answer', 'second_topic', 'combined_use_of_medication_answer', 'topic_1_recurrent_question', 'topic_1_recurrent_answer', 'topic_1_product_influecned_positivley', 'method_from_1', 'method_to_1', 'topic_1_product_not_helped_answer', 'transition_reasons_against_old_1', 'topic_1_product_influenced_negatively', 'topic_2', 'topic_2_recurrent_question', 'topic_2_recurrent_answer', 'topic_2_product_question', 'product_2', 'topic_2_product_purchase_question', 'topic_2_product_helped_answer', 'topic_2_product_not_helped_answer', 'product_1_mode_influence_answer', 'product_1_dosage_answer', 'product_1_drug_approval_answer', 'method_from_2', 'method_to_2', 'transition_reasons_against_old_2', 'method_to_other_2', 'method_to_other_1', 'product_1_mode_answer', 'product_1_dosage_influence_answer', 'product_2_dosage_answer', 'product_2_dosage_influence_answer', 'product_2_mode_answer', 'product_2_mode_influence_answer', 'topic_2_product_influecned_positivley', 'product_2_drug_approval_answer', 'topic_2_product_influenced_negatively', 'method_from_other_1', 'method_from_other_2']\n"
     ]
    }
   ],
   "source": [
    "# Get the column names\n",
    "column_names = df.columns.tolist()\n",
    "\n",
    "# Print the column names\n",
    "print(column_names)"
   ]
  },
  {
   "cell_type": "code",
   "execution_count": 52,
   "metadata": {},
   "outputs": [
    {
     "name": "stdout",
     "output_type": "stream",
     "text": [
      "Columns starting with 'topic_1': ['topic_1', 'topic_1_product_question', 'topic_1_product_purchase_question', 'topic_1_product_helped_answer', 'topic_1_recurrent_question', 'topic_1_recurrent_answer', 'topic_1_product_influecned_positivley', 'topic_1_product_not_helped_answer', 'topic_1_product_influenced_negatively']\n",
      "Columns starting with 'topic_2': ['topic_2', 'topic_2_recurrent_question', 'topic_2_recurrent_answer', 'topic_2_product_question', 'topic_2_product_purchase_question', 'topic_2_product_helped_answer', 'topic_2_product_not_helped_answer', 'topic_2_product_influecned_positivley', 'topic_2_product_influenced_negatively']\n"
     ]
    }
   ],
   "source": [
    "topic_1_columns = df.filter(like='topic_1').columns.tolist()\n",
    "topic_2_columns = df.filter(like='topic_2').columns.tolist()\n",
    "\n",
    "print(\"Columns starting with 'topic_1':\", topic_1_columns)\n",
    "print(\"Columns starting with 'topic_2':\", topic_2_columns)\n"
   ]
  },
  {
   "cell_type": "code",
   "execution_count": 53,
   "metadata": {},
   "outputs": [],
   "source": [
    "\n",
    "\n",
    "# convert topic_1_product_influecned_positivley to string\n",
    "df = df.explode(\"topic_1_product_influecned_positivley\").explode(\"topic_1_product_influecned_positivley\")\n",
    "df = df.explode(\"topic_1_product_influenced_negatively\").explode(\"topic_1_product_influenced_negatively\")\n",
    "df = df.explode(\"product_1\").explode(\"product_1\")\n",
    "df = df.explode(\"combined_use_of_medication_answer\").explode(\"combined_use_of_medication_answer\")\n",
    "df = df.explode(\"method_from_1\").explode(\"method_from_1\")\n",
    "df = df.explode(\"method_to_1\").explode(\"method_to_1\")\n",
    "df = df.explode(\"topic_2_product_influecned_positivley\").explode(\"topic_2_product_influecned_positivley\")\n",
    "df = df.explode(\"topic_2_product_influenced_negatively\").explode(\"topic_2_product_influenced_negatively\")\n",
    "df = df.explode(\"product_2\").explode(\"product_2\")\n",
    "df = df.explode(\"transition_reasons_against_old_1\").explode(\"transition_reasons_against_old_1\")\n",
    "df = df.explode(\"method_from_2\").explode(\"method_from_2\")\n",
    "df = df.explode(\"method_to_2\").explode(\"method_to_2\")\n",
    "df = df.explode(\"transition_reasons_against_old_2\").explode(\"transition_reasons_against_old_2\")\n",
    "df = df.explode(\"method_to_other_2\").explode(\"method_to_other_2\")\n",
    "df = df.explode(\"method_to_other_1\").explode(\"method_to_other_1\")\n",
    "df = df.explode(\"method_from_other_1\").explode(\"method_from_other_1\")\n",
    "df = df.explode(\"method_from_other_2\").explode(\"method_from_other_2\")"
   ]
  },
  {
   "cell_type": "code",
   "execution_count": 54,
   "metadata": {},
   "outputs": [
    {
     "name": "stdout",
     "output_type": "stream",
     "text": [
      "Variable name: method_changed_1\n",
      "Unique values: ['no' 'yes']\n",
      "\n",
      "Variable name: method_changed_2\n",
      "Unique values: ['no' 'yes']\n",
      "\n",
      "Variable name: combined_use_of_medication_question\n",
      "Unique values: ['yes' 'no']\n",
      "\n",
      "Variable name: post_relevant\n",
      "Unique values: ['yes' 'no' None]\n",
      "\n",
      "Variable name: topic_1\n",
      "Unique values: ['menstrual_symptoms' None 'yeast_infection' 'vaginal_flora'\n",
      " 'vaginal_dryness' 'menopause']\n",
      "\n",
      "Variable name: topic_1_product_question\n",
      "Unique values: ['yes' None 'no']\n",
      "\n",
      "Variable name: product_1\n",
      "Unique values: ['BUSCOPAN' None 'FENIZOLAN' 'Others' 'CANESTEN Gyn' 'VAGISAN'\n",
      " 'Kadefungin' 'CANIFUG ' 'BIOFANAL' 'Multigyn' 'Clotrimazol'\n",
      " 'KADEFUNGIN 3' 'Fluconazol' 'VAGISAN MYKO' 'MULTI GYN FLORAPLUS'\n",
      " 'DEUMAVAN' 'SAGELLA' 'SAGELLA ' 'SAGELLA HYDRAMED' 'LACTOFEM FEUCHTCREME'\n",
      " 'No medication / termination of treatment' 'KADEFUNGIN BEFEUCHTUNG'\n",
      " 'VAGISAN FEUCHTCREME' 'BUSCOPAN PLUS A1' 'FRAUEN TEE'\n",
      " 'SAGELLA ACTIVE INTIM ' 'BUSCOPAN PLUS E-M' 'BUSCOPAN PLUS EUP'\n",
      " 'BUSCOPAN PLUS GER' 'BUSCOPAN PLUS KHP' 'VAGISAN INTIM' 'DOLORMIN FRAUEN'\n",
      " 'STYPTYSAT PLUS' 'GYNOFIT' 'FUNGIZID RATIOPHARM' 'REMIFEMIN'\n",
      " 'INIMUR MYKO' 'DEUMAVAN ' 'ANTIFUNGOL HEXAL' 'SAGELLA PH 3,5'\n",
      " 'DEUMAVAN SCHUTZ' 'FEMISANIT' 'VAGIFLOR MYKOMED' 'GYNO MYKOTRAL'\n",
      " 'CIMICIFUGA' 'KADEFUNGIN 6' 'VAGISAN SCHUTZ' 'DEUMAVAN Waschlotion'\n",
      " 'MYKOFUNGIN ' 'REPLENS SANOL VAGINAL' 'FEMIKLIMAN' 'MULTI GYN K_P'\n",
      " 'BAD HEILBRUNNER MENSTRUATIONS TEE' 'FRAUENKRAEUTERTEE AKTIV FEMICA'\n",
      " 'H S SCHAFGARBENTEE' 'ROSE TEEBAUM' 'SCHAFGARBENKRAUTTEE' 'ROTKLEE '\n",
      " 'ROTKLEE TEE' 'SCHAFGARBENTEE AWE' 'SCHAFGARBENTEE AUR'\n",
      " 'SIDROGA SCHAFGARBENKRAUTTEE' 'VAGI METRO CREME' 'REMIFEMIN FEUCHT'\n",
      " 'FEMILOGES' 'DELIMA' 'BOEHM TRAUBENSILBERKERZE'\n",
      " 'REMIFEMIN PLUS JOHANNISKRAUT MDE' 'SEBAMED INTIM'\n",
      " 'KADEFEMIN INTIMPFLEGE' 'MENO BALANCE' 'THERMACARE REGELSCHMERZEN'\n",
      " 'CLOTRIMAZOL ACIS KOMBI' 'Miconazol']\n",
      "\n",
      "Variable name: topic_1_product_purchase_question\n",
      "Unique values: ['yes' None 'no']\n",
      "\n",
      "Variable name: topic_1_product_helped_answer\n",
      "Unique values: ['yes' None 'no' 'unclear']\n",
      "\n",
      "Variable name: second_topic\n",
      "Unique values: ['no' None 'yes']\n",
      "\n",
      "Variable name: combined_use_of_medication_answer\n",
      "Unique values: ['BUSCOPAN' 'Others' None 'FENIZOLAN' 'Kadefungin' 'Multigyn' 'VAGISAN'\n",
      " 'CANESTEN Gyn' 'Fluconazol' 'CANIFUG ' 'DEUMAVAN' 'REMIFEMIN'\n",
      " 'Clotrimazol' 'LACTOFEM FEUCHTCREME' 'MULTI GYN FLORAPLUS'\n",
      " 'KADEFUNGIN BEFEUCHTUNG' 'VAGISAN FEUCHTCREME' 'SAGELLA' 'BIOFANAL'\n",
      " 'VAGISAN MYKO' 'VAGIFLOR MYKOMED' 'SAGELLA ']\n",
      "\n",
      "Variable name: topic_1_recurrent_question\n",
      "Unique values: [None 'yes' 'no']\n",
      "\n",
      "Variable name: topic_1_recurrent_answer\n",
      "Unique values: [None 'several_times_unclear' 'rarely' 'every_month' 'every_few_years'\n",
      " 'several_times_per_year']\n",
      "\n",
      "Variable name: topic_1_product_influecned_positivley\n",
      "Unique values: [None 'Doctor' 'Midwife' 'Social Media' 'Pharmacist' 'Friends or Family'\n",
      " 'Recommendation' 'No influence' 'Previous experience' 'News article'\n",
      " 'Advertising' 'Other medical expert']\n",
      "\n",
      "Variable name: method_from_1\n",
      "Unique values: [None 'CANIFUG ' 'BIOFANAL' 'Clotrimazol' 'Kadefungin' 'CANESTEN Gyn'\n",
      " 'VAGISAN' 'Fluconazol' 'BUSCOPAN' 'FRAUEN TEE' 'Others' 'VAGISAN MYKO'\n",
      " 'GYNOFIT' 'GYNO MYKOTRAL' 'KADEFUNGIN 3' 'MYKOFUNGIN ' 'Multigyn'\n",
      " 'VAGISAN FEUCHTCREME' 'DEUMAVAN' 'INIMUR MYKO']\n",
      "\n",
      "Variable name: method_to_1\n",
      "Unique values: [None 'LACTOFEM FEUCHTCREME' 'Kadefungin' 'BIOFANAL' 'Others'\n",
      " 'Clotrimazol' 'MYKOFUNGIN ' 'No medication / termination of treatment'\n",
      " 'Itraconazol' 'Fluconazol' 'GYNOFIT' 'CANIFUG ' 'FUNGIZID RATIOPHARM'\n",
      " 'KADEFUNGIN 6' 'INIMUR MYKO' 'DEUMAVAN ' 'CANESTEN Gyn'\n",
      " 'REPLENS SANOL VAGINAL' 'VAGISAN' 'MULTI GYN FLORAPLUS' 'DEUMAVAN'\n",
      " 'FENIZOLAN' 'VAGISAN MYKO' 'KADEFUNGIN BEFEUCHTUNG' 'GYNO MYKOTRAL'\n",
      " 'KADEFUNGIN 3' 'DEUMAVAN SCHUTZ' 'ANTIFUNGOL HEXAL' 'Multigyn']\n",
      "\n",
      "Variable name: topic_1_product_not_helped_answer\n",
      "Unique values: [None 'unknown' 'other' 'wrong_diagnosis']\n",
      "\n",
      "Variable name: transition_reasons_against_old_1\n",
      "Unique values: [None 'Wirkverlust/Resistenzbildung ' 'Medikament hilft nicht (genug)'\n",
      " 'Empfehlung ' 'andere Krankheit, Operation, Überlagerung'\n",
      " 'neu hinzugekommene Erkrankung' 'Nebenwirkungen' 'Fehldiagnose '\n",
      " 'sonstige Nebenwirkungen' 'Eintritt in neues Stadium der Krankheit'\n",
      " 'Krankheit hat sich verschlimmert' 'Schwangerschaft / Stillzeit'\n",
      " 'Müdigkeit']\n",
      "\n",
      "Variable name: topic_1_product_influenced_negatively\n",
      "Unique values: [None 'Doctor' 'Price' 'No influence' 'Pharmacist' 'Social Media'\n",
      " 'Other medical expert' 'Recommendation']\n",
      "\n",
      "Variable name: topic_2\n",
      "Unique values: [None 'yeast_infection' 'vaginal_flora' 'vaginal_dryness'\n",
      " 'menstrual_symptoms' 'menopause']\n",
      "\n",
      "Variable name: topic_2_recurrent_question\n",
      "Unique values: [None 'yes' 'no']\n",
      "\n",
      "Variable name: topic_2_recurrent_answer\n",
      "Unique values: [None 'several_times_unclear' 'rarely' 'several_times_per_year'\n",
      " 'every_month']\n",
      "\n",
      "Variable name: topic_2_product_question\n",
      "Unique values: [None 'yes' 'no']\n",
      "\n",
      "Variable name: product_2\n",
      "Unique values: [None 'Kadefungin' 'VAGISAN' 'Others' 'BIOFANAL' 'Fluconazol'\n",
      " 'VAGI METRO CREME' 'MYKOFUNGIN ' 'CANIFUG ' 'Clotrimazol' 'CANESTEN Gyn'\n",
      " 'No medication / termination of treatment' 'VAGISAN FEUCHTCREME'\n",
      " 'DOLORMIN FRAUEN' 'VAGISAN INTIM' 'VAGIFLOR MYKOMED' 'Multigyn'\n",
      " 'DEUMAVAN' 'KADEFUNGIN 6' 'DEUMAVAN SCHUTZ' 'GYNO MYKOTRAL'\n",
      " 'REPLENS SANOL VAGINAL' 'VAGISAN MYKO' 'GYNOFIT' 'MULTI GYN FLORAPLUS'\n",
      " 'KADEFUNGIN 3' 'FRAUEN TEE' 'SAGELLA' 'INIMUR MYKO'\n",
      " 'KADEFEMIN INTIMPFLEGE' 'LACTOFEM FEUCHTCREME' 'REMIFEMIN' 'BUSCOPAN']\n",
      "\n",
      "Variable name: topic_2_product_purchase_question\n",
      "Unique values: [None 'yes' 'no']\n",
      "\n",
      "Variable name: topic_2_product_helped_answer\n",
      "Unique values: [None 'no' 'unclear' 'yes']\n",
      "\n",
      "Variable name: topic_2_product_not_helped_answer\n",
      "Unique values: [None 'unknown' 'other' 'wrong_diagnosis']\n",
      "\n",
      "Variable name: product_1_mode_influence_answer\n",
      "Unique values: [None 'Positive' 'Negative' 'Unclear/Unmentioned']\n",
      "\n",
      "Variable name: product_1_dosage_answer\n",
      "Unique values: [None 'Gel' 'Granules/Powder' 'Not mentioned' 'Lotion' 'Oral tablet'\n",
      " 'Vaginal tablet']\n",
      "\n",
      "Variable name: product_1_drug_approval_answer\n",
      "Unique values: [None 'Approval as a drug is relevant' 'Unclear/Unmentioned'\n",
      " 'Approval as drug is NOT relevant']\n",
      "\n",
      "Variable name: method_from_2\n",
      "Unique values: [None 'BIOFANAL' 'Clotrimazol' 'MULTI GYN FLORAPLUS' 'CANESTEN Gyn'\n",
      " 'Others' 'Kadefungin' 'FENIZOLAN' 'VAGISAN' 'DEUMAVAN'\n",
      " 'KADEFUNGIN BEFEUCHTUNG' 'Multigyn' 'VAGISAN MYKO' 'INIMUR MYKO']\n",
      "\n",
      "Variable name: method_to_2\n",
      "Unique values: [None 'Others' 'Fluconazol' 'CANIFUG ' 'DEUMAVAN ' 'Kadefungin'\n",
      " 'GYNO MYKOTRAL' 'VAGISAN' 'Multigyn' 'BIOFANAL' 'VAGIFLOR MYKOMED'\n",
      " 'VIONELL INTIM' 'MULTI GYN FLORAPLUS']\n",
      "\n",
      "Variable name: transition_reasons_against_old_2\n",
      "Unique values: [None 'Medikament hilft nicht (genug)' 'Empfehlung ' 'Fehldiagnose '\n",
      " 'Nebenwirkungen' 'Wirkverlust/Resistenzbildung ' 'Pilzinfektion']\n",
      "\n",
      "Variable name: method_to_other_2\n",
      "Unique values: [None 'Multilind' 'Kadefungin pills' 'Rephresh' 'Chlormadinon']\n",
      "\n",
      "Variable name: method_to_other_1\n",
      "Unique values: [None 'Siros Capsules' 'doxycylin' 'arilin rapid' 'Antimykotikum'\n",
      " 'Lactic acid suppositories' 'DÖDERLEIN ' 'Balance Active Gel'\n",
      " 'DÖDERLEIN MED KAPSELN' 'sobelin' 'Fluomizin' 'airlines Zäpfchen'\n",
      " 'Ranillin' 'Bepanthen' 'Belara' 'Elanee milchsäurekur in gel-Form'\n",
      " 'nystalocal' 'Arilin Zäpfchen' 'Ranilin' 'Milchsäurezäpfchen'\n",
      " 'decoderm tri mit Cortison und Antimyotikum' 'Cystinol' 'Spascupreel']\n",
      "\n",
      "Variable name: product_1_mode_answer\n",
      "Unique values: [None 'Dispenser' 'Tube' 'Not mentioned' 'Applicator']\n",
      "\n",
      "Variable name: product_1_dosage_influence_answer\n",
      "Unique values: [None 'Positive' 'Unclear/Unmentioned' 'Negative']\n",
      "\n",
      "Variable name: product_2_dosage_answer\n",
      "Unique values: [None 'Gel' 'Not mentioned' 'Lotion' 'Vaginal tablet']\n",
      "\n",
      "Variable name: product_2_dosage_influence_answer\n",
      "Unique values: [None 'Unclear/Unmentioned' 'Positive']\n",
      "\n",
      "Variable name: product_2_mode_answer\n",
      "Unique values: [None 'Not mentioned' 'Tube' 'Applicator']\n",
      "\n",
      "Variable name: product_2_mode_influence_answer\n",
      "Unique values: [None 'Unclear/Unmentioned' 'Positive']\n",
      "\n",
      "Variable name: topic_2_product_influecned_positivley\n",
      "Unique values: [None 'Doctor' 'Social Media' 'Recommendation' 'No influence' 'Pharmacist'\n",
      " 'Previous experience' 'Friends or Family' 'News article']\n",
      "\n",
      "Variable name: product_2_drug_approval_answer\n",
      "Unique values: [None 'Unclear/Unmentioned' 'Approval as drug is NOT relevant']\n",
      "\n",
      "Variable name: topic_2_product_influenced_negatively\n",
      "Unique values: [None 'No influence' 'Doctor']\n",
      "\n",
      "Variable name: method_from_other_1\n",
      "Unique values: [None 'fluomizin' 'nystalocal ' 'Various creams' 'vagisa' 'Nuva ring'\n",
      " 'Multigyn Actigel' 'Rephresh' 'linola Schutzbalsam' 'Kadefungin'\n",
      " 'Desirett 75' 'nitroxolin' 'Gyno Pevaryl' 'Flucosept']\n",
      "\n",
      "Variable name: method_from_other_2\n",
      "Unique values: [None 'Döderlein' 'Kadefungin creme' 'sobelin']\n",
      "\n"
     ]
    }
   ],
   "source": [
    "# list all names of columns and values\n",
    "\n",
    "variables_to_skip = [\"text\", \"post_id\", \"timestamp\"]\n",
    "variable_names = [variable for variable in df.columns if variable not in variables_to_skip]\n",
    "\n",
    "for variable in variable_names:\n",
    "    print(f\"Variable name: {variable}\")\n",
    "    unique_values = df[variable].unique()\n",
    "    print(f\"Unique values: {unique_values}\")\n",
    "    print()\n",
    "\n"
   ]
  },
  {
   "cell_type": "code",
   "execution_count": 55,
   "metadata": {},
   "outputs": [],
   "source": [
    "# Mapping dictionary for category labels\n",
    "category_labels = {\n",
    "    'vaginal_flora': 'Scheidenflora',\n",
    "    'menstrual_symptoms': 'Zyklusbeschwerden',\n",
    "    'menopause': 'Menopause',\n",
    "    'vaginal_dryness': 'Scheidentrockenheit',\n",
    "    'yeast_infection': 'Scheidenpilz',\n",
    "    'Applicator': 'Applikator',\n",
    "    'Dispenser': 'Spender',\n",
    "    'Yes': 'Ja',\n",
    "    'No': 'Nein',\n",
    "    'unclear': 'Unklar',\n",
    "\n",
    "    # Add more mappings as needed\n",
    "}\n",
    "\n",
    "# Apply category label mapping to 'topic_1' column\n",
    "df['topic_1'] = df['topic_1'].map(category_labels).fillna(df['topic_1'])\n",
    "df['topic_2'] = df['topic_2'].map(category_labels).fillna(df['topic_2'])\n",
    "\n",
    "\n",
    "df['topic_1_product_helped_answer'] = df['topic_1_product_helped_answer'].map(category_labels).fillna(df['topic_1_product_helped_answer'])\n",
    "df['topic_2_product_helped_answer'] = df['topic_2_product_helped_answer'].map(category_labels).fillna(df['topic_2_product_helped_answer'])\n",
    "\n",
    "# Apply category label mapping to 'topic_1_recurrent_question' column\n",
    "df['product_1_mode_answer'] = df['product_1_mode_answer'].map(category_labels).fillna(df['product_1_mode_answer'])"
   ]
  },
  {
   "cell_type": "code",
   "execution_count": 56,
   "metadata": {},
   "outputs": [],
   "source": [
    "df['product_1'] = df['product_1'].replace('Others', 'Andere')\n",
    "\n",
    "df['product_1'] = df['product_1'].replace('Kadefungin', 'KADEFUNGIN')\n",
    "\n",
    "df['product_1'] = df['product_1'].replace('CANESTEN Gyn', 'CANESTEN GYN')\n",
    "\n",
    "\n",
    "\n",
    "df['product_1'] = df['product_1'].replace('No medication / termination of treatment', 'Keine Behandlung/Abbruch der Behandlung')\n",
    "\n",
    "\n",
    "df['combined_use_of_medication_answer'] = df['combined_use_of_medication_answer'].replace('Others', 'Andere')\n",
    "\n",
    "df['combined_use_of_medication_answer'] = df['combined_use_of_medication_answer'].replace('None', 'Keine')\n",
    "\n",
    "\n",
    "df['topic_1_recurrent_answer'] = df['topic_1_recurrent_answer'].replace('several_times_unclear', 'Mehrmals (Zeitraum unbekannt)')\n",
    "\n",
    "df['topic_1_recurrent_answer'] = df['topic_1_recurrent_answer'].replace('rarely', 'Selten')\n",
    "\n",
    "df['topic_1_recurrent_answer'] = df['topic_1_recurrent_answer'].replace('every_month', 'Jeden Monat')\n",
    "\n",
    "df['topic_1_recurrent_answer'] = df['topic_1_recurrent_answer'].replace('every_few_years', 'Alle paar Jahre')\n",
    "\n",
    "df['topic_1_recurrent_answer'] = df['topic_1_recurrent_answer'].replace('several_times_per_year', 'Mehrmals pro Jahr')\n",
    "\n",
    "\n",
    "df['topic_1_product_influecned_positivley'] = df['topic_1_product_influecned_positivley'].replace('None', 'Keine')\n",
    "\n",
    "df['topic_1_product_influecned_positivley'] = df['topic_1_product_influecned_positivley'].replace('None', 'Keine')\n",
    "\n",
    "df['topic_1_product_influecned_positivley'] = df['topic_1_product_influecned_positivley'].replace('Doctor', 'ÄrztInnen')\n",
    "\n",
    "df['topic_1_product_influecned_positivley'] = df['topic_1_product_influecned_positivley'].replace('Midwife', 'Hebammen')\n",
    "\n",
    "df['topic_1_product_influecned_positivley'] = df['topic_1_product_influecned_positivley'].replace('Pharmacist', 'ApothekerInnen')\n",
    "\n",
    "df['topic_1_product_influecned_positivley'] = df['topic_1_product_influecned_positivley'].replace('Friends or Family', 'Freunde oder Familie')\n",
    "\n",
    "df['topic_1_product_influecned_positivley'] = df['topic_1_product_influecned_positivley'].replace('Recommendation', 'Empfehlung')\n",
    "\n",
    "df['topic_1_product_influecned_positivley'] = df['topic_1_product_influecned_positivley'].replace('No influence', 'Kein Einfluss')\n",
    "\n",
    "df['topic_1_product_influecned_positivley'] = df['topic_1_product_influecned_positivley'].replace('Previous experience', 'Vorhandene Erfahrung')\n",
    "\n",
    "df['topic_1_product_influecned_positivley'] = df['topic_1_product_influecned_positivley'].replace('News article', 'Zeitungsartikel')\n",
    "\n",
    "df['topic_1_product_influecned_positivley'] = df['topic_1_product_influecned_positivley'].replace('Advertising', 'Werbung')\n",
    "\n",
    "df['topic_1_product_influecned_positivley'] = df['topic_1_product_influecned_positivley'].replace('Other medical expert', 'Andere medizinische Fachkraft')\n",
    "\n",
    "\n",
    "df['method_from_1'] = df['method_from_1'].replace('None', 'Keine')\n",
    "\n",
    "df['method_from_1'] = df['method_from_1'].replace('Others', 'Andere')\n",
    "\n",
    "\n",
    "df['method_to_1'] = df['method_to_1'].replace('None', 'Keine')\n",
    "\n",
    "df['method_to_1'] = df['method_to_1'].replace('Others', 'Andere')\n",
    "\n",
    "df['method_to_1'] = df['method_to_1'].replace('No medication / termination of treatment', 'Keine Behandlung/Abbruch der Behandlung')\n",
    "\n",
    "\n",
    "df['topic_1_product_not_helped_answer'] = df['topic_1_product_not_helped_answer'].replace('None', 'Keine')\n",
    "\n",
    "df['topic_1_product_not_helped_answer'] = df['topic_1_product_not_helped_answer'].replace('unknown', 'Unbekannt')\n",
    "\n",
    "df['topic_1_product_not_helped_answer'] = df['topic_1_product_not_helped_answer'].replace('other', 'Andere')\n",
    "\n",
    "df['topic_1_product_not_helped_answer'] = df['topic_1_product_not_helped_answer'].replace('wrong_diagnosis', 'Falsche Diagnose')\n",
    "\n",
    "\n",
    "df['transition_reasons_against_old_1'] = df['transition_reasons_against_old_1'].replace('None', 'Keine')\n",
    "\n",
    "\n",
    "\n",
    "\n",
    "df['topic_1_product_influenced_negatively'] = df['topic_1_product_influenced_negatively'].replace('None', 'Keine')\n",
    "\n",
    "df['topic_1_product_influenced_negatively'] = df['topic_1_product_influenced_negatively'].replace('Doctor', 'ÄrztInnen')\n",
    "\n",
    "df['topic_1_product_influenced_negatively'] = df['topic_1_product_influenced_negatively'].replace('Price', 'Preis')\n",
    "\n",
    "df['topic_1_product_influenced_negatively'] = df['topic_1_product_influenced_negatively'].replace('No influence', 'Keine Wirkung')\n",
    "\n",
    "df['topic_1_product_influenced_negatively'] = df['topic_1_product_influenced_negatively'].replace('Pharmacist', 'ApothekerInnen')\n",
    "\n",
    "df['topic_1_product_influenced_negatively'] = df['topic_1_product_influenced_negatively'].replace('Other medical expert', 'Andere medizinische Fachkraft')\n",
    "\n",
    "df['topic_1_product_influenced_negatively'] = df['topic_1_product_influenced_negatively'].replace('Recommendation', 'Empfehlung')\n",
    "\n",
    "df['topic_1_product_influenced_negatively'] = df['topic_1_product_influenced_negatively'].replace('None', 'Keine')\n",
    "\n",
    "\n",
    "df['topic_2'] = df['topic_2'].replace('None', 'Keine')\n",
    "\n",
    "df['topic_2'] = df['topic_2'].replace('yeast_infection', 'Vaginalpilz')\n",
    "\n",
    "df['topic_2'] = df['topic_2'].replace('vaginal_flora', 'Vaginalflora')\n",
    "\n",
    "df['topic_2'] = df['topic_2'].replace('vaginal_dryness', 'Scheidentrockenheit')\n",
    "\n",
    "df['topic_2'] = df['topic_2'].replace('menstrual_symptoms', 'Menstruationsbeschwerden')\n",
    "\n",
    "df['topic_2'] = df['topic_2'].replace('menopause', 'Menopause')\n",
    "\n",
    "\n",
    "df['topic_2_recurrent_answer'] = df['topic_2_recurrent_answer'].replace('None', 'Keine')\n",
    "\n",
    "df['topic_2_recurrent_answer'] = df['topic_2_recurrent_answer'].replace('several_times_unclear', 'Mehrmals (Zeitraum unbekannt)')\n",
    "\n",
    "df['topic_2_recurrent_answer'] = df['topic_2_recurrent_answer'].replace('rarely', 'Selten')\n",
    "\n",
    "df['topic_2_recurrent_answer'] = df['topic_2_recurrent_answer'].replace('several_times_per_year', 'Mehrmals pro Jahr')\n",
    "\n",
    "df['topic_2_recurrent_answer'] = df['topic_2_recurrent_answer'].replace('every_month', 'Jeden Monat')\n",
    "\n",
    "\n",
    "df['product_2'] = df['product_2'].replace('None', 'Keine')\n",
    "\n",
    "df['product_2'] = df['product_2'].replace('No medication / termination of treatment', 'Keine Behandlung/Abbruch der Behandlung')\n",
    "\n",
    "\n",
    "df['topic_2_product_not_helped_answer'] = df['topic_2_product_not_helped_answer'].replace('None', 'Keine')\n",
    "\n",
    "df['topic_2_product_not_helped_answer'] = df['topic_2_product_not_helped_answer'].replace('unknown', 'Unbekannt')\n",
    "\n",
    "df['topic_2_product_not_helped_answer'] = df['topic_2_product_not_helped_answer'].replace('other', 'Andere')\n",
    "\n",
    "df['topic_2_product_not_helped_answer'] = df['topic_2_product_not_helped_answer'].replace('wrong_diagnosis', 'Falsche Diagnose')\n",
    "\n",
    "\n",
    "df['product_1_mode_influence_answer'] = df['product_1_mode_influence_answer'].replace('None', 'Keine')\n",
    "\n",
    "df['product_1_mode_influence_answer'] = df['product_1_mode_influence_answer'].replace('Positive', 'Positiv')\n",
    "\n",
    "df['product_1_mode_influence_answer'] = df['product_1_mode_influence_answer'].replace('Negative', 'Negativ')\n",
    "\n",
    "df['product_1_mode_influence_answer'] = df['product_1_mode_influence_answer'].replace('Unclear/Unmentioned', 'Unklar/Nicht benannt')\n",
    "\n",
    "  \n",
    "\n",
    "df['topic_1_product_helped_answer'] = df['topic_1_product_helped_answer'].replace('no', 'Nein')\n",
    "df['topic_1_product_helped_answer'] = df['topic_1_product_helped_answer'].replace('yes', 'Ja')\n",
    "\n",
    "\n",
    "\n",
    "\n",
    "df['product_1_dosage_answer'] = df['product_1_dosage_answer'].replace('None', 'Keine')\n",
    "\n",
    "df['product_1_dosage_answer'] = df['product_1_dosage_answer'].replace('Gel', 'Gel')\n",
    "\n",
    "df['product_1_dosage_answer'] = df['product_1_dosage_answer'].replace('Granules/Powder', 'Granulat/Pulver')\n",
    "\n",
    "df['product_1_dosage_answer'] = df['product_1_dosage_answer'].replace('Not mentioned', 'Nicht benannt')\n",
    "\n",
    "df['product_1_dosage_answer'] = df['product_1_dosage_answer'].replace('Lotion', 'Lotion')\n",
    "\n",
    "df['product_1_dosage_answer'] = df['product_1_dosage_answer'].replace('Oral tablet', 'Tablette (oral)')\n",
    "\n",
    "df['product_1_dosage_answer'] = df['product_1_dosage_answer'].replace('Vaginal tablet', 'Tablette (vaginal)')\n",
    "\n",
    "\n",
    "df['product_1_drug_approval_answer'] = df['product_1_drug_approval_answer'].replace('None', 'Keine')\n",
    "\n",
    "df['product_1_drug_approval_answer'] = df['product_1_drug_approval_answer'].replace('Approval as a drug is relevant', 'Medikamentenzulassung ist relevant')\n",
    "\n",
    "df['product_1_drug_approval_answer'] = df['product_1_drug_approval_answer'].replace('Unclear/Unmentioned', 'Unklar/Nicht benannt')\n",
    "\n",
    "df['product_1_drug_approval_answer'] = df['product_1_drug_approval_answer'].replace('Approval as drug is NOT relevant', 'Medikamentenzulassung ich nicht relevant')\n",
    "\n",
    "\n",
    "df['method_from_2'] = df['method_from_2'].replace('None', 'Keine')\n",
    "\n",
    "df['method_from_2'] = df['method_from_2'].replace('Others', 'Andere')\n",
    "\n",
    "\n",
    "df['method_to_2'] = df['method_to_2'].replace('None', 'Keine')\n",
    "\n",
    "df['method_to_2'] = df['method_to_2'].replace('Others', 'Andere')\n",
    "\n",
    "\n",
    "df['method_to_other_2'] = df['method_to_other_2'].replace('None', 'Keine')\n",
    "\n",
    "df['method_to_other_2'] = df['method_to_other_2'].replace('Kadefungin pills', 'Kadefungin Tabletten')\n",
    "\n",
    "\n",
    "df['method_to_other_1'] = df['method_to_other_1'].replace('None', 'Keine')\n",
    "\n",
    "df['method_to_other_1'] = df['method_to_other_1'].replace('Siros Capsules', 'Siros Kapseln')\n",
    "\n",
    "df['method_to_other_1'] = df['method_to_other_1'].replace('arilin rapid', 'Arilin rapid')\n",
    "\n",
    "df['method_to_other_1'] = df['method_to_other_1'].replace('Siros Capsules', 'Siros Kapseln')\n",
    "\n",
    "df['method_to_other_1'] = df['method_to_other_1'].replace('Lactic acid suppositories', 'Milsäurezäpfchen')\n",
    "\n",
    "df['method_to_other_1'] = df['method_to_other_1'].replace('airlines Zäpfchen', 'Airlines Zäpfchen')\n",
    "\n",
    "df['method_to_other_1'] = df['method_to_other_1'].replace('Elanee milchsäurekur in gel-Form', 'Elanee Milchsäurekur in Gel-Form')\n",
    "\n",
    "df['method_to_other_1'] = df['method_to_other_1'].replace('sobelin', 'Sobelin')\n",
    "\n",
    "df['method_to_other_1'] = df['method_to_other_1'].replace('nystalocal', 'Nystalocal')\n",
    "\n",
    "df['method_to_other_1'] = df['method_to_other_1'].replace('decoderm tri mit Cortison und Antimyotikum', 'Decoderm tri mit Cortison und Antimyotikum')\n",
    "\n",
    "\n",
    "df['product_1_mode_answer'] = df['product_1_mode_answer'].replace('Not mentioned', 'Nicht erwähnt')\n",
    "\n",
    "\n",
    "df['product_1_dosage_influence_answer'] = df['product_1_dosage_influence_answer'].replace('None', 'Keine')\n",
    "\n",
    "df['product_1_dosage_influence_answer'] = df['product_1_dosage_influence_answer'].replace('Positive', 'Positiv')\n",
    "\n",
    "df['product_1_dosage_influence_answer'] = df['product_1_dosage_influence_answer'].replace('Unclear/Unmentioned', 'Unklar/Nicht benannt')\n",
    "\n",
    "df['product_1_dosage_influence_answer'] = df['product_1_dosage_influence_answer'].replace('Negative', 'Negativ')\n",
    "\n",
    "\n",
    "df['product_2_dosage_answer'] = df['product_2_dosage_answer'].replace('None', 'Keine')\n",
    "\n",
    "df['product_2_dosage_answer'] = df['product_2_dosage_answer'].replace('Not mentioned', 'Nicht erwähnt')\n",
    "\n",
    "df['product_2_dosage_answer'] = df['product_2_dosage_answer'].replace('Vaginal tablet', 'Vaginaltablette')\n",
    "\n",
    "\n",
    "df['product_2_dosage_influence_answer'] = df['product_2_dosage_influence_answer'].replace('None', 'Keine')\n",
    "\n",
    "df['product_2_dosage_influence_answer'] = df['product_2_dosage_influence_answer'].replace('Unclear/Unmentioned', 'Unklar/Nicht benannt')\n",
    "\n",
    "df['product_2_dosage_influence_answer'] = df['product_2_dosage_influence_answer'].replace('Positive', 'Positiv')\n",
    "\n",
    "\n",
    "df['product_2_mode_answer'] = df['product_2_mode_answer'].replace('None', 'Keine')\n",
    "\n",
    "df['product_2_mode_answer'] = df['product_2_mode_answer'].replace('Not mentioned', 'Nicht erwähnt')\n",
    "\n",
    "df['product_2_mode_answer'] = df['product_2_mode_answer'].replace('Applicator', 'Applikator')\n",
    "\n",
    "\n",
    "df['product_2_mode_influence_answer'] = df['product_2_mode_influence_answer'].replace('None', 'Keine')\n",
    "\n",
    "df['product_2_mode_influence_answer'] = df['product_2_mode_influence_answer'].replace('Unclear/Unmentioned', 'Unklar/Nicht benannt')\n",
    "\n",
    "df['product_2_mode_influence_answer'] = df['product_2_mode_influence_answer'].replace('Positive', 'Positiv')\n",
    "\n",
    "\n",
    "df['topic_2_product_influecned_positivley'] = df['topic_2_product_influecned_positivley'].replace('None', 'Keine')\n",
    "\n",
    "df['topic_2_product_influecned_positivley'] = df['topic_2_product_influecned_positivley'].replace('Doctor', 'ÄrztInnen')\n",
    "\n",
    "df['topic_2_product_influecned_positivley'] = df['topic_2_product_influecned_positivley'].replace('Recommendation', 'Empfehlung')\n",
    "\n",
    "df['topic_2_product_influecned_positivley'] = df['topic_2_product_influecned_positivley'].replace('No influence', 'Kein Einfluss')\n",
    "\n",
    "df['topic_2_product_influecned_positivley'] = df['topic_2_product_influecned_positivley'].replace('Pharmacist', 'ApothekerInnen')\n",
    "\n",
    "df['topic_2_product_influecned_positivley'] = df['topic_2_product_influecned_positivley'].replace('Previous experience', 'Vorhandene Erfahrung')\n",
    "\n",
    "df['topic_2_product_influecned_positivley'] = df['topic_2_product_influecned_positivley'].replace('Friends or Family', 'Freunde oder Familie')\n",
    "\n",
    "df['topic_2_product_influecned_positivley'] = df['topic_2_product_influecned_positivley'].replace('News article', 'Zeitungsartikel')\n",
    "\n",
    "\n",
    "df['product_2_drug_approval_answer'] = df['product_2_drug_approval_answer'].replace('None', 'Keine')\n",
    "\n",
    "df['product_2_drug_approval_answer'] = df['product_2_drug_approval_answer'].replace('Unclear/Unmentioned', 'Unklar/Nicht benannt')\n",
    "\n",
    "df['product_2_drug_approval_answer'] = df['product_2_drug_approval_answer'].replace('Approval as drug is NOT relevant', 'Medikamentenzulassung ist nicht relevant')\n",
    "\n",
    "\n",
    "df['topic_2_product_influenced_negatively'] = df['topic_2_product_influenced_negatively'].replace('None', 'Keine')\n",
    "\n",
    "df['topic_2_product_influenced_negatively'] = df['topic_2_product_influenced_negatively'].replace('No influence', 'Kein Einfluss')\n",
    "\n",
    "df['topic_2_product_influenced_negatively'] = df['topic_2_product_influenced_negatively'].replace('Doctor', 'Behandelnder Arzt')\n",
    "\n",
    "\n",
    "df['method_from_other_1'] = df['method_from_other_1'].replace('None', 'Keine')\n",
    "\n",
    "df['method_from_other_1'] = df['method_from_other_1'].replace('fluomizin', 'Fluomizin')\n",
    "\n",
    "df['method_from_other_1'] = df['method_from_other_1'].replace('nystalocal', 'Nystalocal')\n",
    "\n",
    "df['method_from_other_1'] = df['method_from_other_1'].replace('vagisa', 'Vagisan')\n",
    "\n",
    "df['method_from_other_1'] = df['method_from_other_1'].replace('Nuva ring', 'Nuva Ring')\n",
    "\n",
    "df['method_from_other_1'] = df['method_from_other_1'].replace('linola Schutzbalsam', 'Linola Schutzbalsam')\n",
    "\n",
    "df['method_from_other_1'] = df['method_from_other_1'].replace('nitroxolin', 'Nitroxolin')\n",
    "\n",
    "\n",
    "df['method_from_other_2'] = df['method_from_other_2'].replace('None', 'Keine')\n",
    "\n",
    "df['method_from_other_2'] = df['method_from_other_2'].replace('Kadefungin creme', 'Kadefungin Creme')\n",
    "\n",
    "df['method_from_other_2'] = df['method_from_other_2'].replace('sobelin', 'Sobelin')"
   ]
  },
  {
   "cell_type": "code",
   "execution_count": 57,
   "metadata": {},
   "outputs": [],
   "source": [
    "# replace None with \"Nicht erwähnt\"\n",
    "def replace(df, variable, replace_text, ):\n",
    "\n",
    "    df[variable] = df[variable].replace({None: replace_text})\n",
    "    df[variable] = df[variable].replace({\"Not mentioned\": replace_text})\n",
    "    #df['topic_1'] = df['topic_1'].replace({None: \"Nicht erwähnt\"})\n",
    "\n",
    "replace (df, \"product_1_mode_answer\", \"Nicht erwähnt\")\n",
    "replace (df, \"topic_1\", \"Nicht erwähnt\")\n",
    "replace (df, \"topic_2\", \"Nicht erwähnt\")"
   ]
  },
  {
   "cell_type": "code",
   "execution_count": 58,
   "metadata": {},
   "outputs": [],
   "source": [
    "categories = ['KADEFUNGIN', 'Kadefemin', 'Kadezyklus', 'Canesten', 'Multi Gyn', 'VAGISAN', 'BUSCOPAN', 'Deumavan',\n",
    "              \"VAGISAN MYKO\", \"VAGISAN FEUCHTCREME\", \"KADEFUNGIN 3\", \"CANESTEN GYN\", \"KADEFUNGIN BEFEUCHTUNG\", \"VAGISAN INTIM\",\n",
    "              'KADEFUNGIN 6', 'VAGISAN SCHUTZ', 'KADEFEMIN INTIMPFLEGE']\n",
    "filtered_df = df[df['product_1'].isin(categories)]\n"
   ]
  },
  {
   "cell_type": "code",
   "execution_count": 76,
   "metadata": {},
   "outputs": [
    {
     "name": "stdout",
     "output_type": "stream",
     "text": [
      "                topic_1 product_1_mode_answer  Anzahl    Anteil\n",
      "0             Menopause         Nicht erwähnt      14  0.276298\n",
      "2         Scheidenflora         Nicht erwähnt     100  1.973554\n",
      "3         Scheidenflora               Spender       1  0.019736\n",
      "4         Scheidenflora                  Tube       1  0.019736\n",
      "5          Scheidenpilz         Nicht erwähnt     481  9.492797\n",
      "6          Scheidenpilz               Spender      10  0.197355\n",
      "7          Scheidenpilz                  Tube       5  0.098678\n",
      "8   Scheidentrockenheit            Applikator       1  0.019736\n",
      "9   Scheidentrockenheit         Nicht erwähnt      94  1.855141\n",
      "10  Scheidentrockenheit                  Tube       7  0.138149\n",
      "11    Zyklusbeschwerden            Applikator       1  0.019736\n",
      "12    Zyklusbeschwerden         Nicht erwähnt     130  2.565621\n",
      "13    Zyklusbeschwerden               Spender       2  0.039471\n"
     ]
    },
    {
     "data": {
      "application/vnd.plotly.v1+json": {
       "config": {
        "plotlyServerURL": "https://plot.ly"
       },
       "data": [
        {
         "alignmentgroup": "True",
         "hovertemplate": "Darreichungsform=Nicht erwähnt<br>Anzahl=%{x}<br>Marktgebiet=%{y}<extra></extra>",
         "legendgroup": "Nicht erwähnt",
         "marker": {
          "color": "rgb(54, 112, 226)",
          "pattern": {
           "shape": ""
          }
         },
         "name": "Nicht erwähnt",
         "offsetgroup": "Nicht erwähnt",
         "orientation": "h",
         "showlegend": true,
         "textangle": 0,
         "textposition": "auto",
         "texttemplate": "%{x:.0f}",
         "type": "bar",
         "x": [
          14,
          100,
          481,
          94,
          130
         ],
         "xaxis": "x",
         "y": [
          "Menopause",
          "Scheidenflora",
          "Scheidenpilz",
          "Scheidentrockenheit",
          "Zyklusbeschwerden"
         ],
         "yaxis": "y"
        },
        {
         "alignmentgroup": "True",
         "hovertemplate": "Darreichungsform=Spender<br>Anzahl=%{x}<br>Marktgebiet=%{y}<extra></extra>",
         "legendgroup": "Spender",
         "marker": {
          "color": "rgb(54, 169, 226)",
          "pattern": {
           "shape": ""
          }
         },
         "name": "Spender",
         "offsetgroup": "Spender",
         "orientation": "h",
         "showlegend": true,
         "textangle": 0,
         "textposition": "auto",
         "texttemplate": "%{x:.0f}",
         "type": "bar",
         "x": [
          1,
          10,
          2
         ],
         "xaxis": "x",
         "y": [
          "Scheidenflora",
          "Scheidenpilz",
          "Zyklusbeschwerden"
         ],
         "yaxis": "y"
        },
        {
         "alignmentgroup": "True",
         "hovertemplate": "Darreichungsform=Tube<br>Anzahl=%{x}<br>Marktgebiet=%{y}<extra></extra>",
         "legendgroup": "Tube",
         "marker": {
          "color": "rgb(54, 226, 169)",
          "pattern": {
           "shape": ""
          }
         },
         "name": "Tube",
         "offsetgroup": "Tube",
         "orientation": "h",
         "showlegend": true,
         "textangle": 0,
         "textposition": "auto",
         "texttemplate": "%{x:.0f}",
         "type": "bar",
         "x": [
          1,
          5,
          7
         ],
         "xaxis": "x",
         "y": [
          "Scheidenflora",
          "Scheidenpilz",
          "Scheidentrockenheit"
         ],
         "yaxis": "y"
        },
        {
         "alignmentgroup": "True",
         "hovertemplate": "Darreichungsform=Applikator<br>Anzahl=%{x}<br>Marktgebiet=%{y}<extra></extra>",
         "legendgroup": "Applikator",
         "marker": {
          "color": "rgb(112, 54, 226)",
          "pattern": {
           "shape": ""
          }
         },
         "name": "Applikator",
         "offsetgroup": "Applikator",
         "orientation": "h",
         "showlegend": true,
         "textangle": 0,
         "textposition": "auto",
         "texttemplate": "%{x:.0f}",
         "type": "bar",
         "x": [
          1,
          1
         ],
         "xaxis": "x",
         "y": [
          "Scheidentrockenheit",
          "Zyklusbeschwerden"
         ],
         "yaxis": "y"
        }
       ],
       "layout": {
        "annotations": [
         {
          "align": "left",
          "font": {
           "size": 9
          },
          "showarrow": false,
          "text": "Basierend auf 847 Social-Media-Konversationen aus öffentlich zugänglichen Foren <br>Deutschland, Januar 2013 – April 2023.",
          "textangle": 0,
          "x": -0.25,
          "xanchor": "left",
          "xref": "paper",
          "y": -0.39,
          "yref": "paper"
         }
        ],
        "autosize": false,
        "barmode": "relative",
        "height": 378,
        "legend": {
         "title": {
          "text": "Darreichungsform"
         },
         "tracegroupgap": 0
        },
        "template": {
         "data": {
          "bar": [
           {
            "error_x": {
             "color": "#2a3f5f"
            },
            "error_y": {
             "color": "#2a3f5f"
            },
            "marker": {
             "line": {
              "color": "white",
              "width": 0.5
             },
             "pattern": {
              "fillmode": "overlay",
              "size": 10,
              "solidity": 0.2
             }
            },
            "type": "bar"
           }
          ],
          "barpolar": [
           {
            "marker": {
             "line": {
              "color": "white",
              "width": 0.5
             },
             "pattern": {
              "fillmode": "overlay",
              "size": 10,
              "solidity": 0.2
             }
            },
            "type": "barpolar"
           }
          ],
          "carpet": [
           {
            "aaxis": {
             "endlinecolor": "#2a3f5f",
             "gridcolor": "#C8D4E3",
             "linecolor": "#C8D4E3",
             "minorgridcolor": "#C8D4E3",
             "startlinecolor": "#2a3f5f"
            },
            "baxis": {
             "endlinecolor": "#2a3f5f",
             "gridcolor": "#C8D4E3",
             "linecolor": "#C8D4E3",
             "minorgridcolor": "#C8D4E3",
             "startlinecolor": "#2a3f5f"
            },
            "type": "carpet"
           }
          ],
          "choropleth": [
           {
            "colorbar": {
             "outlinewidth": 0,
             "ticks": ""
            },
            "type": "choropleth"
           }
          ],
          "contour": [
           {
            "colorbar": {
             "outlinewidth": 0,
             "ticks": ""
            },
            "colorscale": [
             [
              0,
              "#0d0887"
             ],
             [
              0.1111111111111111,
              "#46039f"
             ],
             [
              0.2222222222222222,
              "#7201a8"
             ],
             [
              0.3333333333333333,
              "#9c179e"
             ],
             [
              0.4444444444444444,
              "#bd3786"
             ],
             [
              0.5555555555555556,
              "#d8576b"
             ],
             [
              0.6666666666666666,
              "#ed7953"
             ],
             [
              0.7777777777777778,
              "#fb9f3a"
             ],
             [
              0.8888888888888888,
              "#fdca26"
             ],
             [
              1,
              "#f0f921"
             ]
            ],
            "type": "contour"
           }
          ],
          "contourcarpet": [
           {
            "colorbar": {
             "outlinewidth": 0,
             "ticks": ""
            },
            "type": "contourcarpet"
           }
          ],
          "heatmap": [
           {
            "colorbar": {
             "outlinewidth": 0,
             "ticks": ""
            },
            "colorscale": [
             [
              0,
              "#0d0887"
             ],
             [
              0.1111111111111111,
              "#46039f"
             ],
             [
              0.2222222222222222,
              "#7201a8"
             ],
             [
              0.3333333333333333,
              "#9c179e"
             ],
             [
              0.4444444444444444,
              "#bd3786"
             ],
             [
              0.5555555555555556,
              "#d8576b"
             ],
             [
              0.6666666666666666,
              "#ed7953"
             ],
             [
              0.7777777777777778,
              "#fb9f3a"
             ],
             [
              0.8888888888888888,
              "#fdca26"
             ],
             [
              1,
              "#f0f921"
             ]
            ],
            "type": "heatmap"
           }
          ],
          "heatmapgl": [
           {
            "colorbar": {
             "outlinewidth": 0,
             "ticks": ""
            },
            "colorscale": [
             [
              0,
              "#0d0887"
             ],
             [
              0.1111111111111111,
              "#46039f"
             ],
             [
              0.2222222222222222,
              "#7201a8"
             ],
             [
              0.3333333333333333,
              "#9c179e"
             ],
             [
              0.4444444444444444,
              "#bd3786"
             ],
             [
              0.5555555555555556,
              "#d8576b"
             ],
             [
              0.6666666666666666,
              "#ed7953"
             ],
             [
              0.7777777777777778,
              "#fb9f3a"
             ],
             [
              0.8888888888888888,
              "#fdca26"
             ],
             [
              1,
              "#f0f921"
             ]
            ],
            "type": "heatmapgl"
           }
          ],
          "histogram": [
           {
            "marker": {
             "pattern": {
              "fillmode": "overlay",
              "size": 10,
              "solidity": 0.2
             }
            },
            "type": "histogram"
           }
          ],
          "histogram2d": [
           {
            "colorbar": {
             "outlinewidth": 0,
             "ticks": ""
            },
            "colorscale": [
             [
              0,
              "#0d0887"
             ],
             [
              0.1111111111111111,
              "#46039f"
             ],
             [
              0.2222222222222222,
              "#7201a8"
             ],
             [
              0.3333333333333333,
              "#9c179e"
             ],
             [
              0.4444444444444444,
              "#bd3786"
             ],
             [
              0.5555555555555556,
              "#d8576b"
             ],
             [
              0.6666666666666666,
              "#ed7953"
             ],
             [
              0.7777777777777778,
              "#fb9f3a"
             ],
             [
              0.8888888888888888,
              "#fdca26"
             ],
             [
              1,
              "#f0f921"
             ]
            ],
            "type": "histogram2d"
           }
          ],
          "histogram2dcontour": [
           {
            "colorbar": {
             "outlinewidth": 0,
             "ticks": ""
            },
            "colorscale": [
             [
              0,
              "#0d0887"
             ],
             [
              0.1111111111111111,
              "#46039f"
             ],
             [
              0.2222222222222222,
              "#7201a8"
             ],
             [
              0.3333333333333333,
              "#9c179e"
             ],
             [
              0.4444444444444444,
              "#bd3786"
             ],
             [
              0.5555555555555556,
              "#d8576b"
             ],
             [
              0.6666666666666666,
              "#ed7953"
             ],
             [
              0.7777777777777778,
              "#fb9f3a"
             ],
             [
              0.8888888888888888,
              "#fdca26"
             ],
             [
              1,
              "#f0f921"
             ]
            ],
            "type": "histogram2dcontour"
           }
          ],
          "mesh3d": [
           {
            "colorbar": {
             "outlinewidth": 0,
             "ticks": ""
            },
            "type": "mesh3d"
           }
          ],
          "parcoords": [
           {
            "line": {
             "colorbar": {
              "outlinewidth": 0,
              "ticks": ""
             }
            },
            "type": "parcoords"
           }
          ],
          "pie": [
           {
            "automargin": true,
            "type": "pie"
           }
          ],
          "scatter": [
           {
            "fillpattern": {
             "fillmode": "overlay",
             "size": 10,
             "solidity": 0.2
            },
            "type": "scatter"
           }
          ],
          "scatter3d": [
           {
            "line": {
             "colorbar": {
              "outlinewidth": 0,
              "ticks": ""
             }
            },
            "marker": {
             "colorbar": {
              "outlinewidth": 0,
              "ticks": ""
             }
            },
            "type": "scatter3d"
           }
          ],
          "scattercarpet": [
           {
            "marker": {
             "colorbar": {
              "outlinewidth": 0,
              "ticks": ""
             }
            },
            "type": "scattercarpet"
           }
          ],
          "scattergeo": [
           {
            "marker": {
             "colorbar": {
              "outlinewidth": 0,
              "ticks": ""
             }
            },
            "type": "scattergeo"
           }
          ],
          "scattergl": [
           {
            "marker": {
             "colorbar": {
              "outlinewidth": 0,
              "ticks": ""
             }
            },
            "type": "scattergl"
           }
          ],
          "scattermapbox": [
           {
            "marker": {
             "colorbar": {
              "outlinewidth": 0,
              "ticks": ""
             }
            },
            "type": "scattermapbox"
           }
          ],
          "scatterpolar": [
           {
            "marker": {
             "colorbar": {
              "outlinewidth": 0,
              "ticks": ""
             }
            },
            "type": "scatterpolar"
           }
          ],
          "scatterpolargl": [
           {
            "marker": {
             "colorbar": {
              "outlinewidth": 0,
              "ticks": ""
             }
            },
            "type": "scatterpolargl"
           }
          ],
          "scatterternary": [
           {
            "marker": {
             "colorbar": {
              "outlinewidth": 0,
              "ticks": ""
             }
            },
            "type": "scatterternary"
           }
          ],
          "surface": [
           {
            "colorbar": {
             "outlinewidth": 0,
             "ticks": ""
            },
            "colorscale": [
             [
              0,
              "#0d0887"
             ],
             [
              0.1111111111111111,
              "#46039f"
             ],
             [
              0.2222222222222222,
              "#7201a8"
             ],
             [
              0.3333333333333333,
              "#9c179e"
             ],
             [
              0.4444444444444444,
              "#bd3786"
             ],
             [
              0.5555555555555556,
              "#d8576b"
             ],
             [
              0.6666666666666666,
              "#ed7953"
             ],
             [
              0.7777777777777778,
              "#fb9f3a"
             ],
             [
              0.8888888888888888,
              "#fdca26"
             ],
             [
              1,
              "#f0f921"
             ]
            ],
            "type": "surface"
           }
          ],
          "table": [
           {
            "cells": {
             "fill": {
              "color": "#EBF0F8"
             },
             "line": {
              "color": "white"
             }
            },
            "header": {
             "fill": {
              "color": "#C8D4E3"
             },
             "line": {
              "color": "white"
             }
            },
            "type": "table"
           }
          ]
         },
         "layout": {
          "annotationdefaults": {
           "arrowcolor": "#2a3f5f",
           "arrowhead": 0,
           "arrowwidth": 1
          },
          "autotypenumbers": "strict",
          "coloraxis": {
           "colorbar": {
            "outlinewidth": 0,
            "ticks": ""
           }
          },
          "colorscale": {
           "diverging": [
            [
             0,
             "#8e0152"
            ],
            [
             0.1,
             "#c51b7d"
            ],
            [
             0.2,
             "#de77ae"
            ],
            [
             0.3,
             "#f1b6da"
            ],
            [
             0.4,
             "#fde0ef"
            ],
            [
             0.5,
             "#f7f7f7"
            ],
            [
             0.6,
             "#e6f5d0"
            ],
            [
             0.7,
             "#b8e186"
            ],
            [
             0.8,
             "#7fbc41"
            ],
            [
             0.9,
             "#4d9221"
            ],
            [
             1,
             "#276419"
            ]
           ],
           "sequential": [
            [
             0,
             "#0d0887"
            ],
            [
             0.1111111111111111,
             "#46039f"
            ],
            [
             0.2222222222222222,
             "#7201a8"
            ],
            [
             0.3333333333333333,
             "#9c179e"
            ],
            [
             0.4444444444444444,
             "#bd3786"
            ],
            [
             0.5555555555555556,
             "#d8576b"
            ],
            [
             0.6666666666666666,
             "#ed7953"
            ],
            [
             0.7777777777777778,
             "#fb9f3a"
            ],
            [
             0.8888888888888888,
             "#fdca26"
            ],
            [
             1,
             "#f0f921"
            ]
           ],
           "sequentialminus": [
            [
             0,
             "#0d0887"
            ],
            [
             0.1111111111111111,
             "#46039f"
            ],
            [
             0.2222222222222222,
             "#7201a8"
            ],
            [
             0.3333333333333333,
             "#9c179e"
            ],
            [
             0.4444444444444444,
             "#bd3786"
            ],
            [
             0.5555555555555556,
             "#d8576b"
            ],
            [
             0.6666666666666666,
             "#ed7953"
            ],
            [
             0.7777777777777778,
             "#fb9f3a"
            ],
            [
             0.8888888888888888,
             "#fdca26"
            ],
            [
             1,
             "#f0f921"
            ]
           ]
          },
          "colorway": [
           "#636efa",
           "#EF553B",
           "#00cc96",
           "#ab63fa",
           "#FFA15A",
           "#19d3f3",
           "#FF6692",
           "#B6E880",
           "#FF97FF",
           "#FECB52"
          ],
          "font": {
           "color": "#2a3f5f"
          },
          "geo": {
           "bgcolor": "white",
           "lakecolor": "white",
           "landcolor": "white",
           "showlakes": true,
           "showland": true,
           "subunitcolor": "#C8D4E3"
          },
          "hoverlabel": {
           "align": "left"
          },
          "hovermode": "closest",
          "mapbox": {
           "style": "light"
          },
          "paper_bgcolor": "white",
          "plot_bgcolor": "white",
          "polar": {
           "angularaxis": {
            "gridcolor": "#EBF0F8",
            "linecolor": "#EBF0F8",
            "ticks": ""
           },
           "bgcolor": "white",
           "radialaxis": {
            "gridcolor": "#EBF0F8",
            "linecolor": "#EBF0F8",
            "ticks": ""
           }
          },
          "scene": {
           "xaxis": {
            "backgroundcolor": "white",
            "gridcolor": "#DFE8F3",
            "gridwidth": 2,
            "linecolor": "#EBF0F8",
            "showbackground": true,
            "ticks": "",
            "zerolinecolor": "#EBF0F8"
           },
           "yaxis": {
            "backgroundcolor": "white",
            "gridcolor": "#DFE8F3",
            "gridwidth": 2,
            "linecolor": "#EBF0F8",
            "showbackground": true,
            "ticks": "",
            "zerolinecolor": "#EBF0F8"
           },
           "zaxis": {
            "backgroundcolor": "white",
            "gridcolor": "#DFE8F3",
            "gridwidth": 2,
            "linecolor": "#EBF0F8",
            "showbackground": true,
            "ticks": "",
            "zerolinecolor": "#EBF0F8"
           }
          },
          "shapedefaults": {
           "line": {
            "color": "#2a3f5f"
           }
          },
          "ternary": {
           "aaxis": {
            "gridcolor": "#DFE8F3",
            "linecolor": "#A2B1C6",
            "ticks": ""
           },
           "baxis": {
            "gridcolor": "#DFE8F3",
            "linecolor": "#A2B1C6",
            "ticks": ""
           },
           "bgcolor": "white",
           "caxis": {
            "gridcolor": "#DFE8F3",
            "linecolor": "#A2B1C6",
            "ticks": ""
           }
          },
          "title": {
           "x": 0.05
          },
          "xaxis": {
           "automargin": true,
           "gridcolor": "#EBF0F8",
           "linecolor": "#EBF0F8",
           "ticks": "",
           "title": {
            "standoff": 15
           },
           "zerolinecolor": "#EBF0F8",
           "zerolinewidth": 2
          },
          "yaxis": {
           "automargin": true,
           "gridcolor": "#EBF0F8",
           "linecolor": "#EBF0F8",
           "ticks": "",
           "title": {
            "standoff": 15
           },
           "zerolinecolor": "#EBF0F8",
           "zerolinewidth": 2
          }
         }
        },
        "title": {
         "text": "Anzahl der Social - Media - Posts mit der Kombination: <br>Darreichungsform und Marktgebiet"
        },
        "width": 756,
        "xaxis": {
         "anchor": "y",
         "domain": [
          0,
          1
         ],
         "title": {
          "text": "Anzahl"
         }
        },
        "yaxis": {
         "anchor": "x",
         "domain": [
          0,
          1
         ],
         "title": {
          "text": "Marktgebiet"
         }
        }
       }
      }
     },
     "metadata": {},
     "output_type": "display_data"
    },
    {
     "data": {
      "application/vnd.plotly.v1+json": {
       "config": {
        "plotlyServerURL": "https://plot.ly"
       },
       "data": [
        {
         "alignmentgroup": "True",
         "bingroup": "y",
         "histfunc": "sum",
         "hovertemplate": "Darreichungsform=Nicht erwähnt<br>sum of Anteil (normalized as percent)=%{x}<br>Marktgebiet=%{y}<extra></extra>",
         "legendgroup": "Nicht erwähnt",
         "marker": {
          "color": "rgb(54, 112, 226)",
          "pattern": {
           "shape": ""
          }
         },
         "name": "Nicht erwähnt",
         "offsetgroup": "Nicht erwähnt",
         "orientation": "h",
         "showlegend": true,
         "textangle": 0,
         "texttemplate": "%{value:.0f}",
         "type": "histogram",
         "x": [
          0.2762976119992106,
          1.9735543714229327,
          9.492796526544305,
          1.8551411091375567,
          2.5656206828498127
         ],
         "xaxis": "x",
         "y": [
          "Menopause",
          "Scheidenflora",
          "Scheidenpilz",
          "Scheidentrockenheit",
          "Zyklusbeschwerden"
         ],
         "yaxis": "y"
        },
        {
         "alignmentgroup": "True",
         "bingroup": "y",
         "histfunc": "sum",
         "hovertemplate": "Darreichungsform=Spender<br>sum of Anteil (normalized as percent)=%{x}<br>Marktgebiet=%{y}<extra></extra>",
         "legendgroup": "Spender",
         "marker": {
          "color": "rgb(54, 169, 226)",
          "pattern": {
           "shape": ""
          }
         },
         "name": "Spender",
         "offsetgroup": "Spender",
         "orientation": "h",
         "showlegend": true,
         "textangle": 0,
         "texttemplate": "%{value:.0f}",
         "type": "histogram",
         "x": [
          0.01973554371422933,
          0.19735543714229326,
          0.03947108742845866
         ],
         "xaxis": "x",
         "y": [
          "Scheidenflora",
          "Scheidenpilz",
          "Zyklusbeschwerden"
         ],
         "yaxis": "y"
        },
        {
         "alignmentgroup": "True",
         "bingroup": "y",
         "histfunc": "sum",
         "hovertemplate": "Darreichungsform=Tube<br>sum of Anteil (normalized as percent)=%{x}<br>Marktgebiet=%{y}<extra></extra>",
         "legendgroup": "Tube",
         "marker": {
          "color": "rgb(54, 226, 169)",
          "pattern": {
           "shape": ""
          }
         },
         "name": "Tube",
         "offsetgroup": "Tube",
         "orientation": "h",
         "showlegend": true,
         "textangle": 0,
         "texttemplate": "%{value:.0f}",
         "type": "histogram",
         "x": [
          0.01973554371422933,
          0.09867771857114663,
          0.1381488059996053
         ],
         "xaxis": "x",
         "y": [
          "Scheidenflora",
          "Scheidenpilz",
          "Scheidentrockenheit"
         ],
         "yaxis": "y"
        },
        {
         "alignmentgroup": "True",
         "bingroup": "y",
         "histfunc": "sum",
         "hovertemplate": "Darreichungsform=Applikator<br>sum of Anteil (normalized as percent)=%{x}<br>Marktgebiet=%{y}<extra></extra>",
         "legendgroup": "Applikator",
         "marker": {
          "color": "rgb(112, 54, 226)",
          "pattern": {
           "shape": ""
          }
         },
         "name": "Applikator",
         "offsetgroup": "Applikator",
         "orientation": "h",
         "showlegend": true,
         "textangle": 0,
         "texttemplate": "%{value:.0f}",
         "type": "histogram",
         "x": [
          0.01973554371422933,
          0.01973554371422933
         ],
         "xaxis": "x",
         "y": [
          "Scheidentrockenheit",
          "Zyklusbeschwerden"
         ],
         "yaxis": "y"
        }
       ],
       "layout": {
        "annotations": [
         {
          "align": "left",
          "font": {
           "size": 9
          },
          "showarrow": false,
          "text": "Basierend auf 847 Social-Media-Konversationen aus öffentlich zugänglichen Foren <br>Deutschland, Januar 2013 – April 2023.",
          "textangle": 0,
          "x": -0.25,
          "xanchor": "left",
          "xref": "paper",
          "y": -0.39,
          "yref": "paper"
         }
        ],
        "autosize": false,
        "barmode": "relative",
        "barnorm": "percent",
        "height": 378,
        "legend": {
         "title": {
          "text": "Darreichungsform"
         },
         "tracegroupgap": 0
        },
        "template": {
         "data": {
          "bar": [
           {
            "error_x": {
             "color": "#2a3f5f"
            },
            "error_y": {
             "color": "#2a3f5f"
            },
            "marker": {
             "line": {
              "color": "white",
              "width": 0.5
             },
             "pattern": {
              "fillmode": "overlay",
              "size": 10,
              "solidity": 0.2
             }
            },
            "type": "bar"
           }
          ],
          "barpolar": [
           {
            "marker": {
             "line": {
              "color": "white",
              "width": 0.5
             },
             "pattern": {
              "fillmode": "overlay",
              "size": 10,
              "solidity": 0.2
             }
            },
            "type": "barpolar"
           }
          ],
          "carpet": [
           {
            "aaxis": {
             "endlinecolor": "#2a3f5f",
             "gridcolor": "#C8D4E3",
             "linecolor": "#C8D4E3",
             "minorgridcolor": "#C8D4E3",
             "startlinecolor": "#2a3f5f"
            },
            "baxis": {
             "endlinecolor": "#2a3f5f",
             "gridcolor": "#C8D4E3",
             "linecolor": "#C8D4E3",
             "minorgridcolor": "#C8D4E3",
             "startlinecolor": "#2a3f5f"
            },
            "type": "carpet"
           }
          ],
          "choropleth": [
           {
            "colorbar": {
             "outlinewidth": 0,
             "ticks": ""
            },
            "type": "choropleth"
           }
          ],
          "contour": [
           {
            "colorbar": {
             "outlinewidth": 0,
             "ticks": ""
            },
            "colorscale": [
             [
              0,
              "#0d0887"
             ],
             [
              0.1111111111111111,
              "#46039f"
             ],
             [
              0.2222222222222222,
              "#7201a8"
             ],
             [
              0.3333333333333333,
              "#9c179e"
             ],
             [
              0.4444444444444444,
              "#bd3786"
             ],
             [
              0.5555555555555556,
              "#d8576b"
             ],
             [
              0.6666666666666666,
              "#ed7953"
             ],
             [
              0.7777777777777778,
              "#fb9f3a"
             ],
             [
              0.8888888888888888,
              "#fdca26"
             ],
             [
              1,
              "#f0f921"
             ]
            ],
            "type": "contour"
           }
          ],
          "contourcarpet": [
           {
            "colorbar": {
             "outlinewidth": 0,
             "ticks": ""
            },
            "type": "contourcarpet"
           }
          ],
          "heatmap": [
           {
            "colorbar": {
             "outlinewidth": 0,
             "ticks": ""
            },
            "colorscale": [
             [
              0,
              "#0d0887"
             ],
             [
              0.1111111111111111,
              "#46039f"
             ],
             [
              0.2222222222222222,
              "#7201a8"
             ],
             [
              0.3333333333333333,
              "#9c179e"
             ],
             [
              0.4444444444444444,
              "#bd3786"
             ],
             [
              0.5555555555555556,
              "#d8576b"
             ],
             [
              0.6666666666666666,
              "#ed7953"
             ],
             [
              0.7777777777777778,
              "#fb9f3a"
             ],
             [
              0.8888888888888888,
              "#fdca26"
             ],
             [
              1,
              "#f0f921"
             ]
            ],
            "type": "heatmap"
           }
          ],
          "heatmapgl": [
           {
            "colorbar": {
             "outlinewidth": 0,
             "ticks": ""
            },
            "colorscale": [
             [
              0,
              "#0d0887"
             ],
             [
              0.1111111111111111,
              "#46039f"
             ],
             [
              0.2222222222222222,
              "#7201a8"
             ],
             [
              0.3333333333333333,
              "#9c179e"
             ],
             [
              0.4444444444444444,
              "#bd3786"
             ],
             [
              0.5555555555555556,
              "#d8576b"
             ],
             [
              0.6666666666666666,
              "#ed7953"
             ],
             [
              0.7777777777777778,
              "#fb9f3a"
             ],
             [
              0.8888888888888888,
              "#fdca26"
             ],
             [
              1,
              "#f0f921"
             ]
            ],
            "type": "heatmapgl"
           }
          ],
          "histogram": [
           {
            "marker": {
             "pattern": {
              "fillmode": "overlay",
              "size": 10,
              "solidity": 0.2
             }
            },
            "type": "histogram"
           }
          ],
          "histogram2d": [
           {
            "colorbar": {
             "outlinewidth": 0,
             "ticks": ""
            },
            "colorscale": [
             [
              0,
              "#0d0887"
             ],
             [
              0.1111111111111111,
              "#46039f"
             ],
             [
              0.2222222222222222,
              "#7201a8"
             ],
             [
              0.3333333333333333,
              "#9c179e"
             ],
             [
              0.4444444444444444,
              "#bd3786"
             ],
             [
              0.5555555555555556,
              "#d8576b"
             ],
             [
              0.6666666666666666,
              "#ed7953"
             ],
             [
              0.7777777777777778,
              "#fb9f3a"
             ],
             [
              0.8888888888888888,
              "#fdca26"
             ],
             [
              1,
              "#f0f921"
             ]
            ],
            "type": "histogram2d"
           }
          ],
          "histogram2dcontour": [
           {
            "colorbar": {
             "outlinewidth": 0,
             "ticks": ""
            },
            "colorscale": [
             [
              0,
              "#0d0887"
             ],
             [
              0.1111111111111111,
              "#46039f"
             ],
             [
              0.2222222222222222,
              "#7201a8"
             ],
             [
              0.3333333333333333,
              "#9c179e"
             ],
             [
              0.4444444444444444,
              "#bd3786"
             ],
             [
              0.5555555555555556,
              "#d8576b"
             ],
             [
              0.6666666666666666,
              "#ed7953"
             ],
             [
              0.7777777777777778,
              "#fb9f3a"
             ],
             [
              0.8888888888888888,
              "#fdca26"
             ],
             [
              1,
              "#f0f921"
             ]
            ],
            "type": "histogram2dcontour"
           }
          ],
          "mesh3d": [
           {
            "colorbar": {
             "outlinewidth": 0,
             "ticks": ""
            },
            "type": "mesh3d"
           }
          ],
          "parcoords": [
           {
            "line": {
             "colorbar": {
              "outlinewidth": 0,
              "ticks": ""
             }
            },
            "type": "parcoords"
           }
          ],
          "pie": [
           {
            "automargin": true,
            "type": "pie"
           }
          ],
          "scatter": [
           {
            "fillpattern": {
             "fillmode": "overlay",
             "size": 10,
             "solidity": 0.2
            },
            "type": "scatter"
           }
          ],
          "scatter3d": [
           {
            "line": {
             "colorbar": {
              "outlinewidth": 0,
              "ticks": ""
             }
            },
            "marker": {
             "colorbar": {
              "outlinewidth": 0,
              "ticks": ""
             }
            },
            "type": "scatter3d"
           }
          ],
          "scattercarpet": [
           {
            "marker": {
             "colorbar": {
              "outlinewidth": 0,
              "ticks": ""
             }
            },
            "type": "scattercarpet"
           }
          ],
          "scattergeo": [
           {
            "marker": {
             "colorbar": {
              "outlinewidth": 0,
              "ticks": ""
             }
            },
            "type": "scattergeo"
           }
          ],
          "scattergl": [
           {
            "marker": {
             "colorbar": {
              "outlinewidth": 0,
              "ticks": ""
             }
            },
            "type": "scattergl"
           }
          ],
          "scattermapbox": [
           {
            "marker": {
             "colorbar": {
              "outlinewidth": 0,
              "ticks": ""
             }
            },
            "type": "scattermapbox"
           }
          ],
          "scatterpolar": [
           {
            "marker": {
             "colorbar": {
              "outlinewidth": 0,
              "ticks": ""
             }
            },
            "type": "scatterpolar"
           }
          ],
          "scatterpolargl": [
           {
            "marker": {
             "colorbar": {
              "outlinewidth": 0,
              "ticks": ""
             }
            },
            "type": "scatterpolargl"
           }
          ],
          "scatterternary": [
           {
            "marker": {
             "colorbar": {
              "outlinewidth": 0,
              "ticks": ""
             }
            },
            "type": "scatterternary"
           }
          ],
          "surface": [
           {
            "colorbar": {
             "outlinewidth": 0,
             "ticks": ""
            },
            "colorscale": [
             [
              0,
              "#0d0887"
             ],
             [
              0.1111111111111111,
              "#46039f"
             ],
             [
              0.2222222222222222,
              "#7201a8"
             ],
             [
              0.3333333333333333,
              "#9c179e"
             ],
             [
              0.4444444444444444,
              "#bd3786"
             ],
             [
              0.5555555555555556,
              "#d8576b"
             ],
             [
              0.6666666666666666,
              "#ed7953"
             ],
             [
              0.7777777777777778,
              "#fb9f3a"
             ],
             [
              0.8888888888888888,
              "#fdca26"
             ],
             [
              1,
              "#f0f921"
             ]
            ],
            "type": "surface"
           }
          ],
          "table": [
           {
            "cells": {
             "fill": {
              "color": "#EBF0F8"
             },
             "line": {
              "color": "white"
             }
            },
            "header": {
             "fill": {
              "color": "#C8D4E3"
             },
             "line": {
              "color": "white"
             }
            },
            "type": "table"
           }
          ]
         },
         "layout": {
          "annotationdefaults": {
           "arrowcolor": "#2a3f5f",
           "arrowhead": 0,
           "arrowwidth": 1
          },
          "autotypenumbers": "strict",
          "coloraxis": {
           "colorbar": {
            "outlinewidth": 0,
            "ticks": ""
           }
          },
          "colorscale": {
           "diverging": [
            [
             0,
             "#8e0152"
            ],
            [
             0.1,
             "#c51b7d"
            ],
            [
             0.2,
             "#de77ae"
            ],
            [
             0.3,
             "#f1b6da"
            ],
            [
             0.4,
             "#fde0ef"
            ],
            [
             0.5,
             "#f7f7f7"
            ],
            [
             0.6,
             "#e6f5d0"
            ],
            [
             0.7,
             "#b8e186"
            ],
            [
             0.8,
             "#7fbc41"
            ],
            [
             0.9,
             "#4d9221"
            ],
            [
             1,
             "#276419"
            ]
           ],
           "sequential": [
            [
             0,
             "#0d0887"
            ],
            [
             0.1111111111111111,
             "#46039f"
            ],
            [
             0.2222222222222222,
             "#7201a8"
            ],
            [
             0.3333333333333333,
             "#9c179e"
            ],
            [
             0.4444444444444444,
             "#bd3786"
            ],
            [
             0.5555555555555556,
             "#d8576b"
            ],
            [
             0.6666666666666666,
             "#ed7953"
            ],
            [
             0.7777777777777778,
             "#fb9f3a"
            ],
            [
             0.8888888888888888,
             "#fdca26"
            ],
            [
             1,
             "#f0f921"
            ]
           ],
           "sequentialminus": [
            [
             0,
             "#0d0887"
            ],
            [
             0.1111111111111111,
             "#46039f"
            ],
            [
             0.2222222222222222,
             "#7201a8"
            ],
            [
             0.3333333333333333,
             "#9c179e"
            ],
            [
             0.4444444444444444,
             "#bd3786"
            ],
            [
             0.5555555555555556,
             "#d8576b"
            ],
            [
             0.6666666666666666,
             "#ed7953"
            ],
            [
             0.7777777777777778,
             "#fb9f3a"
            ],
            [
             0.8888888888888888,
             "#fdca26"
            ],
            [
             1,
             "#f0f921"
            ]
           ]
          },
          "colorway": [
           "#636efa",
           "#EF553B",
           "#00cc96",
           "#ab63fa",
           "#FFA15A",
           "#19d3f3",
           "#FF6692",
           "#B6E880",
           "#FF97FF",
           "#FECB52"
          ],
          "font": {
           "color": "#2a3f5f"
          },
          "geo": {
           "bgcolor": "white",
           "lakecolor": "white",
           "landcolor": "white",
           "showlakes": true,
           "showland": true,
           "subunitcolor": "#C8D4E3"
          },
          "hoverlabel": {
           "align": "left"
          },
          "hovermode": "closest",
          "mapbox": {
           "style": "light"
          },
          "paper_bgcolor": "white",
          "plot_bgcolor": "white",
          "polar": {
           "angularaxis": {
            "gridcolor": "#EBF0F8",
            "linecolor": "#EBF0F8",
            "ticks": ""
           },
           "bgcolor": "white",
           "radialaxis": {
            "gridcolor": "#EBF0F8",
            "linecolor": "#EBF0F8",
            "ticks": ""
           }
          },
          "scene": {
           "xaxis": {
            "backgroundcolor": "white",
            "gridcolor": "#DFE8F3",
            "gridwidth": 2,
            "linecolor": "#EBF0F8",
            "showbackground": true,
            "ticks": "",
            "zerolinecolor": "#EBF0F8"
           },
           "yaxis": {
            "backgroundcolor": "white",
            "gridcolor": "#DFE8F3",
            "gridwidth": 2,
            "linecolor": "#EBF0F8",
            "showbackground": true,
            "ticks": "",
            "zerolinecolor": "#EBF0F8"
           },
           "zaxis": {
            "backgroundcolor": "white",
            "gridcolor": "#DFE8F3",
            "gridwidth": 2,
            "linecolor": "#EBF0F8",
            "showbackground": true,
            "ticks": "",
            "zerolinecolor": "#EBF0F8"
           }
          },
          "shapedefaults": {
           "line": {
            "color": "#2a3f5f"
           }
          },
          "ternary": {
           "aaxis": {
            "gridcolor": "#DFE8F3",
            "linecolor": "#A2B1C6",
            "ticks": ""
           },
           "baxis": {
            "gridcolor": "#DFE8F3",
            "linecolor": "#A2B1C6",
            "ticks": ""
           },
           "bgcolor": "white",
           "caxis": {
            "gridcolor": "#DFE8F3",
            "linecolor": "#A2B1C6",
            "ticks": ""
           }
          },
          "title": {
           "x": 0.05
          },
          "xaxis": {
           "automargin": true,
           "gridcolor": "#EBF0F8",
           "linecolor": "#EBF0F8",
           "ticks": "",
           "title": {
            "standoff": 15
           },
           "zerolinecolor": "#EBF0F8",
           "zerolinewidth": 2
          },
          "yaxis": {
           "automargin": true,
           "gridcolor": "#EBF0F8",
           "linecolor": "#EBF0F8",
           "ticks": "",
           "title": {
            "standoff": 15
           },
           "zerolinecolor": "#EBF0F8",
           "zerolinewidth": 2
          }
         }
        },
        "title": {
         "text": "Anzahl der Social - Media - Posts mit der Kombination: <br>Darreichungsform und Marktgebiet"
        },
        "width": 756,
        "xaxis": {
         "anchor": "y",
         "domain": [
          0,
          1
         ],
         "title": {
          "text": "Anteil"
         }
        },
        "yaxis": {
         "anchor": "x",
         "domain": [
          0,
          1
         ],
         "title": {
          "text": "Marktgebiet"
         }
        }
       }
      }
     },
     "metadata": {},
     "output_type": "display_data"
    },
    {
     "name": "stdout",
     "output_type": "stream",
     "text": [
      "                topic_1 topic_1_product_influecned_positivley  Anzahl    Anteil\n",
      "0             Menopause                        ApothekerInnen       2  0.039471\n",
      "1             Menopause                            Empfehlung       2  0.039471\n",
      "2             Menopause                          Social Media       2  0.039471\n",
      "3             Menopause                             ÄrztInnen       1  0.019736\n",
      "4         Scheidenflora                        ApothekerInnen       3  0.059207\n",
      "5         Scheidenflora                            Empfehlung       6  0.118413\n",
      "6         Scheidenflora                  Freunde oder Familie       1  0.019736\n",
      "7         Scheidenflora                              Hebammen       1  0.019736\n",
      "8         Scheidenflora                         Kein Einfluss       1  0.019736\n",
      "9         Scheidenflora                  Vorhandene Erfahrung       1  0.019736\n",
      "10        Scheidenflora                             ÄrztInnen      21  0.414446\n",
      "11         Scheidenpilz         Andere medizinische Fachkraft       2  0.039471\n",
      "12         Scheidenpilz                        ApothekerInnen       9  0.177620\n",
      "13         Scheidenpilz                            Empfehlung      15  0.296033\n",
      "14         Scheidenpilz                  Freunde oder Familie       2  0.039471\n",
      "15         Scheidenpilz                              Hebammen       1  0.019736\n",
      "16         Scheidenpilz                         Kein Einfluss       4  0.078942\n",
      "17         Scheidenpilz                          Social Media      14  0.276298\n",
      "18         Scheidenpilz                  Vorhandene Erfahrung      10  0.197355\n",
      "19         Scheidenpilz                               Werbung       2  0.039471\n",
      "20         Scheidenpilz                       Zeitungsartikel       2  0.039471\n",
      "21         Scheidenpilz                             ÄrztInnen     133  2.624827\n",
      "22  Scheidentrockenheit                        ApothekerInnen       4  0.078942\n",
      "23  Scheidentrockenheit                            Empfehlung       3  0.059207\n",
      "24  Scheidentrockenheit                              Hebammen       1  0.019736\n",
      "25  Scheidentrockenheit                         Kein Einfluss       1  0.019736\n",
      "26  Scheidentrockenheit                          Social Media       3  0.059207\n",
      "27  Scheidentrockenheit                  Vorhandene Erfahrung       1  0.019736\n",
      "28  Scheidentrockenheit                             ÄrztInnen      33  0.651273\n",
      "29    Zyklusbeschwerden                        ApothekerInnen       3  0.059207\n",
      "30    Zyklusbeschwerden                            Empfehlung      15  0.296033\n",
      "31    Zyklusbeschwerden                  Freunde oder Familie       2  0.039471\n",
      "32    Zyklusbeschwerden                         Kein Einfluss       3  0.059207\n",
      "33    Zyklusbeschwerden                          Social Media       5  0.098678\n",
      "34    Zyklusbeschwerden                  Vorhandene Erfahrung       7  0.138149\n",
      "35    Zyklusbeschwerden                             ÄrztInnen       8  0.157884\n"
     ]
    },
    {
     "data": {
      "application/vnd.plotly.v1+json": {
       "config": {
        "plotlyServerURL": "https://plot.ly"
       },
       "data": [
        {
         "alignmentgroup": "True",
         "hovertemplate": "Einfluss: positiv=ApothekerInnen<br>Anzahl=%{x}<br>Marktgebiet=%{y}<extra></extra>",
         "legendgroup": "ApothekerInnen",
         "marker": {
          "color": "rgb(54, 112, 226)",
          "pattern": {
           "shape": ""
          }
         },
         "name": "ApothekerInnen",
         "offsetgroup": "ApothekerInnen",
         "orientation": "h",
         "showlegend": true,
         "textangle": 0,
         "textposition": "auto",
         "texttemplate": "%{x:.0f}",
         "type": "bar",
         "x": [
          2,
          3,
          9,
          4,
          3
         ],
         "xaxis": "x",
         "y": [
          "Menopause",
          "Scheidenflora",
          "Scheidenpilz",
          "Scheidentrockenheit",
          "Zyklusbeschwerden"
         ],
         "yaxis": "y"
        },
        {
         "alignmentgroup": "True",
         "hovertemplate": "Einfluss: positiv=Empfehlung<br>Anzahl=%{x}<br>Marktgebiet=%{y}<extra></extra>",
         "legendgroup": "Empfehlung",
         "marker": {
          "color": "rgb(54, 169, 226)",
          "pattern": {
           "shape": ""
          }
         },
         "name": "Empfehlung",
         "offsetgroup": "Empfehlung",
         "orientation": "h",
         "showlegend": true,
         "textangle": 0,
         "textposition": "auto",
         "texttemplate": "%{x:.0f}",
         "type": "bar",
         "x": [
          2,
          6,
          15,
          3,
          15
         ],
         "xaxis": "x",
         "y": [
          "Menopause",
          "Scheidenflora",
          "Scheidenpilz",
          "Scheidentrockenheit",
          "Zyklusbeschwerden"
         ],
         "yaxis": "y"
        },
        {
         "alignmentgroup": "True",
         "hovertemplate": "Einfluss: positiv=Social Media<br>Anzahl=%{x}<br>Marktgebiet=%{y}<extra></extra>",
         "legendgroup": "Social Media",
         "marker": {
          "color": "rgb(54, 226, 169)",
          "pattern": {
           "shape": ""
          }
         },
         "name": "Social Media",
         "offsetgroup": "Social Media",
         "orientation": "h",
         "showlegend": true,
         "textangle": 0,
         "textposition": "auto",
         "texttemplate": "%{x:.0f}",
         "type": "bar",
         "x": [
          2,
          14,
          3,
          5
         ],
         "xaxis": "x",
         "y": [
          "Menopause",
          "Scheidenpilz",
          "Scheidentrockenheit",
          "Zyklusbeschwerden"
         ],
         "yaxis": "y"
        },
        {
         "alignmentgroup": "True",
         "hovertemplate": "Einfluss: positiv=ÄrztInnen<br>Anzahl=%{x}<br>Marktgebiet=%{y}<extra></extra>",
         "legendgroup": "ÄrztInnen",
         "marker": {
          "color": "rgb(112, 54, 226)",
          "pattern": {
           "shape": ""
          }
         },
         "name": "ÄrztInnen",
         "offsetgroup": "ÄrztInnen",
         "orientation": "h",
         "showlegend": true,
         "textangle": 0,
         "textposition": "auto",
         "texttemplate": "%{x:.0f}",
         "type": "bar",
         "x": [
          1,
          21,
          133,
          33,
          8
         ],
         "xaxis": "x",
         "y": [
          "Menopause",
          "Scheidenflora",
          "Scheidenpilz",
          "Scheidentrockenheit",
          "Zyklusbeschwerden"
         ],
         "yaxis": "y"
        },
        {
         "alignmentgroup": "True",
         "hovertemplate": "Einfluss: positiv=Freunde oder Familie<br>Anzahl=%{x}<br>Marktgebiet=%{y}<extra></extra>",
         "legendgroup": "Freunde oder Familie",
         "marker": {
          "color": "rgb(226, 54, 169)",
          "pattern": {
           "shape": ""
          }
         },
         "name": "Freunde oder Familie",
         "offsetgroup": "Freunde oder Familie",
         "orientation": "h",
         "showlegend": true,
         "textangle": 0,
         "textposition": "auto",
         "texttemplate": "%{x:.0f}",
         "type": "bar",
         "x": [
          1,
          2,
          2
         ],
         "xaxis": "x",
         "y": [
          "Scheidenflora",
          "Scheidenpilz",
          "Zyklusbeschwerden"
         ],
         "yaxis": "y"
        },
        {
         "alignmentgroup": "True",
         "hovertemplate": "Einfluss: positiv=Hebammen<br>Anzahl=%{x}<br>Marktgebiet=%{y}<extra></extra>",
         "legendgroup": "Hebammen",
         "marker": {
          "color": "rgb(169, 54, 226)",
          "pattern": {
           "shape": ""
          }
         },
         "name": "Hebammen",
         "offsetgroup": "Hebammen",
         "orientation": "h",
         "showlegend": true,
         "textangle": 0,
         "textposition": "auto",
         "texttemplate": "%{x:.0f}",
         "type": "bar",
         "x": [
          1,
          1,
          1
         ],
         "xaxis": "x",
         "y": [
          "Scheidenflora",
          "Scheidenpilz",
          "Scheidentrockenheit"
         ],
         "yaxis": "y"
        },
        {
         "alignmentgroup": "True",
         "hovertemplate": "Einfluss: positiv=Kein Einfluss<br>Anzahl=%{x}<br>Marktgebiet=%{y}<extra></extra>",
         "legendgroup": "Kein Einfluss",
         "marker": {
          "color": "rgb(169, 226, 54)",
          "pattern": {
           "shape": ""
          }
         },
         "name": "Kein Einfluss",
         "offsetgroup": "Kein Einfluss",
         "orientation": "h",
         "showlegend": true,
         "textangle": 0,
         "textposition": "auto",
         "texttemplate": "%{x:.0f}",
         "type": "bar",
         "x": [
          1,
          4,
          1,
          3
         ],
         "xaxis": "x",
         "y": [
          "Scheidenflora",
          "Scheidenpilz",
          "Scheidentrockenheit",
          "Zyklusbeschwerden"
         ],
         "yaxis": "y"
        },
        {
         "alignmentgroup": "True",
         "hovertemplate": "Einfluss: positiv=Vorhandene Erfahrung<br>Anzahl=%{x}<br>Marktgebiet=%{y}<extra></extra>",
         "legendgroup": "Vorhandene Erfahrung",
         "marker": {
          "color": "rgb(204, 153, 255)",
          "pattern": {
           "shape": ""
          }
         },
         "name": "Vorhandene Erfahrung",
         "offsetgroup": "Vorhandene Erfahrung",
         "orientation": "h",
         "showlegend": true,
         "textangle": 0,
         "textposition": "auto",
         "texttemplate": "%{x:.0f}",
         "type": "bar",
         "x": [
          1,
          10,
          1,
          7
         ],
         "xaxis": "x",
         "y": [
          "Scheidenflora",
          "Scheidenpilz",
          "Scheidentrockenheit",
          "Zyklusbeschwerden"
         ],
         "yaxis": "y"
        },
        {
         "alignmentgroup": "True",
         "hovertemplate": "Einfluss: positiv=Andere medizinische Fachkraft<br>Anzahl=%{x}<br>Marktgebiet=%{y}<extra></extra>",
         "legendgroup": "Andere medizinische Fachkraft",
         "marker": {
          "color": "rgb(226, 226, 54)",
          "pattern": {
           "shape": ""
          }
         },
         "name": "Andere medizinische Fachkraft",
         "offsetgroup": "Andere medizinische Fachkraft",
         "orientation": "h",
         "showlegend": true,
         "textangle": 0,
         "textposition": "auto",
         "texttemplate": "%{x:.0f}",
         "type": "bar",
         "x": [
          2
         ],
         "xaxis": "x",
         "y": [
          "Scheidenpilz"
         ],
         "yaxis": "y"
        },
        {
         "alignmentgroup": "True",
         "hovertemplate": "Einfluss: positiv=Werbung<br>Anzahl=%{x}<br>Marktgebiet=%{y}<extra></extra>",
         "legendgroup": "Werbung",
         "marker": {
          "color": "rgb(54, 226, 112)",
          "pattern": {
           "shape": ""
          }
         },
         "name": "Werbung",
         "offsetgroup": "Werbung",
         "orientation": "h",
         "showlegend": true,
         "textangle": 0,
         "textposition": "auto",
         "texttemplate": "%{x:.0f}",
         "type": "bar",
         "x": [
          2
         ],
         "xaxis": "x",
         "y": [
          "Scheidenpilz"
         ],
         "yaxis": "y"
        },
        {
         "alignmentgroup": "True",
         "hovertemplate": "Einfluss: positiv=Zeitungsartikel<br>Anzahl=%{x}<br>Marktgebiet=%{y}<extra></extra>",
         "legendgroup": "Zeitungsartikel",
         "marker": {
          "color": "rgb(236, 219, 150)",
          "pattern": {
           "shape": ""
          }
         },
         "name": "Zeitungsartikel",
         "offsetgroup": "Zeitungsartikel",
         "orientation": "h",
         "showlegend": true,
         "textangle": 0,
         "textposition": "auto",
         "texttemplate": "%{x:.0f}",
         "type": "bar",
         "x": [
          2
         ],
         "xaxis": "x",
         "y": [
          "Scheidenpilz"
         ],
         "yaxis": "y"
        }
       ],
       "layout": {
        "annotations": [
         {
          "align": "left",
          "font": {
           "size": 9
          },
          "showarrow": false,
          "text": "Basierend auf 324 Social-Media-Konversationen aus öffentlich zugänglichen Foren <br>Deutschland, Januar 2013 – April 2023.",
          "textangle": 0,
          "x": -0.25,
          "xanchor": "left",
          "xref": "paper",
          "y": -0.39,
          "yref": "paper"
         }
        ],
        "autosize": false,
        "barmode": "relative",
        "height": 378,
        "legend": {
         "title": {
          "text": "Einfluss: positiv"
         },
         "tracegroupgap": 0
        },
        "template": {
         "data": {
          "bar": [
           {
            "error_x": {
             "color": "#2a3f5f"
            },
            "error_y": {
             "color": "#2a3f5f"
            },
            "marker": {
             "line": {
              "color": "white",
              "width": 0.5
             },
             "pattern": {
              "fillmode": "overlay",
              "size": 10,
              "solidity": 0.2
             }
            },
            "type": "bar"
           }
          ],
          "barpolar": [
           {
            "marker": {
             "line": {
              "color": "white",
              "width": 0.5
             },
             "pattern": {
              "fillmode": "overlay",
              "size": 10,
              "solidity": 0.2
             }
            },
            "type": "barpolar"
           }
          ],
          "carpet": [
           {
            "aaxis": {
             "endlinecolor": "#2a3f5f",
             "gridcolor": "#C8D4E3",
             "linecolor": "#C8D4E3",
             "minorgridcolor": "#C8D4E3",
             "startlinecolor": "#2a3f5f"
            },
            "baxis": {
             "endlinecolor": "#2a3f5f",
             "gridcolor": "#C8D4E3",
             "linecolor": "#C8D4E3",
             "minorgridcolor": "#C8D4E3",
             "startlinecolor": "#2a3f5f"
            },
            "type": "carpet"
           }
          ],
          "choropleth": [
           {
            "colorbar": {
             "outlinewidth": 0,
             "ticks": ""
            },
            "type": "choropleth"
           }
          ],
          "contour": [
           {
            "colorbar": {
             "outlinewidth": 0,
             "ticks": ""
            },
            "colorscale": [
             [
              0,
              "#0d0887"
             ],
             [
              0.1111111111111111,
              "#46039f"
             ],
             [
              0.2222222222222222,
              "#7201a8"
             ],
             [
              0.3333333333333333,
              "#9c179e"
             ],
             [
              0.4444444444444444,
              "#bd3786"
             ],
             [
              0.5555555555555556,
              "#d8576b"
             ],
             [
              0.6666666666666666,
              "#ed7953"
             ],
             [
              0.7777777777777778,
              "#fb9f3a"
             ],
             [
              0.8888888888888888,
              "#fdca26"
             ],
             [
              1,
              "#f0f921"
             ]
            ],
            "type": "contour"
           }
          ],
          "contourcarpet": [
           {
            "colorbar": {
             "outlinewidth": 0,
             "ticks": ""
            },
            "type": "contourcarpet"
           }
          ],
          "heatmap": [
           {
            "colorbar": {
             "outlinewidth": 0,
             "ticks": ""
            },
            "colorscale": [
             [
              0,
              "#0d0887"
             ],
             [
              0.1111111111111111,
              "#46039f"
             ],
             [
              0.2222222222222222,
              "#7201a8"
             ],
             [
              0.3333333333333333,
              "#9c179e"
             ],
             [
              0.4444444444444444,
              "#bd3786"
             ],
             [
              0.5555555555555556,
              "#d8576b"
             ],
             [
              0.6666666666666666,
              "#ed7953"
             ],
             [
              0.7777777777777778,
              "#fb9f3a"
             ],
             [
              0.8888888888888888,
              "#fdca26"
             ],
             [
              1,
              "#f0f921"
             ]
            ],
            "type": "heatmap"
           }
          ],
          "heatmapgl": [
           {
            "colorbar": {
             "outlinewidth": 0,
             "ticks": ""
            },
            "colorscale": [
             [
              0,
              "#0d0887"
             ],
             [
              0.1111111111111111,
              "#46039f"
             ],
             [
              0.2222222222222222,
              "#7201a8"
             ],
             [
              0.3333333333333333,
              "#9c179e"
             ],
             [
              0.4444444444444444,
              "#bd3786"
             ],
             [
              0.5555555555555556,
              "#d8576b"
             ],
             [
              0.6666666666666666,
              "#ed7953"
             ],
             [
              0.7777777777777778,
              "#fb9f3a"
             ],
             [
              0.8888888888888888,
              "#fdca26"
             ],
             [
              1,
              "#f0f921"
             ]
            ],
            "type": "heatmapgl"
           }
          ],
          "histogram": [
           {
            "marker": {
             "pattern": {
              "fillmode": "overlay",
              "size": 10,
              "solidity": 0.2
             }
            },
            "type": "histogram"
           }
          ],
          "histogram2d": [
           {
            "colorbar": {
             "outlinewidth": 0,
             "ticks": ""
            },
            "colorscale": [
             [
              0,
              "#0d0887"
             ],
             [
              0.1111111111111111,
              "#46039f"
             ],
             [
              0.2222222222222222,
              "#7201a8"
             ],
             [
              0.3333333333333333,
              "#9c179e"
             ],
             [
              0.4444444444444444,
              "#bd3786"
             ],
             [
              0.5555555555555556,
              "#d8576b"
             ],
             [
              0.6666666666666666,
              "#ed7953"
             ],
             [
              0.7777777777777778,
              "#fb9f3a"
             ],
             [
              0.8888888888888888,
              "#fdca26"
             ],
             [
              1,
              "#f0f921"
             ]
            ],
            "type": "histogram2d"
           }
          ],
          "histogram2dcontour": [
           {
            "colorbar": {
             "outlinewidth": 0,
             "ticks": ""
            },
            "colorscale": [
             [
              0,
              "#0d0887"
             ],
             [
              0.1111111111111111,
              "#46039f"
             ],
             [
              0.2222222222222222,
              "#7201a8"
             ],
             [
              0.3333333333333333,
              "#9c179e"
             ],
             [
              0.4444444444444444,
              "#bd3786"
             ],
             [
              0.5555555555555556,
              "#d8576b"
             ],
             [
              0.6666666666666666,
              "#ed7953"
             ],
             [
              0.7777777777777778,
              "#fb9f3a"
             ],
             [
              0.8888888888888888,
              "#fdca26"
             ],
             [
              1,
              "#f0f921"
             ]
            ],
            "type": "histogram2dcontour"
           }
          ],
          "mesh3d": [
           {
            "colorbar": {
             "outlinewidth": 0,
             "ticks": ""
            },
            "type": "mesh3d"
           }
          ],
          "parcoords": [
           {
            "line": {
             "colorbar": {
              "outlinewidth": 0,
              "ticks": ""
             }
            },
            "type": "parcoords"
           }
          ],
          "pie": [
           {
            "automargin": true,
            "type": "pie"
           }
          ],
          "scatter": [
           {
            "fillpattern": {
             "fillmode": "overlay",
             "size": 10,
             "solidity": 0.2
            },
            "type": "scatter"
           }
          ],
          "scatter3d": [
           {
            "line": {
             "colorbar": {
              "outlinewidth": 0,
              "ticks": ""
             }
            },
            "marker": {
             "colorbar": {
              "outlinewidth": 0,
              "ticks": ""
             }
            },
            "type": "scatter3d"
           }
          ],
          "scattercarpet": [
           {
            "marker": {
             "colorbar": {
              "outlinewidth": 0,
              "ticks": ""
             }
            },
            "type": "scattercarpet"
           }
          ],
          "scattergeo": [
           {
            "marker": {
             "colorbar": {
              "outlinewidth": 0,
              "ticks": ""
             }
            },
            "type": "scattergeo"
           }
          ],
          "scattergl": [
           {
            "marker": {
             "colorbar": {
              "outlinewidth": 0,
              "ticks": ""
             }
            },
            "type": "scattergl"
           }
          ],
          "scattermapbox": [
           {
            "marker": {
             "colorbar": {
              "outlinewidth": 0,
              "ticks": ""
             }
            },
            "type": "scattermapbox"
           }
          ],
          "scatterpolar": [
           {
            "marker": {
             "colorbar": {
              "outlinewidth": 0,
              "ticks": ""
             }
            },
            "type": "scatterpolar"
           }
          ],
          "scatterpolargl": [
           {
            "marker": {
             "colorbar": {
              "outlinewidth": 0,
              "ticks": ""
             }
            },
            "type": "scatterpolargl"
           }
          ],
          "scatterternary": [
           {
            "marker": {
             "colorbar": {
              "outlinewidth": 0,
              "ticks": ""
             }
            },
            "type": "scatterternary"
           }
          ],
          "surface": [
           {
            "colorbar": {
             "outlinewidth": 0,
             "ticks": ""
            },
            "colorscale": [
             [
              0,
              "#0d0887"
             ],
             [
              0.1111111111111111,
              "#46039f"
             ],
             [
              0.2222222222222222,
              "#7201a8"
             ],
             [
              0.3333333333333333,
              "#9c179e"
             ],
             [
              0.4444444444444444,
              "#bd3786"
             ],
             [
              0.5555555555555556,
              "#d8576b"
             ],
             [
              0.6666666666666666,
              "#ed7953"
             ],
             [
              0.7777777777777778,
              "#fb9f3a"
             ],
             [
              0.8888888888888888,
              "#fdca26"
             ],
             [
              1,
              "#f0f921"
             ]
            ],
            "type": "surface"
           }
          ],
          "table": [
           {
            "cells": {
             "fill": {
              "color": "#EBF0F8"
             },
             "line": {
              "color": "white"
             }
            },
            "header": {
             "fill": {
              "color": "#C8D4E3"
             },
             "line": {
              "color": "white"
             }
            },
            "type": "table"
           }
          ]
         },
         "layout": {
          "annotationdefaults": {
           "arrowcolor": "#2a3f5f",
           "arrowhead": 0,
           "arrowwidth": 1
          },
          "autotypenumbers": "strict",
          "coloraxis": {
           "colorbar": {
            "outlinewidth": 0,
            "ticks": ""
           }
          },
          "colorscale": {
           "diverging": [
            [
             0,
             "#8e0152"
            ],
            [
             0.1,
             "#c51b7d"
            ],
            [
             0.2,
             "#de77ae"
            ],
            [
             0.3,
             "#f1b6da"
            ],
            [
             0.4,
             "#fde0ef"
            ],
            [
             0.5,
             "#f7f7f7"
            ],
            [
             0.6,
             "#e6f5d0"
            ],
            [
             0.7,
             "#b8e186"
            ],
            [
             0.8,
             "#7fbc41"
            ],
            [
             0.9,
             "#4d9221"
            ],
            [
             1,
             "#276419"
            ]
           ],
           "sequential": [
            [
             0,
             "#0d0887"
            ],
            [
             0.1111111111111111,
             "#46039f"
            ],
            [
             0.2222222222222222,
             "#7201a8"
            ],
            [
             0.3333333333333333,
             "#9c179e"
            ],
            [
             0.4444444444444444,
             "#bd3786"
            ],
            [
             0.5555555555555556,
             "#d8576b"
            ],
            [
             0.6666666666666666,
             "#ed7953"
            ],
            [
             0.7777777777777778,
             "#fb9f3a"
            ],
            [
             0.8888888888888888,
             "#fdca26"
            ],
            [
             1,
             "#f0f921"
            ]
           ],
           "sequentialminus": [
            [
             0,
             "#0d0887"
            ],
            [
             0.1111111111111111,
             "#46039f"
            ],
            [
             0.2222222222222222,
             "#7201a8"
            ],
            [
             0.3333333333333333,
             "#9c179e"
            ],
            [
             0.4444444444444444,
             "#bd3786"
            ],
            [
             0.5555555555555556,
             "#d8576b"
            ],
            [
             0.6666666666666666,
             "#ed7953"
            ],
            [
             0.7777777777777778,
             "#fb9f3a"
            ],
            [
             0.8888888888888888,
             "#fdca26"
            ],
            [
             1,
             "#f0f921"
            ]
           ]
          },
          "colorway": [
           "#636efa",
           "#EF553B",
           "#00cc96",
           "#ab63fa",
           "#FFA15A",
           "#19d3f3",
           "#FF6692",
           "#B6E880",
           "#FF97FF",
           "#FECB52"
          ],
          "font": {
           "color": "#2a3f5f"
          },
          "geo": {
           "bgcolor": "white",
           "lakecolor": "white",
           "landcolor": "white",
           "showlakes": true,
           "showland": true,
           "subunitcolor": "#C8D4E3"
          },
          "hoverlabel": {
           "align": "left"
          },
          "hovermode": "closest",
          "mapbox": {
           "style": "light"
          },
          "paper_bgcolor": "white",
          "plot_bgcolor": "white",
          "polar": {
           "angularaxis": {
            "gridcolor": "#EBF0F8",
            "linecolor": "#EBF0F8",
            "ticks": ""
           },
           "bgcolor": "white",
           "radialaxis": {
            "gridcolor": "#EBF0F8",
            "linecolor": "#EBF0F8",
            "ticks": ""
           }
          },
          "scene": {
           "xaxis": {
            "backgroundcolor": "white",
            "gridcolor": "#DFE8F3",
            "gridwidth": 2,
            "linecolor": "#EBF0F8",
            "showbackground": true,
            "ticks": "",
            "zerolinecolor": "#EBF0F8"
           },
           "yaxis": {
            "backgroundcolor": "white",
            "gridcolor": "#DFE8F3",
            "gridwidth": 2,
            "linecolor": "#EBF0F8",
            "showbackground": true,
            "ticks": "",
            "zerolinecolor": "#EBF0F8"
           },
           "zaxis": {
            "backgroundcolor": "white",
            "gridcolor": "#DFE8F3",
            "gridwidth": 2,
            "linecolor": "#EBF0F8",
            "showbackground": true,
            "ticks": "",
            "zerolinecolor": "#EBF0F8"
           }
          },
          "shapedefaults": {
           "line": {
            "color": "#2a3f5f"
           }
          },
          "ternary": {
           "aaxis": {
            "gridcolor": "#DFE8F3",
            "linecolor": "#A2B1C6",
            "ticks": ""
           },
           "baxis": {
            "gridcolor": "#DFE8F3",
            "linecolor": "#A2B1C6",
            "ticks": ""
           },
           "bgcolor": "white",
           "caxis": {
            "gridcolor": "#DFE8F3",
            "linecolor": "#A2B1C6",
            "ticks": ""
           }
          },
          "title": {
           "x": 0.05
          },
          "xaxis": {
           "automargin": true,
           "gridcolor": "#EBF0F8",
           "linecolor": "#EBF0F8",
           "ticks": "",
           "title": {
            "standoff": 15
           },
           "zerolinecolor": "#EBF0F8",
           "zerolinewidth": 2
          },
          "yaxis": {
           "automargin": true,
           "gridcolor": "#EBF0F8",
           "linecolor": "#EBF0F8",
           "ticks": "",
           "title": {
            "standoff": 15
           },
           "zerolinecolor": "#EBF0F8",
           "zerolinewidth": 2
          }
         }
        },
        "title": {
         "text": "Anzahl der Social - Media - Posts mit der Kombination: <br>Einfluss: positiv und Marktgebiet"
        },
        "width": 756,
        "xaxis": {
         "anchor": "y",
         "domain": [
          0,
          1
         ],
         "title": {
          "text": "Anzahl"
         }
        },
        "yaxis": {
         "anchor": "x",
         "domain": [
          0,
          1
         ],
         "title": {
          "text": "Marktgebiet"
         }
        }
       }
      }
     },
     "metadata": {},
     "output_type": "display_data"
    },
    {
     "data": {
      "application/vnd.plotly.v1+json": {
       "config": {
        "plotlyServerURL": "https://plot.ly"
       },
       "data": [
        {
         "alignmentgroup": "True",
         "bingroup": "y",
         "histfunc": "sum",
         "hovertemplate": "Einfluss: positiv=ApothekerInnen<br>sum of Anteil (normalized as percent)=%{x}<br>Marktgebiet=%{y}<extra></extra>",
         "legendgroup": "ApothekerInnen",
         "marker": {
          "color": "rgb(54, 112, 226)",
          "pattern": {
           "shape": ""
          }
         },
         "name": "ApothekerInnen",
         "offsetgroup": "ApothekerInnen",
         "orientation": "h",
         "showlegend": true,
         "textangle": 0,
         "texttemplate": "%{value:.0f}",
         "type": "histogram",
         "x": [
          0.03947108742845866,
          0.059206631142687975,
          0.17761989342806395,
          0.07894217485691732,
          0.059206631142687975
         ],
         "xaxis": "x",
         "y": [
          "Menopause",
          "Scheidenflora",
          "Scheidenpilz",
          "Scheidentrockenheit",
          "Zyklusbeschwerden"
         ],
         "yaxis": "y"
        },
        {
         "alignmentgroup": "True",
         "bingroup": "y",
         "histfunc": "sum",
         "hovertemplate": "Einfluss: positiv=Empfehlung<br>sum of Anteil (normalized as percent)=%{x}<br>Marktgebiet=%{y}<extra></extra>",
         "legendgroup": "Empfehlung",
         "marker": {
          "color": "rgb(54, 169, 226)",
          "pattern": {
           "shape": ""
          }
         },
         "name": "Empfehlung",
         "offsetgroup": "Empfehlung",
         "orientation": "h",
         "showlegend": true,
         "textangle": 0,
         "texttemplate": "%{value:.0f}",
         "type": "histogram",
         "x": [
          0.03947108742845866,
          0.11841326228537595,
          0.2960331557134399,
          0.059206631142687975,
          0.2960331557134399
         ],
         "xaxis": "x",
         "y": [
          "Menopause",
          "Scheidenflora",
          "Scheidenpilz",
          "Scheidentrockenheit",
          "Zyklusbeschwerden"
         ],
         "yaxis": "y"
        },
        {
         "alignmentgroup": "True",
         "bingroup": "y",
         "histfunc": "sum",
         "hovertemplate": "Einfluss: positiv=Social Media<br>sum of Anteil (normalized as percent)=%{x}<br>Marktgebiet=%{y}<extra></extra>",
         "legendgroup": "Social Media",
         "marker": {
          "color": "rgb(54, 226, 169)",
          "pattern": {
           "shape": ""
          }
         },
         "name": "Social Media",
         "offsetgroup": "Social Media",
         "orientation": "h",
         "showlegend": true,
         "textangle": 0,
         "texttemplate": "%{value:.0f}",
         "type": "histogram",
         "x": [
          0.03947108742845866,
          0.2762976119992106,
          0.059206631142687975,
          0.09867771857114663
         ],
         "xaxis": "x",
         "y": [
          "Menopause",
          "Scheidenpilz",
          "Scheidentrockenheit",
          "Zyklusbeschwerden"
         ],
         "yaxis": "y"
        },
        {
         "alignmentgroup": "True",
         "bingroup": "y",
         "histfunc": "sum",
         "hovertemplate": "Einfluss: positiv=ÄrztInnen<br>sum of Anteil (normalized as percent)=%{x}<br>Marktgebiet=%{y}<extra></extra>",
         "legendgroup": "ÄrztInnen",
         "marker": {
          "color": "rgb(112, 54, 226)",
          "pattern": {
           "shape": ""
          }
         },
         "name": "ÄrztInnen",
         "offsetgroup": "ÄrztInnen",
         "orientation": "h",
         "showlegend": true,
         "textangle": 0,
         "texttemplate": "%{value:.0f}",
         "type": "histogram",
         "x": [
          0.01973554371422933,
          0.4144464179988159,
          2.6248273139925002,
          0.6512729425695678,
          0.15788434971383464
         ],
         "xaxis": "x",
         "y": [
          "Menopause",
          "Scheidenflora",
          "Scheidenpilz",
          "Scheidentrockenheit",
          "Zyklusbeschwerden"
         ],
         "yaxis": "y"
        },
        {
         "alignmentgroup": "True",
         "bingroup": "y",
         "histfunc": "sum",
         "hovertemplate": "Einfluss: positiv=Freunde oder Familie<br>sum of Anteil (normalized as percent)=%{x}<br>Marktgebiet=%{y}<extra></extra>",
         "legendgroup": "Freunde oder Familie",
         "marker": {
          "color": "rgb(226, 54, 169)",
          "pattern": {
           "shape": ""
          }
         },
         "name": "Freunde oder Familie",
         "offsetgroup": "Freunde oder Familie",
         "orientation": "h",
         "showlegend": true,
         "textangle": 0,
         "texttemplate": "%{value:.0f}",
         "type": "histogram",
         "x": [
          0.01973554371422933,
          0.03947108742845866,
          0.03947108742845866
         ],
         "xaxis": "x",
         "y": [
          "Scheidenflora",
          "Scheidenpilz",
          "Zyklusbeschwerden"
         ],
         "yaxis": "y"
        },
        {
         "alignmentgroup": "True",
         "bingroup": "y",
         "histfunc": "sum",
         "hovertemplate": "Einfluss: positiv=Hebammen<br>sum of Anteil (normalized as percent)=%{x}<br>Marktgebiet=%{y}<extra></extra>",
         "legendgroup": "Hebammen",
         "marker": {
          "color": "rgb(169, 54, 226)",
          "pattern": {
           "shape": ""
          }
         },
         "name": "Hebammen",
         "offsetgroup": "Hebammen",
         "orientation": "h",
         "showlegend": true,
         "textangle": 0,
         "texttemplate": "%{value:.0f}",
         "type": "histogram",
         "x": [
          0.01973554371422933,
          0.01973554371422933,
          0.01973554371422933
         ],
         "xaxis": "x",
         "y": [
          "Scheidenflora",
          "Scheidenpilz",
          "Scheidentrockenheit"
         ],
         "yaxis": "y"
        },
        {
         "alignmentgroup": "True",
         "bingroup": "y",
         "histfunc": "sum",
         "hovertemplate": "Einfluss: positiv=Kein Einfluss<br>sum of Anteil (normalized as percent)=%{x}<br>Marktgebiet=%{y}<extra></extra>",
         "legendgroup": "Kein Einfluss",
         "marker": {
          "color": "rgb(169, 226, 54)",
          "pattern": {
           "shape": ""
          }
         },
         "name": "Kein Einfluss",
         "offsetgroup": "Kein Einfluss",
         "orientation": "h",
         "showlegend": true,
         "textangle": 0,
         "texttemplate": "%{value:.0f}",
         "type": "histogram",
         "x": [
          0.01973554371422933,
          0.07894217485691732,
          0.01973554371422933,
          0.059206631142687975
         ],
         "xaxis": "x",
         "y": [
          "Scheidenflora",
          "Scheidenpilz",
          "Scheidentrockenheit",
          "Zyklusbeschwerden"
         ],
         "yaxis": "y"
        },
        {
         "alignmentgroup": "True",
         "bingroup": "y",
         "histfunc": "sum",
         "hovertemplate": "Einfluss: positiv=Vorhandene Erfahrung<br>sum of Anteil (normalized as percent)=%{x}<br>Marktgebiet=%{y}<extra></extra>",
         "legendgroup": "Vorhandene Erfahrung",
         "marker": {
          "color": "rgb(204, 153, 255)",
          "pattern": {
           "shape": ""
          }
         },
         "name": "Vorhandene Erfahrung",
         "offsetgroup": "Vorhandene Erfahrung",
         "orientation": "h",
         "showlegend": true,
         "textangle": 0,
         "texttemplate": "%{value:.0f}",
         "type": "histogram",
         "x": [
          0.01973554371422933,
          0.19735543714229326,
          0.01973554371422933,
          0.1381488059996053
         ],
         "xaxis": "x",
         "y": [
          "Scheidenflora",
          "Scheidenpilz",
          "Scheidentrockenheit",
          "Zyklusbeschwerden"
         ],
         "yaxis": "y"
        },
        {
         "alignmentgroup": "True",
         "bingroup": "y",
         "histfunc": "sum",
         "hovertemplate": "Einfluss: positiv=Andere medizinische Fachkraft<br>sum of Anteil (normalized as percent)=%{x}<br>Marktgebiet=%{y}<extra></extra>",
         "legendgroup": "Andere medizinische Fachkraft",
         "marker": {
          "color": "rgb(226, 226, 54)",
          "pattern": {
           "shape": ""
          }
         },
         "name": "Andere medizinische Fachkraft",
         "offsetgroup": "Andere medizinische Fachkraft",
         "orientation": "h",
         "showlegend": true,
         "textangle": 0,
         "texttemplate": "%{value:.0f}",
         "type": "histogram",
         "x": [
          0.03947108742845866
         ],
         "xaxis": "x",
         "y": [
          "Scheidenpilz"
         ],
         "yaxis": "y"
        },
        {
         "alignmentgroup": "True",
         "bingroup": "y",
         "histfunc": "sum",
         "hovertemplate": "Einfluss: positiv=Werbung<br>sum of Anteil (normalized as percent)=%{x}<br>Marktgebiet=%{y}<extra></extra>",
         "legendgroup": "Werbung",
         "marker": {
          "color": "rgb(54, 226, 112)",
          "pattern": {
           "shape": ""
          }
         },
         "name": "Werbung",
         "offsetgroup": "Werbung",
         "orientation": "h",
         "showlegend": true,
         "textangle": 0,
         "texttemplate": "%{value:.0f}",
         "type": "histogram",
         "x": [
          0.03947108742845866
         ],
         "xaxis": "x",
         "y": [
          "Scheidenpilz"
         ],
         "yaxis": "y"
        },
        {
         "alignmentgroup": "True",
         "bingroup": "y",
         "histfunc": "sum",
         "hovertemplate": "Einfluss: positiv=Zeitungsartikel<br>sum of Anteil (normalized as percent)=%{x}<br>Marktgebiet=%{y}<extra></extra>",
         "legendgroup": "Zeitungsartikel",
         "marker": {
          "color": "rgb(236, 219, 150)",
          "pattern": {
           "shape": ""
          }
         },
         "name": "Zeitungsartikel",
         "offsetgroup": "Zeitungsartikel",
         "orientation": "h",
         "showlegend": true,
         "textangle": 0,
         "texttemplate": "%{value:.0f}",
         "type": "histogram",
         "x": [
          0.03947108742845866
         ],
         "xaxis": "x",
         "y": [
          "Scheidenpilz"
         ],
         "yaxis": "y"
        }
       ],
       "layout": {
        "annotations": [
         {
          "align": "left",
          "font": {
           "size": 9
          },
          "showarrow": false,
          "text": "Basierend auf 324 Social-Media-Konversationen aus öffentlich zugänglichen Foren <br>Deutschland, Januar 2013 – April 2023.",
          "textangle": 0,
          "x": -0.25,
          "xanchor": "left",
          "xref": "paper",
          "y": -0.39,
          "yref": "paper"
         }
        ],
        "autosize": false,
        "barmode": "relative",
        "barnorm": "percent",
        "height": 378,
        "legend": {
         "title": {
          "text": "Einfluss: positiv"
         },
         "tracegroupgap": 0
        },
        "template": {
         "data": {
          "bar": [
           {
            "error_x": {
             "color": "#2a3f5f"
            },
            "error_y": {
             "color": "#2a3f5f"
            },
            "marker": {
             "line": {
              "color": "white",
              "width": 0.5
             },
             "pattern": {
              "fillmode": "overlay",
              "size": 10,
              "solidity": 0.2
             }
            },
            "type": "bar"
           }
          ],
          "barpolar": [
           {
            "marker": {
             "line": {
              "color": "white",
              "width": 0.5
             },
             "pattern": {
              "fillmode": "overlay",
              "size": 10,
              "solidity": 0.2
             }
            },
            "type": "barpolar"
           }
          ],
          "carpet": [
           {
            "aaxis": {
             "endlinecolor": "#2a3f5f",
             "gridcolor": "#C8D4E3",
             "linecolor": "#C8D4E3",
             "minorgridcolor": "#C8D4E3",
             "startlinecolor": "#2a3f5f"
            },
            "baxis": {
             "endlinecolor": "#2a3f5f",
             "gridcolor": "#C8D4E3",
             "linecolor": "#C8D4E3",
             "minorgridcolor": "#C8D4E3",
             "startlinecolor": "#2a3f5f"
            },
            "type": "carpet"
           }
          ],
          "choropleth": [
           {
            "colorbar": {
             "outlinewidth": 0,
             "ticks": ""
            },
            "type": "choropleth"
           }
          ],
          "contour": [
           {
            "colorbar": {
             "outlinewidth": 0,
             "ticks": ""
            },
            "colorscale": [
             [
              0,
              "#0d0887"
             ],
             [
              0.1111111111111111,
              "#46039f"
             ],
             [
              0.2222222222222222,
              "#7201a8"
             ],
             [
              0.3333333333333333,
              "#9c179e"
             ],
             [
              0.4444444444444444,
              "#bd3786"
             ],
             [
              0.5555555555555556,
              "#d8576b"
             ],
             [
              0.6666666666666666,
              "#ed7953"
             ],
             [
              0.7777777777777778,
              "#fb9f3a"
             ],
             [
              0.8888888888888888,
              "#fdca26"
             ],
             [
              1,
              "#f0f921"
             ]
            ],
            "type": "contour"
           }
          ],
          "contourcarpet": [
           {
            "colorbar": {
             "outlinewidth": 0,
             "ticks": ""
            },
            "type": "contourcarpet"
           }
          ],
          "heatmap": [
           {
            "colorbar": {
             "outlinewidth": 0,
             "ticks": ""
            },
            "colorscale": [
             [
              0,
              "#0d0887"
             ],
             [
              0.1111111111111111,
              "#46039f"
             ],
             [
              0.2222222222222222,
              "#7201a8"
             ],
             [
              0.3333333333333333,
              "#9c179e"
             ],
             [
              0.4444444444444444,
              "#bd3786"
             ],
             [
              0.5555555555555556,
              "#d8576b"
             ],
             [
              0.6666666666666666,
              "#ed7953"
             ],
             [
              0.7777777777777778,
              "#fb9f3a"
             ],
             [
              0.8888888888888888,
              "#fdca26"
             ],
             [
              1,
              "#f0f921"
             ]
            ],
            "type": "heatmap"
           }
          ],
          "heatmapgl": [
           {
            "colorbar": {
             "outlinewidth": 0,
             "ticks": ""
            },
            "colorscale": [
             [
              0,
              "#0d0887"
             ],
             [
              0.1111111111111111,
              "#46039f"
             ],
             [
              0.2222222222222222,
              "#7201a8"
             ],
             [
              0.3333333333333333,
              "#9c179e"
             ],
             [
              0.4444444444444444,
              "#bd3786"
             ],
             [
              0.5555555555555556,
              "#d8576b"
             ],
             [
              0.6666666666666666,
              "#ed7953"
             ],
             [
              0.7777777777777778,
              "#fb9f3a"
             ],
             [
              0.8888888888888888,
              "#fdca26"
             ],
             [
              1,
              "#f0f921"
             ]
            ],
            "type": "heatmapgl"
           }
          ],
          "histogram": [
           {
            "marker": {
             "pattern": {
              "fillmode": "overlay",
              "size": 10,
              "solidity": 0.2
             }
            },
            "type": "histogram"
           }
          ],
          "histogram2d": [
           {
            "colorbar": {
             "outlinewidth": 0,
             "ticks": ""
            },
            "colorscale": [
             [
              0,
              "#0d0887"
             ],
             [
              0.1111111111111111,
              "#46039f"
             ],
             [
              0.2222222222222222,
              "#7201a8"
             ],
             [
              0.3333333333333333,
              "#9c179e"
             ],
             [
              0.4444444444444444,
              "#bd3786"
             ],
             [
              0.5555555555555556,
              "#d8576b"
             ],
             [
              0.6666666666666666,
              "#ed7953"
             ],
             [
              0.7777777777777778,
              "#fb9f3a"
             ],
             [
              0.8888888888888888,
              "#fdca26"
             ],
             [
              1,
              "#f0f921"
             ]
            ],
            "type": "histogram2d"
           }
          ],
          "histogram2dcontour": [
           {
            "colorbar": {
             "outlinewidth": 0,
             "ticks": ""
            },
            "colorscale": [
             [
              0,
              "#0d0887"
             ],
             [
              0.1111111111111111,
              "#46039f"
             ],
             [
              0.2222222222222222,
              "#7201a8"
             ],
             [
              0.3333333333333333,
              "#9c179e"
             ],
             [
              0.4444444444444444,
              "#bd3786"
             ],
             [
              0.5555555555555556,
              "#d8576b"
             ],
             [
              0.6666666666666666,
              "#ed7953"
             ],
             [
              0.7777777777777778,
              "#fb9f3a"
             ],
             [
              0.8888888888888888,
              "#fdca26"
             ],
             [
              1,
              "#f0f921"
             ]
            ],
            "type": "histogram2dcontour"
           }
          ],
          "mesh3d": [
           {
            "colorbar": {
             "outlinewidth": 0,
             "ticks": ""
            },
            "type": "mesh3d"
           }
          ],
          "parcoords": [
           {
            "line": {
             "colorbar": {
              "outlinewidth": 0,
              "ticks": ""
             }
            },
            "type": "parcoords"
           }
          ],
          "pie": [
           {
            "automargin": true,
            "type": "pie"
           }
          ],
          "scatter": [
           {
            "fillpattern": {
             "fillmode": "overlay",
             "size": 10,
             "solidity": 0.2
            },
            "type": "scatter"
           }
          ],
          "scatter3d": [
           {
            "line": {
             "colorbar": {
              "outlinewidth": 0,
              "ticks": ""
             }
            },
            "marker": {
             "colorbar": {
              "outlinewidth": 0,
              "ticks": ""
             }
            },
            "type": "scatter3d"
           }
          ],
          "scattercarpet": [
           {
            "marker": {
             "colorbar": {
              "outlinewidth": 0,
              "ticks": ""
             }
            },
            "type": "scattercarpet"
           }
          ],
          "scattergeo": [
           {
            "marker": {
             "colorbar": {
              "outlinewidth": 0,
              "ticks": ""
             }
            },
            "type": "scattergeo"
           }
          ],
          "scattergl": [
           {
            "marker": {
             "colorbar": {
              "outlinewidth": 0,
              "ticks": ""
             }
            },
            "type": "scattergl"
           }
          ],
          "scattermapbox": [
           {
            "marker": {
             "colorbar": {
              "outlinewidth": 0,
              "ticks": ""
             }
            },
            "type": "scattermapbox"
           }
          ],
          "scatterpolar": [
           {
            "marker": {
             "colorbar": {
              "outlinewidth": 0,
              "ticks": ""
             }
            },
            "type": "scatterpolar"
           }
          ],
          "scatterpolargl": [
           {
            "marker": {
             "colorbar": {
              "outlinewidth": 0,
              "ticks": ""
             }
            },
            "type": "scatterpolargl"
           }
          ],
          "scatterternary": [
           {
            "marker": {
             "colorbar": {
              "outlinewidth": 0,
              "ticks": ""
             }
            },
            "type": "scatterternary"
           }
          ],
          "surface": [
           {
            "colorbar": {
             "outlinewidth": 0,
             "ticks": ""
            },
            "colorscale": [
             [
              0,
              "#0d0887"
             ],
             [
              0.1111111111111111,
              "#46039f"
             ],
             [
              0.2222222222222222,
              "#7201a8"
             ],
             [
              0.3333333333333333,
              "#9c179e"
             ],
             [
              0.4444444444444444,
              "#bd3786"
             ],
             [
              0.5555555555555556,
              "#d8576b"
             ],
             [
              0.6666666666666666,
              "#ed7953"
             ],
             [
              0.7777777777777778,
              "#fb9f3a"
             ],
             [
              0.8888888888888888,
              "#fdca26"
             ],
             [
              1,
              "#f0f921"
             ]
            ],
            "type": "surface"
           }
          ],
          "table": [
           {
            "cells": {
             "fill": {
              "color": "#EBF0F8"
             },
             "line": {
              "color": "white"
             }
            },
            "header": {
             "fill": {
              "color": "#C8D4E3"
             },
             "line": {
              "color": "white"
             }
            },
            "type": "table"
           }
          ]
         },
         "layout": {
          "annotationdefaults": {
           "arrowcolor": "#2a3f5f",
           "arrowhead": 0,
           "arrowwidth": 1
          },
          "autotypenumbers": "strict",
          "coloraxis": {
           "colorbar": {
            "outlinewidth": 0,
            "ticks": ""
           }
          },
          "colorscale": {
           "diverging": [
            [
             0,
             "#8e0152"
            ],
            [
             0.1,
             "#c51b7d"
            ],
            [
             0.2,
             "#de77ae"
            ],
            [
             0.3,
             "#f1b6da"
            ],
            [
             0.4,
             "#fde0ef"
            ],
            [
             0.5,
             "#f7f7f7"
            ],
            [
             0.6,
             "#e6f5d0"
            ],
            [
             0.7,
             "#b8e186"
            ],
            [
             0.8,
             "#7fbc41"
            ],
            [
             0.9,
             "#4d9221"
            ],
            [
             1,
             "#276419"
            ]
           ],
           "sequential": [
            [
             0,
             "#0d0887"
            ],
            [
             0.1111111111111111,
             "#46039f"
            ],
            [
             0.2222222222222222,
             "#7201a8"
            ],
            [
             0.3333333333333333,
             "#9c179e"
            ],
            [
             0.4444444444444444,
             "#bd3786"
            ],
            [
             0.5555555555555556,
             "#d8576b"
            ],
            [
             0.6666666666666666,
             "#ed7953"
            ],
            [
             0.7777777777777778,
             "#fb9f3a"
            ],
            [
             0.8888888888888888,
             "#fdca26"
            ],
            [
             1,
             "#f0f921"
            ]
           ],
           "sequentialminus": [
            [
             0,
             "#0d0887"
            ],
            [
             0.1111111111111111,
             "#46039f"
            ],
            [
             0.2222222222222222,
             "#7201a8"
            ],
            [
             0.3333333333333333,
             "#9c179e"
            ],
            [
             0.4444444444444444,
             "#bd3786"
            ],
            [
             0.5555555555555556,
             "#d8576b"
            ],
            [
             0.6666666666666666,
             "#ed7953"
            ],
            [
             0.7777777777777778,
             "#fb9f3a"
            ],
            [
             0.8888888888888888,
             "#fdca26"
            ],
            [
             1,
             "#f0f921"
            ]
           ]
          },
          "colorway": [
           "#636efa",
           "#EF553B",
           "#00cc96",
           "#ab63fa",
           "#FFA15A",
           "#19d3f3",
           "#FF6692",
           "#B6E880",
           "#FF97FF",
           "#FECB52"
          ],
          "font": {
           "color": "#2a3f5f"
          },
          "geo": {
           "bgcolor": "white",
           "lakecolor": "white",
           "landcolor": "white",
           "showlakes": true,
           "showland": true,
           "subunitcolor": "#C8D4E3"
          },
          "hoverlabel": {
           "align": "left"
          },
          "hovermode": "closest",
          "mapbox": {
           "style": "light"
          },
          "paper_bgcolor": "white",
          "plot_bgcolor": "white",
          "polar": {
           "angularaxis": {
            "gridcolor": "#EBF0F8",
            "linecolor": "#EBF0F8",
            "ticks": ""
           },
           "bgcolor": "white",
           "radialaxis": {
            "gridcolor": "#EBF0F8",
            "linecolor": "#EBF0F8",
            "ticks": ""
           }
          },
          "scene": {
           "xaxis": {
            "backgroundcolor": "white",
            "gridcolor": "#DFE8F3",
            "gridwidth": 2,
            "linecolor": "#EBF0F8",
            "showbackground": true,
            "ticks": "",
            "zerolinecolor": "#EBF0F8"
           },
           "yaxis": {
            "backgroundcolor": "white",
            "gridcolor": "#DFE8F3",
            "gridwidth": 2,
            "linecolor": "#EBF0F8",
            "showbackground": true,
            "ticks": "",
            "zerolinecolor": "#EBF0F8"
           },
           "zaxis": {
            "backgroundcolor": "white",
            "gridcolor": "#DFE8F3",
            "gridwidth": 2,
            "linecolor": "#EBF0F8",
            "showbackground": true,
            "ticks": "",
            "zerolinecolor": "#EBF0F8"
           }
          },
          "shapedefaults": {
           "line": {
            "color": "#2a3f5f"
           }
          },
          "ternary": {
           "aaxis": {
            "gridcolor": "#DFE8F3",
            "linecolor": "#A2B1C6",
            "ticks": ""
           },
           "baxis": {
            "gridcolor": "#DFE8F3",
            "linecolor": "#A2B1C6",
            "ticks": ""
           },
           "bgcolor": "white",
           "caxis": {
            "gridcolor": "#DFE8F3",
            "linecolor": "#A2B1C6",
            "ticks": ""
           }
          },
          "title": {
           "x": 0.05
          },
          "xaxis": {
           "automargin": true,
           "gridcolor": "#EBF0F8",
           "linecolor": "#EBF0F8",
           "ticks": "",
           "title": {
            "standoff": 15
           },
           "zerolinecolor": "#EBF0F8",
           "zerolinewidth": 2
          },
          "yaxis": {
           "automargin": true,
           "gridcolor": "#EBF0F8",
           "linecolor": "#EBF0F8",
           "ticks": "",
           "title": {
            "standoff": 15
           },
           "zerolinecolor": "#EBF0F8",
           "zerolinewidth": 2
          }
         }
        },
        "title": {
         "text": "Anzahl der Social - Media - Posts mit der Kombination: <br>Einfluss: positiv und Marktgebiet"
        },
        "width": 756,
        "xaxis": {
         "anchor": "y",
         "domain": [
          0,
          1
         ],
         "title": {
          "text": "Anteil"
         }
        },
        "yaxis": {
         "anchor": "x",
         "domain": [
          0,
          1
         ],
         "title": {
          "text": "Marktgebiet"
         }
        }
       }
      }
     },
     "metadata": {},
     "output_type": "display_data"
    },
    {
     "name": "stdout",
     "output_type": "stream",
     "text": [
      "                topic_1              topic_2  Anzahl    Anteil\n",
      "0             Menopause        Nicht erwähnt      12  0.236827\n",
      "1             Menopause  Scheidentrockenheit       1  0.019736\n",
      "2             Menopause    Zyklusbeschwerden       1  0.019736\n",
      "4         Scheidenflora        Nicht erwähnt      82  1.618315\n",
      "6         Scheidenflora         Scheidenpilz       7  0.138149\n",
      "7         Scheidenflora  Scheidentrockenheit       4  0.078942\n",
      "8          Scheidenpilz            Menopause       2  0.039471\n",
      "9          Scheidenpilz        Nicht erwähnt     392  7.736333\n",
      "10         Scheidenpilz        Scheidenflora      32  0.631537\n",
      "12         Scheidenpilz  Scheidentrockenheit      14  0.276298\n",
      "13         Scheidenpilz    Zyklusbeschwerden       3  0.059207\n",
      "14  Scheidentrockenheit        Nicht erwähnt      84  1.657786\n",
      "15  Scheidentrockenheit        Scheidenflora       2  0.039471\n",
      "16  Scheidentrockenheit         Scheidenpilz       6  0.118413\n",
      "18    Zyklusbeschwerden        Nicht erwähnt     123  2.427472\n",
      "19    Zyklusbeschwerden         Scheidenpilz       2  0.039471\n"
     ]
    },
    {
     "data": {
      "application/vnd.plotly.v1+json": {
       "config": {
        "plotlyServerURL": "https://plot.ly"
       },
       "data": [
        {
         "alignmentgroup": "True",
         "hovertemplate": "Zweite Marktgebiet=Nicht erwähnt<br>Anzahl=%{x}<br>Marktgebiet=%{y}<extra></extra>",
         "legendgroup": "Nicht erwähnt",
         "marker": {
          "color": "rgb(54, 112, 226)",
          "pattern": {
           "shape": ""
          }
         },
         "name": "Nicht erwähnt",
         "offsetgroup": "Nicht erwähnt",
         "orientation": "h",
         "showlegend": true,
         "textangle": 0,
         "textposition": "auto",
         "texttemplate": "%{x:.0f}",
         "type": "bar",
         "x": [
          12,
          82,
          392,
          84,
          123
         ],
         "xaxis": "x",
         "y": [
          "Menopause",
          "Scheidenflora",
          "Scheidenpilz",
          "Scheidentrockenheit",
          "Zyklusbeschwerden"
         ],
         "yaxis": "y"
        },
        {
         "alignmentgroup": "True",
         "hovertemplate": "Zweite Marktgebiet=Scheidentrockenheit<br>Anzahl=%{x}<br>Marktgebiet=%{y}<extra></extra>",
         "legendgroup": "Scheidentrockenheit",
         "marker": {
          "color": "rgb(54, 169, 226)",
          "pattern": {
           "shape": ""
          }
         },
         "name": "Scheidentrockenheit",
         "offsetgroup": "Scheidentrockenheit",
         "orientation": "h",
         "showlegend": true,
         "textangle": 0,
         "textposition": "auto",
         "texttemplate": "%{x:.0f}",
         "type": "bar",
         "x": [
          1,
          4,
          14
         ],
         "xaxis": "x",
         "y": [
          "Menopause",
          "Scheidenflora",
          "Scheidenpilz"
         ],
         "yaxis": "y"
        },
        {
         "alignmentgroup": "True",
         "hovertemplate": "Zweite Marktgebiet=Zyklusbeschwerden<br>Anzahl=%{x}<br>Marktgebiet=%{y}<extra></extra>",
         "legendgroup": "Zyklusbeschwerden",
         "marker": {
          "color": "rgb(54, 226, 169)",
          "pattern": {
           "shape": ""
          }
         },
         "name": "Zyklusbeschwerden",
         "offsetgroup": "Zyklusbeschwerden",
         "orientation": "h",
         "showlegend": true,
         "textangle": 0,
         "textposition": "auto",
         "texttemplate": "%{x:.0f}",
         "type": "bar",
         "x": [
          1,
          3
         ],
         "xaxis": "x",
         "y": [
          "Menopause",
          "Scheidenpilz"
         ],
         "yaxis": "y"
        },
        {
         "alignmentgroup": "True",
         "hovertemplate": "Zweite Marktgebiet=Scheidenpilz<br>Anzahl=%{x}<br>Marktgebiet=%{y}<extra></extra>",
         "legendgroup": "Scheidenpilz",
         "marker": {
          "color": "rgb(112, 54, 226)",
          "pattern": {
           "shape": ""
          }
         },
         "name": "Scheidenpilz",
         "offsetgroup": "Scheidenpilz",
         "orientation": "h",
         "showlegend": true,
         "textangle": 0,
         "textposition": "auto",
         "texttemplate": "%{x:.0f}",
         "type": "bar",
         "x": [
          7,
          6,
          2
         ],
         "xaxis": "x",
         "y": [
          "Scheidenflora",
          "Scheidentrockenheit",
          "Zyklusbeschwerden"
         ],
         "yaxis": "y"
        },
        {
         "alignmentgroup": "True",
         "hovertemplate": "Zweite Marktgebiet=Menopause<br>Anzahl=%{x}<br>Marktgebiet=%{y}<extra></extra>",
         "legendgroup": "Menopause",
         "marker": {
          "color": "rgb(226, 54, 169)",
          "pattern": {
           "shape": ""
          }
         },
         "name": "Menopause",
         "offsetgroup": "Menopause",
         "orientation": "h",
         "showlegend": true,
         "textangle": 0,
         "textposition": "auto",
         "texttemplate": "%{x:.0f}",
         "type": "bar",
         "x": [
          2
         ],
         "xaxis": "x",
         "y": [
          "Scheidenpilz"
         ],
         "yaxis": "y"
        },
        {
         "alignmentgroup": "True",
         "hovertemplate": "Zweite Marktgebiet=Scheidenflora<br>Anzahl=%{x}<br>Marktgebiet=%{y}<extra></extra>",
         "legendgroup": "Scheidenflora",
         "marker": {
          "color": "rgb(169, 54, 226)",
          "pattern": {
           "shape": ""
          }
         },
         "name": "Scheidenflora",
         "offsetgroup": "Scheidenflora",
         "orientation": "h",
         "showlegend": true,
         "textangle": 0,
         "textposition": "auto",
         "texttemplate": "%{x:.0f}",
         "type": "bar",
         "x": [
          32,
          2
         ],
         "xaxis": "x",
         "y": [
          "Scheidenpilz",
          "Scheidentrockenheit"
         ],
         "yaxis": "y"
        }
       ],
       "layout": {
        "annotations": [
         {
          "align": "left",
          "font": {
           "size": 9
          },
          "showarrow": false,
          "text": "Basierend auf 767 Social-Media-Konversationen aus öffentlich zugänglichen Foren <br>Deutschland, Januar 2013 – April 2023.",
          "textangle": 0,
          "x": -0.25,
          "xanchor": "left",
          "xref": "paper",
          "y": -0.39,
          "yref": "paper"
         }
        ],
        "autosize": false,
        "barmode": "relative",
        "height": 378,
        "legend": {
         "title": {
          "text": "Zweite Marktgebiet"
         },
         "tracegroupgap": 0
        },
        "template": {
         "data": {
          "bar": [
           {
            "error_x": {
             "color": "#2a3f5f"
            },
            "error_y": {
             "color": "#2a3f5f"
            },
            "marker": {
             "line": {
              "color": "white",
              "width": 0.5
             },
             "pattern": {
              "fillmode": "overlay",
              "size": 10,
              "solidity": 0.2
             }
            },
            "type": "bar"
           }
          ],
          "barpolar": [
           {
            "marker": {
             "line": {
              "color": "white",
              "width": 0.5
             },
             "pattern": {
              "fillmode": "overlay",
              "size": 10,
              "solidity": 0.2
             }
            },
            "type": "barpolar"
           }
          ],
          "carpet": [
           {
            "aaxis": {
             "endlinecolor": "#2a3f5f",
             "gridcolor": "#C8D4E3",
             "linecolor": "#C8D4E3",
             "minorgridcolor": "#C8D4E3",
             "startlinecolor": "#2a3f5f"
            },
            "baxis": {
             "endlinecolor": "#2a3f5f",
             "gridcolor": "#C8D4E3",
             "linecolor": "#C8D4E3",
             "minorgridcolor": "#C8D4E3",
             "startlinecolor": "#2a3f5f"
            },
            "type": "carpet"
           }
          ],
          "choropleth": [
           {
            "colorbar": {
             "outlinewidth": 0,
             "ticks": ""
            },
            "type": "choropleth"
           }
          ],
          "contour": [
           {
            "colorbar": {
             "outlinewidth": 0,
             "ticks": ""
            },
            "colorscale": [
             [
              0,
              "#0d0887"
             ],
             [
              0.1111111111111111,
              "#46039f"
             ],
             [
              0.2222222222222222,
              "#7201a8"
             ],
             [
              0.3333333333333333,
              "#9c179e"
             ],
             [
              0.4444444444444444,
              "#bd3786"
             ],
             [
              0.5555555555555556,
              "#d8576b"
             ],
             [
              0.6666666666666666,
              "#ed7953"
             ],
             [
              0.7777777777777778,
              "#fb9f3a"
             ],
             [
              0.8888888888888888,
              "#fdca26"
             ],
             [
              1,
              "#f0f921"
             ]
            ],
            "type": "contour"
           }
          ],
          "contourcarpet": [
           {
            "colorbar": {
             "outlinewidth": 0,
             "ticks": ""
            },
            "type": "contourcarpet"
           }
          ],
          "heatmap": [
           {
            "colorbar": {
             "outlinewidth": 0,
             "ticks": ""
            },
            "colorscale": [
             [
              0,
              "#0d0887"
             ],
             [
              0.1111111111111111,
              "#46039f"
             ],
             [
              0.2222222222222222,
              "#7201a8"
             ],
             [
              0.3333333333333333,
              "#9c179e"
             ],
             [
              0.4444444444444444,
              "#bd3786"
             ],
             [
              0.5555555555555556,
              "#d8576b"
             ],
             [
              0.6666666666666666,
              "#ed7953"
             ],
             [
              0.7777777777777778,
              "#fb9f3a"
             ],
             [
              0.8888888888888888,
              "#fdca26"
             ],
             [
              1,
              "#f0f921"
             ]
            ],
            "type": "heatmap"
           }
          ],
          "heatmapgl": [
           {
            "colorbar": {
             "outlinewidth": 0,
             "ticks": ""
            },
            "colorscale": [
             [
              0,
              "#0d0887"
             ],
             [
              0.1111111111111111,
              "#46039f"
             ],
             [
              0.2222222222222222,
              "#7201a8"
             ],
             [
              0.3333333333333333,
              "#9c179e"
             ],
             [
              0.4444444444444444,
              "#bd3786"
             ],
             [
              0.5555555555555556,
              "#d8576b"
             ],
             [
              0.6666666666666666,
              "#ed7953"
             ],
             [
              0.7777777777777778,
              "#fb9f3a"
             ],
             [
              0.8888888888888888,
              "#fdca26"
             ],
             [
              1,
              "#f0f921"
             ]
            ],
            "type": "heatmapgl"
           }
          ],
          "histogram": [
           {
            "marker": {
             "pattern": {
              "fillmode": "overlay",
              "size": 10,
              "solidity": 0.2
             }
            },
            "type": "histogram"
           }
          ],
          "histogram2d": [
           {
            "colorbar": {
             "outlinewidth": 0,
             "ticks": ""
            },
            "colorscale": [
             [
              0,
              "#0d0887"
             ],
             [
              0.1111111111111111,
              "#46039f"
             ],
             [
              0.2222222222222222,
              "#7201a8"
             ],
             [
              0.3333333333333333,
              "#9c179e"
             ],
             [
              0.4444444444444444,
              "#bd3786"
             ],
             [
              0.5555555555555556,
              "#d8576b"
             ],
             [
              0.6666666666666666,
              "#ed7953"
             ],
             [
              0.7777777777777778,
              "#fb9f3a"
             ],
             [
              0.8888888888888888,
              "#fdca26"
             ],
             [
              1,
              "#f0f921"
             ]
            ],
            "type": "histogram2d"
           }
          ],
          "histogram2dcontour": [
           {
            "colorbar": {
             "outlinewidth": 0,
             "ticks": ""
            },
            "colorscale": [
             [
              0,
              "#0d0887"
             ],
             [
              0.1111111111111111,
              "#46039f"
             ],
             [
              0.2222222222222222,
              "#7201a8"
             ],
             [
              0.3333333333333333,
              "#9c179e"
             ],
             [
              0.4444444444444444,
              "#bd3786"
             ],
             [
              0.5555555555555556,
              "#d8576b"
             ],
             [
              0.6666666666666666,
              "#ed7953"
             ],
             [
              0.7777777777777778,
              "#fb9f3a"
             ],
             [
              0.8888888888888888,
              "#fdca26"
             ],
             [
              1,
              "#f0f921"
             ]
            ],
            "type": "histogram2dcontour"
           }
          ],
          "mesh3d": [
           {
            "colorbar": {
             "outlinewidth": 0,
             "ticks": ""
            },
            "type": "mesh3d"
           }
          ],
          "parcoords": [
           {
            "line": {
             "colorbar": {
              "outlinewidth": 0,
              "ticks": ""
             }
            },
            "type": "parcoords"
           }
          ],
          "pie": [
           {
            "automargin": true,
            "type": "pie"
           }
          ],
          "scatter": [
           {
            "fillpattern": {
             "fillmode": "overlay",
             "size": 10,
             "solidity": 0.2
            },
            "type": "scatter"
           }
          ],
          "scatter3d": [
           {
            "line": {
             "colorbar": {
              "outlinewidth": 0,
              "ticks": ""
             }
            },
            "marker": {
             "colorbar": {
              "outlinewidth": 0,
              "ticks": ""
             }
            },
            "type": "scatter3d"
           }
          ],
          "scattercarpet": [
           {
            "marker": {
             "colorbar": {
              "outlinewidth": 0,
              "ticks": ""
             }
            },
            "type": "scattercarpet"
           }
          ],
          "scattergeo": [
           {
            "marker": {
             "colorbar": {
              "outlinewidth": 0,
              "ticks": ""
             }
            },
            "type": "scattergeo"
           }
          ],
          "scattergl": [
           {
            "marker": {
             "colorbar": {
              "outlinewidth": 0,
              "ticks": ""
             }
            },
            "type": "scattergl"
           }
          ],
          "scattermapbox": [
           {
            "marker": {
             "colorbar": {
              "outlinewidth": 0,
              "ticks": ""
             }
            },
            "type": "scattermapbox"
           }
          ],
          "scatterpolar": [
           {
            "marker": {
             "colorbar": {
              "outlinewidth": 0,
              "ticks": ""
             }
            },
            "type": "scatterpolar"
           }
          ],
          "scatterpolargl": [
           {
            "marker": {
             "colorbar": {
              "outlinewidth": 0,
              "ticks": ""
             }
            },
            "type": "scatterpolargl"
           }
          ],
          "scatterternary": [
           {
            "marker": {
             "colorbar": {
              "outlinewidth": 0,
              "ticks": ""
             }
            },
            "type": "scatterternary"
           }
          ],
          "surface": [
           {
            "colorbar": {
             "outlinewidth": 0,
             "ticks": ""
            },
            "colorscale": [
             [
              0,
              "#0d0887"
             ],
             [
              0.1111111111111111,
              "#46039f"
             ],
             [
              0.2222222222222222,
              "#7201a8"
             ],
             [
              0.3333333333333333,
              "#9c179e"
             ],
             [
              0.4444444444444444,
              "#bd3786"
             ],
             [
              0.5555555555555556,
              "#d8576b"
             ],
             [
              0.6666666666666666,
              "#ed7953"
             ],
             [
              0.7777777777777778,
              "#fb9f3a"
             ],
             [
              0.8888888888888888,
              "#fdca26"
             ],
             [
              1,
              "#f0f921"
             ]
            ],
            "type": "surface"
           }
          ],
          "table": [
           {
            "cells": {
             "fill": {
              "color": "#EBF0F8"
             },
             "line": {
              "color": "white"
             }
            },
            "header": {
             "fill": {
              "color": "#C8D4E3"
             },
             "line": {
              "color": "white"
             }
            },
            "type": "table"
           }
          ]
         },
         "layout": {
          "annotationdefaults": {
           "arrowcolor": "#2a3f5f",
           "arrowhead": 0,
           "arrowwidth": 1
          },
          "autotypenumbers": "strict",
          "coloraxis": {
           "colorbar": {
            "outlinewidth": 0,
            "ticks": ""
           }
          },
          "colorscale": {
           "diverging": [
            [
             0,
             "#8e0152"
            ],
            [
             0.1,
             "#c51b7d"
            ],
            [
             0.2,
             "#de77ae"
            ],
            [
             0.3,
             "#f1b6da"
            ],
            [
             0.4,
             "#fde0ef"
            ],
            [
             0.5,
             "#f7f7f7"
            ],
            [
             0.6,
             "#e6f5d0"
            ],
            [
             0.7,
             "#b8e186"
            ],
            [
             0.8,
             "#7fbc41"
            ],
            [
             0.9,
             "#4d9221"
            ],
            [
             1,
             "#276419"
            ]
           ],
           "sequential": [
            [
             0,
             "#0d0887"
            ],
            [
             0.1111111111111111,
             "#46039f"
            ],
            [
             0.2222222222222222,
             "#7201a8"
            ],
            [
             0.3333333333333333,
             "#9c179e"
            ],
            [
             0.4444444444444444,
             "#bd3786"
            ],
            [
             0.5555555555555556,
             "#d8576b"
            ],
            [
             0.6666666666666666,
             "#ed7953"
            ],
            [
             0.7777777777777778,
             "#fb9f3a"
            ],
            [
             0.8888888888888888,
             "#fdca26"
            ],
            [
             1,
             "#f0f921"
            ]
           ],
           "sequentialminus": [
            [
             0,
             "#0d0887"
            ],
            [
             0.1111111111111111,
             "#46039f"
            ],
            [
             0.2222222222222222,
             "#7201a8"
            ],
            [
             0.3333333333333333,
             "#9c179e"
            ],
            [
             0.4444444444444444,
             "#bd3786"
            ],
            [
             0.5555555555555556,
             "#d8576b"
            ],
            [
             0.6666666666666666,
             "#ed7953"
            ],
            [
             0.7777777777777778,
             "#fb9f3a"
            ],
            [
             0.8888888888888888,
             "#fdca26"
            ],
            [
             1,
             "#f0f921"
            ]
           ]
          },
          "colorway": [
           "#636efa",
           "#EF553B",
           "#00cc96",
           "#ab63fa",
           "#FFA15A",
           "#19d3f3",
           "#FF6692",
           "#B6E880",
           "#FF97FF",
           "#FECB52"
          ],
          "font": {
           "color": "#2a3f5f"
          },
          "geo": {
           "bgcolor": "white",
           "lakecolor": "white",
           "landcolor": "white",
           "showlakes": true,
           "showland": true,
           "subunitcolor": "#C8D4E3"
          },
          "hoverlabel": {
           "align": "left"
          },
          "hovermode": "closest",
          "mapbox": {
           "style": "light"
          },
          "paper_bgcolor": "white",
          "plot_bgcolor": "white",
          "polar": {
           "angularaxis": {
            "gridcolor": "#EBF0F8",
            "linecolor": "#EBF0F8",
            "ticks": ""
           },
           "bgcolor": "white",
           "radialaxis": {
            "gridcolor": "#EBF0F8",
            "linecolor": "#EBF0F8",
            "ticks": ""
           }
          },
          "scene": {
           "xaxis": {
            "backgroundcolor": "white",
            "gridcolor": "#DFE8F3",
            "gridwidth": 2,
            "linecolor": "#EBF0F8",
            "showbackground": true,
            "ticks": "",
            "zerolinecolor": "#EBF0F8"
           },
           "yaxis": {
            "backgroundcolor": "white",
            "gridcolor": "#DFE8F3",
            "gridwidth": 2,
            "linecolor": "#EBF0F8",
            "showbackground": true,
            "ticks": "",
            "zerolinecolor": "#EBF0F8"
           },
           "zaxis": {
            "backgroundcolor": "white",
            "gridcolor": "#DFE8F3",
            "gridwidth": 2,
            "linecolor": "#EBF0F8",
            "showbackground": true,
            "ticks": "",
            "zerolinecolor": "#EBF0F8"
           }
          },
          "shapedefaults": {
           "line": {
            "color": "#2a3f5f"
           }
          },
          "ternary": {
           "aaxis": {
            "gridcolor": "#DFE8F3",
            "linecolor": "#A2B1C6",
            "ticks": ""
           },
           "baxis": {
            "gridcolor": "#DFE8F3",
            "linecolor": "#A2B1C6",
            "ticks": ""
           },
           "bgcolor": "white",
           "caxis": {
            "gridcolor": "#DFE8F3",
            "linecolor": "#A2B1C6",
            "ticks": ""
           }
          },
          "title": {
           "x": 0.05
          },
          "xaxis": {
           "automargin": true,
           "gridcolor": "#EBF0F8",
           "linecolor": "#EBF0F8",
           "ticks": "",
           "title": {
            "standoff": 15
           },
           "zerolinecolor": "#EBF0F8",
           "zerolinewidth": 2
          },
          "yaxis": {
           "automargin": true,
           "gridcolor": "#EBF0F8",
           "linecolor": "#EBF0F8",
           "ticks": "",
           "title": {
            "standoff": 15
           },
           "zerolinecolor": "#EBF0F8",
           "zerolinewidth": 2
          }
         }
        },
        "title": {
         "text": "Anzahl der Social - Media - Posts mit der Kombination: <br>Zweite Marktgebiet und Marktgebiet"
        },
        "width": 756,
        "xaxis": {
         "anchor": "y",
         "domain": [
          0,
          1
         ],
         "title": {
          "text": "Anzahl"
         }
        },
        "yaxis": {
         "anchor": "x",
         "domain": [
          0,
          1
         ],
         "title": {
          "text": "Marktgebiet"
         }
        }
       }
      }
     },
     "metadata": {},
     "output_type": "display_data"
    },
    {
     "data": {
      "application/vnd.plotly.v1+json": {
       "config": {
        "plotlyServerURL": "https://plot.ly"
       },
       "data": [
        {
         "alignmentgroup": "True",
         "bingroup": "y",
         "histfunc": "sum",
         "hovertemplate": "Zweite Marktgebiet=Nicht erwähnt<br>sum of Anteil (normalized as percent)=%{x}<br>Marktgebiet=%{y}<extra></extra>",
         "legendgroup": "Nicht erwähnt",
         "marker": {
          "color": "rgb(54, 112, 226)",
          "pattern": {
           "shape": ""
          }
         },
         "name": "Nicht erwähnt",
         "offsetgroup": "Nicht erwähnt",
         "orientation": "h",
         "showlegend": true,
         "textangle": 0,
         "texttemplate": "%{value:.0f}",
         "type": "histogram",
         "x": [
          0.2368265245707519,
          1.618314584566805,
          7.736333135977897,
          1.6577856719952635,
          2.4274718768502073
         ],
         "xaxis": "x",
         "y": [
          "Menopause",
          "Scheidenflora",
          "Scheidenpilz",
          "Scheidentrockenheit",
          "Zyklusbeschwerden"
         ],
         "yaxis": "y"
        },
        {
         "alignmentgroup": "True",
         "bingroup": "y",
         "histfunc": "sum",
         "hovertemplate": "Zweite Marktgebiet=Scheidentrockenheit<br>sum of Anteil (normalized as percent)=%{x}<br>Marktgebiet=%{y}<extra></extra>",
         "legendgroup": "Scheidentrockenheit",
         "marker": {
          "color": "rgb(54, 169, 226)",
          "pattern": {
           "shape": ""
          }
         },
         "name": "Scheidentrockenheit",
         "offsetgroup": "Scheidentrockenheit",
         "orientation": "h",
         "showlegend": true,
         "textangle": 0,
         "texttemplate": "%{value:.0f}",
         "type": "histogram",
         "x": [
          0.01973554371422933,
          0.07894217485691732,
          0.2762976119992106
         ],
         "xaxis": "x",
         "y": [
          "Menopause",
          "Scheidenflora",
          "Scheidenpilz"
         ],
         "yaxis": "y"
        },
        {
         "alignmentgroup": "True",
         "bingroup": "y",
         "histfunc": "sum",
         "hovertemplate": "Zweite Marktgebiet=Zyklusbeschwerden<br>sum of Anteil (normalized as percent)=%{x}<br>Marktgebiet=%{y}<extra></extra>",
         "legendgroup": "Zyklusbeschwerden",
         "marker": {
          "color": "rgb(54, 226, 169)",
          "pattern": {
           "shape": ""
          }
         },
         "name": "Zyklusbeschwerden",
         "offsetgroup": "Zyklusbeschwerden",
         "orientation": "h",
         "showlegend": true,
         "textangle": 0,
         "texttemplate": "%{value:.0f}",
         "type": "histogram",
         "x": [
          0.01973554371422933,
          0.059206631142687975
         ],
         "xaxis": "x",
         "y": [
          "Menopause",
          "Scheidenpilz"
         ],
         "yaxis": "y"
        },
        {
         "alignmentgroup": "True",
         "bingroup": "y",
         "histfunc": "sum",
         "hovertemplate": "Zweite Marktgebiet=Scheidenpilz<br>sum of Anteil (normalized as percent)=%{x}<br>Marktgebiet=%{y}<extra></extra>",
         "legendgroup": "Scheidenpilz",
         "marker": {
          "color": "rgb(112, 54, 226)",
          "pattern": {
           "shape": ""
          }
         },
         "name": "Scheidenpilz",
         "offsetgroup": "Scheidenpilz",
         "orientation": "h",
         "showlegend": true,
         "textangle": 0,
         "texttemplate": "%{value:.0f}",
         "type": "histogram",
         "x": [
          0.1381488059996053,
          0.11841326228537595,
          0.03947108742845866
         ],
         "xaxis": "x",
         "y": [
          "Scheidenflora",
          "Scheidentrockenheit",
          "Zyklusbeschwerden"
         ],
         "yaxis": "y"
        },
        {
         "alignmentgroup": "True",
         "bingroup": "y",
         "histfunc": "sum",
         "hovertemplate": "Zweite Marktgebiet=Menopause<br>sum of Anteil (normalized as percent)=%{x}<br>Marktgebiet=%{y}<extra></extra>",
         "legendgroup": "Menopause",
         "marker": {
          "color": "rgb(226, 54, 169)",
          "pattern": {
           "shape": ""
          }
         },
         "name": "Menopause",
         "offsetgroup": "Menopause",
         "orientation": "h",
         "showlegend": true,
         "textangle": 0,
         "texttemplate": "%{value:.0f}",
         "type": "histogram",
         "x": [
          0.03947108742845866
         ],
         "xaxis": "x",
         "y": [
          "Scheidenpilz"
         ],
         "yaxis": "y"
        },
        {
         "alignmentgroup": "True",
         "bingroup": "y",
         "histfunc": "sum",
         "hovertemplate": "Zweite Marktgebiet=Scheidenflora<br>sum of Anteil (normalized as percent)=%{x}<br>Marktgebiet=%{y}<extra></extra>",
         "legendgroup": "Scheidenflora",
         "marker": {
          "color": "rgb(169, 54, 226)",
          "pattern": {
           "shape": ""
          }
         },
         "name": "Scheidenflora",
         "offsetgroup": "Scheidenflora",
         "orientation": "h",
         "showlegend": true,
         "textangle": 0,
         "texttemplate": "%{value:.0f}",
         "type": "histogram",
         "x": [
          0.6315373988553385,
          0.03947108742845866
         ],
         "xaxis": "x",
         "y": [
          "Scheidenpilz",
          "Scheidentrockenheit"
         ],
         "yaxis": "y"
        }
       ],
       "layout": {
        "annotations": [
         {
          "align": "left",
          "font": {
           "size": 9
          },
          "showarrow": false,
          "text": "Basierend auf 767 Social-Media-Konversationen aus öffentlich zugänglichen Foren <br>Deutschland, Januar 2013 – April 2023.",
          "textangle": 0,
          "x": -0.25,
          "xanchor": "left",
          "xref": "paper",
          "y": -0.39,
          "yref": "paper"
         }
        ],
        "autosize": false,
        "barmode": "relative",
        "barnorm": "percent",
        "height": 378,
        "legend": {
         "title": {
          "text": "Zweite Marktgebiet"
         },
         "tracegroupgap": 0
        },
        "template": {
         "data": {
          "bar": [
           {
            "error_x": {
             "color": "#2a3f5f"
            },
            "error_y": {
             "color": "#2a3f5f"
            },
            "marker": {
             "line": {
              "color": "white",
              "width": 0.5
             },
             "pattern": {
              "fillmode": "overlay",
              "size": 10,
              "solidity": 0.2
             }
            },
            "type": "bar"
           }
          ],
          "barpolar": [
           {
            "marker": {
             "line": {
              "color": "white",
              "width": 0.5
             },
             "pattern": {
              "fillmode": "overlay",
              "size": 10,
              "solidity": 0.2
             }
            },
            "type": "barpolar"
           }
          ],
          "carpet": [
           {
            "aaxis": {
             "endlinecolor": "#2a3f5f",
             "gridcolor": "#C8D4E3",
             "linecolor": "#C8D4E3",
             "minorgridcolor": "#C8D4E3",
             "startlinecolor": "#2a3f5f"
            },
            "baxis": {
             "endlinecolor": "#2a3f5f",
             "gridcolor": "#C8D4E3",
             "linecolor": "#C8D4E3",
             "minorgridcolor": "#C8D4E3",
             "startlinecolor": "#2a3f5f"
            },
            "type": "carpet"
           }
          ],
          "choropleth": [
           {
            "colorbar": {
             "outlinewidth": 0,
             "ticks": ""
            },
            "type": "choropleth"
           }
          ],
          "contour": [
           {
            "colorbar": {
             "outlinewidth": 0,
             "ticks": ""
            },
            "colorscale": [
             [
              0,
              "#0d0887"
             ],
             [
              0.1111111111111111,
              "#46039f"
             ],
             [
              0.2222222222222222,
              "#7201a8"
             ],
             [
              0.3333333333333333,
              "#9c179e"
             ],
             [
              0.4444444444444444,
              "#bd3786"
             ],
             [
              0.5555555555555556,
              "#d8576b"
             ],
             [
              0.6666666666666666,
              "#ed7953"
             ],
             [
              0.7777777777777778,
              "#fb9f3a"
             ],
             [
              0.8888888888888888,
              "#fdca26"
             ],
             [
              1,
              "#f0f921"
             ]
            ],
            "type": "contour"
           }
          ],
          "contourcarpet": [
           {
            "colorbar": {
             "outlinewidth": 0,
             "ticks": ""
            },
            "type": "contourcarpet"
           }
          ],
          "heatmap": [
           {
            "colorbar": {
             "outlinewidth": 0,
             "ticks": ""
            },
            "colorscale": [
             [
              0,
              "#0d0887"
             ],
             [
              0.1111111111111111,
              "#46039f"
             ],
             [
              0.2222222222222222,
              "#7201a8"
             ],
             [
              0.3333333333333333,
              "#9c179e"
             ],
             [
              0.4444444444444444,
              "#bd3786"
             ],
             [
              0.5555555555555556,
              "#d8576b"
             ],
             [
              0.6666666666666666,
              "#ed7953"
             ],
             [
              0.7777777777777778,
              "#fb9f3a"
             ],
             [
              0.8888888888888888,
              "#fdca26"
             ],
             [
              1,
              "#f0f921"
             ]
            ],
            "type": "heatmap"
           }
          ],
          "heatmapgl": [
           {
            "colorbar": {
             "outlinewidth": 0,
             "ticks": ""
            },
            "colorscale": [
             [
              0,
              "#0d0887"
             ],
             [
              0.1111111111111111,
              "#46039f"
             ],
             [
              0.2222222222222222,
              "#7201a8"
             ],
             [
              0.3333333333333333,
              "#9c179e"
             ],
             [
              0.4444444444444444,
              "#bd3786"
             ],
             [
              0.5555555555555556,
              "#d8576b"
             ],
             [
              0.6666666666666666,
              "#ed7953"
             ],
             [
              0.7777777777777778,
              "#fb9f3a"
             ],
             [
              0.8888888888888888,
              "#fdca26"
             ],
             [
              1,
              "#f0f921"
             ]
            ],
            "type": "heatmapgl"
           }
          ],
          "histogram": [
           {
            "marker": {
             "pattern": {
              "fillmode": "overlay",
              "size": 10,
              "solidity": 0.2
             }
            },
            "type": "histogram"
           }
          ],
          "histogram2d": [
           {
            "colorbar": {
             "outlinewidth": 0,
             "ticks": ""
            },
            "colorscale": [
             [
              0,
              "#0d0887"
             ],
             [
              0.1111111111111111,
              "#46039f"
             ],
             [
              0.2222222222222222,
              "#7201a8"
             ],
             [
              0.3333333333333333,
              "#9c179e"
             ],
             [
              0.4444444444444444,
              "#bd3786"
             ],
             [
              0.5555555555555556,
              "#d8576b"
             ],
             [
              0.6666666666666666,
              "#ed7953"
             ],
             [
              0.7777777777777778,
              "#fb9f3a"
             ],
             [
              0.8888888888888888,
              "#fdca26"
             ],
             [
              1,
              "#f0f921"
             ]
            ],
            "type": "histogram2d"
           }
          ],
          "histogram2dcontour": [
           {
            "colorbar": {
             "outlinewidth": 0,
             "ticks": ""
            },
            "colorscale": [
             [
              0,
              "#0d0887"
             ],
             [
              0.1111111111111111,
              "#46039f"
             ],
             [
              0.2222222222222222,
              "#7201a8"
             ],
             [
              0.3333333333333333,
              "#9c179e"
             ],
             [
              0.4444444444444444,
              "#bd3786"
             ],
             [
              0.5555555555555556,
              "#d8576b"
             ],
             [
              0.6666666666666666,
              "#ed7953"
             ],
             [
              0.7777777777777778,
              "#fb9f3a"
             ],
             [
              0.8888888888888888,
              "#fdca26"
             ],
             [
              1,
              "#f0f921"
             ]
            ],
            "type": "histogram2dcontour"
           }
          ],
          "mesh3d": [
           {
            "colorbar": {
             "outlinewidth": 0,
             "ticks": ""
            },
            "type": "mesh3d"
           }
          ],
          "parcoords": [
           {
            "line": {
             "colorbar": {
              "outlinewidth": 0,
              "ticks": ""
             }
            },
            "type": "parcoords"
           }
          ],
          "pie": [
           {
            "automargin": true,
            "type": "pie"
           }
          ],
          "scatter": [
           {
            "fillpattern": {
             "fillmode": "overlay",
             "size": 10,
             "solidity": 0.2
            },
            "type": "scatter"
           }
          ],
          "scatter3d": [
           {
            "line": {
             "colorbar": {
              "outlinewidth": 0,
              "ticks": ""
             }
            },
            "marker": {
             "colorbar": {
              "outlinewidth": 0,
              "ticks": ""
             }
            },
            "type": "scatter3d"
           }
          ],
          "scattercarpet": [
           {
            "marker": {
             "colorbar": {
              "outlinewidth": 0,
              "ticks": ""
             }
            },
            "type": "scattercarpet"
           }
          ],
          "scattergeo": [
           {
            "marker": {
             "colorbar": {
              "outlinewidth": 0,
              "ticks": ""
             }
            },
            "type": "scattergeo"
           }
          ],
          "scattergl": [
           {
            "marker": {
             "colorbar": {
              "outlinewidth": 0,
              "ticks": ""
             }
            },
            "type": "scattergl"
           }
          ],
          "scattermapbox": [
           {
            "marker": {
             "colorbar": {
              "outlinewidth": 0,
              "ticks": ""
             }
            },
            "type": "scattermapbox"
           }
          ],
          "scatterpolar": [
           {
            "marker": {
             "colorbar": {
              "outlinewidth": 0,
              "ticks": ""
             }
            },
            "type": "scatterpolar"
           }
          ],
          "scatterpolargl": [
           {
            "marker": {
             "colorbar": {
              "outlinewidth": 0,
              "ticks": ""
             }
            },
            "type": "scatterpolargl"
           }
          ],
          "scatterternary": [
           {
            "marker": {
             "colorbar": {
              "outlinewidth": 0,
              "ticks": ""
             }
            },
            "type": "scatterternary"
           }
          ],
          "surface": [
           {
            "colorbar": {
             "outlinewidth": 0,
             "ticks": ""
            },
            "colorscale": [
             [
              0,
              "#0d0887"
             ],
             [
              0.1111111111111111,
              "#46039f"
             ],
             [
              0.2222222222222222,
              "#7201a8"
             ],
             [
              0.3333333333333333,
              "#9c179e"
             ],
             [
              0.4444444444444444,
              "#bd3786"
             ],
             [
              0.5555555555555556,
              "#d8576b"
             ],
             [
              0.6666666666666666,
              "#ed7953"
             ],
             [
              0.7777777777777778,
              "#fb9f3a"
             ],
             [
              0.8888888888888888,
              "#fdca26"
             ],
             [
              1,
              "#f0f921"
             ]
            ],
            "type": "surface"
           }
          ],
          "table": [
           {
            "cells": {
             "fill": {
              "color": "#EBF0F8"
             },
             "line": {
              "color": "white"
             }
            },
            "header": {
             "fill": {
              "color": "#C8D4E3"
             },
             "line": {
              "color": "white"
             }
            },
            "type": "table"
           }
          ]
         },
         "layout": {
          "annotationdefaults": {
           "arrowcolor": "#2a3f5f",
           "arrowhead": 0,
           "arrowwidth": 1
          },
          "autotypenumbers": "strict",
          "coloraxis": {
           "colorbar": {
            "outlinewidth": 0,
            "ticks": ""
           }
          },
          "colorscale": {
           "diverging": [
            [
             0,
             "#8e0152"
            ],
            [
             0.1,
             "#c51b7d"
            ],
            [
             0.2,
             "#de77ae"
            ],
            [
             0.3,
             "#f1b6da"
            ],
            [
             0.4,
             "#fde0ef"
            ],
            [
             0.5,
             "#f7f7f7"
            ],
            [
             0.6,
             "#e6f5d0"
            ],
            [
             0.7,
             "#b8e186"
            ],
            [
             0.8,
             "#7fbc41"
            ],
            [
             0.9,
             "#4d9221"
            ],
            [
             1,
             "#276419"
            ]
           ],
           "sequential": [
            [
             0,
             "#0d0887"
            ],
            [
             0.1111111111111111,
             "#46039f"
            ],
            [
             0.2222222222222222,
             "#7201a8"
            ],
            [
             0.3333333333333333,
             "#9c179e"
            ],
            [
             0.4444444444444444,
             "#bd3786"
            ],
            [
             0.5555555555555556,
             "#d8576b"
            ],
            [
             0.6666666666666666,
             "#ed7953"
            ],
            [
             0.7777777777777778,
             "#fb9f3a"
            ],
            [
             0.8888888888888888,
             "#fdca26"
            ],
            [
             1,
             "#f0f921"
            ]
           ],
           "sequentialminus": [
            [
             0,
             "#0d0887"
            ],
            [
             0.1111111111111111,
             "#46039f"
            ],
            [
             0.2222222222222222,
             "#7201a8"
            ],
            [
             0.3333333333333333,
             "#9c179e"
            ],
            [
             0.4444444444444444,
             "#bd3786"
            ],
            [
             0.5555555555555556,
             "#d8576b"
            ],
            [
             0.6666666666666666,
             "#ed7953"
            ],
            [
             0.7777777777777778,
             "#fb9f3a"
            ],
            [
             0.8888888888888888,
             "#fdca26"
            ],
            [
             1,
             "#f0f921"
            ]
           ]
          },
          "colorway": [
           "#636efa",
           "#EF553B",
           "#00cc96",
           "#ab63fa",
           "#FFA15A",
           "#19d3f3",
           "#FF6692",
           "#B6E880",
           "#FF97FF",
           "#FECB52"
          ],
          "font": {
           "color": "#2a3f5f"
          },
          "geo": {
           "bgcolor": "white",
           "lakecolor": "white",
           "landcolor": "white",
           "showlakes": true,
           "showland": true,
           "subunitcolor": "#C8D4E3"
          },
          "hoverlabel": {
           "align": "left"
          },
          "hovermode": "closest",
          "mapbox": {
           "style": "light"
          },
          "paper_bgcolor": "white",
          "plot_bgcolor": "white",
          "polar": {
           "angularaxis": {
            "gridcolor": "#EBF0F8",
            "linecolor": "#EBF0F8",
            "ticks": ""
           },
           "bgcolor": "white",
           "radialaxis": {
            "gridcolor": "#EBF0F8",
            "linecolor": "#EBF0F8",
            "ticks": ""
           }
          },
          "scene": {
           "xaxis": {
            "backgroundcolor": "white",
            "gridcolor": "#DFE8F3",
            "gridwidth": 2,
            "linecolor": "#EBF0F8",
            "showbackground": true,
            "ticks": "",
            "zerolinecolor": "#EBF0F8"
           },
           "yaxis": {
            "backgroundcolor": "white",
            "gridcolor": "#DFE8F3",
            "gridwidth": 2,
            "linecolor": "#EBF0F8",
            "showbackground": true,
            "ticks": "",
            "zerolinecolor": "#EBF0F8"
           },
           "zaxis": {
            "backgroundcolor": "white",
            "gridcolor": "#DFE8F3",
            "gridwidth": 2,
            "linecolor": "#EBF0F8",
            "showbackground": true,
            "ticks": "",
            "zerolinecolor": "#EBF0F8"
           }
          },
          "shapedefaults": {
           "line": {
            "color": "#2a3f5f"
           }
          },
          "ternary": {
           "aaxis": {
            "gridcolor": "#DFE8F3",
            "linecolor": "#A2B1C6",
            "ticks": ""
           },
           "baxis": {
            "gridcolor": "#DFE8F3",
            "linecolor": "#A2B1C6",
            "ticks": ""
           },
           "bgcolor": "white",
           "caxis": {
            "gridcolor": "#DFE8F3",
            "linecolor": "#A2B1C6",
            "ticks": ""
           }
          },
          "title": {
           "x": 0.05
          },
          "xaxis": {
           "automargin": true,
           "gridcolor": "#EBF0F8",
           "linecolor": "#EBF0F8",
           "ticks": "",
           "title": {
            "standoff": 15
           },
           "zerolinecolor": "#EBF0F8",
           "zerolinewidth": 2
          },
          "yaxis": {
           "automargin": true,
           "gridcolor": "#EBF0F8",
           "linecolor": "#EBF0F8",
           "ticks": "",
           "title": {
            "standoff": 15
           },
           "zerolinecolor": "#EBF0F8",
           "zerolinewidth": 2
          }
         }
        },
        "title": {
         "text": "Anzahl der Social - Media - Posts mit der Kombination: <br>Zweite Marktgebiet und Marktgebiet"
        },
        "width": 756,
        "xaxis": {
         "anchor": "y",
         "domain": [
          0,
          1
         ],
         "title": {
          "text": "Anteil"
         }
        },
        "yaxis": {
         "anchor": "x",
         "domain": [
          0,
          1
         ],
         "title": {
          "text": "Marktgebiet"
         }
        }
       }
      }
     },
     "metadata": {},
     "output_type": "display_data"
    },
    {
     "name": "stdout",
     "output_type": "stream",
     "text": [
      "                topic_1 product_1_dosage_answer  Anzahl    Anteil\n",
      "0         Scheidenflora                     Gel       1  0.019736\n",
      "2          Scheidenpilz                     Gel       4  0.078942\n",
      "3          Scheidenpilz         Granulat/Pulver       3  0.059207\n",
      "4          Scheidenpilz                  Lotion       5  0.098678\n",
      "6          Scheidenpilz      Tablette (vaginal)       1  0.019736\n",
      "7   Scheidentrockenheit                     Gel      20  0.394711\n",
      "8   Scheidentrockenheit         Granulat/Pulver       1  0.019736\n",
      "9   Scheidentrockenheit                  Lotion      34  0.671008\n",
      "11  Scheidentrockenheit         Tablette (oral)       3  0.059207\n",
      "12    Zyklusbeschwerden                     Gel       3  0.059207\n",
      "13    Zyklusbeschwerden                  Lotion       1  0.019736\n"
     ]
    },
    {
     "data": {
      "application/vnd.plotly.v1+json": {
       "config": {
        "plotlyServerURL": "https://plot.ly"
       },
       "data": [
        {
         "alignmentgroup": "True",
         "hovertemplate": "Dosierungsform=Gel<br>Anzahl=%{x}<br>Marktgebiet=%{y}<extra></extra>",
         "legendgroup": "Gel",
         "marker": {
          "color": "rgb(54, 112, 226)",
          "pattern": {
           "shape": ""
          }
         },
         "name": "Gel",
         "offsetgroup": "Gel",
         "orientation": "h",
         "showlegend": true,
         "textangle": 0,
         "textposition": "auto",
         "texttemplate": "%{x:.0f}",
         "type": "bar",
         "x": [
          1,
          4,
          20,
          3
         ],
         "xaxis": "x",
         "y": [
          "Scheidenflora",
          "Scheidenpilz",
          "Scheidentrockenheit",
          "Zyklusbeschwerden"
         ],
         "yaxis": "y"
        },
        {
         "alignmentgroup": "True",
         "hovertemplate": "Dosierungsform=Granulat/Pulver<br>Anzahl=%{x}<br>Marktgebiet=%{y}<extra></extra>",
         "legendgroup": "Granulat/Pulver",
         "marker": {
          "color": "rgb(54, 169, 226)",
          "pattern": {
           "shape": ""
          }
         },
         "name": "Granulat/Pulver",
         "offsetgroup": "Granulat/Pulver",
         "orientation": "h",
         "showlegend": true,
         "textangle": 0,
         "textposition": "auto",
         "texttemplate": "%{x:.0f}",
         "type": "bar",
         "x": [
          3,
          1
         ],
         "xaxis": "x",
         "y": [
          "Scheidenpilz",
          "Scheidentrockenheit"
         ],
         "yaxis": "y"
        },
        {
         "alignmentgroup": "True",
         "hovertemplate": "Dosierungsform=Lotion<br>Anzahl=%{x}<br>Marktgebiet=%{y}<extra></extra>",
         "legendgroup": "Lotion",
         "marker": {
          "color": "rgb(54, 226, 169)",
          "pattern": {
           "shape": ""
          }
         },
         "name": "Lotion",
         "offsetgroup": "Lotion",
         "orientation": "h",
         "showlegend": true,
         "textangle": 0,
         "textposition": "auto",
         "texttemplate": "%{x:.0f}",
         "type": "bar",
         "x": [
          5,
          34,
          1
         ],
         "xaxis": "x",
         "y": [
          "Scheidenpilz",
          "Scheidentrockenheit",
          "Zyklusbeschwerden"
         ],
         "yaxis": "y"
        },
        {
         "alignmentgroup": "True",
         "hovertemplate": "Dosierungsform=Tablette (vaginal)<br>Anzahl=%{x}<br>Marktgebiet=%{y}<extra></extra>",
         "legendgroup": "Tablette (vaginal)",
         "marker": {
          "color": "rgb(112, 54, 226)",
          "pattern": {
           "shape": ""
          }
         },
         "name": "Tablette (vaginal)",
         "offsetgroup": "Tablette (vaginal)",
         "orientation": "h",
         "showlegend": true,
         "textangle": 0,
         "textposition": "auto",
         "texttemplate": "%{x:.0f}",
         "type": "bar",
         "x": [
          1
         ],
         "xaxis": "x",
         "y": [
          "Scheidenpilz"
         ],
         "yaxis": "y"
        },
        {
         "alignmentgroup": "True",
         "hovertemplate": "Dosierungsform=Tablette (oral)<br>Anzahl=%{x}<br>Marktgebiet=%{y}<extra></extra>",
         "legendgroup": "Tablette (oral)",
         "marker": {
          "color": "rgb(226, 54, 169)",
          "pattern": {
           "shape": ""
          }
         },
         "name": "Tablette (oral)",
         "offsetgroup": "Tablette (oral)",
         "orientation": "h",
         "showlegend": true,
         "textangle": 0,
         "textposition": "auto",
         "texttemplate": "%{x:.0f}",
         "type": "bar",
         "x": [
          3
         ],
         "xaxis": "x",
         "y": [
          "Scheidentrockenheit"
         ],
         "yaxis": "y"
        }
       ],
       "layout": {
        "annotations": [
         {
          "align": "left",
          "font": {
           "size": 9
          },
          "showarrow": false,
          "text": "Basierend auf 76 Social-Media-Konversationen aus öffentlich zugänglichen Foren <br>Deutschland, Januar 2013 – April 2023.",
          "textangle": 0,
          "x": -0.25,
          "xanchor": "left",
          "xref": "paper",
          "y": -0.39,
          "yref": "paper"
         }
        ],
        "autosize": false,
        "barmode": "relative",
        "height": 378,
        "legend": {
         "title": {
          "text": "Dosierungsform"
         },
         "tracegroupgap": 0
        },
        "template": {
         "data": {
          "bar": [
           {
            "error_x": {
             "color": "#2a3f5f"
            },
            "error_y": {
             "color": "#2a3f5f"
            },
            "marker": {
             "line": {
              "color": "white",
              "width": 0.5
             },
             "pattern": {
              "fillmode": "overlay",
              "size": 10,
              "solidity": 0.2
             }
            },
            "type": "bar"
           }
          ],
          "barpolar": [
           {
            "marker": {
             "line": {
              "color": "white",
              "width": 0.5
             },
             "pattern": {
              "fillmode": "overlay",
              "size": 10,
              "solidity": 0.2
             }
            },
            "type": "barpolar"
           }
          ],
          "carpet": [
           {
            "aaxis": {
             "endlinecolor": "#2a3f5f",
             "gridcolor": "#C8D4E3",
             "linecolor": "#C8D4E3",
             "minorgridcolor": "#C8D4E3",
             "startlinecolor": "#2a3f5f"
            },
            "baxis": {
             "endlinecolor": "#2a3f5f",
             "gridcolor": "#C8D4E3",
             "linecolor": "#C8D4E3",
             "minorgridcolor": "#C8D4E3",
             "startlinecolor": "#2a3f5f"
            },
            "type": "carpet"
           }
          ],
          "choropleth": [
           {
            "colorbar": {
             "outlinewidth": 0,
             "ticks": ""
            },
            "type": "choropleth"
           }
          ],
          "contour": [
           {
            "colorbar": {
             "outlinewidth": 0,
             "ticks": ""
            },
            "colorscale": [
             [
              0,
              "#0d0887"
             ],
             [
              0.1111111111111111,
              "#46039f"
             ],
             [
              0.2222222222222222,
              "#7201a8"
             ],
             [
              0.3333333333333333,
              "#9c179e"
             ],
             [
              0.4444444444444444,
              "#bd3786"
             ],
             [
              0.5555555555555556,
              "#d8576b"
             ],
             [
              0.6666666666666666,
              "#ed7953"
             ],
             [
              0.7777777777777778,
              "#fb9f3a"
             ],
             [
              0.8888888888888888,
              "#fdca26"
             ],
             [
              1,
              "#f0f921"
             ]
            ],
            "type": "contour"
           }
          ],
          "contourcarpet": [
           {
            "colorbar": {
             "outlinewidth": 0,
             "ticks": ""
            },
            "type": "contourcarpet"
           }
          ],
          "heatmap": [
           {
            "colorbar": {
             "outlinewidth": 0,
             "ticks": ""
            },
            "colorscale": [
             [
              0,
              "#0d0887"
             ],
             [
              0.1111111111111111,
              "#46039f"
             ],
             [
              0.2222222222222222,
              "#7201a8"
             ],
             [
              0.3333333333333333,
              "#9c179e"
             ],
             [
              0.4444444444444444,
              "#bd3786"
             ],
             [
              0.5555555555555556,
              "#d8576b"
             ],
             [
              0.6666666666666666,
              "#ed7953"
             ],
             [
              0.7777777777777778,
              "#fb9f3a"
             ],
             [
              0.8888888888888888,
              "#fdca26"
             ],
             [
              1,
              "#f0f921"
             ]
            ],
            "type": "heatmap"
           }
          ],
          "heatmapgl": [
           {
            "colorbar": {
             "outlinewidth": 0,
             "ticks": ""
            },
            "colorscale": [
             [
              0,
              "#0d0887"
             ],
             [
              0.1111111111111111,
              "#46039f"
             ],
             [
              0.2222222222222222,
              "#7201a8"
             ],
             [
              0.3333333333333333,
              "#9c179e"
             ],
             [
              0.4444444444444444,
              "#bd3786"
             ],
             [
              0.5555555555555556,
              "#d8576b"
             ],
             [
              0.6666666666666666,
              "#ed7953"
             ],
             [
              0.7777777777777778,
              "#fb9f3a"
             ],
             [
              0.8888888888888888,
              "#fdca26"
             ],
             [
              1,
              "#f0f921"
             ]
            ],
            "type": "heatmapgl"
           }
          ],
          "histogram": [
           {
            "marker": {
             "pattern": {
              "fillmode": "overlay",
              "size": 10,
              "solidity": 0.2
             }
            },
            "type": "histogram"
           }
          ],
          "histogram2d": [
           {
            "colorbar": {
             "outlinewidth": 0,
             "ticks": ""
            },
            "colorscale": [
             [
              0,
              "#0d0887"
             ],
             [
              0.1111111111111111,
              "#46039f"
             ],
             [
              0.2222222222222222,
              "#7201a8"
             ],
             [
              0.3333333333333333,
              "#9c179e"
             ],
             [
              0.4444444444444444,
              "#bd3786"
             ],
             [
              0.5555555555555556,
              "#d8576b"
             ],
             [
              0.6666666666666666,
              "#ed7953"
             ],
             [
              0.7777777777777778,
              "#fb9f3a"
             ],
             [
              0.8888888888888888,
              "#fdca26"
             ],
             [
              1,
              "#f0f921"
             ]
            ],
            "type": "histogram2d"
           }
          ],
          "histogram2dcontour": [
           {
            "colorbar": {
             "outlinewidth": 0,
             "ticks": ""
            },
            "colorscale": [
             [
              0,
              "#0d0887"
             ],
             [
              0.1111111111111111,
              "#46039f"
             ],
             [
              0.2222222222222222,
              "#7201a8"
             ],
             [
              0.3333333333333333,
              "#9c179e"
             ],
             [
              0.4444444444444444,
              "#bd3786"
             ],
             [
              0.5555555555555556,
              "#d8576b"
             ],
             [
              0.6666666666666666,
              "#ed7953"
             ],
             [
              0.7777777777777778,
              "#fb9f3a"
             ],
             [
              0.8888888888888888,
              "#fdca26"
             ],
             [
              1,
              "#f0f921"
             ]
            ],
            "type": "histogram2dcontour"
           }
          ],
          "mesh3d": [
           {
            "colorbar": {
             "outlinewidth": 0,
             "ticks": ""
            },
            "type": "mesh3d"
           }
          ],
          "parcoords": [
           {
            "line": {
             "colorbar": {
              "outlinewidth": 0,
              "ticks": ""
             }
            },
            "type": "parcoords"
           }
          ],
          "pie": [
           {
            "automargin": true,
            "type": "pie"
           }
          ],
          "scatter": [
           {
            "fillpattern": {
             "fillmode": "overlay",
             "size": 10,
             "solidity": 0.2
            },
            "type": "scatter"
           }
          ],
          "scatter3d": [
           {
            "line": {
             "colorbar": {
              "outlinewidth": 0,
              "ticks": ""
             }
            },
            "marker": {
             "colorbar": {
              "outlinewidth": 0,
              "ticks": ""
             }
            },
            "type": "scatter3d"
           }
          ],
          "scattercarpet": [
           {
            "marker": {
             "colorbar": {
              "outlinewidth": 0,
              "ticks": ""
             }
            },
            "type": "scattercarpet"
           }
          ],
          "scattergeo": [
           {
            "marker": {
             "colorbar": {
              "outlinewidth": 0,
              "ticks": ""
             }
            },
            "type": "scattergeo"
           }
          ],
          "scattergl": [
           {
            "marker": {
             "colorbar": {
              "outlinewidth": 0,
              "ticks": ""
             }
            },
            "type": "scattergl"
           }
          ],
          "scattermapbox": [
           {
            "marker": {
             "colorbar": {
              "outlinewidth": 0,
              "ticks": ""
             }
            },
            "type": "scattermapbox"
           }
          ],
          "scatterpolar": [
           {
            "marker": {
             "colorbar": {
              "outlinewidth": 0,
              "ticks": ""
             }
            },
            "type": "scatterpolar"
           }
          ],
          "scatterpolargl": [
           {
            "marker": {
             "colorbar": {
              "outlinewidth": 0,
              "ticks": ""
             }
            },
            "type": "scatterpolargl"
           }
          ],
          "scatterternary": [
           {
            "marker": {
             "colorbar": {
              "outlinewidth": 0,
              "ticks": ""
             }
            },
            "type": "scatterternary"
           }
          ],
          "surface": [
           {
            "colorbar": {
             "outlinewidth": 0,
             "ticks": ""
            },
            "colorscale": [
             [
              0,
              "#0d0887"
             ],
             [
              0.1111111111111111,
              "#46039f"
             ],
             [
              0.2222222222222222,
              "#7201a8"
             ],
             [
              0.3333333333333333,
              "#9c179e"
             ],
             [
              0.4444444444444444,
              "#bd3786"
             ],
             [
              0.5555555555555556,
              "#d8576b"
             ],
             [
              0.6666666666666666,
              "#ed7953"
             ],
             [
              0.7777777777777778,
              "#fb9f3a"
             ],
             [
              0.8888888888888888,
              "#fdca26"
             ],
             [
              1,
              "#f0f921"
             ]
            ],
            "type": "surface"
           }
          ],
          "table": [
           {
            "cells": {
             "fill": {
              "color": "#EBF0F8"
             },
             "line": {
              "color": "white"
             }
            },
            "header": {
             "fill": {
              "color": "#C8D4E3"
             },
             "line": {
              "color": "white"
             }
            },
            "type": "table"
           }
          ]
         },
         "layout": {
          "annotationdefaults": {
           "arrowcolor": "#2a3f5f",
           "arrowhead": 0,
           "arrowwidth": 1
          },
          "autotypenumbers": "strict",
          "coloraxis": {
           "colorbar": {
            "outlinewidth": 0,
            "ticks": ""
           }
          },
          "colorscale": {
           "diverging": [
            [
             0,
             "#8e0152"
            ],
            [
             0.1,
             "#c51b7d"
            ],
            [
             0.2,
             "#de77ae"
            ],
            [
             0.3,
             "#f1b6da"
            ],
            [
             0.4,
             "#fde0ef"
            ],
            [
             0.5,
             "#f7f7f7"
            ],
            [
             0.6,
             "#e6f5d0"
            ],
            [
             0.7,
             "#b8e186"
            ],
            [
             0.8,
             "#7fbc41"
            ],
            [
             0.9,
             "#4d9221"
            ],
            [
             1,
             "#276419"
            ]
           ],
           "sequential": [
            [
             0,
             "#0d0887"
            ],
            [
             0.1111111111111111,
             "#46039f"
            ],
            [
             0.2222222222222222,
             "#7201a8"
            ],
            [
             0.3333333333333333,
             "#9c179e"
            ],
            [
             0.4444444444444444,
             "#bd3786"
            ],
            [
             0.5555555555555556,
             "#d8576b"
            ],
            [
             0.6666666666666666,
             "#ed7953"
            ],
            [
             0.7777777777777778,
             "#fb9f3a"
            ],
            [
             0.8888888888888888,
             "#fdca26"
            ],
            [
             1,
             "#f0f921"
            ]
           ],
           "sequentialminus": [
            [
             0,
             "#0d0887"
            ],
            [
             0.1111111111111111,
             "#46039f"
            ],
            [
             0.2222222222222222,
             "#7201a8"
            ],
            [
             0.3333333333333333,
             "#9c179e"
            ],
            [
             0.4444444444444444,
             "#bd3786"
            ],
            [
             0.5555555555555556,
             "#d8576b"
            ],
            [
             0.6666666666666666,
             "#ed7953"
            ],
            [
             0.7777777777777778,
             "#fb9f3a"
            ],
            [
             0.8888888888888888,
             "#fdca26"
            ],
            [
             1,
             "#f0f921"
            ]
           ]
          },
          "colorway": [
           "#636efa",
           "#EF553B",
           "#00cc96",
           "#ab63fa",
           "#FFA15A",
           "#19d3f3",
           "#FF6692",
           "#B6E880",
           "#FF97FF",
           "#FECB52"
          ],
          "font": {
           "color": "#2a3f5f"
          },
          "geo": {
           "bgcolor": "white",
           "lakecolor": "white",
           "landcolor": "white",
           "showlakes": true,
           "showland": true,
           "subunitcolor": "#C8D4E3"
          },
          "hoverlabel": {
           "align": "left"
          },
          "hovermode": "closest",
          "mapbox": {
           "style": "light"
          },
          "paper_bgcolor": "white",
          "plot_bgcolor": "white",
          "polar": {
           "angularaxis": {
            "gridcolor": "#EBF0F8",
            "linecolor": "#EBF0F8",
            "ticks": ""
           },
           "bgcolor": "white",
           "radialaxis": {
            "gridcolor": "#EBF0F8",
            "linecolor": "#EBF0F8",
            "ticks": ""
           }
          },
          "scene": {
           "xaxis": {
            "backgroundcolor": "white",
            "gridcolor": "#DFE8F3",
            "gridwidth": 2,
            "linecolor": "#EBF0F8",
            "showbackground": true,
            "ticks": "",
            "zerolinecolor": "#EBF0F8"
           },
           "yaxis": {
            "backgroundcolor": "white",
            "gridcolor": "#DFE8F3",
            "gridwidth": 2,
            "linecolor": "#EBF0F8",
            "showbackground": true,
            "ticks": "",
            "zerolinecolor": "#EBF0F8"
           },
           "zaxis": {
            "backgroundcolor": "white",
            "gridcolor": "#DFE8F3",
            "gridwidth": 2,
            "linecolor": "#EBF0F8",
            "showbackground": true,
            "ticks": "",
            "zerolinecolor": "#EBF0F8"
           }
          },
          "shapedefaults": {
           "line": {
            "color": "#2a3f5f"
           }
          },
          "ternary": {
           "aaxis": {
            "gridcolor": "#DFE8F3",
            "linecolor": "#A2B1C6",
            "ticks": ""
           },
           "baxis": {
            "gridcolor": "#DFE8F3",
            "linecolor": "#A2B1C6",
            "ticks": ""
           },
           "bgcolor": "white",
           "caxis": {
            "gridcolor": "#DFE8F3",
            "linecolor": "#A2B1C6",
            "ticks": ""
           }
          },
          "title": {
           "x": 0.05
          },
          "xaxis": {
           "automargin": true,
           "gridcolor": "#EBF0F8",
           "linecolor": "#EBF0F8",
           "ticks": "",
           "title": {
            "standoff": 15
           },
           "zerolinecolor": "#EBF0F8",
           "zerolinewidth": 2
          },
          "yaxis": {
           "automargin": true,
           "gridcolor": "#EBF0F8",
           "linecolor": "#EBF0F8",
           "ticks": "",
           "title": {
            "standoff": 15
           },
           "zerolinecolor": "#EBF0F8",
           "zerolinewidth": 2
          }
         }
        },
        "title": {
         "text": "Anzahl der Social - Media - Posts mit der Kombination: <br>Dosierungsform und Marktgebiet"
        },
        "width": 756,
        "xaxis": {
         "anchor": "y",
         "domain": [
          0,
          1
         ],
         "title": {
          "text": "Anzahl"
         }
        },
        "yaxis": {
         "anchor": "x",
         "domain": [
          0,
          1
         ],
         "title": {
          "text": "Marktgebiet"
         }
        }
       }
      }
     },
     "metadata": {},
     "output_type": "display_data"
    },
    {
     "data": {
      "application/vnd.plotly.v1+json": {
       "config": {
        "plotlyServerURL": "https://plot.ly"
       },
       "data": [
        {
         "alignmentgroup": "True",
         "bingroup": "y",
         "histfunc": "sum",
         "hovertemplate": "Dosierungsform=Gel<br>sum of Anteil (normalized as percent)=%{x}<br>Marktgebiet=%{y}<extra></extra>",
         "legendgroup": "Gel",
         "marker": {
          "color": "rgb(54, 112, 226)",
          "pattern": {
           "shape": ""
          }
         },
         "name": "Gel",
         "offsetgroup": "Gel",
         "orientation": "h",
         "showlegend": true,
         "textangle": 0,
         "texttemplate": "%{value:.0f}",
         "type": "histogram",
         "x": [
          0.01973554371422933,
          0.07894217485691732,
          0.3947108742845865,
          0.059206631142687975
         ],
         "xaxis": "x",
         "y": [
          "Scheidenflora",
          "Scheidenpilz",
          "Scheidentrockenheit",
          "Zyklusbeschwerden"
         ],
         "yaxis": "y"
        },
        {
         "alignmentgroup": "True",
         "bingroup": "y",
         "histfunc": "sum",
         "hovertemplate": "Dosierungsform=Granulat/Pulver<br>sum of Anteil (normalized as percent)=%{x}<br>Marktgebiet=%{y}<extra></extra>",
         "legendgroup": "Granulat/Pulver",
         "marker": {
          "color": "rgb(54, 169, 226)",
          "pattern": {
           "shape": ""
          }
         },
         "name": "Granulat/Pulver",
         "offsetgroup": "Granulat/Pulver",
         "orientation": "h",
         "showlegend": true,
         "textangle": 0,
         "texttemplate": "%{value:.0f}",
         "type": "histogram",
         "x": [
          0.059206631142687975,
          0.01973554371422933
         ],
         "xaxis": "x",
         "y": [
          "Scheidenpilz",
          "Scheidentrockenheit"
         ],
         "yaxis": "y"
        },
        {
         "alignmentgroup": "True",
         "bingroup": "y",
         "histfunc": "sum",
         "hovertemplate": "Dosierungsform=Lotion<br>sum of Anteil (normalized as percent)=%{x}<br>Marktgebiet=%{y}<extra></extra>",
         "legendgroup": "Lotion",
         "marker": {
          "color": "rgb(54, 226, 169)",
          "pattern": {
           "shape": ""
          }
         },
         "name": "Lotion",
         "offsetgroup": "Lotion",
         "orientation": "h",
         "showlegend": true,
         "textangle": 0,
         "texttemplate": "%{value:.0f}",
         "type": "histogram",
         "x": [
          0.09867771857114663,
          0.6710084862837971,
          0.01973554371422933
         ],
         "xaxis": "x",
         "y": [
          "Scheidenpilz",
          "Scheidentrockenheit",
          "Zyklusbeschwerden"
         ],
         "yaxis": "y"
        },
        {
         "alignmentgroup": "True",
         "bingroup": "y",
         "histfunc": "sum",
         "hovertemplate": "Dosierungsform=Tablette (vaginal)<br>sum of Anteil (normalized as percent)=%{x}<br>Marktgebiet=%{y}<extra></extra>",
         "legendgroup": "Tablette (vaginal)",
         "marker": {
          "color": "rgb(112, 54, 226)",
          "pattern": {
           "shape": ""
          }
         },
         "name": "Tablette (vaginal)",
         "offsetgroup": "Tablette (vaginal)",
         "orientation": "h",
         "showlegend": true,
         "textangle": 0,
         "texttemplate": "%{value:.0f}",
         "type": "histogram",
         "x": [
          0.01973554371422933
         ],
         "xaxis": "x",
         "y": [
          "Scheidenpilz"
         ],
         "yaxis": "y"
        },
        {
         "alignmentgroup": "True",
         "bingroup": "y",
         "histfunc": "sum",
         "hovertemplate": "Dosierungsform=Tablette (oral)<br>sum of Anteil (normalized as percent)=%{x}<br>Marktgebiet=%{y}<extra></extra>",
         "legendgroup": "Tablette (oral)",
         "marker": {
          "color": "rgb(226, 54, 169)",
          "pattern": {
           "shape": ""
          }
         },
         "name": "Tablette (oral)",
         "offsetgroup": "Tablette (oral)",
         "orientation": "h",
         "showlegend": true,
         "textangle": 0,
         "texttemplate": "%{value:.0f}",
         "type": "histogram",
         "x": [
          0.059206631142687975
         ],
         "xaxis": "x",
         "y": [
          "Scheidentrockenheit"
         ],
         "yaxis": "y"
        }
       ],
       "layout": {
        "annotations": [
         {
          "align": "left",
          "font": {
           "size": 9
          },
          "showarrow": false,
          "text": "Basierend auf 76 Social-Media-Konversationen aus öffentlich zugänglichen Foren <br>Deutschland, Januar 2013 – April 2023.",
          "textangle": 0,
          "x": -0.25,
          "xanchor": "left",
          "xref": "paper",
          "y": -0.39,
          "yref": "paper"
         }
        ],
        "autosize": false,
        "barmode": "relative",
        "barnorm": "percent",
        "height": 378,
        "legend": {
         "title": {
          "text": "Dosierungsform"
         },
         "tracegroupgap": 0
        },
        "template": {
         "data": {
          "bar": [
           {
            "error_x": {
             "color": "#2a3f5f"
            },
            "error_y": {
             "color": "#2a3f5f"
            },
            "marker": {
             "line": {
              "color": "white",
              "width": 0.5
             },
             "pattern": {
              "fillmode": "overlay",
              "size": 10,
              "solidity": 0.2
             }
            },
            "type": "bar"
           }
          ],
          "barpolar": [
           {
            "marker": {
             "line": {
              "color": "white",
              "width": 0.5
             },
             "pattern": {
              "fillmode": "overlay",
              "size": 10,
              "solidity": 0.2
             }
            },
            "type": "barpolar"
           }
          ],
          "carpet": [
           {
            "aaxis": {
             "endlinecolor": "#2a3f5f",
             "gridcolor": "#C8D4E3",
             "linecolor": "#C8D4E3",
             "minorgridcolor": "#C8D4E3",
             "startlinecolor": "#2a3f5f"
            },
            "baxis": {
             "endlinecolor": "#2a3f5f",
             "gridcolor": "#C8D4E3",
             "linecolor": "#C8D4E3",
             "minorgridcolor": "#C8D4E3",
             "startlinecolor": "#2a3f5f"
            },
            "type": "carpet"
           }
          ],
          "choropleth": [
           {
            "colorbar": {
             "outlinewidth": 0,
             "ticks": ""
            },
            "type": "choropleth"
           }
          ],
          "contour": [
           {
            "colorbar": {
             "outlinewidth": 0,
             "ticks": ""
            },
            "colorscale": [
             [
              0,
              "#0d0887"
             ],
             [
              0.1111111111111111,
              "#46039f"
             ],
             [
              0.2222222222222222,
              "#7201a8"
             ],
             [
              0.3333333333333333,
              "#9c179e"
             ],
             [
              0.4444444444444444,
              "#bd3786"
             ],
             [
              0.5555555555555556,
              "#d8576b"
             ],
             [
              0.6666666666666666,
              "#ed7953"
             ],
             [
              0.7777777777777778,
              "#fb9f3a"
             ],
             [
              0.8888888888888888,
              "#fdca26"
             ],
             [
              1,
              "#f0f921"
             ]
            ],
            "type": "contour"
           }
          ],
          "contourcarpet": [
           {
            "colorbar": {
             "outlinewidth": 0,
             "ticks": ""
            },
            "type": "contourcarpet"
           }
          ],
          "heatmap": [
           {
            "colorbar": {
             "outlinewidth": 0,
             "ticks": ""
            },
            "colorscale": [
             [
              0,
              "#0d0887"
             ],
             [
              0.1111111111111111,
              "#46039f"
             ],
             [
              0.2222222222222222,
              "#7201a8"
             ],
             [
              0.3333333333333333,
              "#9c179e"
             ],
             [
              0.4444444444444444,
              "#bd3786"
             ],
             [
              0.5555555555555556,
              "#d8576b"
             ],
             [
              0.6666666666666666,
              "#ed7953"
             ],
             [
              0.7777777777777778,
              "#fb9f3a"
             ],
             [
              0.8888888888888888,
              "#fdca26"
             ],
             [
              1,
              "#f0f921"
             ]
            ],
            "type": "heatmap"
           }
          ],
          "heatmapgl": [
           {
            "colorbar": {
             "outlinewidth": 0,
             "ticks": ""
            },
            "colorscale": [
             [
              0,
              "#0d0887"
             ],
             [
              0.1111111111111111,
              "#46039f"
             ],
             [
              0.2222222222222222,
              "#7201a8"
             ],
             [
              0.3333333333333333,
              "#9c179e"
             ],
             [
              0.4444444444444444,
              "#bd3786"
             ],
             [
              0.5555555555555556,
              "#d8576b"
             ],
             [
              0.6666666666666666,
              "#ed7953"
             ],
             [
              0.7777777777777778,
              "#fb9f3a"
             ],
             [
              0.8888888888888888,
              "#fdca26"
             ],
             [
              1,
              "#f0f921"
             ]
            ],
            "type": "heatmapgl"
           }
          ],
          "histogram": [
           {
            "marker": {
             "pattern": {
              "fillmode": "overlay",
              "size": 10,
              "solidity": 0.2
             }
            },
            "type": "histogram"
           }
          ],
          "histogram2d": [
           {
            "colorbar": {
             "outlinewidth": 0,
             "ticks": ""
            },
            "colorscale": [
             [
              0,
              "#0d0887"
             ],
             [
              0.1111111111111111,
              "#46039f"
             ],
             [
              0.2222222222222222,
              "#7201a8"
             ],
             [
              0.3333333333333333,
              "#9c179e"
             ],
             [
              0.4444444444444444,
              "#bd3786"
             ],
             [
              0.5555555555555556,
              "#d8576b"
             ],
             [
              0.6666666666666666,
              "#ed7953"
             ],
             [
              0.7777777777777778,
              "#fb9f3a"
             ],
             [
              0.8888888888888888,
              "#fdca26"
             ],
             [
              1,
              "#f0f921"
             ]
            ],
            "type": "histogram2d"
           }
          ],
          "histogram2dcontour": [
           {
            "colorbar": {
             "outlinewidth": 0,
             "ticks": ""
            },
            "colorscale": [
             [
              0,
              "#0d0887"
             ],
             [
              0.1111111111111111,
              "#46039f"
             ],
             [
              0.2222222222222222,
              "#7201a8"
             ],
             [
              0.3333333333333333,
              "#9c179e"
             ],
             [
              0.4444444444444444,
              "#bd3786"
             ],
             [
              0.5555555555555556,
              "#d8576b"
             ],
             [
              0.6666666666666666,
              "#ed7953"
             ],
             [
              0.7777777777777778,
              "#fb9f3a"
             ],
             [
              0.8888888888888888,
              "#fdca26"
             ],
             [
              1,
              "#f0f921"
             ]
            ],
            "type": "histogram2dcontour"
           }
          ],
          "mesh3d": [
           {
            "colorbar": {
             "outlinewidth": 0,
             "ticks": ""
            },
            "type": "mesh3d"
           }
          ],
          "parcoords": [
           {
            "line": {
             "colorbar": {
              "outlinewidth": 0,
              "ticks": ""
             }
            },
            "type": "parcoords"
           }
          ],
          "pie": [
           {
            "automargin": true,
            "type": "pie"
           }
          ],
          "scatter": [
           {
            "fillpattern": {
             "fillmode": "overlay",
             "size": 10,
             "solidity": 0.2
            },
            "type": "scatter"
           }
          ],
          "scatter3d": [
           {
            "line": {
             "colorbar": {
              "outlinewidth": 0,
              "ticks": ""
             }
            },
            "marker": {
             "colorbar": {
              "outlinewidth": 0,
              "ticks": ""
             }
            },
            "type": "scatter3d"
           }
          ],
          "scattercarpet": [
           {
            "marker": {
             "colorbar": {
              "outlinewidth": 0,
              "ticks": ""
             }
            },
            "type": "scattercarpet"
           }
          ],
          "scattergeo": [
           {
            "marker": {
             "colorbar": {
              "outlinewidth": 0,
              "ticks": ""
             }
            },
            "type": "scattergeo"
           }
          ],
          "scattergl": [
           {
            "marker": {
             "colorbar": {
              "outlinewidth": 0,
              "ticks": ""
             }
            },
            "type": "scattergl"
           }
          ],
          "scattermapbox": [
           {
            "marker": {
             "colorbar": {
              "outlinewidth": 0,
              "ticks": ""
             }
            },
            "type": "scattermapbox"
           }
          ],
          "scatterpolar": [
           {
            "marker": {
             "colorbar": {
              "outlinewidth": 0,
              "ticks": ""
             }
            },
            "type": "scatterpolar"
           }
          ],
          "scatterpolargl": [
           {
            "marker": {
             "colorbar": {
              "outlinewidth": 0,
              "ticks": ""
             }
            },
            "type": "scatterpolargl"
           }
          ],
          "scatterternary": [
           {
            "marker": {
             "colorbar": {
              "outlinewidth": 0,
              "ticks": ""
             }
            },
            "type": "scatterternary"
           }
          ],
          "surface": [
           {
            "colorbar": {
             "outlinewidth": 0,
             "ticks": ""
            },
            "colorscale": [
             [
              0,
              "#0d0887"
             ],
             [
              0.1111111111111111,
              "#46039f"
             ],
             [
              0.2222222222222222,
              "#7201a8"
             ],
             [
              0.3333333333333333,
              "#9c179e"
             ],
             [
              0.4444444444444444,
              "#bd3786"
             ],
             [
              0.5555555555555556,
              "#d8576b"
             ],
             [
              0.6666666666666666,
              "#ed7953"
             ],
             [
              0.7777777777777778,
              "#fb9f3a"
             ],
             [
              0.8888888888888888,
              "#fdca26"
             ],
             [
              1,
              "#f0f921"
             ]
            ],
            "type": "surface"
           }
          ],
          "table": [
           {
            "cells": {
             "fill": {
              "color": "#EBF0F8"
             },
             "line": {
              "color": "white"
             }
            },
            "header": {
             "fill": {
              "color": "#C8D4E3"
             },
             "line": {
              "color": "white"
             }
            },
            "type": "table"
           }
          ]
         },
         "layout": {
          "annotationdefaults": {
           "arrowcolor": "#2a3f5f",
           "arrowhead": 0,
           "arrowwidth": 1
          },
          "autotypenumbers": "strict",
          "coloraxis": {
           "colorbar": {
            "outlinewidth": 0,
            "ticks": ""
           }
          },
          "colorscale": {
           "diverging": [
            [
             0,
             "#8e0152"
            ],
            [
             0.1,
             "#c51b7d"
            ],
            [
             0.2,
             "#de77ae"
            ],
            [
             0.3,
             "#f1b6da"
            ],
            [
             0.4,
             "#fde0ef"
            ],
            [
             0.5,
             "#f7f7f7"
            ],
            [
             0.6,
             "#e6f5d0"
            ],
            [
             0.7,
             "#b8e186"
            ],
            [
             0.8,
             "#7fbc41"
            ],
            [
             0.9,
             "#4d9221"
            ],
            [
             1,
             "#276419"
            ]
           ],
           "sequential": [
            [
             0,
             "#0d0887"
            ],
            [
             0.1111111111111111,
             "#46039f"
            ],
            [
             0.2222222222222222,
             "#7201a8"
            ],
            [
             0.3333333333333333,
             "#9c179e"
            ],
            [
             0.4444444444444444,
             "#bd3786"
            ],
            [
             0.5555555555555556,
             "#d8576b"
            ],
            [
             0.6666666666666666,
             "#ed7953"
            ],
            [
             0.7777777777777778,
             "#fb9f3a"
            ],
            [
             0.8888888888888888,
             "#fdca26"
            ],
            [
             1,
             "#f0f921"
            ]
           ],
           "sequentialminus": [
            [
             0,
             "#0d0887"
            ],
            [
             0.1111111111111111,
             "#46039f"
            ],
            [
             0.2222222222222222,
             "#7201a8"
            ],
            [
             0.3333333333333333,
             "#9c179e"
            ],
            [
             0.4444444444444444,
             "#bd3786"
            ],
            [
             0.5555555555555556,
             "#d8576b"
            ],
            [
             0.6666666666666666,
             "#ed7953"
            ],
            [
             0.7777777777777778,
             "#fb9f3a"
            ],
            [
             0.8888888888888888,
             "#fdca26"
            ],
            [
             1,
             "#f0f921"
            ]
           ]
          },
          "colorway": [
           "#636efa",
           "#EF553B",
           "#00cc96",
           "#ab63fa",
           "#FFA15A",
           "#19d3f3",
           "#FF6692",
           "#B6E880",
           "#FF97FF",
           "#FECB52"
          ],
          "font": {
           "color": "#2a3f5f"
          },
          "geo": {
           "bgcolor": "white",
           "lakecolor": "white",
           "landcolor": "white",
           "showlakes": true,
           "showland": true,
           "subunitcolor": "#C8D4E3"
          },
          "hoverlabel": {
           "align": "left"
          },
          "hovermode": "closest",
          "mapbox": {
           "style": "light"
          },
          "paper_bgcolor": "white",
          "plot_bgcolor": "white",
          "polar": {
           "angularaxis": {
            "gridcolor": "#EBF0F8",
            "linecolor": "#EBF0F8",
            "ticks": ""
           },
           "bgcolor": "white",
           "radialaxis": {
            "gridcolor": "#EBF0F8",
            "linecolor": "#EBF0F8",
            "ticks": ""
           }
          },
          "scene": {
           "xaxis": {
            "backgroundcolor": "white",
            "gridcolor": "#DFE8F3",
            "gridwidth": 2,
            "linecolor": "#EBF0F8",
            "showbackground": true,
            "ticks": "",
            "zerolinecolor": "#EBF0F8"
           },
           "yaxis": {
            "backgroundcolor": "white",
            "gridcolor": "#DFE8F3",
            "gridwidth": 2,
            "linecolor": "#EBF0F8",
            "showbackground": true,
            "ticks": "",
            "zerolinecolor": "#EBF0F8"
           },
           "zaxis": {
            "backgroundcolor": "white",
            "gridcolor": "#DFE8F3",
            "gridwidth": 2,
            "linecolor": "#EBF0F8",
            "showbackground": true,
            "ticks": "",
            "zerolinecolor": "#EBF0F8"
           }
          },
          "shapedefaults": {
           "line": {
            "color": "#2a3f5f"
           }
          },
          "ternary": {
           "aaxis": {
            "gridcolor": "#DFE8F3",
            "linecolor": "#A2B1C6",
            "ticks": ""
           },
           "baxis": {
            "gridcolor": "#DFE8F3",
            "linecolor": "#A2B1C6",
            "ticks": ""
           },
           "bgcolor": "white",
           "caxis": {
            "gridcolor": "#DFE8F3",
            "linecolor": "#A2B1C6",
            "ticks": ""
           }
          },
          "title": {
           "x": 0.05
          },
          "xaxis": {
           "automargin": true,
           "gridcolor": "#EBF0F8",
           "linecolor": "#EBF0F8",
           "ticks": "",
           "title": {
            "standoff": 15
           },
           "zerolinecolor": "#EBF0F8",
           "zerolinewidth": 2
          },
          "yaxis": {
           "automargin": true,
           "gridcolor": "#EBF0F8",
           "linecolor": "#EBF0F8",
           "ticks": "",
           "title": {
            "standoff": 15
           },
           "zerolinecolor": "#EBF0F8",
           "zerolinewidth": 2
          }
         }
        },
        "title": {
         "text": "Anzahl der Social - Media - Posts mit der Kombination: <br>Dosierungsform und Marktgebiet"
        },
        "width": 756,
        "xaxis": {
         "anchor": "y",
         "domain": [
          0,
          1
         ],
         "title": {
          "text": "Anteil"
         }
        },
        "yaxis": {
         "anchor": "x",
         "domain": [
          0,
          1
         ],
         "title": {
          "text": "Marktgebiet"
         }
        }
       }
      }
     },
     "metadata": {},
     "output_type": "display_data"
    },
    {
     "name": "stdout",
     "output_type": "stream",
     "text": [
      "                topic_1 topic_1_product_not_helped_answer  Anzahl    Anteil\n",
      "0             Menopause                         Unbekannt       1  0.019736\n",
      "1         Scheidenflora                            Andere       3  0.059207\n",
      "2         Scheidenflora                  Falsche Diagnose       1  0.019736\n",
      "3         Scheidenflora                         Unbekannt      18  0.355240\n",
      "4          Scheidenpilz                            Andere      15  0.296033\n",
      "5          Scheidenpilz                  Falsche Diagnose      12  0.236827\n",
      "6          Scheidenpilz                         Unbekannt     124  2.447207\n",
      "7   Scheidentrockenheit                            Andere       5  0.098678\n",
      "8   Scheidentrockenheit                  Falsche Diagnose       1  0.019736\n",
      "9   Scheidentrockenheit                         Unbekannt      20  0.394711\n",
      "10    Zyklusbeschwerden                            Andere       7  0.138149\n",
      "11    Zyklusbeschwerden                         Unbekannt      23  0.453918\n"
     ]
    },
    {
     "data": {
      "application/vnd.plotly.v1+json": {
       "config": {
        "plotlyServerURL": "https://plot.ly"
       },
       "data": [
        {
         "alignmentgroup": "True",
         "hovertemplate": "Produkt hat nicht geholfen=Unbekannt<br>Anzahl=%{x}<br>Marktgebiet=%{y}<extra></extra>",
         "legendgroup": "Unbekannt",
         "marker": {
          "color": "rgb(54, 112, 226)",
          "pattern": {
           "shape": ""
          }
         },
         "name": "Unbekannt",
         "offsetgroup": "Unbekannt",
         "orientation": "h",
         "showlegend": true,
         "textangle": 0,
         "textposition": "auto",
         "texttemplate": "%{x:.0f}",
         "type": "bar",
         "x": [
          1,
          18,
          124,
          20,
          23
         ],
         "xaxis": "x",
         "y": [
          "Menopause",
          "Scheidenflora",
          "Scheidenpilz",
          "Scheidentrockenheit",
          "Zyklusbeschwerden"
         ],
         "yaxis": "y"
        },
        {
         "alignmentgroup": "True",
         "hovertemplate": "Produkt hat nicht geholfen=Andere<br>Anzahl=%{x}<br>Marktgebiet=%{y}<extra></extra>",
         "legendgroup": "Andere",
         "marker": {
          "color": "rgb(54, 169, 226)",
          "pattern": {
           "shape": ""
          }
         },
         "name": "Andere",
         "offsetgroup": "Andere",
         "orientation": "h",
         "showlegend": true,
         "textangle": 0,
         "textposition": "auto",
         "texttemplate": "%{x:.0f}",
         "type": "bar",
         "x": [
          3,
          15,
          5,
          7
         ],
         "xaxis": "x",
         "y": [
          "Scheidenflora",
          "Scheidenpilz",
          "Scheidentrockenheit",
          "Zyklusbeschwerden"
         ],
         "yaxis": "y"
        },
        {
         "alignmentgroup": "True",
         "hovertemplate": "Produkt hat nicht geholfen=Falsche Diagnose<br>Anzahl=%{x}<br>Marktgebiet=%{y}<extra></extra>",
         "legendgroup": "Falsche Diagnose",
         "marker": {
          "color": "rgb(54, 226, 169)",
          "pattern": {
           "shape": ""
          }
         },
         "name": "Falsche Diagnose",
         "offsetgroup": "Falsche Diagnose",
         "orientation": "h",
         "showlegend": true,
         "textangle": 0,
         "textposition": "auto",
         "texttemplate": "%{x:.0f}",
         "type": "bar",
         "x": [
          1,
          12,
          1
         ],
         "xaxis": "x",
         "y": [
          "Scheidenflora",
          "Scheidenpilz",
          "Scheidentrockenheit"
         ],
         "yaxis": "y"
        }
       ],
       "layout": {
        "annotations": [
         {
          "align": "left",
          "font": {
           "size": 9
          },
          "showarrow": false,
          "text": "Basierend auf 230 Social-Media-Konversationen aus öffentlich zugänglichen Foren <br>Deutschland, Januar 2013 – April 2023.",
          "textangle": 0,
          "x": -0.25,
          "xanchor": "left",
          "xref": "paper",
          "y": -0.39,
          "yref": "paper"
         }
        ],
        "autosize": false,
        "barmode": "relative",
        "height": 378,
        "legend": {
         "title": {
          "text": "Produkt hat nicht geholfen"
         },
         "tracegroupgap": 0
        },
        "template": {
         "data": {
          "bar": [
           {
            "error_x": {
             "color": "#2a3f5f"
            },
            "error_y": {
             "color": "#2a3f5f"
            },
            "marker": {
             "line": {
              "color": "white",
              "width": 0.5
             },
             "pattern": {
              "fillmode": "overlay",
              "size": 10,
              "solidity": 0.2
             }
            },
            "type": "bar"
           }
          ],
          "barpolar": [
           {
            "marker": {
             "line": {
              "color": "white",
              "width": 0.5
             },
             "pattern": {
              "fillmode": "overlay",
              "size": 10,
              "solidity": 0.2
             }
            },
            "type": "barpolar"
           }
          ],
          "carpet": [
           {
            "aaxis": {
             "endlinecolor": "#2a3f5f",
             "gridcolor": "#C8D4E3",
             "linecolor": "#C8D4E3",
             "minorgridcolor": "#C8D4E3",
             "startlinecolor": "#2a3f5f"
            },
            "baxis": {
             "endlinecolor": "#2a3f5f",
             "gridcolor": "#C8D4E3",
             "linecolor": "#C8D4E3",
             "minorgridcolor": "#C8D4E3",
             "startlinecolor": "#2a3f5f"
            },
            "type": "carpet"
           }
          ],
          "choropleth": [
           {
            "colorbar": {
             "outlinewidth": 0,
             "ticks": ""
            },
            "type": "choropleth"
           }
          ],
          "contour": [
           {
            "colorbar": {
             "outlinewidth": 0,
             "ticks": ""
            },
            "colorscale": [
             [
              0,
              "#0d0887"
             ],
             [
              0.1111111111111111,
              "#46039f"
             ],
             [
              0.2222222222222222,
              "#7201a8"
             ],
             [
              0.3333333333333333,
              "#9c179e"
             ],
             [
              0.4444444444444444,
              "#bd3786"
             ],
             [
              0.5555555555555556,
              "#d8576b"
             ],
             [
              0.6666666666666666,
              "#ed7953"
             ],
             [
              0.7777777777777778,
              "#fb9f3a"
             ],
             [
              0.8888888888888888,
              "#fdca26"
             ],
             [
              1,
              "#f0f921"
             ]
            ],
            "type": "contour"
           }
          ],
          "contourcarpet": [
           {
            "colorbar": {
             "outlinewidth": 0,
             "ticks": ""
            },
            "type": "contourcarpet"
           }
          ],
          "heatmap": [
           {
            "colorbar": {
             "outlinewidth": 0,
             "ticks": ""
            },
            "colorscale": [
             [
              0,
              "#0d0887"
             ],
             [
              0.1111111111111111,
              "#46039f"
             ],
             [
              0.2222222222222222,
              "#7201a8"
             ],
             [
              0.3333333333333333,
              "#9c179e"
             ],
             [
              0.4444444444444444,
              "#bd3786"
             ],
             [
              0.5555555555555556,
              "#d8576b"
             ],
             [
              0.6666666666666666,
              "#ed7953"
             ],
             [
              0.7777777777777778,
              "#fb9f3a"
             ],
             [
              0.8888888888888888,
              "#fdca26"
             ],
             [
              1,
              "#f0f921"
             ]
            ],
            "type": "heatmap"
           }
          ],
          "heatmapgl": [
           {
            "colorbar": {
             "outlinewidth": 0,
             "ticks": ""
            },
            "colorscale": [
             [
              0,
              "#0d0887"
             ],
             [
              0.1111111111111111,
              "#46039f"
             ],
             [
              0.2222222222222222,
              "#7201a8"
             ],
             [
              0.3333333333333333,
              "#9c179e"
             ],
             [
              0.4444444444444444,
              "#bd3786"
             ],
             [
              0.5555555555555556,
              "#d8576b"
             ],
             [
              0.6666666666666666,
              "#ed7953"
             ],
             [
              0.7777777777777778,
              "#fb9f3a"
             ],
             [
              0.8888888888888888,
              "#fdca26"
             ],
             [
              1,
              "#f0f921"
             ]
            ],
            "type": "heatmapgl"
           }
          ],
          "histogram": [
           {
            "marker": {
             "pattern": {
              "fillmode": "overlay",
              "size": 10,
              "solidity": 0.2
             }
            },
            "type": "histogram"
           }
          ],
          "histogram2d": [
           {
            "colorbar": {
             "outlinewidth": 0,
             "ticks": ""
            },
            "colorscale": [
             [
              0,
              "#0d0887"
             ],
             [
              0.1111111111111111,
              "#46039f"
             ],
             [
              0.2222222222222222,
              "#7201a8"
             ],
             [
              0.3333333333333333,
              "#9c179e"
             ],
             [
              0.4444444444444444,
              "#bd3786"
             ],
             [
              0.5555555555555556,
              "#d8576b"
             ],
             [
              0.6666666666666666,
              "#ed7953"
             ],
             [
              0.7777777777777778,
              "#fb9f3a"
             ],
             [
              0.8888888888888888,
              "#fdca26"
             ],
             [
              1,
              "#f0f921"
             ]
            ],
            "type": "histogram2d"
           }
          ],
          "histogram2dcontour": [
           {
            "colorbar": {
             "outlinewidth": 0,
             "ticks": ""
            },
            "colorscale": [
             [
              0,
              "#0d0887"
             ],
             [
              0.1111111111111111,
              "#46039f"
             ],
             [
              0.2222222222222222,
              "#7201a8"
             ],
             [
              0.3333333333333333,
              "#9c179e"
             ],
             [
              0.4444444444444444,
              "#bd3786"
             ],
             [
              0.5555555555555556,
              "#d8576b"
             ],
             [
              0.6666666666666666,
              "#ed7953"
             ],
             [
              0.7777777777777778,
              "#fb9f3a"
             ],
             [
              0.8888888888888888,
              "#fdca26"
             ],
             [
              1,
              "#f0f921"
             ]
            ],
            "type": "histogram2dcontour"
           }
          ],
          "mesh3d": [
           {
            "colorbar": {
             "outlinewidth": 0,
             "ticks": ""
            },
            "type": "mesh3d"
           }
          ],
          "parcoords": [
           {
            "line": {
             "colorbar": {
              "outlinewidth": 0,
              "ticks": ""
             }
            },
            "type": "parcoords"
           }
          ],
          "pie": [
           {
            "automargin": true,
            "type": "pie"
           }
          ],
          "scatter": [
           {
            "fillpattern": {
             "fillmode": "overlay",
             "size": 10,
             "solidity": 0.2
            },
            "type": "scatter"
           }
          ],
          "scatter3d": [
           {
            "line": {
             "colorbar": {
              "outlinewidth": 0,
              "ticks": ""
             }
            },
            "marker": {
             "colorbar": {
              "outlinewidth": 0,
              "ticks": ""
             }
            },
            "type": "scatter3d"
           }
          ],
          "scattercarpet": [
           {
            "marker": {
             "colorbar": {
              "outlinewidth": 0,
              "ticks": ""
             }
            },
            "type": "scattercarpet"
           }
          ],
          "scattergeo": [
           {
            "marker": {
             "colorbar": {
              "outlinewidth": 0,
              "ticks": ""
             }
            },
            "type": "scattergeo"
           }
          ],
          "scattergl": [
           {
            "marker": {
             "colorbar": {
              "outlinewidth": 0,
              "ticks": ""
             }
            },
            "type": "scattergl"
           }
          ],
          "scattermapbox": [
           {
            "marker": {
             "colorbar": {
              "outlinewidth": 0,
              "ticks": ""
             }
            },
            "type": "scattermapbox"
           }
          ],
          "scatterpolar": [
           {
            "marker": {
             "colorbar": {
              "outlinewidth": 0,
              "ticks": ""
             }
            },
            "type": "scatterpolar"
           }
          ],
          "scatterpolargl": [
           {
            "marker": {
             "colorbar": {
              "outlinewidth": 0,
              "ticks": ""
             }
            },
            "type": "scatterpolargl"
           }
          ],
          "scatterternary": [
           {
            "marker": {
             "colorbar": {
              "outlinewidth": 0,
              "ticks": ""
             }
            },
            "type": "scatterternary"
           }
          ],
          "surface": [
           {
            "colorbar": {
             "outlinewidth": 0,
             "ticks": ""
            },
            "colorscale": [
             [
              0,
              "#0d0887"
             ],
             [
              0.1111111111111111,
              "#46039f"
             ],
             [
              0.2222222222222222,
              "#7201a8"
             ],
             [
              0.3333333333333333,
              "#9c179e"
             ],
             [
              0.4444444444444444,
              "#bd3786"
             ],
             [
              0.5555555555555556,
              "#d8576b"
             ],
             [
              0.6666666666666666,
              "#ed7953"
             ],
             [
              0.7777777777777778,
              "#fb9f3a"
             ],
             [
              0.8888888888888888,
              "#fdca26"
             ],
             [
              1,
              "#f0f921"
             ]
            ],
            "type": "surface"
           }
          ],
          "table": [
           {
            "cells": {
             "fill": {
              "color": "#EBF0F8"
             },
             "line": {
              "color": "white"
             }
            },
            "header": {
             "fill": {
              "color": "#C8D4E3"
             },
             "line": {
              "color": "white"
             }
            },
            "type": "table"
           }
          ]
         },
         "layout": {
          "annotationdefaults": {
           "arrowcolor": "#2a3f5f",
           "arrowhead": 0,
           "arrowwidth": 1
          },
          "autotypenumbers": "strict",
          "coloraxis": {
           "colorbar": {
            "outlinewidth": 0,
            "ticks": ""
           }
          },
          "colorscale": {
           "diverging": [
            [
             0,
             "#8e0152"
            ],
            [
             0.1,
             "#c51b7d"
            ],
            [
             0.2,
             "#de77ae"
            ],
            [
             0.3,
             "#f1b6da"
            ],
            [
             0.4,
             "#fde0ef"
            ],
            [
             0.5,
             "#f7f7f7"
            ],
            [
             0.6,
             "#e6f5d0"
            ],
            [
             0.7,
             "#b8e186"
            ],
            [
             0.8,
             "#7fbc41"
            ],
            [
             0.9,
             "#4d9221"
            ],
            [
             1,
             "#276419"
            ]
           ],
           "sequential": [
            [
             0,
             "#0d0887"
            ],
            [
             0.1111111111111111,
             "#46039f"
            ],
            [
             0.2222222222222222,
             "#7201a8"
            ],
            [
             0.3333333333333333,
             "#9c179e"
            ],
            [
             0.4444444444444444,
             "#bd3786"
            ],
            [
             0.5555555555555556,
             "#d8576b"
            ],
            [
             0.6666666666666666,
             "#ed7953"
            ],
            [
             0.7777777777777778,
             "#fb9f3a"
            ],
            [
             0.8888888888888888,
             "#fdca26"
            ],
            [
             1,
             "#f0f921"
            ]
           ],
           "sequentialminus": [
            [
             0,
             "#0d0887"
            ],
            [
             0.1111111111111111,
             "#46039f"
            ],
            [
             0.2222222222222222,
             "#7201a8"
            ],
            [
             0.3333333333333333,
             "#9c179e"
            ],
            [
             0.4444444444444444,
             "#bd3786"
            ],
            [
             0.5555555555555556,
             "#d8576b"
            ],
            [
             0.6666666666666666,
             "#ed7953"
            ],
            [
             0.7777777777777778,
             "#fb9f3a"
            ],
            [
             0.8888888888888888,
             "#fdca26"
            ],
            [
             1,
             "#f0f921"
            ]
           ]
          },
          "colorway": [
           "#636efa",
           "#EF553B",
           "#00cc96",
           "#ab63fa",
           "#FFA15A",
           "#19d3f3",
           "#FF6692",
           "#B6E880",
           "#FF97FF",
           "#FECB52"
          ],
          "font": {
           "color": "#2a3f5f"
          },
          "geo": {
           "bgcolor": "white",
           "lakecolor": "white",
           "landcolor": "white",
           "showlakes": true,
           "showland": true,
           "subunitcolor": "#C8D4E3"
          },
          "hoverlabel": {
           "align": "left"
          },
          "hovermode": "closest",
          "mapbox": {
           "style": "light"
          },
          "paper_bgcolor": "white",
          "plot_bgcolor": "white",
          "polar": {
           "angularaxis": {
            "gridcolor": "#EBF0F8",
            "linecolor": "#EBF0F8",
            "ticks": ""
           },
           "bgcolor": "white",
           "radialaxis": {
            "gridcolor": "#EBF0F8",
            "linecolor": "#EBF0F8",
            "ticks": ""
           }
          },
          "scene": {
           "xaxis": {
            "backgroundcolor": "white",
            "gridcolor": "#DFE8F3",
            "gridwidth": 2,
            "linecolor": "#EBF0F8",
            "showbackground": true,
            "ticks": "",
            "zerolinecolor": "#EBF0F8"
           },
           "yaxis": {
            "backgroundcolor": "white",
            "gridcolor": "#DFE8F3",
            "gridwidth": 2,
            "linecolor": "#EBF0F8",
            "showbackground": true,
            "ticks": "",
            "zerolinecolor": "#EBF0F8"
           },
           "zaxis": {
            "backgroundcolor": "white",
            "gridcolor": "#DFE8F3",
            "gridwidth": 2,
            "linecolor": "#EBF0F8",
            "showbackground": true,
            "ticks": "",
            "zerolinecolor": "#EBF0F8"
           }
          },
          "shapedefaults": {
           "line": {
            "color": "#2a3f5f"
           }
          },
          "ternary": {
           "aaxis": {
            "gridcolor": "#DFE8F3",
            "linecolor": "#A2B1C6",
            "ticks": ""
           },
           "baxis": {
            "gridcolor": "#DFE8F3",
            "linecolor": "#A2B1C6",
            "ticks": ""
           },
           "bgcolor": "white",
           "caxis": {
            "gridcolor": "#DFE8F3",
            "linecolor": "#A2B1C6",
            "ticks": ""
           }
          },
          "title": {
           "x": 0.05
          },
          "xaxis": {
           "automargin": true,
           "gridcolor": "#EBF0F8",
           "linecolor": "#EBF0F8",
           "ticks": "",
           "title": {
            "standoff": 15
           },
           "zerolinecolor": "#EBF0F8",
           "zerolinewidth": 2
          },
          "yaxis": {
           "automargin": true,
           "gridcolor": "#EBF0F8",
           "linecolor": "#EBF0F8",
           "ticks": "",
           "title": {
            "standoff": 15
           },
           "zerolinecolor": "#EBF0F8",
           "zerolinewidth": 2
          }
         }
        },
        "title": {
         "text": "Anzahl der Social - Media - Posts mit der Kombination: <br>Produkt hat nicht geholfen und Marktgebiet"
        },
        "width": 756,
        "xaxis": {
         "anchor": "y",
         "domain": [
          0,
          1
         ],
         "title": {
          "text": "Anzahl"
         }
        },
        "yaxis": {
         "anchor": "x",
         "domain": [
          0,
          1
         ],
         "title": {
          "text": "Marktgebiet"
         }
        }
       }
      }
     },
     "metadata": {},
     "output_type": "display_data"
    },
    {
     "data": {
      "application/vnd.plotly.v1+json": {
       "config": {
        "plotlyServerURL": "https://plot.ly"
       },
       "data": [
        {
         "alignmentgroup": "True",
         "bingroup": "y",
         "histfunc": "sum",
         "hovertemplate": "Produkt hat nicht geholfen=Unbekannt<br>sum of Anteil (normalized as percent)=%{x}<br>Marktgebiet=%{y}<extra></extra>",
         "legendgroup": "Unbekannt",
         "marker": {
          "color": "rgb(54, 112, 226)",
          "pattern": {
           "shape": ""
          }
         },
         "name": "Unbekannt",
         "offsetgroup": "Unbekannt",
         "orientation": "h",
         "showlegend": true,
         "textangle": 0,
         "texttemplate": "%{value:.0f}",
         "type": "histogram",
         "x": [
          0.01973554371422933,
          0.3552397868561279,
          2.4472074205644367,
          0.3947108742845865,
          0.45391750542727455
         ],
         "xaxis": "x",
         "y": [
          "Menopause",
          "Scheidenflora",
          "Scheidenpilz",
          "Scheidentrockenheit",
          "Zyklusbeschwerden"
         ],
         "yaxis": "y"
        },
        {
         "alignmentgroup": "True",
         "bingroup": "y",
         "histfunc": "sum",
         "hovertemplate": "Produkt hat nicht geholfen=Andere<br>sum of Anteil (normalized as percent)=%{x}<br>Marktgebiet=%{y}<extra></extra>",
         "legendgroup": "Andere",
         "marker": {
          "color": "rgb(54, 169, 226)",
          "pattern": {
           "shape": ""
          }
         },
         "name": "Andere",
         "offsetgroup": "Andere",
         "orientation": "h",
         "showlegend": true,
         "textangle": 0,
         "texttemplate": "%{value:.0f}",
         "type": "histogram",
         "x": [
          0.059206631142687975,
          0.2960331557134399,
          0.09867771857114663,
          0.1381488059996053
         ],
         "xaxis": "x",
         "y": [
          "Scheidenflora",
          "Scheidenpilz",
          "Scheidentrockenheit",
          "Zyklusbeschwerden"
         ],
         "yaxis": "y"
        },
        {
         "alignmentgroup": "True",
         "bingroup": "y",
         "histfunc": "sum",
         "hovertemplate": "Produkt hat nicht geholfen=Falsche Diagnose<br>sum of Anteil (normalized as percent)=%{x}<br>Marktgebiet=%{y}<extra></extra>",
         "legendgroup": "Falsche Diagnose",
         "marker": {
          "color": "rgb(54, 226, 169)",
          "pattern": {
           "shape": ""
          }
         },
         "name": "Falsche Diagnose",
         "offsetgroup": "Falsche Diagnose",
         "orientation": "h",
         "showlegend": true,
         "textangle": 0,
         "texttemplate": "%{value:.0f}",
         "type": "histogram",
         "x": [
          0.01973554371422933,
          0.2368265245707519,
          0.01973554371422933
         ],
         "xaxis": "x",
         "y": [
          "Scheidenflora",
          "Scheidenpilz",
          "Scheidentrockenheit"
         ],
         "yaxis": "y"
        }
       ],
       "layout": {
        "annotations": [
         {
          "align": "left",
          "font": {
           "size": 9
          },
          "showarrow": false,
          "text": "Basierend auf 230 Social-Media-Konversationen aus öffentlich zugänglichen Foren <br>Deutschland, Januar 2013 – April 2023.",
          "textangle": 0,
          "x": -0.25,
          "xanchor": "left",
          "xref": "paper",
          "y": -0.39,
          "yref": "paper"
         }
        ],
        "autosize": false,
        "barmode": "relative",
        "barnorm": "percent",
        "height": 378,
        "legend": {
         "title": {
          "text": "Produkt hat nicht geholfen"
         },
         "tracegroupgap": 0
        },
        "template": {
         "data": {
          "bar": [
           {
            "error_x": {
             "color": "#2a3f5f"
            },
            "error_y": {
             "color": "#2a3f5f"
            },
            "marker": {
             "line": {
              "color": "white",
              "width": 0.5
             },
             "pattern": {
              "fillmode": "overlay",
              "size": 10,
              "solidity": 0.2
             }
            },
            "type": "bar"
           }
          ],
          "barpolar": [
           {
            "marker": {
             "line": {
              "color": "white",
              "width": 0.5
             },
             "pattern": {
              "fillmode": "overlay",
              "size": 10,
              "solidity": 0.2
             }
            },
            "type": "barpolar"
           }
          ],
          "carpet": [
           {
            "aaxis": {
             "endlinecolor": "#2a3f5f",
             "gridcolor": "#C8D4E3",
             "linecolor": "#C8D4E3",
             "minorgridcolor": "#C8D4E3",
             "startlinecolor": "#2a3f5f"
            },
            "baxis": {
             "endlinecolor": "#2a3f5f",
             "gridcolor": "#C8D4E3",
             "linecolor": "#C8D4E3",
             "minorgridcolor": "#C8D4E3",
             "startlinecolor": "#2a3f5f"
            },
            "type": "carpet"
           }
          ],
          "choropleth": [
           {
            "colorbar": {
             "outlinewidth": 0,
             "ticks": ""
            },
            "type": "choropleth"
           }
          ],
          "contour": [
           {
            "colorbar": {
             "outlinewidth": 0,
             "ticks": ""
            },
            "colorscale": [
             [
              0,
              "#0d0887"
             ],
             [
              0.1111111111111111,
              "#46039f"
             ],
             [
              0.2222222222222222,
              "#7201a8"
             ],
             [
              0.3333333333333333,
              "#9c179e"
             ],
             [
              0.4444444444444444,
              "#bd3786"
             ],
             [
              0.5555555555555556,
              "#d8576b"
             ],
             [
              0.6666666666666666,
              "#ed7953"
             ],
             [
              0.7777777777777778,
              "#fb9f3a"
             ],
             [
              0.8888888888888888,
              "#fdca26"
             ],
             [
              1,
              "#f0f921"
             ]
            ],
            "type": "contour"
           }
          ],
          "contourcarpet": [
           {
            "colorbar": {
             "outlinewidth": 0,
             "ticks": ""
            },
            "type": "contourcarpet"
           }
          ],
          "heatmap": [
           {
            "colorbar": {
             "outlinewidth": 0,
             "ticks": ""
            },
            "colorscale": [
             [
              0,
              "#0d0887"
             ],
             [
              0.1111111111111111,
              "#46039f"
             ],
             [
              0.2222222222222222,
              "#7201a8"
             ],
             [
              0.3333333333333333,
              "#9c179e"
             ],
             [
              0.4444444444444444,
              "#bd3786"
             ],
             [
              0.5555555555555556,
              "#d8576b"
             ],
             [
              0.6666666666666666,
              "#ed7953"
             ],
             [
              0.7777777777777778,
              "#fb9f3a"
             ],
             [
              0.8888888888888888,
              "#fdca26"
             ],
             [
              1,
              "#f0f921"
             ]
            ],
            "type": "heatmap"
           }
          ],
          "heatmapgl": [
           {
            "colorbar": {
             "outlinewidth": 0,
             "ticks": ""
            },
            "colorscale": [
             [
              0,
              "#0d0887"
             ],
             [
              0.1111111111111111,
              "#46039f"
             ],
             [
              0.2222222222222222,
              "#7201a8"
             ],
             [
              0.3333333333333333,
              "#9c179e"
             ],
             [
              0.4444444444444444,
              "#bd3786"
             ],
             [
              0.5555555555555556,
              "#d8576b"
             ],
             [
              0.6666666666666666,
              "#ed7953"
             ],
             [
              0.7777777777777778,
              "#fb9f3a"
             ],
             [
              0.8888888888888888,
              "#fdca26"
             ],
             [
              1,
              "#f0f921"
             ]
            ],
            "type": "heatmapgl"
           }
          ],
          "histogram": [
           {
            "marker": {
             "pattern": {
              "fillmode": "overlay",
              "size": 10,
              "solidity": 0.2
             }
            },
            "type": "histogram"
           }
          ],
          "histogram2d": [
           {
            "colorbar": {
             "outlinewidth": 0,
             "ticks": ""
            },
            "colorscale": [
             [
              0,
              "#0d0887"
             ],
             [
              0.1111111111111111,
              "#46039f"
             ],
             [
              0.2222222222222222,
              "#7201a8"
             ],
             [
              0.3333333333333333,
              "#9c179e"
             ],
             [
              0.4444444444444444,
              "#bd3786"
             ],
             [
              0.5555555555555556,
              "#d8576b"
             ],
             [
              0.6666666666666666,
              "#ed7953"
             ],
             [
              0.7777777777777778,
              "#fb9f3a"
             ],
             [
              0.8888888888888888,
              "#fdca26"
             ],
             [
              1,
              "#f0f921"
             ]
            ],
            "type": "histogram2d"
           }
          ],
          "histogram2dcontour": [
           {
            "colorbar": {
             "outlinewidth": 0,
             "ticks": ""
            },
            "colorscale": [
             [
              0,
              "#0d0887"
             ],
             [
              0.1111111111111111,
              "#46039f"
             ],
             [
              0.2222222222222222,
              "#7201a8"
             ],
             [
              0.3333333333333333,
              "#9c179e"
             ],
             [
              0.4444444444444444,
              "#bd3786"
             ],
             [
              0.5555555555555556,
              "#d8576b"
             ],
             [
              0.6666666666666666,
              "#ed7953"
             ],
             [
              0.7777777777777778,
              "#fb9f3a"
             ],
             [
              0.8888888888888888,
              "#fdca26"
             ],
             [
              1,
              "#f0f921"
             ]
            ],
            "type": "histogram2dcontour"
           }
          ],
          "mesh3d": [
           {
            "colorbar": {
             "outlinewidth": 0,
             "ticks": ""
            },
            "type": "mesh3d"
           }
          ],
          "parcoords": [
           {
            "line": {
             "colorbar": {
              "outlinewidth": 0,
              "ticks": ""
             }
            },
            "type": "parcoords"
           }
          ],
          "pie": [
           {
            "automargin": true,
            "type": "pie"
           }
          ],
          "scatter": [
           {
            "fillpattern": {
             "fillmode": "overlay",
             "size": 10,
             "solidity": 0.2
            },
            "type": "scatter"
           }
          ],
          "scatter3d": [
           {
            "line": {
             "colorbar": {
              "outlinewidth": 0,
              "ticks": ""
             }
            },
            "marker": {
             "colorbar": {
              "outlinewidth": 0,
              "ticks": ""
             }
            },
            "type": "scatter3d"
           }
          ],
          "scattercarpet": [
           {
            "marker": {
             "colorbar": {
              "outlinewidth": 0,
              "ticks": ""
             }
            },
            "type": "scattercarpet"
           }
          ],
          "scattergeo": [
           {
            "marker": {
             "colorbar": {
              "outlinewidth": 0,
              "ticks": ""
             }
            },
            "type": "scattergeo"
           }
          ],
          "scattergl": [
           {
            "marker": {
             "colorbar": {
              "outlinewidth": 0,
              "ticks": ""
             }
            },
            "type": "scattergl"
           }
          ],
          "scattermapbox": [
           {
            "marker": {
             "colorbar": {
              "outlinewidth": 0,
              "ticks": ""
             }
            },
            "type": "scattermapbox"
           }
          ],
          "scatterpolar": [
           {
            "marker": {
             "colorbar": {
              "outlinewidth": 0,
              "ticks": ""
             }
            },
            "type": "scatterpolar"
           }
          ],
          "scatterpolargl": [
           {
            "marker": {
             "colorbar": {
              "outlinewidth": 0,
              "ticks": ""
             }
            },
            "type": "scatterpolargl"
           }
          ],
          "scatterternary": [
           {
            "marker": {
             "colorbar": {
              "outlinewidth": 0,
              "ticks": ""
             }
            },
            "type": "scatterternary"
           }
          ],
          "surface": [
           {
            "colorbar": {
             "outlinewidth": 0,
             "ticks": ""
            },
            "colorscale": [
             [
              0,
              "#0d0887"
             ],
             [
              0.1111111111111111,
              "#46039f"
             ],
             [
              0.2222222222222222,
              "#7201a8"
             ],
             [
              0.3333333333333333,
              "#9c179e"
             ],
             [
              0.4444444444444444,
              "#bd3786"
             ],
             [
              0.5555555555555556,
              "#d8576b"
             ],
             [
              0.6666666666666666,
              "#ed7953"
             ],
             [
              0.7777777777777778,
              "#fb9f3a"
             ],
             [
              0.8888888888888888,
              "#fdca26"
             ],
             [
              1,
              "#f0f921"
             ]
            ],
            "type": "surface"
           }
          ],
          "table": [
           {
            "cells": {
             "fill": {
              "color": "#EBF0F8"
             },
             "line": {
              "color": "white"
             }
            },
            "header": {
             "fill": {
              "color": "#C8D4E3"
             },
             "line": {
              "color": "white"
             }
            },
            "type": "table"
           }
          ]
         },
         "layout": {
          "annotationdefaults": {
           "arrowcolor": "#2a3f5f",
           "arrowhead": 0,
           "arrowwidth": 1
          },
          "autotypenumbers": "strict",
          "coloraxis": {
           "colorbar": {
            "outlinewidth": 0,
            "ticks": ""
           }
          },
          "colorscale": {
           "diverging": [
            [
             0,
             "#8e0152"
            ],
            [
             0.1,
             "#c51b7d"
            ],
            [
             0.2,
             "#de77ae"
            ],
            [
             0.3,
             "#f1b6da"
            ],
            [
             0.4,
             "#fde0ef"
            ],
            [
             0.5,
             "#f7f7f7"
            ],
            [
             0.6,
             "#e6f5d0"
            ],
            [
             0.7,
             "#b8e186"
            ],
            [
             0.8,
             "#7fbc41"
            ],
            [
             0.9,
             "#4d9221"
            ],
            [
             1,
             "#276419"
            ]
           ],
           "sequential": [
            [
             0,
             "#0d0887"
            ],
            [
             0.1111111111111111,
             "#46039f"
            ],
            [
             0.2222222222222222,
             "#7201a8"
            ],
            [
             0.3333333333333333,
             "#9c179e"
            ],
            [
             0.4444444444444444,
             "#bd3786"
            ],
            [
             0.5555555555555556,
             "#d8576b"
            ],
            [
             0.6666666666666666,
             "#ed7953"
            ],
            [
             0.7777777777777778,
             "#fb9f3a"
            ],
            [
             0.8888888888888888,
             "#fdca26"
            ],
            [
             1,
             "#f0f921"
            ]
           ],
           "sequentialminus": [
            [
             0,
             "#0d0887"
            ],
            [
             0.1111111111111111,
             "#46039f"
            ],
            [
             0.2222222222222222,
             "#7201a8"
            ],
            [
             0.3333333333333333,
             "#9c179e"
            ],
            [
             0.4444444444444444,
             "#bd3786"
            ],
            [
             0.5555555555555556,
             "#d8576b"
            ],
            [
             0.6666666666666666,
             "#ed7953"
            ],
            [
             0.7777777777777778,
             "#fb9f3a"
            ],
            [
             0.8888888888888888,
             "#fdca26"
            ],
            [
             1,
             "#f0f921"
            ]
           ]
          },
          "colorway": [
           "#636efa",
           "#EF553B",
           "#00cc96",
           "#ab63fa",
           "#FFA15A",
           "#19d3f3",
           "#FF6692",
           "#B6E880",
           "#FF97FF",
           "#FECB52"
          ],
          "font": {
           "color": "#2a3f5f"
          },
          "geo": {
           "bgcolor": "white",
           "lakecolor": "white",
           "landcolor": "white",
           "showlakes": true,
           "showland": true,
           "subunitcolor": "#C8D4E3"
          },
          "hoverlabel": {
           "align": "left"
          },
          "hovermode": "closest",
          "mapbox": {
           "style": "light"
          },
          "paper_bgcolor": "white",
          "plot_bgcolor": "white",
          "polar": {
           "angularaxis": {
            "gridcolor": "#EBF0F8",
            "linecolor": "#EBF0F8",
            "ticks": ""
           },
           "bgcolor": "white",
           "radialaxis": {
            "gridcolor": "#EBF0F8",
            "linecolor": "#EBF0F8",
            "ticks": ""
           }
          },
          "scene": {
           "xaxis": {
            "backgroundcolor": "white",
            "gridcolor": "#DFE8F3",
            "gridwidth": 2,
            "linecolor": "#EBF0F8",
            "showbackground": true,
            "ticks": "",
            "zerolinecolor": "#EBF0F8"
           },
           "yaxis": {
            "backgroundcolor": "white",
            "gridcolor": "#DFE8F3",
            "gridwidth": 2,
            "linecolor": "#EBF0F8",
            "showbackground": true,
            "ticks": "",
            "zerolinecolor": "#EBF0F8"
           },
           "zaxis": {
            "backgroundcolor": "white",
            "gridcolor": "#DFE8F3",
            "gridwidth": 2,
            "linecolor": "#EBF0F8",
            "showbackground": true,
            "ticks": "",
            "zerolinecolor": "#EBF0F8"
           }
          },
          "shapedefaults": {
           "line": {
            "color": "#2a3f5f"
           }
          },
          "ternary": {
           "aaxis": {
            "gridcolor": "#DFE8F3",
            "linecolor": "#A2B1C6",
            "ticks": ""
           },
           "baxis": {
            "gridcolor": "#DFE8F3",
            "linecolor": "#A2B1C6",
            "ticks": ""
           },
           "bgcolor": "white",
           "caxis": {
            "gridcolor": "#DFE8F3",
            "linecolor": "#A2B1C6",
            "ticks": ""
           }
          },
          "title": {
           "x": 0.05
          },
          "xaxis": {
           "automargin": true,
           "gridcolor": "#EBF0F8",
           "linecolor": "#EBF0F8",
           "ticks": "",
           "title": {
            "standoff": 15
           },
           "zerolinecolor": "#EBF0F8",
           "zerolinewidth": 2
          },
          "yaxis": {
           "automargin": true,
           "gridcolor": "#EBF0F8",
           "linecolor": "#EBF0F8",
           "ticks": "",
           "title": {
            "standoff": 15
           },
           "zerolinecolor": "#EBF0F8",
           "zerolinewidth": 2
          }
         }
        },
        "title": {
         "text": "Anzahl der Social - Media - Posts mit der Kombination: <br>Produkt hat nicht geholfen und Marktgebiet"
        },
        "width": 756,
        "xaxis": {
         "anchor": "y",
         "domain": [
          0,
          1
         ],
         "title": {
          "text": "Anteil"
         }
        },
        "yaxis": {
         "anchor": "x",
         "domain": [
          0,
          1
         ],
         "title": {
          "text": "Marktgebiet"
         }
        }
       }
      }
     },
     "metadata": {},
     "output_type": "display_data"
    },
    {
     "name": "stdout",
     "output_type": "stream",
     "text": [
      "                topic_1 product_1_mode_answer  Anzahl    Anteil\n",
      "0             Menopause         Nicht erwähnt      14  0.276298\n",
      "2         Scheidenflora         Nicht erwähnt     100  1.973554\n",
      "3         Scheidenflora               Spender       1  0.019736\n",
      "4         Scheidenflora                  Tube       1  0.019736\n",
      "5          Scheidenpilz         Nicht erwähnt     481  9.492797\n",
      "6          Scheidenpilz               Spender      10  0.197355\n",
      "7          Scheidenpilz                  Tube       5  0.098678\n",
      "8   Scheidentrockenheit            Applikator       1  0.019736\n",
      "9   Scheidentrockenheit         Nicht erwähnt      94  1.855141\n",
      "10  Scheidentrockenheit                  Tube       7  0.138149\n",
      "11    Zyklusbeschwerden            Applikator       1  0.019736\n",
      "12    Zyklusbeschwerden         Nicht erwähnt     130  2.565621\n",
      "13    Zyklusbeschwerden               Spender       2  0.039471\n"
     ]
    },
    {
     "data": {
      "application/vnd.plotly.v1+json": {
       "config": {
        "plotlyServerURL": "https://plot.ly"
       },
       "data": [
        {
         "alignmentgroup": "True",
         "hovertemplate": "Zulassung von Medikamenten=Nicht erwähnt<br>Anzahl=%{x}<br>Marktgebiet=%{y}<extra></extra>",
         "legendgroup": "Nicht erwähnt",
         "marker": {
          "color": "rgb(54, 112, 226)",
          "pattern": {
           "shape": ""
          }
         },
         "name": "Nicht erwähnt",
         "offsetgroup": "Nicht erwähnt",
         "orientation": "h",
         "showlegend": true,
         "textangle": 0,
         "textposition": "auto",
         "texttemplate": "%{x:.0f}",
         "type": "bar",
         "x": [
          14,
          100,
          481,
          94,
          130
         ],
         "xaxis": "x",
         "y": [
          "Menopause",
          "Scheidenflora",
          "Scheidenpilz",
          "Scheidentrockenheit",
          "Zyklusbeschwerden"
         ],
         "yaxis": "y"
        },
        {
         "alignmentgroup": "True",
         "hovertemplate": "Zulassung von Medikamenten=Spender<br>Anzahl=%{x}<br>Marktgebiet=%{y}<extra></extra>",
         "legendgroup": "Spender",
         "marker": {
          "color": "rgb(54, 169, 226)",
          "pattern": {
           "shape": ""
          }
         },
         "name": "Spender",
         "offsetgroup": "Spender",
         "orientation": "h",
         "showlegend": true,
         "textangle": 0,
         "textposition": "auto",
         "texttemplate": "%{x:.0f}",
         "type": "bar",
         "x": [
          1,
          10,
          2
         ],
         "xaxis": "x",
         "y": [
          "Scheidenflora",
          "Scheidenpilz",
          "Zyklusbeschwerden"
         ],
         "yaxis": "y"
        },
        {
         "alignmentgroup": "True",
         "hovertemplate": "Zulassung von Medikamenten=Tube<br>Anzahl=%{x}<br>Marktgebiet=%{y}<extra></extra>",
         "legendgroup": "Tube",
         "marker": {
          "color": "rgb(54, 226, 169)",
          "pattern": {
           "shape": ""
          }
         },
         "name": "Tube",
         "offsetgroup": "Tube",
         "orientation": "h",
         "showlegend": true,
         "textangle": 0,
         "textposition": "auto",
         "texttemplate": "%{x:.0f}",
         "type": "bar",
         "x": [
          1,
          5,
          7
         ],
         "xaxis": "x",
         "y": [
          "Scheidenflora",
          "Scheidenpilz",
          "Scheidentrockenheit"
         ],
         "yaxis": "y"
        },
        {
         "alignmentgroup": "True",
         "hovertemplate": "Zulassung von Medikamenten=Applikator<br>Anzahl=%{x}<br>Marktgebiet=%{y}<extra></extra>",
         "legendgroup": "Applikator",
         "marker": {
          "color": "rgb(112, 54, 226)",
          "pattern": {
           "shape": ""
          }
         },
         "name": "Applikator",
         "offsetgroup": "Applikator",
         "orientation": "h",
         "showlegend": true,
         "textangle": 0,
         "textposition": "auto",
         "texttemplate": "%{x:.0f}",
         "type": "bar",
         "x": [
          1,
          1
         ],
         "xaxis": "x",
         "y": [
          "Scheidentrockenheit",
          "Zyklusbeschwerden"
         ],
         "yaxis": "y"
        }
       ],
       "layout": {
        "annotations": [
         {
          "align": "left",
          "font": {
           "size": 9
          },
          "showarrow": false,
          "text": "Basierend auf 847 Social-Media-Konversationen aus öffentlich zugänglichen Foren <br>Deutschland, Januar 2013 – April 2023.",
          "textangle": 0,
          "x": -0.25,
          "xanchor": "left",
          "xref": "paper",
          "y": -0.39,
          "yref": "paper"
         }
        ],
        "autosize": false,
        "barmode": "relative",
        "height": 378,
        "legend": {
         "title": {
          "text": "Zulassung von Medikamenten"
         },
         "tracegroupgap": 0
        },
        "template": {
         "data": {
          "bar": [
           {
            "error_x": {
             "color": "#2a3f5f"
            },
            "error_y": {
             "color": "#2a3f5f"
            },
            "marker": {
             "line": {
              "color": "white",
              "width": 0.5
             },
             "pattern": {
              "fillmode": "overlay",
              "size": 10,
              "solidity": 0.2
             }
            },
            "type": "bar"
           }
          ],
          "barpolar": [
           {
            "marker": {
             "line": {
              "color": "white",
              "width": 0.5
             },
             "pattern": {
              "fillmode": "overlay",
              "size": 10,
              "solidity": 0.2
             }
            },
            "type": "barpolar"
           }
          ],
          "carpet": [
           {
            "aaxis": {
             "endlinecolor": "#2a3f5f",
             "gridcolor": "#C8D4E3",
             "linecolor": "#C8D4E3",
             "minorgridcolor": "#C8D4E3",
             "startlinecolor": "#2a3f5f"
            },
            "baxis": {
             "endlinecolor": "#2a3f5f",
             "gridcolor": "#C8D4E3",
             "linecolor": "#C8D4E3",
             "minorgridcolor": "#C8D4E3",
             "startlinecolor": "#2a3f5f"
            },
            "type": "carpet"
           }
          ],
          "choropleth": [
           {
            "colorbar": {
             "outlinewidth": 0,
             "ticks": ""
            },
            "type": "choropleth"
           }
          ],
          "contour": [
           {
            "colorbar": {
             "outlinewidth": 0,
             "ticks": ""
            },
            "colorscale": [
             [
              0,
              "#0d0887"
             ],
             [
              0.1111111111111111,
              "#46039f"
             ],
             [
              0.2222222222222222,
              "#7201a8"
             ],
             [
              0.3333333333333333,
              "#9c179e"
             ],
             [
              0.4444444444444444,
              "#bd3786"
             ],
             [
              0.5555555555555556,
              "#d8576b"
             ],
             [
              0.6666666666666666,
              "#ed7953"
             ],
             [
              0.7777777777777778,
              "#fb9f3a"
             ],
             [
              0.8888888888888888,
              "#fdca26"
             ],
             [
              1,
              "#f0f921"
             ]
            ],
            "type": "contour"
           }
          ],
          "contourcarpet": [
           {
            "colorbar": {
             "outlinewidth": 0,
             "ticks": ""
            },
            "type": "contourcarpet"
           }
          ],
          "heatmap": [
           {
            "colorbar": {
             "outlinewidth": 0,
             "ticks": ""
            },
            "colorscale": [
             [
              0,
              "#0d0887"
             ],
             [
              0.1111111111111111,
              "#46039f"
             ],
             [
              0.2222222222222222,
              "#7201a8"
             ],
             [
              0.3333333333333333,
              "#9c179e"
             ],
             [
              0.4444444444444444,
              "#bd3786"
             ],
             [
              0.5555555555555556,
              "#d8576b"
             ],
             [
              0.6666666666666666,
              "#ed7953"
             ],
             [
              0.7777777777777778,
              "#fb9f3a"
             ],
             [
              0.8888888888888888,
              "#fdca26"
             ],
             [
              1,
              "#f0f921"
             ]
            ],
            "type": "heatmap"
           }
          ],
          "heatmapgl": [
           {
            "colorbar": {
             "outlinewidth": 0,
             "ticks": ""
            },
            "colorscale": [
             [
              0,
              "#0d0887"
             ],
             [
              0.1111111111111111,
              "#46039f"
             ],
             [
              0.2222222222222222,
              "#7201a8"
             ],
             [
              0.3333333333333333,
              "#9c179e"
             ],
             [
              0.4444444444444444,
              "#bd3786"
             ],
             [
              0.5555555555555556,
              "#d8576b"
             ],
             [
              0.6666666666666666,
              "#ed7953"
             ],
             [
              0.7777777777777778,
              "#fb9f3a"
             ],
             [
              0.8888888888888888,
              "#fdca26"
             ],
             [
              1,
              "#f0f921"
             ]
            ],
            "type": "heatmapgl"
           }
          ],
          "histogram": [
           {
            "marker": {
             "pattern": {
              "fillmode": "overlay",
              "size": 10,
              "solidity": 0.2
             }
            },
            "type": "histogram"
           }
          ],
          "histogram2d": [
           {
            "colorbar": {
             "outlinewidth": 0,
             "ticks": ""
            },
            "colorscale": [
             [
              0,
              "#0d0887"
             ],
             [
              0.1111111111111111,
              "#46039f"
             ],
             [
              0.2222222222222222,
              "#7201a8"
             ],
             [
              0.3333333333333333,
              "#9c179e"
             ],
             [
              0.4444444444444444,
              "#bd3786"
             ],
             [
              0.5555555555555556,
              "#d8576b"
             ],
             [
              0.6666666666666666,
              "#ed7953"
             ],
             [
              0.7777777777777778,
              "#fb9f3a"
             ],
             [
              0.8888888888888888,
              "#fdca26"
             ],
             [
              1,
              "#f0f921"
             ]
            ],
            "type": "histogram2d"
           }
          ],
          "histogram2dcontour": [
           {
            "colorbar": {
             "outlinewidth": 0,
             "ticks": ""
            },
            "colorscale": [
             [
              0,
              "#0d0887"
             ],
             [
              0.1111111111111111,
              "#46039f"
             ],
             [
              0.2222222222222222,
              "#7201a8"
             ],
             [
              0.3333333333333333,
              "#9c179e"
             ],
             [
              0.4444444444444444,
              "#bd3786"
             ],
             [
              0.5555555555555556,
              "#d8576b"
             ],
             [
              0.6666666666666666,
              "#ed7953"
             ],
             [
              0.7777777777777778,
              "#fb9f3a"
             ],
             [
              0.8888888888888888,
              "#fdca26"
             ],
             [
              1,
              "#f0f921"
             ]
            ],
            "type": "histogram2dcontour"
           }
          ],
          "mesh3d": [
           {
            "colorbar": {
             "outlinewidth": 0,
             "ticks": ""
            },
            "type": "mesh3d"
           }
          ],
          "parcoords": [
           {
            "line": {
             "colorbar": {
              "outlinewidth": 0,
              "ticks": ""
             }
            },
            "type": "parcoords"
           }
          ],
          "pie": [
           {
            "automargin": true,
            "type": "pie"
           }
          ],
          "scatter": [
           {
            "fillpattern": {
             "fillmode": "overlay",
             "size": 10,
             "solidity": 0.2
            },
            "type": "scatter"
           }
          ],
          "scatter3d": [
           {
            "line": {
             "colorbar": {
              "outlinewidth": 0,
              "ticks": ""
             }
            },
            "marker": {
             "colorbar": {
              "outlinewidth": 0,
              "ticks": ""
             }
            },
            "type": "scatter3d"
           }
          ],
          "scattercarpet": [
           {
            "marker": {
             "colorbar": {
              "outlinewidth": 0,
              "ticks": ""
             }
            },
            "type": "scattercarpet"
           }
          ],
          "scattergeo": [
           {
            "marker": {
             "colorbar": {
              "outlinewidth": 0,
              "ticks": ""
             }
            },
            "type": "scattergeo"
           }
          ],
          "scattergl": [
           {
            "marker": {
             "colorbar": {
              "outlinewidth": 0,
              "ticks": ""
             }
            },
            "type": "scattergl"
           }
          ],
          "scattermapbox": [
           {
            "marker": {
             "colorbar": {
              "outlinewidth": 0,
              "ticks": ""
             }
            },
            "type": "scattermapbox"
           }
          ],
          "scatterpolar": [
           {
            "marker": {
             "colorbar": {
              "outlinewidth": 0,
              "ticks": ""
             }
            },
            "type": "scatterpolar"
           }
          ],
          "scatterpolargl": [
           {
            "marker": {
             "colorbar": {
              "outlinewidth": 0,
              "ticks": ""
             }
            },
            "type": "scatterpolargl"
           }
          ],
          "scatterternary": [
           {
            "marker": {
             "colorbar": {
              "outlinewidth": 0,
              "ticks": ""
             }
            },
            "type": "scatterternary"
           }
          ],
          "surface": [
           {
            "colorbar": {
             "outlinewidth": 0,
             "ticks": ""
            },
            "colorscale": [
             [
              0,
              "#0d0887"
             ],
             [
              0.1111111111111111,
              "#46039f"
             ],
             [
              0.2222222222222222,
              "#7201a8"
             ],
             [
              0.3333333333333333,
              "#9c179e"
             ],
             [
              0.4444444444444444,
              "#bd3786"
             ],
             [
              0.5555555555555556,
              "#d8576b"
             ],
             [
              0.6666666666666666,
              "#ed7953"
             ],
             [
              0.7777777777777778,
              "#fb9f3a"
             ],
             [
              0.8888888888888888,
              "#fdca26"
             ],
             [
              1,
              "#f0f921"
             ]
            ],
            "type": "surface"
           }
          ],
          "table": [
           {
            "cells": {
             "fill": {
              "color": "#EBF0F8"
             },
             "line": {
              "color": "white"
             }
            },
            "header": {
             "fill": {
              "color": "#C8D4E3"
             },
             "line": {
              "color": "white"
             }
            },
            "type": "table"
           }
          ]
         },
         "layout": {
          "annotationdefaults": {
           "arrowcolor": "#2a3f5f",
           "arrowhead": 0,
           "arrowwidth": 1
          },
          "autotypenumbers": "strict",
          "coloraxis": {
           "colorbar": {
            "outlinewidth": 0,
            "ticks": ""
           }
          },
          "colorscale": {
           "diverging": [
            [
             0,
             "#8e0152"
            ],
            [
             0.1,
             "#c51b7d"
            ],
            [
             0.2,
             "#de77ae"
            ],
            [
             0.3,
             "#f1b6da"
            ],
            [
             0.4,
             "#fde0ef"
            ],
            [
             0.5,
             "#f7f7f7"
            ],
            [
             0.6,
             "#e6f5d0"
            ],
            [
             0.7,
             "#b8e186"
            ],
            [
             0.8,
             "#7fbc41"
            ],
            [
             0.9,
             "#4d9221"
            ],
            [
             1,
             "#276419"
            ]
           ],
           "sequential": [
            [
             0,
             "#0d0887"
            ],
            [
             0.1111111111111111,
             "#46039f"
            ],
            [
             0.2222222222222222,
             "#7201a8"
            ],
            [
             0.3333333333333333,
             "#9c179e"
            ],
            [
             0.4444444444444444,
             "#bd3786"
            ],
            [
             0.5555555555555556,
             "#d8576b"
            ],
            [
             0.6666666666666666,
             "#ed7953"
            ],
            [
             0.7777777777777778,
             "#fb9f3a"
            ],
            [
             0.8888888888888888,
             "#fdca26"
            ],
            [
             1,
             "#f0f921"
            ]
           ],
           "sequentialminus": [
            [
             0,
             "#0d0887"
            ],
            [
             0.1111111111111111,
             "#46039f"
            ],
            [
             0.2222222222222222,
             "#7201a8"
            ],
            [
             0.3333333333333333,
             "#9c179e"
            ],
            [
             0.4444444444444444,
             "#bd3786"
            ],
            [
             0.5555555555555556,
             "#d8576b"
            ],
            [
             0.6666666666666666,
             "#ed7953"
            ],
            [
             0.7777777777777778,
             "#fb9f3a"
            ],
            [
             0.8888888888888888,
             "#fdca26"
            ],
            [
             1,
             "#f0f921"
            ]
           ]
          },
          "colorway": [
           "#636efa",
           "#EF553B",
           "#00cc96",
           "#ab63fa",
           "#FFA15A",
           "#19d3f3",
           "#FF6692",
           "#B6E880",
           "#FF97FF",
           "#FECB52"
          ],
          "font": {
           "color": "#2a3f5f"
          },
          "geo": {
           "bgcolor": "white",
           "lakecolor": "white",
           "landcolor": "white",
           "showlakes": true,
           "showland": true,
           "subunitcolor": "#C8D4E3"
          },
          "hoverlabel": {
           "align": "left"
          },
          "hovermode": "closest",
          "mapbox": {
           "style": "light"
          },
          "paper_bgcolor": "white",
          "plot_bgcolor": "white",
          "polar": {
           "angularaxis": {
            "gridcolor": "#EBF0F8",
            "linecolor": "#EBF0F8",
            "ticks": ""
           },
           "bgcolor": "white",
           "radialaxis": {
            "gridcolor": "#EBF0F8",
            "linecolor": "#EBF0F8",
            "ticks": ""
           }
          },
          "scene": {
           "xaxis": {
            "backgroundcolor": "white",
            "gridcolor": "#DFE8F3",
            "gridwidth": 2,
            "linecolor": "#EBF0F8",
            "showbackground": true,
            "ticks": "",
            "zerolinecolor": "#EBF0F8"
           },
           "yaxis": {
            "backgroundcolor": "white",
            "gridcolor": "#DFE8F3",
            "gridwidth": 2,
            "linecolor": "#EBF0F8",
            "showbackground": true,
            "ticks": "",
            "zerolinecolor": "#EBF0F8"
           },
           "zaxis": {
            "backgroundcolor": "white",
            "gridcolor": "#DFE8F3",
            "gridwidth": 2,
            "linecolor": "#EBF0F8",
            "showbackground": true,
            "ticks": "",
            "zerolinecolor": "#EBF0F8"
           }
          },
          "shapedefaults": {
           "line": {
            "color": "#2a3f5f"
           }
          },
          "ternary": {
           "aaxis": {
            "gridcolor": "#DFE8F3",
            "linecolor": "#A2B1C6",
            "ticks": ""
           },
           "baxis": {
            "gridcolor": "#DFE8F3",
            "linecolor": "#A2B1C6",
            "ticks": ""
           },
           "bgcolor": "white",
           "caxis": {
            "gridcolor": "#DFE8F3",
            "linecolor": "#A2B1C6",
            "ticks": ""
           }
          },
          "title": {
           "x": 0.05
          },
          "xaxis": {
           "automargin": true,
           "gridcolor": "#EBF0F8",
           "linecolor": "#EBF0F8",
           "ticks": "",
           "title": {
            "standoff": 15
           },
           "zerolinecolor": "#EBF0F8",
           "zerolinewidth": 2
          },
          "yaxis": {
           "automargin": true,
           "gridcolor": "#EBF0F8",
           "linecolor": "#EBF0F8",
           "ticks": "",
           "title": {
            "standoff": 15
           },
           "zerolinecolor": "#EBF0F8",
           "zerolinewidth": 2
          }
         }
        },
        "title": {
         "text": "Anzahl der Social - Media - Posts mit der Kombination: <br>Zulassung von Medikamenten und Marktgebiet"
        },
        "width": 756,
        "xaxis": {
         "anchor": "y",
         "domain": [
          0,
          1
         ],
         "title": {
          "text": "Anzahl"
         }
        },
        "yaxis": {
         "anchor": "x",
         "domain": [
          0,
          1
         ],
         "title": {
          "text": "Marktgebiet"
         }
        }
       }
      }
     },
     "metadata": {},
     "output_type": "display_data"
    },
    {
     "data": {
      "application/vnd.plotly.v1+json": {
       "config": {
        "plotlyServerURL": "https://plot.ly"
       },
       "data": [
        {
         "alignmentgroup": "True",
         "bingroup": "y",
         "histfunc": "sum",
         "hovertemplate": "Zulassung von Medikamenten=Nicht erwähnt<br>sum of Anteil (normalized as percent)=%{x}<br>Marktgebiet=%{y}<extra></extra>",
         "legendgroup": "Nicht erwähnt",
         "marker": {
          "color": "rgb(54, 112, 226)",
          "pattern": {
           "shape": ""
          }
         },
         "name": "Nicht erwähnt",
         "offsetgroup": "Nicht erwähnt",
         "orientation": "h",
         "showlegend": true,
         "textangle": 0,
         "texttemplate": "%{value:.0f}",
         "type": "histogram",
         "x": [
          0.2762976119992106,
          1.9735543714229327,
          9.492796526544305,
          1.8551411091375567,
          2.5656206828498127
         ],
         "xaxis": "x",
         "y": [
          "Menopause",
          "Scheidenflora",
          "Scheidenpilz",
          "Scheidentrockenheit",
          "Zyklusbeschwerden"
         ],
         "yaxis": "y"
        },
        {
         "alignmentgroup": "True",
         "bingroup": "y",
         "histfunc": "sum",
         "hovertemplate": "Zulassung von Medikamenten=Spender<br>sum of Anteil (normalized as percent)=%{x}<br>Marktgebiet=%{y}<extra></extra>",
         "legendgroup": "Spender",
         "marker": {
          "color": "rgb(54, 169, 226)",
          "pattern": {
           "shape": ""
          }
         },
         "name": "Spender",
         "offsetgroup": "Spender",
         "orientation": "h",
         "showlegend": true,
         "textangle": 0,
         "texttemplate": "%{value:.0f}",
         "type": "histogram",
         "x": [
          0.01973554371422933,
          0.19735543714229326,
          0.03947108742845866
         ],
         "xaxis": "x",
         "y": [
          "Scheidenflora",
          "Scheidenpilz",
          "Zyklusbeschwerden"
         ],
         "yaxis": "y"
        },
        {
         "alignmentgroup": "True",
         "bingroup": "y",
         "histfunc": "sum",
         "hovertemplate": "Zulassung von Medikamenten=Tube<br>sum of Anteil (normalized as percent)=%{x}<br>Marktgebiet=%{y}<extra></extra>",
         "legendgroup": "Tube",
         "marker": {
          "color": "rgb(54, 226, 169)",
          "pattern": {
           "shape": ""
          }
         },
         "name": "Tube",
         "offsetgroup": "Tube",
         "orientation": "h",
         "showlegend": true,
         "textangle": 0,
         "texttemplate": "%{value:.0f}",
         "type": "histogram",
         "x": [
          0.01973554371422933,
          0.09867771857114663,
          0.1381488059996053
         ],
         "xaxis": "x",
         "y": [
          "Scheidenflora",
          "Scheidenpilz",
          "Scheidentrockenheit"
         ],
         "yaxis": "y"
        },
        {
         "alignmentgroup": "True",
         "bingroup": "y",
         "histfunc": "sum",
         "hovertemplate": "Zulassung von Medikamenten=Applikator<br>sum of Anteil (normalized as percent)=%{x}<br>Marktgebiet=%{y}<extra></extra>",
         "legendgroup": "Applikator",
         "marker": {
          "color": "rgb(112, 54, 226)",
          "pattern": {
           "shape": ""
          }
         },
         "name": "Applikator",
         "offsetgroup": "Applikator",
         "orientation": "h",
         "showlegend": true,
         "textangle": 0,
         "texttemplate": "%{value:.0f}",
         "type": "histogram",
         "x": [
          0.01973554371422933,
          0.01973554371422933
         ],
         "xaxis": "x",
         "y": [
          "Scheidentrockenheit",
          "Zyklusbeschwerden"
         ],
         "yaxis": "y"
        }
       ],
       "layout": {
        "annotations": [
         {
          "align": "left",
          "font": {
           "size": 9
          },
          "showarrow": false,
          "text": "Basierend auf 847 Social-Media-Konversationen aus öffentlich zugänglichen Foren <br>Deutschland, Januar 2013 – April 2023.",
          "textangle": 0,
          "x": -0.25,
          "xanchor": "left",
          "xref": "paper",
          "y": -0.39,
          "yref": "paper"
         }
        ],
        "autosize": false,
        "barmode": "relative",
        "barnorm": "percent",
        "height": 378,
        "legend": {
         "title": {
          "text": "Zulassung von Medikamenten"
         },
         "tracegroupgap": 0
        },
        "template": {
         "data": {
          "bar": [
           {
            "error_x": {
             "color": "#2a3f5f"
            },
            "error_y": {
             "color": "#2a3f5f"
            },
            "marker": {
             "line": {
              "color": "white",
              "width": 0.5
             },
             "pattern": {
              "fillmode": "overlay",
              "size": 10,
              "solidity": 0.2
             }
            },
            "type": "bar"
           }
          ],
          "barpolar": [
           {
            "marker": {
             "line": {
              "color": "white",
              "width": 0.5
             },
             "pattern": {
              "fillmode": "overlay",
              "size": 10,
              "solidity": 0.2
             }
            },
            "type": "barpolar"
           }
          ],
          "carpet": [
           {
            "aaxis": {
             "endlinecolor": "#2a3f5f",
             "gridcolor": "#C8D4E3",
             "linecolor": "#C8D4E3",
             "minorgridcolor": "#C8D4E3",
             "startlinecolor": "#2a3f5f"
            },
            "baxis": {
             "endlinecolor": "#2a3f5f",
             "gridcolor": "#C8D4E3",
             "linecolor": "#C8D4E3",
             "minorgridcolor": "#C8D4E3",
             "startlinecolor": "#2a3f5f"
            },
            "type": "carpet"
           }
          ],
          "choropleth": [
           {
            "colorbar": {
             "outlinewidth": 0,
             "ticks": ""
            },
            "type": "choropleth"
           }
          ],
          "contour": [
           {
            "colorbar": {
             "outlinewidth": 0,
             "ticks": ""
            },
            "colorscale": [
             [
              0,
              "#0d0887"
             ],
             [
              0.1111111111111111,
              "#46039f"
             ],
             [
              0.2222222222222222,
              "#7201a8"
             ],
             [
              0.3333333333333333,
              "#9c179e"
             ],
             [
              0.4444444444444444,
              "#bd3786"
             ],
             [
              0.5555555555555556,
              "#d8576b"
             ],
             [
              0.6666666666666666,
              "#ed7953"
             ],
             [
              0.7777777777777778,
              "#fb9f3a"
             ],
             [
              0.8888888888888888,
              "#fdca26"
             ],
             [
              1,
              "#f0f921"
             ]
            ],
            "type": "contour"
           }
          ],
          "contourcarpet": [
           {
            "colorbar": {
             "outlinewidth": 0,
             "ticks": ""
            },
            "type": "contourcarpet"
           }
          ],
          "heatmap": [
           {
            "colorbar": {
             "outlinewidth": 0,
             "ticks": ""
            },
            "colorscale": [
             [
              0,
              "#0d0887"
             ],
             [
              0.1111111111111111,
              "#46039f"
             ],
             [
              0.2222222222222222,
              "#7201a8"
             ],
             [
              0.3333333333333333,
              "#9c179e"
             ],
             [
              0.4444444444444444,
              "#bd3786"
             ],
             [
              0.5555555555555556,
              "#d8576b"
             ],
             [
              0.6666666666666666,
              "#ed7953"
             ],
             [
              0.7777777777777778,
              "#fb9f3a"
             ],
             [
              0.8888888888888888,
              "#fdca26"
             ],
             [
              1,
              "#f0f921"
             ]
            ],
            "type": "heatmap"
           }
          ],
          "heatmapgl": [
           {
            "colorbar": {
             "outlinewidth": 0,
             "ticks": ""
            },
            "colorscale": [
             [
              0,
              "#0d0887"
             ],
             [
              0.1111111111111111,
              "#46039f"
             ],
             [
              0.2222222222222222,
              "#7201a8"
             ],
             [
              0.3333333333333333,
              "#9c179e"
             ],
             [
              0.4444444444444444,
              "#bd3786"
             ],
             [
              0.5555555555555556,
              "#d8576b"
             ],
             [
              0.6666666666666666,
              "#ed7953"
             ],
             [
              0.7777777777777778,
              "#fb9f3a"
             ],
             [
              0.8888888888888888,
              "#fdca26"
             ],
             [
              1,
              "#f0f921"
             ]
            ],
            "type": "heatmapgl"
           }
          ],
          "histogram": [
           {
            "marker": {
             "pattern": {
              "fillmode": "overlay",
              "size": 10,
              "solidity": 0.2
             }
            },
            "type": "histogram"
           }
          ],
          "histogram2d": [
           {
            "colorbar": {
             "outlinewidth": 0,
             "ticks": ""
            },
            "colorscale": [
             [
              0,
              "#0d0887"
             ],
             [
              0.1111111111111111,
              "#46039f"
             ],
             [
              0.2222222222222222,
              "#7201a8"
             ],
             [
              0.3333333333333333,
              "#9c179e"
             ],
             [
              0.4444444444444444,
              "#bd3786"
             ],
             [
              0.5555555555555556,
              "#d8576b"
             ],
             [
              0.6666666666666666,
              "#ed7953"
             ],
             [
              0.7777777777777778,
              "#fb9f3a"
             ],
             [
              0.8888888888888888,
              "#fdca26"
             ],
             [
              1,
              "#f0f921"
             ]
            ],
            "type": "histogram2d"
           }
          ],
          "histogram2dcontour": [
           {
            "colorbar": {
             "outlinewidth": 0,
             "ticks": ""
            },
            "colorscale": [
             [
              0,
              "#0d0887"
             ],
             [
              0.1111111111111111,
              "#46039f"
             ],
             [
              0.2222222222222222,
              "#7201a8"
             ],
             [
              0.3333333333333333,
              "#9c179e"
             ],
             [
              0.4444444444444444,
              "#bd3786"
             ],
             [
              0.5555555555555556,
              "#d8576b"
             ],
             [
              0.6666666666666666,
              "#ed7953"
             ],
             [
              0.7777777777777778,
              "#fb9f3a"
             ],
             [
              0.8888888888888888,
              "#fdca26"
             ],
             [
              1,
              "#f0f921"
             ]
            ],
            "type": "histogram2dcontour"
           }
          ],
          "mesh3d": [
           {
            "colorbar": {
             "outlinewidth": 0,
             "ticks": ""
            },
            "type": "mesh3d"
           }
          ],
          "parcoords": [
           {
            "line": {
             "colorbar": {
              "outlinewidth": 0,
              "ticks": ""
             }
            },
            "type": "parcoords"
           }
          ],
          "pie": [
           {
            "automargin": true,
            "type": "pie"
           }
          ],
          "scatter": [
           {
            "fillpattern": {
             "fillmode": "overlay",
             "size": 10,
             "solidity": 0.2
            },
            "type": "scatter"
           }
          ],
          "scatter3d": [
           {
            "line": {
             "colorbar": {
              "outlinewidth": 0,
              "ticks": ""
             }
            },
            "marker": {
             "colorbar": {
              "outlinewidth": 0,
              "ticks": ""
             }
            },
            "type": "scatter3d"
           }
          ],
          "scattercarpet": [
           {
            "marker": {
             "colorbar": {
              "outlinewidth": 0,
              "ticks": ""
             }
            },
            "type": "scattercarpet"
           }
          ],
          "scattergeo": [
           {
            "marker": {
             "colorbar": {
              "outlinewidth": 0,
              "ticks": ""
             }
            },
            "type": "scattergeo"
           }
          ],
          "scattergl": [
           {
            "marker": {
             "colorbar": {
              "outlinewidth": 0,
              "ticks": ""
             }
            },
            "type": "scattergl"
           }
          ],
          "scattermapbox": [
           {
            "marker": {
             "colorbar": {
              "outlinewidth": 0,
              "ticks": ""
             }
            },
            "type": "scattermapbox"
           }
          ],
          "scatterpolar": [
           {
            "marker": {
             "colorbar": {
              "outlinewidth": 0,
              "ticks": ""
             }
            },
            "type": "scatterpolar"
           }
          ],
          "scatterpolargl": [
           {
            "marker": {
             "colorbar": {
              "outlinewidth": 0,
              "ticks": ""
             }
            },
            "type": "scatterpolargl"
           }
          ],
          "scatterternary": [
           {
            "marker": {
             "colorbar": {
              "outlinewidth": 0,
              "ticks": ""
             }
            },
            "type": "scatterternary"
           }
          ],
          "surface": [
           {
            "colorbar": {
             "outlinewidth": 0,
             "ticks": ""
            },
            "colorscale": [
             [
              0,
              "#0d0887"
             ],
             [
              0.1111111111111111,
              "#46039f"
             ],
             [
              0.2222222222222222,
              "#7201a8"
             ],
             [
              0.3333333333333333,
              "#9c179e"
             ],
             [
              0.4444444444444444,
              "#bd3786"
             ],
             [
              0.5555555555555556,
              "#d8576b"
             ],
             [
              0.6666666666666666,
              "#ed7953"
             ],
             [
              0.7777777777777778,
              "#fb9f3a"
             ],
             [
              0.8888888888888888,
              "#fdca26"
             ],
             [
              1,
              "#f0f921"
             ]
            ],
            "type": "surface"
           }
          ],
          "table": [
           {
            "cells": {
             "fill": {
              "color": "#EBF0F8"
             },
             "line": {
              "color": "white"
             }
            },
            "header": {
             "fill": {
              "color": "#C8D4E3"
             },
             "line": {
              "color": "white"
             }
            },
            "type": "table"
           }
          ]
         },
         "layout": {
          "annotationdefaults": {
           "arrowcolor": "#2a3f5f",
           "arrowhead": 0,
           "arrowwidth": 1
          },
          "autotypenumbers": "strict",
          "coloraxis": {
           "colorbar": {
            "outlinewidth": 0,
            "ticks": ""
           }
          },
          "colorscale": {
           "diverging": [
            [
             0,
             "#8e0152"
            ],
            [
             0.1,
             "#c51b7d"
            ],
            [
             0.2,
             "#de77ae"
            ],
            [
             0.3,
             "#f1b6da"
            ],
            [
             0.4,
             "#fde0ef"
            ],
            [
             0.5,
             "#f7f7f7"
            ],
            [
             0.6,
             "#e6f5d0"
            ],
            [
             0.7,
             "#b8e186"
            ],
            [
             0.8,
             "#7fbc41"
            ],
            [
             0.9,
             "#4d9221"
            ],
            [
             1,
             "#276419"
            ]
           ],
           "sequential": [
            [
             0,
             "#0d0887"
            ],
            [
             0.1111111111111111,
             "#46039f"
            ],
            [
             0.2222222222222222,
             "#7201a8"
            ],
            [
             0.3333333333333333,
             "#9c179e"
            ],
            [
             0.4444444444444444,
             "#bd3786"
            ],
            [
             0.5555555555555556,
             "#d8576b"
            ],
            [
             0.6666666666666666,
             "#ed7953"
            ],
            [
             0.7777777777777778,
             "#fb9f3a"
            ],
            [
             0.8888888888888888,
             "#fdca26"
            ],
            [
             1,
             "#f0f921"
            ]
           ],
           "sequentialminus": [
            [
             0,
             "#0d0887"
            ],
            [
             0.1111111111111111,
             "#46039f"
            ],
            [
             0.2222222222222222,
             "#7201a8"
            ],
            [
             0.3333333333333333,
             "#9c179e"
            ],
            [
             0.4444444444444444,
             "#bd3786"
            ],
            [
             0.5555555555555556,
             "#d8576b"
            ],
            [
             0.6666666666666666,
             "#ed7953"
            ],
            [
             0.7777777777777778,
             "#fb9f3a"
            ],
            [
             0.8888888888888888,
             "#fdca26"
            ],
            [
             1,
             "#f0f921"
            ]
           ]
          },
          "colorway": [
           "#636efa",
           "#EF553B",
           "#00cc96",
           "#ab63fa",
           "#FFA15A",
           "#19d3f3",
           "#FF6692",
           "#B6E880",
           "#FF97FF",
           "#FECB52"
          ],
          "font": {
           "color": "#2a3f5f"
          },
          "geo": {
           "bgcolor": "white",
           "lakecolor": "white",
           "landcolor": "white",
           "showlakes": true,
           "showland": true,
           "subunitcolor": "#C8D4E3"
          },
          "hoverlabel": {
           "align": "left"
          },
          "hovermode": "closest",
          "mapbox": {
           "style": "light"
          },
          "paper_bgcolor": "white",
          "plot_bgcolor": "white",
          "polar": {
           "angularaxis": {
            "gridcolor": "#EBF0F8",
            "linecolor": "#EBF0F8",
            "ticks": ""
           },
           "bgcolor": "white",
           "radialaxis": {
            "gridcolor": "#EBF0F8",
            "linecolor": "#EBF0F8",
            "ticks": ""
           }
          },
          "scene": {
           "xaxis": {
            "backgroundcolor": "white",
            "gridcolor": "#DFE8F3",
            "gridwidth": 2,
            "linecolor": "#EBF0F8",
            "showbackground": true,
            "ticks": "",
            "zerolinecolor": "#EBF0F8"
           },
           "yaxis": {
            "backgroundcolor": "white",
            "gridcolor": "#DFE8F3",
            "gridwidth": 2,
            "linecolor": "#EBF0F8",
            "showbackground": true,
            "ticks": "",
            "zerolinecolor": "#EBF0F8"
           },
           "zaxis": {
            "backgroundcolor": "white",
            "gridcolor": "#DFE8F3",
            "gridwidth": 2,
            "linecolor": "#EBF0F8",
            "showbackground": true,
            "ticks": "",
            "zerolinecolor": "#EBF0F8"
           }
          },
          "shapedefaults": {
           "line": {
            "color": "#2a3f5f"
           }
          },
          "ternary": {
           "aaxis": {
            "gridcolor": "#DFE8F3",
            "linecolor": "#A2B1C6",
            "ticks": ""
           },
           "baxis": {
            "gridcolor": "#DFE8F3",
            "linecolor": "#A2B1C6",
            "ticks": ""
           },
           "bgcolor": "white",
           "caxis": {
            "gridcolor": "#DFE8F3",
            "linecolor": "#A2B1C6",
            "ticks": ""
           }
          },
          "title": {
           "x": 0.05
          },
          "xaxis": {
           "automargin": true,
           "gridcolor": "#EBF0F8",
           "linecolor": "#EBF0F8",
           "ticks": "",
           "title": {
            "standoff": 15
           },
           "zerolinecolor": "#EBF0F8",
           "zerolinewidth": 2
          },
          "yaxis": {
           "automargin": true,
           "gridcolor": "#EBF0F8",
           "linecolor": "#EBF0F8",
           "ticks": "",
           "title": {
            "standoff": 15
           },
           "zerolinecolor": "#EBF0F8",
           "zerolinewidth": 2
          }
         }
        },
        "title": {
         "text": "Anzahl der Social - Media - Posts mit der Kombination: <br>Zulassung von Medikamenten und Marktgebiet"
        },
        "width": 756,
        "xaxis": {
         "anchor": "y",
         "domain": [
          0,
          1
         ],
         "title": {
          "text": "Anteil"
         }
        },
        "yaxis": {
         "anchor": "x",
         "domain": [
          0,
          1
         ],
         "title": {
          "text": "Marktgebiet"
         }
        }
       }
      }
     },
     "metadata": {},
     "output_type": "display_data"
    },
    {
     "name": "stdout",
     "output_type": "stream",
     "text": [
      "                 product_1 topic_1_product_not_helped_answer  Anzahl    Anteil\n",
      "0                 BUSCOPAN                            Andere       5  0.192456\n",
      "1                 BUSCOPAN                         Unbekannt      19  0.731332\n",
      "2             CANESTEN GYN                            Andere       1  0.038491\n",
      "3             CANESTEN GYN                         Unbekannt      16  0.615858\n",
      "4    KADEFEMIN INTIMPFLEGE                         Unbekannt       1  0.038491\n",
      "5               KADEFUNGIN                            Andere      11  0.423403\n",
      "6               KADEFUNGIN                  Falsche Diagnose       8  0.307929\n",
      "7               KADEFUNGIN                         Unbekannt      66  2.540416\n",
      "8             KADEFUNGIN 3                            Andere       3  0.115473\n",
      "9             KADEFUNGIN 3                         Unbekannt      11  0.423403\n",
      "10            KADEFUNGIN 6                         Unbekannt       3  0.115473\n",
      "11  KADEFUNGIN BEFEUCHTUNG                            Andere       1  0.038491\n",
      "12  KADEFUNGIN BEFEUCHTUNG                         Unbekannt       1  0.038491\n",
      "13                 VAGISAN                         Unbekannt      23  0.885296\n",
      "14     VAGISAN FEUCHTCREME                         Unbekannt       3  0.115473\n",
      "15            VAGISAN MYKO                         Unbekannt       5  0.192456\n"
     ]
    },
    {
     "data": {
      "application/vnd.plotly.v1+json": {
       "config": {
        "plotlyServerURL": "https://plot.ly"
       },
       "data": [
        {
         "alignmentgroup": "True",
         "hovertemplate": "Unwirksame Medikamente=Andere<br>Anzahl=%{x}<br>Marktgebiet=%{y}<extra></extra>",
         "legendgroup": "Andere",
         "marker": {
          "color": "rgb(54, 112, 226)",
          "pattern": {
           "shape": ""
          }
         },
         "name": "Andere",
         "offsetgroup": "Andere",
         "orientation": "h",
         "showlegend": true,
         "textangle": 0,
         "textposition": "auto",
         "texttemplate": "%{x:.0f}",
         "type": "bar",
         "x": [
          5,
          1,
          11,
          3,
          1
         ],
         "xaxis": "x",
         "y": [
          "BUSCOPAN",
          "CANESTEN GYN",
          "KADEFUNGIN",
          "KADEFUNGIN 3",
          "KADEFUNGIN BEFEUCHTUNG"
         ],
         "yaxis": "y"
        },
        {
         "alignmentgroup": "True",
         "hovertemplate": "Unwirksame Medikamente=Unbekannt<br>Anzahl=%{x}<br>Marktgebiet=%{y}<extra></extra>",
         "legendgroup": "Unbekannt",
         "marker": {
          "color": "rgb(54, 169, 226)",
          "pattern": {
           "shape": ""
          }
         },
         "name": "Unbekannt",
         "offsetgroup": "Unbekannt",
         "orientation": "h",
         "showlegend": true,
         "textangle": 0,
         "textposition": "auto",
         "texttemplate": "%{x:.0f}",
         "type": "bar",
         "x": [
          19,
          16,
          1,
          66,
          11,
          3,
          1,
          23,
          3,
          5
         ],
         "xaxis": "x",
         "y": [
          "BUSCOPAN",
          "CANESTEN GYN",
          "KADEFEMIN INTIMPFLEGE",
          "KADEFUNGIN",
          "KADEFUNGIN 3",
          "KADEFUNGIN 6",
          "KADEFUNGIN BEFEUCHTUNG",
          "VAGISAN",
          "VAGISAN FEUCHTCREME",
          "VAGISAN MYKO"
         ],
         "yaxis": "y"
        },
        {
         "alignmentgroup": "True",
         "hovertemplate": "Unwirksame Medikamente=Falsche Diagnose<br>Anzahl=%{x}<br>Marktgebiet=%{y}<extra></extra>",
         "legendgroup": "Falsche Diagnose",
         "marker": {
          "color": "rgb(54, 226, 169)",
          "pattern": {
           "shape": ""
          }
         },
         "name": "Falsche Diagnose",
         "offsetgroup": "Falsche Diagnose",
         "orientation": "h",
         "showlegend": true,
         "textangle": 0,
         "textposition": "auto",
         "texttemplate": "%{x:.0f}",
         "type": "bar",
         "x": [
          8
         ],
         "xaxis": "x",
         "y": [
          "KADEFUNGIN"
         ],
         "yaxis": "y"
        }
       ],
       "layout": {
        "annotations": [
         {
          "align": "left",
          "font": {
           "size": 9
          },
          "showarrow": false,
          "text": "Basierend auf 177 Social-Media-Konversationen aus öffentlich zugänglichen Foren <br>Deutschland, Januar 2013 – April 2023.",
          "textangle": 0,
          "x": -0.25,
          "xanchor": "left",
          "xref": "paper",
          "y": -0.39,
          "yref": "paper"
         }
        ],
        "autosize": false,
        "barmode": "relative",
        "height": 378,
        "legend": {
         "title": {
          "text": "Unwirksame Medikamente"
         },
         "tracegroupgap": 0
        },
        "template": {
         "data": {
          "bar": [
           {
            "error_x": {
             "color": "#2a3f5f"
            },
            "error_y": {
             "color": "#2a3f5f"
            },
            "marker": {
             "line": {
              "color": "white",
              "width": 0.5
             },
             "pattern": {
              "fillmode": "overlay",
              "size": 10,
              "solidity": 0.2
             }
            },
            "type": "bar"
           }
          ],
          "barpolar": [
           {
            "marker": {
             "line": {
              "color": "white",
              "width": 0.5
             },
             "pattern": {
              "fillmode": "overlay",
              "size": 10,
              "solidity": 0.2
             }
            },
            "type": "barpolar"
           }
          ],
          "carpet": [
           {
            "aaxis": {
             "endlinecolor": "#2a3f5f",
             "gridcolor": "#C8D4E3",
             "linecolor": "#C8D4E3",
             "minorgridcolor": "#C8D4E3",
             "startlinecolor": "#2a3f5f"
            },
            "baxis": {
             "endlinecolor": "#2a3f5f",
             "gridcolor": "#C8D4E3",
             "linecolor": "#C8D4E3",
             "minorgridcolor": "#C8D4E3",
             "startlinecolor": "#2a3f5f"
            },
            "type": "carpet"
           }
          ],
          "choropleth": [
           {
            "colorbar": {
             "outlinewidth": 0,
             "ticks": ""
            },
            "type": "choropleth"
           }
          ],
          "contour": [
           {
            "colorbar": {
             "outlinewidth": 0,
             "ticks": ""
            },
            "colorscale": [
             [
              0,
              "#0d0887"
             ],
             [
              0.1111111111111111,
              "#46039f"
             ],
             [
              0.2222222222222222,
              "#7201a8"
             ],
             [
              0.3333333333333333,
              "#9c179e"
             ],
             [
              0.4444444444444444,
              "#bd3786"
             ],
             [
              0.5555555555555556,
              "#d8576b"
             ],
             [
              0.6666666666666666,
              "#ed7953"
             ],
             [
              0.7777777777777778,
              "#fb9f3a"
             ],
             [
              0.8888888888888888,
              "#fdca26"
             ],
             [
              1,
              "#f0f921"
             ]
            ],
            "type": "contour"
           }
          ],
          "contourcarpet": [
           {
            "colorbar": {
             "outlinewidth": 0,
             "ticks": ""
            },
            "type": "contourcarpet"
           }
          ],
          "heatmap": [
           {
            "colorbar": {
             "outlinewidth": 0,
             "ticks": ""
            },
            "colorscale": [
             [
              0,
              "#0d0887"
             ],
             [
              0.1111111111111111,
              "#46039f"
             ],
             [
              0.2222222222222222,
              "#7201a8"
             ],
             [
              0.3333333333333333,
              "#9c179e"
             ],
             [
              0.4444444444444444,
              "#bd3786"
             ],
             [
              0.5555555555555556,
              "#d8576b"
             ],
             [
              0.6666666666666666,
              "#ed7953"
             ],
             [
              0.7777777777777778,
              "#fb9f3a"
             ],
             [
              0.8888888888888888,
              "#fdca26"
             ],
             [
              1,
              "#f0f921"
             ]
            ],
            "type": "heatmap"
           }
          ],
          "heatmapgl": [
           {
            "colorbar": {
             "outlinewidth": 0,
             "ticks": ""
            },
            "colorscale": [
             [
              0,
              "#0d0887"
             ],
             [
              0.1111111111111111,
              "#46039f"
             ],
             [
              0.2222222222222222,
              "#7201a8"
             ],
             [
              0.3333333333333333,
              "#9c179e"
             ],
             [
              0.4444444444444444,
              "#bd3786"
             ],
             [
              0.5555555555555556,
              "#d8576b"
             ],
             [
              0.6666666666666666,
              "#ed7953"
             ],
             [
              0.7777777777777778,
              "#fb9f3a"
             ],
             [
              0.8888888888888888,
              "#fdca26"
             ],
             [
              1,
              "#f0f921"
             ]
            ],
            "type": "heatmapgl"
           }
          ],
          "histogram": [
           {
            "marker": {
             "pattern": {
              "fillmode": "overlay",
              "size": 10,
              "solidity": 0.2
             }
            },
            "type": "histogram"
           }
          ],
          "histogram2d": [
           {
            "colorbar": {
             "outlinewidth": 0,
             "ticks": ""
            },
            "colorscale": [
             [
              0,
              "#0d0887"
             ],
             [
              0.1111111111111111,
              "#46039f"
             ],
             [
              0.2222222222222222,
              "#7201a8"
             ],
             [
              0.3333333333333333,
              "#9c179e"
             ],
             [
              0.4444444444444444,
              "#bd3786"
             ],
             [
              0.5555555555555556,
              "#d8576b"
             ],
             [
              0.6666666666666666,
              "#ed7953"
             ],
             [
              0.7777777777777778,
              "#fb9f3a"
             ],
             [
              0.8888888888888888,
              "#fdca26"
             ],
             [
              1,
              "#f0f921"
             ]
            ],
            "type": "histogram2d"
           }
          ],
          "histogram2dcontour": [
           {
            "colorbar": {
             "outlinewidth": 0,
             "ticks": ""
            },
            "colorscale": [
             [
              0,
              "#0d0887"
             ],
             [
              0.1111111111111111,
              "#46039f"
             ],
             [
              0.2222222222222222,
              "#7201a8"
             ],
             [
              0.3333333333333333,
              "#9c179e"
             ],
             [
              0.4444444444444444,
              "#bd3786"
             ],
             [
              0.5555555555555556,
              "#d8576b"
             ],
             [
              0.6666666666666666,
              "#ed7953"
             ],
             [
              0.7777777777777778,
              "#fb9f3a"
             ],
             [
              0.8888888888888888,
              "#fdca26"
             ],
             [
              1,
              "#f0f921"
             ]
            ],
            "type": "histogram2dcontour"
           }
          ],
          "mesh3d": [
           {
            "colorbar": {
             "outlinewidth": 0,
             "ticks": ""
            },
            "type": "mesh3d"
           }
          ],
          "parcoords": [
           {
            "line": {
             "colorbar": {
              "outlinewidth": 0,
              "ticks": ""
             }
            },
            "type": "parcoords"
           }
          ],
          "pie": [
           {
            "automargin": true,
            "type": "pie"
           }
          ],
          "scatter": [
           {
            "fillpattern": {
             "fillmode": "overlay",
             "size": 10,
             "solidity": 0.2
            },
            "type": "scatter"
           }
          ],
          "scatter3d": [
           {
            "line": {
             "colorbar": {
              "outlinewidth": 0,
              "ticks": ""
             }
            },
            "marker": {
             "colorbar": {
              "outlinewidth": 0,
              "ticks": ""
             }
            },
            "type": "scatter3d"
           }
          ],
          "scattercarpet": [
           {
            "marker": {
             "colorbar": {
              "outlinewidth": 0,
              "ticks": ""
             }
            },
            "type": "scattercarpet"
           }
          ],
          "scattergeo": [
           {
            "marker": {
             "colorbar": {
              "outlinewidth": 0,
              "ticks": ""
             }
            },
            "type": "scattergeo"
           }
          ],
          "scattergl": [
           {
            "marker": {
             "colorbar": {
              "outlinewidth": 0,
              "ticks": ""
             }
            },
            "type": "scattergl"
           }
          ],
          "scattermapbox": [
           {
            "marker": {
             "colorbar": {
              "outlinewidth": 0,
              "ticks": ""
             }
            },
            "type": "scattermapbox"
           }
          ],
          "scatterpolar": [
           {
            "marker": {
             "colorbar": {
              "outlinewidth": 0,
              "ticks": ""
             }
            },
            "type": "scatterpolar"
           }
          ],
          "scatterpolargl": [
           {
            "marker": {
             "colorbar": {
              "outlinewidth": 0,
              "ticks": ""
             }
            },
            "type": "scatterpolargl"
           }
          ],
          "scatterternary": [
           {
            "marker": {
             "colorbar": {
              "outlinewidth": 0,
              "ticks": ""
             }
            },
            "type": "scatterternary"
           }
          ],
          "surface": [
           {
            "colorbar": {
             "outlinewidth": 0,
             "ticks": ""
            },
            "colorscale": [
             [
              0,
              "#0d0887"
             ],
             [
              0.1111111111111111,
              "#46039f"
             ],
             [
              0.2222222222222222,
              "#7201a8"
             ],
             [
              0.3333333333333333,
              "#9c179e"
             ],
             [
              0.4444444444444444,
              "#bd3786"
             ],
             [
              0.5555555555555556,
              "#d8576b"
             ],
             [
              0.6666666666666666,
              "#ed7953"
             ],
             [
              0.7777777777777778,
              "#fb9f3a"
             ],
             [
              0.8888888888888888,
              "#fdca26"
             ],
             [
              1,
              "#f0f921"
             ]
            ],
            "type": "surface"
           }
          ],
          "table": [
           {
            "cells": {
             "fill": {
              "color": "#EBF0F8"
             },
             "line": {
              "color": "white"
             }
            },
            "header": {
             "fill": {
              "color": "#C8D4E3"
             },
             "line": {
              "color": "white"
             }
            },
            "type": "table"
           }
          ]
         },
         "layout": {
          "annotationdefaults": {
           "arrowcolor": "#2a3f5f",
           "arrowhead": 0,
           "arrowwidth": 1
          },
          "autotypenumbers": "strict",
          "coloraxis": {
           "colorbar": {
            "outlinewidth": 0,
            "ticks": ""
           }
          },
          "colorscale": {
           "diverging": [
            [
             0,
             "#8e0152"
            ],
            [
             0.1,
             "#c51b7d"
            ],
            [
             0.2,
             "#de77ae"
            ],
            [
             0.3,
             "#f1b6da"
            ],
            [
             0.4,
             "#fde0ef"
            ],
            [
             0.5,
             "#f7f7f7"
            ],
            [
             0.6,
             "#e6f5d0"
            ],
            [
             0.7,
             "#b8e186"
            ],
            [
             0.8,
             "#7fbc41"
            ],
            [
             0.9,
             "#4d9221"
            ],
            [
             1,
             "#276419"
            ]
           ],
           "sequential": [
            [
             0,
             "#0d0887"
            ],
            [
             0.1111111111111111,
             "#46039f"
            ],
            [
             0.2222222222222222,
             "#7201a8"
            ],
            [
             0.3333333333333333,
             "#9c179e"
            ],
            [
             0.4444444444444444,
             "#bd3786"
            ],
            [
             0.5555555555555556,
             "#d8576b"
            ],
            [
             0.6666666666666666,
             "#ed7953"
            ],
            [
             0.7777777777777778,
             "#fb9f3a"
            ],
            [
             0.8888888888888888,
             "#fdca26"
            ],
            [
             1,
             "#f0f921"
            ]
           ],
           "sequentialminus": [
            [
             0,
             "#0d0887"
            ],
            [
             0.1111111111111111,
             "#46039f"
            ],
            [
             0.2222222222222222,
             "#7201a8"
            ],
            [
             0.3333333333333333,
             "#9c179e"
            ],
            [
             0.4444444444444444,
             "#bd3786"
            ],
            [
             0.5555555555555556,
             "#d8576b"
            ],
            [
             0.6666666666666666,
             "#ed7953"
            ],
            [
             0.7777777777777778,
             "#fb9f3a"
            ],
            [
             0.8888888888888888,
             "#fdca26"
            ],
            [
             1,
             "#f0f921"
            ]
           ]
          },
          "colorway": [
           "#636efa",
           "#EF553B",
           "#00cc96",
           "#ab63fa",
           "#FFA15A",
           "#19d3f3",
           "#FF6692",
           "#B6E880",
           "#FF97FF",
           "#FECB52"
          ],
          "font": {
           "color": "#2a3f5f"
          },
          "geo": {
           "bgcolor": "white",
           "lakecolor": "white",
           "landcolor": "white",
           "showlakes": true,
           "showland": true,
           "subunitcolor": "#C8D4E3"
          },
          "hoverlabel": {
           "align": "left"
          },
          "hovermode": "closest",
          "mapbox": {
           "style": "light"
          },
          "paper_bgcolor": "white",
          "plot_bgcolor": "white",
          "polar": {
           "angularaxis": {
            "gridcolor": "#EBF0F8",
            "linecolor": "#EBF0F8",
            "ticks": ""
           },
           "bgcolor": "white",
           "radialaxis": {
            "gridcolor": "#EBF0F8",
            "linecolor": "#EBF0F8",
            "ticks": ""
           }
          },
          "scene": {
           "xaxis": {
            "backgroundcolor": "white",
            "gridcolor": "#DFE8F3",
            "gridwidth": 2,
            "linecolor": "#EBF0F8",
            "showbackground": true,
            "ticks": "",
            "zerolinecolor": "#EBF0F8"
           },
           "yaxis": {
            "backgroundcolor": "white",
            "gridcolor": "#DFE8F3",
            "gridwidth": 2,
            "linecolor": "#EBF0F8",
            "showbackground": true,
            "ticks": "",
            "zerolinecolor": "#EBF0F8"
           },
           "zaxis": {
            "backgroundcolor": "white",
            "gridcolor": "#DFE8F3",
            "gridwidth": 2,
            "linecolor": "#EBF0F8",
            "showbackground": true,
            "ticks": "",
            "zerolinecolor": "#EBF0F8"
           }
          },
          "shapedefaults": {
           "line": {
            "color": "#2a3f5f"
           }
          },
          "ternary": {
           "aaxis": {
            "gridcolor": "#DFE8F3",
            "linecolor": "#A2B1C6",
            "ticks": ""
           },
           "baxis": {
            "gridcolor": "#DFE8F3",
            "linecolor": "#A2B1C6",
            "ticks": ""
           },
           "bgcolor": "white",
           "caxis": {
            "gridcolor": "#DFE8F3",
            "linecolor": "#A2B1C6",
            "ticks": ""
           }
          },
          "title": {
           "x": 0.05
          },
          "xaxis": {
           "automargin": true,
           "gridcolor": "#EBF0F8",
           "linecolor": "#EBF0F8",
           "ticks": "",
           "title": {
            "standoff": 15
           },
           "zerolinecolor": "#EBF0F8",
           "zerolinewidth": 2
          },
          "yaxis": {
           "automargin": true,
           "gridcolor": "#EBF0F8",
           "linecolor": "#EBF0F8",
           "ticks": "",
           "title": {
            "standoff": 15
           },
           "zerolinecolor": "#EBF0F8",
           "zerolinewidth": 2
          }
         }
        },
        "title": {
         "text": "Anzahl der Social - Media - Posts mit der Kombination: <br>Unwirksame Medikamente und Marktgebiet"
        },
        "width": 756,
        "xaxis": {
         "anchor": "y",
         "domain": [
          0,
          1
         ],
         "title": {
          "text": "Anzahl"
         }
        },
        "yaxis": {
         "anchor": "x",
         "domain": [
          0,
          1
         ],
         "title": {
          "text": "Marktgebiet"
         }
        }
       }
      }
     },
     "metadata": {},
     "output_type": "display_data"
    },
    {
     "data": {
      "application/vnd.plotly.v1+json": {
       "config": {
        "plotlyServerURL": "https://plot.ly"
       },
       "data": [
        {
         "alignmentgroup": "True",
         "bingroup": "y",
         "histfunc": "sum",
         "hovertemplate": "Unwirksame Medikamente=Andere<br>sum of Anteil (normalized as percent)=%{x}<br>Marktgebiet=%{y}<extra></extra>",
         "legendgroup": "Andere",
         "marker": {
          "color": "rgb(54, 112, 226)",
          "pattern": {
           "shape": ""
          }
         },
         "name": "Andere",
         "offsetgroup": "Andere",
         "orientation": "h",
         "showlegend": true,
         "textangle": 0,
         "texttemplate": "%{value:.0f}",
         "type": "histogram",
         "x": [
          0.1924557351809084,
          0.03849114703618168,
          0.4234026173979984,
          0.11547344110854503,
          0.03849114703618168
         ],
         "xaxis": "x",
         "y": [
          "BUSCOPAN",
          "CANESTEN GYN",
          "KADEFUNGIN",
          "KADEFUNGIN 3",
          "KADEFUNGIN BEFEUCHTUNG"
         ],
         "yaxis": "y"
        },
        {
         "alignmentgroup": "True",
         "bingroup": "y",
         "histfunc": "sum",
         "hovertemplate": "Unwirksame Medikamente=Unbekannt<br>sum of Anteil (normalized as percent)=%{x}<br>Marktgebiet=%{y}<extra></extra>",
         "legendgroup": "Unbekannt",
         "marker": {
          "color": "rgb(54, 169, 226)",
          "pattern": {
           "shape": ""
          }
         },
         "name": "Unbekannt",
         "offsetgroup": "Unbekannt",
         "orientation": "h",
         "showlegend": true,
         "textangle": 0,
         "texttemplate": "%{value:.0f}",
         "type": "histogram",
         "x": [
          0.7313317936874518,
          0.6158583525789069,
          0.03849114703618168,
          2.5404157043879905,
          0.4234026173979984,
          0.11547344110854503,
          0.03849114703618168,
          0.8852963818321785,
          0.11547344110854503,
          0.1924557351809084
         ],
         "xaxis": "x",
         "y": [
          "BUSCOPAN",
          "CANESTEN GYN",
          "KADEFEMIN INTIMPFLEGE",
          "KADEFUNGIN",
          "KADEFUNGIN 3",
          "KADEFUNGIN 6",
          "KADEFUNGIN BEFEUCHTUNG",
          "VAGISAN",
          "VAGISAN FEUCHTCREME",
          "VAGISAN MYKO"
         ],
         "yaxis": "y"
        },
        {
         "alignmentgroup": "True",
         "bingroup": "y",
         "histfunc": "sum",
         "hovertemplate": "Unwirksame Medikamente=Falsche Diagnose<br>sum of Anteil (normalized as percent)=%{x}<br>Marktgebiet=%{y}<extra></extra>",
         "legendgroup": "Falsche Diagnose",
         "marker": {
          "color": "rgb(54, 226, 169)",
          "pattern": {
           "shape": ""
          }
         },
         "name": "Falsche Diagnose",
         "offsetgroup": "Falsche Diagnose",
         "orientation": "h",
         "showlegend": true,
         "textangle": 0,
         "texttemplate": "%{value:.0f}",
         "type": "histogram",
         "x": [
          0.30792917628945343
         ],
         "xaxis": "x",
         "y": [
          "KADEFUNGIN"
         ],
         "yaxis": "y"
        }
       ],
       "layout": {
        "annotations": [
         {
          "align": "left",
          "font": {
           "size": 9
          },
          "showarrow": false,
          "text": "Basierend auf 177 Social-Media-Konversationen aus öffentlich zugänglichen Foren <br>Deutschland, Januar 2013 – April 2023.",
          "textangle": 0,
          "x": -0.25,
          "xanchor": "left",
          "xref": "paper",
          "y": -0.39,
          "yref": "paper"
         }
        ],
        "autosize": false,
        "barmode": "relative",
        "barnorm": "percent",
        "height": 378,
        "legend": {
         "title": {
          "text": "Unwirksame Medikamente"
         },
         "tracegroupgap": 0
        },
        "template": {
         "data": {
          "bar": [
           {
            "error_x": {
             "color": "#2a3f5f"
            },
            "error_y": {
             "color": "#2a3f5f"
            },
            "marker": {
             "line": {
              "color": "white",
              "width": 0.5
             },
             "pattern": {
              "fillmode": "overlay",
              "size": 10,
              "solidity": 0.2
             }
            },
            "type": "bar"
           }
          ],
          "barpolar": [
           {
            "marker": {
             "line": {
              "color": "white",
              "width": 0.5
             },
             "pattern": {
              "fillmode": "overlay",
              "size": 10,
              "solidity": 0.2
             }
            },
            "type": "barpolar"
           }
          ],
          "carpet": [
           {
            "aaxis": {
             "endlinecolor": "#2a3f5f",
             "gridcolor": "#C8D4E3",
             "linecolor": "#C8D4E3",
             "minorgridcolor": "#C8D4E3",
             "startlinecolor": "#2a3f5f"
            },
            "baxis": {
             "endlinecolor": "#2a3f5f",
             "gridcolor": "#C8D4E3",
             "linecolor": "#C8D4E3",
             "minorgridcolor": "#C8D4E3",
             "startlinecolor": "#2a3f5f"
            },
            "type": "carpet"
           }
          ],
          "choropleth": [
           {
            "colorbar": {
             "outlinewidth": 0,
             "ticks": ""
            },
            "type": "choropleth"
           }
          ],
          "contour": [
           {
            "colorbar": {
             "outlinewidth": 0,
             "ticks": ""
            },
            "colorscale": [
             [
              0,
              "#0d0887"
             ],
             [
              0.1111111111111111,
              "#46039f"
             ],
             [
              0.2222222222222222,
              "#7201a8"
             ],
             [
              0.3333333333333333,
              "#9c179e"
             ],
             [
              0.4444444444444444,
              "#bd3786"
             ],
             [
              0.5555555555555556,
              "#d8576b"
             ],
             [
              0.6666666666666666,
              "#ed7953"
             ],
             [
              0.7777777777777778,
              "#fb9f3a"
             ],
             [
              0.8888888888888888,
              "#fdca26"
             ],
             [
              1,
              "#f0f921"
             ]
            ],
            "type": "contour"
           }
          ],
          "contourcarpet": [
           {
            "colorbar": {
             "outlinewidth": 0,
             "ticks": ""
            },
            "type": "contourcarpet"
           }
          ],
          "heatmap": [
           {
            "colorbar": {
             "outlinewidth": 0,
             "ticks": ""
            },
            "colorscale": [
             [
              0,
              "#0d0887"
             ],
             [
              0.1111111111111111,
              "#46039f"
             ],
             [
              0.2222222222222222,
              "#7201a8"
             ],
             [
              0.3333333333333333,
              "#9c179e"
             ],
             [
              0.4444444444444444,
              "#bd3786"
             ],
             [
              0.5555555555555556,
              "#d8576b"
             ],
             [
              0.6666666666666666,
              "#ed7953"
             ],
             [
              0.7777777777777778,
              "#fb9f3a"
             ],
             [
              0.8888888888888888,
              "#fdca26"
             ],
             [
              1,
              "#f0f921"
             ]
            ],
            "type": "heatmap"
           }
          ],
          "heatmapgl": [
           {
            "colorbar": {
             "outlinewidth": 0,
             "ticks": ""
            },
            "colorscale": [
             [
              0,
              "#0d0887"
             ],
             [
              0.1111111111111111,
              "#46039f"
             ],
             [
              0.2222222222222222,
              "#7201a8"
             ],
             [
              0.3333333333333333,
              "#9c179e"
             ],
             [
              0.4444444444444444,
              "#bd3786"
             ],
             [
              0.5555555555555556,
              "#d8576b"
             ],
             [
              0.6666666666666666,
              "#ed7953"
             ],
             [
              0.7777777777777778,
              "#fb9f3a"
             ],
             [
              0.8888888888888888,
              "#fdca26"
             ],
             [
              1,
              "#f0f921"
             ]
            ],
            "type": "heatmapgl"
           }
          ],
          "histogram": [
           {
            "marker": {
             "pattern": {
              "fillmode": "overlay",
              "size": 10,
              "solidity": 0.2
             }
            },
            "type": "histogram"
           }
          ],
          "histogram2d": [
           {
            "colorbar": {
             "outlinewidth": 0,
             "ticks": ""
            },
            "colorscale": [
             [
              0,
              "#0d0887"
             ],
             [
              0.1111111111111111,
              "#46039f"
             ],
             [
              0.2222222222222222,
              "#7201a8"
             ],
             [
              0.3333333333333333,
              "#9c179e"
             ],
             [
              0.4444444444444444,
              "#bd3786"
             ],
             [
              0.5555555555555556,
              "#d8576b"
             ],
             [
              0.6666666666666666,
              "#ed7953"
             ],
             [
              0.7777777777777778,
              "#fb9f3a"
             ],
             [
              0.8888888888888888,
              "#fdca26"
             ],
             [
              1,
              "#f0f921"
             ]
            ],
            "type": "histogram2d"
           }
          ],
          "histogram2dcontour": [
           {
            "colorbar": {
             "outlinewidth": 0,
             "ticks": ""
            },
            "colorscale": [
             [
              0,
              "#0d0887"
             ],
             [
              0.1111111111111111,
              "#46039f"
             ],
             [
              0.2222222222222222,
              "#7201a8"
             ],
             [
              0.3333333333333333,
              "#9c179e"
             ],
             [
              0.4444444444444444,
              "#bd3786"
             ],
             [
              0.5555555555555556,
              "#d8576b"
             ],
             [
              0.6666666666666666,
              "#ed7953"
             ],
             [
              0.7777777777777778,
              "#fb9f3a"
             ],
             [
              0.8888888888888888,
              "#fdca26"
             ],
             [
              1,
              "#f0f921"
             ]
            ],
            "type": "histogram2dcontour"
           }
          ],
          "mesh3d": [
           {
            "colorbar": {
             "outlinewidth": 0,
             "ticks": ""
            },
            "type": "mesh3d"
           }
          ],
          "parcoords": [
           {
            "line": {
             "colorbar": {
              "outlinewidth": 0,
              "ticks": ""
             }
            },
            "type": "parcoords"
           }
          ],
          "pie": [
           {
            "automargin": true,
            "type": "pie"
           }
          ],
          "scatter": [
           {
            "fillpattern": {
             "fillmode": "overlay",
             "size": 10,
             "solidity": 0.2
            },
            "type": "scatter"
           }
          ],
          "scatter3d": [
           {
            "line": {
             "colorbar": {
              "outlinewidth": 0,
              "ticks": ""
             }
            },
            "marker": {
             "colorbar": {
              "outlinewidth": 0,
              "ticks": ""
             }
            },
            "type": "scatter3d"
           }
          ],
          "scattercarpet": [
           {
            "marker": {
             "colorbar": {
              "outlinewidth": 0,
              "ticks": ""
             }
            },
            "type": "scattercarpet"
           }
          ],
          "scattergeo": [
           {
            "marker": {
             "colorbar": {
              "outlinewidth": 0,
              "ticks": ""
             }
            },
            "type": "scattergeo"
           }
          ],
          "scattergl": [
           {
            "marker": {
             "colorbar": {
              "outlinewidth": 0,
              "ticks": ""
             }
            },
            "type": "scattergl"
           }
          ],
          "scattermapbox": [
           {
            "marker": {
             "colorbar": {
              "outlinewidth": 0,
              "ticks": ""
             }
            },
            "type": "scattermapbox"
           }
          ],
          "scatterpolar": [
           {
            "marker": {
             "colorbar": {
              "outlinewidth": 0,
              "ticks": ""
             }
            },
            "type": "scatterpolar"
           }
          ],
          "scatterpolargl": [
           {
            "marker": {
             "colorbar": {
              "outlinewidth": 0,
              "ticks": ""
             }
            },
            "type": "scatterpolargl"
           }
          ],
          "scatterternary": [
           {
            "marker": {
             "colorbar": {
              "outlinewidth": 0,
              "ticks": ""
             }
            },
            "type": "scatterternary"
           }
          ],
          "surface": [
           {
            "colorbar": {
             "outlinewidth": 0,
             "ticks": ""
            },
            "colorscale": [
             [
              0,
              "#0d0887"
             ],
             [
              0.1111111111111111,
              "#46039f"
             ],
             [
              0.2222222222222222,
              "#7201a8"
             ],
             [
              0.3333333333333333,
              "#9c179e"
             ],
             [
              0.4444444444444444,
              "#bd3786"
             ],
             [
              0.5555555555555556,
              "#d8576b"
             ],
             [
              0.6666666666666666,
              "#ed7953"
             ],
             [
              0.7777777777777778,
              "#fb9f3a"
             ],
             [
              0.8888888888888888,
              "#fdca26"
             ],
             [
              1,
              "#f0f921"
             ]
            ],
            "type": "surface"
           }
          ],
          "table": [
           {
            "cells": {
             "fill": {
              "color": "#EBF0F8"
             },
             "line": {
              "color": "white"
             }
            },
            "header": {
             "fill": {
              "color": "#C8D4E3"
             },
             "line": {
              "color": "white"
             }
            },
            "type": "table"
           }
          ]
         },
         "layout": {
          "annotationdefaults": {
           "arrowcolor": "#2a3f5f",
           "arrowhead": 0,
           "arrowwidth": 1
          },
          "autotypenumbers": "strict",
          "coloraxis": {
           "colorbar": {
            "outlinewidth": 0,
            "ticks": ""
           }
          },
          "colorscale": {
           "diverging": [
            [
             0,
             "#8e0152"
            ],
            [
             0.1,
             "#c51b7d"
            ],
            [
             0.2,
             "#de77ae"
            ],
            [
             0.3,
             "#f1b6da"
            ],
            [
             0.4,
             "#fde0ef"
            ],
            [
             0.5,
             "#f7f7f7"
            ],
            [
             0.6,
             "#e6f5d0"
            ],
            [
             0.7,
             "#b8e186"
            ],
            [
             0.8,
             "#7fbc41"
            ],
            [
             0.9,
             "#4d9221"
            ],
            [
             1,
             "#276419"
            ]
           ],
           "sequential": [
            [
             0,
             "#0d0887"
            ],
            [
             0.1111111111111111,
             "#46039f"
            ],
            [
             0.2222222222222222,
             "#7201a8"
            ],
            [
             0.3333333333333333,
             "#9c179e"
            ],
            [
             0.4444444444444444,
             "#bd3786"
            ],
            [
             0.5555555555555556,
             "#d8576b"
            ],
            [
             0.6666666666666666,
             "#ed7953"
            ],
            [
             0.7777777777777778,
             "#fb9f3a"
            ],
            [
             0.8888888888888888,
             "#fdca26"
            ],
            [
             1,
             "#f0f921"
            ]
           ],
           "sequentialminus": [
            [
             0,
             "#0d0887"
            ],
            [
             0.1111111111111111,
             "#46039f"
            ],
            [
             0.2222222222222222,
             "#7201a8"
            ],
            [
             0.3333333333333333,
             "#9c179e"
            ],
            [
             0.4444444444444444,
             "#bd3786"
            ],
            [
             0.5555555555555556,
             "#d8576b"
            ],
            [
             0.6666666666666666,
             "#ed7953"
            ],
            [
             0.7777777777777778,
             "#fb9f3a"
            ],
            [
             0.8888888888888888,
             "#fdca26"
            ],
            [
             1,
             "#f0f921"
            ]
           ]
          },
          "colorway": [
           "#636efa",
           "#EF553B",
           "#00cc96",
           "#ab63fa",
           "#FFA15A",
           "#19d3f3",
           "#FF6692",
           "#B6E880",
           "#FF97FF",
           "#FECB52"
          ],
          "font": {
           "color": "#2a3f5f"
          },
          "geo": {
           "bgcolor": "white",
           "lakecolor": "white",
           "landcolor": "white",
           "showlakes": true,
           "showland": true,
           "subunitcolor": "#C8D4E3"
          },
          "hoverlabel": {
           "align": "left"
          },
          "hovermode": "closest",
          "mapbox": {
           "style": "light"
          },
          "paper_bgcolor": "white",
          "plot_bgcolor": "white",
          "polar": {
           "angularaxis": {
            "gridcolor": "#EBF0F8",
            "linecolor": "#EBF0F8",
            "ticks": ""
           },
           "bgcolor": "white",
           "radialaxis": {
            "gridcolor": "#EBF0F8",
            "linecolor": "#EBF0F8",
            "ticks": ""
           }
          },
          "scene": {
           "xaxis": {
            "backgroundcolor": "white",
            "gridcolor": "#DFE8F3",
            "gridwidth": 2,
            "linecolor": "#EBF0F8",
            "showbackground": true,
            "ticks": "",
            "zerolinecolor": "#EBF0F8"
           },
           "yaxis": {
            "backgroundcolor": "white",
            "gridcolor": "#DFE8F3",
            "gridwidth": 2,
            "linecolor": "#EBF0F8",
            "showbackground": true,
            "ticks": "",
            "zerolinecolor": "#EBF0F8"
           },
           "zaxis": {
            "backgroundcolor": "white",
            "gridcolor": "#DFE8F3",
            "gridwidth": 2,
            "linecolor": "#EBF0F8",
            "showbackground": true,
            "ticks": "",
            "zerolinecolor": "#EBF0F8"
           }
          },
          "shapedefaults": {
           "line": {
            "color": "#2a3f5f"
           }
          },
          "ternary": {
           "aaxis": {
            "gridcolor": "#DFE8F3",
            "linecolor": "#A2B1C6",
            "ticks": ""
           },
           "baxis": {
            "gridcolor": "#DFE8F3",
            "linecolor": "#A2B1C6",
            "ticks": ""
           },
           "bgcolor": "white",
           "caxis": {
            "gridcolor": "#DFE8F3",
            "linecolor": "#A2B1C6",
            "ticks": ""
           }
          },
          "title": {
           "x": 0.05
          },
          "xaxis": {
           "automargin": true,
           "gridcolor": "#EBF0F8",
           "linecolor": "#EBF0F8",
           "ticks": "",
           "title": {
            "standoff": 15
           },
           "zerolinecolor": "#EBF0F8",
           "zerolinewidth": 2
          },
          "yaxis": {
           "automargin": true,
           "gridcolor": "#EBF0F8",
           "linecolor": "#EBF0F8",
           "ticks": "",
           "title": {
            "standoff": 15
           },
           "zerolinecolor": "#EBF0F8",
           "zerolinewidth": 2
          }
         }
        },
        "title": {
         "text": "Anzahl der Social - Media - Posts mit der Kombination: <br>Unwirksame Medikamente und Marktgebiet"
        },
        "width": 756,
        "xaxis": {
         "anchor": "y",
         "domain": [
          0,
          1
         ],
         "title": {
          "text": "Anteil"
         }
        },
        "yaxis": {
         "anchor": "x",
         "domain": [
          0,
          1
         ],
         "title": {
          "text": "Marktgebiet"
         }
        }
       }
      }
     },
     "metadata": {},
     "output_type": "display_data"
    },
    {
     "name": "stdout",
     "output_type": "stream",
     "text": [
      "   topic_1_product_not_helped_answer               product_1  Anzahl    Anteil\n",
      "0                             Andere                BUSCOPAN       5  0.192456\n",
      "1                             Andere            CANESTEN GYN       1  0.038491\n",
      "2                             Andere              KADEFUNGIN      11  0.423403\n",
      "3                             Andere            KADEFUNGIN 3       3  0.115473\n",
      "4                             Andere  KADEFUNGIN BEFEUCHTUNG       1  0.038491\n",
      "5                   Falsche Diagnose              KADEFUNGIN       8  0.307929\n",
      "6                          Unbekannt                BUSCOPAN      19  0.731332\n",
      "7                          Unbekannt            CANESTEN GYN      16  0.615858\n",
      "8                          Unbekannt   KADEFEMIN INTIMPFLEGE       1  0.038491\n",
      "9                          Unbekannt              KADEFUNGIN      66  2.540416\n",
      "10                         Unbekannt            KADEFUNGIN 3      11  0.423403\n",
      "11                         Unbekannt            KADEFUNGIN 6       3  0.115473\n",
      "12                         Unbekannt  KADEFUNGIN BEFEUCHTUNG       1  0.038491\n",
      "13                         Unbekannt                 VAGISAN      23  0.885296\n",
      "14                         Unbekannt     VAGISAN FEUCHTCREME       3  0.115473\n",
      "15                         Unbekannt            VAGISAN MYKO       5  0.192456\n"
     ]
    },
    {
     "data": {
      "application/vnd.plotly.v1+json": {
       "config": {
        "plotlyServerURL": "https://plot.ly"
       },
       "data": [
        {
         "alignmentgroup": "True",
         "hovertemplate": "Unwirksame Medikamente=BUSCOPAN<br>Anzahl=%{x}<br>Marktgebiet=%{y}<extra></extra>",
         "legendgroup": "BUSCOPAN",
         "marker": {
          "color": "rgb(54, 112, 226)",
          "pattern": {
           "shape": ""
          }
         },
         "name": "BUSCOPAN",
         "offsetgroup": "BUSCOPAN",
         "orientation": "h",
         "showlegend": true,
         "textangle": 0,
         "textposition": "auto",
         "texttemplate": "%{x:.0f}",
         "type": "bar",
         "x": [
          5,
          19
         ],
         "xaxis": "x",
         "y": [
          "Andere",
          "Unbekannt"
         ],
         "yaxis": "y"
        },
        {
         "alignmentgroup": "True",
         "hovertemplate": "Unwirksame Medikamente=CANESTEN GYN<br>Anzahl=%{x}<br>Marktgebiet=%{y}<extra></extra>",
         "legendgroup": "CANESTEN GYN",
         "marker": {
          "color": "rgb(54, 169, 226)",
          "pattern": {
           "shape": ""
          }
         },
         "name": "CANESTEN GYN",
         "offsetgroup": "CANESTEN GYN",
         "orientation": "h",
         "showlegend": true,
         "textangle": 0,
         "textposition": "auto",
         "texttemplate": "%{x:.0f}",
         "type": "bar",
         "x": [
          1,
          16
         ],
         "xaxis": "x",
         "y": [
          "Andere",
          "Unbekannt"
         ],
         "yaxis": "y"
        },
        {
         "alignmentgroup": "True",
         "hovertemplate": "Unwirksame Medikamente=KADEFUNGIN<br>Anzahl=%{x}<br>Marktgebiet=%{y}<extra></extra>",
         "legendgroup": "KADEFUNGIN",
         "marker": {
          "color": "rgb(54, 226, 169)",
          "pattern": {
           "shape": ""
          }
         },
         "name": "KADEFUNGIN",
         "offsetgroup": "KADEFUNGIN",
         "orientation": "h",
         "showlegend": true,
         "textangle": 0,
         "textposition": "auto",
         "texttemplate": "%{x:.0f}",
         "type": "bar",
         "x": [
          11,
          8,
          66
         ],
         "xaxis": "x",
         "y": [
          "Andere",
          "Falsche Diagnose",
          "Unbekannt"
         ],
         "yaxis": "y"
        },
        {
         "alignmentgroup": "True",
         "hovertemplate": "Unwirksame Medikamente=KADEFUNGIN 3<br>Anzahl=%{x}<br>Marktgebiet=%{y}<extra></extra>",
         "legendgroup": "KADEFUNGIN 3",
         "marker": {
          "color": "rgb(112, 54, 226)",
          "pattern": {
           "shape": ""
          }
         },
         "name": "KADEFUNGIN 3",
         "offsetgroup": "KADEFUNGIN 3",
         "orientation": "h",
         "showlegend": true,
         "textangle": 0,
         "textposition": "auto",
         "texttemplate": "%{x:.0f}",
         "type": "bar",
         "x": [
          3,
          11
         ],
         "xaxis": "x",
         "y": [
          "Andere",
          "Unbekannt"
         ],
         "yaxis": "y"
        },
        {
         "alignmentgroup": "True",
         "hovertemplate": "Unwirksame Medikamente=KADEFUNGIN BEFEUCHTUNG<br>Anzahl=%{x}<br>Marktgebiet=%{y}<extra></extra>",
         "legendgroup": "KADEFUNGIN BEFEUCHTUNG",
         "marker": {
          "color": "rgb(226, 54, 169)",
          "pattern": {
           "shape": ""
          }
         },
         "name": "KADEFUNGIN BEFEUCHTUNG",
         "offsetgroup": "KADEFUNGIN BEFEUCHTUNG",
         "orientation": "h",
         "showlegend": true,
         "textangle": 0,
         "textposition": "auto",
         "texttemplate": "%{x:.0f}",
         "type": "bar",
         "x": [
          1,
          1
         ],
         "xaxis": "x",
         "y": [
          "Andere",
          "Unbekannt"
         ],
         "yaxis": "y"
        },
        {
         "alignmentgroup": "True",
         "hovertemplate": "Unwirksame Medikamente=KADEFEMIN INTIMPFLEGE<br>Anzahl=%{x}<br>Marktgebiet=%{y}<extra></extra>",
         "legendgroup": "KADEFEMIN INTIMPFLEGE",
         "marker": {
          "color": "rgb(169, 54, 226)",
          "pattern": {
           "shape": ""
          }
         },
         "name": "KADEFEMIN INTIMPFLEGE",
         "offsetgroup": "KADEFEMIN INTIMPFLEGE",
         "orientation": "h",
         "showlegend": true,
         "textangle": 0,
         "textposition": "auto",
         "texttemplate": "%{x:.0f}",
         "type": "bar",
         "x": [
          1
         ],
         "xaxis": "x",
         "y": [
          "Unbekannt"
         ],
         "yaxis": "y"
        },
        {
         "alignmentgroup": "True",
         "hovertemplate": "Unwirksame Medikamente=KADEFUNGIN 6<br>Anzahl=%{x}<br>Marktgebiet=%{y}<extra></extra>",
         "legendgroup": "KADEFUNGIN 6",
         "marker": {
          "color": "rgb(169, 226, 54)",
          "pattern": {
           "shape": ""
          }
         },
         "name": "KADEFUNGIN 6",
         "offsetgroup": "KADEFUNGIN 6",
         "orientation": "h",
         "showlegend": true,
         "textangle": 0,
         "textposition": "auto",
         "texttemplate": "%{x:.0f}",
         "type": "bar",
         "x": [
          3
         ],
         "xaxis": "x",
         "y": [
          "Unbekannt"
         ],
         "yaxis": "y"
        },
        {
         "alignmentgroup": "True",
         "hovertemplate": "Unwirksame Medikamente=VAGISAN<br>Anzahl=%{x}<br>Marktgebiet=%{y}<extra></extra>",
         "legendgroup": "VAGISAN",
         "marker": {
          "color": "rgb(204, 153, 255)",
          "pattern": {
           "shape": ""
          }
         },
         "name": "VAGISAN",
         "offsetgroup": "VAGISAN",
         "orientation": "h",
         "showlegend": true,
         "textangle": 0,
         "textposition": "auto",
         "texttemplate": "%{x:.0f}",
         "type": "bar",
         "x": [
          23
         ],
         "xaxis": "x",
         "y": [
          "Unbekannt"
         ],
         "yaxis": "y"
        },
        {
         "alignmentgroup": "True",
         "hovertemplate": "Unwirksame Medikamente=VAGISAN FEUCHTCREME<br>Anzahl=%{x}<br>Marktgebiet=%{y}<extra></extra>",
         "legendgroup": "VAGISAN FEUCHTCREME",
         "marker": {
          "color": "rgb(226, 226, 54)",
          "pattern": {
           "shape": ""
          }
         },
         "name": "VAGISAN FEUCHTCREME",
         "offsetgroup": "VAGISAN FEUCHTCREME",
         "orientation": "h",
         "showlegend": true,
         "textangle": 0,
         "textposition": "auto",
         "texttemplate": "%{x:.0f}",
         "type": "bar",
         "x": [
          3
         ],
         "xaxis": "x",
         "y": [
          "Unbekannt"
         ],
         "yaxis": "y"
        },
        {
         "alignmentgroup": "True",
         "hovertemplate": "Unwirksame Medikamente=VAGISAN MYKO<br>Anzahl=%{x}<br>Marktgebiet=%{y}<extra></extra>",
         "legendgroup": "VAGISAN MYKO",
         "marker": {
          "color": "rgb(54, 226, 112)",
          "pattern": {
           "shape": ""
          }
         },
         "name": "VAGISAN MYKO",
         "offsetgroup": "VAGISAN MYKO",
         "orientation": "h",
         "showlegend": true,
         "textangle": 0,
         "textposition": "auto",
         "texttemplate": "%{x:.0f}",
         "type": "bar",
         "x": [
          5
         ],
         "xaxis": "x",
         "y": [
          "Unbekannt"
         ],
         "yaxis": "y"
        }
       ],
       "layout": {
        "annotations": [
         {
          "align": "left",
          "font": {
           "size": 9
          },
          "showarrow": false,
          "text": "Basierend auf 177 Social-Media-Konversationen aus öffentlich zugänglichen Foren <br>Deutschland, Januar 2013 – April 2023.",
          "textangle": 0,
          "x": -0.25,
          "xanchor": "left",
          "xref": "paper",
          "y": -0.39,
          "yref": "paper"
         }
        ],
        "autosize": false,
        "barmode": "relative",
        "height": 378,
        "legend": {
         "title": {
          "text": "Unwirksame Medikamente"
         },
         "tracegroupgap": 0
        },
        "template": {
         "data": {
          "bar": [
           {
            "error_x": {
             "color": "#2a3f5f"
            },
            "error_y": {
             "color": "#2a3f5f"
            },
            "marker": {
             "line": {
              "color": "white",
              "width": 0.5
             },
             "pattern": {
              "fillmode": "overlay",
              "size": 10,
              "solidity": 0.2
             }
            },
            "type": "bar"
           }
          ],
          "barpolar": [
           {
            "marker": {
             "line": {
              "color": "white",
              "width": 0.5
             },
             "pattern": {
              "fillmode": "overlay",
              "size": 10,
              "solidity": 0.2
             }
            },
            "type": "barpolar"
           }
          ],
          "carpet": [
           {
            "aaxis": {
             "endlinecolor": "#2a3f5f",
             "gridcolor": "#C8D4E3",
             "linecolor": "#C8D4E3",
             "minorgridcolor": "#C8D4E3",
             "startlinecolor": "#2a3f5f"
            },
            "baxis": {
             "endlinecolor": "#2a3f5f",
             "gridcolor": "#C8D4E3",
             "linecolor": "#C8D4E3",
             "minorgridcolor": "#C8D4E3",
             "startlinecolor": "#2a3f5f"
            },
            "type": "carpet"
           }
          ],
          "choropleth": [
           {
            "colorbar": {
             "outlinewidth": 0,
             "ticks": ""
            },
            "type": "choropleth"
           }
          ],
          "contour": [
           {
            "colorbar": {
             "outlinewidth": 0,
             "ticks": ""
            },
            "colorscale": [
             [
              0,
              "#0d0887"
             ],
             [
              0.1111111111111111,
              "#46039f"
             ],
             [
              0.2222222222222222,
              "#7201a8"
             ],
             [
              0.3333333333333333,
              "#9c179e"
             ],
             [
              0.4444444444444444,
              "#bd3786"
             ],
             [
              0.5555555555555556,
              "#d8576b"
             ],
             [
              0.6666666666666666,
              "#ed7953"
             ],
             [
              0.7777777777777778,
              "#fb9f3a"
             ],
             [
              0.8888888888888888,
              "#fdca26"
             ],
             [
              1,
              "#f0f921"
             ]
            ],
            "type": "contour"
           }
          ],
          "contourcarpet": [
           {
            "colorbar": {
             "outlinewidth": 0,
             "ticks": ""
            },
            "type": "contourcarpet"
           }
          ],
          "heatmap": [
           {
            "colorbar": {
             "outlinewidth": 0,
             "ticks": ""
            },
            "colorscale": [
             [
              0,
              "#0d0887"
             ],
             [
              0.1111111111111111,
              "#46039f"
             ],
             [
              0.2222222222222222,
              "#7201a8"
             ],
             [
              0.3333333333333333,
              "#9c179e"
             ],
             [
              0.4444444444444444,
              "#bd3786"
             ],
             [
              0.5555555555555556,
              "#d8576b"
             ],
             [
              0.6666666666666666,
              "#ed7953"
             ],
             [
              0.7777777777777778,
              "#fb9f3a"
             ],
             [
              0.8888888888888888,
              "#fdca26"
             ],
             [
              1,
              "#f0f921"
             ]
            ],
            "type": "heatmap"
           }
          ],
          "heatmapgl": [
           {
            "colorbar": {
             "outlinewidth": 0,
             "ticks": ""
            },
            "colorscale": [
             [
              0,
              "#0d0887"
             ],
             [
              0.1111111111111111,
              "#46039f"
             ],
             [
              0.2222222222222222,
              "#7201a8"
             ],
             [
              0.3333333333333333,
              "#9c179e"
             ],
             [
              0.4444444444444444,
              "#bd3786"
             ],
             [
              0.5555555555555556,
              "#d8576b"
             ],
             [
              0.6666666666666666,
              "#ed7953"
             ],
             [
              0.7777777777777778,
              "#fb9f3a"
             ],
             [
              0.8888888888888888,
              "#fdca26"
             ],
             [
              1,
              "#f0f921"
             ]
            ],
            "type": "heatmapgl"
           }
          ],
          "histogram": [
           {
            "marker": {
             "pattern": {
              "fillmode": "overlay",
              "size": 10,
              "solidity": 0.2
             }
            },
            "type": "histogram"
           }
          ],
          "histogram2d": [
           {
            "colorbar": {
             "outlinewidth": 0,
             "ticks": ""
            },
            "colorscale": [
             [
              0,
              "#0d0887"
             ],
             [
              0.1111111111111111,
              "#46039f"
             ],
             [
              0.2222222222222222,
              "#7201a8"
             ],
             [
              0.3333333333333333,
              "#9c179e"
             ],
             [
              0.4444444444444444,
              "#bd3786"
             ],
             [
              0.5555555555555556,
              "#d8576b"
             ],
             [
              0.6666666666666666,
              "#ed7953"
             ],
             [
              0.7777777777777778,
              "#fb9f3a"
             ],
             [
              0.8888888888888888,
              "#fdca26"
             ],
             [
              1,
              "#f0f921"
             ]
            ],
            "type": "histogram2d"
           }
          ],
          "histogram2dcontour": [
           {
            "colorbar": {
             "outlinewidth": 0,
             "ticks": ""
            },
            "colorscale": [
             [
              0,
              "#0d0887"
             ],
             [
              0.1111111111111111,
              "#46039f"
             ],
             [
              0.2222222222222222,
              "#7201a8"
             ],
             [
              0.3333333333333333,
              "#9c179e"
             ],
             [
              0.4444444444444444,
              "#bd3786"
             ],
             [
              0.5555555555555556,
              "#d8576b"
             ],
             [
              0.6666666666666666,
              "#ed7953"
             ],
             [
              0.7777777777777778,
              "#fb9f3a"
             ],
             [
              0.8888888888888888,
              "#fdca26"
             ],
             [
              1,
              "#f0f921"
             ]
            ],
            "type": "histogram2dcontour"
           }
          ],
          "mesh3d": [
           {
            "colorbar": {
             "outlinewidth": 0,
             "ticks": ""
            },
            "type": "mesh3d"
           }
          ],
          "parcoords": [
           {
            "line": {
             "colorbar": {
              "outlinewidth": 0,
              "ticks": ""
             }
            },
            "type": "parcoords"
           }
          ],
          "pie": [
           {
            "automargin": true,
            "type": "pie"
           }
          ],
          "scatter": [
           {
            "fillpattern": {
             "fillmode": "overlay",
             "size": 10,
             "solidity": 0.2
            },
            "type": "scatter"
           }
          ],
          "scatter3d": [
           {
            "line": {
             "colorbar": {
              "outlinewidth": 0,
              "ticks": ""
             }
            },
            "marker": {
             "colorbar": {
              "outlinewidth": 0,
              "ticks": ""
             }
            },
            "type": "scatter3d"
           }
          ],
          "scattercarpet": [
           {
            "marker": {
             "colorbar": {
              "outlinewidth": 0,
              "ticks": ""
             }
            },
            "type": "scattercarpet"
           }
          ],
          "scattergeo": [
           {
            "marker": {
             "colorbar": {
              "outlinewidth": 0,
              "ticks": ""
             }
            },
            "type": "scattergeo"
           }
          ],
          "scattergl": [
           {
            "marker": {
             "colorbar": {
              "outlinewidth": 0,
              "ticks": ""
             }
            },
            "type": "scattergl"
           }
          ],
          "scattermapbox": [
           {
            "marker": {
             "colorbar": {
              "outlinewidth": 0,
              "ticks": ""
             }
            },
            "type": "scattermapbox"
           }
          ],
          "scatterpolar": [
           {
            "marker": {
             "colorbar": {
              "outlinewidth": 0,
              "ticks": ""
             }
            },
            "type": "scatterpolar"
           }
          ],
          "scatterpolargl": [
           {
            "marker": {
             "colorbar": {
              "outlinewidth": 0,
              "ticks": ""
             }
            },
            "type": "scatterpolargl"
           }
          ],
          "scatterternary": [
           {
            "marker": {
             "colorbar": {
              "outlinewidth": 0,
              "ticks": ""
             }
            },
            "type": "scatterternary"
           }
          ],
          "surface": [
           {
            "colorbar": {
             "outlinewidth": 0,
             "ticks": ""
            },
            "colorscale": [
             [
              0,
              "#0d0887"
             ],
             [
              0.1111111111111111,
              "#46039f"
             ],
             [
              0.2222222222222222,
              "#7201a8"
             ],
             [
              0.3333333333333333,
              "#9c179e"
             ],
             [
              0.4444444444444444,
              "#bd3786"
             ],
             [
              0.5555555555555556,
              "#d8576b"
             ],
             [
              0.6666666666666666,
              "#ed7953"
             ],
             [
              0.7777777777777778,
              "#fb9f3a"
             ],
             [
              0.8888888888888888,
              "#fdca26"
             ],
             [
              1,
              "#f0f921"
             ]
            ],
            "type": "surface"
           }
          ],
          "table": [
           {
            "cells": {
             "fill": {
              "color": "#EBF0F8"
             },
             "line": {
              "color": "white"
             }
            },
            "header": {
             "fill": {
              "color": "#C8D4E3"
             },
             "line": {
              "color": "white"
             }
            },
            "type": "table"
           }
          ]
         },
         "layout": {
          "annotationdefaults": {
           "arrowcolor": "#2a3f5f",
           "arrowhead": 0,
           "arrowwidth": 1
          },
          "autotypenumbers": "strict",
          "coloraxis": {
           "colorbar": {
            "outlinewidth": 0,
            "ticks": ""
           }
          },
          "colorscale": {
           "diverging": [
            [
             0,
             "#8e0152"
            ],
            [
             0.1,
             "#c51b7d"
            ],
            [
             0.2,
             "#de77ae"
            ],
            [
             0.3,
             "#f1b6da"
            ],
            [
             0.4,
             "#fde0ef"
            ],
            [
             0.5,
             "#f7f7f7"
            ],
            [
             0.6,
             "#e6f5d0"
            ],
            [
             0.7,
             "#b8e186"
            ],
            [
             0.8,
             "#7fbc41"
            ],
            [
             0.9,
             "#4d9221"
            ],
            [
             1,
             "#276419"
            ]
           ],
           "sequential": [
            [
             0,
             "#0d0887"
            ],
            [
             0.1111111111111111,
             "#46039f"
            ],
            [
             0.2222222222222222,
             "#7201a8"
            ],
            [
             0.3333333333333333,
             "#9c179e"
            ],
            [
             0.4444444444444444,
             "#bd3786"
            ],
            [
             0.5555555555555556,
             "#d8576b"
            ],
            [
             0.6666666666666666,
             "#ed7953"
            ],
            [
             0.7777777777777778,
             "#fb9f3a"
            ],
            [
             0.8888888888888888,
             "#fdca26"
            ],
            [
             1,
             "#f0f921"
            ]
           ],
           "sequentialminus": [
            [
             0,
             "#0d0887"
            ],
            [
             0.1111111111111111,
             "#46039f"
            ],
            [
             0.2222222222222222,
             "#7201a8"
            ],
            [
             0.3333333333333333,
             "#9c179e"
            ],
            [
             0.4444444444444444,
             "#bd3786"
            ],
            [
             0.5555555555555556,
             "#d8576b"
            ],
            [
             0.6666666666666666,
             "#ed7953"
            ],
            [
             0.7777777777777778,
             "#fb9f3a"
            ],
            [
             0.8888888888888888,
             "#fdca26"
            ],
            [
             1,
             "#f0f921"
            ]
           ]
          },
          "colorway": [
           "#636efa",
           "#EF553B",
           "#00cc96",
           "#ab63fa",
           "#FFA15A",
           "#19d3f3",
           "#FF6692",
           "#B6E880",
           "#FF97FF",
           "#FECB52"
          ],
          "font": {
           "color": "#2a3f5f"
          },
          "geo": {
           "bgcolor": "white",
           "lakecolor": "white",
           "landcolor": "white",
           "showlakes": true,
           "showland": true,
           "subunitcolor": "#C8D4E3"
          },
          "hoverlabel": {
           "align": "left"
          },
          "hovermode": "closest",
          "mapbox": {
           "style": "light"
          },
          "paper_bgcolor": "white",
          "plot_bgcolor": "white",
          "polar": {
           "angularaxis": {
            "gridcolor": "#EBF0F8",
            "linecolor": "#EBF0F8",
            "ticks": ""
           },
           "bgcolor": "white",
           "radialaxis": {
            "gridcolor": "#EBF0F8",
            "linecolor": "#EBF0F8",
            "ticks": ""
           }
          },
          "scene": {
           "xaxis": {
            "backgroundcolor": "white",
            "gridcolor": "#DFE8F3",
            "gridwidth": 2,
            "linecolor": "#EBF0F8",
            "showbackground": true,
            "ticks": "",
            "zerolinecolor": "#EBF0F8"
           },
           "yaxis": {
            "backgroundcolor": "white",
            "gridcolor": "#DFE8F3",
            "gridwidth": 2,
            "linecolor": "#EBF0F8",
            "showbackground": true,
            "ticks": "",
            "zerolinecolor": "#EBF0F8"
           },
           "zaxis": {
            "backgroundcolor": "white",
            "gridcolor": "#DFE8F3",
            "gridwidth": 2,
            "linecolor": "#EBF0F8",
            "showbackground": true,
            "ticks": "",
            "zerolinecolor": "#EBF0F8"
           }
          },
          "shapedefaults": {
           "line": {
            "color": "#2a3f5f"
           }
          },
          "ternary": {
           "aaxis": {
            "gridcolor": "#DFE8F3",
            "linecolor": "#A2B1C6",
            "ticks": ""
           },
           "baxis": {
            "gridcolor": "#DFE8F3",
            "linecolor": "#A2B1C6",
            "ticks": ""
           },
           "bgcolor": "white",
           "caxis": {
            "gridcolor": "#DFE8F3",
            "linecolor": "#A2B1C6",
            "ticks": ""
           }
          },
          "title": {
           "x": 0.05
          },
          "xaxis": {
           "automargin": true,
           "gridcolor": "#EBF0F8",
           "linecolor": "#EBF0F8",
           "ticks": "",
           "title": {
            "standoff": 15
           },
           "zerolinecolor": "#EBF0F8",
           "zerolinewidth": 2
          },
          "yaxis": {
           "automargin": true,
           "gridcolor": "#EBF0F8",
           "linecolor": "#EBF0F8",
           "ticks": "",
           "title": {
            "standoff": 15
           },
           "zerolinecolor": "#EBF0F8",
           "zerolinewidth": 2
          }
         }
        },
        "title": {
         "text": "Anzahl der Social - Media - Posts mit der Kombination: <br>Unwirksame Medikamente und Marktgebiet"
        },
        "width": 756,
        "xaxis": {
         "anchor": "y",
         "domain": [
          0,
          1
         ],
         "title": {
          "text": "Anzahl"
         }
        },
        "yaxis": {
         "anchor": "x",
         "domain": [
          0,
          1
         ],
         "title": {
          "text": "Marktgebiet"
         }
        }
       }
      }
     },
     "metadata": {},
     "output_type": "display_data"
    },
    {
     "data": {
      "application/vnd.plotly.v1+json": {
       "config": {
        "plotlyServerURL": "https://plot.ly"
       },
       "data": [
        {
         "alignmentgroup": "True",
         "bingroup": "y",
         "histfunc": "sum",
         "hovertemplate": "Unwirksame Medikamente=BUSCOPAN<br>sum of Anteil (normalized as percent)=%{x}<br>Marktgebiet=%{y}<extra></extra>",
         "legendgroup": "BUSCOPAN",
         "marker": {
          "color": "rgb(54, 112, 226)",
          "pattern": {
           "shape": ""
          }
         },
         "name": "BUSCOPAN",
         "offsetgroup": "BUSCOPAN",
         "orientation": "h",
         "showlegend": true,
         "textangle": 0,
         "texttemplate": "%{value:.0f}",
         "type": "histogram",
         "x": [
          0.1924557351809084,
          0.7313317936874518
         ],
         "xaxis": "x",
         "y": [
          "Andere",
          "Unbekannt"
         ],
         "yaxis": "y"
        },
        {
         "alignmentgroup": "True",
         "bingroup": "y",
         "histfunc": "sum",
         "hovertemplate": "Unwirksame Medikamente=CANESTEN GYN<br>sum of Anteil (normalized as percent)=%{x}<br>Marktgebiet=%{y}<extra></extra>",
         "legendgroup": "CANESTEN GYN",
         "marker": {
          "color": "rgb(54, 169, 226)",
          "pattern": {
           "shape": ""
          }
         },
         "name": "CANESTEN GYN",
         "offsetgroup": "CANESTEN GYN",
         "orientation": "h",
         "showlegend": true,
         "textangle": 0,
         "texttemplate": "%{value:.0f}",
         "type": "histogram",
         "x": [
          0.03849114703618168,
          0.6158583525789069
         ],
         "xaxis": "x",
         "y": [
          "Andere",
          "Unbekannt"
         ],
         "yaxis": "y"
        },
        {
         "alignmentgroup": "True",
         "bingroup": "y",
         "histfunc": "sum",
         "hovertemplate": "Unwirksame Medikamente=KADEFUNGIN<br>sum of Anteil (normalized as percent)=%{x}<br>Marktgebiet=%{y}<extra></extra>",
         "legendgroup": "KADEFUNGIN",
         "marker": {
          "color": "rgb(54, 226, 169)",
          "pattern": {
           "shape": ""
          }
         },
         "name": "KADEFUNGIN",
         "offsetgroup": "KADEFUNGIN",
         "orientation": "h",
         "showlegend": true,
         "textangle": 0,
         "texttemplate": "%{value:.0f}",
         "type": "histogram",
         "x": [
          0.4234026173979984,
          0.30792917628945343,
          2.5404157043879905
         ],
         "xaxis": "x",
         "y": [
          "Andere",
          "Falsche Diagnose",
          "Unbekannt"
         ],
         "yaxis": "y"
        },
        {
         "alignmentgroup": "True",
         "bingroup": "y",
         "histfunc": "sum",
         "hovertemplate": "Unwirksame Medikamente=KADEFUNGIN 3<br>sum of Anteil (normalized as percent)=%{x}<br>Marktgebiet=%{y}<extra></extra>",
         "legendgroup": "KADEFUNGIN 3",
         "marker": {
          "color": "rgb(112, 54, 226)",
          "pattern": {
           "shape": ""
          }
         },
         "name": "KADEFUNGIN 3",
         "offsetgroup": "KADEFUNGIN 3",
         "orientation": "h",
         "showlegend": true,
         "textangle": 0,
         "texttemplate": "%{value:.0f}",
         "type": "histogram",
         "x": [
          0.11547344110854503,
          0.4234026173979984
         ],
         "xaxis": "x",
         "y": [
          "Andere",
          "Unbekannt"
         ],
         "yaxis": "y"
        },
        {
         "alignmentgroup": "True",
         "bingroup": "y",
         "histfunc": "sum",
         "hovertemplate": "Unwirksame Medikamente=KADEFUNGIN BEFEUCHTUNG<br>sum of Anteil (normalized as percent)=%{x}<br>Marktgebiet=%{y}<extra></extra>",
         "legendgroup": "KADEFUNGIN BEFEUCHTUNG",
         "marker": {
          "color": "rgb(226, 54, 169)",
          "pattern": {
           "shape": ""
          }
         },
         "name": "KADEFUNGIN BEFEUCHTUNG",
         "offsetgroup": "KADEFUNGIN BEFEUCHTUNG",
         "orientation": "h",
         "showlegend": true,
         "textangle": 0,
         "texttemplate": "%{value:.0f}",
         "type": "histogram",
         "x": [
          0.03849114703618168,
          0.03849114703618168
         ],
         "xaxis": "x",
         "y": [
          "Andere",
          "Unbekannt"
         ],
         "yaxis": "y"
        },
        {
         "alignmentgroup": "True",
         "bingroup": "y",
         "histfunc": "sum",
         "hovertemplate": "Unwirksame Medikamente=KADEFEMIN INTIMPFLEGE<br>sum of Anteil (normalized as percent)=%{x}<br>Marktgebiet=%{y}<extra></extra>",
         "legendgroup": "KADEFEMIN INTIMPFLEGE",
         "marker": {
          "color": "rgb(169, 54, 226)",
          "pattern": {
           "shape": ""
          }
         },
         "name": "KADEFEMIN INTIMPFLEGE",
         "offsetgroup": "KADEFEMIN INTIMPFLEGE",
         "orientation": "h",
         "showlegend": true,
         "textangle": 0,
         "texttemplate": "%{value:.0f}",
         "type": "histogram",
         "x": [
          0.03849114703618168
         ],
         "xaxis": "x",
         "y": [
          "Unbekannt"
         ],
         "yaxis": "y"
        },
        {
         "alignmentgroup": "True",
         "bingroup": "y",
         "histfunc": "sum",
         "hovertemplate": "Unwirksame Medikamente=KADEFUNGIN 6<br>sum of Anteil (normalized as percent)=%{x}<br>Marktgebiet=%{y}<extra></extra>",
         "legendgroup": "KADEFUNGIN 6",
         "marker": {
          "color": "rgb(169, 226, 54)",
          "pattern": {
           "shape": ""
          }
         },
         "name": "KADEFUNGIN 6",
         "offsetgroup": "KADEFUNGIN 6",
         "orientation": "h",
         "showlegend": true,
         "textangle": 0,
         "texttemplate": "%{value:.0f}",
         "type": "histogram",
         "x": [
          0.11547344110854503
         ],
         "xaxis": "x",
         "y": [
          "Unbekannt"
         ],
         "yaxis": "y"
        },
        {
         "alignmentgroup": "True",
         "bingroup": "y",
         "histfunc": "sum",
         "hovertemplate": "Unwirksame Medikamente=VAGISAN<br>sum of Anteil (normalized as percent)=%{x}<br>Marktgebiet=%{y}<extra></extra>",
         "legendgroup": "VAGISAN",
         "marker": {
          "color": "rgb(204, 153, 255)",
          "pattern": {
           "shape": ""
          }
         },
         "name": "VAGISAN",
         "offsetgroup": "VAGISAN",
         "orientation": "h",
         "showlegend": true,
         "textangle": 0,
         "texttemplate": "%{value:.0f}",
         "type": "histogram",
         "x": [
          0.8852963818321785
         ],
         "xaxis": "x",
         "y": [
          "Unbekannt"
         ],
         "yaxis": "y"
        },
        {
         "alignmentgroup": "True",
         "bingroup": "y",
         "histfunc": "sum",
         "hovertemplate": "Unwirksame Medikamente=VAGISAN FEUCHTCREME<br>sum of Anteil (normalized as percent)=%{x}<br>Marktgebiet=%{y}<extra></extra>",
         "legendgroup": "VAGISAN FEUCHTCREME",
         "marker": {
          "color": "rgb(226, 226, 54)",
          "pattern": {
           "shape": ""
          }
         },
         "name": "VAGISAN FEUCHTCREME",
         "offsetgroup": "VAGISAN FEUCHTCREME",
         "orientation": "h",
         "showlegend": true,
         "textangle": 0,
         "texttemplate": "%{value:.0f}",
         "type": "histogram",
         "x": [
          0.11547344110854503
         ],
         "xaxis": "x",
         "y": [
          "Unbekannt"
         ],
         "yaxis": "y"
        },
        {
         "alignmentgroup": "True",
         "bingroup": "y",
         "histfunc": "sum",
         "hovertemplate": "Unwirksame Medikamente=VAGISAN MYKO<br>sum of Anteil (normalized as percent)=%{x}<br>Marktgebiet=%{y}<extra></extra>",
         "legendgroup": "VAGISAN MYKO",
         "marker": {
          "color": "rgb(54, 226, 112)",
          "pattern": {
           "shape": ""
          }
         },
         "name": "VAGISAN MYKO",
         "offsetgroup": "VAGISAN MYKO",
         "orientation": "h",
         "showlegend": true,
         "textangle": 0,
         "texttemplate": "%{value:.0f}",
         "type": "histogram",
         "x": [
          0.1924557351809084
         ],
         "xaxis": "x",
         "y": [
          "Unbekannt"
         ],
         "yaxis": "y"
        }
       ],
       "layout": {
        "annotations": [
         {
          "align": "left",
          "font": {
           "size": 9
          },
          "showarrow": false,
          "text": "Basierend auf 177 Social-Media-Konversationen aus öffentlich zugänglichen Foren <br>Deutschland, Januar 2013 – April 2023.",
          "textangle": 0,
          "x": -0.25,
          "xanchor": "left",
          "xref": "paper",
          "y": -0.39,
          "yref": "paper"
         }
        ],
        "autosize": false,
        "barmode": "relative",
        "barnorm": "percent",
        "height": 378,
        "legend": {
         "title": {
          "text": "Unwirksame Medikamente"
         },
         "tracegroupgap": 0
        },
        "template": {
         "data": {
          "bar": [
           {
            "error_x": {
             "color": "#2a3f5f"
            },
            "error_y": {
             "color": "#2a3f5f"
            },
            "marker": {
             "line": {
              "color": "white",
              "width": 0.5
             },
             "pattern": {
              "fillmode": "overlay",
              "size": 10,
              "solidity": 0.2
             }
            },
            "type": "bar"
           }
          ],
          "barpolar": [
           {
            "marker": {
             "line": {
              "color": "white",
              "width": 0.5
             },
             "pattern": {
              "fillmode": "overlay",
              "size": 10,
              "solidity": 0.2
             }
            },
            "type": "barpolar"
           }
          ],
          "carpet": [
           {
            "aaxis": {
             "endlinecolor": "#2a3f5f",
             "gridcolor": "#C8D4E3",
             "linecolor": "#C8D4E3",
             "minorgridcolor": "#C8D4E3",
             "startlinecolor": "#2a3f5f"
            },
            "baxis": {
             "endlinecolor": "#2a3f5f",
             "gridcolor": "#C8D4E3",
             "linecolor": "#C8D4E3",
             "minorgridcolor": "#C8D4E3",
             "startlinecolor": "#2a3f5f"
            },
            "type": "carpet"
           }
          ],
          "choropleth": [
           {
            "colorbar": {
             "outlinewidth": 0,
             "ticks": ""
            },
            "type": "choropleth"
           }
          ],
          "contour": [
           {
            "colorbar": {
             "outlinewidth": 0,
             "ticks": ""
            },
            "colorscale": [
             [
              0,
              "#0d0887"
             ],
             [
              0.1111111111111111,
              "#46039f"
             ],
             [
              0.2222222222222222,
              "#7201a8"
             ],
             [
              0.3333333333333333,
              "#9c179e"
             ],
             [
              0.4444444444444444,
              "#bd3786"
             ],
             [
              0.5555555555555556,
              "#d8576b"
             ],
             [
              0.6666666666666666,
              "#ed7953"
             ],
             [
              0.7777777777777778,
              "#fb9f3a"
             ],
             [
              0.8888888888888888,
              "#fdca26"
             ],
             [
              1,
              "#f0f921"
             ]
            ],
            "type": "contour"
           }
          ],
          "contourcarpet": [
           {
            "colorbar": {
             "outlinewidth": 0,
             "ticks": ""
            },
            "type": "contourcarpet"
           }
          ],
          "heatmap": [
           {
            "colorbar": {
             "outlinewidth": 0,
             "ticks": ""
            },
            "colorscale": [
             [
              0,
              "#0d0887"
             ],
             [
              0.1111111111111111,
              "#46039f"
             ],
             [
              0.2222222222222222,
              "#7201a8"
             ],
             [
              0.3333333333333333,
              "#9c179e"
             ],
             [
              0.4444444444444444,
              "#bd3786"
             ],
             [
              0.5555555555555556,
              "#d8576b"
             ],
             [
              0.6666666666666666,
              "#ed7953"
             ],
             [
              0.7777777777777778,
              "#fb9f3a"
             ],
             [
              0.8888888888888888,
              "#fdca26"
             ],
             [
              1,
              "#f0f921"
             ]
            ],
            "type": "heatmap"
           }
          ],
          "heatmapgl": [
           {
            "colorbar": {
             "outlinewidth": 0,
             "ticks": ""
            },
            "colorscale": [
             [
              0,
              "#0d0887"
             ],
             [
              0.1111111111111111,
              "#46039f"
             ],
             [
              0.2222222222222222,
              "#7201a8"
             ],
             [
              0.3333333333333333,
              "#9c179e"
             ],
             [
              0.4444444444444444,
              "#bd3786"
             ],
             [
              0.5555555555555556,
              "#d8576b"
             ],
             [
              0.6666666666666666,
              "#ed7953"
             ],
             [
              0.7777777777777778,
              "#fb9f3a"
             ],
             [
              0.8888888888888888,
              "#fdca26"
             ],
             [
              1,
              "#f0f921"
             ]
            ],
            "type": "heatmapgl"
           }
          ],
          "histogram": [
           {
            "marker": {
             "pattern": {
              "fillmode": "overlay",
              "size": 10,
              "solidity": 0.2
             }
            },
            "type": "histogram"
           }
          ],
          "histogram2d": [
           {
            "colorbar": {
             "outlinewidth": 0,
             "ticks": ""
            },
            "colorscale": [
             [
              0,
              "#0d0887"
             ],
             [
              0.1111111111111111,
              "#46039f"
             ],
             [
              0.2222222222222222,
              "#7201a8"
             ],
             [
              0.3333333333333333,
              "#9c179e"
             ],
             [
              0.4444444444444444,
              "#bd3786"
             ],
             [
              0.5555555555555556,
              "#d8576b"
             ],
             [
              0.6666666666666666,
              "#ed7953"
             ],
             [
              0.7777777777777778,
              "#fb9f3a"
             ],
             [
              0.8888888888888888,
              "#fdca26"
             ],
             [
              1,
              "#f0f921"
             ]
            ],
            "type": "histogram2d"
           }
          ],
          "histogram2dcontour": [
           {
            "colorbar": {
             "outlinewidth": 0,
             "ticks": ""
            },
            "colorscale": [
             [
              0,
              "#0d0887"
             ],
             [
              0.1111111111111111,
              "#46039f"
             ],
             [
              0.2222222222222222,
              "#7201a8"
             ],
             [
              0.3333333333333333,
              "#9c179e"
             ],
             [
              0.4444444444444444,
              "#bd3786"
             ],
             [
              0.5555555555555556,
              "#d8576b"
             ],
             [
              0.6666666666666666,
              "#ed7953"
             ],
             [
              0.7777777777777778,
              "#fb9f3a"
             ],
             [
              0.8888888888888888,
              "#fdca26"
             ],
             [
              1,
              "#f0f921"
             ]
            ],
            "type": "histogram2dcontour"
           }
          ],
          "mesh3d": [
           {
            "colorbar": {
             "outlinewidth": 0,
             "ticks": ""
            },
            "type": "mesh3d"
           }
          ],
          "parcoords": [
           {
            "line": {
             "colorbar": {
              "outlinewidth": 0,
              "ticks": ""
             }
            },
            "type": "parcoords"
           }
          ],
          "pie": [
           {
            "automargin": true,
            "type": "pie"
           }
          ],
          "scatter": [
           {
            "fillpattern": {
             "fillmode": "overlay",
             "size": 10,
             "solidity": 0.2
            },
            "type": "scatter"
           }
          ],
          "scatter3d": [
           {
            "line": {
             "colorbar": {
              "outlinewidth": 0,
              "ticks": ""
             }
            },
            "marker": {
             "colorbar": {
              "outlinewidth": 0,
              "ticks": ""
             }
            },
            "type": "scatter3d"
           }
          ],
          "scattercarpet": [
           {
            "marker": {
             "colorbar": {
              "outlinewidth": 0,
              "ticks": ""
             }
            },
            "type": "scattercarpet"
           }
          ],
          "scattergeo": [
           {
            "marker": {
             "colorbar": {
              "outlinewidth": 0,
              "ticks": ""
             }
            },
            "type": "scattergeo"
           }
          ],
          "scattergl": [
           {
            "marker": {
             "colorbar": {
              "outlinewidth": 0,
              "ticks": ""
             }
            },
            "type": "scattergl"
           }
          ],
          "scattermapbox": [
           {
            "marker": {
             "colorbar": {
              "outlinewidth": 0,
              "ticks": ""
             }
            },
            "type": "scattermapbox"
           }
          ],
          "scatterpolar": [
           {
            "marker": {
             "colorbar": {
              "outlinewidth": 0,
              "ticks": ""
             }
            },
            "type": "scatterpolar"
           }
          ],
          "scatterpolargl": [
           {
            "marker": {
             "colorbar": {
              "outlinewidth": 0,
              "ticks": ""
             }
            },
            "type": "scatterpolargl"
           }
          ],
          "scatterternary": [
           {
            "marker": {
             "colorbar": {
              "outlinewidth": 0,
              "ticks": ""
             }
            },
            "type": "scatterternary"
           }
          ],
          "surface": [
           {
            "colorbar": {
             "outlinewidth": 0,
             "ticks": ""
            },
            "colorscale": [
             [
              0,
              "#0d0887"
             ],
             [
              0.1111111111111111,
              "#46039f"
             ],
             [
              0.2222222222222222,
              "#7201a8"
             ],
             [
              0.3333333333333333,
              "#9c179e"
             ],
             [
              0.4444444444444444,
              "#bd3786"
             ],
             [
              0.5555555555555556,
              "#d8576b"
             ],
             [
              0.6666666666666666,
              "#ed7953"
             ],
             [
              0.7777777777777778,
              "#fb9f3a"
             ],
             [
              0.8888888888888888,
              "#fdca26"
             ],
             [
              1,
              "#f0f921"
             ]
            ],
            "type": "surface"
           }
          ],
          "table": [
           {
            "cells": {
             "fill": {
              "color": "#EBF0F8"
             },
             "line": {
              "color": "white"
             }
            },
            "header": {
             "fill": {
              "color": "#C8D4E3"
             },
             "line": {
              "color": "white"
             }
            },
            "type": "table"
           }
          ]
         },
         "layout": {
          "annotationdefaults": {
           "arrowcolor": "#2a3f5f",
           "arrowhead": 0,
           "arrowwidth": 1
          },
          "autotypenumbers": "strict",
          "coloraxis": {
           "colorbar": {
            "outlinewidth": 0,
            "ticks": ""
           }
          },
          "colorscale": {
           "diverging": [
            [
             0,
             "#8e0152"
            ],
            [
             0.1,
             "#c51b7d"
            ],
            [
             0.2,
             "#de77ae"
            ],
            [
             0.3,
             "#f1b6da"
            ],
            [
             0.4,
             "#fde0ef"
            ],
            [
             0.5,
             "#f7f7f7"
            ],
            [
             0.6,
             "#e6f5d0"
            ],
            [
             0.7,
             "#b8e186"
            ],
            [
             0.8,
             "#7fbc41"
            ],
            [
             0.9,
             "#4d9221"
            ],
            [
             1,
             "#276419"
            ]
           ],
           "sequential": [
            [
             0,
             "#0d0887"
            ],
            [
             0.1111111111111111,
             "#46039f"
            ],
            [
             0.2222222222222222,
             "#7201a8"
            ],
            [
             0.3333333333333333,
             "#9c179e"
            ],
            [
             0.4444444444444444,
             "#bd3786"
            ],
            [
             0.5555555555555556,
             "#d8576b"
            ],
            [
             0.6666666666666666,
             "#ed7953"
            ],
            [
             0.7777777777777778,
             "#fb9f3a"
            ],
            [
             0.8888888888888888,
             "#fdca26"
            ],
            [
             1,
             "#f0f921"
            ]
           ],
           "sequentialminus": [
            [
             0,
             "#0d0887"
            ],
            [
             0.1111111111111111,
             "#46039f"
            ],
            [
             0.2222222222222222,
             "#7201a8"
            ],
            [
             0.3333333333333333,
             "#9c179e"
            ],
            [
             0.4444444444444444,
             "#bd3786"
            ],
            [
             0.5555555555555556,
             "#d8576b"
            ],
            [
             0.6666666666666666,
             "#ed7953"
            ],
            [
             0.7777777777777778,
             "#fb9f3a"
            ],
            [
             0.8888888888888888,
             "#fdca26"
            ],
            [
             1,
             "#f0f921"
            ]
           ]
          },
          "colorway": [
           "#636efa",
           "#EF553B",
           "#00cc96",
           "#ab63fa",
           "#FFA15A",
           "#19d3f3",
           "#FF6692",
           "#B6E880",
           "#FF97FF",
           "#FECB52"
          ],
          "font": {
           "color": "#2a3f5f"
          },
          "geo": {
           "bgcolor": "white",
           "lakecolor": "white",
           "landcolor": "white",
           "showlakes": true,
           "showland": true,
           "subunitcolor": "#C8D4E3"
          },
          "hoverlabel": {
           "align": "left"
          },
          "hovermode": "closest",
          "mapbox": {
           "style": "light"
          },
          "paper_bgcolor": "white",
          "plot_bgcolor": "white",
          "polar": {
           "angularaxis": {
            "gridcolor": "#EBF0F8",
            "linecolor": "#EBF0F8",
            "ticks": ""
           },
           "bgcolor": "white",
           "radialaxis": {
            "gridcolor": "#EBF0F8",
            "linecolor": "#EBF0F8",
            "ticks": ""
           }
          },
          "scene": {
           "xaxis": {
            "backgroundcolor": "white",
            "gridcolor": "#DFE8F3",
            "gridwidth": 2,
            "linecolor": "#EBF0F8",
            "showbackground": true,
            "ticks": "",
            "zerolinecolor": "#EBF0F8"
           },
           "yaxis": {
            "backgroundcolor": "white",
            "gridcolor": "#DFE8F3",
            "gridwidth": 2,
            "linecolor": "#EBF0F8",
            "showbackground": true,
            "ticks": "",
            "zerolinecolor": "#EBF0F8"
           },
           "zaxis": {
            "backgroundcolor": "white",
            "gridcolor": "#DFE8F3",
            "gridwidth": 2,
            "linecolor": "#EBF0F8",
            "showbackground": true,
            "ticks": "",
            "zerolinecolor": "#EBF0F8"
           }
          },
          "shapedefaults": {
           "line": {
            "color": "#2a3f5f"
           }
          },
          "ternary": {
           "aaxis": {
            "gridcolor": "#DFE8F3",
            "linecolor": "#A2B1C6",
            "ticks": ""
           },
           "baxis": {
            "gridcolor": "#DFE8F3",
            "linecolor": "#A2B1C6",
            "ticks": ""
           },
           "bgcolor": "white",
           "caxis": {
            "gridcolor": "#DFE8F3",
            "linecolor": "#A2B1C6",
            "ticks": ""
           }
          },
          "title": {
           "x": 0.05
          },
          "xaxis": {
           "automargin": true,
           "gridcolor": "#EBF0F8",
           "linecolor": "#EBF0F8",
           "ticks": "",
           "title": {
            "standoff": 15
           },
           "zerolinecolor": "#EBF0F8",
           "zerolinewidth": 2
          },
          "yaxis": {
           "automargin": true,
           "gridcolor": "#EBF0F8",
           "linecolor": "#EBF0F8",
           "ticks": "",
           "title": {
            "standoff": 15
           },
           "zerolinecolor": "#EBF0F8",
           "zerolinewidth": 2
          }
         }
        },
        "title": {
         "text": "Anzahl der Social - Media - Posts mit der Kombination: <br>Unwirksame Medikamente und Marktgebiet"
        },
        "width": 756,
        "xaxis": {
         "anchor": "y",
         "domain": [
          0,
          1
         ],
         "title": {
          "text": "Anteil"
         }
        },
        "yaxis": {
         "anchor": "x",
         "domain": [
          0,
          1
         ],
         "title": {
          "text": "Marktgebiet"
         }
        }
       }
      }
     },
     "metadata": {},
     "output_type": "display_data"
    },
    {
     "name": "stdout",
     "output_type": "stream",
     "text": [
      "                 product_1 topic_1_product_helped_answer  Anzahl    Anteil\n",
      "0                 BUSCOPAN                            Ja      30  1.154734\n",
      "1                 BUSCOPAN                          Nein      27  1.039261\n",
      "2                 BUSCOPAN                        Unklar      35  1.347190\n",
      "3             CANESTEN GYN                            Ja      10  0.384911\n",
      "4             CANESTEN GYN                          Nein      19  0.731332\n",
      "5             CANESTEN GYN                        Unklar      13  0.500385\n",
      "6    KADEFEMIN INTIMPFLEGE                            Ja       1  0.038491\n",
      "7    KADEFEMIN INTIMPFLEGE                          Nein       2  0.076982\n",
      "8               KADEFUNGIN                            Ja      68  2.617398\n",
      "9               KADEFUNGIN                          Nein      90  3.464203\n",
      "10              KADEFUNGIN                        Unklar      92  3.541186\n",
      "11            KADEFUNGIN 3                            Ja      14  0.538876\n",
      "12            KADEFUNGIN 3                          Nein      14  0.538876\n",
      "13            KADEFUNGIN 3                        Unklar      12  0.461894\n",
      "14            KADEFUNGIN 6                            Ja       1  0.038491\n",
      "15            KADEFUNGIN 6                          Nein       4  0.153965\n",
      "16            KADEFUNGIN 6                        Unklar       1  0.038491\n",
      "17  KADEFUNGIN BEFEUCHTUNG                            Ja       4  0.153965\n",
      "18  KADEFUNGIN BEFEUCHTUNG                          Nein       2  0.076982\n",
      "19  KADEFUNGIN BEFEUCHTUNG                        Unklar       2  0.076982\n",
      "20                 VAGISAN                            Ja      28  1.077752\n",
      "21                 VAGISAN                          Nein      25  0.962279\n",
      "22                 VAGISAN                        Unklar      25  0.962279\n",
      "23     VAGISAN FEUCHTCREME                            Ja       5  0.192456\n",
      "24     VAGISAN FEUCHTCREME                          Nein       3  0.115473\n",
      "25     VAGISAN FEUCHTCREME                        Unklar       3  0.115473\n",
      "26           VAGISAN INTIM                        Unklar       1  0.038491\n",
      "27            VAGISAN MYKO                            Ja       8  0.307929\n",
      "28            VAGISAN MYKO                          Nein       6  0.230947\n",
      "29            VAGISAN MYKO                        Unklar       4  0.153965\n",
      "30          VAGISAN SCHUTZ                        Unklar       1  0.038491\n"
     ]
    },
    {
     "data": {
      "application/vnd.plotly.v1+json": {
       "config": {
        "plotlyServerURL": "https://plot.ly"
       },
       "data": [
        {
         "alignmentgroup": "True",
         "hovertemplate": "Wirksame Medikamente=Ja<br>Anzahl=%{x}<br>Hauptprodukten=%{y}<extra></extra>",
         "legendgroup": "Ja",
         "marker": {
          "color": "rgb(54, 112, 226)",
          "pattern": {
           "shape": ""
          }
         },
         "name": "Ja",
         "offsetgroup": "Ja",
         "orientation": "h",
         "showlegend": true,
         "textangle": 0,
         "textposition": "auto",
         "texttemplate": "%{x:.0f}",
         "type": "bar",
         "x": [
          30,
          10,
          1,
          68,
          14,
          1,
          4,
          28,
          5,
          8
         ],
         "xaxis": "x",
         "y": [
          "BUSCOPAN",
          "CANESTEN GYN",
          "KADEFEMIN INTIMPFLEGE",
          "KADEFUNGIN",
          "KADEFUNGIN 3",
          "KADEFUNGIN 6",
          "KADEFUNGIN BEFEUCHTUNG",
          "VAGISAN",
          "VAGISAN FEUCHTCREME",
          "VAGISAN MYKO"
         ],
         "yaxis": "y"
        },
        {
         "alignmentgroup": "True",
         "hovertemplate": "Wirksame Medikamente=Nein<br>Anzahl=%{x}<br>Hauptprodukten=%{y}<extra></extra>",
         "legendgroup": "Nein",
         "marker": {
          "color": "rgb(54, 169, 226)",
          "pattern": {
           "shape": ""
          }
         },
         "name": "Nein",
         "offsetgroup": "Nein",
         "orientation": "h",
         "showlegend": true,
         "textangle": 0,
         "textposition": "auto",
         "texttemplate": "%{x:.0f}",
         "type": "bar",
         "x": [
          27,
          19,
          2,
          90,
          14,
          4,
          2,
          25,
          3,
          6
         ],
         "xaxis": "x",
         "y": [
          "BUSCOPAN",
          "CANESTEN GYN",
          "KADEFEMIN INTIMPFLEGE",
          "KADEFUNGIN",
          "KADEFUNGIN 3",
          "KADEFUNGIN 6",
          "KADEFUNGIN BEFEUCHTUNG",
          "VAGISAN",
          "VAGISAN FEUCHTCREME",
          "VAGISAN MYKO"
         ],
         "yaxis": "y"
        },
        {
         "alignmentgroup": "True",
         "hovertemplate": "Wirksame Medikamente=Unklar<br>Anzahl=%{x}<br>Hauptprodukten=%{y}<extra></extra>",
         "legendgroup": "Unklar",
         "marker": {
          "color": "rgb(54, 226, 169)",
          "pattern": {
           "shape": ""
          }
         },
         "name": "Unklar",
         "offsetgroup": "Unklar",
         "orientation": "h",
         "showlegend": true,
         "textangle": 0,
         "textposition": "auto",
         "texttemplate": "%{x:.0f}",
         "type": "bar",
         "x": [
          35,
          13,
          92,
          12,
          1,
          2,
          25,
          3,
          1,
          4,
          1
         ],
         "xaxis": "x",
         "y": [
          "BUSCOPAN",
          "CANESTEN GYN",
          "KADEFUNGIN",
          "KADEFUNGIN 3",
          "KADEFUNGIN 6",
          "KADEFUNGIN BEFEUCHTUNG",
          "VAGISAN",
          "VAGISAN FEUCHTCREME",
          "VAGISAN INTIM",
          "VAGISAN MYKO",
          "VAGISAN SCHUTZ"
         ],
         "yaxis": "y"
        }
       ],
       "layout": {
        "annotations": [
         {
          "align": "left",
          "font": {
           "size": 9
          },
          "showarrow": false,
          "text": "Basierend auf 550 Social-Media-Konversationen aus öffentlich zugänglichen Foren <br>Deutschland, Januar 2013 – April 2023.",
          "textangle": 0,
          "x": -0.25,
          "xanchor": "left",
          "xref": "paper",
          "y": -0.39,
          "yref": "paper"
         }
        ],
        "autosize": false,
        "barmode": "relative",
        "height": 378,
        "legend": {
         "title": {
          "text": "Wirksame Medikamente"
         },
         "tracegroupgap": 0
        },
        "template": {
         "data": {
          "bar": [
           {
            "error_x": {
             "color": "#2a3f5f"
            },
            "error_y": {
             "color": "#2a3f5f"
            },
            "marker": {
             "line": {
              "color": "white",
              "width": 0.5
             },
             "pattern": {
              "fillmode": "overlay",
              "size": 10,
              "solidity": 0.2
             }
            },
            "type": "bar"
           }
          ],
          "barpolar": [
           {
            "marker": {
             "line": {
              "color": "white",
              "width": 0.5
             },
             "pattern": {
              "fillmode": "overlay",
              "size": 10,
              "solidity": 0.2
             }
            },
            "type": "barpolar"
           }
          ],
          "carpet": [
           {
            "aaxis": {
             "endlinecolor": "#2a3f5f",
             "gridcolor": "#C8D4E3",
             "linecolor": "#C8D4E3",
             "minorgridcolor": "#C8D4E3",
             "startlinecolor": "#2a3f5f"
            },
            "baxis": {
             "endlinecolor": "#2a3f5f",
             "gridcolor": "#C8D4E3",
             "linecolor": "#C8D4E3",
             "minorgridcolor": "#C8D4E3",
             "startlinecolor": "#2a3f5f"
            },
            "type": "carpet"
           }
          ],
          "choropleth": [
           {
            "colorbar": {
             "outlinewidth": 0,
             "ticks": ""
            },
            "type": "choropleth"
           }
          ],
          "contour": [
           {
            "colorbar": {
             "outlinewidth": 0,
             "ticks": ""
            },
            "colorscale": [
             [
              0,
              "#0d0887"
             ],
             [
              0.1111111111111111,
              "#46039f"
             ],
             [
              0.2222222222222222,
              "#7201a8"
             ],
             [
              0.3333333333333333,
              "#9c179e"
             ],
             [
              0.4444444444444444,
              "#bd3786"
             ],
             [
              0.5555555555555556,
              "#d8576b"
             ],
             [
              0.6666666666666666,
              "#ed7953"
             ],
             [
              0.7777777777777778,
              "#fb9f3a"
             ],
             [
              0.8888888888888888,
              "#fdca26"
             ],
             [
              1,
              "#f0f921"
             ]
            ],
            "type": "contour"
           }
          ],
          "contourcarpet": [
           {
            "colorbar": {
             "outlinewidth": 0,
             "ticks": ""
            },
            "type": "contourcarpet"
           }
          ],
          "heatmap": [
           {
            "colorbar": {
             "outlinewidth": 0,
             "ticks": ""
            },
            "colorscale": [
             [
              0,
              "#0d0887"
             ],
             [
              0.1111111111111111,
              "#46039f"
             ],
             [
              0.2222222222222222,
              "#7201a8"
             ],
             [
              0.3333333333333333,
              "#9c179e"
             ],
             [
              0.4444444444444444,
              "#bd3786"
             ],
             [
              0.5555555555555556,
              "#d8576b"
             ],
             [
              0.6666666666666666,
              "#ed7953"
             ],
             [
              0.7777777777777778,
              "#fb9f3a"
             ],
             [
              0.8888888888888888,
              "#fdca26"
             ],
             [
              1,
              "#f0f921"
             ]
            ],
            "type": "heatmap"
           }
          ],
          "heatmapgl": [
           {
            "colorbar": {
             "outlinewidth": 0,
             "ticks": ""
            },
            "colorscale": [
             [
              0,
              "#0d0887"
             ],
             [
              0.1111111111111111,
              "#46039f"
             ],
             [
              0.2222222222222222,
              "#7201a8"
             ],
             [
              0.3333333333333333,
              "#9c179e"
             ],
             [
              0.4444444444444444,
              "#bd3786"
             ],
             [
              0.5555555555555556,
              "#d8576b"
             ],
             [
              0.6666666666666666,
              "#ed7953"
             ],
             [
              0.7777777777777778,
              "#fb9f3a"
             ],
             [
              0.8888888888888888,
              "#fdca26"
             ],
             [
              1,
              "#f0f921"
             ]
            ],
            "type": "heatmapgl"
           }
          ],
          "histogram": [
           {
            "marker": {
             "pattern": {
              "fillmode": "overlay",
              "size": 10,
              "solidity": 0.2
             }
            },
            "type": "histogram"
           }
          ],
          "histogram2d": [
           {
            "colorbar": {
             "outlinewidth": 0,
             "ticks": ""
            },
            "colorscale": [
             [
              0,
              "#0d0887"
             ],
             [
              0.1111111111111111,
              "#46039f"
             ],
             [
              0.2222222222222222,
              "#7201a8"
             ],
             [
              0.3333333333333333,
              "#9c179e"
             ],
             [
              0.4444444444444444,
              "#bd3786"
             ],
             [
              0.5555555555555556,
              "#d8576b"
             ],
             [
              0.6666666666666666,
              "#ed7953"
             ],
             [
              0.7777777777777778,
              "#fb9f3a"
             ],
             [
              0.8888888888888888,
              "#fdca26"
             ],
             [
              1,
              "#f0f921"
             ]
            ],
            "type": "histogram2d"
           }
          ],
          "histogram2dcontour": [
           {
            "colorbar": {
             "outlinewidth": 0,
             "ticks": ""
            },
            "colorscale": [
             [
              0,
              "#0d0887"
             ],
             [
              0.1111111111111111,
              "#46039f"
             ],
             [
              0.2222222222222222,
              "#7201a8"
             ],
             [
              0.3333333333333333,
              "#9c179e"
             ],
             [
              0.4444444444444444,
              "#bd3786"
             ],
             [
              0.5555555555555556,
              "#d8576b"
             ],
             [
              0.6666666666666666,
              "#ed7953"
             ],
             [
              0.7777777777777778,
              "#fb9f3a"
             ],
             [
              0.8888888888888888,
              "#fdca26"
             ],
             [
              1,
              "#f0f921"
             ]
            ],
            "type": "histogram2dcontour"
           }
          ],
          "mesh3d": [
           {
            "colorbar": {
             "outlinewidth": 0,
             "ticks": ""
            },
            "type": "mesh3d"
           }
          ],
          "parcoords": [
           {
            "line": {
             "colorbar": {
              "outlinewidth": 0,
              "ticks": ""
             }
            },
            "type": "parcoords"
           }
          ],
          "pie": [
           {
            "automargin": true,
            "type": "pie"
           }
          ],
          "scatter": [
           {
            "fillpattern": {
             "fillmode": "overlay",
             "size": 10,
             "solidity": 0.2
            },
            "type": "scatter"
           }
          ],
          "scatter3d": [
           {
            "line": {
             "colorbar": {
              "outlinewidth": 0,
              "ticks": ""
             }
            },
            "marker": {
             "colorbar": {
              "outlinewidth": 0,
              "ticks": ""
             }
            },
            "type": "scatter3d"
           }
          ],
          "scattercarpet": [
           {
            "marker": {
             "colorbar": {
              "outlinewidth": 0,
              "ticks": ""
             }
            },
            "type": "scattercarpet"
           }
          ],
          "scattergeo": [
           {
            "marker": {
             "colorbar": {
              "outlinewidth": 0,
              "ticks": ""
             }
            },
            "type": "scattergeo"
           }
          ],
          "scattergl": [
           {
            "marker": {
             "colorbar": {
              "outlinewidth": 0,
              "ticks": ""
             }
            },
            "type": "scattergl"
           }
          ],
          "scattermapbox": [
           {
            "marker": {
             "colorbar": {
              "outlinewidth": 0,
              "ticks": ""
             }
            },
            "type": "scattermapbox"
           }
          ],
          "scatterpolar": [
           {
            "marker": {
             "colorbar": {
              "outlinewidth": 0,
              "ticks": ""
             }
            },
            "type": "scatterpolar"
           }
          ],
          "scatterpolargl": [
           {
            "marker": {
             "colorbar": {
              "outlinewidth": 0,
              "ticks": ""
             }
            },
            "type": "scatterpolargl"
           }
          ],
          "scatterternary": [
           {
            "marker": {
             "colorbar": {
              "outlinewidth": 0,
              "ticks": ""
             }
            },
            "type": "scatterternary"
           }
          ],
          "surface": [
           {
            "colorbar": {
             "outlinewidth": 0,
             "ticks": ""
            },
            "colorscale": [
             [
              0,
              "#0d0887"
             ],
             [
              0.1111111111111111,
              "#46039f"
             ],
             [
              0.2222222222222222,
              "#7201a8"
             ],
             [
              0.3333333333333333,
              "#9c179e"
             ],
             [
              0.4444444444444444,
              "#bd3786"
             ],
             [
              0.5555555555555556,
              "#d8576b"
             ],
             [
              0.6666666666666666,
              "#ed7953"
             ],
             [
              0.7777777777777778,
              "#fb9f3a"
             ],
             [
              0.8888888888888888,
              "#fdca26"
             ],
             [
              1,
              "#f0f921"
             ]
            ],
            "type": "surface"
           }
          ],
          "table": [
           {
            "cells": {
             "fill": {
              "color": "#EBF0F8"
             },
             "line": {
              "color": "white"
             }
            },
            "header": {
             "fill": {
              "color": "#C8D4E3"
             },
             "line": {
              "color": "white"
             }
            },
            "type": "table"
           }
          ]
         },
         "layout": {
          "annotationdefaults": {
           "arrowcolor": "#2a3f5f",
           "arrowhead": 0,
           "arrowwidth": 1
          },
          "autotypenumbers": "strict",
          "coloraxis": {
           "colorbar": {
            "outlinewidth": 0,
            "ticks": ""
           }
          },
          "colorscale": {
           "diverging": [
            [
             0,
             "#8e0152"
            ],
            [
             0.1,
             "#c51b7d"
            ],
            [
             0.2,
             "#de77ae"
            ],
            [
             0.3,
             "#f1b6da"
            ],
            [
             0.4,
             "#fde0ef"
            ],
            [
             0.5,
             "#f7f7f7"
            ],
            [
             0.6,
             "#e6f5d0"
            ],
            [
             0.7,
             "#b8e186"
            ],
            [
             0.8,
             "#7fbc41"
            ],
            [
             0.9,
             "#4d9221"
            ],
            [
             1,
             "#276419"
            ]
           ],
           "sequential": [
            [
             0,
             "#0d0887"
            ],
            [
             0.1111111111111111,
             "#46039f"
            ],
            [
             0.2222222222222222,
             "#7201a8"
            ],
            [
             0.3333333333333333,
             "#9c179e"
            ],
            [
             0.4444444444444444,
             "#bd3786"
            ],
            [
             0.5555555555555556,
             "#d8576b"
            ],
            [
             0.6666666666666666,
             "#ed7953"
            ],
            [
             0.7777777777777778,
             "#fb9f3a"
            ],
            [
             0.8888888888888888,
             "#fdca26"
            ],
            [
             1,
             "#f0f921"
            ]
           ],
           "sequentialminus": [
            [
             0,
             "#0d0887"
            ],
            [
             0.1111111111111111,
             "#46039f"
            ],
            [
             0.2222222222222222,
             "#7201a8"
            ],
            [
             0.3333333333333333,
             "#9c179e"
            ],
            [
             0.4444444444444444,
             "#bd3786"
            ],
            [
             0.5555555555555556,
             "#d8576b"
            ],
            [
             0.6666666666666666,
             "#ed7953"
            ],
            [
             0.7777777777777778,
             "#fb9f3a"
            ],
            [
             0.8888888888888888,
             "#fdca26"
            ],
            [
             1,
             "#f0f921"
            ]
           ]
          },
          "colorway": [
           "#636efa",
           "#EF553B",
           "#00cc96",
           "#ab63fa",
           "#FFA15A",
           "#19d3f3",
           "#FF6692",
           "#B6E880",
           "#FF97FF",
           "#FECB52"
          ],
          "font": {
           "color": "#2a3f5f"
          },
          "geo": {
           "bgcolor": "white",
           "lakecolor": "white",
           "landcolor": "white",
           "showlakes": true,
           "showland": true,
           "subunitcolor": "#C8D4E3"
          },
          "hoverlabel": {
           "align": "left"
          },
          "hovermode": "closest",
          "mapbox": {
           "style": "light"
          },
          "paper_bgcolor": "white",
          "plot_bgcolor": "white",
          "polar": {
           "angularaxis": {
            "gridcolor": "#EBF0F8",
            "linecolor": "#EBF0F8",
            "ticks": ""
           },
           "bgcolor": "white",
           "radialaxis": {
            "gridcolor": "#EBF0F8",
            "linecolor": "#EBF0F8",
            "ticks": ""
           }
          },
          "scene": {
           "xaxis": {
            "backgroundcolor": "white",
            "gridcolor": "#DFE8F3",
            "gridwidth": 2,
            "linecolor": "#EBF0F8",
            "showbackground": true,
            "ticks": "",
            "zerolinecolor": "#EBF0F8"
           },
           "yaxis": {
            "backgroundcolor": "white",
            "gridcolor": "#DFE8F3",
            "gridwidth": 2,
            "linecolor": "#EBF0F8",
            "showbackground": true,
            "ticks": "",
            "zerolinecolor": "#EBF0F8"
           },
           "zaxis": {
            "backgroundcolor": "white",
            "gridcolor": "#DFE8F3",
            "gridwidth": 2,
            "linecolor": "#EBF0F8",
            "showbackground": true,
            "ticks": "",
            "zerolinecolor": "#EBF0F8"
           }
          },
          "shapedefaults": {
           "line": {
            "color": "#2a3f5f"
           }
          },
          "ternary": {
           "aaxis": {
            "gridcolor": "#DFE8F3",
            "linecolor": "#A2B1C6",
            "ticks": ""
           },
           "baxis": {
            "gridcolor": "#DFE8F3",
            "linecolor": "#A2B1C6",
            "ticks": ""
           },
           "bgcolor": "white",
           "caxis": {
            "gridcolor": "#DFE8F3",
            "linecolor": "#A2B1C6",
            "ticks": ""
           }
          },
          "title": {
           "x": 0.05
          },
          "xaxis": {
           "automargin": true,
           "gridcolor": "#EBF0F8",
           "linecolor": "#EBF0F8",
           "ticks": "",
           "title": {
            "standoff": 15
           },
           "zerolinecolor": "#EBF0F8",
           "zerolinewidth": 2
          },
          "yaxis": {
           "automargin": true,
           "gridcolor": "#EBF0F8",
           "linecolor": "#EBF0F8",
           "ticks": "",
           "title": {
            "standoff": 15
           },
           "zerolinecolor": "#EBF0F8",
           "zerolinewidth": 2
          }
         }
        },
        "title": {
         "text": "Anzahl der Social - Media - Posts mit der Kombination: <br>Wirksame Medikamente und Hauptprodukten"
        },
        "width": 756,
        "xaxis": {
         "anchor": "y",
         "domain": [
          0,
          1
         ],
         "title": {
          "text": "Anzahl"
         }
        },
        "yaxis": {
         "anchor": "x",
         "domain": [
          0,
          1
         ],
         "title": {
          "text": "Hauptprodukten"
         }
        }
       }
      }
     },
     "metadata": {},
     "output_type": "display_data"
    },
    {
     "data": {
      "application/vnd.plotly.v1+json": {
       "config": {
        "plotlyServerURL": "https://plot.ly"
       },
       "data": [
        {
         "alignmentgroup": "True",
         "bingroup": "y",
         "histfunc": "sum",
         "hovertemplate": "Wirksame Medikamente=Ja<br>sum of Anteil (normalized as percent)=%{x}<br>Hauptprodukten=%{y}<extra></extra>",
         "legendgroup": "Ja",
         "marker": {
          "color": "rgb(54, 112, 226)",
          "pattern": {
           "shape": ""
          }
         },
         "name": "Ja",
         "offsetgroup": "Ja",
         "orientation": "h",
         "showlegend": true,
         "textangle": 0,
         "texttemplate": "%{value:.0f}",
         "type": "histogram",
         "x": [
          1.1547344110854503,
          0.3849114703618168,
          0.03849114703618168,
          2.617397998460354,
          0.5388760585065435,
          0.03849114703618168,
          0.15396458814472672,
          1.077752117013087,
          0.1924557351809084,
          0.30792917628945343
         ],
         "xaxis": "x",
         "y": [
          "BUSCOPAN",
          "CANESTEN GYN",
          "KADEFEMIN INTIMPFLEGE",
          "KADEFUNGIN",
          "KADEFUNGIN 3",
          "KADEFUNGIN 6",
          "KADEFUNGIN BEFEUCHTUNG",
          "VAGISAN",
          "VAGISAN FEUCHTCREME",
          "VAGISAN MYKO"
         ],
         "yaxis": "y"
        },
        {
         "alignmentgroup": "True",
         "bingroup": "y",
         "histfunc": "sum",
         "hovertemplate": "Wirksame Medikamente=Nein<br>sum of Anteil (normalized as percent)=%{x}<br>Hauptprodukten=%{y}<extra></extra>",
         "legendgroup": "Nein",
         "marker": {
          "color": "rgb(54, 169, 226)",
          "pattern": {
           "shape": ""
          }
         },
         "name": "Nein",
         "offsetgroup": "Nein",
         "orientation": "h",
         "showlegend": true,
         "textangle": 0,
         "texttemplate": "%{value:.0f}",
         "type": "histogram",
         "x": [
          1.0392609699769053,
          0.7313317936874518,
          0.07698229407236336,
          3.4642032332563506,
          0.5388760585065435,
          0.15396458814472672,
          0.07698229407236336,
          0.962278675904542,
          0.11547344110854503,
          0.23094688221709006
         ],
         "xaxis": "x",
         "y": [
          "BUSCOPAN",
          "CANESTEN GYN",
          "KADEFEMIN INTIMPFLEGE",
          "KADEFUNGIN",
          "KADEFUNGIN 3",
          "KADEFUNGIN 6",
          "KADEFUNGIN BEFEUCHTUNG",
          "VAGISAN",
          "VAGISAN FEUCHTCREME",
          "VAGISAN MYKO"
         ],
         "yaxis": "y"
        },
        {
         "alignmentgroup": "True",
         "bingroup": "y",
         "histfunc": "sum",
         "hovertemplate": "Wirksame Medikamente=Unklar<br>sum of Anteil (normalized as percent)=%{x}<br>Hauptprodukten=%{y}<extra></extra>",
         "legendgroup": "Unklar",
         "marker": {
          "color": "rgb(54, 226, 169)",
          "pattern": {
           "shape": ""
          }
         },
         "name": "Unklar",
         "offsetgroup": "Unklar",
         "orientation": "h",
         "showlegend": true,
         "textangle": 0,
         "texttemplate": "%{value:.0f}",
         "type": "histogram",
         "x": [
          1.3471901462663587,
          0.5003849114703618,
          3.541185527328714,
          0.4618937644341801,
          0.03849114703618168,
          0.07698229407236336,
          0.962278675904542,
          0.11547344110854503,
          0.03849114703618168,
          0.15396458814472672,
          0.03849114703618168
         ],
         "xaxis": "x",
         "y": [
          "BUSCOPAN",
          "CANESTEN GYN",
          "KADEFUNGIN",
          "KADEFUNGIN 3",
          "KADEFUNGIN 6",
          "KADEFUNGIN BEFEUCHTUNG",
          "VAGISAN",
          "VAGISAN FEUCHTCREME",
          "VAGISAN INTIM",
          "VAGISAN MYKO",
          "VAGISAN SCHUTZ"
         ],
         "yaxis": "y"
        }
       ],
       "layout": {
        "annotations": [
         {
          "align": "left",
          "font": {
           "size": 9
          },
          "showarrow": false,
          "text": "Basierend auf 550 Social-Media-Konversationen aus öffentlich zugänglichen Foren <br>Deutschland, Januar 2013 – April 2023.",
          "textangle": 0,
          "x": -0.25,
          "xanchor": "left",
          "xref": "paper",
          "y": -0.39,
          "yref": "paper"
         }
        ],
        "autosize": false,
        "barmode": "relative",
        "barnorm": "percent",
        "height": 378,
        "legend": {
         "title": {
          "text": "Wirksame Medikamente"
         },
         "tracegroupgap": 0
        },
        "template": {
         "data": {
          "bar": [
           {
            "error_x": {
             "color": "#2a3f5f"
            },
            "error_y": {
             "color": "#2a3f5f"
            },
            "marker": {
             "line": {
              "color": "white",
              "width": 0.5
             },
             "pattern": {
              "fillmode": "overlay",
              "size": 10,
              "solidity": 0.2
             }
            },
            "type": "bar"
           }
          ],
          "barpolar": [
           {
            "marker": {
             "line": {
              "color": "white",
              "width": 0.5
             },
             "pattern": {
              "fillmode": "overlay",
              "size": 10,
              "solidity": 0.2
             }
            },
            "type": "barpolar"
           }
          ],
          "carpet": [
           {
            "aaxis": {
             "endlinecolor": "#2a3f5f",
             "gridcolor": "#C8D4E3",
             "linecolor": "#C8D4E3",
             "minorgridcolor": "#C8D4E3",
             "startlinecolor": "#2a3f5f"
            },
            "baxis": {
             "endlinecolor": "#2a3f5f",
             "gridcolor": "#C8D4E3",
             "linecolor": "#C8D4E3",
             "minorgridcolor": "#C8D4E3",
             "startlinecolor": "#2a3f5f"
            },
            "type": "carpet"
           }
          ],
          "choropleth": [
           {
            "colorbar": {
             "outlinewidth": 0,
             "ticks": ""
            },
            "type": "choropleth"
           }
          ],
          "contour": [
           {
            "colorbar": {
             "outlinewidth": 0,
             "ticks": ""
            },
            "colorscale": [
             [
              0,
              "#0d0887"
             ],
             [
              0.1111111111111111,
              "#46039f"
             ],
             [
              0.2222222222222222,
              "#7201a8"
             ],
             [
              0.3333333333333333,
              "#9c179e"
             ],
             [
              0.4444444444444444,
              "#bd3786"
             ],
             [
              0.5555555555555556,
              "#d8576b"
             ],
             [
              0.6666666666666666,
              "#ed7953"
             ],
             [
              0.7777777777777778,
              "#fb9f3a"
             ],
             [
              0.8888888888888888,
              "#fdca26"
             ],
             [
              1,
              "#f0f921"
             ]
            ],
            "type": "contour"
           }
          ],
          "contourcarpet": [
           {
            "colorbar": {
             "outlinewidth": 0,
             "ticks": ""
            },
            "type": "contourcarpet"
           }
          ],
          "heatmap": [
           {
            "colorbar": {
             "outlinewidth": 0,
             "ticks": ""
            },
            "colorscale": [
             [
              0,
              "#0d0887"
             ],
             [
              0.1111111111111111,
              "#46039f"
             ],
             [
              0.2222222222222222,
              "#7201a8"
             ],
             [
              0.3333333333333333,
              "#9c179e"
             ],
             [
              0.4444444444444444,
              "#bd3786"
             ],
             [
              0.5555555555555556,
              "#d8576b"
             ],
             [
              0.6666666666666666,
              "#ed7953"
             ],
             [
              0.7777777777777778,
              "#fb9f3a"
             ],
             [
              0.8888888888888888,
              "#fdca26"
             ],
             [
              1,
              "#f0f921"
             ]
            ],
            "type": "heatmap"
           }
          ],
          "heatmapgl": [
           {
            "colorbar": {
             "outlinewidth": 0,
             "ticks": ""
            },
            "colorscale": [
             [
              0,
              "#0d0887"
             ],
             [
              0.1111111111111111,
              "#46039f"
             ],
             [
              0.2222222222222222,
              "#7201a8"
             ],
             [
              0.3333333333333333,
              "#9c179e"
             ],
             [
              0.4444444444444444,
              "#bd3786"
             ],
             [
              0.5555555555555556,
              "#d8576b"
             ],
             [
              0.6666666666666666,
              "#ed7953"
             ],
             [
              0.7777777777777778,
              "#fb9f3a"
             ],
             [
              0.8888888888888888,
              "#fdca26"
             ],
             [
              1,
              "#f0f921"
             ]
            ],
            "type": "heatmapgl"
           }
          ],
          "histogram": [
           {
            "marker": {
             "pattern": {
              "fillmode": "overlay",
              "size": 10,
              "solidity": 0.2
             }
            },
            "type": "histogram"
           }
          ],
          "histogram2d": [
           {
            "colorbar": {
             "outlinewidth": 0,
             "ticks": ""
            },
            "colorscale": [
             [
              0,
              "#0d0887"
             ],
             [
              0.1111111111111111,
              "#46039f"
             ],
             [
              0.2222222222222222,
              "#7201a8"
             ],
             [
              0.3333333333333333,
              "#9c179e"
             ],
             [
              0.4444444444444444,
              "#bd3786"
             ],
             [
              0.5555555555555556,
              "#d8576b"
             ],
             [
              0.6666666666666666,
              "#ed7953"
             ],
             [
              0.7777777777777778,
              "#fb9f3a"
             ],
             [
              0.8888888888888888,
              "#fdca26"
             ],
             [
              1,
              "#f0f921"
             ]
            ],
            "type": "histogram2d"
           }
          ],
          "histogram2dcontour": [
           {
            "colorbar": {
             "outlinewidth": 0,
             "ticks": ""
            },
            "colorscale": [
             [
              0,
              "#0d0887"
             ],
             [
              0.1111111111111111,
              "#46039f"
             ],
             [
              0.2222222222222222,
              "#7201a8"
             ],
             [
              0.3333333333333333,
              "#9c179e"
             ],
             [
              0.4444444444444444,
              "#bd3786"
             ],
             [
              0.5555555555555556,
              "#d8576b"
             ],
             [
              0.6666666666666666,
              "#ed7953"
             ],
             [
              0.7777777777777778,
              "#fb9f3a"
             ],
             [
              0.8888888888888888,
              "#fdca26"
             ],
             [
              1,
              "#f0f921"
             ]
            ],
            "type": "histogram2dcontour"
           }
          ],
          "mesh3d": [
           {
            "colorbar": {
             "outlinewidth": 0,
             "ticks": ""
            },
            "type": "mesh3d"
           }
          ],
          "parcoords": [
           {
            "line": {
             "colorbar": {
              "outlinewidth": 0,
              "ticks": ""
             }
            },
            "type": "parcoords"
           }
          ],
          "pie": [
           {
            "automargin": true,
            "type": "pie"
           }
          ],
          "scatter": [
           {
            "fillpattern": {
             "fillmode": "overlay",
             "size": 10,
             "solidity": 0.2
            },
            "type": "scatter"
           }
          ],
          "scatter3d": [
           {
            "line": {
             "colorbar": {
              "outlinewidth": 0,
              "ticks": ""
             }
            },
            "marker": {
             "colorbar": {
              "outlinewidth": 0,
              "ticks": ""
             }
            },
            "type": "scatter3d"
           }
          ],
          "scattercarpet": [
           {
            "marker": {
             "colorbar": {
              "outlinewidth": 0,
              "ticks": ""
             }
            },
            "type": "scattercarpet"
           }
          ],
          "scattergeo": [
           {
            "marker": {
             "colorbar": {
              "outlinewidth": 0,
              "ticks": ""
             }
            },
            "type": "scattergeo"
           }
          ],
          "scattergl": [
           {
            "marker": {
             "colorbar": {
              "outlinewidth": 0,
              "ticks": ""
             }
            },
            "type": "scattergl"
           }
          ],
          "scattermapbox": [
           {
            "marker": {
             "colorbar": {
              "outlinewidth": 0,
              "ticks": ""
             }
            },
            "type": "scattermapbox"
           }
          ],
          "scatterpolar": [
           {
            "marker": {
             "colorbar": {
              "outlinewidth": 0,
              "ticks": ""
             }
            },
            "type": "scatterpolar"
           }
          ],
          "scatterpolargl": [
           {
            "marker": {
             "colorbar": {
              "outlinewidth": 0,
              "ticks": ""
             }
            },
            "type": "scatterpolargl"
           }
          ],
          "scatterternary": [
           {
            "marker": {
             "colorbar": {
              "outlinewidth": 0,
              "ticks": ""
             }
            },
            "type": "scatterternary"
           }
          ],
          "surface": [
           {
            "colorbar": {
             "outlinewidth": 0,
             "ticks": ""
            },
            "colorscale": [
             [
              0,
              "#0d0887"
             ],
             [
              0.1111111111111111,
              "#46039f"
             ],
             [
              0.2222222222222222,
              "#7201a8"
             ],
             [
              0.3333333333333333,
              "#9c179e"
             ],
             [
              0.4444444444444444,
              "#bd3786"
             ],
             [
              0.5555555555555556,
              "#d8576b"
             ],
             [
              0.6666666666666666,
              "#ed7953"
             ],
             [
              0.7777777777777778,
              "#fb9f3a"
             ],
             [
              0.8888888888888888,
              "#fdca26"
             ],
             [
              1,
              "#f0f921"
             ]
            ],
            "type": "surface"
           }
          ],
          "table": [
           {
            "cells": {
             "fill": {
              "color": "#EBF0F8"
             },
             "line": {
              "color": "white"
             }
            },
            "header": {
             "fill": {
              "color": "#C8D4E3"
             },
             "line": {
              "color": "white"
             }
            },
            "type": "table"
           }
          ]
         },
         "layout": {
          "annotationdefaults": {
           "arrowcolor": "#2a3f5f",
           "arrowhead": 0,
           "arrowwidth": 1
          },
          "autotypenumbers": "strict",
          "coloraxis": {
           "colorbar": {
            "outlinewidth": 0,
            "ticks": ""
           }
          },
          "colorscale": {
           "diverging": [
            [
             0,
             "#8e0152"
            ],
            [
             0.1,
             "#c51b7d"
            ],
            [
             0.2,
             "#de77ae"
            ],
            [
             0.3,
             "#f1b6da"
            ],
            [
             0.4,
             "#fde0ef"
            ],
            [
             0.5,
             "#f7f7f7"
            ],
            [
             0.6,
             "#e6f5d0"
            ],
            [
             0.7,
             "#b8e186"
            ],
            [
             0.8,
             "#7fbc41"
            ],
            [
             0.9,
             "#4d9221"
            ],
            [
             1,
             "#276419"
            ]
           ],
           "sequential": [
            [
             0,
             "#0d0887"
            ],
            [
             0.1111111111111111,
             "#46039f"
            ],
            [
             0.2222222222222222,
             "#7201a8"
            ],
            [
             0.3333333333333333,
             "#9c179e"
            ],
            [
             0.4444444444444444,
             "#bd3786"
            ],
            [
             0.5555555555555556,
             "#d8576b"
            ],
            [
             0.6666666666666666,
             "#ed7953"
            ],
            [
             0.7777777777777778,
             "#fb9f3a"
            ],
            [
             0.8888888888888888,
             "#fdca26"
            ],
            [
             1,
             "#f0f921"
            ]
           ],
           "sequentialminus": [
            [
             0,
             "#0d0887"
            ],
            [
             0.1111111111111111,
             "#46039f"
            ],
            [
             0.2222222222222222,
             "#7201a8"
            ],
            [
             0.3333333333333333,
             "#9c179e"
            ],
            [
             0.4444444444444444,
             "#bd3786"
            ],
            [
             0.5555555555555556,
             "#d8576b"
            ],
            [
             0.6666666666666666,
             "#ed7953"
            ],
            [
             0.7777777777777778,
             "#fb9f3a"
            ],
            [
             0.8888888888888888,
             "#fdca26"
            ],
            [
             1,
             "#f0f921"
            ]
           ]
          },
          "colorway": [
           "#636efa",
           "#EF553B",
           "#00cc96",
           "#ab63fa",
           "#FFA15A",
           "#19d3f3",
           "#FF6692",
           "#B6E880",
           "#FF97FF",
           "#FECB52"
          ],
          "font": {
           "color": "#2a3f5f"
          },
          "geo": {
           "bgcolor": "white",
           "lakecolor": "white",
           "landcolor": "white",
           "showlakes": true,
           "showland": true,
           "subunitcolor": "#C8D4E3"
          },
          "hoverlabel": {
           "align": "left"
          },
          "hovermode": "closest",
          "mapbox": {
           "style": "light"
          },
          "paper_bgcolor": "white",
          "plot_bgcolor": "white",
          "polar": {
           "angularaxis": {
            "gridcolor": "#EBF0F8",
            "linecolor": "#EBF0F8",
            "ticks": ""
           },
           "bgcolor": "white",
           "radialaxis": {
            "gridcolor": "#EBF0F8",
            "linecolor": "#EBF0F8",
            "ticks": ""
           }
          },
          "scene": {
           "xaxis": {
            "backgroundcolor": "white",
            "gridcolor": "#DFE8F3",
            "gridwidth": 2,
            "linecolor": "#EBF0F8",
            "showbackground": true,
            "ticks": "",
            "zerolinecolor": "#EBF0F8"
           },
           "yaxis": {
            "backgroundcolor": "white",
            "gridcolor": "#DFE8F3",
            "gridwidth": 2,
            "linecolor": "#EBF0F8",
            "showbackground": true,
            "ticks": "",
            "zerolinecolor": "#EBF0F8"
           },
           "zaxis": {
            "backgroundcolor": "white",
            "gridcolor": "#DFE8F3",
            "gridwidth": 2,
            "linecolor": "#EBF0F8",
            "showbackground": true,
            "ticks": "",
            "zerolinecolor": "#EBF0F8"
           }
          },
          "shapedefaults": {
           "line": {
            "color": "#2a3f5f"
           }
          },
          "ternary": {
           "aaxis": {
            "gridcolor": "#DFE8F3",
            "linecolor": "#A2B1C6",
            "ticks": ""
           },
           "baxis": {
            "gridcolor": "#DFE8F3",
            "linecolor": "#A2B1C6",
            "ticks": ""
           },
           "bgcolor": "white",
           "caxis": {
            "gridcolor": "#DFE8F3",
            "linecolor": "#A2B1C6",
            "ticks": ""
           }
          },
          "title": {
           "x": 0.05
          },
          "xaxis": {
           "automargin": true,
           "gridcolor": "#EBF0F8",
           "linecolor": "#EBF0F8",
           "ticks": "",
           "title": {
            "standoff": 15
           },
           "zerolinecolor": "#EBF0F8",
           "zerolinewidth": 2
          },
          "yaxis": {
           "automargin": true,
           "gridcolor": "#EBF0F8",
           "linecolor": "#EBF0F8",
           "ticks": "",
           "title": {
            "standoff": 15
           },
           "zerolinecolor": "#EBF0F8",
           "zerolinewidth": 2
          }
         }
        },
        "title": {
         "text": "Anzahl der Social - Media - Posts mit der Kombination: <br>Wirksame Medikamente und Hauptprodukten"
        },
        "width": 756,
        "xaxis": {
         "anchor": "y",
         "domain": [
          0,
          1
         ],
         "title": {
          "text": "Anteil"
         }
        },
        "yaxis": {
         "anchor": "x",
         "domain": [
          0,
          1
         ],
         "title": {
          "text": "Hauptprodukten"
         }
        }
       }
      }
     },
     "metadata": {},
     "output_type": "display_data"
    },
    {
     "name": "stdout",
     "output_type": "stream",
     "text": [
      "              product_1           transition_reasons_against_old_1  Anzahl    Anteil\n",
      "0              BUSCOPAN                                  Müdigkeit       1  0.038491\n",
      "1              BUSCOPAN                             Nebenwirkungen       1  0.038491\n",
      "2              BUSCOPAN                    sonstige Nebenwirkungen       1  0.038491\n",
      "3          CANESTEN GYN                              Fehldiagnose        1  0.038491\n",
      "4          CANESTEN GYN             Medikament hilft nicht (genug)      10  0.384911\n",
      "5          CANESTEN GYN                             Nebenwirkungen       1  0.038491\n",
      "6          CANESTEN GYN              Wirkverlust/Resistenzbildung        1  0.038491\n",
      "7            KADEFUNGIN    Eintritt in neues Stadium der Krankheit       2  0.076982\n",
      "8            KADEFUNGIN                                Empfehlung        3  0.115473\n",
      "9            KADEFUNGIN                              Fehldiagnose        3  0.115473\n",
      "10           KADEFUNGIN           Krankheit hat sich verschlimmert       2  0.076982\n",
      "11           KADEFUNGIN             Medikament hilft nicht (genug)      27  1.039261\n",
      "12           KADEFUNGIN                             Nebenwirkungen       3  0.115473\n",
      "13           KADEFUNGIN                Schwangerschaft / Stillzeit       1  0.038491\n",
      "14           KADEFUNGIN              Wirkverlust/Resistenzbildung        5  0.192456\n",
      "15           KADEFUNGIN  andere Krankheit, Operation, Überlagerung       2  0.076982\n",
      "16           KADEFUNGIN              neu hinzugekommene Erkrankung       1  0.038491\n",
      "17           KADEFUNGIN                    sonstige Nebenwirkungen       1  0.038491\n",
      "18         KADEFUNGIN 3    Eintritt in neues Stadium der Krankheit       1  0.038491\n",
      "19         KADEFUNGIN 3           Krankheit hat sich verschlimmert       1  0.038491\n",
      "20         KADEFUNGIN 3             Medikament hilft nicht (genug)       4  0.153965\n",
      "21         KADEFUNGIN 3  andere Krankheit, Operation, Überlagerung       1  0.038491\n",
      "22         KADEFUNGIN 3              neu hinzugekommene Erkrankung       1  0.038491\n",
      "23         KADEFUNGIN 6             Medikament hilft nicht (genug)       1  0.038491\n",
      "24              VAGISAN             Medikament hilft nicht (genug)      10  0.384911\n",
      "25              VAGISAN                             Nebenwirkungen       1  0.038491\n",
      "26              VAGISAN                Schwangerschaft / Stillzeit       1  0.038491\n",
      "27              VAGISAN              Wirkverlust/Resistenzbildung        1  0.038491\n",
      "28  VAGISAN FEUCHTCREME             Medikament hilft nicht (genug)       1  0.038491\n",
      "29         VAGISAN MYKO             Medikament hilft nicht (genug)       4  0.153965\n",
      "30         VAGISAN MYKO              Wirkverlust/Resistenzbildung        1  0.038491\n"
     ]
    },
    {
     "data": {
      "application/vnd.plotly.v1+json": {
       "config": {
        "plotlyServerURL": "https://plot.ly"
       },
       "data": [
        {
         "alignmentgroup": "True",
         "hovertemplate": "Gründe für den Wechsel=Müdigkeit<br>Anzahl=%{x}<br>Hauptprodukten=%{y}<extra></extra>",
         "legendgroup": "Müdigkeit",
         "marker": {
          "color": "rgb(54, 112, 226)",
          "pattern": {
           "shape": ""
          }
         },
         "name": "Müdigkeit",
         "offsetgroup": "Müdigkeit",
         "orientation": "h",
         "showlegend": true,
         "textangle": 0,
         "textposition": "auto",
         "texttemplate": "%{x:.0f}",
         "type": "bar",
         "x": [
          1
         ],
         "xaxis": "x",
         "y": [
          "BUSCOPAN"
         ],
         "yaxis": "y"
        },
        {
         "alignmentgroup": "True",
         "hovertemplate": "Gründe für den Wechsel=Nebenwirkungen<br>Anzahl=%{x}<br>Hauptprodukten=%{y}<extra></extra>",
         "legendgroup": "Nebenwirkungen",
         "marker": {
          "color": "rgb(54, 169, 226)",
          "pattern": {
           "shape": ""
          }
         },
         "name": "Nebenwirkungen",
         "offsetgroup": "Nebenwirkungen",
         "orientation": "h",
         "showlegend": true,
         "textangle": 0,
         "textposition": "auto",
         "texttemplate": "%{x:.0f}",
         "type": "bar",
         "x": [
          1,
          1,
          3,
          1
         ],
         "xaxis": "x",
         "y": [
          "BUSCOPAN",
          "CANESTEN GYN",
          "KADEFUNGIN",
          "VAGISAN"
         ],
         "yaxis": "y"
        },
        {
         "alignmentgroup": "True",
         "hovertemplate": "Gründe für den Wechsel=sonstige Nebenwirkungen<br>Anzahl=%{x}<br>Hauptprodukten=%{y}<extra></extra>",
         "legendgroup": "sonstige Nebenwirkungen",
         "marker": {
          "color": "rgb(54, 226, 169)",
          "pattern": {
           "shape": ""
          }
         },
         "name": "sonstige Nebenwirkungen",
         "offsetgroup": "sonstige Nebenwirkungen",
         "orientation": "h",
         "showlegend": true,
         "textangle": 0,
         "textposition": "auto",
         "texttemplate": "%{x:.0f}",
         "type": "bar",
         "x": [
          1,
          1
         ],
         "xaxis": "x",
         "y": [
          "BUSCOPAN",
          "KADEFUNGIN"
         ],
         "yaxis": "y"
        },
        {
         "alignmentgroup": "True",
         "hovertemplate": "Gründe für den Wechsel=Fehldiagnose <br>Anzahl=%{x}<br>Hauptprodukten=%{y}<extra></extra>",
         "legendgroup": "Fehldiagnose ",
         "marker": {
          "color": "rgb(112, 54, 226)",
          "pattern": {
           "shape": ""
          }
         },
         "name": "Fehldiagnose ",
         "offsetgroup": "Fehldiagnose ",
         "orientation": "h",
         "showlegend": true,
         "textangle": 0,
         "textposition": "auto",
         "texttemplate": "%{x:.0f}",
         "type": "bar",
         "x": [
          1,
          3
         ],
         "xaxis": "x",
         "y": [
          "CANESTEN GYN",
          "KADEFUNGIN"
         ],
         "yaxis": "y"
        },
        {
         "alignmentgroup": "True",
         "hovertemplate": "Gründe für den Wechsel=Medikament hilft nicht (genug)<br>Anzahl=%{x}<br>Hauptprodukten=%{y}<extra></extra>",
         "legendgroup": "Medikament hilft nicht (genug)",
         "marker": {
          "color": "rgb(226, 54, 169)",
          "pattern": {
           "shape": ""
          }
         },
         "name": "Medikament hilft nicht (genug)",
         "offsetgroup": "Medikament hilft nicht (genug)",
         "orientation": "h",
         "showlegend": true,
         "textangle": 0,
         "textposition": "auto",
         "texttemplate": "%{x:.0f}",
         "type": "bar",
         "x": [
          10,
          27,
          4,
          1,
          10,
          1,
          4
         ],
         "xaxis": "x",
         "y": [
          "CANESTEN GYN",
          "KADEFUNGIN",
          "KADEFUNGIN 3",
          "KADEFUNGIN 6",
          "VAGISAN",
          "VAGISAN FEUCHTCREME",
          "VAGISAN MYKO"
         ],
         "yaxis": "y"
        },
        {
         "alignmentgroup": "True",
         "hovertemplate": "Gründe für den Wechsel=Wirkverlust/Resistenzbildung <br>Anzahl=%{x}<br>Hauptprodukten=%{y}<extra></extra>",
         "legendgroup": "Wirkverlust/Resistenzbildung ",
         "marker": {
          "color": "rgb(169, 54, 226)",
          "pattern": {
           "shape": ""
          }
         },
         "name": "Wirkverlust/Resistenzbildung ",
         "offsetgroup": "Wirkverlust/Resistenzbildung ",
         "orientation": "h",
         "showlegend": true,
         "textangle": 0,
         "textposition": "auto",
         "texttemplate": "%{x:.0f}",
         "type": "bar",
         "x": [
          1,
          5,
          1,
          1
         ],
         "xaxis": "x",
         "y": [
          "CANESTEN GYN",
          "KADEFUNGIN",
          "VAGISAN",
          "VAGISAN MYKO"
         ],
         "yaxis": "y"
        },
        {
         "alignmentgroup": "True",
         "hovertemplate": "Gründe für den Wechsel=Eintritt in neues Stadium der Krankheit<br>Anzahl=%{x}<br>Hauptprodukten=%{y}<extra></extra>",
         "legendgroup": "Eintritt in neues Stadium der Krankheit",
         "marker": {
          "color": "rgb(169, 226, 54)",
          "pattern": {
           "shape": ""
          }
         },
         "name": "Eintritt in neues Stadium der Krankheit",
         "offsetgroup": "Eintritt in neues Stadium der Krankheit",
         "orientation": "h",
         "showlegend": true,
         "textangle": 0,
         "textposition": "auto",
         "texttemplate": "%{x:.0f}",
         "type": "bar",
         "x": [
          2,
          1
         ],
         "xaxis": "x",
         "y": [
          "KADEFUNGIN",
          "KADEFUNGIN 3"
         ],
         "yaxis": "y"
        },
        {
         "alignmentgroup": "True",
         "hovertemplate": "Gründe für den Wechsel=Empfehlung <br>Anzahl=%{x}<br>Hauptprodukten=%{y}<extra></extra>",
         "legendgroup": "Empfehlung ",
         "marker": {
          "color": "rgb(204, 153, 255)",
          "pattern": {
           "shape": ""
          }
         },
         "name": "Empfehlung ",
         "offsetgroup": "Empfehlung ",
         "orientation": "h",
         "showlegend": true,
         "textangle": 0,
         "textposition": "auto",
         "texttemplate": "%{x:.0f}",
         "type": "bar",
         "x": [
          3
         ],
         "xaxis": "x",
         "y": [
          "KADEFUNGIN"
         ],
         "yaxis": "y"
        },
        {
         "alignmentgroup": "True",
         "hovertemplate": "Gründe für den Wechsel=Krankheit hat sich verschlimmert<br>Anzahl=%{x}<br>Hauptprodukten=%{y}<extra></extra>",
         "legendgroup": "Krankheit hat sich verschlimmert",
         "marker": {
          "color": "rgb(226, 226, 54)",
          "pattern": {
           "shape": ""
          }
         },
         "name": "Krankheit hat sich verschlimmert",
         "offsetgroup": "Krankheit hat sich verschlimmert",
         "orientation": "h",
         "showlegend": true,
         "textangle": 0,
         "textposition": "auto",
         "texttemplate": "%{x:.0f}",
         "type": "bar",
         "x": [
          2,
          1
         ],
         "xaxis": "x",
         "y": [
          "KADEFUNGIN",
          "KADEFUNGIN 3"
         ],
         "yaxis": "y"
        },
        {
         "alignmentgroup": "True",
         "hovertemplate": "Gründe für den Wechsel=Schwangerschaft / Stillzeit<br>Anzahl=%{x}<br>Hauptprodukten=%{y}<extra></extra>",
         "legendgroup": "Schwangerschaft / Stillzeit",
         "marker": {
          "color": "rgb(54, 226, 112)",
          "pattern": {
           "shape": ""
          }
         },
         "name": "Schwangerschaft / Stillzeit",
         "offsetgroup": "Schwangerschaft / Stillzeit",
         "orientation": "h",
         "showlegend": true,
         "textangle": 0,
         "textposition": "auto",
         "texttemplate": "%{x:.0f}",
         "type": "bar",
         "x": [
          1,
          1
         ],
         "xaxis": "x",
         "y": [
          "KADEFUNGIN",
          "VAGISAN"
         ],
         "yaxis": "y"
        },
        {
         "alignmentgroup": "True",
         "hovertemplate": "Gründe für den Wechsel=andere Krankheit, Operation, Überlagerung<br>Anzahl=%{x}<br>Hauptprodukten=%{y}<extra></extra>",
         "legendgroup": "andere Krankheit, Operation, Überlagerung",
         "marker": {
          "color": "rgb(236, 219, 150)",
          "pattern": {
           "shape": ""
          }
         },
         "name": "andere Krankheit, Operation, Überlagerung",
         "offsetgroup": "andere Krankheit, Operation, Überlagerung",
         "orientation": "h",
         "showlegend": true,
         "textangle": 0,
         "textposition": "auto",
         "texttemplate": "%{x:.0f}",
         "type": "bar",
         "x": [
          2,
          1
         ],
         "xaxis": "x",
         "y": [
          "KADEFUNGIN",
          "KADEFUNGIN 3"
         ],
         "yaxis": "y"
        },
        {
         "alignmentgroup": "True",
         "hovertemplate": "Gründe für den Wechsel=neu hinzugekommene Erkrankung<br>Anzahl=%{x}<br>Hauptprodukten=%{y}<extra></extra>",
         "legendgroup": "neu hinzugekommene Erkrankung",
         "marker": {
          "color": "rgb(54, 112, 226)",
          "pattern": {
           "shape": ""
          }
         },
         "name": "neu hinzugekommene Erkrankung",
         "offsetgroup": "neu hinzugekommene Erkrankung",
         "orientation": "h",
         "showlegend": true,
         "textangle": 0,
         "textposition": "auto",
         "texttemplate": "%{x:.0f}",
         "type": "bar",
         "x": [
          1,
          1
         ],
         "xaxis": "x",
         "y": [
          "KADEFUNGIN",
          "KADEFUNGIN 3"
         ],
         "yaxis": "y"
        }
       ],
       "layout": {
        "annotations": [
         {
          "align": "left",
          "font": {
           "size": 9
          },
          "showarrow": false,
          "text": "Basierend auf 94 Social-Media-Konversationen aus öffentlich zugänglichen Foren <br>Deutschland, Januar 2013 – April 2023.",
          "textangle": 0,
          "x": -0.25,
          "xanchor": "left",
          "xref": "paper",
          "y": -0.39,
          "yref": "paper"
         }
        ],
        "autosize": false,
        "barmode": "relative",
        "height": 378,
        "legend": {
         "title": {
          "text": "Gründe für den Wechsel"
         },
         "tracegroupgap": 0
        },
        "template": {
         "data": {
          "bar": [
           {
            "error_x": {
             "color": "#2a3f5f"
            },
            "error_y": {
             "color": "#2a3f5f"
            },
            "marker": {
             "line": {
              "color": "white",
              "width": 0.5
             },
             "pattern": {
              "fillmode": "overlay",
              "size": 10,
              "solidity": 0.2
             }
            },
            "type": "bar"
           }
          ],
          "barpolar": [
           {
            "marker": {
             "line": {
              "color": "white",
              "width": 0.5
             },
             "pattern": {
              "fillmode": "overlay",
              "size": 10,
              "solidity": 0.2
             }
            },
            "type": "barpolar"
           }
          ],
          "carpet": [
           {
            "aaxis": {
             "endlinecolor": "#2a3f5f",
             "gridcolor": "#C8D4E3",
             "linecolor": "#C8D4E3",
             "minorgridcolor": "#C8D4E3",
             "startlinecolor": "#2a3f5f"
            },
            "baxis": {
             "endlinecolor": "#2a3f5f",
             "gridcolor": "#C8D4E3",
             "linecolor": "#C8D4E3",
             "minorgridcolor": "#C8D4E3",
             "startlinecolor": "#2a3f5f"
            },
            "type": "carpet"
           }
          ],
          "choropleth": [
           {
            "colorbar": {
             "outlinewidth": 0,
             "ticks": ""
            },
            "type": "choropleth"
           }
          ],
          "contour": [
           {
            "colorbar": {
             "outlinewidth": 0,
             "ticks": ""
            },
            "colorscale": [
             [
              0,
              "#0d0887"
             ],
             [
              0.1111111111111111,
              "#46039f"
             ],
             [
              0.2222222222222222,
              "#7201a8"
             ],
             [
              0.3333333333333333,
              "#9c179e"
             ],
             [
              0.4444444444444444,
              "#bd3786"
             ],
             [
              0.5555555555555556,
              "#d8576b"
             ],
             [
              0.6666666666666666,
              "#ed7953"
             ],
             [
              0.7777777777777778,
              "#fb9f3a"
             ],
             [
              0.8888888888888888,
              "#fdca26"
             ],
             [
              1,
              "#f0f921"
             ]
            ],
            "type": "contour"
           }
          ],
          "contourcarpet": [
           {
            "colorbar": {
             "outlinewidth": 0,
             "ticks": ""
            },
            "type": "contourcarpet"
           }
          ],
          "heatmap": [
           {
            "colorbar": {
             "outlinewidth": 0,
             "ticks": ""
            },
            "colorscale": [
             [
              0,
              "#0d0887"
             ],
             [
              0.1111111111111111,
              "#46039f"
             ],
             [
              0.2222222222222222,
              "#7201a8"
             ],
             [
              0.3333333333333333,
              "#9c179e"
             ],
             [
              0.4444444444444444,
              "#bd3786"
             ],
             [
              0.5555555555555556,
              "#d8576b"
             ],
             [
              0.6666666666666666,
              "#ed7953"
             ],
             [
              0.7777777777777778,
              "#fb9f3a"
             ],
             [
              0.8888888888888888,
              "#fdca26"
             ],
             [
              1,
              "#f0f921"
             ]
            ],
            "type": "heatmap"
           }
          ],
          "heatmapgl": [
           {
            "colorbar": {
             "outlinewidth": 0,
             "ticks": ""
            },
            "colorscale": [
             [
              0,
              "#0d0887"
             ],
             [
              0.1111111111111111,
              "#46039f"
             ],
             [
              0.2222222222222222,
              "#7201a8"
             ],
             [
              0.3333333333333333,
              "#9c179e"
             ],
             [
              0.4444444444444444,
              "#bd3786"
             ],
             [
              0.5555555555555556,
              "#d8576b"
             ],
             [
              0.6666666666666666,
              "#ed7953"
             ],
             [
              0.7777777777777778,
              "#fb9f3a"
             ],
             [
              0.8888888888888888,
              "#fdca26"
             ],
             [
              1,
              "#f0f921"
             ]
            ],
            "type": "heatmapgl"
           }
          ],
          "histogram": [
           {
            "marker": {
             "pattern": {
              "fillmode": "overlay",
              "size": 10,
              "solidity": 0.2
             }
            },
            "type": "histogram"
           }
          ],
          "histogram2d": [
           {
            "colorbar": {
             "outlinewidth": 0,
             "ticks": ""
            },
            "colorscale": [
             [
              0,
              "#0d0887"
             ],
             [
              0.1111111111111111,
              "#46039f"
             ],
             [
              0.2222222222222222,
              "#7201a8"
             ],
             [
              0.3333333333333333,
              "#9c179e"
             ],
             [
              0.4444444444444444,
              "#bd3786"
             ],
             [
              0.5555555555555556,
              "#d8576b"
             ],
             [
              0.6666666666666666,
              "#ed7953"
             ],
             [
              0.7777777777777778,
              "#fb9f3a"
             ],
             [
              0.8888888888888888,
              "#fdca26"
             ],
             [
              1,
              "#f0f921"
             ]
            ],
            "type": "histogram2d"
           }
          ],
          "histogram2dcontour": [
           {
            "colorbar": {
             "outlinewidth": 0,
             "ticks": ""
            },
            "colorscale": [
             [
              0,
              "#0d0887"
             ],
             [
              0.1111111111111111,
              "#46039f"
             ],
             [
              0.2222222222222222,
              "#7201a8"
             ],
             [
              0.3333333333333333,
              "#9c179e"
             ],
             [
              0.4444444444444444,
              "#bd3786"
             ],
             [
              0.5555555555555556,
              "#d8576b"
             ],
             [
              0.6666666666666666,
              "#ed7953"
             ],
             [
              0.7777777777777778,
              "#fb9f3a"
             ],
             [
              0.8888888888888888,
              "#fdca26"
             ],
             [
              1,
              "#f0f921"
             ]
            ],
            "type": "histogram2dcontour"
           }
          ],
          "mesh3d": [
           {
            "colorbar": {
             "outlinewidth": 0,
             "ticks": ""
            },
            "type": "mesh3d"
           }
          ],
          "parcoords": [
           {
            "line": {
             "colorbar": {
              "outlinewidth": 0,
              "ticks": ""
             }
            },
            "type": "parcoords"
           }
          ],
          "pie": [
           {
            "automargin": true,
            "type": "pie"
           }
          ],
          "scatter": [
           {
            "fillpattern": {
             "fillmode": "overlay",
             "size": 10,
             "solidity": 0.2
            },
            "type": "scatter"
           }
          ],
          "scatter3d": [
           {
            "line": {
             "colorbar": {
              "outlinewidth": 0,
              "ticks": ""
             }
            },
            "marker": {
             "colorbar": {
              "outlinewidth": 0,
              "ticks": ""
             }
            },
            "type": "scatter3d"
           }
          ],
          "scattercarpet": [
           {
            "marker": {
             "colorbar": {
              "outlinewidth": 0,
              "ticks": ""
             }
            },
            "type": "scattercarpet"
           }
          ],
          "scattergeo": [
           {
            "marker": {
             "colorbar": {
              "outlinewidth": 0,
              "ticks": ""
             }
            },
            "type": "scattergeo"
           }
          ],
          "scattergl": [
           {
            "marker": {
             "colorbar": {
              "outlinewidth": 0,
              "ticks": ""
             }
            },
            "type": "scattergl"
           }
          ],
          "scattermapbox": [
           {
            "marker": {
             "colorbar": {
              "outlinewidth": 0,
              "ticks": ""
             }
            },
            "type": "scattermapbox"
           }
          ],
          "scatterpolar": [
           {
            "marker": {
             "colorbar": {
              "outlinewidth": 0,
              "ticks": ""
             }
            },
            "type": "scatterpolar"
           }
          ],
          "scatterpolargl": [
           {
            "marker": {
             "colorbar": {
              "outlinewidth": 0,
              "ticks": ""
             }
            },
            "type": "scatterpolargl"
           }
          ],
          "scatterternary": [
           {
            "marker": {
             "colorbar": {
              "outlinewidth": 0,
              "ticks": ""
             }
            },
            "type": "scatterternary"
           }
          ],
          "surface": [
           {
            "colorbar": {
             "outlinewidth": 0,
             "ticks": ""
            },
            "colorscale": [
             [
              0,
              "#0d0887"
             ],
             [
              0.1111111111111111,
              "#46039f"
             ],
             [
              0.2222222222222222,
              "#7201a8"
             ],
             [
              0.3333333333333333,
              "#9c179e"
             ],
             [
              0.4444444444444444,
              "#bd3786"
             ],
             [
              0.5555555555555556,
              "#d8576b"
             ],
             [
              0.6666666666666666,
              "#ed7953"
             ],
             [
              0.7777777777777778,
              "#fb9f3a"
             ],
             [
              0.8888888888888888,
              "#fdca26"
             ],
             [
              1,
              "#f0f921"
             ]
            ],
            "type": "surface"
           }
          ],
          "table": [
           {
            "cells": {
             "fill": {
              "color": "#EBF0F8"
             },
             "line": {
              "color": "white"
             }
            },
            "header": {
             "fill": {
              "color": "#C8D4E3"
             },
             "line": {
              "color": "white"
             }
            },
            "type": "table"
           }
          ]
         },
         "layout": {
          "annotationdefaults": {
           "arrowcolor": "#2a3f5f",
           "arrowhead": 0,
           "arrowwidth": 1
          },
          "autotypenumbers": "strict",
          "coloraxis": {
           "colorbar": {
            "outlinewidth": 0,
            "ticks": ""
           }
          },
          "colorscale": {
           "diverging": [
            [
             0,
             "#8e0152"
            ],
            [
             0.1,
             "#c51b7d"
            ],
            [
             0.2,
             "#de77ae"
            ],
            [
             0.3,
             "#f1b6da"
            ],
            [
             0.4,
             "#fde0ef"
            ],
            [
             0.5,
             "#f7f7f7"
            ],
            [
             0.6,
             "#e6f5d0"
            ],
            [
             0.7,
             "#b8e186"
            ],
            [
             0.8,
             "#7fbc41"
            ],
            [
             0.9,
             "#4d9221"
            ],
            [
             1,
             "#276419"
            ]
           ],
           "sequential": [
            [
             0,
             "#0d0887"
            ],
            [
             0.1111111111111111,
             "#46039f"
            ],
            [
             0.2222222222222222,
             "#7201a8"
            ],
            [
             0.3333333333333333,
             "#9c179e"
            ],
            [
             0.4444444444444444,
             "#bd3786"
            ],
            [
             0.5555555555555556,
             "#d8576b"
            ],
            [
             0.6666666666666666,
             "#ed7953"
            ],
            [
             0.7777777777777778,
             "#fb9f3a"
            ],
            [
             0.8888888888888888,
             "#fdca26"
            ],
            [
             1,
             "#f0f921"
            ]
           ],
           "sequentialminus": [
            [
             0,
             "#0d0887"
            ],
            [
             0.1111111111111111,
             "#46039f"
            ],
            [
             0.2222222222222222,
             "#7201a8"
            ],
            [
             0.3333333333333333,
             "#9c179e"
            ],
            [
             0.4444444444444444,
             "#bd3786"
            ],
            [
             0.5555555555555556,
             "#d8576b"
            ],
            [
             0.6666666666666666,
             "#ed7953"
            ],
            [
             0.7777777777777778,
             "#fb9f3a"
            ],
            [
             0.8888888888888888,
             "#fdca26"
            ],
            [
             1,
             "#f0f921"
            ]
           ]
          },
          "colorway": [
           "#636efa",
           "#EF553B",
           "#00cc96",
           "#ab63fa",
           "#FFA15A",
           "#19d3f3",
           "#FF6692",
           "#B6E880",
           "#FF97FF",
           "#FECB52"
          ],
          "font": {
           "color": "#2a3f5f"
          },
          "geo": {
           "bgcolor": "white",
           "lakecolor": "white",
           "landcolor": "white",
           "showlakes": true,
           "showland": true,
           "subunitcolor": "#C8D4E3"
          },
          "hoverlabel": {
           "align": "left"
          },
          "hovermode": "closest",
          "mapbox": {
           "style": "light"
          },
          "paper_bgcolor": "white",
          "plot_bgcolor": "white",
          "polar": {
           "angularaxis": {
            "gridcolor": "#EBF0F8",
            "linecolor": "#EBF0F8",
            "ticks": ""
           },
           "bgcolor": "white",
           "radialaxis": {
            "gridcolor": "#EBF0F8",
            "linecolor": "#EBF0F8",
            "ticks": ""
           }
          },
          "scene": {
           "xaxis": {
            "backgroundcolor": "white",
            "gridcolor": "#DFE8F3",
            "gridwidth": 2,
            "linecolor": "#EBF0F8",
            "showbackground": true,
            "ticks": "",
            "zerolinecolor": "#EBF0F8"
           },
           "yaxis": {
            "backgroundcolor": "white",
            "gridcolor": "#DFE8F3",
            "gridwidth": 2,
            "linecolor": "#EBF0F8",
            "showbackground": true,
            "ticks": "",
            "zerolinecolor": "#EBF0F8"
           },
           "zaxis": {
            "backgroundcolor": "white",
            "gridcolor": "#DFE8F3",
            "gridwidth": 2,
            "linecolor": "#EBF0F8",
            "showbackground": true,
            "ticks": "",
            "zerolinecolor": "#EBF0F8"
           }
          },
          "shapedefaults": {
           "line": {
            "color": "#2a3f5f"
           }
          },
          "ternary": {
           "aaxis": {
            "gridcolor": "#DFE8F3",
            "linecolor": "#A2B1C6",
            "ticks": ""
           },
           "baxis": {
            "gridcolor": "#DFE8F3",
            "linecolor": "#A2B1C6",
            "ticks": ""
           },
           "bgcolor": "white",
           "caxis": {
            "gridcolor": "#DFE8F3",
            "linecolor": "#A2B1C6",
            "ticks": ""
           }
          },
          "title": {
           "x": 0.05
          },
          "xaxis": {
           "automargin": true,
           "gridcolor": "#EBF0F8",
           "linecolor": "#EBF0F8",
           "ticks": "",
           "title": {
            "standoff": 15
           },
           "zerolinecolor": "#EBF0F8",
           "zerolinewidth": 2
          },
          "yaxis": {
           "automargin": true,
           "gridcolor": "#EBF0F8",
           "linecolor": "#EBF0F8",
           "ticks": "",
           "title": {
            "standoff": 15
           },
           "zerolinecolor": "#EBF0F8",
           "zerolinewidth": 2
          }
         }
        },
        "title": {
         "text": "Anzahl der Social - Media - Posts mit der Kombination: <br>Gründe für den Wechsel und Hauptprodukten"
        },
        "width": 756,
        "xaxis": {
         "anchor": "y",
         "domain": [
          0,
          1
         ],
         "title": {
          "text": "Anzahl"
         }
        },
        "yaxis": {
         "anchor": "x",
         "domain": [
          0,
          1
         ],
         "title": {
          "text": "Hauptprodukten"
         }
        }
       }
      }
     },
     "metadata": {},
     "output_type": "display_data"
    },
    {
     "data": {
      "application/vnd.plotly.v1+json": {
       "config": {
        "plotlyServerURL": "https://plot.ly"
       },
       "data": [
        {
         "alignmentgroup": "True",
         "bingroup": "y",
         "histfunc": "sum",
         "hovertemplate": "Gründe für den Wechsel=Müdigkeit<br>sum of Anteil (normalized as percent)=%{x}<br>Hauptprodukten=%{y}<extra></extra>",
         "legendgroup": "Müdigkeit",
         "marker": {
          "color": "rgb(54, 112, 226)",
          "pattern": {
           "shape": ""
          }
         },
         "name": "Müdigkeit",
         "offsetgroup": "Müdigkeit",
         "orientation": "h",
         "showlegend": true,
         "textangle": 0,
         "texttemplate": "%{value:.0f}",
         "type": "histogram",
         "x": [
          0.03849114703618168
         ],
         "xaxis": "x",
         "y": [
          "BUSCOPAN"
         ],
         "yaxis": "y"
        },
        {
         "alignmentgroup": "True",
         "bingroup": "y",
         "histfunc": "sum",
         "hovertemplate": "Gründe für den Wechsel=Nebenwirkungen<br>sum of Anteil (normalized as percent)=%{x}<br>Hauptprodukten=%{y}<extra></extra>",
         "legendgroup": "Nebenwirkungen",
         "marker": {
          "color": "rgb(54, 169, 226)",
          "pattern": {
           "shape": ""
          }
         },
         "name": "Nebenwirkungen",
         "offsetgroup": "Nebenwirkungen",
         "orientation": "h",
         "showlegend": true,
         "textangle": 0,
         "texttemplate": "%{value:.0f}",
         "type": "histogram",
         "x": [
          0.03849114703618168,
          0.03849114703618168,
          0.11547344110854503,
          0.03849114703618168
         ],
         "xaxis": "x",
         "y": [
          "BUSCOPAN",
          "CANESTEN GYN",
          "KADEFUNGIN",
          "VAGISAN"
         ],
         "yaxis": "y"
        },
        {
         "alignmentgroup": "True",
         "bingroup": "y",
         "histfunc": "sum",
         "hovertemplate": "Gründe für den Wechsel=sonstige Nebenwirkungen<br>sum of Anteil (normalized as percent)=%{x}<br>Hauptprodukten=%{y}<extra></extra>",
         "legendgroup": "sonstige Nebenwirkungen",
         "marker": {
          "color": "rgb(54, 226, 169)",
          "pattern": {
           "shape": ""
          }
         },
         "name": "sonstige Nebenwirkungen",
         "offsetgroup": "sonstige Nebenwirkungen",
         "orientation": "h",
         "showlegend": true,
         "textangle": 0,
         "texttemplate": "%{value:.0f}",
         "type": "histogram",
         "x": [
          0.03849114703618168,
          0.03849114703618168
         ],
         "xaxis": "x",
         "y": [
          "BUSCOPAN",
          "KADEFUNGIN"
         ],
         "yaxis": "y"
        },
        {
         "alignmentgroup": "True",
         "bingroup": "y",
         "histfunc": "sum",
         "hovertemplate": "Gründe für den Wechsel=Fehldiagnose <br>sum of Anteil (normalized as percent)=%{x}<br>Hauptprodukten=%{y}<extra></extra>",
         "legendgroup": "Fehldiagnose ",
         "marker": {
          "color": "rgb(112, 54, 226)",
          "pattern": {
           "shape": ""
          }
         },
         "name": "Fehldiagnose ",
         "offsetgroup": "Fehldiagnose ",
         "orientation": "h",
         "showlegend": true,
         "textangle": 0,
         "texttemplate": "%{value:.0f}",
         "type": "histogram",
         "x": [
          0.03849114703618168,
          0.11547344110854503
         ],
         "xaxis": "x",
         "y": [
          "CANESTEN GYN",
          "KADEFUNGIN"
         ],
         "yaxis": "y"
        },
        {
         "alignmentgroup": "True",
         "bingroup": "y",
         "histfunc": "sum",
         "hovertemplate": "Gründe für den Wechsel=Medikament hilft nicht (genug)<br>sum of Anteil (normalized as percent)=%{x}<br>Hauptprodukten=%{y}<extra></extra>",
         "legendgroup": "Medikament hilft nicht (genug)",
         "marker": {
          "color": "rgb(226, 54, 169)",
          "pattern": {
           "shape": ""
          }
         },
         "name": "Medikament hilft nicht (genug)",
         "offsetgroup": "Medikament hilft nicht (genug)",
         "orientation": "h",
         "showlegend": true,
         "textangle": 0,
         "texttemplate": "%{value:.0f}",
         "type": "histogram",
         "x": [
          0.3849114703618168,
          1.0392609699769053,
          0.15396458814472672,
          0.03849114703618168,
          0.3849114703618168,
          0.03849114703618168,
          0.15396458814472672
         ],
         "xaxis": "x",
         "y": [
          "CANESTEN GYN",
          "KADEFUNGIN",
          "KADEFUNGIN 3",
          "KADEFUNGIN 6",
          "VAGISAN",
          "VAGISAN FEUCHTCREME",
          "VAGISAN MYKO"
         ],
         "yaxis": "y"
        },
        {
         "alignmentgroup": "True",
         "bingroup": "y",
         "histfunc": "sum",
         "hovertemplate": "Gründe für den Wechsel=Wirkverlust/Resistenzbildung <br>sum of Anteil (normalized as percent)=%{x}<br>Hauptprodukten=%{y}<extra></extra>",
         "legendgroup": "Wirkverlust/Resistenzbildung ",
         "marker": {
          "color": "rgb(169, 54, 226)",
          "pattern": {
           "shape": ""
          }
         },
         "name": "Wirkverlust/Resistenzbildung ",
         "offsetgroup": "Wirkverlust/Resistenzbildung ",
         "orientation": "h",
         "showlegend": true,
         "textangle": 0,
         "texttemplate": "%{value:.0f}",
         "type": "histogram",
         "x": [
          0.03849114703618168,
          0.1924557351809084,
          0.03849114703618168,
          0.03849114703618168
         ],
         "xaxis": "x",
         "y": [
          "CANESTEN GYN",
          "KADEFUNGIN",
          "VAGISAN",
          "VAGISAN MYKO"
         ],
         "yaxis": "y"
        },
        {
         "alignmentgroup": "True",
         "bingroup": "y",
         "histfunc": "sum",
         "hovertemplate": "Gründe für den Wechsel=Eintritt in neues Stadium der Krankheit<br>sum of Anteil (normalized as percent)=%{x}<br>Hauptprodukten=%{y}<extra></extra>",
         "legendgroup": "Eintritt in neues Stadium der Krankheit",
         "marker": {
          "color": "rgb(169, 226, 54)",
          "pattern": {
           "shape": ""
          }
         },
         "name": "Eintritt in neues Stadium der Krankheit",
         "offsetgroup": "Eintritt in neues Stadium der Krankheit",
         "orientation": "h",
         "showlegend": true,
         "textangle": 0,
         "texttemplate": "%{value:.0f}",
         "type": "histogram",
         "x": [
          0.07698229407236336,
          0.03849114703618168
         ],
         "xaxis": "x",
         "y": [
          "KADEFUNGIN",
          "KADEFUNGIN 3"
         ],
         "yaxis": "y"
        },
        {
         "alignmentgroup": "True",
         "bingroup": "y",
         "histfunc": "sum",
         "hovertemplate": "Gründe für den Wechsel=Empfehlung <br>sum of Anteil (normalized as percent)=%{x}<br>Hauptprodukten=%{y}<extra></extra>",
         "legendgroup": "Empfehlung ",
         "marker": {
          "color": "rgb(204, 153, 255)",
          "pattern": {
           "shape": ""
          }
         },
         "name": "Empfehlung ",
         "offsetgroup": "Empfehlung ",
         "orientation": "h",
         "showlegend": true,
         "textangle": 0,
         "texttemplate": "%{value:.0f}",
         "type": "histogram",
         "x": [
          0.11547344110854503
         ],
         "xaxis": "x",
         "y": [
          "KADEFUNGIN"
         ],
         "yaxis": "y"
        },
        {
         "alignmentgroup": "True",
         "bingroup": "y",
         "histfunc": "sum",
         "hovertemplate": "Gründe für den Wechsel=Krankheit hat sich verschlimmert<br>sum of Anteil (normalized as percent)=%{x}<br>Hauptprodukten=%{y}<extra></extra>",
         "legendgroup": "Krankheit hat sich verschlimmert",
         "marker": {
          "color": "rgb(226, 226, 54)",
          "pattern": {
           "shape": ""
          }
         },
         "name": "Krankheit hat sich verschlimmert",
         "offsetgroup": "Krankheit hat sich verschlimmert",
         "orientation": "h",
         "showlegend": true,
         "textangle": 0,
         "texttemplate": "%{value:.0f}",
         "type": "histogram",
         "x": [
          0.07698229407236336,
          0.03849114703618168
         ],
         "xaxis": "x",
         "y": [
          "KADEFUNGIN",
          "KADEFUNGIN 3"
         ],
         "yaxis": "y"
        },
        {
         "alignmentgroup": "True",
         "bingroup": "y",
         "histfunc": "sum",
         "hovertemplate": "Gründe für den Wechsel=Schwangerschaft / Stillzeit<br>sum of Anteil (normalized as percent)=%{x}<br>Hauptprodukten=%{y}<extra></extra>",
         "legendgroup": "Schwangerschaft / Stillzeit",
         "marker": {
          "color": "rgb(54, 226, 112)",
          "pattern": {
           "shape": ""
          }
         },
         "name": "Schwangerschaft / Stillzeit",
         "offsetgroup": "Schwangerschaft / Stillzeit",
         "orientation": "h",
         "showlegend": true,
         "textangle": 0,
         "texttemplate": "%{value:.0f}",
         "type": "histogram",
         "x": [
          0.03849114703618168,
          0.03849114703618168
         ],
         "xaxis": "x",
         "y": [
          "KADEFUNGIN",
          "VAGISAN"
         ],
         "yaxis": "y"
        },
        {
         "alignmentgroup": "True",
         "bingroup": "y",
         "histfunc": "sum",
         "hovertemplate": "Gründe für den Wechsel=andere Krankheit, Operation, Überlagerung<br>sum of Anteil (normalized as percent)=%{x}<br>Hauptprodukten=%{y}<extra></extra>",
         "legendgroup": "andere Krankheit, Operation, Überlagerung",
         "marker": {
          "color": "rgb(236, 219, 150)",
          "pattern": {
           "shape": ""
          }
         },
         "name": "andere Krankheit, Operation, Überlagerung",
         "offsetgroup": "andere Krankheit, Operation, Überlagerung",
         "orientation": "h",
         "showlegend": true,
         "textangle": 0,
         "texttemplate": "%{value:.0f}",
         "type": "histogram",
         "x": [
          0.07698229407236336,
          0.03849114703618168
         ],
         "xaxis": "x",
         "y": [
          "KADEFUNGIN",
          "KADEFUNGIN 3"
         ],
         "yaxis": "y"
        },
        {
         "alignmentgroup": "True",
         "bingroup": "y",
         "histfunc": "sum",
         "hovertemplate": "Gründe für den Wechsel=neu hinzugekommene Erkrankung<br>sum of Anteil (normalized as percent)=%{x}<br>Hauptprodukten=%{y}<extra></extra>",
         "legendgroup": "neu hinzugekommene Erkrankung",
         "marker": {
          "color": "rgb(54, 112, 226)",
          "pattern": {
           "shape": ""
          }
         },
         "name": "neu hinzugekommene Erkrankung",
         "offsetgroup": "neu hinzugekommene Erkrankung",
         "orientation": "h",
         "showlegend": true,
         "textangle": 0,
         "texttemplate": "%{value:.0f}",
         "type": "histogram",
         "x": [
          0.03849114703618168,
          0.03849114703618168
         ],
         "xaxis": "x",
         "y": [
          "KADEFUNGIN",
          "KADEFUNGIN 3"
         ],
         "yaxis": "y"
        }
       ],
       "layout": {
        "annotations": [
         {
          "align": "left",
          "font": {
           "size": 9
          },
          "showarrow": false,
          "text": "Basierend auf 94 Social-Media-Konversationen aus öffentlich zugänglichen Foren <br>Deutschland, Januar 2013 – April 2023.",
          "textangle": 0,
          "x": -0.25,
          "xanchor": "left",
          "xref": "paper",
          "y": -0.39,
          "yref": "paper"
         }
        ],
        "autosize": false,
        "barmode": "relative",
        "barnorm": "percent",
        "height": 378,
        "legend": {
         "title": {
          "text": "Gründe für den Wechsel"
         },
         "tracegroupgap": 0
        },
        "template": {
         "data": {
          "bar": [
           {
            "error_x": {
             "color": "#2a3f5f"
            },
            "error_y": {
             "color": "#2a3f5f"
            },
            "marker": {
             "line": {
              "color": "white",
              "width": 0.5
             },
             "pattern": {
              "fillmode": "overlay",
              "size": 10,
              "solidity": 0.2
             }
            },
            "type": "bar"
           }
          ],
          "barpolar": [
           {
            "marker": {
             "line": {
              "color": "white",
              "width": 0.5
             },
             "pattern": {
              "fillmode": "overlay",
              "size": 10,
              "solidity": 0.2
             }
            },
            "type": "barpolar"
           }
          ],
          "carpet": [
           {
            "aaxis": {
             "endlinecolor": "#2a3f5f",
             "gridcolor": "#C8D4E3",
             "linecolor": "#C8D4E3",
             "minorgridcolor": "#C8D4E3",
             "startlinecolor": "#2a3f5f"
            },
            "baxis": {
             "endlinecolor": "#2a3f5f",
             "gridcolor": "#C8D4E3",
             "linecolor": "#C8D4E3",
             "minorgridcolor": "#C8D4E3",
             "startlinecolor": "#2a3f5f"
            },
            "type": "carpet"
           }
          ],
          "choropleth": [
           {
            "colorbar": {
             "outlinewidth": 0,
             "ticks": ""
            },
            "type": "choropleth"
           }
          ],
          "contour": [
           {
            "colorbar": {
             "outlinewidth": 0,
             "ticks": ""
            },
            "colorscale": [
             [
              0,
              "#0d0887"
             ],
             [
              0.1111111111111111,
              "#46039f"
             ],
             [
              0.2222222222222222,
              "#7201a8"
             ],
             [
              0.3333333333333333,
              "#9c179e"
             ],
             [
              0.4444444444444444,
              "#bd3786"
             ],
             [
              0.5555555555555556,
              "#d8576b"
             ],
             [
              0.6666666666666666,
              "#ed7953"
             ],
             [
              0.7777777777777778,
              "#fb9f3a"
             ],
             [
              0.8888888888888888,
              "#fdca26"
             ],
             [
              1,
              "#f0f921"
             ]
            ],
            "type": "contour"
           }
          ],
          "contourcarpet": [
           {
            "colorbar": {
             "outlinewidth": 0,
             "ticks": ""
            },
            "type": "contourcarpet"
           }
          ],
          "heatmap": [
           {
            "colorbar": {
             "outlinewidth": 0,
             "ticks": ""
            },
            "colorscale": [
             [
              0,
              "#0d0887"
             ],
             [
              0.1111111111111111,
              "#46039f"
             ],
             [
              0.2222222222222222,
              "#7201a8"
             ],
             [
              0.3333333333333333,
              "#9c179e"
             ],
             [
              0.4444444444444444,
              "#bd3786"
             ],
             [
              0.5555555555555556,
              "#d8576b"
             ],
             [
              0.6666666666666666,
              "#ed7953"
             ],
             [
              0.7777777777777778,
              "#fb9f3a"
             ],
             [
              0.8888888888888888,
              "#fdca26"
             ],
             [
              1,
              "#f0f921"
             ]
            ],
            "type": "heatmap"
           }
          ],
          "heatmapgl": [
           {
            "colorbar": {
             "outlinewidth": 0,
             "ticks": ""
            },
            "colorscale": [
             [
              0,
              "#0d0887"
             ],
             [
              0.1111111111111111,
              "#46039f"
             ],
             [
              0.2222222222222222,
              "#7201a8"
             ],
             [
              0.3333333333333333,
              "#9c179e"
             ],
             [
              0.4444444444444444,
              "#bd3786"
             ],
             [
              0.5555555555555556,
              "#d8576b"
             ],
             [
              0.6666666666666666,
              "#ed7953"
             ],
             [
              0.7777777777777778,
              "#fb9f3a"
             ],
             [
              0.8888888888888888,
              "#fdca26"
             ],
             [
              1,
              "#f0f921"
             ]
            ],
            "type": "heatmapgl"
           }
          ],
          "histogram": [
           {
            "marker": {
             "pattern": {
              "fillmode": "overlay",
              "size": 10,
              "solidity": 0.2
             }
            },
            "type": "histogram"
           }
          ],
          "histogram2d": [
           {
            "colorbar": {
             "outlinewidth": 0,
             "ticks": ""
            },
            "colorscale": [
             [
              0,
              "#0d0887"
             ],
             [
              0.1111111111111111,
              "#46039f"
             ],
             [
              0.2222222222222222,
              "#7201a8"
             ],
             [
              0.3333333333333333,
              "#9c179e"
             ],
             [
              0.4444444444444444,
              "#bd3786"
             ],
             [
              0.5555555555555556,
              "#d8576b"
             ],
             [
              0.6666666666666666,
              "#ed7953"
             ],
             [
              0.7777777777777778,
              "#fb9f3a"
             ],
             [
              0.8888888888888888,
              "#fdca26"
             ],
             [
              1,
              "#f0f921"
             ]
            ],
            "type": "histogram2d"
           }
          ],
          "histogram2dcontour": [
           {
            "colorbar": {
             "outlinewidth": 0,
             "ticks": ""
            },
            "colorscale": [
             [
              0,
              "#0d0887"
             ],
             [
              0.1111111111111111,
              "#46039f"
             ],
             [
              0.2222222222222222,
              "#7201a8"
             ],
             [
              0.3333333333333333,
              "#9c179e"
             ],
             [
              0.4444444444444444,
              "#bd3786"
             ],
             [
              0.5555555555555556,
              "#d8576b"
             ],
             [
              0.6666666666666666,
              "#ed7953"
             ],
             [
              0.7777777777777778,
              "#fb9f3a"
             ],
             [
              0.8888888888888888,
              "#fdca26"
             ],
             [
              1,
              "#f0f921"
             ]
            ],
            "type": "histogram2dcontour"
           }
          ],
          "mesh3d": [
           {
            "colorbar": {
             "outlinewidth": 0,
             "ticks": ""
            },
            "type": "mesh3d"
           }
          ],
          "parcoords": [
           {
            "line": {
             "colorbar": {
              "outlinewidth": 0,
              "ticks": ""
             }
            },
            "type": "parcoords"
           }
          ],
          "pie": [
           {
            "automargin": true,
            "type": "pie"
           }
          ],
          "scatter": [
           {
            "fillpattern": {
             "fillmode": "overlay",
             "size": 10,
             "solidity": 0.2
            },
            "type": "scatter"
           }
          ],
          "scatter3d": [
           {
            "line": {
             "colorbar": {
              "outlinewidth": 0,
              "ticks": ""
             }
            },
            "marker": {
             "colorbar": {
              "outlinewidth": 0,
              "ticks": ""
             }
            },
            "type": "scatter3d"
           }
          ],
          "scattercarpet": [
           {
            "marker": {
             "colorbar": {
              "outlinewidth": 0,
              "ticks": ""
             }
            },
            "type": "scattercarpet"
           }
          ],
          "scattergeo": [
           {
            "marker": {
             "colorbar": {
              "outlinewidth": 0,
              "ticks": ""
             }
            },
            "type": "scattergeo"
           }
          ],
          "scattergl": [
           {
            "marker": {
             "colorbar": {
              "outlinewidth": 0,
              "ticks": ""
             }
            },
            "type": "scattergl"
           }
          ],
          "scattermapbox": [
           {
            "marker": {
             "colorbar": {
              "outlinewidth": 0,
              "ticks": ""
             }
            },
            "type": "scattermapbox"
           }
          ],
          "scatterpolar": [
           {
            "marker": {
             "colorbar": {
              "outlinewidth": 0,
              "ticks": ""
             }
            },
            "type": "scatterpolar"
           }
          ],
          "scatterpolargl": [
           {
            "marker": {
             "colorbar": {
              "outlinewidth": 0,
              "ticks": ""
             }
            },
            "type": "scatterpolargl"
           }
          ],
          "scatterternary": [
           {
            "marker": {
             "colorbar": {
              "outlinewidth": 0,
              "ticks": ""
             }
            },
            "type": "scatterternary"
           }
          ],
          "surface": [
           {
            "colorbar": {
             "outlinewidth": 0,
             "ticks": ""
            },
            "colorscale": [
             [
              0,
              "#0d0887"
             ],
             [
              0.1111111111111111,
              "#46039f"
             ],
             [
              0.2222222222222222,
              "#7201a8"
             ],
             [
              0.3333333333333333,
              "#9c179e"
             ],
             [
              0.4444444444444444,
              "#bd3786"
             ],
             [
              0.5555555555555556,
              "#d8576b"
             ],
             [
              0.6666666666666666,
              "#ed7953"
             ],
             [
              0.7777777777777778,
              "#fb9f3a"
             ],
             [
              0.8888888888888888,
              "#fdca26"
             ],
             [
              1,
              "#f0f921"
             ]
            ],
            "type": "surface"
           }
          ],
          "table": [
           {
            "cells": {
             "fill": {
              "color": "#EBF0F8"
             },
             "line": {
              "color": "white"
             }
            },
            "header": {
             "fill": {
              "color": "#C8D4E3"
             },
             "line": {
              "color": "white"
             }
            },
            "type": "table"
           }
          ]
         },
         "layout": {
          "annotationdefaults": {
           "arrowcolor": "#2a3f5f",
           "arrowhead": 0,
           "arrowwidth": 1
          },
          "autotypenumbers": "strict",
          "coloraxis": {
           "colorbar": {
            "outlinewidth": 0,
            "ticks": ""
           }
          },
          "colorscale": {
           "diverging": [
            [
             0,
             "#8e0152"
            ],
            [
             0.1,
             "#c51b7d"
            ],
            [
             0.2,
             "#de77ae"
            ],
            [
             0.3,
             "#f1b6da"
            ],
            [
             0.4,
             "#fde0ef"
            ],
            [
             0.5,
             "#f7f7f7"
            ],
            [
             0.6,
             "#e6f5d0"
            ],
            [
             0.7,
             "#b8e186"
            ],
            [
             0.8,
             "#7fbc41"
            ],
            [
             0.9,
             "#4d9221"
            ],
            [
             1,
             "#276419"
            ]
           ],
           "sequential": [
            [
             0,
             "#0d0887"
            ],
            [
             0.1111111111111111,
             "#46039f"
            ],
            [
             0.2222222222222222,
             "#7201a8"
            ],
            [
             0.3333333333333333,
             "#9c179e"
            ],
            [
             0.4444444444444444,
             "#bd3786"
            ],
            [
             0.5555555555555556,
             "#d8576b"
            ],
            [
             0.6666666666666666,
             "#ed7953"
            ],
            [
             0.7777777777777778,
             "#fb9f3a"
            ],
            [
             0.8888888888888888,
             "#fdca26"
            ],
            [
             1,
             "#f0f921"
            ]
           ],
           "sequentialminus": [
            [
             0,
             "#0d0887"
            ],
            [
             0.1111111111111111,
             "#46039f"
            ],
            [
             0.2222222222222222,
             "#7201a8"
            ],
            [
             0.3333333333333333,
             "#9c179e"
            ],
            [
             0.4444444444444444,
             "#bd3786"
            ],
            [
             0.5555555555555556,
             "#d8576b"
            ],
            [
             0.6666666666666666,
             "#ed7953"
            ],
            [
             0.7777777777777778,
             "#fb9f3a"
            ],
            [
             0.8888888888888888,
             "#fdca26"
            ],
            [
             1,
             "#f0f921"
            ]
           ]
          },
          "colorway": [
           "#636efa",
           "#EF553B",
           "#00cc96",
           "#ab63fa",
           "#FFA15A",
           "#19d3f3",
           "#FF6692",
           "#B6E880",
           "#FF97FF",
           "#FECB52"
          ],
          "font": {
           "color": "#2a3f5f"
          },
          "geo": {
           "bgcolor": "white",
           "lakecolor": "white",
           "landcolor": "white",
           "showlakes": true,
           "showland": true,
           "subunitcolor": "#C8D4E3"
          },
          "hoverlabel": {
           "align": "left"
          },
          "hovermode": "closest",
          "mapbox": {
           "style": "light"
          },
          "paper_bgcolor": "white",
          "plot_bgcolor": "white",
          "polar": {
           "angularaxis": {
            "gridcolor": "#EBF0F8",
            "linecolor": "#EBF0F8",
            "ticks": ""
           },
           "bgcolor": "white",
           "radialaxis": {
            "gridcolor": "#EBF0F8",
            "linecolor": "#EBF0F8",
            "ticks": ""
           }
          },
          "scene": {
           "xaxis": {
            "backgroundcolor": "white",
            "gridcolor": "#DFE8F3",
            "gridwidth": 2,
            "linecolor": "#EBF0F8",
            "showbackground": true,
            "ticks": "",
            "zerolinecolor": "#EBF0F8"
           },
           "yaxis": {
            "backgroundcolor": "white",
            "gridcolor": "#DFE8F3",
            "gridwidth": 2,
            "linecolor": "#EBF0F8",
            "showbackground": true,
            "ticks": "",
            "zerolinecolor": "#EBF0F8"
           },
           "zaxis": {
            "backgroundcolor": "white",
            "gridcolor": "#DFE8F3",
            "gridwidth": 2,
            "linecolor": "#EBF0F8",
            "showbackground": true,
            "ticks": "",
            "zerolinecolor": "#EBF0F8"
           }
          },
          "shapedefaults": {
           "line": {
            "color": "#2a3f5f"
           }
          },
          "ternary": {
           "aaxis": {
            "gridcolor": "#DFE8F3",
            "linecolor": "#A2B1C6",
            "ticks": ""
           },
           "baxis": {
            "gridcolor": "#DFE8F3",
            "linecolor": "#A2B1C6",
            "ticks": ""
           },
           "bgcolor": "white",
           "caxis": {
            "gridcolor": "#DFE8F3",
            "linecolor": "#A2B1C6",
            "ticks": ""
           }
          },
          "title": {
           "x": 0.05
          },
          "xaxis": {
           "automargin": true,
           "gridcolor": "#EBF0F8",
           "linecolor": "#EBF0F8",
           "ticks": "",
           "title": {
            "standoff": 15
           },
           "zerolinecolor": "#EBF0F8",
           "zerolinewidth": 2
          },
          "yaxis": {
           "automargin": true,
           "gridcolor": "#EBF0F8",
           "linecolor": "#EBF0F8",
           "ticks": "",
           "title": {
            "standoff": 15
           },
           "zerolinecolor": "#EBF0F8",
           "zerolinewidth": 2
          }
         }
        },
        "title": {
         "text": "Anzahl der Social - Media - Posts mit der Kombination: <br>Gründe für den Wechsel und Hauptprodukten"
        },
        "width": 756,
        "xaxis": {
         "anchor": "y",
         "domain": [
          0,
          1
         ],
         "title": {
          "text": "Anteil"
         }
        },
        "yaxis": {
         "anchor": "x",
         "domain": [
          0,
          1
         ],
         "title": {
          "text": "Hauptprodukten"
         }
        }
       }
      }
     },
     "metadata": {},
     "output_type": "display_data"
    },
    {
     "name": "stdout",
     "output_type": "stream",
     "text": [
      "                 product_1 topic_1_product_influecned_positivley  Anzahl    Anteil\n",
      "0                 BUSCOPAN                        ApothekerInnen       2  0.076982\n",
      "1                 BUSCOPAN                            Empfehlung      10  0.384911\n",
      "2                 BUSCOPAN                  Freunde oder Familie       2  0.076982\n",
      "3                 BUSCOPAN                         Kein Einfluss       3  0.115473\n",
      "4                 BUSCOPAN                          Social Media       3  0.115473\n",
      "5                 BUSCOPAN                  Vorhandene Erfahrung       4  0.153965\n",
      "6                 BUSCOPAN                             ÄrztInnen       6  0.230947\n",
      "7             CANESTEN GYN                        ApothekerInnen       1  0.038491\n",
      "8             CANESTEN GYN                              Hebammen       1  0.038491\n",
      "9             CANESTEN GYN                         Kein Einfluss       1  0.038491\n",
      "10            CANESTEN GYN                          Social Media       3  0.115473\n",
      "11            CANESTEN GYN                  Vorhandene Erfahrung       3  0.115473\n",
      "12            CANESTEN GYN                               Werbung       1  0.038491\n",
      "13            CANESTEN GYN                             ÄrztInnen       8  0.307929\n",
      "14              KADEFUNGIN         Andere medizinische Fachkraft       2  0.076982\n",
      "15              KADEFUNGIN                        ApothekerInnen       5  0.192456\n",
      "16              KADEFUNGIN                            Empfehlung       8  0.307929\n",
      "17              KADEFUNGIN                  Freunde oder Familie       1  0.038491\n",
      "18              KADEFUNGIN                              Hebammen       1  0.038491\n",
      "19              KADEFUNGIN                         Kein Einfluss       2  0.076982\n",
      "20              KADEFUNGIN                          Social Media       2  0.076982\n",
      "21              KADEFUNGIN                  Vorhandene Erfahrung       5  0.192456\n",
      "22              KADEFUNGIN                             ÄrztInnen      69  2.655889\n",
      "23            KADEFUNGIN 3                        ApothekerInnen       1  0.038491\n",
      "24            KADEFUNGIN 3                         Kein Einfluss       1  0.038491\n",
      "25            KADEFUNGIN 3                  Vorhandene Erfahrung       1  0.038491\n",
      "26            KADEFUNGIN 3                             ÄrztInnen      14  0.538876\n",
      "27            KADEFUNGIN 6                            Empfehlung       1  0.038491\n",
      "28            KADEFUNGIN 6                             ÄrztInnen       3  0.115473\n",
      "29  KADEFUNGIN BEFEUCHTUNG                            Empfehlung       1  0.038491\n",
      "30  KADEFUNGIN BEFEUCHTUNG                             ÄrztInnen       2  0.076982\n",
      "31                 VAGISAN                        ApothekerInnen       4  0.153965\n",
      "32                 VAGISAN                            Empfehlung       4  0.153965\n",
      "33                 VAGISAN                  Freunde oder Familie       2  0.076982\n",
      "34                 VAGISAN                              Hebammen       1  0.038491\n",
      "35                 VAGISAN                         Kein Einfluss       1  0.038491\n",
      "36                 VAGISAN                          Social Media       2  0.076982\n",
      "37                 VAGISAN                               Werbung       1  0.038491\n",
      "38                 VAGISAN                             ÄrztInnen      24  0.923788\n",
      "39     VAGISAN FEUCHTCREME                            Empfehlung       3  0.115473\n",
      "40     VAGISAN FEUCHTCREME                         Kein Einfluss       1  0.038491\n",
      "41     VAGISAN FEUCHTCREME                          Social Media       1  0.038491\n",
      "42     VAGISAN FEUCHTCREME                  Vorhandene Erfahrung       1  0.038491\n",
      "43     VAGISAN FEUCHTCREME                             ÄrztInnen       3  0.115473\n",
      "44           VAGISAN INTIM                            Empfehlung       1  0.038491\n",
      "45            VAGISAN MYKO                  Freunde oder Familie       1  0.038491\n",
      "46            VAGISAN MYKO                         Kein Einfluss       1  0.038491\n",
      "47            VAGISAN MYKO                             ÄrztInnen       6  0.230947\n"
     ]
    },
    {
     "data": {
      "application/vnd.plotly.v1+json": {
       "config": {
        "plotlyServerURL": "https://plot.ly"
       },
       "data": [
        {
         "alignmentgroup": "True",
         "hovertemplate": "Gründe für den Wechsel=ApothekerInnen<br>Anzahl=%{x}<br>Hauptprodukten=%{y}<extra></extra>",
         "legendgroup": "ApothekerInnen",
         "marker": {
          "color": "rgb(54, 112, 226)",
          "pattern": {
           "shape": ""
          }
         },
         "name": "ApothekerInnen",
         "offsetgroup": "ApothekerInnen",
         "orientation": "h",
         "showlegend": true,
         "textangle": 0,
         "textposition": "auto",
         "texttemplate": "%{x:.0f}",
         "type": "bar",
         "x": [
          2,
          1,
          5,
          1,
          4
         ],
         "xaxis": "x",
         "y": [
          "BUSCOPAN",
          "CANESTEN GYN",
          "KADEFUNGIN",
          "KADEFUNGIN 3",
          "VAGISAN"
         ],
         "yaxis": "y"
        },
        {
         "alignmentgroup": "True",
         "hovertemplate": "Gründe für den Wechsel=Empfehlung<br>Anzahl=%{x}<br>Hauptprodukten=%{y}<extra></extra>",
         "legendgroup": "Empfehlung",
         "marker": {
          "color": "rgb(54, 169, 226)",
          "pattern": {
           "shape": ""
          }
         },
         "name": "Empfehlung",
         "offsetgroup": "Empfehlung",
         "orientation": "h",
         "showlegend": true,
         "textangle": 0,
         "textposition": "auto",
         "texttemplate": "%{x:.0f}",
         "type": "bar",
         "x": [
          10,
          8,
          1,
          1,
          4,
          3,
          1
         ],
         "xaxis": "x",
         "y": [
          "BUSCOPAN",
          "KADEFUNGIN",
          "KADEFUNGIN 6",
          "KADEFUNGIN BEFEUCHTUNG",
          "VAGISAN",
          "VAGISAN FEUCHTCREME",
          "VAGISAN INTIM"
         ],
         "yaxis": "y"
        },
        {
         "alignmentgroup": "True",
         "hovertemplate": "Gründe für den Wechsel=Freunde oder Familie<br>Anzahl=%{x}<br>Hauptprodukten=%{y}<extra></extra>",
         "legendgroup": "Freunde oder Familie",
         "marker": {
          "color": "rgb(54, 226, 169)",
          "pattern": {
           "shape": ""
          }
         },
         "name": "Freunde oder Familie",
         "offsetgroup": "Freunde oder Familie",
         "orientation": "h",
         "showlegend": true,
         "textangle": 0,
         "textposition": "auto",
         "texttemplate": "%{x:.0f}",
         "type": "bar",
         "x": [
          2,
          1,
          2,
          1
         ],
         "xaxis": "x",
         "y": [
          "BUSCOPAN",
          "KADEFUNGIN",
          "VAGISAN",
          "VAGISAN MYKO"
         ],
         "yaxis": "y"
        },
        {
         "alignmentgroup": "True",
         "hovertemplate": "Gründe für den Wechsel=Kein Einfluss<br>Anzahl=%{x}<br>Hauptprodukten=%{y}<extra></extra>",
         "legendgroup": "Kein Einfluss",
         "marker": {
          "color": "rgb(112, 54, 226)",
          "pattern": {
           "shape": ""
          }
         },
         "name": "Kein Einfluss",
         "offsetgroup": "Kein Einfluss",
         "orientation": "h",
         "showlegend": true,
         "textangle": 0,
         "textposition": "auto",
         "texttemplate": "%{x:.0f}",
         "type": "bar",
         "x": [
          3,
          1,
          2,
          1,
          1,
          1,
          1
         ],
         "xaxis": "x",
         "y": [
          "BUSCOPAN",
          "CANESTEN GYN",
          "KADEFUNGIN",
          "KADEFUNGIN 3",
          "VAGISAN",
          "VAGISAN FEUCHTCREME",
          "VAGISAN MYKO"
         ],
         "yaxis": "y"
        },
        {
         "alignmentgroup": "True",
         "hovertemplate": "Gründe für den Wechsel=Social Media<br>Anzahl=%{x}<br>Hauptprodukten=%{y}<extra></extra>",
         "legendgroup": "Social Media",
         "marker": {
          "color": "rgb(226, 54, 169)",
          "pattern": {
           "shape": ""
          }
         },
         "name": "Social Media",
         "offsetgroup": "Social Media",
         "orientation": "h",
         "showlegend": true,
         "textangle": 0,
         "textposition": "auto",
         "texttemplate": "%{x:.0f}",
         "type": "bar",
         "x": [
          3,
          3,
          2,
          2,
          1
         ],
         "xaxis": "x",
         "y": [
          "BUSCOPAN",
          "CANESTEN GYN",
          "KADEFUNGIN",
          "VAGISAN",
          "VAGISAN FEUCHTCREME"
         ],
         "yaxis": "y"
        },
        {
         "alignmentgroup": "True",
         "hovertemplate": "Gründe für den Wechsel=Vorhandene Erfahrung<br>Anzahl=%{x}<br>Hauptprodukten=%{y}<extra></extra>",
         "legendgroup": "Vorhandene Erfahrung",
         "marker": {
          "color": "rgb(169, 54, 226)",
          "pattern": {
           "shape": ""
          }
         },
         "name": "Vorhandene Erfahrung",
         "offsetgroup": "Vorhandene Erfahrung",
         "orientation": "h",
         "showlegend": true,
         "textangle": 0,
         "textposition": "auto",
         "texttemplate": "%{x:.0f}",
         "type": "bar",
         "x": [
          4,
          3,
          5,
          1,
          1
         ],
         "xaxis": "x",
         "y": [
          "BUSCOPAN",
          "CANESTEN GYN",
          "KADEFUNGIN",
          "KADEFUNGIN 3",
          "VAGISAN FEUCHTCREME"
         ],
         "yaxis": "y"
        },
        {
         "alignmentgroup": "True",
         "hovertemplate": "Gründe für den Wechsel=ÄrztInnen<br>Anzahl=%{x}<br>Hauptprodukten=%{y}<extra></extra>",
         "legendgroup": "ÄrztInnen",
         "marker": {
          "color": "rgb(169, 226, 54)",
          "pattern": {
           "shape": ""
          }
         },
         "name": "ÄrztInnen",
         "offsetgroup": "ÄrztInnen",
         "orientation": "h",
         "showlegend": true,
         "textangle": 0,
         "textposition": "auto",
         "texttemplate": "%{x:.0f}",
         "type": "bar",
         "x": [
          6,
          8,
          69,
          14,
          3,
          2,
          24,
          3,
          6
         ],
         "xaxis": "x",
         "y": [
          "BUSCOPAN",
          "CANESTEN GYN",
          "KADEFUNGIN",
          "KADEFUNGIN 3",
          "KADEFUNGIN 6",
          "KADEFUNGIN BEFEUCHTUNG",
          "VAGISAN",
          "VAGISAN FEUCHTCREME",
          "VAGISAN MYKO"
         ],
         "yaxis": "y"
        },
        {
         "alignmentgroup": "True",
         "hovertemplate": "Gründe für den Wechsel=Hebammen<br>Anzahl=%{x}<br>Hauptprodukten=%{y}<extra></extra>",
         "legendgroup": "Hebammen",
         "marker": {
          "color": "rgb(204, 153, 255)",
          "pattern": {
           "shape": ""
          }
         },
         "name": "Hebammen",
         "offsetgroup": "Hebammen",
         "orientation": "h",
         "showlegend": true,
         "textangle": 0,
         "textposition": "auto",
         "texttemplate": "%{x:.0f}",
         "type": "bar",
         "x": [
          1,
          1,
          1
         ],
         "xaxis": "x",
         "y": [
          "CANESTEN GYN",
          "KADEFUNGIN",
          "VAGISAN"
         ],
         "yaxis": "y"
        },
        {
         "alignmentgroup": "True",
         "hovertemplate": "Gründe für den Wechsel=Werbung<br>Anzahl=%{x}<br>Hauptprodukten=%{y}<extra></extra>",
         "legendgroup": "Werbung",
         "marker": {
          "color": "rgb(226, 226, 54)",
          "pattern": {
           "shape": ""
          }
         },
         "name": "Werbung",
         "offsetgroup": "Werbung",
         "orientation": "h",
         "showlegend": true,
         "textangle": 0,
         "textposition": "auto",
         "texttemplate": "%{x:.0f}",
         "type": "bar",
         "x": [
          1,
          1
         ],
         "xaxis": "x",
         "y": [
          "CANESTEN GYN",
          "VAGISAN"
         ],
         "yaxis": "y"
        },
        {
         "alignmentgroup": "True",
         "hovertemplate": "Gründe für den Wechsel=Andere medizinische Fachkraft<br>Anzahl=%{x}<br>Hauptprodukten=%{y}<extra></extra>",
         "legendgroup": "Andere medizinische Fachkraft",
         "marker": {
          "color": "rgb(54, 226, 112)",
          "pattern": {
           "shape": ""
          }
         },
         "name": "Andere medizinische Fachkraft",
         "offsetgroup": "Andere medizinische Fachkraft",
         "orientation": "h",
         "showlegend": true,
         "textangle": 0,
         "textposition": "auto",
         "texttemplate": "%{x:.0f}",
         "type": "bar",
         "x": [
          2
         ],
         "xaxis": "x",
         "y": [
          "KADEFUNGIN"
         ],
         "yaxis": "y"
        }
       ],
       "layout": {
        "annotations": [
         {
          "align": "left",
          "font": {
           "size": 9
          },
          "showarrow": false,
          "text": "Basierend auf 224 Social-Media-Konversationen aus öffentlich zugänglichen Foren <br>Deutschland, Januar 2013 – April 2023.",
          "textangle": 0,
          "x": -0.25,
          "xanchor": "left",
          "xref": "paper",
          "y": -0.39,
          "yref": "paper"
         }
        ],
        "autosize": false,
        "barmode": "relative",
        "height": 378,
        "legend": {
         "title": {
          "text": "Gründe für den Wechsel"
         },
         "tracegroupgap": 0
        },
        "template": {
         "data": {
          "bar": [
           {
            "error_x": {
             "color": "#2a3f5f"
            },
            "error_y": {
             "color": "#2a3f5f"
            },
            "marker": {
             "line": {
              "color": "white",
              "width": 0.5
             },
             "pattern": {
              "fillmode": "overlay",
              "size": 10,
              "solidity": 0.2
             }
            },
            "type": "bar"
           }
          ],
          "barpolar": [
           {
            "marker": {
             "line": {
              "color": "white",
              "width": 0.5
             },
             "pattern": {
              "fillmode": "overlay",
              "size": 10,
              "solidity": 0.2
             }
            },
            "type": "barpolar"
           }
          ],
          "carpet": [
           {
            "aaxis": {
             "endlinecolor": "#2a3f5f",
             "gridcolor": "#C8D4E3",
             "linecolor": "#C8D4E3",
             "minorgridcolor": "#C8D4E3",
             "startlinecolor": "#2a3f5f"
            },
            "baxis": {
             "endlinecolor": "#2a3f5f",
             "gridcolor": "#C8D4E3",
             "linecolor": "#C8D4E3",
             "minorgridcolor": "#C8D4E3",
             "startlinecolor": "#2a3f5f"
            },
            "type": "carpet"
           }
          ],
          "choropleth": [
           {
            "colorbar": {
             "outlinewidth": 0,
             "ticks": ""
            },
            "type": "choropleth"
           }
          ],
          "contour": [
           {
            "colorbar": {
             "outlinewidth": 0,
             "ticks": ""
            },
            "colorscale": [
             [
              0,
              "#0d0887"
             ],
             [
              0.1111111111111111,
              "#46039f"
             ],
             [
              0.2222222222222222,
              "#7201a8"
             ],
             [
              0.3333333333333333,
              "#9c179e"
             ],
             [
              0.4444444444444444,
              "#bd3786"
             ],
             [
              0.5555555555555556,
              "#d8576b"
             ],
             [
              0.6666666666666666,
              "#ed7953"
             ],
             [
              0.7777777777777778,
              "#fb9f3a"
             ],
             [
              0.8888888888888888,
              "#fdca26"
             ],
             [
              1,
              "#f0f921"
             ]
            ],
            "type": "contour"
           }
          ],
          "contourcarpet": [
           {
            "colorbar": {
             "outlinewidth": 0,
             "ticks": ""
            },
            "type": "contourcarpet"
           }
          ],
          "heatmap": [
           {
            "colorbar": {
             "outlinewidth": 0,
             "ticks": ""
            },
            "colorscale": [
             [
              0,
              "#0d0887"
             ],
             [
              0.1111111111111111,
              "#46039f"
             ],
             [
              0.2222222222222222,
              "#7201a8"
             ],
             [
              0.3333333333333333,
              "#9c179e"
             ],
             [
              0.4444444444444444,
              "#bd3786"
             ],
             [
              0.5555555555555556,
              "#d8576b"
             ],
             [
              0.6666666666666666,
              "#ed7953"
             ],
             [
              0.7777777777777778,
              "#fb9f3a"
             ],
             [
              0.8888888888888888,
              "#fdca26"
             ],
             [
              1,
              "#f0f921"
             ]
            ],
            "type": "heatmap"
           }
          ],
          "heatmapgl": [
           {
            "colorbar": {
             "outlinewidth": 0,
             "ticks": ""
            },
            "colorscale": [
             [
              0,
              "#0d0887"
             ],
             [
              0.1111111111111111,
              "#46039f"
             ],
             [
              0.2222222222222222,
              "#7201a8"
             ],
             [
              0.3333333333333333,
              "#9c179e"
             ],
             [
              0.4444444444444444,
              "#bd3786"
             ],
             [
              0.5555555555555556,
              "#d8576b"
             ],
             [
              0.6666666666666666,
              "#ed7953"
             ],
             [
              0.7777777777777778,
              "#fb9f3a"
             ],
             [
              0.8888888888888888,
              "#fdca26"
             ],
             [
              1,
              "#f0f921"
             ]
            ],
            "type": "heatmapgl"
           }
          ],
          "histogram": [
           {
            "marker": {
             "pattern": {
              "fillmode": "overlay",
              "size": 10,
              "solidity": 0.2
             }
            },
            "type": "histogram"
           }
          ],
          "histogram2d": [
           {
            "colorbar": {
             "outlinewidth": 0,
             "ticks": ""
            },
            "colorscale": [
             [
              0,
              "#0d0887"
             ],
             [
              0.1111111111111111,
              "#46039f"
             ],
             [
              0.2222222222222222,
              "#7201a8"
             ],
             [
              0.3333333333333333,
              "#9c179e"
             ],
             [
              0.4444444444444444,
              "#bd3786"
             ],
             [
              0.5555555555555556,
              "#d8576b"
             ],
             [
              0.6666666666666666,
              "#ed7953"
             ],
             [
              0.7777777777777778,
              "#fb9f3a"
             ],
             [
              0.8888888888888888,
              "#fdca26"
             ],
             [
              1,
              "#f0f921"
             ]
            ],
            "type": "histogram2d"
           }
          ],
          "histogram2dcontour": [
           {
            "colorbar": {
             "outlinewidth": 0,
             "ticks": ""
            },
            "colorscale": [
             [
              0,
              "#0d0887"
             ],
             [
              0.1111111111111111,
              "#46039f"
             ],
             [
              0.2222222222222222,
              "#7201a8"
             ],
             [
              0.3333333333333333,
              "#9c179e"
             ],
             [
              0.4444444444444444,
              "#bd3786"
             ],
             [
              0.5555555555555556,
              "#d8576b"
             ],
             [
              0.6666666666666666,
              "#ed7953"
             ],
             [
              0.7777777777777778,
              "#fb9f3a"
             ],
             [
              0.8888888888888888,
              "#fdca26"
             ],
             [
              1,
              "#f0f921"
             ]
            ],
            "type": "histogram2dcontour"
           }
          ],
          "mesh3d": [
           {
            "colorbar": {
             "outlinewidth": 0,
             "ticks": ""
            },
            "type": "mesh3d"
           }
          ],
          "parcoords": [
           {
            "line": {
             "colorbar": {
              "outlinewidth": 0,
              "ticks": ""
             }
            },
            "type": "parcoords"
           }
          ],
          "pie": [
           {
            "automargin": true,
            "type": "pie"
           }
          ],
          "scatter": [
           {
            "fillpattern": {
             "fillmode": "overlay",
             "size": 10,
             "solidity": 0.2
            },
            "type": "scatter"
           }
          ],
          "scatter3d": [
           {
            "line": {
             "colorbar": {
              "outlinewidth": 0,
              "ticks": ""
             }
            },
            "marker": {
             "colorbar": {
              "outlinewidth": 0,
              "ticks": ""
             }
            },
            "type": "scatter3d"
           }
          ],
          "scattercarpet": [
           {
            "marker": {
             "colorbar": {
              "outlinewidth": 0,
              "ticks": ""
             }
            },
            "type": "scattercarpet"
           }
          ],
          "scattergeo": [
           {
            "marker": {
             "colorbar": {
              "outlinewidth": 0,
              "ticks": ""
             }
            },
            "type": "scattergeo"
           }
          ],
          "scattergl": [
           {
            "marker": {
             "colorbar": {
              "outlinewidth": 0,
              "ticks": ""
             }
            },
            "type": "scattergl"
           }
          ],
          "scattermapbox": [
           {
            "marker": {
             "colorbar": {
              "outlinewidth": 0,
              "ticks": ""
             }
            },
            "type": "scattermapbox"
           }
          ],
          "scatterpolar": [
           {
            "marker": {
             "colorbar": {
              "outlinewidth": 0,
              "ticks": ""
             }
            },
            "type": "scatterpolar"
           }
          ],
          "scatterpolargl": [
           {
            "marker": {
             "colorbar": {
              "outlinewidth": 0,
              "ticks": ""
             }
            },
            "type": "scatterpolargl"
           }
          ],
          "scatterternary": [
           {
            "marker": {
             "colorbar": {
              "outlinewidth": 0,
              "ticks": ""
             }
            },
            "type": "scatterternary"
           }
          ],
          "surface": [
           {
            "colorbar": {
             "outlinewidth": 0,
             "ticks": ""
            },
            "colorscale": [
             [
              0,
              "#0d0887"
             ],
             [
              0.1111111111111111,
              "#46039f"
             ],
             [
              0.2222222222222222,
              "#7201a8"
             ],
             [
              0.3333333333333333,
              "#9c179e"
             ],
             [
              0.4444444444444444,
              "#bd3786"
             ],
             [
              0.5555555555555556,
              "#d8576b"
             ],
             [
              0.6666666666666666,
              "#ed7953"
             ],
             [
              0.7777777777777778,
              "#fb9f3a"
             ],
             [
              0.8888888888888888,
              "#fdca26"
             ],
             [
              1,
              "#f0f921"
             ]
            ],
            "type": "surface"
           }
          ],
          "table": [
           {
            "cells": {
             "fill": {
              "color": "#EBF0F8"
             },
             "line": {
              "color": "white"
             }
            },
            "header": {
             "fill": {
              "color": "#C8D4E3"
             },
             "line": {
              "color": "white"
             }
            },
            "type": "table"
           }
          ]
         },
         "layout": {
          "annotationdefaults": {
           "arrowcolor": "#2a3f5f",
           "arrowhead": 0,
           "arrowwidth": 1
          },
          "autotypenumbers": "strict",
          "coloraxis": {
           "colorbar": {
            "outlinewidth": 0,
            "ticks": ""
           }
          },
          "colorscale": {
           "diverging": [
            [
             0,
             "#8e0152"
            ],
            [
             0.1,
             "#c51b7d"
            ],
            [
             0.2,
             "#de77ae"
            ],
            [
             0.3,
             "#f1b6da"
            ],
            [
             0.4,
             "#fde0ef"
            ],
            [
             0.5,
             "#f7f7f7"
            ],
            [
             0.6,
             "#e6f5d0"
            ],
            [
             0.7,
             "#b8e186"
            ],
            [
             0.8,
             "#7fbc41"
            ],
            [
             0.9,
             "#4d9221"
            ],
            [
             1,
             "#276419"
            ]
           ],
           "sequential": [
            [
             0,
             "#0d0887"
            ],
            [
             0.1111111111111111,
             "#46039f"
            ],
            [
             0.2222222222222222,
             "#7201a8"
            ],
            [
             0.3333333333333333,
             "#9c179e"
            ],
            [
             0.4444444444444444,
             "#bd3786"
            ],
            [
             0.5555555555555556,
             "#d8576b"
            ],
            [
             0.6666666666666666,
             "#ed7953"
            ],
            [
             0.7777777777777778,
             "#fb9f3a"
            ],
            [
             0.8888888888888888,
             "#fdca26"
            ],
            [
             1,
             "#f0f921"
            ]
           ],
           "sequentialminus": [
            [
             0,
             "#0d0887"
            ],
            [
             0.1111111111111111,
             "#46039f"
            ],
            [
             0.2222222222222222,
             "#7201a8"
            ],
            [
             0.3333333333333333,
             "#9c179e"
            ],
            [
             0.4444444444444444,
             "#bd3786"
            ],
            [
             0.5555555555555556,
             "#d8576b"
            ],
            [
             0.6666666666666666,
             "#ed7953"
            ],
            [
             0.7777777777777778,
             "#fb9f3a"
            ],
            [
             0.8888888888888888,
             "#fdca26"
            ],
            [
             1,
             "#f0f921"
            ]
           ]
          },
          "colorway": [
           "#636efa",
           "#EF553B",
           "#00cc96",
           "#ab63fa",
           "#FFA15A",
           "#19d3f3",
           "#FF6692",
           "#B6E880",
           "#FF97FF",
           "#FECB52"
          ],
          "font": {
           "color": "#2a3f5f"
          },
          "geo": {
           "bgcolor": "white",
           "lakecolor": "white",
           "landcolor": "white",
           "showlakes": true,
           "showland": true,
           "subunitcolor": "#C8D4E3"
          },
          "hoverlabel": {
           "align": "left"
          },
          "hovermode": "closest",
          "mapbox": {
           "style": "light"
          },
          "paper_bgcolor": "white",
          "plot_bgcolor": "white",
          "polar": {
           "angularaxis": {
            "gridcolor": "#EBF0F8",
            "linecolor": "#EBF0F8",
            "ticks": ""
           },
           "bgcolor": "white",
           "radialaxis": {
            "gridcolor": "#EBF0F8",
            "linecolor": "#EBF0F8",
            "ticks": ""
           }
          },
          "scene": {
           "xaxis": {
            "backgroundcolor": "white",
            "gridcolor": "#DFE8F3",
            "gridwidth": 2,
            "linecolor": "#EBF0F8",
            "showbackground": true,
            "ticks": "",
            "zerolinecolor": "#EBF0F8"
           },
           "yaxis": {
            "backgroundcolor": "white",
            "gridcolor": "#DFE8F3",
            "gridwidth": 2,
            "linecolor": "#EBF0F8",
            "showbackground": true,
            "ticks": "",
            "zerolinecolor": "#EBF0F8"
           },
           "zaxis": {
            "backgroundcolor": "white",
            "gridcolor": "#DFE8F3",
            "gridwidth": 2,
            "linecolor": "#EBF0F8",
            "showbackground": true,
            "ticks": "",
            "zerolinecolor": "#EBF0F8"
           }
          },
          "shapedefaults": {
           "line": {
            "color": "#2a3f5f"
           }
          },
          "ternary": {
           "aaxis": {
            "gridcolor": "#DFE8F3",
            "linecolor": "#A2B1C6",
            "ticks": ""
           },
           "baxis": {
            "gridcolor": "#DFE8F3",
            "linecolor": "#A2B1C6",
            "ticks": ""
           },
           "bgcolor": "white",
           "caxis": {
            "gridcolor": "#DFE8F3",
            "linecolor": "#A2B1C6",
            "ticks": ""
           }
          },
          "title": {
           "x": 0.05
          },
          "xaxis": {
           "automargin": true,
           "gridcolor": "#EBF0F8",
           "linecolor": "#EBF0F8",
           "ticks": "",
           "title": {
            "standoff": 15
           },
           "zerolinecolor": "#EBF0F8",
           "zerolinewidth": 2
          },
          "yaxis": {
           "automargin": true,
           "gridcolor": "#EBF0F8",
           "linecolor": "#EBF0F8",
           "ticks": "",
           "title": {
            "standoff": 15
           },
           "zerolinecolor": "#EBF0F8",
           "zerolinewidth": 2
          }
         }
        },
        "title": {
         "text": "Anzahl der Social - Media - Posts mit der Kombination: <br>Gründe für den Wechsel und Hauptprodukten"
        },
        "width": 756,
        "xaxis": {
         "anchor": "y",
         "domain": [
          0,
          1
         ],
         "title": {
          "text": "Anzahl"
         }
        },
        "yaxis": {
         "anchor": "x",
         "domain": [
          0,
          1
         ],
         "title": {
          "text": "Hauptprodukten"
         }
        }
       }
      }
     },
     "metadata": {},
     "output_type": "display_data"
    },
    {
     "data": {
      "application/vnd.plotly.v1+json": {
       "config": {
        "plotlyServerURL": "https://plot.ly"
       },
       "data": [
        {
         "alignmentgroup": "True",
         "bingroup": "y",
         "histfunc": "sum",
         "hovertemplate": "Gründe für den Wechsel=ApothekerInnen<br>sum of Anteil (normalized as percent)=%{x}<br>Hauptprodukten=%{y}<extra></extra>",
         "legendgroup": "ApothekerInnen",
         "marker": {
          "color": "rgb(54, 112, 226)",
          "pattern": {
           "shape": ""
          }
         },
         "name": "ApothekerInnen",
         "offsetgroup": "ApothekerInnen",
         "orientation": "h",
         "showlegend": true,
         "textangle": 0,
         "texttemplate": "%{value:.0f}",
         "type": "histogram",
         "x": [
          0.07698229407236336,
          0.03849114703618168,
          0.1924557351809084,
          0.03849114703618168,
          0.15396458814472672
         ],
         "xaxis": "x",
         "y": [
          "BUSCOPAN",
          "CANESTEN GYN",
          "KADEFUNGIN",
          "KADEFUNGIN 3",
          "VAGISAN"
         ],
         "yaxis": "y"
        },
        {
         "alignmentgroup": "True",
         "bingroup": "y",
         "histfunc": "sum",
         "hovertemplate": "Gründe für den Wechsel=Empfehlung<br>sum of Anteil (normalized as percent)=%{x}<br>Hauptprodukten=%{y}<extra></extra>",
         "legendgroup": "Empfehlung",
         "marker": {
          "color": "rgb(54, 169, 226)",
          "pattern": {
           "shape": ""
          }
         },
         "name": "Empfehlung",
         "offsetgroup": "Empfehlung",
         "orientation": "h",
         "showlegend": true,
         "textangle": 0,
         "texttemplate": "%{value:.0f}",
         "type": "histogram",
         "x": [
          0.3849114703618168,
          0.30792917628945343,
          0.03849114703618168,
          0.03849114703618168,
          0.15396458814472672,
          0.11547344110854503,
          0.03849114703618168
         ],
         "xaxis": "x",
         "y": [
          "BUSCOPAN",
          "KADEFUNGIN",
          "KADEFUNGIN 6",
          "KADEFUNGIN BEFEUCHTUNG",
          "VAGISAN",
          "VAGISAN FEUCHTCREME",
          "VAGISAN INTIM"
         ],
         "yaxis": "y"
        },
        {
         "alignmentgroup": "True",
         "bingroup": "y",
         "histfunc": "sum",
         "hovertemplate": "Gründe für den Wechsel=Freunde oder Familie<br>sum of Anteil (normalized as percent)=%{x}<br>Hauptprodukten=%{y}<extra></extra>",
         "legendgroup": "Freunde oder Familie",
         "marker": {
          "color": "rgb(54, 226, 169)",
          "pattern": {
           "shape": ""
          }
         },
         "name": "Freunde oder Familie",
         "offsetgroup": "Freunde oder Familie",
         "orientation": "h",
         "showlegend": true,
         "textangle": 0,
         "texttemplate": "%{value:.0f}",
         "type": "histogram",
         "x": [
          0.07698229407236336,
          0.03849114703618168,
          0.07698229407236336,
          0.03849114703618168
         ],
         "xaxis": "x",
         "y": [
          "BUSCOPAN",
          "KADEFUNGIN",
          "VAGISAN",
          "VAGISAN MYKO"
         ],
         "yaxis": "y"
        },
        {
         "alignmentgroup": "True",
         "bingroup": "y",
         "histfunc": "sum",
         "hovertemplate": "Gründe für den Wechsel=Kein Einfluss<br>sum of Anteil (normalized as percent)=%{x}<br>Hauptprodukten=%{y}<extra></extra>",
         "legendgroup": "Kein Einfluss",
         "marker": {
          "color": "rgb(112, 54, 226)",
          "pattern": {
           "shape": ""
          }
         },
         "name": "Kein Einfluss",
         "offsetgroup": "Kein Einfluss",
         "orientation": "h",
         "showlegend": true,
         "textangle": 0,
         "texttemplate": "%{value:.0f}",
         "type": "histogram",
         "x": [
          0.11547344110854503,
          0.03849114703618168,
          0.07698229407236336,
          0.03849114703618168,
          0.03849114703618168,
          0.03849114703618168,
          0.03849114703618168
         ],
         "xaxis": "x",
         "y": [
          "BUSCOPAN",
          "CANESTEN GYN",
          "KADEFUNGIN",
          "KADEFUNGIN 3",
          "VAGISAN",
          "VAGISAN FEUCHTCREME",
          "VAGISAN MYKO"
         ],
         "yaxis": "y"
        },
        {
         "alignmentgroup": "True",
         "bingroup": "y",
         "histfunc": "sum",
         "hovertemplate": "Gründe für den Wechsel=Social Media<br>sum of Anteil (normalized as percent)=%{x}<br>Hauptprodukten=%{y}<extra></extra>",
         "legendgroup": "Social Media",
         "marker": {
          "color": "rgb(226, 54, 169)",
          "pattern": {
           "shape": ""
          }
         },
         "name": "Social Media",
         "offsetgroup": "Social Media",
         "orientation": "h",
         "showlegend": true,
         "textangle": 0,
         "texttemplate": "%{value:.0f}",
         "type": "histogram",
         "x": [
          0.11547344110854503,
          0.11547344110854503,
          0.07698229407236336,
          0.07698229407236336,
          0.03849114703618168
         ],
         "xaxis": "x",
         "y": [
          "BUSCOPAN",
          "CANESTEN GYN",
          "KADEFUNGIN",
          "VAGISAN",
          "VAGISAN FEUCHTCREME"
         ],
         "yaxis": "y"
        },
        {
         "alignmentgroup": "True",
         "bingroup": "y",
         "histfunc": "sum",
         "hovertemplate": "Gründe für den Wechsel=Vorhandene Erfahrung<br>sum of Anteil (normalized as percent)=%{x}<br>Hauptprodukten=%{y}<extra></extra>",
         "legendgroup": "Vorhandene Erfahrung",
         "marker": {
          "color": "rgb(169, 54, 226)",
          "pattern": {
           "shape": ""
          }
         },
         "name": "Vorhandene Erfahrung",
         "offsetgroup": "Vorhandene Erfahrung",
         "orientation": "h",
         "showlegend": true,
         "textangle": 0,
         "texttemplate": "%{value:.0f}",
         "type": "histogram",
         "x": [
          0.15396458814472672,
          0.11547344110854503,
          0.1924557351809084,
          0.03849114703618168,
          0.03849114703618168
         ],
         "xaxis": "x",
         "y": [
          "BUSCOPAN",
          "CANESTEN GYN",
          "KADEFUNGIN",
          "KADEFUNGIN 3",
          "VAGISAN FEUCHTCREME"
         ],
         "yaxis": "y"
        },
        {
         "alignmentgroup": "True",
         "bingroup": "y",
         "histfunc": "sum",
         "hovertemplate": "Gründe für den Wechsel=ÄrztInnen<br>sum of Anteil (normalized as percent)=%{x}<br>Hauptprodukten=%{y}<extra></extra>",
         "legendgroup": "ÄrztInnen",
         "marker": {
          "color": "rgb(169, 226, 54)",
          "pattern": {
           "shape": ""
          }
         },
         "name": "ÄrztInnen",
         "offsetgroup": "ÄrztInnen",
         "orientation": "h",
         "showlegend": true,
         "textangle": 0,
         "texttemplate": "%{value:.0f}",
         "type": "histogram",
         "x": [
          0.23094688221709006,
          0.30792917628945343,
          2.655889145496536,
          0.5388760585065435,
          0.11547344110854503,
          0.07698229407236336,
          0.9237875288683602,
          0.11547344110854503,
          0.23094688221709006
         ],
         "xaxis": "x",
         "y": [
          "BUSCOPAN",
          "CANESTEN GYN",
          "KADEFUNGIN",
          "KADEFUNGIN 3",
          "KADEFUNGIN 6",
          "KADEFUNGIN BEFEUCHTUNG",
          "VAGISAN",
          "VAGISAN FEUCHTCREME",
          "VAGISAN MYKO"
         ],
         "yaxis": "y"
        },
        {
         "alignmentgroup": "True",
         "bingroup": "y",
         "histfunc": "sum",
         "hovertemplate": "Gründe für den Wechsel=Hebammen<br>sum of Anteil (normalized as percent)=%{x}<br>Hauptprodukten=%{y}<extra></extra>",
         "legendgroup": "Hebammen",
         "marker": {
          "color": "rgb(204, 153, 255)",
          "pattern": {
           "shape": ""
          }
         },
         "name": "Hebammen",
         "offsetgroup": "Hebammen",
         "orientation": "h",
         "showlegend": true,
         "textangle": 0,
         "texttemplate": "%{value:.0f}",
         "type": "histogram",
         "x": [
          0.03849114703618168,
          0.03849114703618168,
          0.03849114703618168
         ],
         "xaxis": "x",
         "y": [
          "CANESTEN GYN",
          "KADEFUNGIN",
          "VAGISAN"
         ],
         "yaxis": "y"
        },
        {
         "alignmentgroup": "True",
         "bingroup": "y",
         "histfunc": "sum",
         "hovertemplate": "Gründe für den Wechsel=Werbung<br>sum of Anteil (normalized as percent)=%{x}<br>Hauptprodukten=%{y}<extra></extra>",
         "legendgroup": "Werbung",
         "marker": {
          "color": "rgb(226, 226, 54)",
          "pattern": {
           "shape": ""
          }
         },
         "name": "Werbung",
         "offsetgroup": "Werbung",
         "orientation": "h",
         "showlegend": true,
         "textangle": 0,
         "texttemplate": "%{value:.0f}",
         "type": "histogram",
         "x": [
          0.03849114703618168,
          0.03849114703618168
         ],
         "xaxis": "x",
         "y": [
          "CANESTEN GYN",
          "VAGISAN"
         ],
         "yaxis": "y"
        },
        {
         "alignmentgroup": "True",
         "bingroup": "y",
         "histfunc": "sum",
         "hovertemplate": "Gründe für den Wechsel=Andere medizinische Fachkraft<br>sum of Anteil (normalized as percent)=%{x}<br>Hauptprodukten=%{y}<extra></extra>",
         "legendgroup": "Andere medizinische Fachkraft",
         "marker": {
          "color": "rgb(54, 226, 112)",
          "pattern": {
           "shape": ""
          }
         },
         "name": "Andere medizinische Fachkraft",
         "offsetgroup": "Andere medizinische Fachkraft",
         "orientation": "h",
         "showlegend": true,
         "textangle": 0,
         "texttemplate": "%{value:.0f}",
         "type": "histogram",
         "x": [
          0.07698229407236336
         ],
         "xaxis": "x",
         "y": [
          "KADEFUNGIN"
         ],
         "yaxis": "y"
        }
       ],
       "layout": {
        "annotations": [
         {
          "align": "left",
          "font": {
           "size": 9
          },
          "showarrow": false,
          "text": "Basierend auf 224 Social-Media-Konversationen aus öffentlich zugänglichen Foren <br>Deutschland, Januar 2013 – April 2023.",
          "textangle": 0,
          "x": -0.25,
          "xanchor": "left",
          "xref": "paper",
          "y": -0.39,
          "yref": "paper"
         }
        ],
        "autosize": false,
        "barmode": "relative",
        "barnorm": "percent",
        "height": 378,
        "legend": {
         "title": {
          "text": "Gründe für den Wechsel"
         },
         "tracegroupgap": 0
        },
        "template": {
         "data": {
          "bar": [
           {
            "error_x": {
             "color": "#2a3f5f"
            },
            "error_y": {
             "color": "#2a3f5f"
            },
            "marker": {
             "line": {
              "color": "white",
              "width": 0.5
             },
             "pattern": {
              "fillmode": "overlay",
              "size": 10,
              "solidity": 0.2
             }
            },
            "type": "bar"
           }
          ],
          "barpolar": [
           {
            "marker": {
             "line": {
              "color": "white",
              "width": 0.5
             },
             "pattern": {
              "fillmode": "overlay",
              "size": 10,
              "solidity": 0.2
             }
            },
            "type": "barpolar"
           }
          ],
          "carpet": [
           {
            "aaxis": {
             "endlinecolor": "#2a3f5f",
             "gridcolor": "#C8D4E3",
             "linecolor": "#C8D4E3",
             "minorgridcolor": "#C8D4E3",
             "startlinecolor": "#2a3f5f"
            },
            "baxis": {
             "endlinecolor": "#2a3f5f",
             "gridcolor": "#C8D4E3",
             "linecolor": "#C8D4E3",
             "minorgridcolor": "#C8D4E3",
             "startlinecolor": "#2a3f5f"
            },
            "type": "carpet"
           }
          ],
          "choropleth": [
           {
            "colorbar": {
             "outlinewidth": 0,
             "ticks": ""
            },
            "type": "choropleth"
           }
          ],
          "contour": [
           {
            "colorbar": {
             "outlinewidth": 0,
             "ticks": ""
            },
            "colorscale": [
             [
              0,
              "#0d0887"
             ],
             [
              0.1111111111111111,
              "#46039f"
             ],
             [
              0.2222222222222222,
              "#7201a8"
             ],
             [
              0.3333333333333333,
              "#9c179e"
             ],
             [
              0.4444444444444444,
              "#bd3786"
             ],
             [
              0.5555555555555556,
              "#d8576b"
             ],
             [
              0.6666666666666666,
              "#ed7953"
             ],
             [
              0.7777777777777778,
              "#fb9f3a"
             ],
             [
              0.8888888888888888,
              "#fdca26"
             ],
             [
              1,
              "#f0f921"
             ]
            ],
            "type": "contour"
           }
          ],
          "contourcarpet": [
           {
            "colorbar": {
             "outlinewidth": 0,
             "ticks": ""
            },
            "type": "contourcarpet"
           }
          ],
          "heatmap": [
           {
            "colorbar": {
             "outlinewidth": 0,
             "ticks": ""
            },
            "colorscale": [
             [
              0,
              "#0d0887"
             ],
             [
              0.1111111111111111,
              "#46039f"
             ],
             [
              0.2222222222222222,
              "#7201a8"
             ],
             [
              0.3333333333333333,
              "#9c179e"
             ],
             [
              0.4444444444444444,
              "#bd3786"
             ],
             [
              0.5555555555555556,
              "#d8576b"
             ],
             [
              0.6666666666666666,
              "#ed7953"
             ],
             [
              0.7777777777777778,
              "#fb9f3a"
             ],
             [
              0.8888888888888888,
              "#fdca26"
             ],
             [
              1,
              "#f0f921"
             ]
            ],
            "type": "heatmap"
           }
          ],
          "heatmapgl": [
           {
            "colorbar": {
             "outlinewidth": 0,
             "ticks": ""
            },
            "colorscale": [
             [
              0,
              "#0d0887"
             ],
             [
              0.1111111111111111,
              "#46039f"
             ],
             [
              0.2222222222222222,
              "#7201a8"
             ],
             [
              0.3333333333333333,
              "#9c179e"
             ],
             [
              0.4444444444444444,
              "#bd3786"
             ],
             [
              0.5555555555555556,
              "#d8576b"
             ],
             [
              0.6666666666666666,
              "#ed7953"
             ],
             [
              0.7777777777777778,
              "#fb9f3a"
             ],
             [
              0.8888888888888888,
              "#fdca26"
             ],
             [
              1,
              "#f0f921"
             ]
            ],
            "type": "heatmapgl"
           }
          ],
          "histogram": [
           {
            "marker": {
             "pattern": {
              "fillmode": "overlay",
              "size": 10,
              "solidity": 0.2
             }
            },
            "type": "histogram"
           }
          ],
          "histogram2d": [
           {
            "colorbar": {
             "outlinewidth": 0,
             "ticks": ""
            },
            "colorscale": [
             [
              0,
              "#0d0887"
             ],
             [
              0.1111111111111111,
              "#46039f"
             ],
             [
              0.2222222222222222,
              "#7201a8"
             ],
             [
              0.3333333333333333,
              "#9c179e"
             ],
             [
              0.4444444444444444,
              "#bd3786"
             ],
             [
              0.5555555555555556,
              "#d8576b"
             ],
             [
              0.6666666666666666,
              "#ed7953"
             ],
             [
              0.7777777777777778,
              "#fb9f3a"
             ],
             [
              0.8888888888888888,
              "#fdca26"
             ],
             [
              1,
              "#f0f921"
             ]
            ],
            "type": "histogram2d"
           }
          ],
          "histogram2dcontour": [
           {
            "colorbar": {
             "outlinewidth": 0,
             "ticks": ""
            },
            "colorscale": [
             [
              0,
              "#0d0887"
             ],
             [
              0.1111111111111111,
              "#46039f"
             ],
             [
              0.2222222222222222,
              "#7201a8"
             ],
             [
              0.3333333333333333,
              "#9c179e"
             ],
             [
              0.4444444444444444,
              "#bd3786"
             ],
             [
              0.5555555555555556,
              "#d8576b"
             ],
             [
              0.6666666666666666,
              "#ed7953"
             ],
             [
              0.7777777777777778,
              "#fb9f3a"
             ],
             [
              0.8888888888888888,
              "#fdca26"
             ],
             [
              1,
              "#f0f921"
             ]
            ],
            "type": "histogram2dcontour"
           }
          ],
          "mesh3d": [
           {
            "colorbar": {
             "outlinewidth": 0,
             "ticks": ""
            },
            "type": "mesh3d"
           }
          ],
          "parcoords": [
           {
            "line": {
             "colorbar": {
              "outlinewidth": 0,
              "ticks": ""
             }
            },
            "type": "parcoords"
           }
          ],
          "pie": [
           {
            "automargin": true,
            "type": "pie"
           }
          ],
          "scatter": [
           {
            "fillpattern": {
             "fillmode": "overlay",
             "size": 10,
             "solidity": 0.2
            },
            "type": "scatter"
           }
          ],
          "scatter3d": [
           {
            "line": {
             "colorbar": {
              "outlinewidth": 0,
              "ticks": ""
             }
            },
            "marker": {
             "colorbar": {
              "outlinewidth": 0,
              "ticks": ""
             }
            },
            "type": "scatter3d"
           }
          ],
          "scattercarpet": [
           {
            "marker": {
             "colorbar": {
              "outlinewidth": 0,
              "ticks": ""
             }
            },
            "type": "scattercarpet"
           }
          ],
          "scattergeo": [
           {
            "marker": {
             "colorbar": {
              "outlinewidth": 0,
              "ticks": ""
             }
            },
            "type": "scattergeo"
           }
          ],
          "scattergl": [
           {
            "marker": {
             "colorbar": {
              "outlinewidth": 0,
              "ticks": ""
             }
            },
            "type": "scattergl"
           }
          ],
          "scattermapbox": [
           {
            "marker": {
             "colorbar": {
              "outlinewidth": 0,
              "ticks": ""
             }
            },
            "type": "scattermapbox"
           }
          ],
          "scatterpolar": [
           {
            "marker": {
             "colorbar": {
              "outlinewidth": 0,
              "ticks": ""
             }
            },
            "type": "scatterpolar"
           }
          ],
          "scatterpolargl": [
           {
            "marker": {
             "colorbar": {
              "outlinewidth": 0,
              "ticks": ""
             }
            },
            "type": "scatterpolargl"
           }
          ],
          "scatterternary": [
           {
            "marker": {
             "colorbar": {
              "outlinewidth": 0,
              "ticks": ""
             }
            },
            "type": "scatterternary"
           }
          ],
          "surface": [
           {
            "colorbar": {
             "outlinewidth": 0,
             "ticks": ""
            },
            "colorscale": [
             [
              0,
              "#0d0887"
             ],
             [
              0.1111111111111111,
              "#46039f"
             ],
             [
              0.2222222222222222,
              "#7201a8"
             ],
             [
              0.3333333333333333,
              "#9c179e"
             ],
             [
              0.4444444444444444,
              "#bd3786"
             ],
             [
              0.5555555555555556,
              "#d8576b"
             ],
             [
              0.6666666666666666,
              "#ed7953"
             ],
             [
              0.7777777777777778,
              "#fb9f3a"
             ],
             [
              0.8888888888888888,
              "#fdca26"
             ],
             [
              1,
              "#f0f921"
             ]
            ],
            "type": "surface"
           }
          ],
          "table": [
           {
            "cells": {
             "fill": {
              "color": "#EBF0F8"
             },
             "line": {
              "color": "white"
             }
            },
            "header": {
             "fill": {
              "color": "#C8D4E3"
             },
             "line": {
              "color": "white"
             }
            },
            "type": "table"
           }
          ]
         },
         "layout": {
          "annotationdefaults": {
           "arrowcolor": "#2a3f5f",
           "arrowhead": 0,
           "arrowwidth": 1
          },
          "autotypenumbers": "strict",
          "coloraxis": {
           "colorbar": {
            "outlinewidth": 0,
            "ticks": ""
           }
          },
          "colorscale": {
           "diverging": [
            [
             0,
             "#8e0152"
            ],
            [
             0.1,
             "#c51b7d"
            ],
            [
             0.2,
             "#de77ae"
            ],
            [
             0.3,
             "#f1b6da"
            ],
            [
             0.4,
             "#fde0ef"
            ],
            [
             0.5,
             "#f7f7f7"
            ],
            [
             0.6,
             "#e6f5d0"
            ],
            [
             0.7,
             "#b8e186"
            ],
            [
             0.8,
             "#7fbc41"
            ],
            [
             0.9,
             "#4d9221"
            ],
            [
             1,
             "#276419"
            ]
           ],
           "sequential": [
            [
             0,
             "#0d0887"
            ],
            [
             0.1111111111111111,
             "#46039f"
            ],
            [
             0.2222222222222222,
             "#7201a8"
            ],
            [
             0.3333333333333333,
             "#9c179e"
            ],
            [
             0.4444444444444444,
             "#bd3786"
            ],
            [
             0.5555555555555556,
             "#d8576b"
            ],
            [
             0.6666666666666666,
             "#ed7953"
            ],
            [
             0.7777777777777778,
             "#fb9f3a"
            ],
            [
             0.8888888888888888,
             "#fdca26"
            ],
            [
             1,
             "#f0f921"
            ]
           ],
           "sequentialminus": [
            [
             0,
             "#0d0887"
            ],
            [
             0.1111111111111111,
             "#46039f"
            ],
            [
             0.2222222222222222,
             "#7201a8"
            ],
            [
             0.3333333333333333,
             "#9c179e"
            ],
            [
             0.4444444444444444,
             "#bd3786"
            ],
            [
             0.5555555555555556,
             "#d8576b"
            ],
            [
             0.6666666666666666,
             "#ed7953"
            ],
            [
             0.7777777777777778,
             "#fb9f3a"
            ],
            [
             0.8888888888888888,
             "#fdca26"
            ],
            [
             1,
             "#f0f921"
            ]
           ]
          },
          "colorway": [
           "#636efa",
           "#EF553B",
           "#00cc96",
           "#ab63fa",
           "#FFA15A",
           "#19d3f3",
           "#FF6692",
           "#B6E880",
           "#FF97FF",
           "#FECB52"
          ],
          "font": {
           "color": "#2a3f5f"
          },
          "geo": {
           "bgcolor": "white",
           "lakecolor": "white",
           "landcolor": "white",
           "showlakes": true,
           "showland": true,
           "subunitcolor": "#C8D4E3"
          },
          "hoverlabel": {
           "align": "left"
          },
          "hovermode": "closest",
          "mapbox": {
           "style": "light"
          },
          "paper_bgcolor": "white",
          "plot_bgcolor": "white",
          "polar": {
           "angularaxis": {
            "gridcolor": "#EBF0F8",
            "linecolor": "#EBF0F8",
            "ticks": ""
           },
           "bgcolor": "white",
           "radialaxis": {
            "gridcolor": "#EBF0F8",
            "linecolor": "#EBF0F8",
            "ticks": ""
           }
          },
          "scene": {
           "xaxis": {
            "backgroundcolor": "white",
            "gridcolor": "#DFE8F3",
            "gridwidth": 2,
            "linecolor": "#EBF0F8",
            "showbackground": true,
            "ticks": "",
            "zerolinecolor": "#EBF0F8"
           },
           "yaxis": {
            "backgroundcolor": "white",
            "gridcolor": "#DFE8F3",
            "gridwidth": 2,
            "linecolor": "#EBF0F8",
            "showbackground": true,
            "ticks": "",
            "zerolinecolor": "#EBF0F8"
           },
           "zaxis": {
            "backgroundcolor": "white",
            "gridcolor": "#DFE8F3",
            "gridwidth": 2,
            "linecolor": "#EBF0F8",
            "showbackground": true,
            "ticks": "",
            "zerolinecolor": "#EBF0F8"
           }
          },
          "shapedefaults": {
           "line": {
            "color": "#2a3f5f"
           }
          },
          "ternary": {
           "aaxis": {
            "gridcolor": "#DFE8F3",
            "linecolor": "#A2B1C6",
            "ticks": ""
           },
           "baxis": {
            "gridcolor": "#DFE8F3",
            "linecolor": "#A2B1C6",
            "ticks": ""
           },
           "bgcolor": "white",
           "caxis": {
            "gridcolor": "#DFE8F3",
            "linecolor": "#A2B1C6",
            "ticks": ""
           }
          },
          "title": {
           "x": 0.05
          },
          "xaxis": {
           "automargin": true,
           "gridcolor": "#EBF0F8",
           "linecolor": "#EBF0F8",
           "ticks": "",
           "title": {
            "standoff": 15
           },
           "zerolinecolor": "#EBF0F8",
           "zerolinewidth": 2
          },
          "yaxis": {
           "automargin": true,
           "gridcolor": "#EBF0F8",
           "linecolor": "#EBF0F8",
           "ticks": "",
           "title": {
            "standoff": 15
           },
           "zerolinecolor": "#EBF0F8",
           "zerolinewidth": 2
          }
         }
        },
        "title": {
         "text": "Anzahl der Social - Media - Posts mit der Kombination: <br>Gründe für den Wechsel und Hauptprodukten"
        },
        "width": 756,
        "xaxis": {
         "anchor": "y",
         "domain": [
          0,
          1
         ],
         "title": {
          "text": "Anteil"
         }
        },
        "yaxis": {
         "anchor": "x",
         "domain": [
          0,
          1
         ],
         "title": {
          "text": "Hauptprodukten"
         }
        }
       }
      }
     },
     "metadata": {},
     "output_type": "display_data"
    },
    {
     "name": "stdout",
     "output_type": "stream",
     "text": [
      "                 product_1 product_1_dosage_answer  Anzahl    Anteil\n",
      "0                 BUSCOPAN                     Gel       1  0.038491\n",
      "1                 BUSCOPAN                  Lotion       1  0.038491\n",
      "2             CANESTEN GYN         Granulat/Pulver       2  0.076982\n",
      "3             CANESTEN GYN                  Lotion       1  0.038491\n",
      "5             CANESTEN GYN      Tablette (vaginal)       1  0.038491\n",
      "6               KADEFUNGIN                     Gel       5  0.192456\n",
      "7               KADEFUNGIN                  Lotion       3  0.115473\n",
      "9               KADEFUNGIN         Tablette (oral)       2  0.076982\n",
      "10              KADEFUNGIN      Tablette (vaginal)       1  0.038491\n",
      "11            KADEFUNGIN 3                  Lotion       1  0.038491\n",
      "12            KADEFUNGIN 3         Tablette (oral)       1  0.038491\n",
      "13  KADEFUNGIN BEFEUCHTUNG                     Gel       1  0.038491\n",
      "14  KADEFUNGIN BEFEUCHTUNG                  Lotion       1  0.038491\n",
      "15                 VAGISAN                     Gel       2  0.076982\n",
      "16                 VAGISAN         Granulat/Pulver       2  0.076982\n",
      "17                 VAGISAN                  Lotion       5  0.192456\n",
      "19     VAGISAN FEUCHTCREME                  Lotion       2  0.076982\n"
     ]
    },
    {
     "data": {
      "application/vnd.plotly.v1+json": {
       "config": {
        "plotlyServerURL": "https://plot.ly"
       },
       "data": [
        {
         "alignmentgroup": "True",
         "hovertemplate": "Darreichungsform=Gel<br>Anzahl=%{x}<br>Hauptprodukten=%{y}<extra></extra>",
         "legendgroup": "Gel",
         "marker": {
          "color": "rgb(54, 112, 226)",
          "pattern": {
           "shape": ""
          }
         },
         "name": "Gel",
         "offsetgroup": "Gel",
         "orientation": "h",
         "showlegend": true,
         "textangle": 0,
         "textposition": "auto",
         "texttemplate": "%{x:.0f}",
         "type": "bar",
         "x": [
          1,
          5,
          1,
          2
         ],
         "xaxis": "x",
         "y": [
          "BUSCOPAN",
          "KADEFUNGIN",
          "KADEFUNGIN BEFEUCHTUNG",
          "VAGISAN"
         ],
         "yaxis": "y"
        },
        {
         "alignmentgroup": "True",
         "hovertemplate": "Darreichungsform=Lotion<br>Anzahl=%{x}<br>Hauptprodukten=%{y}<extra></extra>",
         "legendgroup": "Lotion",
         "marker": {
          "color": "rgb(54, 169, 226)",
          "pattern": {
           "shape": ""
          }
         },
         "name": "Lotion",
         "offsetgroup": "Lotion",
         "orientation": "h",
         "showlegend": true,
         "textangle": 0,
         "textposition": "auto",
         "texttemplate": "%{x:.0f}",
         "type": "bar",
         "x": [
          1,
          1,
          3,
          1,
          1,
          5,
          2
         ],
         "xaxis": "x",
         "y": [
          "BUSCOPAN",
          "CANESTEN GYN",
          "KADEFUNGIN",
          "KADEFUNGIN 3",
          "KADEFUNGIN BEFEUCHTUNG",
          "VAGISAN",
          "VAGISAN FEUCHTCREME"
         ],
         "yaxis": "y"
        },
        {
         "alignmentgroup": "True",
         "hovertemplate": "Darreichungsform=Granulat/Pulver<br>Anzahl=%{x}<br>Hauptprodukten=%{y}<extra></extra>",
         "legendgroup": "Granulat/Pulver",
         "marker": {
          "color": "rgb(54, 226, 169)",
          "pattern": {
           "shape": ""
          }
         },
         "name": "Granulat/Pulver",
         "offsetgroup": "Granulat/Pulver",
         "orientation": "h",
         "showlegend": true,
         "textangle": 0,
         "textposition": "auto",
         "texttemplate": "%{x:.0f}",
         "type": "bar",
         "x": [
          2,
          2
         ],
         "xaxis": "x",
         "y": [
          "CANESTEN GYN",
          "VAGISAN"
         ],
         "yaxis": "y"
        },
        {
         "alignmentgroup": "True",
         "hovertemplate": "Darreichungsform=Tablette (vaginal)<br>Anzahl=%{x}<br>Hauptprodukten=%{y}<extra></extra>",
         "legendgroup": "Tablette (vaginal)",
         "marker": {
          "color": "rgb(112, 54, 226)",
          "pattern": {
           "shape": ""
          }
         },
         "name": "Tablette (vaginal)",
         "offsetgroup": "Tablette (vaginal)",
         "orientation": "h",
         "showlegend": true,
         "textangle": 0,
         "textposition": "auto",
         "texttemplate": "%{x:.0f}",
         "type": "bar",
         "x": [
          1,
          1
         ],
         "xaxis": "x",
         "y": [
          "CANESTEN GYN",
          "KADEFUNGIN"
         ],
         "yaxis": "y"
        },
        {
         "alignmentgroup": "True",
         "hovertemplate": "Darreichungsform=Tablette (oral)<br>Anzahl=%{x}<br>Hauptprodukten=%{y}<extra></extra>",
         "legendgroup": "Tablette (oral)",
         "marker": {
          "color": "rgb(226, 54, 169)",
          "pattern": {
           "shape": ""
          }
         },
         "name": "Tablette (oral)",
         "offsetgroup": "Tablette (oral)",
         "orientation": "h",
         "showlegend": true,
         "textangle": 0,
         "textposition": "auto",
         "texttemplate": "%{x:.0f}",
         "type": "bar",
         "x": [
          2,
          1
         ],
         "xaxis": "x",
         "y": [
          "KADEFUNGIN",
          "KADEFUNGIN 3"
         ],
         "yaxis": "y"
        }
       ],
       "layout": {
        "annotations": [
         {
          "align": "left",
          "font": {
           "size": 9
          },
          "showarrow": false,
          "text": "Basierend auf 32 Social-Media-Konversationen aus öffentlich zugänglichen Foren <br>Deutschland, Januar 2013 – April 2023.",
          "textangle": 0,
          "x": -0.25,
          "xanchor": "left",
          "xref": "paper",
          "y": -0.39,
          "yref": "paper"
         }
        ],
        "autosize": false,
        "barmode": "relative",
        "height": 378,
        "legend": {
         "title": {
          "text": "Darreichungsform"
         },
         "tracegroupgap": 0
        },
        "template": {
         "data": {
          "bar": [
           {
            "error_x": {
             "color": "#2a3f5f"
            },
            "error_y": {
             "color": "#2a3f5f"
            },
            "marker": {
             "line": {
              "color": "white",
              "width": 0.5
             },
             "pattern": {
              "fillmode": "overlay",
              "size": 10,
              "solidity": 0.2
             }
            },
            "type": "bar"
           }
          ],
          "barpolar": [
           {
            "marker": {
             "line": {
              "color": "white",
              "width": 0.5
             },
             "pattern": {
              "fillmode": "overlay",
              "size": 10,
              "solidity": 0.2
             }
            },
            "type": "barpolar"
           }
          ],
          "carpet": [
           {
            "aaxis": {
             "endlinecolor": "#2a3f5f",
             "gridcolor": "#C8D4E3",
             "linecolor": "#C8D4E3",
             "minorgridcolor": "#C8D4E3",
             "startlinecolor": "#2a3f5f"
            },
            "baxis": {
             "endlinecolor": "#2a3f5f",
             "gridcolor": "#C8D4E3",
             "linecolor": "#C8D4E3",
             "minorgridcolor": "#C8D4E3",
             "startlinecolor": "#2a3f5f"
            },
            "type": "carpet"
           }
          ],
          "choropleth": [
           {
            "colorbar": {
             "outlinewidth": 0,
             "ticks": ""
            },
            "type": "choropleth"
           }
          ],
          "contour": [
           {
            "colorbar": {
             "outlinewidth": 0,
             "ticks": ""
            },
            "colorscale": [
             [
              0,
              "#0d0887"
             ],
             [
              0.1111111111111111,
              "#46039f"
             ],
             [
              0.2222222222222222,
              "#7201a8"
             ],
             [
              0.3333333333333333,
              "#9c179e"
             ],
             [
              0.4444444444444444,
              "#bd3786"
             ],
             [
              0.5555555555555556,
              "#d8576b"
             ],
             [
              0.6666666666666666,
              "#ed7953"
             ],
             [
              0.7777777777777778,
              "#fb9f3a"
             ],
             [
              0.8888888888888888,
              "#fdca26"
             ],
             [
              1,
              "#f0f921"
             ]
            ],
            "type": "contour"
           }
          ],
          "contourcarpet": [
           {
            "colorbar": {
             "outlinewidth": 0,
             "ticks": ""
            },
            "type": "contourcarpet"
           }
          ],
          "heatmap": [
           {
            "colorbar": {
             "outlinewidth": 0,
             "ticks": ""
            },
            "colorscale": [
             [
              0,
              "#0d0887"
             ],
             [
              0.1111111111111111,
              "#46039f"
             ],
             [
              0.2222222222222222,
              "#7201a8"
             ],
             [
              0.3333333333333333,
              "#9c179e"
             ],
             [
              0.4444444444444444,
              "#bd3786"
             ],
             [
              0.5555555555555556,
              "#d8576b"
             ],
             [
              0.6666666666666666,
              "#ed7953"
             ],
             [
              0.7777777777777778,
              "#fb9f3a"
             ],
             [
              0.8888888888888888,
              "#fdca26"
             ],
             [
              1,
              "#f0f921"
             ]
            ],
            "type": "heatmap"
           }
          ],
          "heatmapgl": [
           {
            "colorbar": {
             "outlinewidth": 0,
             "ticks": ""
            },
            "colorscale": [
             [
              0,
              "#0d0887"
             ],
             [
              0.1111111111111111,
              "#46039f"
             ],
             [
              0.2222222222222222,
              "#7201a8"
             ],
             [
              0.3333333333333333,
              "#9c179e"
             ],
             [
              0.4444444444444444,
              "#bd3786"
             ],
             [
              0.5555555555555556,
              "#d8576b"
             ],
             [
              0.6666666666666666,
              "#ed7953"
             ],
             [
              0.7777777777777778,
              "#fb9f3a"
             ],
             [
              0.8888888888888888,
              "#fdca26"
             ],
             [
              1,
              "#f0f921"
             ]
            ],
            "type": "heatmapgl"
           }
          ],
          "histogram": [
           {
            "marker": {
             "pattern": {
              "fillmode": "overlay",
              "size": 10,
              "solidity": 0.2
             }
            },
            "type": "histogram"
           }
          ],
          "histogram2d": [
           {
            "colorbar": {
             "outlinewidth": 0,
             "ticks": ""
            },
            "colorscale": [
             [
              0,
              "#0d0887"
             ],
             [
              0.1111111111111111,
              "#46039f"
             ],
             [
              0.2222222222222222,
              "#7201a8"
             ],
             [
              0.3333333333333333,
              "#9c179e"
             ],
             [
              0.4444444444444444,
              "#bd3786"
             ],
             [
              0.5555555555555556,
              "#d8576b"
             ],
             [
              0.6666666666666666,
              "#ed7953"
             ],
             [
              0.7777777777777778,
              "#fb9f3a"
             ],
             [
              0.8888888888888888,
              "#fdca26"
             ],
             [
              1,
              "#f0f921"
             ]
            ],
            "type": "histogram2d"
           }
          ],
          "histogram2dcontour": [
           {
            "colorbar": {
             "outlinewidth": 0,
             "ticks": ""
            },
            "colorscale": [
             [
              0,
              "#0d0887"
             ],
             [
              0.1111111111111111,
              "#46039f"
             ],
             [
              0.2222222222222222,
              "#7201a8"
             ],
             [
              0.3333333333333333,
              "#9c179e"
             ],
             [
              0.4444444444444444,
              "#bd3786"
             ],
             [
              0.5555555555555556,
              "#d8576b"
             ],
             [
              0.6666666666666666,
              "#ed7953"
             ],
             [
              0.7777777777777778,
              "#fb9f3a"
             ],
             [
              0.8888888888888888,
              "#fdca26"
             ],
             [
              1,
              "#f0f921"
             ]
            ],
            "type": "histogram2dcontour"
           }
          ],
          "mesh3d": [
           {
            "colorbar": {
             "outlinewidth": 0,
             "ticks": ""
            },
            "type": "mesh3d"
           }
          ],
          "parcoords": [
           {
            "line": {
             "colorbar": {
              "outlinewidth": 0,
              "ticks": ""
             }
            },
            "type": "parcoords"
           }
          ],
          "pie": [
           {
            "automargin": true,
            "type": "pie"
           }
          ],
          "scatter": [
           {
            "fillpattern": {
             "fillmode": "overlay",
             "size": 10,
             "solidity": 0.2
            },
            "type": "scatter"
           }
          ],
          "scatter3d": [
           {
            "line": {
             "colorbar": {
              "outlinewidth": 0,
              "ticks": ""
             }
            },
            "marker": {
             "colorbar": {
              "outlinewidth": 0,
              "ticks": ""
             }
            },
            "type": "scatter3d"
           }
          ],
          "scattercarpet": [
           {
            "marker": {
             "colorbar": {
              "outlinewidth": 0,
              "ticks": ""
             }
            },
            "type": "scattercarpet"
           }
          ],
          "scattergeo": [
           {
            "marker": {
             "colorbar": {
              "outlinewidth": 0,
              "ticks": ""
             }
            },
            "type": "scattergeo"
           }
          ],
          "scattergl": [
           {
            "marker": {
             "colorbar": {
              "outlinewidth": 0,
              "ticks": ""
             }
            },
            "type": "scattergl"
           }
          ],
          "scattermapbox": [
           {
            "marker": {
             "colorbar": {
              "outlinewidth": 0,
              "ticks": ""
             }
            },
            "type": "scattermapbox"
           }
          ],
          "scatterpolar": [
           {
            "marker": {
             "colorbar": {
              "outlinewidth": 0,
              "ticks": ""
             }
            },
            "type": "scatterpolar"
           }
          ],
          "scatterpolargl": [
           {
            "marker": {
             "colorbar": {
              "outlinewidth": 0,
              "ticks": ""
             }
            },
            "type": "scatterpolargl"
           }
          ],
          "scatterternary": [
           {
            "marker": {
             "colorbar": {
              "outlinewidth": 0,
              "ticks": ""
             }
            },
            "type": "scatterternary"
           }
          ],
          "surface": [
           {
            "colorbar": {
             "outlinewidth": 0,
             "ticks": ""
            },
            "colorscale": [
             [
              0,
              "#0d0887"
             ],
             [
              0.1111111111111111,
              "#46039f"
             ],
             [
              0.2222222222222222,
              "#7201a8"
             ],
             [
              0.3333333333333333,
              "#9c179e"
             ],
             [
              0.4444444444444444,
              "#bd3786"
             ],
             [
              0.5555555555555556,
              "#d8576b"
             ],
             [
              0.6666666666666666,
              "#ed7953"
             ],
             [
              0.7777777777777778,
              "#fb9f3a"
             ],
             [
              0.8888888888888888,
              "#fdca26"
             ],
             [
              1,
              "#f0f921"
             ]
            ],
            "type": "surface"
           }
          ],
          "table": [
           {
            "cells": {
             "fill": {
              "color": "#EBF0F8"
             },
             "line": {
              "color": "white"
             }
            },
            "header": {
             "fill": {
              "color": "#C8D4E3"
             },
             "line": {
              "color": "white"
             }
            },
            "type": "table"
           }
          ]
         },
         "layout": {
          "annotationdefaults": {
           "arrowcolor": "#2a3f5f",
           "arrowhead": 0,
           "arrowwidth": 1
          },
          "autotypenumbers": "strict",
          "coloraxis": {
           "colorbar": {
            "outlinewidth": 0,
            "ticks": ""
           }
          },
          "colorscale": {
           "diverging": [
            [
             0,
             "#8e0152"
            ],
            [
             0.1,
             "#c51b7d"
            ],
            [
             0.2,
             "#de77ae"
            ],
            [
             0.3,
             "#f1b6da"
            ],
            [
             0.4,
             "#fde0ef"
            ],
            [
             0.5,
             "#f7f7f7"
            ],
            [
             0.6,
             "#e6f5d0"
            ],
            [
             0.7,
             "#b8e186"
            ],
            [
             0.8,
             "#7fbc41"
            ],
            [
             0.9,
             "#4d9221"
            ],
            [
             1,
             "#276419"
            ]
           ],
           "sequential": [
            [
             0,
             "#0d0887"
            ],
            [
             0.1111111111111111,
             "#46039f"
            ],
            [
             0.2222222222222222,
             "#7201a8"
            ],
            [
             0.3333333333333333,
             "#9c179e"
            ],
            [
             0.4444444444444444,
             "#bd3786"
            ],
            [
             0.5555555555555556,
             "#d8576b"
            ],
            [
             0.6666666666666666,
             "#ed7953"
            ],
            [
             0.7777777777777778,
             "#fb9f3a"
            ],
            [
             0.8888888888888888,
             "#fdca26"
            ],
            [
             1,
             "#f0f921"
            ]
           ],
           "sequentialminus": [
            [
             0,
             "#0d0887"
            ],
            [
             0.1111111111111111,
             "#46039f"
            ],
            [
             0.2222222222222222,
             "#7201a8"
            ],
            [
             0.3333333333333333,
             "#9c179e"
            ],
            [
             0.4444444444444444,
             "#bd3786"
            ],
            [
             0.5555555555555556,
             "#d8576b"
            ],
            [
             0.6666666666666666,
             "#ed7953"
            ],
            [
             0.7777777777777778,
             "#fb9f3a"
            ],
            [
             0.8888888888888888,
             "#fdca26"
            ],
            [
             1,
             "#f0f921"
            ]
           ]
          },
          "colorway": [
           "#636efa",
           "#EF553B",
           "#00cc96",
           "#ab63fa",
           "#FFA15A",
           "#19d3f3",
           "#FF6692",
           "#B6E880",
           "#FF97FF",
           "#FECB52"
          ],
          "font": {
           "color": "#2a3f5f"
          },
          "geo": {
           "bgcolor": "white",
           "lakecolor": "white",
           "landcolor": "white",
           "showlakes": true,
           "showland": true,
           "subunitcolor": "#C8D4E3"
          },
          "hoverlabel": {
           "align": "left"
          },
          "hovermode": "closest",
          "mapbox": {
           "style": "light"
          },
          "paper_bgcolor": "white",
          "plot_bgcolor": "white",
          "polar": {
           "angularaxis": {
            "gridcolor": "#EBF0F8",
            "linecolor": "#EBF0F8",
            "ticks": ""
           },
           "bgcolor": "white",
           "radialaxis": {
            "gridcolor": "#EBF0F8",
            "linecolor": "#EBF0F8",
            "ticks": ""
           }
          },
          "scene": {
           "xaxis": {
            "backgroundcolor": "white",
            "gridcolor": "#DFE8F3",
            "gridwidth": 2,
            "linecolor": "#EBF0F8",
            "showbackground": true,
            "ticks": "",
            "zerolinecolor": "#EBF0F8"
           },
           "yaxis": {
            "backgroundcolor": "white",
            "gridcolor": "#DFE8F3",
            "gridwidth": 2,
            "linecolor": "#EBF0F8",
            "showbackground": true,
            "ticks": "",
            "zerolinecolor": "#EBF0F8"
           },
           "zaxis": {
            "backgroundcolor": "white",
            "gridcolor": "#DFE8F3",
            "gridwidth": 2,
            "linecolor": "#EBF0F8",
            "showbackground": true,
            "ticks": "",
            "zerolinecolor": "#EBF0F8"
           }
          },
          "shapedefaults": {
           "line": {
            "color": "#2a3f5f"
           }
          },
          "ternary": {
           "aaxis": {
            "gridcolor": "#DFE8F3",
            "linecolor": "#A2B1C6",
            "ticks": ""
           },
           "baxis": {
            "gridcolor": "#DFE8F3",
            "linecolor": "#A2B1C6",
            "ticks": ""
           },
           "bgcolor": "white",
           "caxis": {
            "gridcolor": "#DFE8F3",
            "linecolor": "#A2B1C6",
            "ticks": ""
           }
          },
          "title": {
           "x": 0.05
          },
          "xaxis": {
           "automargin": true,
           "gridcolor": "#EBF0F8",
           "linecolor": "#EBF0F8",
           "ticks": "",
           "title": {
            "standoff": 15
           },
           "zerolinecolor": "#EBF0F8",
           "zerolinewidth": 2
          },
          "yaxis": {
           "automargin": true,
           "gridcolor": "#EBF0F8",
           "linecolor": "#EBF0F8",
           "ticks": "",
           "title": {
            "standoff": 15
           },
           "zerolinecolor": "#EBF0F8",
           "zerolinewidth": 2
          }
         }
        },
        "title": {
         "text": "Anzahl der Social - Media - Posts mit der Kombination: <br>Darreichungsform und Hauptprodukten"
        },
        "width": 756,
        "xaxis": {
         "anchor": "y",
         "domain": [
          0,
          1
         ],
         "title": {
          "text": "Anzahl"
         }
        },
        "yaxis": {
         "anchor": "x",
         "domain": [
          0,
          1
         ],
         "title": {
          "text": "Hauptprodukten"
         }
        }
       }
      }
     },
     "metadata": {},
     "output_type": "display_data"
    },
    {
     "data": {
      "application/vnd.plotly.v1+json": {
       "config": {
        "plotlyServerURL": "https://plot.ly"
       },
       "data": [
        {
         "alignmentgroup": "True",
         "bingroup": "y",
         "histfunc": "sum",
         "hovertemplate": "Darreichungsform=Gel<br>sum of Anteil (normalized as percent)=%{x}<br>Hauptprodukten=%{y}<extra></extra>",
         "legendgroup": "Gel",
         "marker": {
          "color": "rgb(54, 112, 226)",
          "pattern": {
           "shape": ""
          }
         },
         "name": "Gel",
         "offsetgroup": "Gel",
         "orientation": "h",
         "showlegend": true,
         "textangle": 0,
         "texttemplate": "%{value:.0f}",
         "type": "histogram",
         "x": [
          0.03849114703618168,
          0.1924557351809084,
          0.03849114703618168,
          0.07698229407236336
         ],
         "xaxis": "x",
         "y": [
          "BUSCOPAN",
          "KADEFUNGIN",
          "KADEFUNGIN BEFEUCHTUNG",
          "VAGISAN"
         ],
         "yaxis": "y"
        },
        {
         "alignmentgroup": "True",
         "bingroup": "y",
         "histfunc": "sum",
         "hovertemplate": "Darreichungsform=Lotion<br>sum of Anteil (normalized as percent)=%{x}<br>Hauptprodukten=%{y}<extra></extra>",
         "legendgroup": "Lotion",
         "marker": {
          "color": "rgb(54, 169, 226)",
          "pattern": {
           "shape": ""
          }
         },
         "name": "Lotion",
         "offsetgroup": "Lotion",
         "orientation": "h",
         "showlegend": true,
         "textangle": 0,
         "texttemplate": "%{value:.0f}",
         "type": "histogram",
         "x": [
          0.03849114703618168,
          0.03849114703618168,
          0.11547344110854503,
          0.03849114703618168,
          0.03849114703618168,
          0.1924557351809084,
          0.07698229407236336
         ],
         "xaxis": "x",
         "y": [
          "BUSCOPAN",
          "CANESTEN GYN",
          "KADEFUNGIN",
          "KADEFUNGIN 3",
          "KADEFUNGIN BEFEUCHTUNG",
          "VAGISAN",
          "VAGISAN FEUCHTCREME"
         ],
         "yaxis": "y"
        },
        {
         "alignmentgroup": "True",
         "bingroup": "y",
         "histfunc": "sum",
         "hovertemplate": "Darreichungsform=Granulat/Pulver<br>sum of Anteil (normalized as percent)=%{x}<br>Hauptprodukten=%{y}<extra></extra>",
         "legendgroup": "Granulat/Pulver",
         "marker": {
          "color": "rgb(54, 226, 169)",
          "pattern": {
           "shape": ""
          }
         },
         "name": "Granulat/Pulver",
         "offsetgroup": "Granulat/Pulver",
         "orientation": "h",
         "showlegend": true,
         "textangle": 0,
         "texttemplate": "%{value:.0f}",
         "type": "histogram",
         "x": [
          0.07698229407236336,
          0.07698229407236336
         ],
         "xaxis": "x",
         "y": [
          "CANESTEN GYN",
          "VAGISAN"
         ],
         "yaxis": "y"
        },
        {
         "alignmentgroup": "True",
         "bingroup": "y",
         "histfunc": "sum",
         "hovertemplate": "Darreichungsform=Tablette (vaginal)<br>sum of Anteil (normalized as percent)=%{x}<br>Hauptprodukten=%{y}<extra></extra>",
         "legendgroup": "Tablette (vaginal)",
         "marker": {
          "color": "rgb(112, 54, 226)",
          "pattern": {
           "shape": ""
          }
         },
         "name": "Tablette (vaginal)",
         "offsetgroup": "Tablette (vaginal)",
         "orientation": "h",
         "showlegend": true,
         "textangle": 0,
         "texttemplate": "%{value:.0f}",
         "type": "histogram",
         "x": [
          0.03849114703618168,
          0.03849114703618168
         ],
         "xaxis": "x",
         "y": [
          "CANESTEN GYN",
          "KADEFUNGIN"
         ],
         "yaxis": "y"
        },
        {
         "alignmentgroup": "True",
         "bingroup": "y",
         "histfunc": "sum",
         "hovertemplate": "Darreichungsform=Tablette (oral)<br>sum of Anteil (normalized as percent)=%{x}<br>Hauptprodukten=%{y}<extra></extra>",
         "legendgroup": "Tablette (oral)",
         "marker": {
          "color": "rgb(226, 54, 169)",
          "pattern": {
           "shape": ""
          }
         },
         "name": "Tablette (oral)",
         "offsetgroup": "Tablette (oral)",
         "orientation": "h",
         "showlegend": true,
         "textangle": 0,
         "texttemplate": "%{value:.0f}",
         "type": "histogram",
         "x": [
          0.07698229407236336,
          0.03849114703618168
         ],
         "xaxis": "x",
         "y": [
          "KADEFUNGIN",
          "KADEFUNGIN 3"
         ],
         "yaxis": "y"
        }
       ],
       "layout": {
        "annotations": [
         {
          "align": "left",
          "font": {
           "size": 9
          },
          "showarrow": false,
          "text": "Basierend auf 32 Social-Media-Konversationen aus öffentlich zugänglichen Foren <br>Deutschland, Januar 2013 – April 2023.",
          "textangle": 0,
          "x": -0.25,
          "xanchor": "left",
          "xref": "paper",
          "y": -0.39,
          "yref": "paper"
         }
        ],
        "autosize": false,
        "barmode": "relative",
        "barnorm": "percent",
        "height": 378,
        "legend": {
         "title": {
          "text": "Darreichungsform"
         },
         "tracegroupgap": 0
        },
        "template": {
         "data": {
          "bar": [
           {
            "error_x": {
             "color": "#2a3f5f"
            },
            "error_y": {
             "color": "#2a3f5f"
            },
            "marker": {
             "line": {
              "color": "white",
              "width": 0.5
             },
             "pattern": {
              "fillmode": "overlay",
              "size": 10,
              "solidity": 0.2
             }
            },
            "type": "bar"
           }
          ],
          "barpolar": [
           {
            "marker": {
             "line": {
              "color": "white",
              "width": 0.5
             },
             "pattern": {
              "fillmode": "overlay",
              "size": 10,
              "solidity": 0.2
             }
            },
            "type": "barpolar"
           }
          ],
          "carpet": [
           {
            "aaxis": {
             "endlinecolor": "#2a3f5f",
             "gridcolor": "#C8D4E3",
             "linecolor": "#C8D4E3",
             "minorgridcolor": "#C8D4E3",
             "startlinecolor": "#2a3f5f"
            },
            "baxis": {
             "endlinecolor": "#2a3f5f",
             "gridcolor": "#C8D4E3",
             "linecolor": "#C8D4E3",
             "minorgridcolor": "#C8D4E3",
             "startlinecolor": "#2a3f5f"
            },
            "type": "carpet"
           }
          ],
          "choropleth": [
           {
            "colorbar": {
             "outlinewidth": 0,
             "ticks": ""
            },
            "type": "choropleth"
           }
          ],
          "contour": [
           {
            "colorbar": {
             "outlinewidth": 0,
             "ticks": ""
            },
            "colorscale": [
             [
              0,
              "#0d0887"
             ],
             [
              0.1111111111111111,
              "#46039f"
             ],
             [
              0.2222222222222222,
              "#7201a8"
             ],
             [
              0.3333333333333333,
              "#9c179e"
             ],
             [
              0.4444444444444444,
              "#bd3786"
             ],
             [
              0.5555555555555556,
              "#d8576b"
             ],
             [
              0.6666666666666666,
              "#ed7953"
             ],
             [
              0.7777777777777778,
              "#fb9f3a"
             ],
             [
              0.8888888888888888,
              "#fdca26"
             ],
             [
              1,
              "#f0f921"
             ]
            ],
            "type": "contour"
           }
          ],
          "contourcarpet": [
           {
            "colorbar": {
             "outlinewidth": 0,
             "ticks": ""
            },
            "type": "contourcarpet"
           }
          ],
          "heatmap": [
           {
            "colorbar": {
             "outlinewidth": 0,
             "ticks": ""
            },
            "colorscale": [
             [
              0,
              "#0d0887"
             ],
             [
              0.1111111111111111,
              "#46039f"
             ],
             [
              0.2222222222222222,
              "#7201a8"
             ],
             [
              0.3333333333333333,
              "#9c179e"
             ],
             [
              0.4444444444444444,
              "#bd3786"
             ],
             [
              0.5555555555555556,
              "#d8576b"
             ],
             [
              0.6666666666666666,
              "#ed7953"
             ],
             [
              0.7777777777777778,
              "#fb9f3a"
             ],
             [
              0.8888888888888888,
              "#fdca26"
             ],
             [
              1,
              "#f0f921"
             ]
            ],
            "type": "heatmap"
           }
          ],
          "heatmapgl": [
           {
            "colorbar": {
             "outlinewidth": 0,
             "ticks": ""
            },
            "colorscale": [
             [
              0,
              "#0d0887"
             ],
             [
              0.1111111111111111,
              "#46039f"
             ],
             [
              0.2222222222222222,
              "#7201a8"
             ],
             [
              0.3333333333333333,
              "#9c179e"
             ],
             [
              0.4444444444444444,
              "#bd3786"
             ],
             [
              0.5555555555555556,
              "#d8576b"
             ],
             [
              0.6666666666666666,
              "#ed7953"
             ],
             [
              0.7777777777777778,
              "#fb9f3a"
             ],
             [
              0.8888888888888888,
              "#fdca26"
             ],
             [
              1,
              "#f0f921"
             ]
            ],
            "type": "heatmapgl"
           }
          ],
          "histogram": [
           {
            "marker": {
             "pattern": {
              "fillmode": "overlay",
              "size": 10,
              "solidity": 0.2
             }
            },
            "type": "histogram"
           }
          ],
          "histogram2d": [
           {
            "colorbar": {
             "outlinewidth": 0,
             "ticks": ""
            },
            "colorscale": [
             [
              0,
              "#0d0887"
             ],
             [
              0.1111111111111111,
              "#46039f"
             ],
             [
              0.2222222222222222,
              "#7201a8"
             ],
             [
              0.3333333333333333,
              "#9c179e"
             ],
             [
              0.4444444444444444,
              "#bd3786"
             ],
             [
              0.5555555555555556,
              "#d8576b"
             ],
             [
              0.6666666666666666,
              "#ed7953"
             ],
             [
              0.7777777777777778,
              "#fb9f3a"
             ],
             [
              0.8888888888888888,
              "#fdca26"
             ],
             [
              1,
              "#f0f921"
             ]
            ],
            "type": "histogram2d"
           }
          ],
          "histogram2dcontour": [
           {
            "colorbar": {
             "outlinewidth": 0,
             "ticks": ""
            },
            "colorscale": [
             [
              0,
              "#0d0887"
             ],
             [
              0.1111111111111111,
              "#46039f"
             ],
             [
              0.2222222222222222,
              "#7201a8"
             ],
             [
              0.3333333333333333,
              "#9c179e"
             ],
             [
              0.4444444444444444,
              "#bd3786"
             ],
             [
              0.5555555555555556,
              "#d8576b"
             ],
             [
              0.6666666666666666,
              "#ed7953"
             ],
             [
              0.7777777777777778,
              "#fb9f3a"
             ],
             [
              0.8888888888888888,
              "#fdca26"
             ],
             [
              1,
              "#f0f921"
             ]
            ],
            "type": "histogram2dcontour"
           }
          ],
          "mesh3d": [
           {
            "colorbar": {
             "outlinewidth": 0,
             "ticks": ""
            },
            "type": "mesh3d"
           }
          ],
          "parcoords": [
           {
            "line": {
             "colorbar": {
              "outlinewidth": 0,
              "ticks": ""
             }
            },
            "type": "parcoords"
           }
          ],
          "pie": [
           {
            "automargin": true,
            "type": "pie"
           }
          ],
          "scatter": [
           {
            "fillpattern": {
             "fillmode": "overlay",
             "size": 10,
             "solidity": 0.2
            },
            "type": "scatter"
           }
          ],
          "scatter3d": [
           {
            "line": {
             "colorbar": {
              "outlinewidth": 0,
              "ticks": ""
             }
            },
            "marker": {
             "colorbar": {
              "outlinewidth": 0,
              "ticks": ""
             }
            },
            "type": "scatter3d"
           }
          ],
          "scattercarpet": [
           {
            "marker": {
             "colorbar": {
              "outlinewidth": 0,
              "ticks": ""
             }
            },
            "type": "scattercarpet"
           }
          ],
          "scattergeo": [
           {
            "marker": {
             "colorbar": {
              "outlinewidth": 0,
              "ticks": ""
             }
            },
            "type": "scattergeo"
           }
          ],
          "scattergl": [
           {
            "marker": {
             "colorbar": {
              "outlinewidth": 0,
              "ticks": ""
             }
            },
            "type": "scattergl"
           }
          ],
          "scattermapbox": [
           {
            "marker": {
             "colorbar": {
              "outlinewidth": 0,
              "ticks": ""
             }
            },
            "type": "scattermapbox"
           }
          ],
          "scatterpolar": [
           {
            "marker": {
             "colorbar": {
              "outlinewidth": 0,
              "ticks": ""
             }
            },
            "type": "scatterpolar"
           }
          ],
          "scatterpolargl": [
           {
            "marker": {
             "colorbar": {
              "outlinewidth": 0,
              "ticks": ""
             }
            },
            "type": "scatterpolargl"
           }
          ],
          "scatterternary": [
           {
            "marker": {
             "colorbar": {
              "outlinewidth": 0,
              "ticks": ""
             }
            },
            "type": "scatterternary"
           }
          ],
          "surface": [
           {
            "colorbar": {
             "outlinewidth": 0,
             "ticks": ""
            },
            "colorscale": [
             [
              0,
              "#0d0887"
             ],
             [
              0.1111111111111111,
              "#46039f"
             ],
             [
              0.2222222222222222,
              "#7201a8"
             ],
             [
              0.3333333333333333,
              "#9c179e"
             ],
             [
              0.4444444444444444,
              "#bd3786"
             ],
             [
              0.5555555555555556,
              "#d8576b"
             ],
             [
              0.6666666666666666,
              "#ed7953"
             ],
             [
              0.7777777777777778,
              "#fb9f3a"
             ],
             [
              0.8888888888888888,
              "#fdca26"
             ],
             [
              1,
              "#f0f921"
             ]
            ],
            "type": "surface"
           }
          ],
          "table": [
           {
            "cells": {
             "fill": {
              "color": "#EBF0F8"
             },
             "line": {
              "color": "white"
             }
            },
            "header": {
             "fill": {
              "color": "#C8D4E3"
             },
             "line": {
              "color": "white"
             }
            },
            "type": "table"
           }
          ]
         },
         "layout": {
          "annotationdefaults": {
           "arrowcolor": "#2a3f5f",
           "arrowhead": 0,
           "arrowwidth": 1
          },
          "autotypenumbers": "strict",
          "coloraxis": {
           "colorbar": {
            "outlinewidth": 0,
            "ticks": ""
           }
          },
          "colorscale": {
           "diverging": [
            [
             0,
             "#8e0152"
            ],
            [
             0.1,
             "#c51b7d"
            ],
            [
             0.2,
             "#de77ae"
            ],
            [
             0.3,
             "#f1b6da"
            ],
            [
             0.4,
             "#fde0ef"
            ],
            [
             0.5,
             "#f7f7f7"
            ],
            [
             0.6,
             "#e6f5d0"
            ],
            [
             0.7,
             "#b8e186"
            ],
            [
             0.8,
             "#7fbc41"
            ],
            [
             0.9,
             "#4d9221"
            ],
            [
             1,
             "#276419"
            ]
           ],
           "sequential": [
            [
             0,
             "#0d0887"
            ],
            [
             0.1111111111111111,
             "#46039f"
            ],
            [
             0.2222222222222222,
             "#7201a8"
            ],
            [
             0.3333333333333333,
             "#9c179e"
            ],
            [
             0.4444444444444444,
             "#bd3786"
            ],
            [
             0.5555555555555556,
             "#d8576b"
            ],
            [
             0.6666666666666666,
             "#ed7953"
            ],
            [
             0.7777777777777778,
             "#fb9f3a"
            ],
            [
             0.8888888888888888,
             "#fdca26"
            ],
            [
             1,
             "#f0f921"
            ]
           ],
           "sequentialminus": [
            [
             0,
             "#0d0887"
            ],
            [
             0.1111111111111111,
             "#46039f"
            ],
            [
             0.2222222222222222,
             "#7201a8"
            ],
            [
             0.3333333333333333,
             "#9c179e"
            ],
            [
             0.4444444444444444,
             "#bd3786"
            ],
            [
             0.5555555555555556,
             "#d8576b"
            ],
            [
             0.6666666666666666,
             "#ed7953"
            ],
            [
             0.7777777777777778,
             "#fb9f3a"
            ],
            [
             0.8888888888888888,
             "#fdca26"
            ],
            [
             1,
             "#f0f921"
            ]
           ]
          },
          "colorway": [
           "#636efa",
           "#EF553B",
           "#00cc96",
           "#ab63fa",
           "#FFA15A",
           "#19d3f3",
           "#FF6692",
           "#B6E880",
           "#FF97FF",
           "#FECB52"
          ],
          "font": {
           "color": "#2a3f5f"
          },
          "geo": {
           "bgcolor": "white",
           "lakecolor": "white",
           "landcolor": "white",
           "showlakes": true,
           "showland": true,
           "subunitcolor": "#C8D4E3"
          },
          "hoverlabel": {
           "align": "left"
          },
          "hovermode": "closest",
          "mapbox": {
           "style": "light"
          },
          "paper_bgcolor": "white",
          "plot_bgcolor": "white",
          "polar": {
           "angularaxis": {
            "gridcolor": "#EBF0F8",
            "linecolor": "#EBF0F8",
            "ticks": ""
           },
           "bgcolor": "white",
           "radialaxis": {
            "gridcolor": "#EBF0F8",
            "linecolor": "#EBF0F8",
            "ticks": ""
           }
          },
          "scene": {
           "xaxis": {
            "backgroundcolor": "white",
            "gridcolor": "#DFE8F3",
            "gridwidth": 2,
            "linecolor": "#EBF0F8",
            "showbackground": true,
            "ticks": "",
            "zerolinecolor": "#EBF0F8"
           },
           "yaxis": {
            "backgroundcolor": "white",
            "gridcolor": "#DFE8F3",
            "gridwidth": 2,
            "linecolor": "#EBF0F8",
            "showbackground": true,
            "ticks": "",
            "zerolinecolor": "#EBF0F8"
           },
           "zaxis": {
            "backgroundcolor": "white",
            "gridcolor": "#DFE8F3",
            "gridwidth": 2,
            "linecolor": "#EBF0F8",
            "showbackground": true,
            "ticks": "",
            "zerolinecolor": "#EBF0F8"
           }
          },
          "shapedefaults": {
           "line": {
            "color": "#2a3f5f"
           }
          },
          "ternary": {
           "aaxis": {
            "gridcolor": "#DFE8F3",
            "linecolor": "#A2B1C6",
            "ticks": ""
           },
           "baxis": {
            "gridcolor": "#DFE8F3",
            "linecolor": "#A2B1C6",
            "ticks": ""
           },
           "bgcolor": "white",
           "caxis": {
            "gridcolor": "#DFE8F3",
            "linecolor": "#A2B1C6",
            "ticks": ""
           }
          },
          "title": {
           "x": 0.05
          },
          "xaxis": {
           "automargin": true,
           "gridcolor": "#EBF0F8",
           "linecolor": "#EBF0F8",
           "ticks": "",
           "title": {
            "standoff": 15
           },
           "zerolinecolor": "#EBF0F8",
           "zerolinewidth": 2
          },
          "yaxis": {
           "automargin": true,
           "gridcolor": "#EBF0F8",
           "linecolor": "#EBF0F8",
           "ticks": "",
           "title": {
            "standoff": 15
           },
           "zerolinecolor": "#EBF0F8",
           "zerolinewidth": 2
          }
         }
        },
        "title": {
         "text": "Anzahl der Social - Media - Posts mit der Kombination: <br>Darreichungsform und Hauptprodukten"
        },
        "width": 756,
        "xaxis": {
         "anchor": "y",
         "domain": [
          0,
          1
         ],
         "title": {
          "text": "Anteil"
         }
        },
        "yaxis": {
         "anchor": "x",
         "domain": [
          0,
          1
         ],
         "title": {
          "text": "Hauptprodukten"
         }
        }
       }
      }
     },
     "metadata": {},
     "output_type": "display_data"
    }
   ],
   "source": [
    "def percentage(df, variable1, variable2, yaxis_title, xaxis_title):\n",
    "\n",
    "\n",
    "    # Calculate the count of each combination\n",
    "    combination_counts=df.groupby([variable1, variable2]).post_id.nunique().reset_index(name=\"Anzahl\")\n",
    "\n",
    "    # Drop the rows where variable1 and variable2 values are identical\n",
    "    combination_counts = combination_counts[combination_counts[variable1] != combination_counts[variable2]]\n",
    "\n",
    "\n",
    "    # Calculate the total count of posts\n",
    "    total_posts = num_rows = df.shape[0]\n",
    "\n",
    "    # Calculate the percentage for each combination\n",
    "    combination_counts['Anteil'] = (combination_counts['Anzahl'] / total_posts) * 100\n",
    "\n",
    "    combination_counts = combination_counts[combination_counts[variable1] != \"Nicht erwähnt\"]\n",
    "    combination_counts = combination_counts[combination_counts[variable1] != \"Not mentioned\"]\n",
    "    combination_counts = combination_counts[combination_counts[variable2] != \"Nicht benannt\"]\n",
    "    \n",
    "    count_sum = combination_counts['Anzahl'].sum()\n",
    "\n",
    "\n",
    "\n",
    "    # Display the result\n",
    "    print(combination_counts)\n",
    "\n",
    "\n",
    "    # Create the horizontal stacked bar chart\n",
    "    fig = px.bar(combination_counts,\n",
    "                y=variable1,\n",
    "                x='Anzahl',\n",
    "                color_discrete_sequence=PERMEA_COLOR_WHEEL_11_STATISTICS,\n",
    "                color=variable2,\n",
    "                #barnorm=\"percent\",\n",
    "                template=\"plotly_white\",\n",
    "                orientation='h',\n",
    "                title=f'Anzahl der Social - Media - Posts mit der Kombination: <br>{xaxis_title} und {yaxis_title}',\n",
    "                text_auto=\".0f\",\n",
    "                labels={\n",
    "                variable2: xaxis_title,\n",
    "                #\"percentage\": \"\",\n",
    "                variable1: yaxis_title,\n",
    "                #\"Anzahl\": \"Anzahl\",\n",
    "            },)\n",
    "\n",
    "    fig.update_traces(textangle=0)\n",
    "\n",
    "\n",
    "    fig.update_layout(\n",
    "\n",
    "            xaxis_title='Anzahl', yaxis_title=yaxis_title,\n",
    "            autosize=False,\n",
    "            width=20 * 37.8,  # Convert 20 cm to inches (1 cm = 37.8 inches)\n",
    "            height=10 * 37.8,  # Convert 9 cm to inches (1 cm = 37.8 inches)\n",
    "        )\n",
    "    \n",
    "    fig.add_annotation(dict(font=dict(size=9),\n",
    "                    x=-0.25,\n",
    "                    y=-0.39,\n",
    "                    showarrow=False,\n",
    "                    text=f\"Basierend auf {count_sum} Social-Media-Konversationen aus öffentlich zugänglichen Foren <br>Deutschland, Januar 2013 – April 2023.\",\n",
    "                    textangle=0,\n",
    "                    xanchor='left',\n",
    "                    xref=\"paper\",\n",
    "                    yref=\"paper\",\n",
    "                    align=\"left\"\n",
    "    ))\n",
    "\n",
    "    # Show the chart\n",
    "    fig.show()\n",
    "\n",
    "\n",
    "    fig = px.histogram(\n",
    "        combination_counts,\n",
    "        x=\"Anteil\",\n",
    "        y=variable1,\n",
    "        color=variable2,\n",
    "        barnorm=\"percent\",\n",
    "        orientation=\"h\",\n",
    "        title=f'Anzahl der Social - Media - Posts mit der Kombination: <br>{xaxis_title} und {yaxis_title}',\n",
    "        labels={\n",
    "            \"subcategory_1\": \"\",\n",
    "            variable2: xaxis_title,    \n",
    "            variable1: yaxis_title,\n",
    "        #    \"count\": xaxis,\n",
    "        },\n",
    "        color_discrete_sequence=PERMEA_COLOR_WHEEL_11_STATISTICS,\n",
    "        text_auto=\".0f\",\n",
    "        template=\"plotly_white\",\n",
    "        )\n",
    "    \n",
    "    fig.update_traces(textangle=0)\n",
    "\n",
    "\n",
    "    fig.update_layout(\n",
    "\n",
    "        xaxis_title='Anteil', yaxis_title= yaxis_title,\n",
    "        autosize=False,\n",
    "        width=20 * 37.8,  # Convert 20 cm to inches (1 cm = 37.8 inches)\n",
    "        height=10 * 37.8,  # Convert 9 cm to inches (1 cm = 37.8 inches)\n",
    "    )\n",
    "    fig.add_annotation(dict(font=dict(size=9),\n",
    "                        x=-0.25,\n",
    "                        y=-0.39,\n",
    "                        showarrow=False,\n",
    "                        text=f\"Basierend auf {count_sum} Social-Media-Konversationen aus öffentlich zugänglichen Foren <br>Deutschland, Januar 2013 – April 2023.\",\n",
    "                        textangle=0,\n",
    "                        xanchor='left',\n",
    "                        xref=\"paper\",\n",
    "                        yref=\"paper\",\n",
    "                        align=\"left\"\n",
    "    ))\n",
    "\n",
    "    fig.show()\n",
    "\n",
    "percentage(df, \"topic_1\", \"product_1_mode_answer\", \"Marktgebiet\", \"Darreichungsform\")\n",
    "percentage(df, \"topic_1\", \"topic_1_product_influecned_positivley\", \"Marktgebiet\", \"Einfluss: positiv\")\n",
    "percentage(df, \"topic_1\", \"topic_2\", \"Marktgebiet\", \"Zweite Marktgebiet\")\n",
    "percentage(df, \"topic_1\", \"product_1_dosage_answer\", \"Marktgebiet\", \"Dosierungsform\")\n",
    "percentage(df, \"topic_1\", \"topic_1_product_not_helped_answer\", \"Marktgebiet\", \"Produkt hat nicht geholfen\")\n",
    "percentage(df, \"topic_1\", \"product_1_mode_answer\", \"Marktgebiet\", \"Zulassung von Medikamenten\")\n",
    "percentage(filtered_df, \"product_1\", \"topic_1_product_not_helped_answer\", \"Marktgebiet\", \"Unwirksame Medikamente\")\n",
    "percentage(filtered_df, \"topic_1_product_not_helped_answer\", \"product_1\", \"Marktgebiet\", \"Unwirksame Medikamente\")\n",
    "percentage(filtered_df, \"product_1\", \"topic_1_product_helped_answer\", \"Hauptprodukten\", \"Wirksame Medikamente\")\n",
    "\n",
    "percentage(filtered_df, \"product_1\", \"transition_reasons_against_old_1\", \"Hauptprodukten\", \"Gründe für den Wechsel\")\n",
    "percentage(filtered_df, \"product_1\", \"topic_1_product_influecned_positivley\", \"Hauptprodukten\", \"Gründe für den Wechsel\")\n",
    "\n",
    "percentage(filtered_df, \"product_1\", \"product_1_dosage_answer\", \"Hauptprodukten\", \"Darreichungsform\")\n",
    "\n",
    "\n",
    "  \n",
    "\n",
    "\n",
    "\n",
    "\n"
   ]
  },
  {
   "cell_type": "code",
   "execution_count": 60,
   "metadata": {},
   "outputs": [
    {
     "data": {
      "text/plain": [
       "[None,\n",
       " 'Gel',\n",
       " 'Granulat/Pulver',\n",
       " 'Nicht benannt',\n",
       " 'Lotion',\n",
       " 'Tablette (vaginal)']"
      ]
     },
     "execution_count": 60,
     "metadata": {},
     "output_type": "execute_result"
    }
   ],
   "source": [
    "topic_2_unique_values = df.loc[df['topic_1'] == 'Scheidenpilz', 'product_1_dosage_answer'].unique().tolist()\n",
    "topic_2_unique_values"
   ]
  },
  {
   "cell_type": "code",
   "execution_count": 61,
   "metadata": {},
   "outputs": [
    {
     "data": {
      "text/plain": [
       "array([], dtype=object)"
      ]
     },
     "execution_count": 61,
     "metadata": {},
     "output_type": "execute_result"
    }
   ],
   "source": [
    "xxfiltered_df = df[(df['product_1'] == 'VAGISAN MYKO') & (df['topic_1_product_not_helped_answer'] == 'Falsche Diagnose')]\n",
    "\n",
    "values_list = xxfiltered_df['text'].unique()\n",
    "\n",
    "values_list\n",
    "\n",
    "\n",
    "\n"
   ]
  },
  {
   "cell_type": "code",
   "execution_count": 62,
   "metadata": {},
   "outputs": [
    {
     "data": {
      "text/plain": [
       "array([], dtype=object)"
      ]
     },
     "execution_count": 62,
     "metadata": {},
     "output_type": "execute_result"
    }
   ],
   "source": [
    "relevant = df[(df['product_1'].str.lower().str.startswith('vagis'))  & (df['topic_1_product_helped_answer'] == 'yes')]\n",
    "\n",
    "values_list = relevant['text'].unique()\n",
    "\n",
    "values_list\n"
   ]
  },
  {
   "cell_type": "code",
   "execution_count": 63,
   "metadata": {},
   "outputs": [
    {
     "data": {
      "text/plain": [
       "array([], dtype=object)"
      ]
     },
     "execution_count": 63,
     "metadata": {},
     "output_type": "execute_result"
    }
   ],
   "source": [
    "#relevant = df[(df['product_1'] == 'KADEFUNGIN 3') & (df['product_1_dosage_answer'] == 'Yes')]\n",
    "relevant = df[(df['product_1'].str.lower().str.startswith('vagis')) & (df['product_1_dosage_influence_answer'] != 'Positive') & (df['topic_1_product_helped_answer'] == 'yes')]\n",
    "\n",
    "values_list = relevant['text'].unique()\n",
    "\n",
    "values_list"
   ]
  },
  {
   "cell_type": "code",
   "execution_count": 78,
   "metadata": {},
   "outputs": [
    {
     "name": "stdout",
     "output_type": "stream",
     "text": [
      "                 product_1 topic_1_product_helped_answer  Anzahl    Anteil\n",
      "0                 BUSCOPAN                            Ja      30  1.154734\n",
      "1                 BUSCOPAN                          Nein      27  1.039261\n",
      "2                 BUSCOPAN                        Unklar      35  1.347190\n",
      "3             CANESTEN GYN                            Ja      10  0.384911\n",
      "4             CANESTEN GYN                          Nein      19  0.731332\n",
      "5             CANESTEN GYN                        Unklar      13  0.500385\n",
      "6    KADEFEMIN INTIMPFLEGE                            Ja       1  0.038491\n",
      "7    KADEFEMIN INTIMPFLEGE                          Nein       2  0.076982\n",
      "8               KADEFUNGIN                            Ja      68  2.617398\n",
      "9               KADEFUNGIN                          Nein      90  3.464203\n",
      "10              KADEFUNGIN                        Unklar      92  3.541186\n",
      "11            KADEFUNGIN 3                            Ja      14  0.538876\n",
      "12            KADEFUNGIN 3                          Nein      14  0.538876\n",
      "13            KADEFUNGIN 3                        Unklar      12  0.461894\n",
      "14            KADEFUNGIN 6                            Ja       1  0.038491\n",
      "15            KADEFUNGIN 6                          Nein       4  0.153965\n",
      "16            KADEFUNGIN 6                        Unklar       1  0.038491\n",
      "17  KADEFUNGIN BEFEUCHTUNG                            Ja       4  0.153965\n",
      "18  KADEFUNGIN BEFEUCHTUNG                          Nein       2  0.076982\n",
      "19  KADEFUNGIN BEFEUCHTUNG                        Unklar       2  0.076982\n",
      "20                 VAGISAN                            Ja      28  1.077752\n",
      "21                 VAGISAN                          Nein      25  0.962279\n",
      "22                 VAGISAN                        Unklar      25  0.962279\n",
      "23     VAGISAN FEUCHTCREME                            Ja       5  0.192456\n",
      "24     VAGISAN FEUCHTCREME                          Nein       3  0.115473\n",
      "25     VAGISAN FEUCHTCREME                        Unklar       3  0.115473\n",
      "26           VAGISAN INTIM                        Unklar       1  0.038491\n",
      "27            VAGISAN MYKO                            Ja       8  0.307929\n",
      "28            VAGISAN MYKO                          Nein       6  0.230947\n",
      "29            VAGISAN MYKO                        Unklar       4  0.153965\n",
      "30          VAGISAN SCHUTZ                        Unklar       1  0.038491\n"
     ]
    },
    {
     "data": {
      "application/vnd.plotly.v1+json": {
       "config": {
        "plotlyServerURL": "https://plot.ly"
       },
       "data": [
        {
         "alignmentgroup": "True",
         "hovertemplate": "Wirksame Medikamente=Ja<br>Anzahl=%{x}<br>Hauptprodukten=%{y}<extra></extra>",
         "legendgroup": "Ja",
         "marker": {
          "color": "rgb(155, 253, 204)",
          "pattern": {
           "shape": ""
          }
         },
         "name": "Ja",
         "offsetgroup": "Ja",
         "orientation": "h",
         "showlegend": true,
         "textangle": 0,
         "textposition": "auto",
         "texttemplate": "%{x:.0f}",
         "type": "bar",
         "x": [
          30,
          10,
          1,
          68,
          14,
          1,
          4,
          28,
          5,
          8
         ],
         "xaxis": "x",
         "y": [
          "BUSCOPAN",
          "CANESTEN GYN",
          "KADEFEMIN INTIMPFLEGE",
          "KADEFUNGIN",
          "KADEFUNGIN 3",
          "KADEFUNGIN 6",
          "KADEFUNGIN BEFEUCHTUNG",
          "VAGISAN",
          "VAGISAN FEUCHTCREME",
          "VAGISAN MYKO"
         ],
         "yaxis": "y"
        },
        {
         "alignmentgroup": "True",
         "hovertemplate": "Wirksame Medikamente=Nein<br>Anzahl=%{x}<br>Hauptprodukten=%{y}<extra></extra>",
         "legendgroup": "Nein",
         "marker": {
          "color": "rgb(255, 183, 181)",
          "pattern": {
           "shape": ""
          }
         },
         "name": "Nein",
         "offsetgroup": "Nein",
         "orientation": "h",
         "showlegend": true,
         "textangle": 0,
         "textposition": "auto",
         "texttemplate": "%{x:.0f}",
         "type": "bar",
         "x": [
          27,
          19,
          2,
          90,
          14,
          4,
          2,
          25,
          3,
          6
         ],
         "xaxis": "x",
         "y": [
          "BUSCOPAN",
          "CANESTEN GYN",
          "KADEFEMIN INTIMPFLEGE",
          "KADEFUNGIN",
          "KADEFUNGIN 3",
          "KADEFUNGIN 6",
          "KADEFUNGIN BEFEUCHTUNG",
          "VAGISAN",
          "VAGISAN FEUCHTCREME",
          "VAGISAN MYKO"
         ],
         "yaxis": "y"
        },
        {
         "alignmentgroup": "True",
         "hovertemplate": "Wirksame Medikamente=Unklar<br>Anzahl=%{x}<br>Hauptprodukten=%{y}<extra></extra>",
         "legendgroup": "Unklar",
         "marker": {
          "color": "rgb(224, 224, 224)",
          "pattern": {
           "shape": ""
          }
         },
         "name": "Unklar",
         "offsetgroup": "Unklar",
         "orientation": "h",
         "showlegend": true,
         "textangle": 0,
         "textposition": "auto",
         "texttemplate": "%{x:.0f}",
         "type": "bar",
         "x": [
          35,
          13,
          92,
          12,
          1,
          2,
          25,
          3,
          1,
          4,
          1
         ],
         "xaxis": "x",
         "y": [
          "BUSCOPAN",
          "CANESTEN GYN",
          "KADEFUNGIN",
          "KADEFUNGIN 3",
          "KADEFUNGIN 6",
          "KADEFUNGIN BEFEUCHTUNG",
          "VAGISAN",
          "VAGISAN FEUCHTCREME",
          "VAGISAN INTIM",
          "VAGISAN MYKO",
          "VAGISAN SCHUTZ"
         ],
         "yaxis": "y"
        }
       ],
       "layout": {
        "annotations": [
         {
          "align": "left",
          "font": {
           "size": 9
          },
          "showarrow": false,
          "text": "Basierend auf 550 Social-Media-Konversationen aus öffentlich zugänglichen Foren <br>Deutschland, Januar 2013 – April 2023.",
          "textangle": 0,
          "x": -0.25,
          "xanchor": "left",
          "xref": "paper",
          "y": -0.39,
          "yref": "paper"
         }
        ],
        "autosize": false,
        "barmode": "relative",
        "height": 378,
        "legend": {
         "title": {
          "text": "Wirksame Medikamente"
         },
         "tracegroupgap": 0
        },
        "template": {
         "data": {
          "bar": [
           {
            "error_x": {
             "color": "#2a3f5f"
            },
            "error_y": {
             "color": "#2a3f5f"
            },
            "marker": {
             "line": {
              "color": "white",
              "width": 0.5
             },
             "pattern": {
              "fillmode": "overlay",
              "size": 10,
              "solidity": 0.2
             }
            },
            "type": "bar"
           }
          ],
          "barpolar": [
           {
            "marker": {
             "line": {
              "color": "white",
              "width": 0.5
             },
             "pattern": {
              "fillmode": "overlay",
              "size": 10,
              "solidity": 0.2
             }
            },
            "type": "barpolar"
           }
          ],
          "carpet": [
           {
            "aaxis": {
             "endlinecolor": "#2a3f5f",
             "gridcolor": "#C8D4E3",
             "linecolor": "#C8D4E3",
             "minorgridcolor": "#C8D4E3",
             "startlinecolor": "#2a3f5f"
            },
            "baxis": {
             "endlinecolor": "#2a3f5f",
             "gridcolor": "#C8D4E3",
             "linecolor": "#C8D4E3",
             "minorgridcolor": "#C8D4E3",
             "startlinecolor": "#2a3f5f"
            },
            "type": "carpet"
           }
          ],
          "choropleth": [
           {
            "colorbar": {
             "outlinewidth": 0,
             "ticks": ""
            },
            "type": "choropleth"
           }
          ],
          "contour": [
           {
            "colorbar": {
             "outlinewidth": 0,
             "ticks": ""
            },
            "colorscale": [
             [
              0,
              "#0d0887"
             ],
             [
              0.1111111111111111,
              "#46039f"
             ],
             [
              0.2222222222222222,
              "#7201a8"
             ],
             [
              0.3333333333333333,
              "#9c179e"
             ],
             [
              0.4444444444444444,
              "#bd3786"
             ],
             [
              0.5555555555555556,
              "#d8576b"
             ],
             [
              0.6666666666666666,
              "#ed7953"
             ],
             [
              0.7777777777777778,
              "#fb9f3a"
             ],
             [
              0.8888888888888888,
              "#fdca26"
             ],
             [
              1,
              "#f0f921"
             ]
            ],
            "type": "contour"
           }
          ],
          "contourcarpet": [
           {
            "colorbar": {
             "outlinewidth": 0,
             "ticks": ""
            },
            "type": "contourcarpet"
           }
          ],
          "heatmap": [
           {
            "colorbar": {
             "outlinewidth": 0,
             "ticks": ""
            },
            "colorscale": [
             [
              0,
              "#0d0887"
             ],
             [
              0.1111111111111111,
              "#46039f"
             ],
             [
              0.2222222222222222,
              "#7201a8"
             ],
             [
              0.3333333333333333,
              "#9c179e"
             ],
             [
              0.4444444444444444,
              "#bd3786"
             ],
             [
              0.5555555555555556,
              "#d8576b"
             ],
             [
              0.6666666666666666,
              "#ed7953"
             ],
             [
              0.7777777777777778,
              "#fb9f3a"
             ],
             [
              0.8888888888888888,
              "#fdca26"
             ],
             [
              1,
              "#f0f921"
             ]
            ],
            "type": "heatmap"
           }
          ],
          "heatmapgl": [
           {
            "colorbar": {
             "outlinewidth": 0,
             "ticks": ""
            },
            "colorscale": [
             [
              0,
              "#0d0887"
             ],
             [
              0.1111111111111111,
              "#46039f"
             ],
             [
              0.2222222222222222,
              "#7201a8"
             ],
             [
              0.3333333333333333,
              "#9c179e"
             ],
             [
              0.4444444444444444,
              "#bd3786"
             ],
             [
              0.5555555555555556,
              "#d8576b"
             ],
             [
              0.6666666666666666,
              "#ed7953"
             ],
             [
              0.7777777777777778,
              "#fb9f3a"
             ],
             [
              0.8888888888888888,
              "#fdca26"
             ],
             [
              1,
              "#f0f921"
             ]
            ],
            "type": "heatmapgl"
           }
          ],
          "histogram": [
           {
            "marker": {
             "pattern": {
              "fillmode": "overlay",
              "size": 10,
              "solidity": 0.2
             }
            },
            "type": "histogram"
           }
          ],
          "histogram2d": [
           {
            "colorbar": {
             "outlinewidth": 0,
             "ticks": ""
            },
            "colorscale": [
             [
              0,
              "#0d0887"
             ],
             [
              0.1111111111111111,
              "#46039f"
             ],
             [
              0.2222222222222222,
              "#7201a8"
             ],
             [
              0.3333333333333333,
              "#9c179e"
             ],
             [
              0.4444444444444444,
              "#bd3786"
             ],
             [
              0.5555555555555556,
              "#d8576b"
             ],
             [
              0.6666666666666666,
              "#ed7953"
             ],
             [
              0.7777777777777778,
              "#fb9f3a"
             ],
             [
              0.8888888888888888,
              "#fdca26"
             ],
             [
              1,
              "#f0f921"
             ]
            ],
            "type": "histogram2d"
           }
          ],
          "histogram2dcontour": [
           {
            "colorbar": {
             "outlinewidth": 0,
             "ticks": ""
            },
            "colorscale": [
             [
              0,
              "#0d0887"
             ],
             [
              0.1111111111111111,
              "#46039f"
             ],
             [
              0.2222222222222222,
              "#7201a8"
             ],
             [
              0.3333333333333333,
              "#9c179e"
             ],
             [
              0.4444444444444444,
              "#bd3786"
             ],
             [
              0.5555555555555556,
              "#d8576b"
             ],
             [
              0.6666666666666666,
              "#ed7953"
             ],
             [
              0.7777777777777778,
              "#fb9f3a"
             ],
             [
              0.8888888888888888,
              "#fdca26"
             ],
             [
              1,
              "#f0f921"
             ]
            ],
            "type": "histogram2dcontour"
           }
          ],
          "mesh3d": [
           {
            "colorbar": {
             "outlinewidth": 0,
             "ticks": ""
            },
            "type": "mesh3d"
           }
          ],
          "parcoords": [
           {
            "line": {
             "colorbar": {
              "outlinewidth": 0,
              "ticks": ""
             }
            },
            "type": "parcoords"
           }
          ],
          "pie": [
           {
            "automargin": true,
            "type": "pie"
           }
          ],
          "scatter": [
           {
            "fillpattern": {
             "fillmode": "overlay",
             "size": 10,
             "solidity": 0.2
            },
            "type": "scatter"
           }
          ],
          "scatter3d": [
           {
            "line": {
             "colorbar": {
              "outlinewidth": 0,
              "ticks": ""
             }
            },
            "marker": {
             "colorbar": {
              "outlinewidth": 0,
              "ticks": ""
             }
            },
            "type": "scatter3d"
           }
          ],
          "scattercarpet": [
           {
            "marker": {
             "colorbar": {
              "outlinewidth": 0,
              "ticks": ""
             }
            },
            "type": "scattercarpet"
           }
          ],
          "scattergeo": [
           {
            "marker": {
             "colorbar": {
              "outlinewidth": 0,
              "ticks": ""
             }
            },
            "type": "scattergeo"
           }
          ],
          "scattergl": [
           {
            "marker": {
             "colorbar": {
              "outlinewidth": 0,
              "ticks": ""
             }
            },
            "type": "scattergl"
           }
          ],
          "scattermapbox": [
           {
            "marker": {
             "colorbar": {
              "outlinewidth": 0,
              "ticks": ""
             }
            },
            "type": "scattermapbox"
           }
          ],
          "scatterpolar": [
           {
            "marker": {
             "colorbar": {
              "outlinewidth": 0,
              "ticks": ""
             }
            },
            "type": "scatterpolar"
           }
          ],
          "scatterpolargl": [
           {
            "marker": {
             "colorbar": {
              "outlinewidth": 0,
              "ticks": ""
             }
            },
            "type": "scatterpolargl"
           }
          ],
          "scatterternary": [
           {
            "marker": {
             "colorbar": {
              "outlinewidth": 0,
              "ticks": ""
             }
            },
            "type": "scatterternary"
           }
          ],
          "surface": [
           {
            "colorbar": {
             "outlinewidth": 0,
             "ticks": ""
            },
            "colorscale": [
             [
              0,
              "#0d0887"
             ],
             [
              0.1111111111111111,
              "#46039f"
             ],
             [
              0.2222222222222222,
              "#7201a8"
             ],
             [
              0.3333333333333333,
              "#9c179e"
             ],
             [
              0.4444444444444444,
              "#bd3786"
             ],
             [
              0.5555555555555556,
              "#d8576b"
             ],
             [
              0.6666666666666666,
              "#ed7953"
             ],
             [
              0.7777777777777778,
              "#fb9f3a"
             ],
             [
              0.8888888888888888,
              "#fdca26"
             ],
             [
              1,
              "#f0f921"
             ]
            ],
            "type": "surface"
           }
          ],
          "table": [
           {
            "cells": {
             "fill": {
              "color": "#EBF0F8"
             },
             "line": {
              "color": "white"
             }
            },
            "header": {
             "fill": {
              "color": "#C8D4E3"
             },
             "line": {
              "color": "white"
             }
            },
            "type": "table"
           }
          ]
         },
         "layout": {
          "annotationdefaults": {
           "arrowcolor": "#2a3f5f",
           "arrowhead": 0,
           "arrowwidth": 1
          },
          "autotypenumbers": "strict",
          "coloraxis": {
           "colorbar": {
            "outlinewidth": 0,
            "ticks": ""
           }
          },
          "colorscale": {
           "diverging": [
            [
             0,
             "#8e0152"
            ],
            [
             0.1,
             "#c51b7d"
            ],
            [
             0.2,
             "#de77ae"
            ],
            [
             0.3,
             "#f1b6da"
            ],
            [
             0.4,
             "#fde0ef"
            ],
            [
             0.5,
             "#f7f7f7"
            ],
            [
             0.6,
             "#e6f5d0"
            ],
            [
             0.7,
             "#b8e186"
            ],
            [
             0.8,
             "#7fbc41"
            ],
            [
             0.9,
             "#4d9221"
            ],
            [
             1,
             "#276419"
            ]
           ],
           "sequential": [
            [
             0,
             "#0d0887"
            ],
            [
             0.1111111111111111,
             "#46039f"
            ],
            [
             0.2222222222222222,
             "#7201a8"
            ],
            [
             0.3333333333333333,
             "#9c179e"
            ],
            [
             0.4444444444444444,
             "#bd3786"
            ],
            [
             0.5555555555555556,
             "#d8576b"
            ],
            [
             0.6666666666666666,
             "#ed7953"
            ],
            [
             0.7777777777777778,
             "#fb9f3a"
            ],
            [
             0.8888888888888888,
             "#fdca26"
            ],
            [
             1,
             "#f0f921"
            ]
           ],
           "sequentialminus": [
            [
             0,
             "#0d0887"
            ],
            [
             0.1111111111111111,
             "#46039f"
            ],
            [
             0.2222222222222222,
             "#7201a8"
            ],
            [
             0.3333333333333333,
             "#9c179e"
            ],
            [
             0.4444444444444444,
             "#bd3786"
            ],
            [
             0.5555555555555556,
             "#d8576b"
            ],
            [
             0.6666666666666666,
             "#ed7953"
            ],
            [
             0.7777777777777778,
             "#fb9f3a"
            ],
            [
             0.8888888888888888,
             "#fdca26"
            ],
            [
             1,
             "#f0f921"
            ]
           ]
          },
          "colorway": [
           "#636efa",
           "#EF553B",
           "#00cc96",
           "#ab63fa",
           "#FFA15A",
           "#19d3f3",
           "#FF6692",
           "#B6E880",
           "#FF97FF",
           "#FECB52"
          ],
          "font": {
           "color": "#2a3f5f"
          },
          "geo": {
           "bgcolor": "white",
           "lakecolor": "white",
           "landcolor": "white",
           "showlakes": true,
           "showland": true,
           "subunitcolor": "#C8D4E3"
          },
          "hoverlabel": {
           "align": "left"
          },
          "hovermode": "closest",
          "mapbox": {
           "style": "light"
          },
          "paper_bgcolor": "white",
          "plot_bgcolor": "white",
          "polar": {
           "angularaxis": {
            "gridcolor": "#EBF0F8",
            "linecolor": "#EBF0F8",
            "ticks": ""
           },
           "bgcolor": "white",
           "radialaxis": {
            "gridcolor": "#EBF0F8",
            "linecolor": "#EBF0F8",
            "ticks": ""
           }
          },
          "scene": {
           "xaxis": {
            "backgroundcolor": "white",
            "gridcolor": "#DFE8F3",
            "gridwidth": 2,
            "linecolor": "#EBF0F8",
            "showbackground": true,
            "ticks": "",
            "zerolinecolor": "#EBF0F8"
           },
           "yaxis": {
            "backgroundcolor": "white",
            "gridcolor": "#DFE8F3",
            "gridwidth": 2,
            "linecolor": "#EBF0F8",
            "showbackground": true,
            "ticks": "",
            "zerolinecolor": "#EBF0F8"
           },
           "zaxis": {
            "backgroundcolor": "white",
            "gridcolor": "#DFE8F3",
            "gridwidth": 2,
            "linecolor": "#EBF0F8",
            "showbackground": true,
            "ticks": "",
            "zerolinecolor": "#EBF0F8"
           }
          },
          "shapedefaults": {
           "line": {
            "color": "#2a3f5f"
           }
          },
          "ternary": {
           "aaxis": {
            "gridcolor": "#DFE8F3",
            "linecolor": "#A2B1C6",
            "ticks": ""
           },
           "baxis": {
            "gridcolor": "#DFE8F3",
            "linecolor": "#A2B1C6",
            "ticks": ""
           },
           "bgcolor": "white",
           "caxis": {
            "gridcolor": "#DFE8F3",
            "linecolor": "#A2B1C6",
            "ticks": ""
           }
          },
          "title": {
           "x": 0.05
          },
          "xaxis": {
           "automargin": true,
           "gridcolor": "#EBF0F8",
           "linecolor": "#EBF0F8",
           "ticks": "",
           "title": {
            "standoff": 15
           },
           "zerolinecolor": "#EBF0F8",
           "zerolinewidth": 2
          },
          "yaxis": {
           "automargin": true,
           "gridcolor": "#EBF0F8",
           "linecolor": "#EBF0F8",
           "ticks": "",
           "title": {
            "standoff": 15
           },
           "zerolinecolor": "#EBF0F8",
           "zerolinewidth": 2
          }
         }
        },
        "title": {
         "text": "Anzahl der Social - Media - Posts mit der Kombination: <br>Wirksame Medikamente und Hauptprodukten"
        },
        "width": 756,
        "xaxis": {
         "anchor": "y",
         "domain": [
          0,
          1
         ],
         "title": {
          "text": "Anzahl"
         }
        },
        "yaxis": {
         "anchor": "x",
         "domain": [
          0,
          1
         ],
         "title": {
          "text": "Hauptprodukten"
         }
        }
       }
      }
     },
     "metadata": {},
     "output_type": "display_data"
    },
    {
     "data": {
      "application/vnd.plotly.v1+json": {
       "config": {
        "plotlyServerURL": "https://plot.ly"
       },
       "data": [
        {
         "alignmentgroup": "True",
         "bingroup": "y",
         "histfunc": "sum",
         "hovertemplate": "Wirksame Medikamente=Ja<br>sum of Anteil (normalized as percent)=%{x}<br>Hauptprodukten=%{y}<extra></extra>",
         "legendgroup": "Ja",
         "marker": {
          "color": "rgb(155, 253, 204)",
          "pattern": {
           "shape": ""
          }
         },
         "name": "Ja",
         "offsetgroup": "Ja",
         "orientation": "h",
         "showlegend": true,
         "textangle": 0,
         "texttemplate": "%{value:.0f}",
         "type": "histogram",
         "x": [
          1.1547344110854503,
          0.3849114703618168,
          0.03849114703618168,
          2.617397998460354,
          0.5388760585065435,
          0.03849114703618168,
          0.15396458814472672,
          1.077752117013087,
          0.1924557351809084,
          0.30792917628945343
         ],
         "xaxis": "x",
         "y": [
          "BUSCOPAN",
          "CANESTEN GYN",
          "KADEFEMIN INTIMPFLEGE",
          "KADEFUNGIN",
          "KADEFUNGIN 3",
          "KADEFUNGIN 6",
          "KADEFUNGIN BEFEUCHTUNG",
          "VAGISAN",
          "VAGISAN FEUCHTCREME",
          "VAGISAN MYKO"
         ],
         "yaxis": "y"
        },
        {
         "alignmentgroup": "True",
         "bingroup": "y",
         "histfunc": "sum",
         "hovertemplate": "Wirksame Medikamente=Nein<br>sum of Anteil (normalized as percent)=%{x}<br>Hauptprodukten=%{y}<extra></extra>",
         "legendgroup": "Nein",
         "marker": {
          "color": "rgb(255, 183, 181)",
          "pattern": {
           "shape": ""
          }
         },
         "name": "Nein",
         "offsetgroup": "Nein",
         "orientation": "h",
         "showlegend": true,
         "textangle": 0,
         "texttemplate": "%{value:.0f}",
         "type": "histogram",
         "x": [
          1.0392609699769053,
          0.7313317936874518,
          0.07698229407236336,
          3.4642032332563506,
          0.5388760585065435,
          0.15396458814472672,
          0.07698229407236336,
          0.962278675904542,
          0.11547344110854503,
          0.23094688221709006
         ],
         "xaxis": "x",
         "y": [
          "BUSCOPAN",
          "CANESTEN GYN",
          "KADEFEMIN INTIMPFLEGE",
          "KADEFUNGIN",
          "KADEFUNGIN 3",
          "KADEFUNGIN 6",
          "KADEFUNGIN BEFEUCHTUNG",
          "VAGISAN",
          "VAGISAN FEUCHTCREME",
          "VAGISAN MYKO"
         ],
         "yaxis": "y"
        },
        {
         "alignmentgroup": "True",
         "bingroup": "y",
         "histfunc": "sum",
         "hovertemplate": "Wirksame Medikamente=Unklar<br>sum of Anteil (normalized as percent)=%{x}<br>Hauptprodukten=%{y}<extra></extra>",
         "legendgroup": "Unklar",
         "marker": {
          "color": "rgb(224, 224, 224)",
          "pattern": {
           "shape": ""
          }
         },
         "name": "Unklar",
         "offsetgroup": "Unklar",
         "orientation": "h",
         "showlegend": true,
         "textangle": 0,
         "texttemplate": "%{value:.0f}",
         "type": "histogram",
         "x": [
          1.3471901462663587,
          0.5003849114703618,
          3.541185527328714,
          0.4618937644341801,
          0.03849114703618168,
          0.07698229407236336,
          0.962278675904542,
          0.11547344110854503,
          0.03849114703618168,
          0.15396458814472672,
          0.03849114703618168
         ],
         "xaxis": "x",
         "y": [
          "BUSCOPAN",
          "CANESTEN GYN",
          "KADEFUNGIN",
          "KADEFUNGIN 3",
          "KADEFUNGIN 6",
          "KADEFUNGIN BEFEUCHTUNG",
          "VAGISAN",
          "VAGISAN FEUCHTCREME",
          "VAGISAN INTIM",
          "VAGISAN MYKO",
          "VAGISAN SCHUTZ"
         ],
         "yaxis": "y"
        }
       ],
       "layout": {
        "annotations": [
         {
          "align": "left",
          "font": {
           "size": 9
          },
          "showarrow": false,
          "text": "Basierend auf 550 Social-Media-Konversationen aus öffentlich zugänglichen Foren <br>Deutschland, Januar 2013 – April 2023.",
          "textangle": 0,
          "x": -0.25,
          "xanchor": "left",
          "xref": "paper",
          "y": -0.39,
          "yref": "paper"
         }
        ],
        "autosize": false,
        "barmode": "relative",
        "barnorm": "percent",
        "height": 378,
        "legend": {
         "title": {
          "text": "Wirksame Medikamente"
         },
         "tracegroupgap": 0
        },
        "template": {
         "data": {
          "bar": [
           {
            "error_x": {
             "color": "#2a3f5f"
            },
            "error_y": {
             "color": "#2a3f5f"
            },
            "marker": {
             "line": {
              "color": "white",
              "width": 0.5
             },
             "pattern": {
              "fillmode": "overlay",
              "size": 10,
              "solidity": 0.2
             }
            },
            "type": "bar"
           }
          ],
          "barpolar": [
           {
            "marker": {
             "line": {
              "color": "white",
              "width": 0.5
             },
             "pattern": {
              "fillmode": "overlay",
              "size": 10,
              "solidity": 0.2
             }
            },
            "type": "barpolar"
           }
          ],
          "carpet": [
           {
            "aaxis": {
             "endlinecolor": "#2a3f5f",
             "gridcolor": "#C8D4E3",
             "linecolor": "#C8D4E3",
             "minorgridcolor": "#C8D4E3",
             "startlinecolor": "#2a3f5f"
            },
            "baxis": {
             "endlinecolor": "#2a3f5f",
             "gridcolor": "#C8D4E3",
             "linecolor": "#C8D4E3",
             "minorgridcolor": "#C8D4E3",
             "startlinecolor": "#2a3f5f"
            },
            "type": "carpet"
           }
          ],
          "choropleth": [
           {
            "colorbar": {
             "outlinewidth": 0,
             "ticks": ""
            },
            "type": "choropleth"
           }
          ],
          "contour": [
           {
            "colorbar": {
             "outlinewidth": 0,
             "ticks": ""
            },
            "colorscale": [
             [
              0,
              "#0d0887"
             ],
             [
              0.1111111111111111,
              "#46039f"
             ],
             [
              0.2222222222222222,
              "#7201a8"
             ],
             [
              0.3333333333333333,
              "#9c179e"
             ],
             [
              0.4444444444444444,
              "#bd3786"
             ],
             [
              0.5555555555555556,
              "#d8576b"
             ],
             [
              0.6666666666666666,
              "#ed7953"
             ],
             [
              0.7777777777777778,
              "#fb9f3a"
             ],
             [
              0.8888888888888888,
              "#fdca26"
             ],
             [
              1,
              "#f0f921"
             ]
            ],
            "type": "contour"
           }
          ],
          "contourcarpet": [
           {
            "colorbar": {
             "outlinewidth": 0,
             "ticks": ""
            },
            "type": "contourcarpet"
           }
          ],
          "heatmap": [
           {
            "colorbar": {
             "outlinewidth": 0,
             "ticks": ""
            },
            "colorscale": [
             [
              0,
              "#0d0887"
             ],
             [
              0.1111111111111111,
              "#46039f"
             ],
             [
              0.2222222222222222,
              "#7201a8"
             ],
             [
              0.3333333333333333,
              "#9c179e"
             ],
             [
              0.4444444444444444,
              "#bd3786"
             ],
             [
              0.5555555555555556,
              "#d8576b"
             ],
             [
              0.6666666666666666,
              "#ed7953"
             ],
             [
              0.7777777777777778,
              "#fb9f3a"
             ],
             [
              0.8888888888888888,
              "#fdca26"
             ],
             [
              1,
              "#f0f921"
             ]
            ],
            "type": "heatmap"
           }
          ],
          "heatmapgl": [
           {
            "colorbar": {
             "outlinewidth": 0,
             "ticks": ""
            },
            "colorscale": [
             [
              0,
              "#0d0887"
             ],
             [
              0.1111111111111111,
              "#46039f"
             ],
             [
              0.2222222222222222,
              "#7201a8"
             ],
             [
              0.3333333333333333,
              "#9c179e"
             ],
             [
              0.4444444444444444,
              "#bd3786"
             ],
             [
              0.5555555555555556,
              "#d8576b"
             ],
             [
              0.6666666666666666,
              "#ed7953"
             ],
             [
              0.7777777777777778,
              "#fb9f3a"
             ],
             [
              0.8888888888888888,
              "#fdca26"
             ],
             [
              1,
              "#f0f921"
             ]
            ],
            "type": "heatmapgl"
           }
          ],
          "histogram": [
           {
            "marker": {
             "pattern": {
              "fillmode": "overlay",
              "size": 10,
              "solidity": 0.2
             }
            },
            "type": "histogram"
           }
          ],
          "histogram2d": [
           {
            "colorbar": {
             "outlinewidth": 0,
             "ticks": ""
            },
            "colorscale": [
             [
              0,
              "#0d0887"
             ],
             [
              0.1111111111111111,
              "#46039f"
             ],
             [
              0.2222222222222222,
              "#7201a8"
             ],
             [
              0.3333333333333333,
              "#9c179e"
             ],
             [
              0.4444444444444444,
              "#bd3786"
             ],
             [
              0.5555555555555556,
              "#d8576b"
             ],
             [
              0.6666666666666666,
              "#ed7953"
             ],
             [
              0.7777777777777778,
              "#fb9f3a"
             ],
             [
              0.8888888888888888,
              "#fdca26"
             ],
             [
              1,
              "#f0f921"
             ]
            ],
            "type": "histogram2d"
           }
          ],
          "histogram2dcontour": [
           {
            "colorbar": {
             "outlinewidth": 0,
             "ticks": ""
            },
            "colorscale": [
             [
              0,
              "#0d0887"
             ],
             [
              0.1111111111111111,
              "#46039f"
             ],
             [
              0.2222222222222222,
              "#7201a8"
             ],
             [
              0.3333333333333333,
              "#9c179e"
             ],
             [
              0.4444444444444444,
              "#bd3786"
             ],
             [
              0.5555555555555556,
              "#d8576b"
             ],
             [
              0.6666666666666666,
              "#ed7953"
             ],
             [
              0.7777777777777778,
              "#fb9f3a"
             ],
             [
              0.8888888888888888,
              "#fdca26"
             ],
             [
              1,
              "#f0f921"
             ]
            ],
            "type": "histogram2dcontour"
           }
          ],
          "mesh3d": [
           {
            "colorbar": {
             "outlinewidth": 0,
             "ticks": ""
            },
            "type": "mesh3d"
           }
          ],
          "parcoords": [
           {
            "line": {
             "colorbar": {
              "outlinewidth": 0,
              "ticks": ""
             }
            },
            "type": "parcoords"
           }
          ],
          "pie": [
           {
            "automargin": true,
            "type": "pie"
           }
          ],
          "scatter": [
           {
            "fillpattern": {
             "fillmode": "overlay",
             "size": 10,
             "solidity": 0.2
            },
            "type": "scatter"
           }
          ],
          "scatter3d": [
           {
            "line": {
             "colorbar": {
              "outlinewidth": 0,
              "ticks": ""
             }
            },
            "marker": {
             "colorbar": {
              "outlinewidth": 0,
              "ticks": ""
             }
            },
            "type": "scatter3d"
           }
          ],
          "scattercarpet": [
           {
            "marker": {
             "colorbar": {
              "outlinewidth": 0,
              "ticks": ""
             }
            },
            "type": "scattercarpet"
           }
          ],
          "scattergeo": [
           {
            "marker": {
             "colorbar": {
              "outlinewidth": 0,
              "ticks": ""
             }
            },
            "type": "scattergeo"
           }
          ],
          "scattergl": [
           {
            "marker": {
             "colorbar": {
              "outlinewidth": 0,
              "ticks": ""
             }
            },
            "type": "scattergl"
           }
          ],
          "scattermapbox": [
           {
            "marker": {
             "colorbar": {
              "outlinewidth": 0,
              "ticks": ""
             }
            },
            "type": "scattermapbox"
           }
          ],
          "scatterpolar": [
           {
            "marker": {
             "colorbar": {
              "outlinewidth": 0,
              "ticks": ""
             }
            },
            "type": "scatterpolar"
           }
          ],
          "scatterpolargl": [
           {
            "marker": {
             "colorbar": {
              "outlinewidth": 0,
              "ticks": ""
             }
            },
            "type": "scatterpolargl"
           }
          ],
          "scatterternary": [
           {
            "marker": {
             "colorbar": {
              "outlinewidth": 0,
              "ticks": ""
             }
            },
            "type": "scatterternary"
           }
          ],
          "surface": [
           {
            "colorbar": {
             "outlinewidth": 0,
             "ticks": ""
            },
            "colorscale": [
             [
              0,
              "#0d0887"
             ],
             [
              0.1111111111111111,
              "#46039f"
             ],
             [
              0.2222222222222222,
              "#7201a8"
             ],
             [
              0.3333333333333333,
              "#9c179e"
             ],
             [
              0.4444444444444444,
              "#bd3786"
             ],
             [
              0.5555555555555556,
              "#d8576b"
             ],
             [
              0.6666666666666666,
              "#ed7953"
             ],
             [
              0.7777777777777778,
              "#fb9f3a"
             ],
             [
              0.8888888888888888,
              "#fdca26"
             ],
             [
              1,
              "#f0f921"
             ]
            ],
            "type": "surface"
           }
          ],
          "table": [
           {
            "cells": {
             "fill": {
              "color": "#EBF0F8"
             },
             "line": {
              "color": "white"
             }
            },
            "header": {
             "fill": {
              "color": "#C8D4E3"
             },
             "line": {
              "color": "white"
             }
            },
            "type": "table"
           }
          ]
         },
         "layout": {
          "annotationdefaults": {
           "arrowcolor": "#2a3f5f",
           "arrowhead": 0,
           "arrowwidth": 1
          },
          "autotypenumbers": "strict",
          "coloraxis": {
           "colorbar": {
            "outlinewidth": 0,
            "ticks": ""
           }
          },
          "colorscale": {
           "diverging": [
            [
             0,
             "#8e0152"
            ],
            [
             0.1,
             "#c51b7d"
            ],
            [
             0.2,
             "#de77ae"
            ],
            [
             0.3,
             "#f1b6da"
            ],
            [
             0.4,
             "#fde0ef"
            ],
            [
             0.5,
             "#f7f7f7"
            ],
            [
             0.6,
             "#e6f5d0"
            ],
            [
             0.7,
             "#b8e186"
            ],
            [
             0.8,
             "#7fbc41"
            ],
            [
             0.9,
             "#4d9221"
            ],
            [
             1,
             "#276419"
            ]
           ],
           "sequential": [
            [
             0,
             "#0d0887"
            ],
            [
             0.1111111111111111,
             "#46039f"
            ],
            [
             0.2222222222222222,
             "#7201a8"
            ],
            [
             0.3333333333333333,
             "#9c179e"
            ],
            [
             0.4444444444444444,
             "#bd3786"
            ],
            [
             0.5555555555555556,
             "#d8576b"
            ],
            [
             0.6666666666666666,
             "#ed7953"
            ],
            [
             0.7777777777777778,
             "#fb9f3a"
            ],
            [
             0.8888888888888888,
             "#fdca26"
            ],
            [
             1,
             "#f0f921"
            ]
           ],
           "sequentialminus": [
            [
             0,
             "#0d0887"
            ],
            [
             0.1111111111111111,
             "#46039f"
            ],
            [
             0.2222222222222222,
             "#7201a8"
            ],
            [
             0.3333333333333333,
             "#9c179e"
            ],
            [
             0.4444444444444444,
             "#bd3786"
            ],
            [
             0.5555555555555556,
             "#d8576b"
            ],
            [
             0.6666666666666666,
             "#ed7953"
            ],
            [
             0.7777777777777778,
             "#fb9f3a"
            ],
            [
             0.8888888888888888,
             "#fdca26"
            ],
            [
             1,
             "#f0f921"
            ]
           ]
          },
          "colorway": [
           "#636efa",
           "#EF553B",
           "#00cc96",
           "#ab63fa",
           "#FFA15A",
           "#19d3f3",
           "#FF6692",
           "#B6E880",
           "#FF97FF",
           "#FECB52"
          ],
          "font": {
           "color": "#2a3f5f"
          },
          "geo": {
           "bgcolor": "white",
           "lakecolor": "white",
           "landcolor": "white",
           "showlakes": true,
           "showland": true,
           "subunitcolor": "#C8D4E3"
          },
          "hoverlabel": {
           "align": "left"
          },
          "hovermode": "closest",
          "mapbox": {
           "style": "light"
          },
          "paper_bgcolor": "white",
          "plot_bgcolor": "white",
          "polar": {
           "angularaxis": {
            "gridcolor": "#EBF0F8",
            "linecolor": "#EBF0F8",
            "ticks": ""
           },
           "bgcolor": "white",
           "radialaxis": {
            "gridcolor": "#EBF0F8",
            "linecolor": "#EBF0F8",
            "ticks": ""
           }
          },
          "scene": {
           "xaxis": {
            "backgroundcolor": "white",
            "gridcolor": "#DFE8F3",
            "gridwidth": 2,
            "linecolor": "#EBF0F8",
            "showbackground": true,
            "ticks": "",
            "zerolinecolor": "#EBF0F8"
           },
           "yaxis": {
            "backgroundcolor": "white",
            "gridcolor": "#DFE8F3",
            "gridwidth": 2,
            "linecolor": "#EBF0F8",
            "showbackground": true,
            "ticks": "",
            "zerolinecolor": "#EBF0F8"
           },
           "zaxis": {
            "backgroundcolor": "white",
            "gridcolor": "#DFE8F3",
            "gridwidth": 2,
            "linecolor": "#EBF0F8",
            "showbackground": true,
            "ticks": "",
            "zerolinecolor": "#EBF0F8"
           }
          },
          "shapedefaults": {
           "line": {
            "color": "#2a3f5f"
           }
          },
          "ternary": {
           "aaxis": {
            "gridcolor": "#DFE8F3",
            "linecolor": "#A2B1C6",
            "ticks": ""
           },
           "baxis": {
            "gridcolor": "#DFE8F3",
            "linecolor": "#A2B1C6",
            "ticks": ""
           },
           "bgcolor": "white",
           "caxis": {
            "gridcolor": "#DFE8F3",
            "linecolor": "#A2B1C6",
            "ticks": ""
           }
          },
          "title": {
           "x": 0.05
          },
          "xaxis": {
           "automargin": true,
           "gridcolor": "#EBF0F8",
           "linecolor": "#EBF0F8",
           "ticks": "",
           "title": {
            "standoff": 15
           },
           "zerolinecolor": "#EBF0F8",
           "zerolinewidth": 2
          },
          "yaxis": {
           "automargin": true,
           "gridcolor": "#EBF0F8",
           "linecolor": "#EBF0F8",
           "ticks": "",
           "title": {
            "standoff": 15
           },
           "zerolinecolor": "#EBF0F8",
           "zerolinewidth": 2
          }
         }
        },
        "title": {
         "text": "Anzahl der Social - Media - Posts mit der Kombination: <br>Wirksame Medikamente und Hauptprodukten"
        },
        "width": 756,
        "xaxis": {
         "anchor": "y",
         "domain": [
          0,
          1
         ],
         "title": {
          "text": "Anteil"
         }
        },
        "yaxis": {
         "anchor": "x",
         "domain": [
          0,
          1
         ],
         "title": {
          "text": "Hauptprodukten"
         }
        }
       }
      }
     },
     "metadata": {},
     "output_type": "display_data"
    }
   ],
   "source": [
    "def percentage(df, variable1, variable2, yaxis_title, xaxis_title):\n",
    "\n",
    "\n",
    "    # Calculate the count of each combination\n",
    "    combination_counts=df.groupby([variable1, variable2]).post_id.nunique().reset_index(name=\"Anzahl\")\n",
    "\n",
    "    # Drop the rows where variable1 and variable2 values are identical\n",
    "    combination_counts = combination_counts[combination_counts[variable1] != combination_counts[variable2]]\n",
    "\n",
    "\n",
    "    # Calculate the total count of posts\n",
    "    total_posts = num_rows = df.shape[0]\n",
    "\n",
    "    # Calculate the percentage for each combination\n",
    "    combination_counts['Anteil'] = (combination_counts['Anzahl'] / total_posts) * 100\n",
    "\n",
    "    combination_counts = combination_counts[combination_counts[variable1] != \"Nicht erwähnt\"]\n",
    "    combination_counts = combination_counts[combination_counts[variable1] != \"Not mentioned\"]\n",
    "    combination_counts = combination_counts[combination_counts[variable2] != \"Nicht benannt\"]\n",
    "    \n",
    "    count_sum = combination_counts['Anzahl'].sum()\n",
    "\n",
    "\n",
    "\n",
    "    # Display the result\n",
    "    print(combination_counts)\n",
    "\n",
    "\n",
    "    # Create the horizontal stacked bar chart\n",
    "    fig = px.bar(combination_counts,\n",
    "                y=variable1,\n",
    "                x='Anzahl',\n",
    "                color_discrete_sequence=PERMEA_COLOR_WHEEL_3_STATISTICS,\n",
    "                color=variable2,\n",
    "                #barnorm=\"percent\",\n",
    "                template=\"plotly_white\",\n",
    "                orientation='h',\n",
    "                title=f'Anzahl der Social - Media - Posts mit der Kombination: <br>{xaxis_title} und {yaxis_title}',\n",
    "                text_auto=\".0f\",\n",
    "                labels={\n",
    "                variable2: xaxis_title,\n",
    "                #\"percentage\": \"\",\n",
    "                variable1: yaxis_title,\n",
    "                #\"Anzahl\": \"Anzahl\",\n",
    "            },)\n",
    "\n",
    "    fig.update_traces(textangle=0)\n",
    "\n",
    "    fig.update_layout(\n",
    "\n",
    "            xaxis_title='Anzahl', yaxis_title=yaxis_title,\n",
    "            autosize=False,\n",
    "            width=20 * 37.8,  # Convert 20 cm to inches (1 cm = 37.8 inches)\n",
    "            height=10 * 37.8,  # Convert 9 cm to inches (1 cm = 37.8 inches)\n",
    "        )\n",
    "    \n",
    "    fig.add_annotation(dict(font=dict(size=9),\n",
    "                    x=-0.25,\n",
    "                    y=-0.39,\n",
    "                    showarrow=False,\n",
    "                    text=f\"Basierend auf {count_sum} Social-Media-Konversationen aus öffentlich zugänglichen Foren <br>Deutschland, Januar 2013 – April 2023.\",\n",
    "                    textangle=0,\n",
    "                    xanchor='left',\n",
    "                    xref=\"paper\",\n",
    "                    yref=\"paper\",\n",
    "                    align=\"left\"\n",
    "    ))\n",
    "\n",
    "    # Show the chart\n",
    "    fig.show()\n",
    "\n",
    "\n",
    "    fig = px.histogram(\n",
    "        combination_counts,\n",
    "        x=\"Anteil\",\n",
    "        y=variable1,\n",
    "        color=variable2,\n",
    "        barnorm=\"percent\",\n",
    "        orientation=\"h\",\n",
    "        title=f'Anzahl der Social - Media - Posts mit der Kombination: <br>{xaxis_title} und {yaxis_title}',\n",
    "        labels={\n",
    "            \"subcategory_1\": \"\",\n",
    "            variable2: xaxis_title,    \n",
    "            variable1: yaxis_title,\n",
    "        #    \"count\": xaxis,\n",
    "        },\n",
    "        color_discrete_sequence=PERMEA_COLOR_WHEEL_3_STATISTICS,\n",
    "        text_auto=\".0f\",\n",
    "        template=\"plotly_white\"\n",
    "        )\n",
    "    \n",
    "    fig.update_traces(textangle=0)\n",
    "\n",
    "\n",
    "    fig.update_layout(\n",
    "\n",
    "        xaxis_title='Anteil', yaxis_title= yaxis_title,\n",
    "        autosize=False,\n",
    "        width=20 * 37.8,  # Convert 20 cm to inches (1 cm = 37.8 inches)\n",
    "        height=10 * 37.8,  # Convert 9 cm to inches (1 cm = 37.8 inches)\n",
    "    )\n",
    "    fig.add_annotation(dict(font=dict(size=9),\n",
    "                        x=-0.25,\n",
    "                        y=-0.39,\n",
    "                        showarrow=False,\n",
    "                        text=f\"Basierend auf {count_sum} Social-Media-Konversationen aus öffentlich zugänglichen Foren <br>Deutschland, Januar 2013 – April 2023.\",\n",
    "                        textangle=0,\n",
    "                        xanchor='left',\n",
    "                        xref=\"paper\",\n",
    "                        yref=\"paper\",\n",
    "                        align=\"left\"\n",
    "    ))\n",
    "\n",
    "    fig.show()\n",
    "\n",
    "\n",
    "percentage(filtered_df, \"product_1\", \"topic_1_product_helped_answer\", \"Hauptprodukten\", \"Wirksame Medikamente\")\n",
    "\n",
    "\n",
    "\n",
    "\n",
    "  \n",
    "\n",
    "\n",
    "\n",
    "\n"
   ]
  }
 ],
 "metadata": {
  "kernelspec": {
   "display_name": ".venv",
   "language": "python",
   "name": "python3"
  },
  "language_info": {
   "codemirror_mode": {
    "name": "ipython",
    "version": 3
   },
   "file_extension": ".py",
   "mimetype": "text/x-python",
   "name": "python",
   "nbconvert_exporter": "python",
   "pygments_lexer": "ipython3",
   "version": "3.10.11"
  },
  "orig_nbformat": 4
 },
 "nbformat": 4,
 "nbformat_minor": 2
}

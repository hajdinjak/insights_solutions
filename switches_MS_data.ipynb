{
 "cells": [
  {
   "cell_type": "code",
   "execution_count": 3,
   "metadata": {},
   "outputs": [
    {
     "data": {
      "text/html": [
       "<div>\n",
       "<style scoped>\n",
       "    .dataframe tbody tr th:only-of-type {\n",
       "        vertical-align: middle;\n",
       "    }\n",
       "\n",
       "    .dataframe tbody tr th {\n",
       "        vertical-align: top;\n",
       "    }\n",
       "\n",
       "    .dataframe thead th {\n",
       "        text-align: right;\n",
       "    }\n",
       "</style>\n",
       "<table border=\"1\" class=\"dataframe\">\n",
       "  <thead>\n",
       "    <tr style=\"text-align: right;\">\n",
       "      <th></th>\n",
       "      <th>Unnamed: 0</th>\n",
       "      <th>KUNDENNUMMER</th>\n",
       "      <th>ABGABEDATUM</th>\n",
       "      <th>ACTIVE_INGREDIENT</th>\n",
       "      <th>MEDICATION_GROUP</th>\n",
       "      <th>ALTERSGRUPPE</th>\n",
       "    </tr>\n",
       "  </thead>\n",
       "  <tbody>\n",
       "    <tr>\n",
       "      <th>0</th>\n",
       "      <td>344705</td>\n",
       "      <td>0</td>\n",
       "      <td>2021-01-07</td>\n",
       "      <td>Dimethylfumarat</td>\n",
       "      <td>Mild/Moderate</td>\n",
       "      <td>46 - 55</td>\n",
       "    </tr>\n",
       "    <tr>\n",
       "      <th>1</th>\n",
       "      <td>601450</td>\n",
       "      <td>1</td>\n",
       "      <td>2022-04-06</td>\n",
       "      <td>Dimethylfumarat</td>\n",
       "      <td>Mild/Moderate</td>\n",
       "      <td>36 - 45</td>\n",
       "    </tr>\n",
       "    <tr>\n",
       "      <th>2</th>\n",
       "      <td>564021</td>\n",
       "      <td>2</td>\n",
       "      <td>2022-01-18</td>\n",
       "      <td>Glatirameracetat</td>\n",
       "      <td>Mild/Moderate</td>\n",
       "      <td>26 - 35</td>\n",
       "    </tr>\n",
       "    <tr>\n",
       "      <th>3</th>\n",
       "      <td>239794</td>\n",
       "      <td>5</td>\n",
       "      <td>2020-06-25</td>\n",
       "      <td>Glatirameracetat</td>\n",
       "      <td>Mild/Moderate</td>\n",
       "      <td>36 - 45</td>\n",
       "    </tr>\n",
       "    <tr>\n",
       "      <th>4</th>\n",
       "      <td>360925</td>\n",
       "      <td>5</td>\n",
       "      <td>2021-02-04</td>\n",
       "      <td>Interferon beta-1a</td>\n",
       "      <td>Mild/Moderate</td>\n",
       "      <td>36 - 45</td>\n",
       "    </tr>\n",
       "    <tr>\n",
       "      <th>...</th>\n",
       "      <td>...</td>\n",
       "      <td>...</td>\n",
       "      <td>...</td>\n",
       "      <td>...</td>\n",
       "      <td>...</td>\n",
       "      <td>...</td>\n",
       "    </tr>\n",
       "    <tr>\n",
       "      <th>30467</th>\n",
       "      <td>661900</td>\n",
       "      <td>78967</td>\n",
       "      <td>2022-07-01</td>\n",
       "      <td>Interferon beta-1b</td>\n",
       "      <td>Mild/Moderate</td>\n",
       "      <td>36 - 45</td>\n",
       "    </tr>\n",
       "    <tr>\n",
       "      <th>30468</th>\n",
       "      <td>476473</td>\n",
       "      <td>78971</td>\n",
       "      <td>2021-08-20</td>\n",
       "      <td>Teriflunomid</td>\n",
       "      <td>Mild/Moderate</td>\n",
       "      <td>26 - 35</td>\n",
       "    </tr>\n",
       "    <tr>\n",
       "      <th>30469</th>\n",
       "      <td>288399</td>\n",
       "      <td>78973</td>\n",
       "      <td>2020-10-05</td>\n",
       "      <td>Teriflunomid</td>\n",
       "      <td>Mild/Moderate</td>\n",
       "      <td>36 - 45</td>\n",
       "    </tr>\n",
       "    <tr>\n",
       "      <th>30470</th>\n",
       "      <td>420254</td>\n",
       "      <td>78977</td>\n",
       "      <td>2021-05-12</td>\n",
       "      <td>Glatirameracetat</td>\n",
       "      <td>Mild/Moderate</td>\n",
       "      <td>46 - 55</td>\n",
       "    </tr>\n",
       "    <tr>\n",
       "      <th>30471</th>\n",
       "      <td>217122</td>\n",
       "      <td>78981</td>\n",
       "      <td>2020-04-30</td>\n",
       "      <td>Fingolimod</td>\n",
       "      <td>Highly-active</td>\n",
       "      <td>26 - 35</td>\n",
       "    </tr>\n",
       "  </tbody>\n",
       "</table>\n",
       "<p>30472 rows × 6 columns</p>\n",
       "</div>"
      ],
      "text/plain": [
       "       Unnamed: 0  KUNDENNUMMER ABGABEDATUM   ACTIVE_INGREDIENT  \\\n",
       "0          344705             0  2021-01-07     Dimethylfumarat   \n",
       "1          601450             1  2022-04-06     Dimethylfumarat   \n",
       "2          564021             2  2022-01-18    Glatirameracetat   \n",
       "3          239794             5  2020-06-25    Glatirameracetat   \n",
       "4          360925             5  2021-02-04  Interferon beta-1a   \n",
       "...           ...           ...         ...                 ...   \n",
       "30467      661900         78967  2022-07-01  Interferon beta-1b   \n",
       "30468      476473         78971  2021-08-20        Teriflunomid   \n",
       "30469      288399         78973  2020-10-05        Teriflunomid   \n",
       "30470      420254         78977  2021-05-12    Glatirameracetat   \n",
       "30471      217122         78981  2020-04-30          Fingolimod   \n",
       "\n",
       "      MEDICATION_GROUP ALTERSGRUPPE  \n",
       "0        Mild/Moderate      46 - 55  \n",
       "1        Mild/Moderate      36 - 45  \n",
       "2        Mild/Moderate      26 - 35  \n",
       "3        Mild/Moderate      36 - 45  \n",
       "4        Mild/Moderate      36 - 45  \n",
       "...                ...          ...  \n",
       "30467    Mild/Moderate      36 - 45  \n",
       "30468    Mild/Moderate      26 - 35  \n",
       "30469    Mild/Moderate      36 - 45  \n",
       "30470    Mild/Moderate      46 - 55  \n",
       "30471    Highly-active      26 - 35  \n",
       "\n",
       "[30472 rows x 6 columns]"
      ]
     },
     "execution_count": 3,
     "metadata": {},
     "output_type": "execute_result"
    }
   ],
   "source": [
    "## import csv file\n",
    "\n",
    "import pandas as pd\n",
    "\n",
    "read_file = pd.read_csv (r\"C:\\Users\\SanjaHajdinjak\\Temedica Dropbox\\50_Products\\Permea\\03_Projects\\Product_Development\\Switches\\df_switches_beginner.csv\")\n",
    "\n",
    "read_file\n"
   ]
  },
  {
   "cell_type": "code",
   "execution_count": 4,
   "metadata": {},
   "outputs": [],
   "source": [
    "# count how many distinct values are in the column KUNDENNUMMER\n",
    "\n",
    "unique = read_file['KUNDENNUMMER'].nunique()\n",
    "\n",
    "#there are 25943 customers who have only one entry"
   ]
  },
  {
   "cell_type": "code",
   "execution_count": 5,
   "metadata": {},
   "outputs": [
    {
     "name": "stdout",
     "output_type": "stream",
     "text": [
      "Number of patients with more than one entry: 4529\n"
     ]
    }
   ],
   "source": [
    "# count the number of occurrences of each patient\n",
    "patient_counts = read_file[\"KUNDENNUMMER\"].value_counts()\n",
    "\n",
    "# count the number of patients with more than one entry\n",
    "num_patients_with_multiple_entries = (patient_counts > 1).sum()\n",
    "\n",
    "print(\"Number of patients with more than one entry:\", num_patients_with_multiple_entries)\n"
   ]
  },
  {
   "cell_type": "code",
   "execution_count": 6,
   "metadata": {},
   "outputs": [],
   "source": [
    "identical = read_file[read_file.duplicated(subset=['KUNDENNUMMER', 'ACTIVE_INGREDIENT'], keep=False)]\n",
    "\n",
    "# there are no patients who have not switched from one active ingredient to another?"
   ]
  },
  {
   "cell_type": "code",
   "execution_count": 7,
   "metadata": {},
   "outputs": [
    {
     "name": "stdout",
     "output_type": "stream",
     "text": [
      "       KUNDENNUMMER ABGABEDATUM_1 ACTIVE_INGREDIENT_1 MEDICATION_GROUP_1  \\\n",
      "0                 0    2021-01-07     Dimethylfumarat      Mild/Moderate   \n",
      "1                 1    2022-04-06     Dimethylfumarat      Mild/Moderate   \n",
      "2                 2    2022-01-18    Glatirameracetat      Mild/Moderate   \n",
      "3                 5    2020-06-25    Glatirameracetat      Mild/Moderate   \n",
      "4                15    2021-04-30          Fingolimod      Highly-active   \n",
      "...             ...           ...                 ...                ...   \n",
      "25938         78967    2022-07-01  Interferon beta-1b      Mild/Moderate   \n",
      "25939         78971    2021-08-20        Teriflunomid      Mild/Moderate   \n",
      "25940         78973    2020-10-05        Teriflunomid      Mild/Moderate   \n",
      "25941         78977    2021-05-12    Glatirameracetat      Mild/Moderate   \n",
      "25942         78981    2020-04-30          Fingolimod      Highly-active   \n",
      "\n",
      "      ABGABEDATUM_2 ACTIVE_INGREDIENT_2 MEDICATION_GROUP_2  \n",
      "0               NaN                 NaN                NaN  \n",
      "1               NaN                 NaN                NaN  \n",
      "2               NaN                 NaN                NaN  \n",
      "3        2021-02-04  Interferon beta-1a      Mild/Moderate  \n",
      "4               NaN                 NaN                NaN  \n",
      "...             ...                 ...                ...  \n",
      "25938           NaN                 NaN                NaN  \n",
      "25939           NaN                 NaN                NaN  \n",
      "25940           NaN                 NaN                NaN  \n",
      "25941           NaN                 NaN                NaN  \n",
      "25942           NaN                 NaN                NaN  \n",
      "\n",
      "[25943 rows x 7 columns]\n"
     ]
    }
   ],
   "source": [
    "# pivot the data into wide format with new columns for each entry\n",
    "# this can be applied for cases when there are more than 2 entries\n",
    "\n",
    "read_file['idx'] = read_file.groupby('KUNDENNUMMER').cumcount()+1\n",
    "pivoted = read_file.pivot_table(index=['KUNDENNUMMER'], columns='idx', \n",
    "                    values=['MEDICATION_GROUP', 'ACTIVE_INGREDIENT', 'ABGABEDATUM'], aggfunc='first')\n",
    "\n",
    "pivoted = pivoted.sort_index(axis=1, level=1)\n",
    "pivoted.columns = [f'{x}_{y}' for x,y in pivoted.columns]\n",
    "pivoted = pivoted.reset_index()\n",
    "\n",
    "\n",
    "print(pivoted)\n"
   ]
  },
  {
   "cell_type": "code",
   "execution_count": 8,
   "metadata": {},
   "outputs": [
    {
     "data": {
      "text/html": [
       "<div>\n",
       "<style scoped>\n",
       "    .dataframe tbody tr th:only-of-type {\n",
       "        vertical-align: middle;\n",
       "    }\n",
       "\n",
       "    .dataframe tbody tr th {\n",
       "        vertical-align: top;\n",
       "    }\n",
       "\n",
       "    .dataframe thead th {\n",
       "        text-align: right;\n",
       "    }\n",
       "</style>\n",
       "<table border=\"1\" class=\"dataframe\">\n",
       "  <thead>\n",
       "    <tr style=\"text-align: right;\">\n",
       "      <th></th>\n",
       "      <th>MEDICATION_GROUP_1</th>\n",
       "      <th>MEDICATION_GROUP_2</th>\n",
       "      <th>count</th>\n",
       "    </tr>\n",
       "  </thead>\n",
       "  <tbody>\n",
       "    <tr>\n",
       "      <th>0</th>\n",
       "      <td>Highly-active</td>\n",
       "      <td>Highly-active</td>\n",
       "      <td>487</td>\n",
       "    </tr>\n",
       "    <tr>\n",
       "      <th>1</th>\n",
       "      <td>Highly-active</td>\n",
       "      <td>Mild/Moderate</td>\n",
       "      <td>100</td>\n",
       "    </tr>\n",
       "    <tr>\n",
       "      <th>2</th>\n",
       "      <td>Mild/Moderate</td>\n",
       "      <td>Highly-active</td>\n",
       "      <td>1607</td>\n",
       "    </tr>\n",
       "    <tr>\n",
       "      <th>3</th>\n",
       "      <td>Mild/Moderate</td>\n",
       "      <td>Mild/Moderate</td>\n",
       "      <td>2335</td>\n",
       "    </tr>\n",
       "  </tbody>\n",
       "</table>\n",
       "</div>"
      ],
      "text/plain": [
       "  MEDICATION_GROUP_1 MEDICATION_GROUP_2  count\n",
       "0      Highly-active      Highly-active    487\n",
       "1      Highly-active      Mild/Moderate    100\n",
       "2      Mild/Moderate      Highly-active   1607\n",
       "3      Mild/Moderate      Mild/Moderate   2335"
      ]
     },
     "execution_count": 8,
     "metadata": {},
     "output_type": "execute_result"
    }
   ],
   "source": [
    "# how many patients have swithced from a therapy type to another\n",
    "combination_counts = pivoted.groupby(['MEDICATION_GROUP_1', 'MEDICATION_GROUP_2']).size().reset_index(name='count')\n",
    "combination_counts"
   ]
  },
  {
   "cell_type": "code",
   "execution_count": 122,
   "metadata": {},
   "outputs": [
    {
     "data": {
      "text/html": [
       "<div>\n",
       "<style scoped>\n",
       "    .dataframe tbody tr th:only-of-type {\n",
       "        vertical-align: middle;\n",
       "    }\n",
       "\n",
       "    .dataframe tbody tr th {\n",
       "        vertical-align: top;\n",
       "    }\n",
       "\n",
       "    .dataframe thead th {\n",
       "        text-align: right;\n",
       "    }\n",
       "</style>\n",
       "<table border=\"1\" class=\"dataframe\">\n",
       "  <thead>\n",
       "    <tr style=\"text-align: right;\">\n",
       "      <th></th>\n",
       "      <th>MEDICATION_GROUP_1</th>\n",
       "      <th>MEDICATION_GROUP_2</th>\n",
       "      <th>ACTIVE_INGREDIENT_1</th>\n",
       "      <th>ACTIVE_INGREDIENT_2</th>\n",
       "      <th>count</th>\n",
       "    </tr>\n",
       "  </thead>\n",
       "  <tbody>\n",
       "    <tr>\n",
       "      <th>0</th>\n",
       "      <td>Highly-active</td>\n",
       "      <td>Highly-active</td>\n",
       "      <td>Cladribin</td>\n",
       "      <td>Fingolimod</td>\n",
       "      <td>1</td>\n",
       "    </tr>\n",
       "    <tr>\n",
       "      <th>1</th>\n",
       "      <td>Highly-active</td>\n",
       "      <td>Highly-active</td>\n",
       "      <td>Cladribin</td>\n",
       "      <td>Natalizumab</td>\n",
       "      <td>3</td>\n",
       "    </tr>\n",
       "    <tr>\n",
       "      <th>2</th>\n",
       "      <td>Highly-active</td>\n",
       "      <td>Highly-active</td>\n",
       "      <td>Cladribin</td>\n",
       "      <td>Ocrelizumab</td>\n",
       "      <td>12</td>\n",
       "    </tr>\n",
       "    <tr>\n",
       "      <th>3</th>\n",
       "      <td>Highly-active</td>\n",
       "      <td>Highly-active</td>\n",
       "      <td>Cladribin</td>\n",
       "      <td>Ofatumumab</td>\n",
       "      <td>12</td>\n",
       "    </tr>\n",
       "    <tr>\n",
       "      <th>4</th>\n",
       "      <td>Highly-active</td>\n",
       "      <td>Highly-active</td>\n",
       "      <td>Cladribin</td>\n",
       "      <td>Ozanimod</td>\n",
       "      <td>3</td>\n",
       "    </tr>\n",
       "    <tr>\n",
       "      <th>...</th>\n",
       "      <td>...</td>\n",
       "      <td>...</td>\n",
       "      <td>...</td>\n",
       "      <td>...</td>\n",
       "      <td>...</td>\n",
       "    </tr>\n",
       "    <tr>\n",
       "      <th>159</th>\n",
       "      <td>Mild/Moderate</td>\n",
       "      <td>Mild/Moderate</td>\n",
       "      <td>Teriflunomid</td>\n",
       "      <td>Diroximelfumarat</td>\n",
       "      <td>25</td>\n",
       "    </tr>\n",
       "    <tr>\n",
       "      <th>160</th>\n",
       "      <td>Mild/Moderate</td>\n",
       "      <td>Mild/Moderate</td>\n",
       "      <td>Teriflunomid</td>\n",
       "      <td>Glatirameracetat</td>\n",
       "      <td>49</td>\n",
       "    </tr>\n",
       "    <tr>\n",
       "      <th>161</th>\n",
       "      <td>Mild/Moderate</td>\n",
       "      <td>Mild/Moderate</td>\n",
       "      <td>Teriflunomid</td>\n",
       "      <td>Interferon beta-1a</td>\n",
       "      <td>11</td>\n",
       "    </tr>\n",
       "    <tr>\n",
       "      <th>162</th>\n",
       "      <td>Mild/Moderate</td>\n",
       "      <td>Mild/Moderate</td>\n",
       "      <td>Teriflunomid</td>\n",
       "      <td>Interferon beta-1b</td>\n",
       "      <td>2</td>\n",
       "    </tr>\n",
       "    <tr>\n",
       "      <th>163</th>\n",
       "      <td>Mild/Moderate</td>\n",
       "      <td>Mild/Moderate</td>\n",
       "      <td>Teriflunomid</td>\n",
       "      <td>Peginterferon beta-1a</td>\n",
       "      <td>7</td>\n",
       "    </tr>\n",
       "  </tbody>\n",
       "</table>\n",
       "<p>164 rows × 5 columns</p>\n",
       "</div>"
      ],
      "text/plain": [
       "    MEDICATION_GROUP_1 MEDICATION_GROUP_2 ACTIVE_INGREDIENT_1  \\\n",
       "0        Highly-active      Highly-active           Cladribin   \n",
       "1        Highly-active      Highly-active           Cladribin   \n",
       "2        Highly-active      Highly-active           Cladribin   \n",
       "3        Highly-active      Highly-active           Cladribin   \n",
       "4        Highly-active      Highly-active           Cladribin   \n",
       "..                 ...                ...                 ...   \n",
       "159      Mild/Moderate      Mild/Moderate        Teriflunomid   \n",
       "160      Mild/Moderate      Mild/Moderate        Teriflunomid   \n",
       "161      Mild/Moderate      Mild/Moderate        Teriflunomid   \n",
       "162      Mild/Moderate      Mild/Moderate        Teriflunomid   \n",
       "163      Mild/Moderate      Mild/Moderate        Teriflunomid   \n",
       "\n",
       "       ACTIVE_INGREDIENT_2  count  \n",
       "0               Fingolimod      1  \n",
       "1              Natalizumab      3  \n",
       "2              Ocrelizumab     12  \n",
       "3               Ofatumumab     12  \n",
       "4                 Ozanimod      3  \n",
       "..                     ...    ...  \n",
       "159       Diroximelfumarat     25  \n",
       "160       Glatirameracetat     49  \n",
       "161     Interferon beta-1a     11  \n",
       "162     Interferon beta-1b      2  \n",
       "163  Peginterferon beta-1a      7  \n",
       "\n",
       "[164 rows x 5 columns]"
      ]
     },
     "execution_count": 122,
     "metadata": {},
     "output_type": "execute_result"
    }
   ],
   "source": [
    "# # how many patients have swithced from one active ingredient to another\n",
    "combination_counts_active_ingredient = pivoted.groupby(['MEDICATION_GROUP_1', 'MEDICATION_GROUP_2', 'ACTIVE_INGREDIENT_1', 'ACTIVE_INGREDIENT_2']).size().astype(int).reset_index(name='count')\n",
    "combination_counts_active_ingredient"
   ]
  },
  {
   "cell_type": "code",
   "execution_count": 123,
   "metadata": {},
   "outputs": [],
   "source": [
    "# dates into date format for further analysis\n",
    "pivoted['ABGABEDATUM_1'] = pd.to_datetime(pivoted['ABGABEDATUM_1'])\n",
    "pivoted['ABGABEDATUM_2'] = pd.to_datetime(pivoted['ABGABEDATUM_2'])\n"
   ]
  },
  {
   "cell_type": "code",
   "execution_count": 124,
   "metadata": {},
   "outputs": [],
   "source": [
    "# calculate the number of days between the two dates\n",
    "pivoted['days_between'] = (pivoted['ABGABEDATUM_2'] - pivoted['ABGABEDATUM_1']).dt.days\n",
    "\n"
   ]
  },
  {
   "cell_type": "code",
   "execution_count": 125,
   "metadata": {},
   "outputs": [
    {
     "data": {
      "text/html": [
       "<div>\n",
       "<style scoped>\n",
       "    .dataframe tbody tr th:only-of-type {\n",
       "        vertical-align: middle;\n",
       "    }\n",
       "\n",
       "    .dataframe tbody tr th {\n",
       "        vertical-align: top;\n",
       "    }\n",
       "\n",
       "    .dataframe thead th {\n",
       "        text-align: right;\n",
       "    }\n",
       "</style>\n",
       "<table border=\"1\" class=\"dataframe\">\n",
       "  <thead>\n",
       "    <tr style=\"text-align: right;\">\n",
       "      <th></th>\n",
       "      <th>MEDICATION_GROUP_1</th>\n",
       "      <th>MEDICATION_GROUP_2</th>\n",
       "      <th>ACTIVE_INGREDIENT_1</th>\n",
       "      <th>ACTIVE_INGREDIENT_2</th>\n",
       "      <th>days_between</th>\n",
       "    </tr>\n",
       "  </thead>\n",
       "  <tbody>\n",
       "    <tr>\n",
       "      <th>0</th>\n",
       "      <td>Highly-active</td>\n",
       "      <td>Highly-active</td>\n",
       "      <td>Cladribin</td>\n",
       "      <td>Fingolimod</td>\n",
       "      <td>684</td>\n",
       "    </tr>\n",
       "    <tr>\n",
       "      <th>1</th>\n",
       "      <td>Highly-active</td>\n",
       "      <td>Highly-active</td>\n",
       "      <td>Cladribin</td>\n",
       "      <td>Natalizumab</td>\n",
       "      <td>592</td>\n",
       "    </tr>\n",
       "    <tr>\n",
       "      <th>2</th>\n",
       "      <td>Highly-active</td>\n",
       "      <td>Highly-active</td>\n",
       "      <td>Cladribin</td>\n",
       "      <td>Ocrelizumab</td>\n",
       "      <td>448</td>\n",
       "    </tr>\n",
       "    <tr>\n",
       "      <th>3</th>\n",
       "      <td>Highly-active</td>\n",
       "      <td>Highly-active</td>\n",
       "      <td>Cladribin</td>\n",
       "      <td>Ofatumumab</td>\n",
       "      <td>560</td>\n",
       "    </tr>\n",
       "    <tr>\n",
       "      <th>4</th>\n",
       "      <td>Highly-active</td>\n",
       "      <td>Highly-active</td>\n",
       "      <td>Cladribin</td>\n",
       "      <td>Ozanimod</td>\n",
       "      <td>490</td>\n",
       "    </tr>\n",
       "    <tr>\n",
       "      <th>...</th>\n",
       "      <td>...</td>\n",
       "      <td>...</td>\n",
       "      <td>...</td>\n",
       "      <td>...</td>\n",
       "      <td>...</td>\n",
       "    </tr>\n",
       "    <tr>\n",
       "      <th>159</th>\n",
       "      <td>Mild/Moderate</td>\n",
       "      <td>Mild/Moderate</td>\n",
       "      <td>Teriflunomid</td>\n",
       "      <td>Diroximelfumarat</td>\n",
       "      <td>289</td>\n",
       "    </tr>\n",
       "    <tr>\n",
       "      <th>160</th>\n",
       "      <td>Mild/Moderate</td>\n",
       "      <td>Mild/Moderate</td>\n",
       "      <td>Teriflunomid</td>\n",
       "      <td>Glatirameracetat</td>\n",
       "      <td>217</td>\n",
       "    </tr>\n",
       "    <tr>\n",
       "      <th>161</th>\n",
       "      <td>Mild/Moderate</td>\n",
       "      <td>Mild/Moderate</td>\n",
       "      <td>Teriflunomid</td>\n",
       "      <td>Interferon beta-1a</td>\n",
       "      <td>214</td>\n",
       "    </tr>\n",
       "    <tr>\n",
       "      <th>162</th>\n",
       "      <td>Mild/Moderate</td>\n",
       "      <td>Mild/Moderate</td>\n",
       "      <td>Teriflunomid</td>\n",
       "      <td>Interferon beta-1b</td>\n",
       "      <td>234</td>\n",
       "    </tr>\n",
       "    <tr>\n",
       "      <th>163</th>\n",
       "      <td>Mild/Moderate</td>\n",
       "      <td>Mild/Moderate</td>\n",
       "      <td>Teriflunomid</td>\n",
       "      <td>Peginterferon beta-1a</td>\n",
       "      <td>204</td>\n",
       "    </tr>\n",
       "  </tbody>\n",
       "</table>\n",
       "<p>164 rows × 5 columns</p>\n",
       "</div>"
      ],
      "text/plain": [
       "    MEDICATION_GROUP_1 MEDICATION_GROUP_2 ACTIVE_INGREDIENT_1  \\\n",
       "0        Highly-active      Highly-active           Cladribin   \n",
       "1        Highly-active      Highly-active           Cladribin   \n",
       "2        Highly-active      Highly-active           Cladribin   \n",
       "3        Highly-active      Highly-active           Cladribin   \n",
       "4        Highly-active      Highly-active           Cladribin   \n",
       "..                 ...                ...                 ...   \n",
       "159      Mild/Moderate      Mild/Moderate        Teriflunomid   \n",
       "160      Mild/Moderate      Mild/Moderate        Teriflunomid   \n",
       "161      Mild/Moderate      Mild/Moderate        Teriflunomid   \n",
       "162      Mild/Moderate      Mild/Moderate        Teriflunomid   \n",
       "163      Mild/Moderate      Mild/Moderate        Teriflunomid   \n",
       "\n",
       "       ACTIVE_INGREDIENT_2  days_between  \n",
       "0               Fingolimod           684  \n",
       "1              Natalizumab           592  \n",
       "2              Ocrelizumab           448  \n",
       "3               Ofatumumab           560  \n",
       "4                 Ozanimod           490  \n",
       "..                     ...           ...  \n",
       "159       Diroximelfumarat           289  \n",
       "160       Glatirameracetat           217  \n",
       "161     Interferon beta-1a           214  \n",
       "162     Interferon beta-1b           234  \n",
       "163  Peginterferon beta-1a           204  \n",
       "\n",
       "[164 rows x 5 columns]"
      ]
     },
     "execution_count": 125,
     "metadata": {},
     "output_type": "execute_result"
    }
   ],
   "source": [
    "# calculate the average number of days between the two dates per switching combination\n",
    "avg_days = pivoted.groupby(['MEDICATION_GROUP_1', 'MEDICATION_GROUP_2', 'ACTIVE_INGREDIENT_1', 'ACTIVE_INGREDIENT_2'])['days_between'].mean().astype(int).reset_index()\n",
    "avg_days"
   ]
  },
  {
   "cell_type": "code",
   "execution_count": 126,
   "metadata": {},
   "outputs": [],
   "source": [
    "# variable concatenating the two active ingredients\n",
    "avg_days['active_ingredient_concat'] = avg_days['ACTIVE_INGREDIENT_1'] + '->' + avg_days['ACTIVE_INGREDIENT_2']\n"
   ]
  },
  {
   "cell_type": "code",
   "execution_count": 127,
   "metadata": {},
   "outputs": [],
   "source": [
    "# merging to get count and number of days between medication switches\n",
    "merged_df = combination_counts_active_ingredient.merge(avg_days, on=['MEDICATION_GROUP_1', 'MEDICATION_GROUP_2', 'ACTIVE_INGREDIENT_1', 'ACTIVE_INGREDIENT_2'])\n"
   ]
  },
  {
   "cell_type": "code",
   "execution_count": 128,
   "metadata": {},
   "outputs": [],
   "source": [
    "# add the number of days to the switching between medications information\n",
    "merged_df['active_ingredient_concat_avg_days'] = merged_df['ACTIVE_INGREDIENT_1'] + '->' + merged_df['ACTIVE_INGREDIENT_2'] + '=' + merged_df['days_between'].astype(str) + ' days'\n"
   ]
  },
  {
   "cell_type": "code",
   "execution_count": 129,
   "metadata": {},
   "outputs": [
    {
     "data": {
      "application/vnd.plotly.v1+json": {
       "config": {
        "plotlyServerURL": "https://plot.ly"
       },
       "data": [
        {
         "arrangement": "snap",
         "link": {
          "customdata": [
           "Cladribin->Fingolimod=684 days",
           "Cladribin->Natalizumab=592 days",
           "Cladribin->Ocrelizumab=448 days",
           "Cladribin->Ofatumumab=560 days",
           "Cladribin->Ozanimod=490 days",
           "Cladribin->Ponesimod=247 days",
           "Cladribin->Siponimod=768 days",
           "Fingolimod->Cladribin=420 days",
           "Fingolimod->Natalizumab=362 days",
           "Fingolimod->Ocrelizumab=443 days",
           "Fingolimod->Ofatumumab=534 days",
           "Fingolimod->Ozanimod=391 days",
           "Fingolimod->Ponesimod=613 days",
           "Fingolimod->Siponimod=427 days",
           "Natalizumab->Cladribin=399 days",
           "Natalizumab->Fingolimod=392 days",
           "Natalizumab->Ocrelizumab=402 days",
           "Natalizumab->Ofatumumab=542 days",
           "Natalizumab->Ozanimod=341 days",
           "Natalizumab->Ponesimod=615 days",
           "Natalizumab->Siponimod=338 days",
           "Ocrelizumab->Cladribin=378 days",
           "Ocrelizumab->Natalizumab=276 days",
           "Ocrelizumab->Ofatumumab=481 days",
           "Ocrelizumab->Ozanimod=682 days",
           "Ocrelizumab->Siponimod=558 days",
           "Ofatumumab->Cladribin=203 days",
           "Ofatumumab->Fingolimod=139 days",
           "Ozanimod->Cladribin=258 days",
           "Ozanimod->Fingolimod=45 days",
           "Ozanimod->Natalizumab=282 days",
           "Ozanimod->Ocrelizumab=381 days",
           "Ozanimod->Ofatumumab=397 days",
           "Ozanimod->Ponesimod=182 days",
           "Ponesimod->Ofatumumab=106 days",
           "Ponesimod->Ozanimod=22 days",
           "Siponimod->Cladribin=450 days",
           "Siponimod->Fingolimod=165 days",
           "Siponimod->Natalizumab=440 days",
           "Siponimod->Ocrelizumab=422 days",
           "Siponimod->Ofatumumab=397 days",
           "Siponimod->Ozanimod=272 days",
           "Siponimod->Ponesimod=564 days",
           "Cladribin->Dimethylfumarat=434 days",
           "Cladribin->Diroximelfumarat=800 days",
           "Fingolimod->Dimethylfumarat=298 days",
           "Fingolimod->Diroximelfumarat=526 days",
           "Fingolimod->Glatirameracetat=505 days",
           "Fingolimod->Interferon beta-1a=323 days",
           "Fingolimod->Interferon beta-1b=503 days",
           "Fingolimod->Peginterferon beta-1a=549 days",
           "Fingolimod->Teriflunomid=305 days",
           "Natalizumab->Dimethylfumarat=299 days",
           "Natalizumab->Diroximelfumarat=477 days",
           "Natalizumab->Glatirameracetat=564 days",
           "Natalizumab->Teriflunomid=358 days",
           "Ocrelizumab->Dimethylfumarat=705 days",
           "Ocrelizumab->Glatirameracetat=237 days",
           "Ocrelizumab->Interferon beta-1a=380 days",
           "Ocrelizumab->Peginterferon beta-1a=218 days",
           "Ofatumumab->Dimethylfumarat=195 days",
           "Ofatumumab->Teriflunomid=174 days",
           "Ozanimod->Dimethylfumarat=210 days",
           "Ozanimod->Glatirameracetat=259 days",
           "Ozanimod->Interferon beta-1b=679 days",
           "Ozanimod->Teriflunomid=108 days",
           "Siponimod->Dimethylfumarat=258 days",
           "Siponimod->Glatirameracetat=94 days",
           "Siponimod->Interferon beta-1a=432 days",
           "Siponimod->Interferon beta-1b=512 days",
           "Siponimod->Teriflunomid=405 days",
           "Dimethylfumarat->Cladribin=410 days",
           "Dimethylfumarat->Fingolimod=257 days",
           "Dimethylfumarat->Natalizumab=322 days",
           "Dimethylfumarat->Ocrelizumab=373 days",
           "Dimethylfumarat->Ofatumumab=505 days",
           "Dimethylfumarat->Ozanimod=350 days",
           "Dimethylfumarat->Ponesimod=487 days",
           "Dimethylfumarat->Siponimod=377 days",
           "Diroximelfumarat->Natalizumab=180 days",
           "Diroximelfumarat->Ocrelizumab=167 days",
           "Diroximelfumarat->Ofatumumab=120 days",
           "Diroximelfumarat->Ozanimod=47 days",
           "Diroximelfumarat->Siponimod=188 days",
           "Glatirameracetat->Cladribin=394 days",
           "Glatirameracetat->Fingolimod=303 days",
           "Glatirameracetat->Natalizumab=316 days",
           "Glatirameracetat->Ocrelizumab=315 days",
           "Glatirameracetat->Ofatumumab=489 days",
           "Glatirameracetat->Ozanimod=390 days",
           "Glatirameracetat->Ponesimod=488 days",
           "Glatirameracetat->Siponimod=431 days",
           "Interferon beta-1a->Cladribin=384 days",
           "Interferon beta-1a->Fingolimod=403 days",
           "Interferon beta-1a->Natalizumab=212 days",
           "Interferon beta-1a->Ocrelizumab=545 days",
           "Interferon beta-1a->Ofatumumab=509 days",
           "Interferon beta-1a->Ozanimod=353 days",
           "Interferon beta-1a->Ponesimod=436 days",
           "Interferon beta-1a->Siponimod=378 days",
           "Interferon beta-1b->Cladribin=399 days",
           "Interferon beta-1b->Fingolimod=401 days",
           "Interferon beta-1b->Natalizumab=438 days",
           "Interferon beta-1b->Ocrelizumab=602 days",
           "Interferon beta-1b->Ofatumumab=557 days",
           "Interferon beta-1b->Ozanimod=397 days",
           "Interferon beta-1b->Ponesimod=457 days",
           "Interferon beta-1b->Siponimod=375 days",
           "Peginterferon beta-1a->Cladribin=401 days",
           "Peginterferon beta-1a->Fingolimod=234 days",
           "Peginterferon beta-1a->Natalizumab=178 days",
           "Peginterferon beta-1a->Ocrelizumab=519 days",
           "Peginterferon beta-1a->Ofatumumab=391 days",
           "Peginterferon beta-1a->Ozanimod=426 days",
           "Peginterferon beta-1a->Ponesimod=522 days",
           "Peginterferon beta-1a->Siponimod=394 days",
           "Teriflunomid->Cladribin=483 days",
           "Teriflunomid->Fingolimod=359 days",
           "Teriflunomid->Natalizumab=376 days",
           "Teriflunomid->Ocrelizumab=456 days",
           "Teriflunomid->Ofatumumab=518 days",
           "Teriflunomid->Ozanimod=381 days",
           "Teriflunomid->Ponesimod=521 days",
           "Teriflunomid->Siponimod=516 days",
           "Dimethylfumarat->Diroximelfumarat=384 days",
           "Dimethylfumarat->Glatirameracetat=199 days",
           "Dimethylfumarat->Interferon beta-1a=151 days",
           "Dimethylfumarat->Interferon beta-1b=109 days",
           "Dimethylfumarat->Peginterferon beta-1a=184 days",
           "Dimethylfumarat->Teriflunomid=246 days",
           "Diroximelfumarat->Dimethylfumarat=140 days",
           "Diroximelfumarat->Glatirameracetat=73 days",
           "Diroximelfumarat->Interferon beta-1a=52 days",
           "Diroximelfumarat->Teriflunomid=139 days",
           "Glatirameracetat->Dimethylfumarat=286 days",
           "Glatirameracetat->Diroximelfumarat=472 days",
           "Glatirameracetat->Interferon beta-1a=221 days",
           "Glatirameracetat->Interferon beta-1b=162 days",
           "Glatirameracetat->Peginterferon beta-1a=203 days",
           "Glatirameracetat->Teriflunomid=306 days",
           "Interferon beta-1a->Dimethylfumarat=322 days",
           "Interferon beta-1a->Diroximelfumarat=503 days",
           "Interferon beta-1a->Glatirameracetat=220 days",
           "Interferon beta-1a->Interferon beta-1b=215 days",
           "Interferon beta-1a->Peginterferon beta-1a=328 days",
           "Interferon beta-1a->Teriflunomid=367 days",
           "Interferon beta-1b->Dimethylfumarat=329 days",
           "Interferon beta-1b->Diroximelfumarat=340 days",
           "Interferon beta-1b->Glatirameracetat=198 days",
           "Interferon beta-1b->Interferon beta-1a=306 days",
           "Interferon beta-1b->Peginterferon beta-1a=274 days",
           "Interferon beta-1b->Teriflunomid=349 days",
           "Peginterferon beta-1a->Dimethylfumarat=330 days",
           "Peginterferon beta-1a->Diroximelfumarat=423 days",
           "Peginterferon beta-1a->Glatirameracetat=201 days",
           "Peginterferon beta-1a->Interferon beta-1a=318 days",
           "Peginterferon beta-1a->Interferon beta-1b=313 days",
           "Peginterferon beta-1a->Teriflunomid=279 days",
           "Teriflunomid->Dimethylfumarat=264 days",
           "Teriflunomid->Diroximelfumarat=289 days",
           "Teriflunomid->Glatirameracetat=217 days",
           "Teriflunomid->Interferon beta-1a=214 days",
           "Teriflunomid->Interferon beta-1b=234 days",
           "Teriflunomid->Peginterferon beta-1a=204 days"
          ],
          "hovertemplate": "Count: %{value:.2f}<br>From %{source.label} to %{target.label}<br>From %{customdata}<extra></extra>",
          "source": [
           0,
           0,
           0,
           0,
           0,
           0,
           0,
           0,
           0,
           0,
           0,
           0,
           0,
           0,
           0,
           0,
           0,
           0,
           0,
           0,
           0,
           0,
           0,
           0,
           0,
           0,
           0,
           0,
           0,
           0,
           0,
           0,
           0,
           0,
           0,
           0,
           0,
           0,
           0,
           0,
           0,
           0,
           0,
           0,
           0,
           0,
           0,
           0,
           0,
           0,
           0,
           0,
           0,
           0,
           0,
           0,
           0,
           0,
           0,
           0,
           0,
           0,
           0,
           0,
           0,
           0,
           0,
           0,
           0,
           0,
           0,
           1,
           1,
           1,
           1,
           1,
           1,
           1,
           1,
           1,
           1,
           1,
           1,
           1,
           1,
           1,
           1,
           1,
           1,
           1,
           1,
           1,
           1,
           1,
           1,
           1,
           1,
           1,
           1,
           1,
           1,
           1,
           1,
           1,
           1,
           1,
           1,
           1,
           1,
           1,
           1,
           1,
           1,
           1,
           1,
           1,
           1,
           1,
           1,
           1,
           1,
           1,
           1,
           1,
           1,
           1,
           1,
           1,
           1,
           1,
           1,
           1,
           1,
           1,
           1,
           1,
           1,
           1,
           1,
           1,
           1,
           1,
           1,
           1,
           1,
           1,
           1,
           1,
           1,
           1,
           1,
           1,
           1,
           1,
           1,
           1,
           1,
           1,
           1,
           1,
           1,
           1,
           1,
           1,
           2,
           2,
           2,
           2,
           2,
           2,
           2,
           3,
           3,
           3,
           3,
           3,
           3,
           3,
           4,
           4,
           4,
           4,
           4,
           4,
           4,
           5,
           5,
           5,
           5,
           5,
           6,
           6,
           7,
           7,
           7,
           7,
           7,
           7,
           8,
           8,
           9,
           9,
           9,
           9,
           9,
           9,
           9,
           2,
           2,
           3,
           3,
           3,
           3,
           3,
           3,
           3,
           4,
           4,
           4,
           4,
           5,
           5,
           5,
           5,
           6,
           6,
           7,
           7,
           7,
           7,
           9,
           9,
           9,
           9,
           9,
           10,
           10,
           10,
           10,
           10,
           10,
           10,
           10,
           11,
           11,
           11,
           11,
           11,
           12,
           12,
           12,
           12,
           12,
           12,
           12,
           12,
           13,
           13,
           13,
           13,
           13,
           13,
           13,
           13,
           14,
           14,
           14,
           14,
           14,
           14,
           14,
           14,
           15,
           15,
           15,
           15,
           15,
           15,
           15,
           15,
           16,
           16,
           16,
           16,
           16,
           16,
           16,
           16,
           10,
           10,
           10,
           10,
           10,
           10,
           11,
           11,
           11,
           11,
           12,
           12,
           12,
           12,
           12,
           12,
           13,
           13,
           13,
           13,
           13,
           13,
           14,
           14,
           14,
           14,
           14,
           14,
           15,
           15,
           15,
           15,
           15,
           15,
           16,
           16,
           16,
           16,
           16,
           16
          ],
          "target": [
           2,
           2,
           2,
           2,
           2,
           2,
           2,
           2,
           2,
           2,
           2,
           2,
           2,
           2,
           2,
           2,
           2,
           2,
           2,
           2,
           2,
           2,
           2,
           2,
           2,
           2,
           2,
           2,
           2,
           2,
           2,
           2,
           2,
           2,
           2,
           2,
           2,
           2,
           2,
           2,
           2,
           2,
           2,
           3,
           3,
           3,
           3,
           3,
           3,
           3,
           3,
           3,
           3,
           3,
           3,
           3,
           3,
           3,
           3,
           3,
           3,
           3,
           3,
           3,
           3,
           3,
           3,
           3,
           3,
           3,
           3,
           2,
           2,
           2,
           2,
           2,
           2,
           2,
           2,
           2,
           2,
           2,
           2,
           2,
           2,
           2,
           2,
           2,
           2,
           2,
           2,
           2,
           2,
           2,
           2,
           2,
           2,
           2,
           2,
           2,
           2,
           2,
           2,
           2,
           2,
           2,
           2,
           2,
           2,
           2,
           2,
           2,
           2,
           2,
           2,
           2,
           2,
           2,
           2,
           2,
           2,
           2,
           2,
           2,
           3,
           3,
           3,
           3,
           3,
           3,
           3,
           3,
           3,
           3,
           3,
           3,
           3,
           3,
           3,
           3,
           3,
           3,
           3,
           3,
           3,
           3,
           3,
           3,
           3,
           3,
           3,
           3,
           3,
           3,
           3,
           3,
           3,
           3,
           3,
           3,
           3,
           3,
           3,
           3,
           4,
           5,
           6,
           7,
           8,
           9,
           10,
           11,
           5,
           6,
           7,
           8,
           9,
           10,
           11,
           4,
           6,
           7,
           8,
           9,
           10,
           11,
           5,
           7,
           8,
           10,
           11,
           4,
           11,
           4,
           5,
           6,
           7,
           9,
           7,
           8,
           11,
           4,
           5,
           6,
           7,
           8,
           9,
           12,
           13,
           12,
           13,
           14,
           15,
           16,
           17,
           18,
           12,
           13,
           14,
           18,
           12,
           14,
           15,
           17,
           12,
           18,
           12,
           14,
           16,
           18,
           12,
           14,
           15,
           16,
           18,
           11,
           4,
           5,
           6,
           7,
           8,
           9,
           10,
           5,
           6,
           7,
           8,
           10,
           11,
           4,
           5,
           6,
           7,
           8,
           9,
           10,
           11,
           4,
           5,
           6,
           7,
           8,
           9,
           10,
           11,
           4,
           5,
           6,
           7,
           8,
           9,
           10,
           11,
           4,
           5,
           6,
           7,
           8,
           9,
           10,
           11,
           4,
           5,
           6,
           7,
           8,
           9,
           10,
           13,
           14,
           15,
           16,
           17,
           18,
           12,
           14,
           15,
           18,
           12,
           13,
           15,
           16,
           17,
           18,
           12,
           13,
           14,
           16,
           17,
           18,
           12,
           13,
           14,
           15,
           17,
           18,
           12,
           13,
           14,
           15,
           16,
           18,
           12,
           13,
           14,
           15,
           16,
           17
          ],
          "value": [
           1,
           3,
           12,
           12,
           3,
           1,
           2,
           25,
           30,
           23,
           47,
           32,
           3,
           35,
           24,
           5,
           55,
           34,
           4,
           4,
           7,
           1,
           9,
           29,
           3,
           8,
           1,
           1,
           3,
           2,
           6,
           4,
           15,
           1,
           1,
           1,
           5,
           2,
           1,
           11,
           18,
           2,
           1,
           2,
           1,
           20,
           3,
           10,
           4,
           1,
           3,
           6,
           5,
           3,
           3,
           3,
           1,
           1,
           2,
           1,
           2,
           1,
           5,
           5,
           1,
           4,
           4,
           1,
           1,
           3,
           4,
           86,
           59,
           75,
           70,
           122,
           98,
           22,
           37,
           1,
           1,
           4,
           1,
           1,
           84,
           49,
           71,
           30,
           94,
           68,
           17,
           22,
           31,
           25,
           11,
           9,
           24,
           22,
           6,
           12,
           10,
           10,
           11,
           1,
           11,
           13,
           3,
           14,
           15,
           4,
           6,
           4,
           17,
           17,
           3,
           3,
           57,
           30,
           30,
           31,
           66,
           59,
           19,
           21,
           307,
           144,
           39,
           21,
           45,
           215,
           5,
           9,
           2,
           3,
           323,
           47,
           60,
           25,
           46,
           187,
           107,
           25,
           51,
           1,
           36,
           89,
           62,
           5,
           28,
           10,
           29,
           36,
           70,
           22,
           42,
           13,
           8,
           36,
           93,
           25,
           49,
           11,
           2,
           7
          ]
         },
         "node": {
          "color": [
           "blue",
           "blue",
           "blue",
           "blue"
          ],
          "label": [
           "Highly-active",
           "Mild/Moderate",
           "Highly-active",
           "Mild/Moderate",
           "Cladribin",
           "Fingolimod",
           "Natalizumab",
           "Ocrelizumab",
           "Ofatumumab",
           "Ozanimod",
           "Ponesimod",
           "Siponimod",
           "Dimethylfumarat",
           "Diroximelfumarat",
           "Glatirameracetat",
           "Interferon beta-1a",
           "Interferon beta-1b",
           "Peginterferon beta-1a",
           "Teriflunomid",
           "Fingolimod",
           "Natalizumab",
           "Ocrelizumab",
           "Ofatumumab",
           "Ozanimod",
           "Ponesimod",
           "Siponimod",
           "Cladribin",
           "Dimethylfumarat",
           "Diroximelfumarat",
           "Glatirameracetat",
           "Interferon beta-1a",
           "Interferon beta-1b",
           "Peginterferon beta-1a",
           "Teriflunomid"
          ]
         },
         "type": "sankey"
        }
       ],
       "layout": {
        "font": {
         "size": 12
        },
        "height": 1000,
        "template": {
         "data": {
          "bar": [
           {
            "error_x": {
             "color": "#2a3f5f"
            },
            "error_y": {
             "color": "#2a3f5f"
            },
            "marker": {
             "line": {
              "color": "#E5ECF6",
              "width": 0.5
             },
             "pattern": {
              "fillmode": "overlay",
              "size": 10,
              "solidity": 0.2
             }
            },
            "type": "bar"
           }
          ],
          "barpolar": [
           {
            "marker": {
             "line": {
              "color": "#E5ECF6",
              "width": 0.5
             },
             "pattern": {
              "fillmode": "overlay",
              "size": 10,
              "solidity": 0.2
             }
            },
            "type": "barpolar"
           }
          ],
          "carpet": [
           {
            "aaxis": {
             "endlinecolor": "#2a3f5f",
             "gridcolor": "white",
             "linecolor": "white",
             "minorgridcolor": "white",
             "startlinecolor": "#2a3f5f"
            },
            "baxis": {
             "endlinecolor": "#2a3f5f",
             "gridcolor": "white",
             "linecolor": "white",
             "minorgridcolor": "white",
             "startlinecolor": "#2a3f5f"
            },
            "type": "carpet"
           }
          ],
          "choropleth": [
           {
            "colorbar": {
             "outlinewidth": 0,
             "ticks": ""
            },
            "type": "choropleth"
           }
          ],
          "contour": [
           {
            "colorbar": {
             "outlinewidth": 0,
             "ticks": ""
            },
            "colorscale": [
             [
              0,
              "#0d0887"
             ],
             [
              0.1111111111111111,
              "#46039f"
             ],
             [
              0.2222222222222222,
              "#7201a8"
             ],
             [
              0.3333333333333333,
              "#9c179e"
             ],
             [
              0.4444444444444444,
              "#bd3786"
             ],
             [
              0.5555555555555556,
              "#d8576b"
             ],
             [
              0.6666666666666666,
              "#ed7953"
             ],
             [
              0.7777777777777778,
              "#fb9f3a"
             ],
             [
              0.8888888888888888,
              "#fdca26"
             ],
             [
              1,
              "#f0f921"
             ]
            ],
            "type": "contour"
           }
          ],
          "contourcarpet": [
           {
            "colorbar": {
             "outlinewidth": 0,
             "ticks": ""
            },
            "type": "contourcarpet"
           }
          ],
          "heatmap": [
           {
            "colorbar": {
             "outlinewidth": 0,
             "ticks": ""
            },
            "colorscale": [
             [
              0,
              "#0d0887"
             ],
             [
              0.1111111111111111,
              "#46039f"
             ],
             [
              0.2222222222222222,
              "#7201a8"
             ],
             [
              0.3333333333333333,
              "#9c179e"
             ],
             [
              0.4444444444444444,
              "#bd3786"
             ],
             [
              0.5555555555555556,
              "#d8576b"
             ],
             [
              0.6666666666666666,
              "#ed7953"
             ],
             [
              0.7777777777777778,
              "#fb9f3a"
             ],
             [
              0.8888888888888888,
              "#fdca26"
             ],
             [
              1,
              "#f0f921"
             ]
            ],
            "type": "heatmap"
           }
          ],
          "heatmapgl": [
           {
            "colorbar": {
             "outlinewidth": 0,
             "ticks": ""
            },
            "colorscale": [
             [
              0,
              "#0d0887"
             ],
             [
              0.1111111111111111,
              "#46039f"
             ],
             [
              0.2222222222222222,
              "#7201a8"
             ],
             [
              0.3333333333333333,
              "#9c179e"
             ],
             [
              0.4444444444444444,
              "#bd3786"
             ],
             [
              0.5555555555555556,
              "#d8576b"
             ],
             [
              0.6666666666666666,
              "#ed7953"
             ],
             [
              0.7777777777777778,
              "#fb9f3a"
             ],
             [
              0.8888888888888888,
              "#fdca26"
             ],
             [
              1,
              "#f0f921"
             ]
            ],
            "type": "heatmapgl"
           }
          ],
          "histogram": [
           {
            "marker": {
             "pattern": {
              "fillmode": "overlay",
              "size": 10,
              "solidity": 0.2
             }
            },
            "type": "histogram"
           }
          ],
          "histogram2d": [
           {
            "colorbar": {
             "outlinewidth": 0,
             "ticks": ""
            },
            "colorscale": [
             [
              0,
              "#0d0887"
             ],
             [
              0.1111111111111111,
              "#46039f"
             ],
             [
              0.2222222222222222,
              "#7201a8"
             ],
             [
              0.3333333333333333,
              "#9c179e"
             ],
             [
              0.4444444444444444,
              "#bd3786"
             ],
             [
              0.5555555555555556,
              "#d8576b"
             ],
             [
              0.6666666666666666,
              "#ed7953"
             ],
             [
              0.7777777777777778,
              "#fb9f3a"
             ],
             [
              0.8888888888888888,
              "#fdca26"
             ],
             [
              1,
              "#f0f921"
             ]
            ],
            "type": "histogram2d"
           }
          ],
          "histogram2dcontour": [
           {
            "colorbar": {
             "outlinewidth": 0,
             "ticks": ""
            },
            "colorscale": [
             [
              0,
              "#0d0887"
             ],
             [
              0.1111111111111111,
              "#46039f"
             ],
             [
              0.2222222222222222,
              "#7201a8"
             ],
             [
              0.3333333333333333,
              "#9c179e"
             ],
             [
              0.4444444444444444,
              "#bd3786"
             ],
             [
              0.5555555555555556,
              "#d8576b"
             ],
             [
              0.6666666666666666,
              "#ed7953"
             ],
             [
              0.7777777777777778,
              "#fb9f3a"
             ],
             [
              0.8888888888888888,
              "#fdca26"
             ],
             [
              1,
              "#f0f921"
             ]
            ],
            "type": "histogram2dcontour"
           }
          ],
          "mesh3d": [
           {
            "colorbar": {
             "outlinewidth": 0,
             "ticks": ""
            },
            "type": "mesh3d"
           }
          ],
          "parcoords": [
           {
            "line": {
             "colorbar": {
              "outlinewidth": 0,
              "ticks": ""
             }
            },
            "type": "parcoords"
           }
          ],
          "pie": [
           {
            "automargin": true,
            "type": "pie"
           }
          ],
          "scatter": [
           {
            "fillpattern": {
             "fillmode": "overlay",
             "size": 10,
             "solidity": 0.2
            },
            "type": "scatter"
           }
          ],
          "scatter3d": [
           {
            "line": {
             "colorbar": {
              "outlinewidth": 0,
              "ticks": ""
             }
            },
            "marker": {
             "colorbar": {
              "outlinewidth": 0,
              "ticks": ""
             }
            },
            "type": "scatter3d"
           }
          ],
          "scattercarpet": [
           {
            "marker": {
             "colorbar": {
              "outlinewidth": 0,
              "ticks": ""
             }
            },
            "type": "scattercarpet"
           }
          ],
          "scattergeo": [
           {
            "marker": {
             "colorbar": {
              "outlinewidth": 0,
              "ticks": ""
             }
            },
            "type": "scattergeo"
           }
          ],
          "scattergl": [
           {
            "marker": {
             "colorbar": {
              "outlinewidth": 0,
              "ticks": ""
             }
            },
            "type": "scattergl"
           }
          ],
          "scattermapbox": [
           {
            "marker": {
             "colorbar": {
              "outlinewidth": 0,
              "ticks": ""
             }
            },
            "type": "scattermapbox"
           }
          ],
          "scatterpolar": [
           {
            "marker": {
             "colorbar": {
              "outlinewidth": 0,
              "ticks": ""
             }
            },
            "type": "scatterpolar"
           }
          ],
          "scatterpolargl": [
           {
            "marker": {
             "colorbar": {
              "outlinewidth": 0,
              "ticks": ""
             }
            },
            "type": "scatterpolargl"
           }
          ],
          "scatterternary": [
           {
            "marker": {
             "colorbar": {
              "outlinewidth": 0,
              "ticks": ""
             }
            },
            "type": "scatterternary"
           }
          ],
          "surface": [
           {
            "colorbar": {
             "outlinewidth": 0,
             "ticks": ""
            },
            "colorscale": [
             [
              0,
              "#0d0887"
             ],
             [
              0.1111111111111111,
              "#46039f"
             ],
             [
              0.2222222222222222,
              "#7201a8"
             ],
             [
              0.3333333333333333,
              "#9c179e"
             ],
             [
              0.4444444444444444,
              "#bd3786"
             ],
             [
              0.5555555555555556,
              "#d8576b"
             ],
             [
              0.6666666666666666,
              "#ed7953"
             ],
             [
              0.7777777777777778,
              "#fb9f3a"
             ],
             [
              0.8888888888888888,
              "#fdca26"
             ],
             [
              1,
              "#f0f921"
             ]
            ],
            "type": "surface"
           }
          ],
          "table": [
           {
            "cells": {
             "fill": {
              "color": "#EBF0F8"
             },
             "line": {
              "color": "white"
             }
            },
            "header": {
             "fill": {
              "color": "#C8D4E3"
             },
             "line": {
              "color": "white"
             }
            },
            "type": "table"
           }
          ]
         },
         "layout": {
          "annotationdefaults": {
           "arrowcolor": "#2a3f5f",
           "arrowhead": 0,
           "arrowwidth": 1
          },
          "autotypenumbers": "strict",
          "coloraxis": {
           "colorbar": {
            "outlinewidth": 0,
            "ticks": ""
           }
          },
          "colorscale": {
           "diverging": [
            [
             0,
             "#8e0152"
            ],
            [
             0.1,
             "#c51b7d"
            ],
            [
             0.2,
             "#de77ae"
            ],
            [
             0.3,
             "#f1b6da"
            ],
            [
             0.4,
             "#fde0ef"
            ],
            [
             0.5,
             "#f7f7f7"
            ],
            [
             0.6,
             "#e6f5d0"
            ],
            [
             0.7,
             "#b8e186"
            ],
            [
             0.8,
             "#7fbc41"
            ],
            [
             0.9,
             "#4d9221"
            ],
            [
             1,
             "#276419"
            ]
           ],
           "sequential": [
            [
             0,
             "#0d0887"
            ],
            [
             0.1111111111111111,
             "#46039f"
            ],
            [
             0.2222222222222222,
             "#7201a8"
            ],
            [
             0.3333333333333333,
             "#9c179e"
            ],
            [
             0.4444444444444444,
             "#bd3786"
            ],
            [
             0.5555555555555556,
             "#d8576b"
            ],
            [
             0.6666666666666666,
             "#ed7953"
            ],
            [
             0.7777777777777778,
             "#fb9f3a"
            ],
            [
             0.8888888888888888,
             "#fdca26"
            ],
            [
             1,
             "#f0f921"
            ]
           ],
           "sequentialminus": [
            [
             0,
             "#0d0887"
            ],
            [
             0.1111111111111111,
             "#46039f"
            ],
            [
             0.2222222222222222,
             "#7201a8"
            ],
            [
             0.3333333333333333,
             "#9c179e"
            ],
            [
             0.4444444444444444,
             "#bd3786"
            ],
            [
             0.5555555555555556,
             "#d8576b"
            ],
            [
             0.6666666666666666,
             "#ed7953"
            ],
            [
             0.7777777777777778,
             "#fb9f3a"
            ],
            [
             0.8888888888888888,
             "#fdca26"
            ],
            [
             1,
             "#f0f921"
            ]
           ]
          },
          "colorway": [
           "#636efa",
           "#EF553B",
           "#00cc96",
           "#ab63fa",
           "#FFA15A",
           "#19d3f3",
           "#FF6692",
           "#B6E880",
           "#FF97FF",
           "#FECB52"
          ],
          "font": {
           "color": "#2a3f5f"
          },
          "geo": {
           "bgcolor": "white",
           "lakecolor": "white",
           "landcolor": "#E5ECF6",
           "showlakes": true,
           "showland": true,
           "subunitcolor": "white"
          },
          "hoverlabel": {
           "align": "left"
          },
          "hovermode": "closest",
          "mapbox": {
           "style": "light"
          },
          "paper_bgcolor": "white",
          "plot_bgcolor": "#E5ECF6",
          "polar": {
           "angularaxis": {
            "gridcolor": "white",
            "linecolor": "white",
            "ticks": ""
           },
           "bgcolor": "#E5ECF6",
           "radialaxis": {
            "gridcolor": "white",
            "linecolor": "white",
            "ticks": ""
           }
          },
          "scene": {
           "xaxis": {
            "backgroundcolor": "#E5ECF6",
            "gridcolor": "white",
            "gridwidth": 2,
            "linecolor": "white",
            "showbackground": true,
            "ticks": "",
            "zerolinecolor": "white"
           },
           "yaxis": {
            "backgroundcolor": "#E5ECF6",
            "gridcolor": "white",
            "gridwidth": 2,
            "linecolor": "white",
            "showbackground": true,
            "ticks": "",
            "zerolinecolor": "white"
           },
           "zaxis": {
            "backgroundcolor": "#E5ECF6",
            "gridcolor": "white",
            "gridwidth": 2,
            "linecolor": "white",
            "showbackground": true,
            "ticks": "",
            "zerolinecolor": "white"
           }
          },
          "shapedefaults": {
           "line": {
            "color": "#2a3f5f"
           }
          },
          "ternary": {
           "aaxis": {
            "gridcolor": "white",
            "linecolor": "white",
            "ticks": ""
           },
           "baxis": {
            "gridcolor": "white",
            "linecolor": "white",
            "ticks": ""
           },
           "bgcolor": "#E5ECF6",
           "caxis": {
            "gridcolor": "white",
            "linecolor": "white",
            "ticks": ""
           }
          },
          "title": {
           "x": 0.05
          },
          "xaxis": {
           "automargin": true,
           "gridcolor": "white",
           "linecolor": "white",
           "ticks": "",
           "title": {
            "standoff": 15
           },
           "zerolinecolor": "white",
           "zerolinewidth": 2
          },
          "yaxis": {
           "automargin": true,
           "gridcolor": "white",
           "linecolor": "white",
           "ticks": "",
           "title": {
            "standoff": 15
           },
           "zerolinecolor": "white",
           "zerolinewidth": 2
          }
         }
        },
        "title": {
         "text": "Active Ingredient Switching by Medication Group"
        },
        "width": 1000
       }
      }
     },
     "metadata": {},
     "output_type": "display_data"
    }
   ],
   "source": [
    "import plotly.graph_objects as go\n",
    "\n",
    "# create sankey diagram\n",
    "fig = go.Figure(data=[go.Sankey(\n",
    "    arrangement='snap',\n",
    "    node = dict(\n",
    "        #pad = 40,\n",
    "        #thickness = 50,\n",
    "        #line = dict(color = \"black\", width = 0.9),\n",
    "        #label = [\"High\", \"Low\", \"Med 1\", \"Med 2\", \"Med 3\"],\n",
    "        #color = [\"blue\", \"red\", \"green\", \"purple\"]\n",
    "        label = merged_df['MEDICATION_GROUP_1'].unique().tolist() + merged_df['MEDICATION_GROUP_2'].unique().tolist() + merged_df['ACTIVE_INGREDIENT_1'].unique().tolist() + merged_df['ACTIVE_INGREDIENT_2'].unique().tolist(),\n",
    "        color = [\"blue\"] * len(merged_df['MEDICATION_GROUP_1'].unique().tolist()) + [\"blue\"] * len(merged_df['MEDICATION_GROUP_2'].unique().tolist()) \n",
    "        #+ [\"green\"] * len(merged_df['ACTIVE_INGREDIENT_1'].unique().tolist()) + [\"purple\"] * len(merged_df['ACTIVE_INGREDIENT_2'].unique().tolist())\n",
    "    ),\n",
    "    link = dict(\n",
    "        #source = [0, 0, 2, 3, 4],\n",
    "        #target = [2, 3, 4, 4, 1],\n",
    "        #value = [1, 1, 1, 1, 2],\n",
    "        source = merged_df['MEDICATION_GROUP_1'].map(lambda x: merged_df['MEDICATION_GROUP_1'].unique().tolist().index(x)).tolist() + merged_df['ACTIVE_INGREDIENT_1'].map(lambda x: merged_df['ACTIVE_INGREDIENT_1'].unique().tolist().index(x)+len(merged_df['MEDICATION_GROUP_1'].unique().tolist())).tolist(),\n",
    "        target = merged_df['MEDICATION_GROUP_2'].map(lambda x: len(merged_df['MEDICATION_GROUP_1'].unique().tolist()) + merged_df['MEDICATION_GROUP_2'].unique().tolist().index(x)).tolist() + merged_df['ACTIVE_INGREDIENT_2'].map(lambda x: len(merged_df['MEDICATION_GROUP_1'].unique().tolist()) + len(merged_df['MEDICATION_GROUP_2'].unique().tolist()) + merged_df['ACTIVE_INGREDIENT_2'].unique().tolist().index(x)).tolist(),\n",
    "        value = merged_df['count'].tolist(),\n",
    "        customdata = merged_df['active_ingredient_concat_avg_days'].tolist(),\n",
    "        hovertemplate='Count: %{value:.2f}<br>From %{source.label} to %{target.label}<br>From %{customdata}<extra></extra>',\n",
    "    )\n",
    ")])\n",
    "\n",
    "# update layout with title and font\n",
    "fig.update_layout(title_text=\"Active Ingredient Switching by Medication Group\", font=dict(size=12),\n",
    "                  width=1000,\n",
    "                  height=1000,)\n",
    "\n",
    "# display the plot\n",
    "fig.show()\n"
   ]
  },
  {
   "cell_type": "code",
   "execution_count": 135,
   "metadata": {},
   "outputs": [
    {
     "data": {
      "application/vnd.plotly.v1+json": {
       "config": {
        "plotlyServerURL": "https://plot.ly"
       },
       "data": [
        {
         "arrangement": "snap",
         "link": {
          "color": [
           "lightgrey",
           "blue",
           "lightgrey",
           "lightgrey",
           "lightgrey",
           "lightgrey",
           "lightgrey",
           "lightgrey",
           "blue",
           "lightgrey",
           "lightgrey",
           "lightgrey",
           "lightgrey",
           "lightgrey",
           "lightgrey",
           "lightgrey",
           "lightgrey",
           "lightgrey",
           "lightgrey",
           "lightgrey",
           "lightgrey",
           "lightgrey",
           "blue",
           "lightgrey",
           "lightgrey",
           "lightgrey",
           "lightgrey",
           "lightgrey",
           "lightgrey",
           "lightgrey",
           "blue",
           "lightgrey",
           "lightgrey",
           "lightgrey",
           "lightgrey",
           "lightgrey",
           "lightgrey",
           "lightgrey",
           "blue",
           "lightgrey",
           "lightgrey",
           "lightgrey",
           "lightgrey",
           "lightgrey",
           "lightgrey",
           "lightgrey",
           "lightgrey",
           "lightgrey",
           "lightgrey",
           "lightgrey",
           "lightgrey",
           "lightgrey",
           "lightgrey",
           "lightgrey",
           "lightgrey",
           "lightgrey",
           "lightgrey",
           "lightgrey",
           "lightgrey",
           "lightgrey",
           "lightgrey",
           "lightgrey",
           "lightgrey",
           "lightgrey",
           "lightgrey",
           "lightgrey",
           "lightgrey",
           "lightgrey",
           "lightgrey",
           "lightgrey",
           "lightgrey",
           "lightgrey",
           "lightgrey",
           "blue",
           "lightgrey",
           "lightgrey",
           "lightgrey",
           "lightgrey",
           "lightgrey",
           "blue",
           "lightgrey",
           "lightgrey",
           "lightgrey",
           "lightgrey",
           "lightgrey",
           "lightgrey",
           "blue",
           "lightgrey",
           "lightgrey",
           "lightgrey",
           "lightgrey",
           "lightgrey",
           "lightgrey",
           "lightgrey",
           "blue",
           "lightgrey",
           "lightgrey",
           "lightgrey",
           "lightgrey",
           "lightgrey",
           "lightgrey",
           "lightgrey",
           "blue",
           "lightgrey",
           "lightgrey",
           "lightgrey",
           "lightgrey",
           "lightgrey",
           "lightgrey",
           "lightgrey",
           "blue",
           "lightgrey",
           "lightgrey",
           "lightgrey",
           "lightgrey",
           "lightgrey",
           "lightgrey",
           "lightgrey",
           "blue",
           "lightgrey",
           "lightgrey",
           "lightgrey",
           "lightgrey",
           "lightgrey",
           "lightgrey",
           "lightgrey",
           "lightgrey",
           "lightgrey",
           "lightgrey",
           "lightgrey",
           "lightgrey",
           "lightgrey",
           "lightgrey",
           "lightgrey",
           "lightgrey",
           "lightgrey",
           "lightgrey",
           "lightgrey",
           "lightgrey",
           "lightgrey",
           "lightgrey",
           "lightgrey",
           "lightgrey",
           "lightgrey",
           "lightgrey",
           "lightgrey",
           "lightgrey",
           "lightgrey",
           "lightgrey",
           "lightgrey",
           "lightgrey",
           "lightgrey",
           "lightgrey",
           "lightgrey",
           "lightgrey",
           "lightgrey",
           "lightgrey",
           "lightgrey",
           "lightgrey",
           "lightgrey",
           "lightgrey",
           "lightgrey",
           "lightgrey",
           "lightgrey"
          ],
          "customdata": [
           "Cladribin->Fingolimod=684 days",
           "Cladribin->Natalizumab=592 days",
           "Cladribin->Ocrelizumab=448 days",
           "Cladribin->Ofatumumab=560 days",
           "Cladribin->Ozanimod=490 days",
           "Cladribin->Ponesimod=247 days",
           "Cladribin->Siponimod=768 days",
           "Fingolimod->Cladribin=420 days",
           "Fingolimod->Natalizumab=362 days",
           "Fingolimod->Ocrelizumab=443 days",
           "Fingolimod->Ofatumumab=534 days",
           "Fingolimod->Ozanimod=391 days",
           "Fingolimod->Ponesimod=613 days",
           "Fingolimod->Siponimod=427 days",
           "Natalizumab->Cladribin=399 days",
           "Natalizumab->Fingolimod=392 days",
           "Natalizumab->Ocrelizumab=402 days",
           "Natalizumab->Ofatumumab=542 days",
           "Natalizumab->Ozanimod=341 days",
           "Natalizumab->Ponesimod=615 days",
           "Natalizumab->Siponimod=338 days",
           "Ocrelizumab->Cladribin=378 days",
           "Ocrelizumab->Natalizumab=276 days",
           "Ocrelizumab->Ofatumumab=481 days",
           "Ocrelizumab->Ozanimod=682 days",
           "Ocrelizumab->Siponimod=558 days",
           "Ofatumumab->Cladribin=203 days",
           "Ofatumumab->Fingolimod=139 days",
           "Ozanimod->Cladribin=258 days",
           "Ozanimod->Fingolimod=45 days",
           "Ozanimod->Natalizumab=282 days",
           "Ozanimod->Ocrelizumab=381 days",
           "Ozanimod->Ofatumumab=397 days",
           "Ozanimod->Ponesimod=182 days",
           "Ponesimod->Ofatumumab=106 days",
           "Ponesimod->Ozanimod=22 days",
           "Siponimod->Cladribin=450 days",
           "Siponimod->Fingolimod=165 days",
           "Siponimod->Natalizumab=440 days",
           "Siponimod->Ocrelizumab=422 days",
           "Siponimod->Ofatumumab=397 days",
           "Siponimod->Ozanimod=272 days",
           "Siponimod->Ponesimod=564 days",
           "Cladribin->Dimethylfumarat=434 days",
           "Cladribin->Diroximelfumarat=800 days",
           "Fingolimod->Dimethylfumarat=298 days",
           "Fingolimod->Diroximelfumarat=526 days",
           "Fingolimod->Glatirameracetat=505 days",
           "Fingolimod->Interferon beta-1a=323 days",
           "Fingolimod->Interferon beta-1b=503 days",
           "Fingolimod->Peginterferon beta-1a=549 days",
           "Fingolimod->Teriflunomid=305 days",
           "Natalizumab->Dimethylfumarat=299 days",
           "Natalizumab->Diroximelfumarat=477 days",
           "Natalizumab->Glatirameracetat=564 days",
           "Natalizumab->Teriflunomid=358 days",
           "Ocrelizumab->Dimethylfumarat=705 days",
           "Ocrelizumab->Glatirameracetat=237 days",
           "Ocrelizumab->Interferon beta-1a=380 days",
           "Ocrelizumab->Peginterferon beta-1a=218 days",
           "Ofatumumab->Dimethylfumarat=195 days",
           "Ofatumumab->Teriflunomid=174 days",
           "Ozanimod->Dimethylfumarat=210 days",
           "Ozanimod->Glatirameracetat=259 days",
           "Ozanimod->Interferon beta-1b=679 days",
           "Ozanimod->Teriflunomid=108 days",
           "Siponimod->Dimethylfumarat=258 days",
           "Siponimod->Glatirameracetat=94 days",
           "Siponimod->Interferon beta-1a=432 days",
           "Siponimod->Interferon beta-1b=512 days",
           "Siponimod->Teriflunomid=405 days",
           "Dimethylfumarat->Cladribin=410 days",
           "Dimethylfumarat->Fingolimod=257 days",
           "Dimethylfumarat->Natalizumab=322 days",
           "Dimethylfumarat->Ocrelizumab=373 days",
           "Dimethylfumarat->Ofatumumab=505 days",
           "Dimethylfumarat->Ozanimod=350 days",
           "Dimethylfumarat->Ponesimod=487 days",
           "Dimethylfumarat->Siponimod=377 days",
           "Diroximelfumarat->Natalizumab=180 days",
           "Diroximelfumarat->Ocrelizumab=167 days",
           "Diroximelfumarat->Ofatumumab=120 days",
           "Diroximelfumarat->Ozanimod=47 days",
           "Diroximelfumarat->Siponimod=188 days",
           "Glatirameracetat->Cladribin=394 days",
           "Glatirameracetat->Fingolimod=303 days",
           "Glatirameracetat->Natalizumab=316 days",
           "Glatirameracetat->Ocrelizumab=315 days",
           "Glatirameracetat->Ofatumumab=489 days",
           "Glatirameracetat->Ozanimod=390 days",
           "Glatirameracetat->Ponesimod=488 days",
           "Glatirameracetat->Siponimod=431 days",
           "Interferon beta-1a->Cladribin=384 days",
           "Interferon beta-1a->Fingolimod=403 days",
           "Interferon beta-1a->Natalizumab=212 days",
           "Interferon beta-1a->Ocrelizumab=545 days",
           "Interferon beta-1a->Ofatumumab=509 days",
           "Interferon beta-1a->Ozanimod=353 days",
           "Interferon beta-1a->Ponesimod=436 days",
           "Interferon beta-1a->Siponimod=378 days",
           "Interferon beta-1b->Cladribin=399 days",
           "Interferon beta-1b->Fingolimod=401 days",
           "Interferon beta-1b->Natalizumab=438 days",
           "Interferon beta-1b->Ocrelizumab=602 days",
           "Interferon beta-1b->Ofatumumab=557 days",
           "Interferon beta-1b->Ozanimod=397 days",
           "Interferon beta-1b->Ponesimod=457 days",
           "Interferon beta-1b->Siponimod=375 days",
           "Peginterferon beta-1a->Cladribin=401 days",
           "Peginterferon beta-1a->Fingolimod=234 days",
           "Peginterferon beta-1a->Natalizumab=178 days",
           "Peginterferon beta-1a->Ocrelizumab=519 days",
           "Peginterferon beta-1a->Ofatumumab=391 days",
           "Peginterferon beta-1a->Ozanimod=426 days",
           "Peginterferon beta-1a->Ponesimod=522 days",
           "Peginterferon beta-1a->Siponimod=394 days",
           "Teriflunomid->Cladribin=483 days",
           "Teriflunomid->Fingolimod=359 days",
           "Teriflunomid->Natalizumab=376 days",
           "Teriflunomid->Ocrelizumab=456 days",
           "Teriflunomid->Ofatumumab=518 days",
           "Teriflunomid->Ozanimod=381 days",
           "Teriflunomid->Ponesimod=521 days",
           "Teriflunomid->Siponimod=516 days",
           "Dimethylfumarat->Diroximelfumarat=384 days",
           "Dimethylfumarat->Glatirameracetat=199 days",
           "Dimethylfumarat->Interferon beta-1a=151 days",
           "Dimethylfumarat->Interferon beta-1b=109 days",
           "Dimethylfumarat->Peginterferon beta-1a=184 days",
           "Dimethylfumarat->Teriflunomid=246 days",
           "Diroximelfumarat->Dimethylfumarat=140 days",
           "Diroximelfumarat->Glatirameracetat=73 days",
           "Diroximelfumarat->Interferon beta-1a=52 days",
           "Diroximelfumarat->Teriflunomid=139 days",
           "Glatirameracetat->Dimethylfumarat=286 days",
           "Glatirameracetat->Diroximelfumarat=472 days",
           "Glatirameracetat->Interferon beta-1a=221 days",
           "Glatirameracetat->Interferon beta-1b=162 days",
           "Glatirameracetat->Peginterferon beta-1a=203 days",
           "Glatirameracetat->Teriflunomid=306 days",
           "Interferon beta-1a->Dimethylfumarat=322 days",
           "Interferon beta-1a->Diroximelfumarat=503 days",
           "Interferon beta-1a->Glatirameracetat=220 days",
           "Interferon beta-1a->Interferon beta-1b=215 days",
           "Interferon beta-1a->Peginterferon beta-1a=328 days",
           "Interferon beta-1a->Teriflunomid=367 days",
           "Interferon beta-1b->Dimethylfumarat=329 days",
           "Interferon beta-1b->Diroximelfumarat=340 days",
           "Interferon beta-1b->Glatirameracetat=198 days",
           "Interferon beta-1b->Interferon beta-1a=306 days",
           "Interferon beta-1b->Peginterferon beta-1a=274 days",
           "Interferon beta-1b->Teriflunomid=349 days",
           "Peginterferon beta-1a->Dimethylfumarat=330 days",
           "Peginterferon beta-1a->Diroximelfumarat=423 days",
           "Peginterferon beta-1a->Glatirameracetat=201 days",
           "Peginterferon beta-1a->Interferon beta-1a=318 days",
           "Peginterferon beta-1a->Interferon beta-1b=313 days",
           "Peginterferon beta-1a->Teriflunomid=279 days",
           "Teriflunomid->Dimethylfumarat=264 days",
           "Teriflunomid->Diroximelfumarat=289 days",
           "Teriflunomid->Glatirameracetat=217 days",
           "Teriflunomid->Interferon beta-1a=214 days",
           "Teriflunomid->Interferon beta-1b=234 days",
           "Teriflunomid->Peginterferon beta-1a=204 days"
          ],
          "hovertemplate": "Count: %{value:.2f}<br>From %{source.label} to %{target.label}<br>From %{customdata}<extra></extra>",
          "source": [
           0,
           0,
           0,
           0,
           0,
           0,
           0,
           0,
           0,
           0,
           0,
           0,
           0,
           0,
           0,
           0,
           0,
           0,
           0,
           0,
           0,
           0,
           0,
           0,
           0,
           0,
           0,
           0,
           0,
           0,
           0,
           0,
           0,
           0,
           0,
           0,
           0,
           0,
           0,
           0,
           0,
           0,
           0,
           0,
           0,
           0,
           0,
           0,
           0,
           0,
           0,
           0,
           0,
           0,
           0,
           0,
           0,
           0,
           0,
           0,
           0,
           0,
           0,
           0,
           0,
           0,
           0,
           0,
           0,
           0,
           0,
           1,
           1,
           1,
           1,
           1,
           1,
           1,
           1,
           1,
           1,
           1,
           1,
           1,
           1,
           1,
           1,
           1,
           1,
           1,
           1,
           1,
           1,
           1,
           1,
           1,
           1,
           1,
           1,
           1,
           1,
           1,
           1,
           1,
           1,
           1,
           1,
           1,
           1,
           1,
           1,
           1,
           1,
           1,
           1,
           1,
           1,
           1,
           1,
           1,
           1,
           1,
           1,
           1,
           1,
           1,
           1,
           1,
           1,
           1,
           1,
           1,
           1,
           1,
           1,
           1,
           1,
           1,
           1,
           1,
           1,
           1,
           1,
           1,
           1,
           1,
           1,
           1,
           1,
           1,
           1,
           1,
           1,
           1,
           1,
           1,
           1,
           1,
           1,
           1,
           1,
           1,
           1,
           1,
           2,
           2,
           2,
           2,
           2,
           2,
           2,
           3,
           3,
           3,
           3,
           3,
           3,
           3,
           4,
           4,
           4,
           4,
           4,
           4,
           4,
           5,
           5,
           5,
           5,
           5,
           6,
           6,
           7,
           7,
           7,
           7,
           7,
           7,
           8,
           8,
           9,
           9,
           9,
           9,
           9,
           9,
           9,
           2,
           2,
           3,
           3,
           3,
           3,
           3,
           3,
           3,
           4,
           4,
           4,
           4,
           5,
           5,
           5,
           5,
           6,
           6,
           7,
           7,
           7,
           7,
           9,
           9,
           9,
           9,
           9,
           10,
           10,
           10,
           10,
           10,
           10,
           10,
           10,
           11,
           11,
           11,
           11,
           11,
           12,
           12,
           12,
           12,
           12,
           12,
           12,
           12,
           13,
           13,
           13,
           13,
           13,
           13,
           13,
           13,
           14,
           14,
           14,
           14,
           14,
           14,
           14,
           14,
           15,
           15,
           15,
           15,
           15,
           15,
           15,
           15,
           16,
           16,
           16,
           16,
           16,
           16,
           16,
           16,
           10,
           10,
           10,
           10,
           10,
           10,
           11,
           11,
           11,
           11,
           12,
           12,
           12,
           12,
           12,
           12,
           13,
           13,
           13,
           13,
           13,
           13,
           14,
           14,
           14,
           14,
           14,
           14,
           15,
           15,
           15,
           15,
           15,
           15,
           16,
           16,
           16,
           16,
           16,
           16
          ],
          "target": [
           2,
           2,
           2,
           2,
           2,
           2,
           2,
           2,
           2,
           2,
           2,
           2,
           2,
           2,
           2,
           2,
           2,
           2,
           2,
           2,
           2,
           2,
           2,
           2,
           2,
           2,
           2,
           2,
           2,
           2,
           2,
           2,
           2,
           2,
           2,
           2,
           2,
           2,
           2,
           2,
           2,
           2,
           2,
           3,
           3,
           3,
           3,
           3,
           3,
           3,
           3,
           3,
           3,
           3,
           3,
           3,
           3,
           3,
           3,
           3,
           3,
           3,
           3,
           3,
           3,
           3,
           3,
           3,
           3,
           3,
           3,
           2,
           2,
           2,
           2,
           2,
           2,
           2,
           2,
           2,
           2,
           2,
           2,
           2,
           2,
           2,
           2,
           2,
           2,
           2,
           2,
           2,
           2,
           2,
           2,
           2,
           2,
           2,
           2,
           2,
           2,
           2,
           2,
           2,
           2,
           2,
           2,
           2,
           2,
           2,
           2,
           2,
           2,
           2,
           2,
           2,
           2,
           2,
           2,
           2,
           2,
           2,
           2,
           2,
           3,
           3,
           3,
           3,
           3,
           3,
           3,
           3,
           3,
           3,
           3,
           3,
           3,
           3,
           3,
           3,
           3,
           3,
           3,
           3,
           3,
           3,
           3,
           3,
           3,
           3,
           3,
           3,
           3,
           3,
           3,
           3,
           3,
           3,
           3,
           3,
           3,
           3,
           3,
           3,
           4,
           5,
           6,
           7,
           8,
           9,
           10,
           11,
           5,
           6,
           7,
           8,
           9,
           10,
           11,
           4,
           6,
           7,
           8,
           9,
           10,
           11,
           5,
           7,
           8,
           10,
           11,
           4,
           11,
           4,
           5,
           6,
           7,
           9,
           7,
           8,
           11,
           4,
           5,
           6,
           7,
           8,
           9,
           12,
           13,
           12,
           13,
           14,
           15,
           16,
           17,
           18,
           12,
           13,
           14,
           18,
           12,
           14,
           15,
           17,
           12,
           18,
           12,
           14,
           16,
           18,
           12,
           14,
           15,
           16,
           18,
           11,
           4,
           5,
           6,
           7,
           8,
           9,
           10,
           5,
           6,
           7,
           8,
           10,
           11,
           4,
           5,
           6,
           7,
           8,
           9,
           10,
           11,
           4,
           5,
           6,
           7,
           8,
           9,
           10,
           11,
           4,
           5,
           6,
           7,
           8,
           9,
           10,
           11,
           4,
           5,
           6,
           7,
           8,
           9,
           10,
           11,
           4,
           5,
           6,
           7,
           8,
           9,
           10,
           13,
           14,
           15,
           16,
           17,
           18,
           12,
           14,
           15,
           18,
           12,
           13,
           15,
           16,
           17,
           18,
           12,
           13,
           14,
           16,
           17,
           18,
           12,
           13,
           14,
           15,
           17,
           18,
           12,
           13,
           14,
           15,
           16,
           18,
           12,
           13,
           14,
           15,
           16,
           17
          ],
          "value": [
           1,
           3,
           12,
           12,
           3,
           1,
           2,
           25,
           30,
           23,
           47,
           32,
           3,
           35,
           24,
           5,
           55,
           34,
           4,
           4,
           7,
           1,
           9,
           29,
           3,
           8,
           1,
           1,
           3,
           2,
           6,
           4,
           15,
           1,
           1,
           1,
           5,
           2,
           1,
           11,
           18,
           2,
           1,
           2,
           1,
           20,
           3,
           10,
           4,
           1,
           3,
           6,
           5,
           3,
           3,
           3,
           1,
           1,
           2,
           1,
           2,
           1,
           5,
           5,
           1,
           4,
           4,
           1,
           1,
           3,
           4,
           86,
           59,
           75,
           70,
           122,
           98,
           22,
           37,
           1,
           1,
           4,
           1,
           1,
           84,
           49,
           71,
           30,
           94,
           68,
           17,
           22,
           31,
           25,
           11,
           9,
           24,
           22,
           6,
           12,
           10,
           10,
           11,
           1,
           11,
           13,
           3,
           14,
           15,
           4,
           6,
           4,
           17,
           17,
           3,
           3,
           57,
           30,
           30,
           31,
           66,
           59,
           19,
           21,
           307,
           144,
           39,
           21,
           45,
           215,
           5,
           9,
           2,
           3,
           323,
           47,
           60,
           25,
           46,
           187,
           107,
           25,
           51,
           1,
           36,
           89,
           62,
           5,
           28,
           10,
           29,
           36,
           70,
           22,
           42,
           13,
           8,
           36,
           93,
           25,
           49,
           11,
           2,
           7
          ]
         },
         "node": {
          "color": [
           "lightsteelblue",
           "lightsteelblue",
           "lightsteelblue",
           "lightsteelblue"
          ],
          "label": [
           "Highly-active",
           "Mild/Moderate",
           "Highly-active",
           "Mild/Moderate",
           "Cladribin",
           "Fingolimod",
           "Natalizumab",
           "Ocrelizumab",
           "Ofatumumab",
           "Ozanimod",
           "Ponesimod",
           "Siponimod",
           "Dimethylfumarat",
           "Diroximelfumarat",
           "Glatirameracetat",
           "Interferon beta-1a",
           "Interferon beta-1b",
           "Peginterferon beta-1a",
           "Teriflunomid",
           "Fingolimod",
           "Natalizumab",
           "Ocrelizumab",
           "Ofatumumab",
           "Ozanimod",
           "Ponesimod",
           "Siponimod",
           "Cladribin",
           "Dimethylfumarat",
           "Diroximelfumarat",
           "Glatirameracetat",
           "Interferon beta-1a",
           "Interferon beta-1b",
           "Peginterferon beta-1a",
           "Teriflunomid"
          ]
         },
         "type": "sankey"
        }
       ],
       "layout": {
        "font": {
         "size": 12
        },
        "height": 1000,
        "template": {
         "data": {
          "bar": [
           {
            "error_x": {
             "color": "#2a3f5f"
            },
            "error_y": {
             "color": "#2a3f5f"
            },
            "marker": {
             "line": {
              "color": "#E5ECF6",
              "width": 0.5
             },
             "pattern": {
              "fillmode": "overlay",
              "size": 10,
              "solidity": 0.2
             }
            },
            "type": "bar"
           }
          ],
          "barpolar": [
           {
            "marker": {
             "line": {
              "color": "#E5ECF6",
              "width": 0.5
             },
             "pattern": {
              "fillmode": "overlay",
              "size": 10,
              "solidity": 0.2
             }
            },
            "type": "barpolar"
           }
          ],
          "carpet": [
           {
            "aaxis": {
             "endlinecolor": "#2a3f5f",
             "gridcolor": "white",
             "linecolor": "white",
             "minorgridcolor": "white",
             "startlinecolor": "#2a3f5f"
            },
            "baxis": {
             "endlinecolor": "#2a3f5f",
             "gridcolor": "white",
             "linecolor": "white",
             "minorgridcolor": "white",
             "startlinecolor": "#2a3f5f"
            },
            "type": "carpet"
           }
          ],
          "choropleth": [
           {
            "colorbar": {
             "outlinewidth": 0,
             "ticks": ""
            },
            "type": "choropleth"
           }
          ],
          "contour": [
           {
            "colorbar": {
             "outlinewidth": 0,
             "ticks": ""
            },
            "colorscale": [
             [
              0,
              "#0d0887"
             ],
             [
              0.1111111111111111,
              "#46039f"
             ],
             [
              0.2222222222222222,
              "#7201a8"
             ],
             [
              0.3333333333333333,
              "#9c179e"
             ],
             [
              0.4444444444444444,
              "#bd3786"
             ],
             [
              0.5555555555555556,
              "#d8576b"
             ],
             [
              0.6666666666666666,
              "#ed7953"
             ],
             [
              0.7777777777777778,
              "#fb9f3a"
             ],
             [
              0.8888888888888888,
              "#fdca26"
             ],
             [
              1,
              "#f0f921"
             ]
            ],
            "type": "contour"
           }
          ],
          "contourcarpet": [
           {
            "colorbar": {
             "outlinewidth": 0,
             "ticks": ""
            },
            "type": "contourcarpet"
           }
          ],
          "heatmap": [
           {
            "colorbar": {
             "outlinewidth": 0,
             "ticks": ""
            },
            "colorscale": [
             [
              0,
              "#0d0887"
             ],
             [
              0.1111111111111111,
              "#46039f"
             ],
             [
              0.2222222222222222,
              "#7201a8"
             ],
             [
              0.3333333333333333,
              "#9c179e"
             ],
             [
              0.4444444444444444,
              "#bd3786"
             ],
             [
              0.5555555555555556,
              "#d8576b"
             ],
             [
              0.6666666666666666,
              "#ed7953"
             ],
             [
              0.7777777777777778,
              "#fb9f3a"
             ],
             [
              0.8888888888888888,
              "#fdca26"
             ],
             [
              1,
              "#f0f921"
             ]
            ],
            "type": "heatmap"
           }
          ],
          "heatmapgl": [
           {
            "colorbar": {
             "outlinewidth": 0,
             "ticks": ""
            },
            "colorscale": [
             [
              0,
              "#0d0887"
             ],
             [
              0.1111111111111111,
              "#46039f"
             ],
             [
              0.2222222222222222,
              "#7201a8"
             ],
             [
              0.3333333333333333,
              "#9c179e"
             ],
             [
              0.4444444444444444,
              "#bd3786"
             ],
             [
              0.5555555555555556,
              "#d8576b"
             ],
             [
              0.6666666666666666,
              "#ed7953"
             ],
             [
              0.7777777777777778,
              "#fb9f3a"
             ],
             [
              0.8888888888888888,
              "#fdca26"
             ],
             [
              1,
              "#f0f921"
             ]
            ],
            "type": "heatmapgl"
           }
          ],
          "histogram": [
           {
            "marker": {
             "pattern": {
              "fillmode": "overlay",
              "size": 10,
              "solidity": 0.2
             }
            },
            "type": "histogram"
           }
          ],
          "histogram2d": [
           {
            "colorbar": {
             "outlinewidth": 0,
             "ticks": ""
            },
            "colorscale": [
             [
              0,
              "#0d0887"
             ],
             [
              0.1111111111111111,
              "#46039f"
             ],
             [
              0.2222222222222222,
              "#7201a8"
             ],
             [
              0.3333333333333333,
              "#9c179e"
             ],
             [
              0.4444444444444444,
              "#bd3786"
             ],
             [
              0.5555555555555556,
              "#d8576b"
             ],
             [
              0.6666666666666666,
              "#ed7953"
             ],
             [
              0.7777777777777778,
              "#fb9f3a"
             ],
             [
              0.8888888888888888,
              "#fdca26"
             ],
             [
              1,
              "#f0f921"
             ]
            ],
            "type": "histogram2d"
           }
          ],
          "histogram2dcontour": [
           {
            "colorbar": {
             "outlinewidth": 0,
             "ticks": ""
            },
            "colorscale": [
             [
              0,
              "#0d0887"
             ],
             [
              0.1111111111111111,
              "#46039f"
             ],
             [
              0.2222222222222222,
              "#7201a8"
             ],
             [
              0.3333333333333333,
              "#9c179e"
             ],
             [
              0.4444444444444444,
              "#bd3786"
             ],
             [
              0.5555555555555556,
              "#d8576b"
             ],
             [
              0.6666666666666666,
              "#ed7953"
             ],
             [
              0.7777777777777778,
              "#fb9f3a"
             ],
             [
              0.8888888888888888,
              "#fdca26"
             ],
             [
              1,
              "#f0f921"
             ]
            ],
            "type": "histogram2dcontour"
           }
          ],
          "mesh3d": [
           {
            "colorbar": {
             "outlinewidth": 0,
             "ticks": ""
            },
            "type": "mesh3d"
           }
          ],
          "parcoords": [
           {
            "line": {
             "colorbar": {
              "outlinewidth": 0,
              "ticks": ""
             }
            },
            "type": "parcoords"
           }
          ],
          "pie": [
           {
            "automargin": true,
            "type": "pie"
           }
          ],
          "scatter": [
           {
            "fillpattern": {
             "fillmode": "overlay",
             "size": 10,
             "solidity": 0.2
            },
            "type": "scatter"
           }
          ],
          "scatter3d": [
           {
            "line": {
             "colorbar": {
              "outlinewidth": 0,
              "ticks": ""
             }
            },
            "marker": {
             "colorbar": {
              "outlinewidth": 0,
              "ticks": ""
             }
            },
            "type": "scatter3d"
           }
          ],
          "scattercarpet": [
           {
            "marker": {
             "colorbar": {
              "outlinewidth": 0,
              "ticks": ""
             }
            },
            "type": "scattercarpet"
           }
          ],
          "scattergeo": [
           {
            "marker": {
             "colorbar": {
              "outlinewidth": 0,
              "ticks": ""
             }
            },
            "type": "scattergeo"
           }
          ],
          "scattergl": [
           {
            "marker": {
             "colorbar": {
              "outlinewidth": 0,
              "ticks": ""
             }
            },
            "type": "scattergl"
           }
          ],
          "scattermapbox": [
           {
            "marker": {
             "colorbar": {
              "outlinewidth": 0,
              "ticks": ""
             }
            },
            "type": "scattermapbox"
           }
          ],
          "scatterpolar": [
           {
            "marker": {
             "colorbar": {
              "outlinewidth": 0,
              "ticks": ""
             }
            },
            "type": "scatterpolar"
           }
          ],
          "scatterpolargl": [
           {
            "marker": {
             "colorbar": {
              "outlinewidth": 0,
              "ticks": ""
             }
            },
            "type": "scatterpolargl"
           }
          ],
          "scatterternary": [
           {
            "marker": {
             "colorbar": {
              "outlinewidth": 0,
              "ticks": ""
             }
            },
            "type": "scatterternary"
           }
          ],
          "surface": [
           {
            "colorbar": {
             "outlinewidth": 0,
             "ticks": ""
            },
            "colorscale": [
             [
              0,
              "#0d0887"
             ],
             [
              0.1111111111111111,
              "#46039f"
             ],
             [
              0.2222222222222222,
              "#7201a8"
             ],
             [
              0.3333333333333333,
              "#9c179e"
             ],
             [
              0.4444444444444444,
              "#bd3786"
             ],
             [
              0.5555555555555556,
              "#d8576b"
             ],
             [
              0.6666666666666666,
              "#ed7953"
             ],
             [
              0.7777777777777778,
              "#fb9f3a"
             ],
             [
              0.8888888888888888,
              "#fdca26"
             ],
             [
              1,
              "#f0f921"
             ]
            ],
            "type": "surface"
           }
          ],
          "table": [
           {
            "cells": {
             "fill": {
              "color": "#EBF0F8"
             },
             "line": {
              "color": "white"
             }
            },
            "header": {
             "fill": {
              "color": "#C8D4E3"
             },
             "line": {
              "color": "white"
             }
            },
            "type": "table"
           }
          ]
         },
         "layout": {
          "annotationdefaults": {
           "arrowcolor": "#2a3f5f",
           "arrowhead": 0,
           "arrowwidth": 1
          },
          "autotypenumbers": "strict",
          "coloraxis": {
           "colorbar": {
            "outlinewidth": 0,
            "ticks": ""
           }
          },
          "colorscale": {
           "diverging": [
            [
             0,
             "#8e0152"
            ],
            [
             0.1,
             "#c51b7d"
            ],
            [
             0.2,
             "#de77ae"
            ],
            [
             0.3,
             "#f1b6da"
            ],
            [
             0.4,
             "#fde0ef"
            ],
            [
             0.5,
             "#f7f7f7"
            ],
            [
             0.6,
             "#e6f5d0"
            ],
            [
             0.7,
             "#b8e186"
            ],
            [
             0.8,
             "#7fbc41"
            ],
            [
             0.9,
             "#4d9221"
            ],
            [
             1,
             "#276419"
            ]
           ],
           "sequential": [
            [
             0,
             "#0d0887"
            ],
            [
             0.1111111111111111,
             "#46039f"
            ],
            [
             0.2222222222222222,
             "#7201a8"
            ],
            [
             0.3333333333333333,
             "#9c179e"
            ],
            [
             0.4444444444444444,
             "#bd3786"
            ],
            [
             0.5555555555555556,
             "#d8576b"
            ],
            [
             0.6666666666666666,
             "#ed7953"
            ],
            [
             0.7777777777777778,
             "#fb9f3a"
            ],
            [
             0.8888888888888888,
             "#fdca26"
            ],
            [
             1,
             "#f0f921"
            ]
           ],
           "sequentialminus": [
            [
             0,
             "#0d0887"
            ],
            [
             0.1111111111111111,
             "#46039f"
            ],
            [
             0.2222222222222222,
             "#7201a8"
            ],
            [
             0.3333333333333333,
             "#9c179e"
            ],
            [
             0.4444444444444444,
             "#bd3786"
            ],
            [
             0.5555555555555556,
             "#d8576b"
            ],
            [
             0.6666666666666666,
             "#ed7953"
            ],
            [
             0.7777777777777778,
             "#fb9f3a"
            ],
            [
             0.8888888888888888,
             "#fdca26"
            ],
            [
             1,
             "#f0f921"
            ]
           ]
          },
          "colorway": [
           "#636efa",
           "#EF553B",
           "#00cc96",
           "#ab63fa",
           "#FFA15A",
           "#19d3f3",
           "#FF6692",
           "#B6E880",
           "#FF97FF",
           "#FECB52"
          ],
          "font": {
           "color": "#2a3f5f"
          },
          "geo": {
           "bgcolor": "white",
           "lakecolor": "white",
           "landcolor": "#E5ECF6",
           "showlakes": true,
           "showland": true,
           "subunitcolor": "white"
          },
          "hoverlabel": {
           "align": "left"
          },
          "hovermode": "closest",
          "mapbox": {
           "style": "light"
          },
          "paper_bgcolor": "white",
          "plot_bgcolor": "#E5ECF6",
          "polar": {
           "angularaxis": {
            "gridcolor": "white",
            "linecolor": "white",
            "ticks": ""
           },
           "bgcolor": "#E5ECF6",
           "radialaxis": {
            "gridcolor": "white",
            "linecolor": "white",
            "ticks": ""
           }
          },
          "scene": {
           "xaxis": {
            "backgroundcolor": "#E5ECF6",
            "gridcolor": "white",
            "gridwidth": 2,
            "linecolor": "white",
            "showbackground": true,
            "ticks": "",
            "zerolinecolor": "white"
           },
           "yaxis": {
            "backgroundcolor": "#E5ECF6",
            "gridcolor": "white",
            "gridwidth": 2,
            "linecolor": "white",
            "showbackground": true,
            "ticks": "",
            "zerolinecolor": "white"
           },
           "zaxis": {
            "backgroundcolor": "#E5ECF6",
            "gridcolor": "white",
            "gridwidth": 2,
            "linecolor": "white",
            "showbackground": true,
            "ticks": "",
            "zerolinecolor": "white"
           }
          },
          "shapedefaults": {
           "line": {
            "color": "#2a3f5f"
           }
          },
          "ternary": {
           "aaxis": {
            "gridcolor": "white",
            "linecolor": "white",
            "ticks": ""
           },
           "baxis": {
            "gridcolor": "white",
            "linecolor": "white",
            "ticks": ""
           },
           "bgcolor": "#E5ECF6",
           "caxis": {
            "gridcolor": "white",
            "linecolor": "white",
            "ticks": ""
           }
          },
          "title": {
           "x": 0.05
          },
          "xaxis": {
           "automargin": true,
           "gridcolor": "white",
           "linecolor": "white",
           "ticks": "",
           "title": {
            "standoff": 15
           },
           "zerolinecolor": "white",
           "zerolinewidth": 2
          },
          "yaxis": {
           "automargin": true,
           "gridcolor": "white",
           "linecolor": "white",
           "ticks": "",
           "title": {
            "standoff": 15
           },
           "zerolinecolor": "white",
           "zerolinewidth": 2
          }
         }
        },
        "title": {
         "text": "Active Ingredient Switching by Medication Group and Active Ingredient"
        },
        "width": 1000
       }
      }
     },
     "metadata": {},
     "output_type": "display_data"
    }
   ],
   "source": [
    "import plotly.graph_objects as go\n",
    "\n",
    "# create sankey diagram\n",
    "fig = go.Figure(data=[go.Sankey(\n",
    "    arrangement='snap',\n",
    "    node=dict(\n",
    "        label=merged_df['MEDICATION_GROUP_1'].unique().tolist() + merged_df['MEDICATION_GROUP_2'].unique().tolist() + merged_df['ACTIVE_INGREDIENT_1'].unique().tolist() + merged_df['ACTIVE_INGREDIENT_2'].unique().tolist(),\n",
    "                color = [\"lightsteelblue\"] * len(merged_df['MEDICATION_GROUP_1'].unique().tolist()) + [\"lightsteelblue\"] * len(merged_df['MEDICATION_GROUP_2'].unique().tolist()) \n",
    "    ),\n",
    "    link=dict(\n",
    "        source=merged_df['MEDICATION_GROUP_1'].map(lambda x: merged_df['MEDICATION_GROUP_1'].unique().tolist().index(x)).tolist() + merged_df['ACTIVE_INGREDIENT_1'].map(lambda x: merged_df['ACTIVE_INGREDIENT_1'].unique().tolist().index(x)+len(merged_df['MEDICATION_GROUP_1'].unique().tolist())).tolist(),\n",
    "        target=merged_df['MEDICATION_GROUP_2'].map(lambda x: len(merged_df['MEDICATION_GROUP_1'].unique().tolist()) + merged_df['MEDICATION_GROUP_2'].unique().tolist().index(x)).tolist() + merged_df['ACTIVE_INGREDIENT_2'].map(lambda x: len(merged_df['MEDICATION_GROUP_1'].unique().tolist()) + len(merged_df['MEDICATION_GROUP_2'].unique().tolist()) + merged_df['ACTIVE_INGREDIENT_2'].unique().tolist().index(x)).tolist(),\n",
    "        value=merged_df['count'].tolist(),\n",
    "        customdata=merged_df['active_ingredient_concat_avg_days'].tolist(),\n",
    "        hovertemplate='Count: %{value:.2f}<br>From %{source.label} to %{target.label}<br>From %{customdata}<extra></extra>',\n",
    "        color=[ 'blue' if merged_df['ACTIVE_INGREDIENT_2'][i] == 'Natalizumab' else 'lightgrey' for i in range(len(merged_df))]\n",
    "    )\n",
    ")])\n",
    "\n",
    "# update layout with title and font\n",
    "fig.update_layout(\n",
    "    title_text=\"Active Ingredient Switching by Medication Group and Active Ingredient\", \n",
    "    font=dict(size=12),\n",
    "    width=1000,\n",
    "    height=1000,\n",
    ")\n",
    "\n",
    "# display the plot\n",
    "fig.show()\n"
   ]
  }
 ],
 "metadata": {
  "kernelspec": {
   "display_name": "venv",
   "language": "python",
   "name": "python3"
  },
  "language_info": {
   "codemirror_mode": {
    "name": "ipython",
    "version": 3
   },
   "file_extension": ".py",
   "mimetype": "text/x-python",
   "name": "python",
   "nbconvert_exporter": "python",
   "pygments_lexer": "ipython3",
   "version": "3.10.11"
  },
  "orig_nbformat": 4,
  "vscode": {
   "interpreter": {
    "hash": "28906f1197d058eb7ef5513162c0755cdfbc1bb09e85d2d15977375433a3dc7b"
   }
  }
 },
 "nbformat": 4,
 "nbformat_minor": 2
}
